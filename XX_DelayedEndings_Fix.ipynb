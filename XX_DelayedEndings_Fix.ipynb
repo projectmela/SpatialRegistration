{
 "cells": [
  {
   "cell_type": "code",
   "execution_count": 1,
   "id": "27296928",
   "metadata": {},
   "outputs": [],
   "source": [
    "import numpy as np\n",
    "import pandas as pd\n",
    "import glob"
   ]
  },
  {
   "cell_type": "code",
   "execution_count": 2,
   "id": "167e2ee8",
   "metadata": {},
   "outputs": [],
   "source": [
    "DATE = ['20230302', '20230302', '20230302', '20230302', '20230302', '20230302', '20230302', '20230306', '20230309', '20230310']\n",
    "SESSION = ['SM_Lek1', 'SM_Lek1', 'SM_Lek1', 'SM_Lek1', 'SE_Lek1', 'SE_Lek1', 'SE_Lek1', 'SE_Lek1', 'SM_Lek1', 'SM_Lek1']\n",
    "DRONE = ['P1D1', 'P2D4', 'P3D5', 'P3D6', 'P1D1', 'P1D2', 'P3D5', 'P2D4', 'P3D5', 'P3D5']\n",
    "VIDEOS = ['0874', '0573', '0152', '0545', '0885', '0672', '0163', '0707', '0396', '0432']\n",
    "END_FRAMES = [505,4795,2325,3845,235,3060,1400,5100,2565,3170]\n",
    "\n",
    "tracking_directory = '/Volumes/EAS_shared/blackbuck/working/processed/Field_Recording_2023/SpatialRegistration'"
   ]
  },
  {
   "cell_type": "code",
   "execution_count": 3,
   "id": "50019956",
   "metadata": {},
   "outputs": [],
   "source": [
    "for date,session,drone,video,end_frame in zip(DATE,SESSION,DRONE,VIDEOS,END_FRAMES):\n",
    "    internal_path = tracking_directory + '/' + date + '/' + session + '/' + drone\n",
    "    file = internal_path + '/' + date + '_' + session + '_' + drone + '_DJI_' + video + '_YOLO_tracked.csv'\n",
    "    \n",
    "    df = pd.read_csv(file)\n",
    "    df = df.loc[df['frame'] <= end_frame,:].reset_index(drop=True)\n",
    "    df.to_csv(file, index=False)"
   ]
  },
  {
   "cell_type": "code",
   "execution_count": null,
   "id": "cb0e25ee",
   "metadata": {},
   "outputs": [],
   "source": []
  }
 ],
 "metadata": {
  "kernelspec": {
   "display_name": "Python 3 (ipykernel)",
   "language": "python",
   "name": "python3"
  },
  "language_info": {
   "codemirror_mode": {
    "name": "ipython",
    "version": 3
   },
   "file_extension": ".py",
   "mimetype": "text/x-python",
   "name": "python",
   "nbconvert_exporter": "python",
   "pygments_lexer": "ipython3",
   "version": "3.8.15"
  }
 },
 "nbformat": 4,
 "nbformat_minor": 5
}
