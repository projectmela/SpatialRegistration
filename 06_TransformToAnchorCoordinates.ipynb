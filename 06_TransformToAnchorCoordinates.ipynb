{
 "cells": [
  {
   "cell_type": "code",
   "execution_count": 1,
   "id": "d30fac07",
   "metadata": {},
   "outputs": [],
   "source": [
    "import numpy as np\n",
    "import pandas as pd\n",
    "import matplotlib.pyplot as plt\n",
    "import seaborn as sns\n",
    "\n",
    "import os\n",
    "import glob\n",
    "import pickle\n",
    "import helper_functions_06b as hf"
   ]
  },
  {
   "cell_type": "code",
   "execution_count": 2,
   "id": "973efc85",
   "metadata": {},
   "outputs": [],
   "source": [
    "DATE = ['20230311']#, '20230305']\n",
    "SESSION = ['SE_Lek1']#, 'SE_Lek1']\n",
    "DRONE = ['P1D1']#, 'P2D4', 'P3D5', 'P3D6']\n",
    "\n",
    "tracking_directory = '/Volumes/EAS_shared/blackbuck/working/processed/Field_Recording_2023/SpatialRegistration'"
   ]
  },
  {
   "cell_type": "code",
   "execution_count": 3,
   "id": "b85a37b5",
   "metadata": {},
   "outputs": [],
   "source": [
    "# Thresholds for translation, rotation, and scale\n",
    "thresholds = {\n",
    "    'T_translation': 30,  # e.g., 30 pixels\n",
    "    'T_rotation': 20,     # e.g., 20 degrees\n",
    "    'T_scale': 0.1         # e.g., 10% change\n",
    "}"
   ]
  },
  {
   "cell_type": "code",
   "execution_count": 4,
   "id": "ceb5c2d5",
   "metadata": {
    "scrolled": false
   },
   "outputs": [
    {
     "name": "stdout",
     "output_type": "stream",
     "text": [
      "20230311 SE_Lek1 P1D1 20230311_SE_Lek1_P1D1_DJI_0229_YOLO_tracked.csv\n",
      "Initial identification of anchors takes  23.844830989837646\n",
      "Finding the best anchors took 325.3493890762329\n",
      "Applying homography to the best anchors takes  182.97860097885132\n",
      "20230311 SE_Lek1 P1D1 20230311_SE_Lek1_P1D1_DJI_0230_YOLO_tracked.csv\n",
      "Initial identification of anchors takes  25.628989219665527\n",
      "Finding the best anchors took 330.18655705451965\n",
      "Applying homography to the best anchors takes  221.73514819145203\n",
      "20230311 SE_Lek1 P1D1 20230311_SE_Lek1_P1D1_DJI_0231_YOLO_tracked.csv\n",
      "Initial identification of anchors takes  32.021151065826416\n",
      "Finding the best anchors took 512.8644139766693\n",
      "Applying homography to the best anchors takes  250.29593300819397\n",
      "20230311 SE_Lek1 P1D1 20230311_SE_Lek1_P1D1_DJI_0232_YOLO_tracked.csv\n",
      "Initial identification of anchors takes  28.440222024917603\n",
      "Finding the best anchors took 299.23716592788696\n",
      "Applying homography to the best anchors takes  219.2483389377594\n",
      "20230311 SE_Lek1 P1D1 20230311_SE_Lek1_P1D1_DJI_0233_YOLO_tracked.csv\n",
      "Initial identification of anchors takes  23.675398111343384\n",
      "Finding the best anchors took 1164.4462940692902\n",
      "Applying homography to the best anchors takes  231.58881998062134\n",
      "20230311 SE_Lek1 P1D1 20230311_SE_Lek1_P1D1_DJI_0234_YOLO_tracked.csv\n",
      "Initial identification of anchors takes  23.01343584060669\n",
      "Finding the best anchors took 379.2451140880585\n",
      "Applying homography to the best anchors takes  223.14889311790466\n",
      "20230311 SE_Lek1 P1D1 20230311_SE_Lek1_P1D1_DJI_0235_YOLO_tracked.csv\n",
      "Initial identification of anchors takes  24.565391063690186\n",
      "Finding the best anchors took 479.49958992004395\n",
      "Applying homography to the best anchors takes  244.4039270877838\n",
      "20230311 SE_Lek1 P1D1 20230311_SE_Lek1_P1D1_DJI_0236_YOLO_tracked.csv\n",
      "Initial identification of anchors takes  32.51256012916565\n",
      "Finding the best anchors took 414.9381229877472\n",
      "Applying homography to the best anchors takes  202.4259159564972\n",
      "20230311 SE_Lek1 P1D1 20230311_SE_Lek1_P1D1_DJI_0237_YOLO_tracked.csv\n",
      "Initial identification of anchors takes  26.82222008705139\n",
      "Finding the best anchors took 587.3791980743408\n",
      "Applying homography to the best anchors takes  196.32103395462036\n",
      "20230311 SE_Lek1 P1D1 20230311_SE_Lek1_P1D1_DJI_0238_YOLO_tracked.csv\n",
      "Initial identification of anchors takes  5.587973117828369\n",
      "Finding the best anchors took 18.203174829483032\n",
      "Applying homography to the best anchors takes  45.45815300941467\n",
      "20230311 SE_Lek1 P1D1 20230311_SE_Lek1_P1D1_DJI_0239_YOLO_tracked.csv\n",
      "Initial identification of anchors takes  32.33805990219116\n",
      "Finding the best anchors took 574.3840610980988\n",
      "Applying homography to the best anchors takes  261.4183840751648\n",
      "20230311 SE_Lek1 P1D1 20230311_SE_Lek1_P1D1_DJI_0240_YOLO_tracked.csv\n",
      "Initial identification of anchors takes  22.193201780319214\n",
      "Finding the best anchors took 301.41716408729553\n",
      "Applying homography to the best anchors takes  249.53960514068604\n",
      "20230311 SE_Lek1 P1D1 20230311_SE_Lek1_P1D1_DJI_0241_YOLO_tracked.csv\n",
      "Initial identification of anchors takes  22.35970687866211\n",
      "Finding the best anchors took 249.39516592025757\n",
      "Applying homography to the best anchors takes  258.25814414024353\n",
      "20230311 SE_Lek1 P1D1 20230311_SE_Lek1_P1D1_DJI_0242_YOLO_tracked.csv\n",
      "Initial identification of anchors takes  27.892648935317993\n",
      "Finding the best anchors took 318.14841985702515\n",
      "Applying homography to the best anchors takes  271.85296297073364\n",
      "20230311 SE_Lek1 P1D1 20230311_SE_Lek1_P1D1_DJI_0243_YOLO_tracked.csv\n",
      "Initial identification of anchors takes  23.01788592338562\n",
      "Finding the best anchors took 203.00227117538452\n",
      "Applying homography to the best anchors takes  276.15072321891785\n",
      "20230311 SE_Lek1 P1D1 20230311_SE_Lek1_P1D1_DJI_0244_YOLO_tracked.csv\n",
      "Initial identification of anchors takes  4.686110019683838\n",
      "Finding the best anchors took 6.310908317565918\n",
      "Applying homography to the best anchors takes  28.337969064712524\n"
     ]
    }
   ],
   "source": [
    "for date in DATE:\n",
    "    for session in SESSION:\n",
    "        for drone in DRONE:\n",
    "            \n",
    "            internal_path = tracking_directory + '/' + date + '/' + session + '/' + drone\n",
    "            files = glob.glob(internal_path + '/' + date + '_' + session + '_' + drone + '*_tracked.csv')\n",
    "            \n",
    "            for file in sorted(files):\n",
    "                print(date, session, drone, os.path.basename(file))\n",
    "                \n",
    "                df = pd.read_csv(file)\n",
    "                df['x'] = df['bb_left'] + df['bb_width']/2\n",
    "                df['y'] = df['bb_top'] + df['bb_height']/2\n",
    "                df['idx'] = df['track_id']\n",
    "\n",
    "                df = df.loc[:,['frame', 'x', 'y', 'idx']]\n",
    "                \n",
    "                # Step 1: Identify anchor frames\n",
    "                anchor_frames = hf.identify_anchor_frames(df, thresholds)\n",
    "\n",
    "                # Step 2: Find the best anchor for each frame\n",
    "                df = hf.find_best_anchor_for_each_frame_parallel(df, anchor_frames)\n",
    "\n",
    "                # Step 3: Apply homography using the best anchor for each frame\n",
    "                df, homography_matrices, rms_errors = hf.apply_homography_to_best_anchor(df)\n",
    "                \n",
    "                anchor_filename = os.path.basename(file).replace('_YOLO_tracked.csv', '_Anchored.csv')\n",
    "                pickle_filename = os.path.basename(file).replace('_YOLO_tracked.csv', '_homographies.pkl')\n",
    "                df.to_csv(os.path.join(os.path.dirname(file), anchor_filename), index=False, mode='w')\n",
    "                with open(os.path.join(os.path.dirname(file), pickle_filename), 'wb') as f:\n",
    "                    pickle.dump(homography_matrices, f)"
   ]
  },
  {
   "cell_type": "code",
   "execution_count": null,
   "id": "a365ef38",
   "metadata": {},
   "outputs": [],
   "source": []
  }
 ],
 "metadata": {
  "kernelspec": {
   "display_name": "Python 3 (ipykernel)",
   "language": "python",
   "name": "python3"
  },
  "language_info": {
   "codemirror_mode": {
    "name": "ipython",
    "version": 3
   },
   "file_extension": ".py",
   "mimetype": "text/x-python",
   "name": "python",
   "nbconvert_exporter": "python",
   "pygments_lexer": "ipython3",
   "version": "3.8.15"
  }
 },
 "nbformat": 4,
 "nbformat_minor": 5
}
