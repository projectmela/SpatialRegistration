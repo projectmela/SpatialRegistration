{
 "cells": [
  {
   "cell_type": "code",
   "execution_count": 1,
   "id": "5012bbd4",
   "metadata": {},
   "outputs": [],
   "source": [
    "import numpy as np\n",
    "import pandas as pd\n",
    "import matplotlib.pyplot as plt\n",
    "\n",
    "import os\n",
    "import glob"
   ]
  },
  {
   "cell_type": "code",
   "execution_count": 2,
   "id": "c8de2e09",
   "metadata": {},
   "outputs": [],
   "source": [
    "DATE = ['20230302']#, '20230305']\n",
    "SESSION = ['SM_Lek1']#, 'SE_Lek1']\n",
    "DRONE = ['P1D1', 'P1D2', 'P2D3', 'P2D4', 'P3D5', 'P3D6']\n",
    "\n",
    "files_directory = '/Volumes/EAS_shared/blackbuck/working/processed/Field_Recording_2023/TestRegistration'"
   ]
  },
  {
   "cell_type": "code",
   "execution_count": 3,
   "id": "63bd9e10",
   "metadata": {},
   "outputs": [
    {
     "name": "stdout",
     "output_type": "stream",
     "text": [
      "20230302 SM_Lek1 P1D1\n",
      "20230302 SM_Lek1 P1D2\n",
      "20230302 SM_Lek1 P2D3\n",
      "20230302 SM_Lek1 P2D4\n",
      "20230302 SM_Lek1 P3D5\n",
      "20230302 SM_Lek1 P3D6\n"
     ]
    }
   ],
   "source": [
    "for date in DATE:\n",
    "    for session in SESSION:\n",
    "        for drone in DRONE:\n",
    "            print(date, session, drone)\n",
    "            \n",
    "            internal_path = files_directory + '/' + date + '/' + session + '/' + drone\n",
    "            files = glob.glob(internal_path + '/' + date + '_' + session + '_' + drone + '*_Anchored_trajectories.csv')\n",
    "            \n",
    "            for file in sorted(files): \n",
    "                df = pd.read_csv(file)\n",
    "                df.columns = ['frame', 'x', 'y', 'Point', 'class_id', 'class_name', 'best_anchor_frame', 'u', 'v']\n",
    "\n",
    "                filename = os.path.basename(file).rsplit('_Anchored_trajectories', 1)[0]\n",
    "                df['Camera'] = filename[:31] + '_frame' + df['best_anchor_frame'].astype(int).astype(str)\n",
    "                df['video'] = filename[:31]\n",
    "                \n",
    "                filename = os.path.basename(file).replace('_Anchored_trajectories.csv', '_trajectories_uv.csv')\n",
    "                df.to_csv(os.path.join(os.path.dirname(file), filename), index=False, mode='w')"
   ]
  },
  {
   "cell_type": "code",
   "execution_count": null,
   "id": "f25a58c8",
   "metadata": {},
   "outputs": [],
   "source": []
  }
 ],
 "metadata": {
  "kernelspec": {
   "display_name": "Python 3 (ipykernel)",
   "language": "python",
   "name": "python3"
  },
  "language_info": {
   "codemirror_mode": {
    "name": "ipython",
    "version": 3
   },
   "file_extension": ".py",
   "mimetype": "text/x-python",
   "name": "python",
   "nbconvert_exporter": "python",
   "pygments_lexer": "ipython3",
   "version": "3.8.15"
  }
 },
 "nbformat": 4,
 "nbformat_minor": 5
}
