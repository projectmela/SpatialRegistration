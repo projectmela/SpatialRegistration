{
 "cells": [
  {
   "cell_type": "code",
   "execution_count": 1,
   "id": "e072085d",
   "metadata": {},
   "outputs": [],
   "source": [
    "import numpy as np\n",
    "import pandas as pd\n",
    "import matplotlib.pyplot as plt\n",
    "import seaborn as sns\n",
    "\n",
    "import os\n",
    "import glob\n",
    "import pickle\n",
    "import helper_functions_06b as hf"
   ]
  },
  {
   "cell_type": "code",
   "execution_count": 2,
   "id": "82247614",
   "metadata": {},
   "outputs": [],
   "source": [
    "DATE = ['20230306', '20230307', '20230314', '20230317', '20230317']\n",
    "SESSION = ['SE_Lek1', 'SM_Lek1', 'SE_Lek1', 'SM_Lek1', 'SM_Lek1']\n",
    "DRONE = ['P3D6', 'P1D2', 'P3D6', 'P2D3', 'P2D4']\n",
    "VIDEOS = ['0663', '0796', '0978', '0410', '0035']\n",
    "\n",
    "tracking_directory = '/Volumes/EAS_shared/blackbuck/working/processed/Field_Recording_2023/SpatialRegistration'"
   ]
  },
  {
   "cell_type": "code",
   "execution_count": 3,
   "id": "9c027c37",
   "metadata": {},
   "outputs": [],
   "source": [
    "# Thresholds for translation, rotation, and scale\n",
    "thresholds = {\n",
    "    'T_translation': 30,  # e.g., 30 pixels\n",
    "    'T_rotation': 20,     # e.g., 20 degrees\n",
    "    'T_scale': 0.1         # e.g., 10% change\n",
    "}"
   ]
  },
  {
   "cell_type": "code",
   "execution_count": 4,
   "id": "e76b5357",
   "metadata": {},
   "outputs": [
    {
     "name": "stdout",
     "output_type": "stream",
     "text": [
      "20230306 SE_Lek1 P3D6 20230306_SE_Lek1_P3D6_DJI_0663_YOLO_tracked.csv\n"
     ]
    },
    {
     "ename": "KeyboardInterrupt",
     "evalue": "",
     "output_type": "error",
     "traceback": [
      "\u001b[0;31m---------------------------------------------------------------------------\u001b[0m",
      "\u001b[0;31mKeyboardInterrupt\u001b[0m                         Traceback (most recent call last)",
      "Cell \u001b[0;32mIn[4], line 15\u001b[0m\n\u001b[1;32m     12\u001b[0m df \u001b[38;5;241m=\u001b[39m df\u001b[38;5;241m.\u001b[39mloc[:,[\u001b[38;5;124m'\u001b[39m\u001b[38;5;124mframe\u001b[39m\u001b[38;5;124m'\u001b[39m, \u001b[38;5;124m'\u001b[39m\u001b[38;5;124mx\u001b[39m\u001b[38;5;124m'\u001b[39m, \u001b[38;5;124m'\u001b[39m\u001b[38;5;124my\u001b[39m\u001b[38;5;124m'\u001b[39m, \u001b[38;5;124m'\u001b[39m\u001b[38;5;124midx\u001b[39m\u001b[38;5;124m'\u001b[39m]]\n\u001b[1;32m     14\u001b[0m \u001b[38;5;66;03m# Step 1: Identify anchor frames\u001b[39;00m\n\u001b[0;32m---> 15\u001b[0m anchor_frames \u001b[38;5;241m=\u001b[39m \u001b[43mhf\u001b[49m\u001b[38;5;241;43m.\u001b[39;49m\u001b[43midentify_anchor_frames\u001b[49m\u001b[43m(\u001b[49m\u001b[43mdf\u001b[49m\u001b[43m,\u001b[49m\u001b[43m \u001b[49m\u001b[43mthresholds\u001b[49m\u001b[43m)\u001b[49m\n\u001b[1;32m     17\u001b[0m \u001b[38;5;66;03m# Step 2: Find the best anchor for each frame\u001b[39;00m\n\u001b[1;32m     18\u001b[0m df \u001b[38;5;241m=\u001b[39m hf\u001b[38;5;241m.\u001b[39mfind_best_anchor_for_each_frame_parallel(df, anchor_frames)\n",
      "File \u001b[0;32m~/Library/Mobile Documents/com~apple~CloudDocs/Documents/Code/Python/SpatialRegistration/helper_functions_06b.py:61\u001b[0m, in \u001b[0;36midentify_anchor_frames\u001b[0;34m(df, thresholds)\u001b[0m\n\u001b[1;32m     59\u001b[0m \u001b[38;5;66;03m# Apply RANSAC to find homography\u001b[39;00m\n\u001b[1;32m     60\u001b[0m \u001b[38;5;28;01mtry\u001b[39;00m:\n\u001b[0;32m---> 61\u001b[0m     H, mask \u001b[38;5;241m=\u001b[39m \u001b[43mcv2\u001b[49m\u001b[38;5;241;43m.\u001b[39;49m\u001b[43mfindHomography\u001b[49m\u001b[43m(\u001b[49m\u001b[43mdst_pts\u001b[49m\u001b[43m,\u001b[49m\u001b[43m \u001b[49m\u001b[43msrc_pts\u001b[49m\u001b[43m,\u001b[49m\u001b[43m \u001b[49m\u001b[43mcv2\u001b[49m\u001b[38;5;241;43m.\u001b[39;49m\u001b[43mRANSAC\u001b[49m\u001b[43m)\u001b[49m\n\u001b[1;32m     62\u001b[0m \u001b[38;5;28;01mexcept\u001b[39;00m cv2\u001b[38;5;241m.\u001b[39merror \u001b[38;5;28;01mas\u001b[39;00m e:\n\u001b[1;32m     63\u001b[0m     \u001b[38;5;28mprint\u001b[39m(\u001b[38;5;124mf\u001b[39m\u001b[38;5;124m\"\u001b[39m\u001b[38;5;124mHomography calculation failed between frame \u001b[39m\u001b[38;5;132;01m{\u001b[39;00manchor_frame\u001b[38;5;132;01m}\u001b[39;00m\u001b[38;5;124m and frame \u001b[39m\u001b[38;5;132;01m{\u001b[39;00mframe\u001b[38;5;132;01m}\u001b[39;00m\u001b[38;5;124m: \u001b[39m\u001b[38;5;132;01m{\u001b[39;00me\u001b[38;5;132;01m}\u001b[39;00m\u001b[38;5;124m\"\u001b[39m)\n",
      "\u001b[0;31mKeyboardInterrupt\u001b[0m: "
     ]
    }
   ],
   "source": [
    "for date,session,drone,video in zip(DATE,SESSION,DRONE,VIDEOS):\n",
    "    internal_path = tracking_directory + '/' + date + '/' + session + '/' + drone\n",
    "    file = internal_path + '/' + date + '_' + session + '_' + drone + '_DJI_' + video + '_YOLO_tracked.csv'\n",
    "    \n",
    "    print(date, session, drone, os.path.basename(file))\n",
    "    \n",
    "    df = pd.read_csv(file)\n",
    "    df['x'] = df['bb_left'] + df['bb_width']/2\n",
    "    df['y'] = df['bb_top'] + df['bb_height']/2\n",
    "    df['idx'] = df['track_id']\n",
    "\n",
    "    df = df.loc[:,['frame', 'x', 'y', 'idx']]\n",
    "\n",
    "    # Step 1: Identify anchor frames\n",
    "    anchor_frames = hf.identify_anchor_frames(df, thresholds)\n",
    "\n",
    "    # Step 2: Find the best anchor for each frame\n",
    "    df = hf.find_best_anchor_for_each_frame_parallel(df, anchor_frames)\n",
    "\n",
    "    # Step 3: Apply homography using the best anchor for each frame\n",
    "    df, homography_matrices, rms_errors = hf.apply_homography_to_best_anchor(df)\n",
    "\n",
    "    anchor_filename = os.path.basename(file).replace('_YOLO_tracked.csv', '_Anchored.csv')\n",
    "    pickle_filename = os.path.basename(file).replace('_YOLO_tracked.csv', '_homographies.pkl')\n",
    "    df.to_csv(os.path.join(os.path.dirname(file), anchor_filename), index=False, mode='w')\n",
    "    with open(os.path.join(os.path.dirname(file), pickle_filename), 'wb') as f:\n",
    "        pickle.dump(homography_matrices, f)"
   ]
  },
  {
   "cell_type": "code",
   "execution_count": null,
   "id": "e1498204",
   "metadata": {},
   "outputs": [],
   "source": []
  }
 ],
 "metadata": {
  "kernelspec": {
   "display_name": "Python 3 (ipykernel)",
   "language": "python",
   "name": "python3"
  },
  "language_info": {
   "codemirror_mode": {
    "name": "ipython",
    "version": 3
   },
   "file_extension": ".py",
   "mimetype": "text/x-python",
   "name": "python",
   "nbconvert_exporter": "python",
   "pygments_lexer": "ipython3",
   "version": "3.8.15"
  }
 },
 "nbformat": 4,
 "nbformat_minor": 5
}
