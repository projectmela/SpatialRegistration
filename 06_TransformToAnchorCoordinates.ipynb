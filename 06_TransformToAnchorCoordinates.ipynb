{
 "cells": [
  {
   "cell_type": "code",
   "execution_count": 1,
   "id": "d30fac07",
   "metadata": {},
   "outputs": [],
   "source": [
    "import numpy as np\n",
    "import pandas as pd\n",
    "import matplotlib.pyplot as plt\n",
    "import seaborn as sns\n",
    "\n",
    "import glob\n",
    "import pickle\n",
    "import helper_functions_06b as hf"
   ]
  },
  {
   "cell_type": "code",
   "execution_count": 2,
   "id": "973efc85",
   "metadata": {},
   "outputs": [],
   "source": [
    "DATE = ['20230302']#, '20230303']\n",
    "SESSION = ['SM_Lek1']#, 'SE_Lek1']\n",
    "DRONE = ['P2D4']#, 'P1D2', 'P2D3', 'P2D4', 'P3D5', 'P3D6']\n",
    "\n",
    "tracking_directory = '/Volumes/EAS_shared/blackbuck/working/processed/TerritoryDetection2023'"
   ]
  },
  {
   "cell_type": "code",
   "execution_count": 3,
   "id": "b85a37b5",
   "metadata": {},
   "outputs": [],
   "source": [
    "# Thresholds for translation, rotation, and scale\n",
    "thresholds = {\n",
    "    'T_translation': 30,  # e.g., 30 pixels\n",
    "    'T_rotation': 20,     # e.g., 20 degrees\n",
    "    'T_scale': 0.1         # e.g., 10% change\n",
    "}"
   ]
  },
  {
   "cell_type": "code",
   "execution_count": null,
   "id": "ceb5c2d5",
   "metadata": {},
   "outputs": [
    {
     "name": "stdout",
     "output_type": "stream",
     "text": [
      "20230302 SM_Lek1 P2D4\n",
      "Initial identification of anchors takes  17.256253004074097\n",
      "Finding the best anchors took 368.31991386413574\n"
     ]
    }
   ],
   "source": [
    "for date in DATE:\n",
    "    for session in SESSION:\n",
    "        for drone in DRONE:\n",
    "            print(date, session, drone)\n",
    "            \n",
    "            internal_path = tracking_directory + '/' + date + '/' + session + '/' + drone\n",
    "            files = glob.glob(internal_path + '/' + date + '_' + session + '_' + drone + '*_tracked.csv')\n",
    "            \n",
    "            for file in sorted(files):\n",
    "                df = pd.read_csv(file)\n",
    "                \n",
    "                df['x'] = df['bb_left'] + df['bb_width']/2\n",
    "                df['y'] = df['bb_top'] + df['bb_height']/2\n",
    "                df['idx'] = df['track_id']\n",
    "\n",
    "                df = df.loc[:,['frame', 'x', 'y', 'idx']]\n",
    "                \n",
    "                # Step 1: Identify anchor frames\n",
    "                anchor_frames = hf.identify_anchor_frames(df, thresholds)\n",
    "\n",
    "                # Step 2: Find the best anchor for each frame\n",
    "                df = hf.find_best_anchor_for_each_frame_parallel(df, anchor_frames)\n",
    "\n",
    "                # Step 3: Apply homography using the best anchor for each frame\n",
    "                df, homography_matrices, rms_errors = hf.apply_homography_to_best_anchor(df)\n",
    "\n",
    "                df.to_csv(file[:-17] + '_Anchored.csv', index=False, mode='w')\n",
    "                with open(file[:-17] + '_homographies.pkl', 'wb') as f:\n",
    "                    pickle.dump(homography_matrices, f)"
   ]
  },
  {
   "cell_type": "code",
   "execution_count": null,
   "id": "472a8bf9",
   "metadata": {},
   "outputs": [],
   "source": [
    "mean_rms_error = sum(rms_errors.values()) / len(rms_errors)\n",
    "\n",
    "\n",
    "fig,(ax1,ax2,ax3) = plt.subplots(1,3, figsize=(15,5))\n",
    "\n",
    "ax1.scatter(df['frame'], df['idx'], c=df['idx'], cmap='Set1', s=5, alpha=0.4)\n",
    "\n",
    "ax2.scatter(df['frame'], df['best_anchor_frame'], s=5)\n",
    "ax2.plot(np.linspace(0,df['frame'].max()), np.linspace(0,df['frame'].max()), c='black')\n",
    "\n",
    "sns.kdeplot(rms_errors, fill=True, ax=ax3)\n",
    "ax3.vlines(mean_rms_error,0,0.32,color='black',linestyles='dashed')\n",
    "ax3.set_xlim(0,)\n",
    "ax3.set_ylim(0,0.32)\n",
    "\n",
    "plt.show()"
   ]
  },
  {
   "cell_type": "code",
   "execution_count": null,
   "id": "a365ef38",
   "metadata": {},
   "outputs": [],
   "source": []
  }
 ],
 "metadata": {
  "kernelspec": {
   "display_name": "Python 3 (ipykernel)",
   "language": "python",
   "name": "python3"
  },
  "language_info": {
   "codemirror_mode": {
    "name": "ipython",
    "version": 3
   },
   "file_extension": ".py",
   "mimetype": "text/x-python",
   "name": "python",
   "nbconvert_exporter": "python",
   "pygments_lexer": "ipython3",
   "version": "3.8.15"
  }
 },
 "nbformat": 4,
 "nbformat_minor": 5
}
