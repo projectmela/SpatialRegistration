{
 "cells": [
  {
   "cell_type": "code",
   "execution_count": 1,
   "id": "37c7507f",
   "metadata": {},
   "outputs": [],
   "source": [
    "import subprocess\n",
    "import glob"
   ]
  },
  {
   "cell_type": "code",
   "execution_count": 2,
   "id": "3298f385",
   "metadata": {},
   "outputs": [],
   "source": [
    "DATE = ['20230313', '20230314', '20230316']\n",
    "SESSION = ['SE_Lek1']#, 'SE_Lek1']\n",
    "DRONE = ['P1D1', 'P1D2', 'P2D3', 'P2D4', 'P3D5', 'P3D6']\n",
    "\n",
    "files_directory = '/Volumes/EAS_shared/blackbuck/working/processed/Field_Recording_2023/SpatialRegistration'"
   ]
  },
  {
   "cell_type": "code",
   "execution_count": 3,
   "id": "ba8ebf68",
   "metadata": {},
   "outputs": [
    {
     "name": "stdout",
     "output_type": "stream",
     "text": [
      "20230313 SE_Lek1\n",
      "Input DLC folder: /Volumes/EAS_shared/blackbuck/working/processed/Field_Recording_2023/SpatialRegistration/20230313/SE_Lek1/P1D1\n",
      "Input Metashape file: /Volumes/EAS_shared/blackbuck/working/processed/Field_Recording_2023/SpatialRegistration/20230313/SE_Lek1//TalChhapar_20230313_SE_Lek1/output/20230313_SE_Lek1_territories_uv.csv\n"
     ]
    },
    {
     "name": "stderr",
     "output_type": "stream",
     "text": [
      "Frame processing: 100%|██████████| 5815/5815 [00:38<00:00, 150.47it/s]\n",
      "Frame processing: 100%|██████████| 5804/5804 [00:45<00:00, 128.48it/s]\n",
      "Frame processing: 100%|██████████| 5812/5812 [00:39<00:00, 145.62it/s]\n",
      "Frame processing: 100%|██████████| 5817/5817 [00:39<00:00, 146.11it/s]\n",
      "Frame processing: 100%|██████████| 734/734 [00:03<00:00, 199.79it/s]\n",
      "Frame processing: 100%|██████████| 5804/5804 [00:44<00:00, 129.07it/s]\n",
      "Frame processing: 100%|██████████| 5812/5812 [00:39<00:00, 147.52it/s]\n",
      "Frame processing: 100%|██████████| 5813/5813 [00:37<00:00, 157.04it/s]\n",
      "Frame processing: 100%|██████████| 281/281 [00:01<00:00, 169.06it/s]\n",
      "Frame processing: 100%|██████████| 5813/5813 [00:40<00:00, 144.52it/s]\n",
      "Frame processing: 100%|██████████| 5814/5814 [00:40<00:00, 144.66it/s]\n",
      "Frame processing: 100%|██████████| 5816/5816 [00:39<00:00, 146.09it/s]\n",
      "Frame processing: 100%|██████████| 5814/5814 [00:38<00:00, 150.80it/s]\n",
      "Frame processing: 100%|██████████| 5814/5814 [00:38<00:00, 150.01it/s]\n",
      "Frame processing: 100%|██████████| 5803/5803 [00:40<00:00, 144.64it/s]\n",
      "Frame processing: 100%|██████████| 5816/5816 [00:41<00:00, 141.69it/s]\n",
      "Frame processing: 100%|██████████| 5815/5815 [00:38<00:00, 150.13it/s]\n",
      "Frame processing: 100%|██████████| 5813/5813 [00:39<00:00, 146.10it/s]\n",
      "Frame processing: 100%|██████████| 5070/5070 [00:34<00:00, 145.67it/s]\n",
      "Frame processing: 100%|██████████| 5804/5804 [00:43<00:00, 132.86it/s]\n",
      "Frame processing: 100%|██████████| 5815/5815 [00:41<00:00, 141.48it/s]\n",
      "Frame processing: 100%|██████████| 744/744 [00:04<00:00, 172.24it/s]\n",
      "Frame processing: 100%|██████████| 5815/5815 [00:39<00:00, 146.65it/s]\n"
     ]
    },
    {
     "name": "stdout",
     "output_type": "stream",
     "text": [
      "Input DLC folder: /Volumes/EAS_shared/blackbuck/working/processed/Field_Recording_2023/SpatialRegistration/20230313/SE_Lek1/P1D2\n",
      "Input Metashape file: /Volumes/EAS_shared/blackbuck/working/processed/Field_Recording_2023/SpatialRegistration/20230313/SE_Lek1//TalChhapar_20230313_SE_Lek1/output/20230313_SE_Lek1_territories_uv.csv\n"
     ]
    },
    {
     "name": "stderr",
     "output_type": "stream",
     "text": [
      "Frame processing: 100%|██████████| 5813/5813 [00:38<00:00, 152.80it/s]\n",
      "Frame processing: 100%|██████████| 5814/5814 [00:41<00:00, 141.15it/s]\n",
      "Frame processing: 100%|██████████| 5814/5814 [00:39<00:00, 145.95it/s]\n",
      "Frame processing: 100%|██████████| 66/66 [00:00<00:00, 147.15it/s]\n",
      "Frame processing: 100%|██████████| 5815/5815 [00:40<00:00, 144.59it/s]\n",
      "Frame processing: 100%|██████████| 5813/5813 [00:41<00:00, 139.79it/s]\n",
      "Frame processing: 100%|██████████| 5815/5815 [00:42<00:00, 137.67it/s]\n",
      "Frame processing: 100%|██████████| 5804/5804 [00:48<00:00, 119.43it/s]\n",
      "Frame processing: 100%|██████████| 5814/5814 [00:43<00:00, 132.55it/s]\n",
      "Frame processing: 100%|██████████| 603/603 [00:03<00:00, 174.70it/s]\n",
      "Frame processing: 100%|██████████| 5815/5815 [00:39<00:00, 147.25it/s]\n",
      "Frame processing: 100%|██████████| 5815/5815 [00:40<00:00, 143.83it/s]\n",
      "Frame processing: 100%|██████████| 5557/5557 [00:37<00:00, 148.87it/s]\n",
      "Frame processing: 100%|██████████| 556/556 [00:02<00:00, 192.01it/s]\n",
      "Frame processing: 100%|██████████| 5814/5814 [00:41<00:00, 141.70it/s]\n",
      "Frame processing: 100%|██████████| 5805/5805 [00:43<00:00, 133.44it/s]\n",
      "Frame processing: 100%|██████████| 5814/5814 [00:42<00:00, 136.46it/s]\n",
      "Frame processing: 100%|██████████| 5813/5813 [00:43<00:00, 134.35it/s]\n",
      "Frame processing: 100%|██████████| 5802/5802 [00:45<00:00, 128.09it/s]\n",
      "Frame processing: 100%|██████████| 5818/5818 [00:39<00:00, 146.73it/s]\n",
      "Frame processing: 100%|██████████| 5815/5815 [00:40<00:00, 144.64it/s]\n",
      "Frame processing: 100%|██████████| 5811/5811 [00:39<00:00, 148.20it/s]\n",
      "Frame processing: 100%|██████████| 5805/5805 [00:47<00:00, 121.90it/s]\n"
     ]
    },
    {
     "name": "stdout",
     "output_type": "stream",
     "text": [
      "Input DLC folder: /Volumes/EAS_shared/blackbuck/working/processed/Field_Recording_2023/SpatialRegistration/20230313/SE_Lek1/P2D3\n",
      "Input Metashape file: /Volumes/EAS_shared/blackbuck/working/processed/Field_Recording_2023/SpatialRegistration/20230313/SE_Lek1//TalChhapar_20230313_SE_Lek1/output/20230313_SE_Lek1_territories_uv.csv\n"
     ]
    },
    {
     "name": "stderr",
     "output_type": "stream",
     "text": [
      "Frame processing: 100%|██████████| 2131/2131 [00:12<00:00, 169.64it/s]\n",
      "Frame processing: 100%|██████████| 5814/5814 [00:41<00:00, 139.70it/s]\n",
      "Frame processing: 100%|██████████| 5814/5814 [00:40<00:00, 144.38it/s]\n",
      "Frame processing: 100%|██████████| 5817/5817 [00:38<00:00, 151.95it/s]\n",
      "Frame processing: 100%|██████████| 5815/5815 [00:38<00:00, 151.08it/s]\n",
      "Frame processing: 100%|██████████| 5813/5813 [00:39<00:00, 147.10it/s]\n",
      "Frame processing: 100%|██████████| 5816/5816 [00:39<00:00, 146.74it/s]\n",
      "Frame processing: 100%|██████████| 5802/5802 [00:38<00:00, 151.42it/s]\n",
      "Frame processing: 100%|██████████| 182/182 [00:01<00:00, 160.73it/s]\n",
      "Frame processing: 100%|██████████| 5813/5813 [00:38<00:00, 151.15it/s]\n",
      "Frame processing: 100%|██████████| 5804/5804 [00:40<00:00, 144.04it/s]\n",
      "Frame processing: 100%|██████████| 5815/5815 [00:38<00:00, 150.48it/s]\n",
      "Frame processing: 100%|██████████| 5814/5814 [00:40<00:00, 144.31it/s]\n",
      "Frame processing: 100%|██████████| 5813/5813 [00:41<00:00, 140.10it/s]\n",
      "Frame processing: 100%|██████████| 5815/5815 [00:40<00:00, 143.23it/s]\n",
      "Frame processing: 100%|██████████| 5815/5815 [00:40<00:00, 144.44it/s]\n",
      "Frame processing: 100%|██████████| 5804/5804 [00:39<00:00, 145.35it/s]\n",
      "Frame processing: 100%|██████████| 5401/5401 [00:33<00:00, 160.26it/s]\n",
      "Frame processing: 100%|██████████| 5611/5611 [00:37<00:00, 150.45it/s]\n",
      "Frame processing: 100%|██████████| 5812/5812 [00:40<00:00, 144.75it/s]\n",
      "Frame processing: 100%|██████████| 5803/5803 [00:41<00:00, 139.78it/s]\n",
      "Frame processing: 100%|██████████| 5814/5814 [00:39<00:00, 146.38it/s]\n"
     ]
    },
    {
     "name": "stdout",
     "output_type": "stream",
     "text": [
      "Input DLC folder: /Volumes/EAS_shared/blackbuck/working/processed/Field_Recording_2023/SpatialRegistration/20230313/SE_Lek1/P2D4\n",
      "Input Metashape file: /Volumes/EAS_shared/blackbuck/working/processed/Field_Recording_2023/SpatialRegistration/20230313/SE_Lek1//TalChhapar_20230313_SE_Lek1/output/20230313_SE_Lek1_territories_uv.csv\n"
     ]
    },
    {
     "name": "stderr",
     "output_type": "stream",
     "text": [
      "Frame processing: 100%|██████████| 5804/5804 [00:46<00:00, 124.27it/s]\n",
      "Frame processing: 100%|██████████| 5815/5815 [00:41<00:00, 141.80it/s]\n",
      "Frame processing: 100%|██████████| 5814/5814 [00:40<00:00, 144.52it/s]\n",
      "Frame processing: 100%|██████████| 5814/5814 [00:40<00:00, 144.14it/s]\n",
      "Frame processing: 100%|██████████| 2302/2302 [00:13<00:00, 176.99it/s]\n",
      "Frame processing: 100%|██████████| 5814/5814 [00:37<00:00, 153.54it/s]\n",
      "Frame processing: 100%|██████████| 5816/5816 [00:40<00:00, 145.07it/s]\n",
      "Frame processing: 100%|██████████| 5814/5814 [00:39<00:00, 148.36it/s]\n",
      "Frame processing: 100%|██████████| 5813/5813 [00:40<00:00, 144.35it/s]\n",
      "Frame processing: 100%|██████████| 5803/5803 [00:41<00:00, 139.51it/s]\n",
      "Frame processing: 100%|██████████| 5805/5805 [00:40<00:00, 142.74it/s]\n",
      "Frame processing: 100%|██████████| 4045/4045 [00:26<00:00, 154.54it/s]\n",
      "Frame processing: 100%|██████████| 21/21 [00:00<00:00, 168.93it/s]\n",
      "Frame processing: 100%|██████████| 5814/5814 [00:39<00:00, 146.32it/s]\n",
      "Frame processing: 100%|██████████| 5815/5815 [00:40<00:00, 143.80it/s]\n",
      "Frame processing: 100%|██████████| 5815/5815 [00:39<00:00, 147.04it/s]\n",
      "Frame processing: 100%|██████████| 5744/5744 [00:37<00:00, 151.98it/s]\n",
      "Frame processing: 100%|██████████| 5813/5813 [00:38<00:00, 149.49it/s]\n",
      "Frame processing: 100%|██████████| 5816/5816 [00:39<00:00, 146.44it/s]\n",
      "Frame processing: 100%|██████████| 5814/5814 [00:40<00:00, 143.21it/s]\n",
      "Frame processing: 100%|██████████| 5805/5805 [00:40<00:00, 144.22it/s]\n",
      "Frame processing: 100%|██████████| 5815/5815 [00:40<00:00, 143.62it/s]\n"
     ]
    },
    {
     "name": "stdout",
     "output_type": "stream",
     "text": [
      "Input DLC folder: /Volumes/EAS_shared/blackbuck/working/processed/Field_Recording_2023/SpatialRegistration/20230313/SE_Lek1/P3D5\n",
      "Input Metashape file: /Volumes/EAS_shared/blackbuck/working/processed/Field_Recording_2023/SpatialRegistration/20230313/SE_Lek1//TalChhapar_20230313_SE_Lek1/output/20230313_SE_Lek1_territories_uv.csv\n"
     ]
    },
    {
     "name": "stderr",
     "output_type": "stream",
     "text": [
      "Frame processing: 100%|██████████| 5815/5815 [00:28<00:00, 204.65it/s]\n",
      "Frame processing: 100%|██████████| 5804/5804 [00:28<00:00, 206.90it/s]\n",
      "Frame processing: 100%|██████████| 5814/5814 [00:27<00:00, 208.50it/s]\n",
      "Frame processing: 100%|██████████| 5814/5814 [00:27<00:00, 212.37it/s]\n",
      "Frame processing: 100%|██████████| 1512/1512 [00:06<00:00, 233.75it/s]\n",
      "Frame processing: 100%|██████████| 5814/5814 [00:25<00:00, 223.63it/s]\n",
      "Frame processing: 100%|██████████| 5815/5815 [00:28<00:00, 204.34it/s]\n",
      "Frame processing: 100%|██████████| 69/69 [00:00<00:00, 206.75it/s]\n",
      "Frame processing: 100%|██████████| 5804/5804 [00:28<00:00, 200.64it/s]\n",
      "Frame processing: 100%|██████████| 276/276 [00:01<00:00, 207.67it/s]\n",
      "Frame processing: 100%|██████████| 5813/5813 [00:28<00:00, 202.04it/s]\n",
      "Frame processing: 100%|██████████| 5804/5804 [00:29<00:00, 196.90it/s]\n",
      "Frame processing: 100%|██████████| 5801/5801 [00:29<00:00, 197.84it/s]\n",
      "Frame processing: 100%|██████████| 5817/5817 [00:27<00:00, 209.50it/s]\n",
      "Frame processing: 100%|██████████| 5814/5814 [00:28<00:00, 203.82it/s]\n",
      "Frame processing: 100%|██████████| 5813/5813 [00:28<00:00, 200.89it/s]\n",
      "Frame processing: 100%|██████████| 5813/5813 [00:28<00:00, 203.10it/s]\n",
      "Frame processing: 100%|██████████| 5813/5813 [00:27<00:00, 212.54it/s]\n",
      "Frame processing: 100%|██████████| 5372/5372 [00:27<00:00, 194.51it/s]\n",
      "Frame processing: 100%|██████████| 5816/5816 [00:28<00:00, 206.38it/s]\n",
      "Frame processing: 100%|██████████| 5813/5813 [00:28<00:00, 201.42it/s]\n",
      "Frame processing: 100%|██████████| 5816/5816 [00:28<00:00, 201.66it/s]\n",
      "Frame processing: 100%|██████████| 5814/5814 [00:27<00:00, 208.43it/s]\n"
     ]
    },
    {
     "name": "stdout",
     "output_type": "stream",
     "text": [
      "Input DLC folder: /Volumes/EAS_shared/blackbuck/working/processed/Field_Recording_2023/SpatialRegistration/20230313/SE_Lek1/P3D6\n",
      "Input Metashape file: /Volumes/EAS_shared/blackbuck/working/processed/Field_Recording_2023/SpatialRegistration/20230313/SE_Lek1//TalChhapar_20230313_SE_Lek1/output/20230313_SE_Lek1_territories_uv.csv\n"
     ]
    },
    {
     "name": "stderr",
     "output_type": "stream",
     "text": [
      "Frame processing: 100%|██████████| 5804/5804 [00:28<00:00, 201.62it/s]\n",
      "Frame processing: 100%|██████████| 1318/1318 [00:05<00:00, 227.55it/s]\n",
      "Frame processing: 100%|██████████| 5813/5813 [00:28<00:00, 202.79it/s]\n",
      "Frame processing: 100%|██████████| 5814/5814 [00:27<00:00, 209.61it/s]\n",
      "Frame processing: 100%|██████████| 5802/5802 [00:27<00:00, 210.21it/s]\n",
      "Frame processing: 100%|██████████| 5814/5814 [00:27<00:00, 212.65it/s]\n",
      "Frame processing: 100%|██████████| 5817/5817 [00:26<00:00, 215.99it/s]\n",
      "Frame processing: 100%|██████████| 5815/5815 [00:28<00:00, 206.07it/s]\n",
      "Frame processing: 100%|██████████| 5815/5815 [00:28<00:00, 206.80it/s]\n",
      "Frame processing: 100%|██████████| 743/743 [00:02<00:00, 262.33it/s]\n",
      "Frame processing: 100%|██████████| 5813/5813 [00:28<00:00, 206.97it/s]\n",
      "Frame processing: 100%|██████████| 5804/5804 [00:29<00:00, 194.31it/s]\n",
      "Frame processing: 100%|██████████| 5815/5815 [00:28<00:00, 203.83it/s]\n",
      "Frame processing: 100%|██████████| 5816/5816 [00:28<00:00, 204.08it/s]\n",
      "Frame processing:  16%|█▌        | 375/2380 [00:01<00:08, 248.40it/s]"
     ]
    }
   ],
   "source": [
    "for date in DATE:\n",
    "    for session in SESSION:\n",
    "        print(date, session)\n",
    "\n",
    "        internal_path = files_directory + '/' + date + '/' + session + '/'\n",
    "        metashape_csv = glob.glob(internal_path + '/TalChhapar_' + date + '_' + session + '/output/' + '*.csv')\n",
    "\n",
    "        dlc_folders = [\n",
    "            files_directory + '/' + date + '/' + session + '/' + 'P1D1',\n",
    "            files_directory + '/' + date + '/' + session + '/' + 'P1D2',\n",
    "            files_directory + '/' + date + '/' + session + '/' + 'P2D3',\n",
    "            files_directory + '/' + date + '/' + session + '/' + 'P2D4',\n",
    "            files_directory + '/' + date + '/' + session + '/' + 'P3D5',\n",
    "            files_directory + '/' + date + '/' + session + '/' + 'P3D6'\n",
    "        ]\n",
    "\n",
    "        for folder in dlc_folders:\n",
    "            subprocess.run([\n",
    "                \"python3\", \"batch_runner_10b.py\",\n",
    "                '-m', metashape_csv[0],\n",
    "                '-d', folder\n",
    "            ])"
   ]
  },
  {
   "cell_type": "code",
   "execution_count": null,
   "id": "bc5f4048",
   "metadata": {},
   "outputs": [],
   "source": []
  }
 ],
 "metadata": {
  "kernelspec": {
   "display_name": "Python 3 (ipykernel)",
   "language": "python",
   "name": "python3"
  },
  "language_info": {
   "codemirror_mode": {
    "name": "ipython",
    "version": 3
   },
   "file_extension": ".py",
   "mimetype": "text/x-python",
   "name": "python",
   "nbconvert_exporter": "python",
   "pygments_lexer": "ipython3",
   "version": "3.8.15"
  }
 },
 "nbformat": 4,
 "nbformat_minor": 5
}
