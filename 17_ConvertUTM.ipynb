{
 "cells": [
  {
   "cell_type": "code",
   "execution_count": 1,
   "id": "cb922de0",
   "metadata": {},
   "outputs": [],
   "source": [
    "import pandas as pd\n",
    "import utm\n",
    "\n",
    "import os\n",
    "import glob"
   ]
  },
  {
   "cell_type": "code",
   "execution_count": 2,
   "id": "27e394b1",
   "metadata": {},
   "outputs": [],
   "source": [
    "DATE = ['20230317']#, '20230309']\n",
    "SESSION = ['SM_Lek1']#, 'SE_Lek1']\n",
    "DRONE = ['P1D1', 'P1D2', 'P2D3', 'P2D4', 'P3D5', 'P3D6']\n",
    "\n",
    "files_directory = '/Volumes/SSD5'"
   ]
  },
  {
   "cell_type": "code",
   "execution_count": 3,
   "id": "4302917a",
   "metadata": {},
   "outputs": [
    {
     "name": "stdout",
     "output_type": "stream",
     "text": [
      "20230317 SM_Lek1 P1D1\n",
      "20230317 SM_Lek1 P1D2\n",
      "20230317 SM_Lek1 P2D3\n",
      "20230317 SM_Lek1 P2D4\n",
      "20230317 SM_Lek1 P3D5\n",
      "20230317 SM_Lek1 P3D6\n"
     ]
    }
   ],
   "source": [
    "for date in DATE:\n",
    "    for session in SESSION:\n",
    "        for drone in DRONE:\n",
    "            print(date, session, drone)\n",
    "            \n",
    "            internal_path = files_directory + '/' + date + '/' + session + '/' + drone\n",
    "            files = glob.glob(internal_path + '/' + date + '_' + session + '_' + drone + '*_3D_territories.csv')\n",
    "            \n",
    "            for file in sorted(files): \n",
    "                df = pd.read_csv(file)\n",
    "                territories_utm = utm.from_latlon(df.loc[:,'latitude'].values, df.loc[:,'longitude'].values)\n",
    "                df['easting'] = territories_utm[0]\n",
    "                df['northing'] = territories_utm[1]\n",
    "                \n",
    "                filename = os.path.basename(file).replace('_3D_territories.csv', '_3D_territories_utm.csv')\n",
    "                df.to_csv(os.path.join(os.path.dirname(file), filename), index=False, mode='w')"
   ]
  },
  {
   "cell_type": "code",
   "execution_count": 4,
   "id": "158c8ac5",
   "metadata": {},
   "outputs": [
    {
     "name": "stdout",
     "output_type": "stream",
     "text": [
      "20230317 SM_Lek1 P1D1\n",
      "20230317 SM_Lek1 P1D2\n",
      "20230317 SM_Lek1 P2D3\n",
      "20230317 SM_Lek1 P2D4\n",
      "20230317 SM_Lek1 P3D5\n",
      "20230317 SM_Lek1 P3D6\n"
     ]
    }
   ],
   "source": [
    "for date in DATE:\n",
    "    for session in SESSION:\n",
    "        for drone in DRONE:\n",
    "            print(date, session, drone)\n",
    "            \n",
    "            internal_path = files_directory + '/' + date + '/' + session + '/' + drone\n",
    "            files = glob.glob(internal_path + '/' + date + '_' + session + '_' + drone + '*_3D_trajectories.csv')\n",
    "            \n",
    "            for file in sorted(files): \n",
    "                df = pd.read_csv(file)\n",
    "                territories_utm = utm.from_latlon(df.loc[:,'latitude'].values, df.loc[:,'longitude'].values)\n",
    "                df['easting'] = territories_utm[0]\n",
    "                df['northing'] = territories_utm[1]\n",
    "                \n",
    "                filename = os.path.basename(file).replace('_3D_trajectories.csv', '_3D_trajectories_utm.csv')\n",
    "                df.to_csv(os.path.join(os.path.dirname(file), filename), index=False, mode='w')"
   ]
  },
  {
   "cell_type": "code",
   "execution_count": null,
   "id": "d5c250ba",
   "metadata": {},
   "outputs": [],
   "source": []
  }
 ],
 "metadata": {
  "kernelspec": {
   "display_name": "Python 3 (ipykernel)",
   "language": "python",
   "name": "python3"
  },
  "language_info": {
   "codemirror_mode": {
    "name": "ipython",
    "version": 3
   },
   "file_extension": ".py",
   "mimetype": "text/x-python",
   "name": "python",
   "nbconvert_exporter": "python",
   "pygments_lexer": "ipython3",
   "version": "3.8.15"
  }
 },
 "nbformat": 4,
 "nbformat_minor": 5
}
