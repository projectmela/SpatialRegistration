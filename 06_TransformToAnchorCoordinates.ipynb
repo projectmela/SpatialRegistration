{
 "cells": [
  {
   "cell_type": "code",
   "execution_count": 1,
   "id": "d30fac07",
   "metadata": {},
   "outputs": [],
   "source": [
    "import numpy as np\n",
    "import pandas as pd\n",
    "import matplotlib.pyplot as plt\n",
    "import seaborn as sns\n",
    "\n",
    "import os\n",
    "import glob\n",
    "import pickle\n",
    "import helper_functions_06b as hf"
   ]
  },
  {
   "cell_type": "code",
   "execution_count": 2,
   "id": "973efc85",
   "metadata": {},
   "outputs": [],
   "source": [
    "DATE = ['20230302']#, '20230305']\n",
    "SESSION = ['SM_Lek1']#, 'SE_Lek1']\n",
    "DRONE = ['P1D1', 'P1D2', 'P2D3', 'P2D4', 'P3D5', 'P3D6']\n",
    "\n",
    "tracking_directory = '/Volumes/EAS_shared/blackbuck/working/processed/Field_Recording_2023/TestRegistration'"
   ]
  },
  {
   "cell_type": "code",
   "execution_count": 3,
   "id": "b85a37b5",
   "metadata": {},
   "outputs": [],
   "source": [
    "# Thresholds for translation, rotation, and scale\n",
    "thresholds = {\n",
    "    'T_translation': 30,  # e.g., 30 pixels\n",
    "    'T_rotation': 20,     # e.g., 20 degrees\n",
    "    'T_scale': 0.1         # e.g., 10% change\n",
    "}"
   ]
  },
  {
   "cell_type": "code",
   "execution_count": 4,
   "id": "ceb5c2d5",
   "metadata": {},
   "outputs": [
    {
     "name": "stdout",
     "output_type": "stream",
     "text": [
      "20230302 SM_Lek1 P1D1\n",
      "Initial identification of anchors takes  15.040010929107666\n",
      "Finding the best anchors took 285.0100779533386\n",
      "Applying homography to the best anchors takes  153.03230714797974\n",
      "Initial identification of anchors takes  15.026885032653809\n",
      "Finding the best anchors took 157.0563199520111\n",
      "Applying homography to the best anchors takes  153.33962202072144\n",
      "20230302 SM_Lek1 P1D2\n",
      "Initial identification of anchors takes  18.80779504776001\n",
      "Finding the best anchors took 637.5696477890015\n",
      "Applying homography to the best anchors takes  156.46743607521057\n",
      "Initial identification of anchors takes  20.224579095840454\n",
      "Finding the best anchors took 645.2374651432037\n",
      "Applying homography to the best anchors takes  157.8263430595398\n",
      "20230302 SM_Lek1 P2D3\n",
      "Initial identification of anchors takes  14.759687900543213\n",
      "Finding the best anchors took 119.84810996055603\n",
      "Applying homography to the best anchors takes  200.67274117469788\n",
      "Initial identification of anchors takes  17.438215970993042\n",
      "Finding the best anchors took 103.77480912208557\n",
      "Applying homography to the best anchors takes  200.50561714172363\n",
      "20230302 SM_Lek1 P2D4\n",
      "Initial identification of anchors takes  17.467467069625854\n",
      "Finding the best anchors took 363.656387090683\n",
      "Applying homography to the best anchors takes  190.11563301086426\n",
      "Initial identification of anchors takes  15.418969869613647\n",
      "Finding the best anchors took 103.02203226089478\n",
      "Applying homography to the best anchors takes  183.54254412651062\n",
      "20230302 SM_Lek1 P3D5\n",
      "Initial identification of anchors takes  12.453464984893799\n",
      "Finding the best anchors took 52.81300926208496\n",
      "Applying homography to the best anchors takes  77.92211198806763\n",
      "Initial identification of anchors takes  11.322246789932251\n",
      "Finding the best anchors took 33.12313437461853\n",
      "Applying homography to the best anchors takes  79.45496797561646\n",
      "20230302 SM_Lek1 P3D6\n",
      "Initial identification of anchors takes  10.866554021835327\n",
      "Finding the best anchors took 63.04811096191406\n",
      "Applying homography to the best anchors takes  78.7903938293457\n"
     ]
    }
   ],
   "source": [
    "for date in DATE:\n",
    "    for session in SESSION:\n",
    "        for drone in DRONE:\n",
    "            print(date, session, drone)\n",
    "            \n",
    "            internal_path = tracking_directory + '/' + date + '/' + session + '/' + drone\n",
    "            files = glob.glob(internal_path + '/' + date + '_' + session + '_' + drone + '*_tracked.csv')\n",
    "            \n",
    "            for file in sorted(files):\n",
    "                df = pd.read_csv(file)\n",
    "                \n",
    "                df['x'] = df['bb_left'] + df['bb_width']/2\n",
    "                df['y'] = df['bb_top'] + df['bb_height']/2\n",
    "                df['idx'] = df['track_id']\n",
    "\n",
    "                df = df.loc[:,['frame', 'x', 'y', 'idx']]\n",
    "                \n",
    "                # Step 1: Identify anchor frames\n",
    "                anchor_frames = hf.identify_anchor_frames(df, thresholds)\n",
    "\n",
    "                # Step 2: Find the best anchor for each frame\n",
    "                df = hf.find_best_anchor_for_each_frame_parallel(df, anchor_frames)\n",
    "\n",
    "                # Step 3: Apply homography using the best anchor for each frame\n",
    "                df, homography_matrices, rms_errors = hf.apply_homography_to_best_anchor(df)\n",
    "                \n",
    "                anchor_filename = os.path.basename(file).replace('_YOLO_tracked.csv', '_Anchored.csv')\n",
    "                pickle_filename = os.path.basename(file).replace('_YOLO_tracked.csv', '_homographies.pkl')\n",
    "                df.to_csv(os.path.join(os.path.dirname(file), anchor_filename), index=False, mode='w')\n",
    "                with open(os.path.join(os.path.dirname(file), pickle_filename), 'wb') as f:\n",
    "                    pickle.dump(homography_matrices, f)"
   ]
  },
  {
   "cell_type": "code",
   "execution_count": null,
   "id": "a365ef38",
   "metadata": {},
   "outputs": [],
   "source": []
  }
 ],
 "metadata": {
  "kernelspec": {
   "display_name": "Python 3 (ipykernel)",
   "language": "python",
   "name": "python3"
  },
  "language_info": {
   "codemirror_mode": {
    "name": "ipython",
    "version": 3
   },
   "file_extension": ".py",
   "mimetype": "text/x-python",
   "name": "python",
   "nbconvert_exporter": "python",
   "pygments_lexer": "ipython3",
   "version": "3.8.15"
  }
 },
 "nbformat": 4,
 "nbformat_minor": 5
}
