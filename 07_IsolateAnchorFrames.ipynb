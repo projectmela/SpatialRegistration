{
 "cells": [
  {
   "cell_type": "code",
   "execution_count": 1,
   "id": "6a57fea3",
   "metadata": {},
   "outputs": [],
   "source": [
    "import numpy as np\n",
    "import pandas as pd\n",
    "\n",
    "import cv2\n",
    "import os\n",
    "import glob\n",
    "import helper_functions_07b as hf\n",
    "\n",
    "from multiprocessing import Pool"
   ]
  },
  {
   "cell_type": "code",
   "execution_count": 2,
   "id": "e7a789fb",
   "metadata": {},
   "outputs": [],
   "source": [
    "DATE = ['20230308']#, '20230306']\n",
    "SESSION = ['SE_Lek1']#, 'SE_Lek1']\n",
    "DRONE = ['P3D6']#, 'P1D2', 'P2D3', 'P2D4', 'P3D5', 'P3D6']\n",
    "\n",
    "files_directory = '/Volumes/EAS_shared/blackbuck/working/processed/Field_Recording_2023/SpatialRegistration'\n",
    "video_directory = '/Volumes/EAS_shared/blackbuck/working/rawdata/Field_Recording_2023/Original/lekking'"
   ]
  },
  {
   "cell_type": "code",
   "execution_count": 3,
   "id": "252174ad",
   "metadata": {},
   "outputs": [
    {
     "name": "stdout",
     "output_type": "stream",
     "text": [
      "20230308 SE_Lek1 P3D6\n",
      "Total frames in video: 5802\n",
      "Frame extraction completed for video 20230308_SE_Lek1_P3D6_DJI_0731\n",
      "Total frames in video: 5815\n",
      "Frame extraction completed for video 20230308_SE_Lek1_P3D6_DJI_0732\n",
      "Total frames in video: 5815\n",
      "Frame extraction completed for video 20230308_SE_Lek1_P3D6_DJI_0733\n",
      "Total frames in video: 5815\n",
      "Frame extraction completed for video 20230308_SE_Lek1_P3D6_DJI_0734\n",
      "Total frames in video: 5812\n",
      "Frame extraction completed for video 20230308_SE_Lek1_P3D6_DJI_0735\n",
      "Total frames in video: 2298\n",
      "Frame extraction completed for video 20230308_SE_Lek1_P3D6_DJI_0736\n",
      "Total frames in video: 5800\n",
      "Frame extraction completed for video 20230308_SE_Lek1_P3D6_DJI_0737\n",
      "Total frames in video: 5819\n",
      "Frame extraction completed for video 20230308_SE_Lek1_P3D6_DJI_0738\n",
      "Total frames in video: 5816\n",
      "Frame extraction completed for video 20230308_SE_Lek1_P3D6_DJI_0739\n",
      "Total frames in video: 5815\n",
      "Frame extraction completed for video 20230308_SE_Lek1_P3D6_DJI_0740\n",
      "Total frames in video: 2363\n",
      "Frame extraction completed for video 20230308_SE_Lek1_P3D6_DJI_0741\n"
     ]
    }
   ],
   "source": [
    "# Generate all tasks\n",
    "tasks = [(date, session, drone, files_directory, video_directory) for date in DATE for session in SESSION for drone in DRONE]\n",
    "\n",
    "# Use multiprocessing Pool to parallelize\n",
    "with Pool(processes=6) as pool:  # Adjust the number of processes based on the number of tasks or on your CPU\n",
    "    pool.map(hf.process_task, tasks)"
   ]
  }
 ],
 "metadata": {
  "kernelspec": {
   "display_name": "Python 3 (ipykernel)",
   "language": "python",
   "name": "python3"
  },
  "language_info": {
   "codemirror_mode": {
    "name": "ipython",
    "version": 3
   },
   "file_extension": ".py",
   "mimetype": "text/x-python",
   "name": "python",
   "nbconvert_exporter": "python",
   "pygments_lexer": "ipython3",
   "version": "3.8.15"
  }
 },
 "nbformat": 4,
 "nbformat_minor": 5
}
