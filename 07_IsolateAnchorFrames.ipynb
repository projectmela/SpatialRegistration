{
 "cells": [
  {
   "cell_type": "code",
   "execution_count": 1,
   "id": "6a57fea3",
   "metadata": {},
   "outputs": [],
   "source": [
    "import numpy as np\n",
    "import pandas as pd\n",
    "\n",
    "import cv2\n",
    "import os\n",
    "import glob\n",
    "import helper_functions_07b as hf\n",
    "\n",
    "from multiprocessing import Pool"
   ]
  },
  {
   "cell_type": "code",
   "execution_count": 2,
   "id": "e7a789fb",
   "metadata": {},
   "outputs": [],
   "source": [
    "DATE = ['20230302', '20230303']\n",
    "SESSION = ['SM_Lek1', 'SE_Lek1']\n",
    "DRONE = ['P1D1', 'P1D2', 'P2D3', 'P2D4', 'P3D5', 'P3D6']\n",
    "\n",
    "files_directory = '/Volumes/EAS_shared/blackbuck/working/processed/Field_Recording_2023/SpatialRegistration'\n",
    "video_directory = '/Volumes/EAS_shared/blackbuck/working/rawdata/Field_Recording_2023/Original/lekking'"
   ]
  },
  {
   "cell_type": "code",
   "execution_count": null,
   "id": "252174ad",
   "metadata": {},
   "outputs": [],
   "source": [
    "# Generate all tasks\n",
    "tasks = [(date, session, drone, files_directory, video_directory) for date in DATE for session in SESSION for drone in DRONE]\n",
    "\n",
    "# Use multiprocessing Pool to parallelize\n",
    "with Pool(processes=6) as pool:  # Adjust the number of processes based on the number of tasks or on your CPU\n",
    "    pool.map(hf.process_task, tasks)"
   ]
  }
 ],
 "metadata": {
  "kernelspec": {
   "display_name": "Python 3 (ipykernel)",
   "language": "python",
   "name": "python3"
  },
  "language_info": {
   "codemirror_mode": {
    "name": "ipython",
    "version": 3
   },
   "file_extension": ".py",
   "mimetype": "text/x-python",
   "name": "python",
   "nbconvert_exporter": "python",
   "pygments_lexer": "ipython3",
   "version": "3.8.15"
  }
 },
 "nbformat": 4,
 "nbformat_minor": 5
}
