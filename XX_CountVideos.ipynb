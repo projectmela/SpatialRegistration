{
 "cells": [
  {
   "cell_type": "code",
   "execution_count": 1,
   "id": "e072085d",
   "metadata": {},
   "outputs": [],
   "source": [
    "import numpy as np\n",
    "import pandas as pd\n",
    "\n",
    "import os\n",
    "import glob"
   ]
  },
  {
   "cell_type": "code",
   "execution_count": 2,
   "id": "82247614",
   "metadata": {},
   "outputs": [],
   "source": [
    "DATE = ['20230318']\n",
    "SESSION = ['SM_Lek1', 'SE_Lek1']\n",
    "DRONE = ['P1D1', 'P1D2', 'P2D3', 'P2D4', 'P3D5', 'P3D6']\n",
    "\n",
    "tracking_directory = '/Volumes/EAS_shared/blackbuck/working/processed/Field_Recording_2023/SpatialRegistration'"
   ]
  },
  {
   "cell_type": "code",
   "execution_count": 3,
   "id": "9c027c37",
   "metadata": {},
   "outputs": [
    {
     "name": "stdout",
     "output_type": "stream",
     "text": [
      "107\n"
     ]
    }
   ],
   "source": [
    "count = 0\n",
    "for date in DATE:\n",
    "    for session in SESSION:\n",
    "        for drone in DRONE:\n",
    "            \n",
    "            internal_path = tracking_directory + '/' + date + '/' + session + '/' + drone\n",
    "            files = glob.glob(internal_path + '/' + date + '_' + session + '_' + drone + '*_tracked.csv')\n",
    "            count += len(files)\n",
    "\n",
    "print(count)"
   ]
  },
  {
   "cell_type": "code",
   "execution_count": null,
   "id": "bd1fa3ac",
   "metadata": {},
   "outputs": [],
   "source": []
  }
 ],
 "metadata": {
  "kernelspec": {
   "display_name": "Python 3 (ipykernel)",
   "language": "python",
   "name": "python3"
  },
  "language_info": {
   "codemirror_mode": {
    "name": "ipython",
    "version": 3
   },
   "file_extension": ".py",
   "mimetype": "text/x-python",
   "name": "python",
   "nbconvert_exporter": "python",
   "pygments_lexer": "ipython3",
   "version": "3.8.15"
  }
 },
 "nbformat": 4,
 "nbformat_minor": 5
}
