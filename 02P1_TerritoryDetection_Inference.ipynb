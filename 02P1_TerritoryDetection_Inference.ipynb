{
 "cells": [
  {
   "cell_type": "code",
   "execution_count": 1,
   "id": "4dee4ad4",
   "metadata": {},
   "outputs": [
    {
     "name": "stdout",
     "output_type": "stream",
     "text": [
      "Loading DLC 2.3.5...\n"
     ]
    }
   ],
   "source": [
    "import os\n",
    "import deeplabcut"
   ]
  },
  {
   "cell_type": "code",
   "execution_count": 2,
   "id": "52afc396",
   "metadata": {},
   "outputs": [],
   "source": [
    "SSD = ['SSD7']\n",
    "DATE = ['20230316']#, '20230316']\n",
    "SESSION = ['SE_Lek1']\n",
    "DRONE = ['P1D1', 'P1D2']\n",
    "\n",
    "config_path = '/home/vsridhar/DATA/DeepLabCut/projects/06_TerritoryDetectionP1-Vivek-2023-08-01/config.yaml'"
   ]
  },
  {
   "cell_type": "code",
   "execution_count": 3,
   "id": "245d8478",
   "metadata": {
    "scrolled": true
   },
   "outputs": [
    {
     "name": "stdout",
     "output_type": "stream",
     "text": [
      "Using snapshot-50000 for model /home/vsridhar/DATA/DeepLabCut/projects/06_TerritoryDetectionP1-Vivek-2023-08-01/dlc-models/iteration-0/06_TerritoryDetectionP1Aug1-trainset90shuffle1\n"
     ]
    },
    {
     "name": "stderr",
     "output_type": "stream",
     "text": [
      "/home/vsridhar/.local/lib/python3.10/site-packages/tensorflow/python/keras/engine/base_layer_v1.py:1694: UserWarning: `layer.apply` is deprecated and will be removed in a future version. Please use `layer.__call__` method instead.\n",
      "  warnings.warn('`layer.apply` is deprecated and '\n",
      "/home/vsridhar/.local/lib/python3.10/site-packages/tf_slim/layers/layers.py:684: UserWarning: `layer.apply` is deprecated and will be removed in a future version. Please use `layer.__call__` method instead.\n",
      "  outputs = layer.apply(inputs, training=is_training)\n"
     ]
    },
    {
     "name": "stdout",
     "output_type": "stream",
     "text": [
      "Activating extracting of PAFs\n",
      "Analyzing all the videos in the directory...\n",
      "Starting to analyze %  /media/vsridhar/T7/Work/Data/BlackbuckAnnotations/P1/downsampled/SSD7/20230316/SE_Lek1/P1D1/20230316_SE_Lek1_P1D1_DJI_0386.MP4\n",
      "Loading  /media/vsridhar/T7/Work/Data/BlackbuckAnnotations/P1/downsampled/SSD7/20230316/SE_Lek1/P1D1/20230316_SE_Lek1_P1D1_DJI_0386.MP4\n",
      "Duration of video [s]:  184.92 , recorded with  29.97 fps!\n",
      "Overall # of frames:  5542  found with (before cropping) frame dimensions:  1824 1026\n",
      "Starting to extract posture from the video(s) with batchsize: 8\n"
     ]
    },
    {
     "name": "stderr",
     "output_type": "stream",
     "text": [
      "100%|████████████████████████████████████████████████████████████████████████████████████| 5542/5542 [04:40<00:00, 19.77it/s]\n"
     ]
    },
    {
     "name": "stdout",
     "output_type": "stream",
     "text": [
      "Video Analyzed. Saving results in /home/vsridhar/DATA/DeepLabCut/projects/06_TerritoryDetectionP1-Vivek-2023-08-01/output/SSD7/20230316/SE_Lek1/P1D1...\n",
      "Using snapshot-50000 for model /home/vsridhar/DATA/DeepLabCut/projects/06_TerritoryDetectionP1-Vivek-2023-08-01/dlc-models/iteration-0/06_TerritoryDetectionP1Aug1-trainset90shuffle1\n",
      "Processing...  /media/vsridhar/T7/Work/Data/BlackbuckAnnotations/P1/downsampled/SSD7/20230316/SE_Lek1/P1D1/20230316_SE_Lek1_P1D1_DJI_0386.MP4\n",
      "Analyzing /home/vsridhar/DATA/DeepLabCut/projects/06_TerritoryDetectionP1-Vivek-2023-08-01/output/SSD7/20230316/SE_Lek1/P1D1/20230316_SE_Lek1_P1D1_DJI_0386DLC_dlcrnetms5_06_TerritoryDetectionP1Aug1shuffle1_50000.h5\n"
     ]
    },
    {
     "name": "stderr",
     "output_type": "stream",
     "text": [
      "100%|███████████████████████████████████████████████████████████████████████████████████| 5542/5542 [00:14<00:00, 388.52it/s]\n",
      "5542it [00:25, 219.06it/s]\n"
     ]
    },
    {
     "name": "stdout",
     "output_type": "stream",
     "text": [
      "The tracklets were created (i.e., under the hood deeplabcut.convert_detections2tracklets was run). Now you can 'refine_tracklets' in the GUI, or run 'deeplabcut.stitch_tracklets'.\n",
      "Processing...  /media/vsridhar/T7/Work/Data/BlackbuckAnnotations/P1/downsampled/SSD7/20230316/SE_Lek1/P1D1/20230316_SE_Lek1_P1D1_DJI_0386.MP4\n"
     ]
    },
    {
     "name": "stderr",
     "output_type": "stream",
     "text": [
      "/home/vsridhar/.local/lib/python3.10/site-packages/deeplabcut/refine_training_dataset/stitch.py:138: FutureWarning: Unlike other reduction functions (e.g. `skew`, `kurtosis`), the default behavior of `mode` typically preserves the axis it acts along. In SciPy 1.11.0, this behavior will change: the default value of `keepdims` will become False, the `axis` over which the statistic is taken will be eliminated, and the value None will no longer be accepted. Set `keepdims` to True or False to avoid this warning.\n",
      "  return mode(self.data[..., 3], axis=None, nan_policy=\"omit\")[0][0]\n",
      "100%|████████████████████████████████████████████████████████████████████████████████████| 224/224 [00:00<00:00, 3027.72it/s]\n"
     ]
    },
    {
     "name": "stdout",
     "output_type": "stream",
     "text": [
      "Starting to analyze %  /media/vsridhar/T7/Work/Data/BlackbuckAnnotations/P1/downsampled/SSD7/20230316/SE_Lek1/P1D1/20230316_SE_Lek1_P1D1_DJI_0383.MP4\n",
      "Loading  /media/vsridhar/T7/Work/Data/BlackbuckAnnotations/P1/downsampled/SSD7/20230316/SE_Lek1/P1D1/20230316_SE_Lek1_P1D1_DJI_0383.MP4\n",
      "Duration of video [s]:  193.99 , recorded with  29.97 fps!\n",
      "Overall # of frames:  5814  found with (before cropping) frame dimensions:  1824 1026\n",
      "Starting to extract posture from the video(s) with batchsize: 8\n"
     ]
    },
    {
     "name": "stderr",
     "output_type": "stream",
     "text": [
      "100%|████████████████████████████████████████████████████████████████████████████████████| 5814/5814 [04:41<00:00, 20.65it/s]\n"
     ]
    },
    {
     "name": "stdout",
     "output_type": "stream",
     "text": [
      "Video Analyzed. Saving results in /home/vsridhar/DATA/DeepLabCut/projects/06_TerritoryDetectionP1-Vivek-2023-08-01/output/SSD7/20230316/SE_Lek1/P1D1...\n",
      "Using snapshot-50000 for model /home/vsridhar/DATA/DeepLabCut/projects/06_TerritoryDetectionP1-Vivek-2023-08-01/dlc-models/iteration-0/06_TerritoryDetectionP1Aug1-trainset90shuffle1\n",
      "Processing...  /media/vsridhar/T7/Work/Data/BlackbuckAnnotations/P1/downsampled/SSD7/20230316/SE_Lek1/P1D1/20230316_SE_Lek1_P1D1_DJI_0383.MP4\n",
      "Analyzing /home/vsridhar/DATA/DeepLabCut/projects/06_TerritoryDetectionP1-Vivek-2023-08-01/output/SSD7/20230316/SE_Lek1/P1D1/20230316_SE_Lek1_P1D1_DJI_0383DLC_dlcrnetms5_06_TerritoryDetectionP1Aug1shuffle1_50000.h5\n"
     ]
    },
    {
     "name": "stderr",
     "output_type": "stream",
     "text": [
      "100%|███████████████████████████████████████████████████████████████████████████████████| 5814/5814 [00:13<00:00, 437.75it/s]\n",
      "5814it [00:22, 262.53it/s]\n"
     ]
    },
    {
     "name": "stdout",
     "output_type": "stream",
     "text": [
      "The tracklets were created (i.e., under the hood deeplabcut.convert_detections2tracklets was run). Now you can 'refine_tracklets' in the GUI, or run 'deeplabcut.stitch_tracklets'.\n",
      "Processing...  /media/vsridhar/T7/Work/Data/BlackbuckAnnotations/P1/downsampled/SSD7/20230316/SE_Lek1/P1D1/20230316_SE_Lek1_P1D1_DJI_0383.MP4\n"
     ]
    },
    {
     "name": "stderr",
     "output_type": "stream",
     "text": [
      "/home/vsridhar/.local/lib/python3.10/site-packages/deeplabcut/refine_training_dataset/stitch.py:138: FutureWarning: Unlike other reduction functions (e.g. `skew`, `kurtosis`), the default behavior of `mode` typically preserves the axis it acts along. In SciPy 1.11.0, this behavior will change: the default value of `keepdims` will become False, the `axis` over which the statistic is taken will be eliminated, and the value None will no longer be accepted. Set `keepdims` to True or False to avoid this warning.\n",
      "  return mode(self.data[..., 3], axis=None, nan_policy=\"omit\")[0][0]\n",
      "100%|████████████████████████████████████████████████████████████████████████████████████| 235/235 [00:00<00:00, 2599.80it/s]\n"
     ]
    },
    {
     "name": "stdout",
     "output_type": "stream",
     "text": [
      "Starting to analyze %  /media/vsridhar/T7/Work/Data/BlackbuckAnnotations/P1/downsampled/SSD7/20230316/SE_Lek1/P1D1/20230316_SE_Lek1_P1D1_DJI_0384.MP4\n",
      "Loading  /media/vsridhar/T7/Work/Data/BlackbuckAnnotations/P1/downsampled/SSD7/20230316/SE_Lek1/P1D1/20230316_SE_Lek1_P1D1_DJI_0384.MP4\n",
      "Duration of video [s]:  193.99 , recorded with  29.97 fps!\n",
      "Overall # of frames:  5814  found with (before cropping) frame dimensions:  1824 1026\n",
      "Starting to extract posture from the video(s) with batchsize: 8\n"
     ]
    },
    {
     "name": "stderr",
     "output_type": "stream",
     "text": [
      "100%|████████████████████████████████████████████████████████████████████████████████████| 5814/5814 [04:45<00:00, 20.36it/s]\n"
     ]
    },
    {
     "name": "stdout",
     "output_type": "stream",
     "text": [
      "Video Analyzed. Saving results in /home/vsridhar/DATA/DeepLabCut/projects/06_TerritoryDetectionP1-Vivek-2023-08-01/output/SSD7/20230316/SE_Lek1/P1D1...\n",
      "Using snapshot-50000 for model /home/vsridhar/DATA/DeepLabCut/projects/06_TerritoryDetectionP1-Vivek-2023-08-01/dlc-models/iteration-0/06_TerritoryDetectionP1Aug1-trainset90shuffle1\n",
      "Processing...  /media/vsridhar/T7/Work/Data/BlackbuckAnnotations/P1/downsampled/SSD7/20230316/SE_Lek1/P1D1/20230316_SE_Lek1_P1D1_DJI_0384.MP4\n",
      "Analyzing /home/vsridhar/DATA/DeepLabCut/projects/06_TerritoryDetectionP1-Vivek-2023-08-01/output/SSD7/20230316/SE_Lek1/P1D1/20230316_SE_Lek1_P1D1_DJI_0384DLC_dlcrnetms5_06_TerritoryDetectionP1Aug1shuffle1_50000.h5\n"
     ]
    },
    {
     "name": "stderr",
     "output_type": "stream",
     "text": [
      "100%|███████████████████████████████████████████████████████████████████████████████████| 5814/5814 [00:15<00:00, 374.61it/s]\n",
      "5814it [00:24, 237.22it/s]\n"
     ]
    },
    {
     "name": "stdout",
     "output_type": "stream",
     "text": [
      "The tracklets were created (i.e., under the hood deeplabcut.convert_detections2tracklets was run). Now you can 'refine_tracklets' in the GUI, or run 'deeplabcut.stitch_tracklets'.\n",
      "Processing...  /media/vsridhar/T7/Work/Data/BlackbuckAnnotations/P1/downsampled/SSD7/20230316/SE_Lek1/P1D1/20230316_SE_Lek1_P1D1_DJI_0384.MP4\n"
     ]
    },
    {
     "name": "stderr",
     "output_type": "stream",
     "text": [
      "/home/vsridhar/.local/lib/python3.10/site-packages/deeplabcut/refine_training_dataset/stitch.py:138: FutureWarning: Unlike other reduction functions (e.g. `skew`, `kurtosis`), the default behavior of `mode` typically preserves the axis it acts along. In SciPy 1.11.0, this behavior will change: the default value of `keepdims` will become False, the `axis` over which the statistic is taken will be eliminated, and the value None will no longer be accepted. Set `keepdims` to True or False to avoid this warning.\n",
      "  return mode(self.data[..., 3], axis=None, nan_policy=\"omit\")[0][0]\n",
      "100%|████████████████████████████████████████████████████████████████████████████████████| 199/199 [00:00<00:00, 3198.78it/s]\n"
     ]
    },
    {
     "name": "stdout",
     "output_type": "stream",
     "text": [
      "Starting to analyze %  /media/vsridhar/T7/Work/Data/BlackbuckAnnotations/P1/downsampled/SSD7/20230316/SE_Lek1/P1D1/20230316_SE_Lek1_P1D1_DJI_0382.MP4\n",
      "Loading  /media/vsridhar/T7/Work/Data/BlackbuckAnnotations/P1/downsampled/SSD7/20230316/SE_Lek1/P1D1/20230316_SE_Lek1_P1D1_DJI_0382.MP4\n",
      "Duration of video [s]:  193.73 , recorded with  29.97 fps!\n",
      "Overall # of frames:  5806  found with (before cropping) frame dimensions:  1824 1026\n",
      "Starting to extract posture from the video(s) with batchsize: 8\n"
     ]
    },
    {
     "name": "stderr",
     "output_type": "stream",
     "text": [
      "100%|████████████████████████████████████████████████████████████████████████████████████| 5806/5806 [04:42<00:00, 20.56it/s]\n"
     ]
    },
    {
     "name": "stdout",
     "output_type": "stream",
     "text": [
      "Video Analyzed. Saving results in /home/vsridhar/DATA/DeepLabCut/projects/06_TerritoryDetectionP1-Vivek-2023-08-01/output/SSD7/20230316/SE_Lek1/P1D1...\n",
      "Using snapshot-50000 for model /home/vsridhar/DATA/DeepLabCut/projects/06_TerritoryDetectionP1-Vivek-2023-08-01/dlc-models/iteration-0/06_TerritoryDetectionP1Aug1-trainset90shuffle1\n",
      "Processing...  /media/vsridhar/T7/Work/Data/BlackbuckAnnotations/P1/downsampled/SSD7/20230316/SE_Lek1/P1D1/20230316_SE_Lek1_P1D1_DJI_0382.MP4\n",
      "Analyzing /home/vsridhar/DATA/DeepLabCut/projects/06_TerritoryDetectionP1-Vivek-2023-08-01/output/SSD7/20230316/SE_Lek1/P1D1/20230316_SE_Lek1_P1D1_DJI_0382DLC_dlcrnetms5_06_TerritoryDetectionP1Aug1shuffle1_50000.h5\n"
     ]
    },
    {
     "name": "stderr",
     "output_type": "stream",
     "text": [
      "100%|███████████████████████████████████████████████████████████████████████████████████| 5806/5806 [00:14<00:00, 406.65it/s]\n",
      "5806it [00:23, 247.57it/s]\n"
     ]
    },
    {
     "name": "stdout",
     "output_type": "stream",
     "text": [
      "The tracklets were created (i.e., under the hood deeplabcut.convert_detections2tracklets was run). Now you can 'refine_tracklets' in the GUI, or run 'deeplabcut.stitch_tracklets'.\n",
      "Processing...  /media/vsridhar/T7/Work/Data/BlackbuckAnnotations/P1/downsampled/SSD7/20230316/SE_Lek1/P1D1/20230316_SE_Lek1_P1D1_DJI_0382.MP4\n"
     ]
    },
    {
     "name": "stderr",
     "output_type": "stream",
     "text": [
      "/home/vsridhar/.local/lib/python3.10/site-packages/deeplabcut/refine_training_dataset/stitch.py:138: FutureWarning: Unlike other reduction functions (e.g. `skew`, `kurtosis`), the default behavior of `mode` typically preserves the axis it acts along. In SciPy 1.11.0, this behavior will change: the default value of `keepdims` will become False, the `axis` over which the statistic is taken will be eliminated, and the value None will no longer be accepted. Set `keepdims` to True or False to avoid this warning.\n",
      "  return mode(self.data[..., 3], axis=None, nan_policy=\"omit\")[0][0]\n",
      "100%|████████████████████████████████████████████████████████████████████████████████████| 314/314 [00:00<00:00, 2623.79it/s]\n"
     ]
    },
    {
     "name": "stdout",
     "output_type": "stream",
     "text": [
      "Starting to analyze %  /media/vsridhar/T7/Work/Data/BlackbuckAnnotations/P1/downsampled/SSD7/20230316/SE_Lek1/P1D1/20230316_SE_Lek1_P1D1_DJI_0385.MP4\n",
      "Video already analyzed! /home/vsridhar/DATA/DeepLabCut/projects/06_TerritoryDetectionP1-Vivek-2023-08-01/output/SSD7/20230316/SE_Lek1/P1D1/20230316_SE_Lek1_P1D1_DJI_0385DLC_dlcrnetms5_06_TerritoryDetectionP1Aug1shuffle1_50000.h5\n",
      "Using snapshot-50000 for model /home/vsridhar/DATA/DeepLabCut/projects/06_TerritoryDetectionP1-Vivek-2023-08-01/dlc-models/iteration-0/06_TerritoryDetectionP1Aug1-trainset90shuffle1\n",
      "Processing...  /media/vsridhar/T7/Work/Data/BlackbuckAnnotations/P1/downsampled/SSD7/20230316/SE_Lek1/P1D1/20230316_SE_Lek1_P1D1_DJI_0385.MP4\n",
      "Analyzing /home/vsridhar/DATA/DeepLabCut/projects/06_TerritoryDetectionP1-Vivek-2023-08-01/output/SSD7/20230316/SE_Lek1/P1D1/20230316_SE_Lek1_P1D1_DJI_0385DLC_dlcrnetms5_06_TerritoryDetectionP1Aug1shuffle1_50000.h5\n"
     ]
    },
    {
     "name": "stderr",
     "output_type": "stream",
     "text": [
      "100%|███████████████████████████████████████████████████████████████████████████████████| 5814/5814 [00:16<00:00, 351.57it/s]\n",
      "5814it [00:23, 250.57it/s]\n"
     ]
    },
    {
     "name": "stdout",
     "output_type": "stream",
     "text": [
      "The tracklets were created (i.e., under the hood deeplabcut.convert_detections2tracklets was run). Now you can 'refine_tracklets' in the GUI, or run 'deeplabcut.stitch_tracklets'.\n",
      "Processing...  /media/vsridhar/T7/Work/Data/BlackbuckAnnotations/P1/downsampled/SSD7/20230316/SE_Lek1/P1D1/20230316_SE_Lek1_P1D1_DJI_0385.MP4\n"
     ]
    },
    {
     "name": "stderr",
     "output_type": "stream",
     "text": [
      "/home/vsridhar/.local/lib/python3.10/site-packages/deeplabcut/refine_training_dataset/stitch.py:138: FutureWarning: Unlike other reduction functions (e.g. `skew`, `kurtosis`), the default behavior of `mode` typically preserves the axis it acts along. In SciPy 1.11.0, this behavior will change: the default value of `keepdims` will become False, the `axis` over which the statistic is taken will be eliminated, and the value None will no longer be accepted. Set `keepdims` to True or False to avoid this warning.\n",
      "  return mode(self.data[..., 3], axis=None, nan_policy=\"omit\")[0][0]\n",
      "100%|████████████████████████████████████████████████████████████████████████████████████| 158/158 [00:00<00:00, 3229.09it/s]\n"
     ]
    },
    {
     "name": "stdout",
     "output_type": "stream",
     "text": [
      "The videos are analyzed. Time to assemble animals and track 'em... \n",
      " Call 'create_video_with_all_detections' to check multi-animal detection quality before tracking.\n",
      "If the tracking is not satisfactory for some videos, consider expanding the training set. You can use the function 'extract_outlier_frames' to extract a few representative outlier frames.\n",
      "Using snapshot-50000 for model /home/vsridhar/DATA/DeepLabCut/projects/06_TerritoryDetectionP1-Vivek-2023-08-01/dlc-models/iteration-0/06_TerritoryDetectionP1Aug1-trainset90shuffle1\n"
     ]
    },
    {
     "name": "stderr",
     "output_type": "stream",
     "text": [
      "/home/vsridhar/.local/lib/python3.10/site-packages/tensorflow/python/keras/engine/base_layer_v1.py:1694: UserWarning: `layer.apply` is deprecated and will be removed in a future version. Please use `layer.__call__` method instead.\n",
      "  warnings.warn('`layer.apply` is deprecated and '\n",
      "/home/vsridhar/.local/lib/python3.10/site-packages/tf_slim/layers/layers.py:684: UserWarning: `layer.apply` is deprecated and will be removed in a future version. Please use `layer.__call__` method instead.\n",
      "  outputs = layer.apply(inputs, training=is_training)\n"
     ]
    },
    {
     "name": "stdout",
     "output_type": "stream",
     "text": [
      "Activating extracting of PAFs\n",
      "Analyzing all the videos in the directory...\n",
      "Starting to analyze %  /media/vsridhar/T7/Work/Data/BlackbuckAnnotations/P1/downsampled/SSD7/20230316/SE_Lek1/P1D2/20230316_SE_Lek1_P1D2_DJI_0098.MP4\n",
      "Loading  /media/vsridhar/T7/Work/Data/BlackbuckAnnotations/P1/downsampled/SSD7/20230316/SE_Lek1/P1D2/20230316_SE_Lek1_P1D2_DJI_0098.MP4\n",
      "Duration of video [s]:  194.06 , recorded with  29.97 fps!\n",
      "Overall # of frames:  5816  found with (before cropping) frame dimensions:  1824 1026\n",
      "Starting to extract posture from the video(s) with batchsize: 8\n"
     ]
    },
    {
     "name": "stderr",
     "output_type": "stream",
     "text": [
      "100%|████████████████████████████████████████████████████████████████████████████████████| 5816/5816 [04:46<00:00, 20.28it/s]\n"
     ]
    },
    {
     "name": "stdout",
     "output_type": "stream",
     "text": [
      "Video Analyzed. Saving results in /home/vsridhar/DATA/DeepLabCut/projects/06_TerritoryDetectionP1-Vivek-2023-08-01/output/SSD7/20230316/SE_Lek1/P1D2...\n",
      "Using snapshot-50000 for model /home/vsridhar/DATA/DeepLabCut/projects/06_TerritoryDetectionP1-Vivek-2023-08-01/dlc-models/iteration-0/06_TerritoryDetectionP1Aug1-trainset90shuffle1\n",
      "Processing...  /media/vsridhar/T7/Work/Data/BlackbuckAnnotations/P1/downsampled/SSD7/20230316/SE_Lek1/P1D2/20230316_SE_Lek1_P1D2_DJI_0098.MP4\n",
      "Analyzing /home/vsridhar/DATA/DeepLabCut/projects/06_TerritoryDetectionP1-Vivek-2023-08-01/output/SSD7/20230316/SE_Lek1/P1D2/20230316_SE_Lek1_P1D2_DJI_0098DLC_dlcrnetms5_06_TerritoryDetectionP1Aug1shuffle1_50000.h5\n"
     ]
    },
    {
     "name": "stderr",
     "output_type": "stream",
     "text": [
      "100%|███████████████████████████████████████████████████████████████████████████████████| 5816/5816 [00:14<00:00, 393.27it/s]\n",
      "5816it [00:23, 245.87it/s]\n"
     ]
    },
    {
     "name": "stdout",
     "output_type": "stream",
     "text": [
      "The tracklets were created (i.e., under the hood deeplabcut.convert_detections2tracklets was run). Now you can 'refine_tracklets' in the GUI, or run 'deeplabcut.stitch_tracklets'.\n",
      "Processing...  /media/vsridhar/T7/Work/Data/BlackbuckAnnotations/P1/downsampled/SSD7/20230316/SE_Lek1/P1D2/20230316_SE_Lek1_P1D2_DJI_0098.MP4\n"
     ]
    },
    {
     "name": "stderr",
     "output_type": "stream",
     "text": [
      "/home/vsridhar/.local/lib/python3.10/site-packages/deeplabcut/refine_training_dataset/stitch.py:138: FutureWarning: Unlike other reduction functions (e.g. `skew`, `kurtosis`), the default behavior of `mode` typically preserves the axis it acts along. In SciPy 1.11.0, this behavior will change: the default value of `keepdims` will become False, the `axis` over which the statistic is taken will be eliminated, and the value None will no longer be accepted. Set `keepdims` to True or False to avoid this warning.\n",
      "  return mode(self.data[..., 3], axis=None, nan_policy=\"omit\")[0][0]\n",
      "100%|████████████████████████████████████████████████████████████████████████████████████| 258/258 [00:00<00:00, 2332.51it/s]\n"
     ]
    },
    {
     "name": "stdout",
     "output_type": "stream",
     "text": [
      "Starting to analyze %  /media/vsridhar/T7/Work/Data/BlackbuckAnnotations/P1/downsampled/SSD7/20230316/SE_Lek1/P1D2/20230316_SE_Lek1_P1D2_DJI_0097.MP4\n",
      "Loading  /media/vsridhar/T7/Work/Data/BlackbuckAnnotations/P1/downsampled/SSD7/20230316/SE_Lek1/P1D2/20230316_SE_Lek1_P1D2_DJI_0097.MP4\n",
      "Duration of video [s]:  193.66 , recorded with  29.97 fps!\n",
      "Overall # of frames:  5804  found with (before cropping) frame dimensions:  1824 1026\n",
      "Starting to extract posture from the video(s) with batchsize: 8\n"
     ]
    },
    {
     "name": "stderr",
     "output_type": "stream",
     "text": [
      "100%|████████████████████████████████████████████████████████████████████████████████████| 5804/5804 [04:50<00:00, 20.01it/s]\n"
     ]
    },
    {
     "name": "stdout",
     "output_type": "stream",
     "text": [
      "Video Analyzed. Saving results in /home/vsridhar/DATA/DeepLabCut/projects/06_TerritoryDetectionP1-Vivek-2023-08-01/output/SSD7/20230316/SE_Lek1/P1D2...\n",
      "Using snapshot-50000 for model /home/vsridhar/DATA/DeepLabCut/projects/06_TerritoryDetectionP1-Vivek-2023-08-01/dlc-models/iteration-0/06_TerritoryDetectionP1Aug1-trainset90shuffle1\n",
      "Processing...  /media/vsridhar/T7/Work/Data/BlackbuckAnnotations/P1/downsampled/SSD7/20230316/SE_Lek1/P1D2/20230316_SE_Lek1_P1D2_DJI_0097.MP4\n",
      "Analyzing /home/vsridhar/DATA/DeepLabCut/projects/06_TerritoryDetectionP1-Vivek-2023-08-01/output/SSD7/20230316/SE_Lek1/P1D2/20230316_SE_Lek1_P1D2_DJI_0097DLC_dlcrnetms5_06_TerritoryDetectionP1Aug1shuffle1_50000.h5\n"
     ]
    },
    {
     "name": "stderr",
     "output_type": "stream",
     "text": [
      "100%|███████████████████████████████████████████████████████████████████████████████████| 5804/5804 [00:18<00:00, 321.35it/s]\n",
      "5804it [00:26, 215.06it/s]\n"
     ]
    },
    {
     "name": "stdout",
     "output_type": "stream",
     "text": [
      "The tracklets were created (i.e., under the hood deeplabcut.convert_detections2tracklets was run). Now you can 'refine_tracklets' in the GUI, or run 'deeplabcut.stitch_tracklets'.\n",
      "Processing...  /media/vsridhar/T7/Work/Data/BlackbuckAnnotations/P1/downsampled/SSD7/20230316/SE_Lek1/P1D2/20230316_SE_Lek1_P1D2_DJI_0097.MP4\n"
     ]
    },
    {
     "name": "stderr",
     "output_type": "stream",
     "text": [
      "/home/vsridhar/.local/lib/python3.10/site-packages/deeplabcut/refine_training_dataset/stitch.py:138: FutureWarning: Unlike other reduction functions (e.g. `skew`, `kurtosis`), the default behavior of `mode` typically preserves the axis it acts along. In SciPy 1.11.0, this behavior will change: the default value of `keepdims` will become False, the `axis` over which the statistic is taken will be eliminated, and the value None will no longer be accepted. Set `keepdims` to True or False to avoid this warning.\n",
      "  return mode(self.data[..., 3], axis=None, nan_policy=\"omit\")[0][0]\n",
      "100%|█████████████████████████████████████████████████████████████████████████████████████| 363/363 [00:00<00:00, 933.38it/s]\n"
     ]
    },
    {
     "name": "stdout",
     "output_type": "stream",
     "text": [
      "Starting to analyze %  /media/vsridhar/T7/Work/Data/BlackbuckAnnotations/P1/downsampled/SSD7/20230316/SE_Lek1/P1D2/20230316_SE_Lek1_P1D2_DJI_0100.MP4\n",
      "Loading  /media/vsridhar/T7/Work/Data/BlackbuckAnnotations/P1/downsampled/SSD7/20230316/SE_Lek1/P1D2/20230316_SE_Lek1_P1D2_DJI_0100.MP4\n",
      "Duration of video [s]:  93.63 , recorded with  29.97 fps!\n",
      "Overall # of frames:  2806  found with (before cropping) frame dimensions:  1824 1026\n",
      "Starting to extract posture from the video(s) with batchsize: 8\n"
     ]
    },
    {
     "name": "stderr",
     "output_type": "stream",
     "text": [
      "100%|████████████████████████████████████████████████████████████████████████████████████| 2806/2806 [02:18<00:00, 20.31it/s]\n"
     ]
    },
    {
     "name": "stdout",
     "output_type": "stream",
     "text": [
      "Video Analyzed. Saving results in /home/vsridhar/DATA/DeepLabCut/projects/06_TerritoryDetectionP1-Vivek-2023-08-01/output/SSD7/20230316/SE_Lek1/P1D2...\n",
      "Using snapshot-50000 for model /home/vsridhar/DATA/DeepLabCut/projects/06_TerritoryDetectionP1-Vivek-2023-08-01/dlc-models/iteration-0/06_TerritoryDetectionP1Aug1-trainset90shuffle1\n",
      "Processing...  /media/vsridhar/T7/Work/Data/BlackbuckAnnotations/P1/downsampled/SSD7/20230316/SE_Lek1/P1D2/20230316_SE_Lek1_P1D2_DJI_0100.MP4\n",
      "Analyzing /home/vsridhar/DATA/DeepLabCut/projects/06_TerritoryDetectionP1-Vivek-2023-08-01/output/SSD7/20230316/SE_Lek1/P1D2/20230316_SE_Lek1_P1D2_DJI_0100DLC_dlcrnetms5_06_TerritoryDetectionP1Aug1shuffle1_50000.h5\n"
     ]
    },
    {
     "name": "stderr",
     "output_type": "stream",
     "text": [
      "100%|███████████████████████████████████████████████████████████████████████████████████| 2806/2806 [00:07<00:00, 375.41it/s]\n",
      "2806it [00:11, 248.51it/s]\n"
     ]
    },
    {
     "name": "stdout",
     "output_type": "stream",
     "text": [
      "The tracklets were created (i.e., under the hood deeplabcut.convert_detections2tracklets was run). Now you can 'refine_tracklets' in the GUI, or run 'deeplabcut.stitch_tracklets'.\n",
      "Processing...  /media/vsridhar/T7/Work/Data/BlackbuckAnnotations/P1/downsampled/SSD7/20230316/SE_Lek1/P1D2/20230316_SE_Lek1_P1D2_DJI_0100.MP4\n"
     ]
    },
    {
     "name": "stderr",
     "output_type": "stream",
     "text": [
      "/home/vsridhar/.local/lib/python3.10/site-packages/deeplabcut/refine_training_dataset/stitch.py:138: FutureWarning: Unlike other reduction functions (e.g. `skew`, `kurtosis`), the default behavior of `mode` typically preserves the axis it acts along. In SciPy 1.11.0, this behavior will change: the default value of `keepdims` will become False, the `axis` over which the statistic is taken will be eliminated, and the value None will no longer be accepted. Set `keepdims` to True or False to avoid this warning.\n",
      "  return mode(self.data[..., 3], axis=None, nan_policy=\"omit\")[0][0]\n",
      "100%|████████████████████████████████████████████████████████████████████████████████████| 185/185 [00:00<00:00, 5303.44it/s]\n"
     ]
    },
    {
     "name": "stdout",
     "output_type": "stream",
     "text": [
      "Starting to analyze %  /media/vsridhar/T7/Work/Data/BlackbuckAnnotations/P1/downsampled/SSD7/20230316/SE_Lek1/P1D2/20230316_SE_Lek1_P1D2_DJI_0099.MP4\n",
      "Loading  /media/vsridhar/T7/Work/Data/BlackbuckAnnotations/P1/downsampled/SSD7/20230316/SE_Lek1/P1D2/20230316_SE_Lek1_P1D2_DJI_0099.MP4\n",
      "Duration of video [s]:  194.03 , recorded with  29.97 fps!\n",
      "Overall # of frames:  5815  found with (before cropping) frame dimensions:  1824 1026\n",
      "Starting to extract posture from the video(s) with batchsize: 8\n"
     ]
    },
    {
     "name": "stderr",
     "output_type": "stream",
     "text": [
      "100%|████████████████████████████████████████████████████████████████████████████████████| 5815/5815 [04:50<00:00, 20.00it/s]\n"
     ]
    },
    {
     "name": "stdout",
     "output_type": "stream",
     "text": [
      "Video Analyzed. Saving results in /home/vsridhar/DATA/DeepLabCut/projects/06_TerritoryDetectionP1-Vivek-2023-08-01/output/SSD7/20230316/SE_Lek1/P1D2...\n",
      "Using snapshot-50000 for model /home/vsridhar/DATA/DeepLabCut/projects/06_TerritoryDetectionP1-Vivek-2023-08-01/dlc-models/iteration-0/06_TerritoryDetectionP1Aug1-trainset90shuffle1\n",
      "Processing...  /media/vsridhar/T7/Work/Data/BlackbuckAnnotations/P1/downsampled/SSD7/20230316/SE_Lek1/P1D2/20230316_SE_Lek1_P1D2_DJI_0099.MP4\n",
      "Analyzing /home/vsridhar/DATA/DeepLabCut/projects/06_TerritoryDetectionP1-Vivek-2023-08-01/output/SSD7/20230316/SE_Lek1/P1D2/20230316_SE_Lek1_P1D2_DJI_0099DLC_dlcrnetms5_06_TerritoryDetectionP1Aug1shuffle1_50000.h5\n"
     ]
    },
    {
     "name": "stderr",
     "output_type": "stream",
     "text": [
      "100%|███████████████████████████████████████████████████████████████████████████████████| 5815/5815 [00:16<00:00, 359.98it/s]\n",
      "5815it [00:24, 233.80it/s]\n"
     ]
    },
    {
     "name": "stdout",
     "output_type": "stream",
     "text": [
      "The tracklets were created (i.e., under the hood deeplabcut.convert_detections2tracklets was run). Now you can 'refine_tracklets' in the GUI, or run 'deeplabcut.stitch_tracklets'.\n",
      "Processing...  /media/vsridhar/T7/Work/Data/BlackbuckAnnotations/P1/downsampled/SSD7/20230316/SE_Lek1/P1D2/20230316_SE_Lek1_P1D2_DJI_0099.MP4\n"
     ]
    },
    {
     "name": "stderr",
     "output_type": "stream",
     "text": [
      "/home/vsridhar/.local/lib/python3.10/site-packages/deeplabcut/refine_training_dataset/stitch.py:138: FutureWarning: Unlike other reduction functions (e.g. `skew`, `kurtosis`), the default behavior of `mode` typically preserves the axis it acts along. In SciPy 1.11.0, this behavior will change: the default value of `keepdims` will become False, the `axis` over which the statistic is taken will be eliminated, and the value None will no longer be accepted. Set `keepdims` to True or False to avoid this warning.\n",
      "  return mode(self.data[..., 3], axis=None, nan_policy=\"omit\")[0][0]\n",
      "100%|████████████████████████████████████████████████████████████████████████████████████| 332/332 [00:00<00:00, 2618.90it/s]\n"
     ]
    },
    {
     "name": "stdout",
     "output_type": "stream",
     "text": [
      "The videos are analyzed. Time to assemble animals and track 'em... \n",
      " Call 'create_video_with_all_detections' to check multi-animal detection quality before tracking.\n",
      "If the tracking is not satisfactory for some videos, consider expanding the training set. You can use the function 'extract_outlier_frames' to extract a few representative outlier frames.\n"
     ]
    }
   ],
   "source": [
    "for ssd in SSD:\n",
    "    for date in DATE:\n",
    "        for session in SESSION:\n",
    "            for drone in DRONE:\n",
    "                internal_path = '/' + ssd + '/' + date + '/' + session + '/' + drone\n",
    "                \n",
    "                deeplabcut.analyze_videos(config_path,\n",
    "                                          ['/media/vsridhar/T7/Work/Data/BlackbuckAnnotations/P1/downsampled' + internal_path],\n",
    "                                          videotype='MP4',\n",
    "                                          destfolder='/home/vsridhar/DATA/DeepLabCut/projects/06_TerritoryDetectionP1-Vivek-2023-08-01/output' + internal_path,\n",
    "                                          gputouse=0, \n",
    "                                          save_as_csv=False,\n",
    "                                          allow_growth=True,\n",
    "                                          auto_track=True)"
   ]
  },
  {
   "cell_type": "code",
   "execution_count": 2,
   "id": "1ccfb205",
   "metadata": {},
   "outputs": [],
   "source": [
    "SSD = ['SSD7']\n",
    "DATE = ['20230315']\n",
    "SESSION = ['SM_Lek1']\n",
    "DRONE = ['P1D1']\n",
    "\n",
    "config_path = '/home/vsridhar/DATA/DeepLabCut/projects/06_TerritoryDetectionP1-Vivek-2023-08-01/config.yaml'"
   ]
  },
  {
   "cell_type": "code",
   "execution_count": 3,
   "id": "19779802",
   "metadata": {
    "scrolled": true
   },
   "outputs": [
    {
     "name": "stdout",
     "output_type": "stream",
     "text": [
      "Using snapshot-50000 for model /home/vsridhar/DATA/DeepLabCut/projects/06_TerritoryDetectionP1-Vivek-2023-08-01/dlc-models/iteration-0/06_TerritoryDetectionP1Aug1-trainset90shuffle1\n"
     ]
    },
    {
     "name": "stderr",
     "output_type": "stream",
     "text": [
      "/home/vsridhar/.local/lib/python3.10/site-packages/tensorflow/python/keras/engine/base_layer_v1.py:1694: UserWarning: `layer.apply` is deprecated and will be removed in a future version. Please use `layer.__call__` method instead.\n",
      "  warnings.warn('`layer.apply` is deprecated and '\n",
      "/home/vsridhar/.local/lib/python3.10/site-packages/tf_slim/layers/layers.py:684: UserWarning: `layer.apply` is deprecated and will be removed in a future version. Please use `layer.__call__` method instead.\n",
      "  outputs = layer.apply(inputs, training=is_training)\n"
     ]
    },
    {
     "name": "stdout",
     "output_type": "stream",
     "text": [
      "Activating extracting of PAFs\n",
      "Analyzing all the videos in the directory...\n",
      "Starting to analyze %  /media/vsridhar/T7/Work/Data/BlackbuckAnnotations/P1/downsampled/SSD7/20230315/SM_Lek1/P1D1/20230315_SM_Lek1_P1D1_DJI_0371.MP4\n",
      "Video already analyzed! /home/vsridhar/DATA/DeepLabCut/projects/06_TerritoryDetectionP1-Vivek-2023-08-01/output/SSD7/20230315/SM_Lek1/P1D1/20230315_SM_Lek1_P1D1_DJI_0371DLC_dlcrnetms5_06_TerritoryDetectionP1Aug1shuffle1_50000.h5\n",
      "Using snapshot-50000 for model /home/vsridhar/DATA/DeepLabCut/projects/06_TerritoryDetectionP1-Vivek-2023-08-01/dlc-models/iteration-0/06_TerritoryDetectionP1Aug1-trainset90shuffle1\n",
      "Processing...  /media/vsridhar/T7/Work/Data/BlackbuckAnnotations/P1/downsampled/SSD7/20230315/SM_Lek1/P1D1/20230315_SM_Lek1_P1D1_DJI_0371.MP4\n",
      "Tracklets already computed /home/vsridhar/DATA/DeepLabCut/projects/06_TerritoryDetectionP1-Vivek-2023-08-01/output/SSD7/20230315/SM_Lek1/P1D1/20230315_SM_Lek1_P1D1_DJI_0371DLC_dlcrnetms5_06_TerritoryDetectionP1Aug1shuffle1_50000_el.pickle\n",
      "Set overwrite = True to overwrite.\n",
      "The tracklets were created (i.e., under the hood deeplabcut.convert_detections2tracklets was run). Now you can 'refine_tracklets' in the GUI, or run 'deeplabcut.stitch_tracklets'.\n",
      "Processing...  /media/vsridhar/T7/Work/Data/BlackbuckAnnotations/P1/downsampled/SSD7/20230315/SM_Lek1/P1D1/20230315_SM_Lek1_P1D1_DJI_0371.MP4\n"
     ]
    },
    {
     "name": "stderr",
     "output_type": "stream",
     "text": [
      "/home/vsridhar/.local/lib/python3.10/site-packages/deeplabcut/refine_training_dataset/stitch.py:138: FutureWarning: Unlike other reduction functions (e.g. `skew`, `kurtosis`), the default behavior of `mode` typically preserves the axis it acts along. In SciPy 1.11.0, this behavior will change: the default value of `keepdims` will become False, the `axis` over which the statistic is taken will be eliminated, and the value None will no longer be accepted. Set `keepdims` to True or False to avoid this warning.\n",
      "  return mode(self.data[..., 3], axis=None, nan_policy=\"omit\")[0][0]\n",
      "100%|████████████████████████████████████████████████████████████████████████████████████| 477/477 [00:00<00:00, 1568.73it/s]\n"
     ]
    },
    {
     "name": "stdout",
     "output_type": "stream",
     "text": [
      "Starting to analyze %  /media/vsridhar/T7/Work/Data/BlackbuckAnnotations/P1/downsampled/SSD7/20230315/SM_Lek1/P1D1/20230315_SM_Lek1_P1D1_DJI_0365.MP4\n",
      "Video already analyzed! /home/vsridhar/DATA/DeepLabCut/projects/06_TerritoryDetectionP1-Vivek-2023-08-01/output/SSD7/20230315/SM_Lek1/P1D1/20230315_SM_Lek1_P1D1_DJI_0365DLC_dlcrnetms5_06_TerritoryDetectionP1Aug1shuffle1_50000.h5\n",
      "Using snapshot-50000 for model /home/vsridhar/DATA/DeepLabCut/projects/06_TerritoryDetectionP1-Vivek-2023-08-01/dlc-models/iteration-0/06_TerritoryDetectionP1Aug1-trainset90shuffle1\n",
      "Processing...  /media/vsridhar/T7/Work/Data/BlackbuckAnnotations/P1/downsampled/SSD7/20230315/SM_Lek1/P1D1/20230315_SM_Lek1_P1D1_DJI_0365.MP4\n",
      "Tracklets already computed /home/vsridhar/DATA/DeepLabCut/projects/06_TerritoryDetectionP1-Vivek-2023-08-01/output/SSD7/20230315/SM_Lek1/P1D1/20230315_SM_Lek1_P1D1_DJI_0365DLC_dlcrnetms5_06_TerritoryDetectionP1Aug1shuffle1_50000_el.pickle\n",
      "Set overwrite = True to overwrite.\n",
      "The tracklets were created (i.e., under the hood deeplabcut.convert_detections2tracklets was run). Now you can 'refine_tracklets' in the GUI, or run 'deeplabcut.stitch_tracklets'.\n",
      "Processing...  /media/vsridhar/T7/Work/Data/BlackbuckAnnotations/P1/downsampled/SSD7/20230315/SM_Lek1/P1D1/20230315_SM_Lek1_P1D1_DJI_0365.MP4\n"
     ]
    },
    {
     "name": "stderr",
     "output_type": "stream",
     "text": [
      "/home/vsridhar/.local/lib/python3.10/site-packages/deeplabcut/refine_training_dataset/stitch.py:138: FutureWarning: Unlike other reduction functions (e.g. `skew`, `kurtosis`), the default behavior of `mode` typically preserves the axis it acts along. In SciPy 1.11.0, this behavior will change: the default value of `keepdims` will become False, the `axis` over which the statistic is taken will be eliminated, and the value None will no longer be accepted. Set `keepdims` to True or False to avoid this warning.\n",
      "  return mode(self.data[..., 3], axis=None, nan_policy=\"omit\")[0][0]\n",
      "100%|████████████████████████████████████████████████████████████████████████████████████| 414/414 [00:00<00:00, 2743.12it/s]\n"
     ]
    },
    {
     "name": "stdout",
     "output_type": "stream",
     "text": [
      "Starting to analyze %  /media/vsridhar/T7/Work/Data/BlackbuckAnnotations/P1/downsampled/SSD7/20230315/SM_Lek1/P1D1/20230315_SM_Lek1_P1D1_DJI_0361.MP4\n",
      "Video already analyzed! /home/vsridhar/DATA/DeepLabCut/projects/06_TerritoryDetectionP1-Vivek-2023-08-01/output/SSD7/20230315/SM_Lek1/P1D1/20230315_SM_Lek1_P1D1_DJI_0361DLC_dlcrnetms5_06_TerritoryDetectionP1Aug1shuffle1_50000.h5\n",
      "Using snapshot-50000 for model /home/vsridhar/DATA/DeepLabCut/projects/06_TerritoryDetectionP1-Vivek-2023-08-01/dlc-models/iteration-0/06_TerritoryDetectionP1Aug1-trainset90shuffle1\n",
      "Processing...  /media/vsridhar/T7/Work/Data/BlackbuckAnnotations/P1/downsampled/SSD7/20230315/SM_Lek1/P1D1/20230315_SM_Lek1_P1D1_DJI_0361.MP4\n",
      "Tracklets already computed /home/vsridhar/DATA/DeepLabCut/projects/06_TerritoryDetectionP1-Vivek-2023-08-01/output/SSD7/20230315/SM_Lek1/P1D1/20230315_SM_Lek1_P1D1_DJI_0361DLC_dlcrnetms5_06_TerritoryDetectionP1Aug1shuffle1_50000_el.pickle\n",
      "Set overwrite = True to overwrite.\n",
      "The tracklets were created (i.e., under the hood deeplabcut.convert_detections2tracklets was run). Now you can 'refine_tracklets' in the GUI, or run 'deeplabcut.stitch_tracklets'.\n",
      "Processing...  /media/vsridhar/T7/Work/Data/BlackbuckAnnotations/P1/downsampled/SSD7/20230315/SM_Lek1/P1D1/20230315_SM_Lek1_P1D1_DJI_0361.MP4\n"
     ]
    },
    {
     "name": "stderr",
     "output_type": "stream",
     "text": [
      "/home/vsridhar/.local/lib/python3.10/site-packages/deeplabcut/refine_training_dataset/stitch.py:138: FutureWarning: Unlike other reduction functions (e.g. `skew`, `kurtosis`), the default behavior of `mode` typically preserves the axis it acts along. In SciPy 1.11.0, this behavior will change: the default value of `keepdims` will become False, the `axis` over which the statistic is taken will be eliminated, and the value None will no longer be accepted. Set `keepdims` to True or False to avoid this warning.\n",
      "  return mode(self.data[..., 3], axis=None, nan_policy=\"omit\")[0][0]\n",
      "100%|████████████████████████████████████████████████████████████████████████████████████| 367/367 [00:00<00:00, 3455.83it/s]\n"
     ]
    },
    {
     "name": "stdout",
     "output_type": "stream",
     "text": [
      "Starting to analyze %  /media/vsridhar/T7/Work/Data/BlackbuckAnnotations/P1/downsampled/SSD7/20230315/SM_Lek1/P1D1/20230315_SM_Lek1_P1D1_DJI_0377.MP4\n",
      "Video already analyzed! /home/vsridhar/DATA/DeepLabCut/projects/06_TerritoryDetectionP1-Vivek-2023-08-01/output/SSD7/20230315/SM_Lek1/P1D1/20230315_SM_Lek1_P1D1_DJI_0377DLC_dlcrnetms5_06_TerritoryDetectionP1Aug1shuffle1_50000.h5\n",
      "Using snapshot-50000 for model /home/vsridhar/DATA/DeepLabCut/projects/06_TerritoryDetectionP1-Vivek-2023-08-01/dlc-models/iteration-0/06_TerritoryDetectionP1Aug1-trainset90shuffle1\n",
      "Processing...  /media/vsridhar/T7/Work/Data/BlackbuckAnnotations/P1/downsampled/SSD7/20230315/SM_Lek1/P1D1/20230315_SM_Lek1_P1D1_DJI_0377.MP4\n",
      "Tracklets already computed /home/vsridhar/DATA/DeepLabCut/projects/06_TerritoryDetectionP1-Vivek-2023-08-01/output/SSD7/20230315/SM_Lek1/P1D1/20230315_SM_Lek1_P1D1_DJI_0377DLC_dlcrnetms5_06_TerritoryDetectionP1Aug1shuffle1_50000_el.pickle\n",
      "Set overwrite = True to overwrite.\n",
      "The tracklets were created (i.e., under the hood deeplabcut.convert_detections2tracklets was run). Now you can 'refine_tracklets' in the GUI, or run 'deeplabcut.stitch_tracklets'.\n",
      "Processing...  /media/vsridhar/T7/Work/Data/BlackbuckAnnotations/P1/downsampled/SSD7/20230315/SM_Lek1/P1D1/20230315_SM_Lek1_P1D1_DJI_0377.MP4\n"
     ]
    },
    {
     "name": "stderr",
     "output_type": "stream",
     "text": [
      "/home/vsridhar/.local/lib/python3.10/site-packages/deeplabcut/refine_training_dataset/stitch.py:138: FutureWarning: Unlike other reduction functions (e.g. `skew`, `kurtosis`), the default behavior of `mode` typically preserves the axis it acts along. In SciPy 1.11.0, this behavior will change: the default value of `keepdims` will become False, the `axis` over which the statistic is taken will be eliminated, and the value None will no longer be accepted. Set `keepdims` to True or False to avoid this warning.\n",
      "  return mode(self.data[..., 3], axis=None, nan_policy=\"omit\")[0][0]\n",
      "100%|████████████████████████████████████████████████████████████████████████████████████| 602/602 [00:00<00:00, 1266.65it/s]\n"
     ]
    },
    {
     "name": "stdout",
     "output_type": "stream",
     "text": [
      "Starting to analyze %  /media/vsridhar/T7/Work/Data/BlackbuckAnnotations/P1/downsampled/SSD7/20230315/SM_Lek1/P1D1/20230315_SM_Lek1_P1D1_DJI_0367.MP4\n",
      "Video already analyzed! /home/vsridhar/DATA/DeepLabCut/projects/06_TerritoryDetectionP1-Vivek-2023-08-01/output/SSD7/20230315/SM_Lek1/P1D1/20230315_SM_Lek1_P1D1_DJI_0367DLC_dlcrnetms5_06_TerritoryDetectionP1Aug1shuffle1_50000.h5\n",
      "Using snapshot-50000 for model /home/vsridhar/DATA/DeepLabCut/projects/06_TerritoryDetectionP1-Vivek-2023-08-01/dlc-models/iteration-0/06_TerritoryDetectionP1Aug1-trainset90shuffle1\n",
      "Processing...  /media/vsridhar/T7/Work/Data/BlackbuckAnnotations/P1/downsampled/SSD7/20230315/SM_Lek1/P1D1/20230315_SM_Lek1_P1D1_DJI_0367.MP4\n",
      "Tracklets already computed /home/vsridhar/DATA/DeepLabCut/projects/06_TerritoryDetectionP1-Vivek-2023-08-01/output/SSD7/20230315/SM_Lek1/P1D1/20230315_SM_Lek1_P1D1_DJI_0367DLC_dlcrnetms5_06_TerritoryDetectionP1Aug1shuffle1_50000_el.pickle\n",
      "Set overwrite = True to overwrite.\n",
      "The tracklets were created (i.e., under the hood deeplabcut.convert_detections2tracklets was run). Now you can 'refine_tracklets' in the GUI, or run 'deeplabcut.stitch_tracklets'.\n",
      "Processing...  /media/vsridhar/T7/Work/Data/BlackbuckAnnotations/P1/downsampled/SSD7/20230315/SM_Lek1/P1D1/20230315_SM_Lek1_P1D1_DJI_0367.MP4\n"
     ]
    },
    {
     "name": "stderr",
     "output_type": "stream",
     "text": [
      "/home/vsridhar/.local/lib/python3.10/site-packages/deeplabcut/refine_training_dataset/stitch.py:138: FutureWarning: Unlike other reduction functions (e.g. `skew`, `kurtosis`), the default behavior of `mode` typically preserves the axis it acts along. In SciPy 1.11.0, this behavior will change: the default value of `keepdims` will become False, the `axis` over which the statistic is taken will be eliminated, and the value None will no longer be accepted. Set `keepdims` to True or False to avoid this warning.\n",
      "  return mode(self.data[..., 3], axis=None, nan_policy=\"omit\")[0][0]\n",
      "100%|████████████████████████████████████████████████████████████████████████████████████| 388/388 [00:00<00:00, 2473.93it/s]\n"
     ]
    },
    {
     "name": "stdout",
     "output_type": "stream",
     "text": [
      "Starting to analyze %  /media/vsridhar/T7/Work/Data/BlackbuckAnnotations/P1/downsampled/SSD7/20230315/SM_Lek1/P1D1/20230315_SM_Lek1_P1D1_DJI_0372.MP4\n",
      "Video already analyzed! /home/vsridhar/DATA/DeepLabCut/projects/06_TerritoryDetectionP1-Vivek-2023-08-01/output/SSD7/20230315/SM_Lek1/P1D1/20230315_SM_Lek1_P1D1_DJI_0372DLC_dlcrnetms5_06_TerritoryDetectionP1Aug1shuffle1_50000.h5\n",
      "Using snapshot-50000 for model /home/vsridhar/DATA/DeepLabCut/projects/06_TerritoryDetectionP1-Vivek-2023-08-01/dlc-models/iteration-0/06_TerritoryDetectionP1Aug1-trainset90shuffle1\n",
      "Processing...  /media/vsridhar/T7/Work/Data/BlackbuckAnnotations/P1/downsampled/SSD7/20230315/SM_Lek1/P1D1/20230315_SM_Lek1_P1D1_DJI_0372.MP4\n",
      "Tracklets already computed /home/vsridhar/DATA/DeepLabCut/projects/06_TerritoryDetectionP1-Vivek-2023-08-01/output/SSD7/20230315/SM_Lek1/P1D1/20230315_SM_Lek1_P1D1_DJI_0372DLC_dlcrnetms5_06_TerritoryDetectionP1Aug1shuffle1_50000_el.pickle\n",
      "Set overwrite = True to overwrite.\n",
      "The tracklets were created (i.e., under the hood deeplabcut.convert_detections2tracklets was run). Now you can 'refine_tracklets' in the GUI, or run 'deeplabcut.stitch_tracklets'.\n",
      "Processing...  /media/vsridhar/T7/Work/Data/BlackbuckAnnotations/P1/downsampled/SSD7/20230315/SM_Lek1/P1D1/20230315_SM_Lek1_P1D1_DJI_0372.MP4\n"
     ]
    },
    {
     "name": "stderr",
     "output_type": "stream",
     "text": [
      "/home/vsridhar/.local/lib/python3.10/site-packages/deeplabcut/refine_training_dataset/stitch.py:138: FutureWarning: Unlike other reduction functions (e.g. `skew`, `kurtosis`), the default behavior of `mode` typically preserves the axis it acts along. In SciPy 1.11.0, this behavior will change: the default value of `keepdims` will become False, the `axis` over which the statistic is taken will be eliminated, and the value None will no longer be accepted. Set `keepdims` to True or False to avoid this warning.\n",
      "  return mode(self.data[..., 3], axis=None, nan_policy=\"omit\")[0][0]\n",
      "100%|████████████████████████████████████████████████████████████████████████████████████| 471/471 [00:00<00:00, 2189.96it/s]\n"
     ]
    },
    {
     "name": "stdout",
     "output_type": "stream",
     "text": [
      "Starting to analyze %  /media/vsridhar/T7/Work/Data/BlackbuckAnnotations/P1/downsampled/SSD7/20230315/SM_Lek1/P1D1/20230315_SM_Lek1_P1D1_DJI_0379.MP4\n",
      "Video already analyzed! /home/vsridhar/DATA/DeepLabCut/projects/06_TerritoryDetectionP1-Vivek-2023-08-01/output/SSD7/20230315/SM_Lek1/P1D1/20230315_SM_Lek1_P1D1_DJI_0379DLC_dlcrnetms5_06_TerritoryDetectionP1Aug1shuffle1_50000.h5\n",
      "Using snapshot-50000 for model /home/vsridhar/DATA/DeepLabCut/projects/06_TerritoryDetectionP1-Vivek-2023-08-01/dlc-models/iteration-0/06_TerritoryDetectionP1Aug1-trainset90shuffle1\n",
      "Processing...  /media/vsridhar/T7/Work/Data/BlackbuckAnnotations/P1/downsampled/SSD7/20230315/SM_Lek1/P1D1/20230315_SM_Lek1_P1D1_DJI_0379.MP4\n",
      "Tracklets already computed /home/vsridhar/DATA/DeepLabCut/projects/06_TerritoryDetectionP1-Vivek-2023-08-01/output/SSD7/20230315/SM_Lek1/P1D1/20230315_SM_Lek1_P1D1_DJI_0379DLC_dlcrnetms5_06_TerritoryDetectionP1Aug1shuffle1_50000_el.pickle\n",
      "Set overwrite = True to overwrite.\n",
      "The tracklets were created (i.e., under the hood deeplabcut.convert_detections2tracklets was run). Now you can 'refine_tracklets' in the GUI, or run 'deeplabcut.stitch_tracklets'.\n",
      "Processing...  /media/vsridhar/T7/Work/Data/BlackbuckAnnotations/P1/downsampled/SSD7/20230315/SM_Lek1/P1D1/20230315_SM_Lek1_P1D1_DJI_0379.MP4\n"
     ]
    },
    {
     "name": "stderr",
     "output_type": "stream",
     "text": [
      "/home/vsridhar/.local/lib/python3.10/site-packages/deeplabcut/refine_training_dataset/stitch.py:138: FutureWarning: Unlike other reduction functions (e.g. `skew`, `kurtosis`), the default behavior of `mode` typically preserves the axis it acts along. In SciPy 1.11.0, this behavior will change: the default value of `keepdims` will become False, the `axis` over which the statistic is taken will be eliminated, and the value None will no longer be accepted. Set `keepdims` to True or False to avoid this warning.\n",
      "  return mode(self.data[..., 3], axis=None, nan_policy=\"omit\")[0][0]\n",
      "100%|████████████████████████████████████████████████████████████████████████████████████| 188/188 [00:00<00:00, 3478.11it/s]\n"
     ]
    },
    {
     "name": "stdout",
     "output_type": "stream",
     "text": [
      "Starting to analyze %  /media/vsridhar/T7/Work/Data/BlackbuckAnnotations/P1/downsampled/SSD7/20230315/SM_Lek1/P1D1/20230315_SM_Lek1_P1D1_DJI_0362.MP4\n",
      "Video already analyzed! /home/vsridhar/DATA/DeepLabCut/projects/06_TerritoryDetectionP1-Vivek-2023-08-01/output/SSD7/20230315/SM_Lek1/P1D1/20230315_SM_Lek1_P1D1_DJI_0362DLC_dlcrnetms5_06_TerritoryDetectionP1Aug1shuffle1_50000.h5\n",
      "Using snapshot-50000 for model /home/vsridhar/DATA/DeepLabCut/projects/06_TerritoryDetectionP1-Vivek-2023-08-01/dlc-models/iteration-0/06_TerritoryDetectionP1Aug1-trainset90shuffle1\n",
      "Processing...  /media/vsridhar/T7/Work/Data/BlackbuckAnnotations/P1/downsampled/SSD7/20230315/SM_Lek1/P1D1/20230315_SM_Lek1_P1D1_DJI_0362.MP4\n",
      "Tracklets already computed /home/vsridhar/DATA/DeepLabCut/projects/06_TerritoryDetectionP1-Vivek-2023-08-01/output/SSD7/20230315/SM_Lek1/P1D1/20230315_SM_Lek1_P1D1_DJI_0362DLC_dlcrnetms5_06_TerritoryDetectionP1Aug1shuffle1_50000_el.pickle\n",
      "Set overwrite = True to overwrite.\n",
      "The tracklets were created (i.e., under the hood deeplabcut.convert_detections2tracklets was run). Now you can 'refine_tracklets' in the GUI, or run 'deeplabcut.stitch_tracklets'.\n",
      "Processing...  /media/vsridhar/T7/Work/Data/BlackbuckAnnotations/P1/downsampled/SSD7/20230315/SM_Lek1/P1D1/20230315_SM_Lek1_P1D1_DJI_0362.MP4\n"
     ]
    },
    {
     "name": "stderr",
     "output_type": "stream",
     "text": [
      "/home/vsridhar/.local/lib/python3.10/site-packages/deeplabcut/refine_training_dataset/stitch.py:138: FutureWarning: Unlike other reduction functions (e.g. `skew`, `kurtosis`), the default behavior of `mode` typically preserves the axis it acts along. In SciPy 1.11.0, this behavior will change: the default value of `keepdims` will become False, the `axis` over which the statistic is taken will be eliminated, and the value None will no longer be accepted. Set `keepdims` to True or False to avoid this warning.\n",
      "  return mode(self.data[..., 3], axis=None, nan_policy=\"omit\")[0][0]\n",
      "100%|████████████████████████████████████████████████████████████████████████████████████| 258/258 [00:00<00:00, 2632.70it/s]\n"
     ]
    },
    {
     "name": "stdout",
     "output_type": "stream",
     "text": [
      "Starting to analyze %  /media/vsridhar/T7/Work/Data/BlackbuckAnnotations/P1/downsampled/SSD7/20230315/SM_Lek1/P1D1/20230315_SM_Lek1_P1D1_DJI_0381.MP4\n",
      "Video already analyzed! /home/vsridhar/DATA/DeepLabCut/projects/06_TerritoryDetectionP1-Vivek-2023-08-01/output/SSD7/20230315/SM_Lek1/P1D1/20230315_SM_Lek1_P1D1_DJI_0381DLC_dlcrnetms5_06_TerritoryDetectionP1Aug1shuffle1_50000.h5\n",
      "Using snapshot-50000 for model /home/vsridhar/DATA/DeepLabCut/projects/06_TerritoryDetectionP1-Vivek-2023-08-01/dlc-models/iteration-0/06_TerritoryDetectionP1Aug1-trainset90shuffle1\n",
      "Processing...  /media/vsridhar/T7/Work/Data/BlackbuckAnnotations/P1/downsampled/SSD7/20230315/SM_Lek1/P1D1/20230315_SM_Lek1_P1D1_DJI_0381.MP4\n",
      "Tracklets already computed /home/vsridhar/DATA/DeepLabCut/projects/06_TerritoryDetectionP1-Vivek-2023-08-01/output/SSD7/20230315/SM_Lek1/P1D1/20230315_SM_Lek1_P1D1_DJI_0381DLC_dlcrnetms5_06_TerritoryDetectionP1Aug1shuffle1_50000_el.pickle\n",
      "Set overwrite = True to overwrite.\n",
      "The tracklets were created (i.e., under the hood deeplabcut.convert_detections2tracklets was run). Now you can 'refine_tracklets' in the GUI, or run 'deeplabcut.stitch_tracklets'.\n",
      "Processing...  /media/vsridhar/T7/Work/Data/BlackbuckAnnotations/P1/downsampled/SSD7/20230315/SM_Lek1/P1D1/20230315_SM_Lek1_P1D1_DJI_0381.MP4\n"
     ]
    },
    {
     "name": "stderr",
     "output_type": "stream",
     "text": [
      "/home/vsridhar/.local/lib/python3.10/site-packages/deeplabcut/refine_training_dataset/stitch.py:138: FutureWarning: Unlike other reduction functions (e.g. `skew`, `kurtosis`), the default behavior of `mode` typically preserves the axis it acts along. In SciPy 1.11.0, this behavior will change: the default value of `keepdims` will become False, the `axis` over which the statistic is taken will be eliminated, and the value None will no longer be accepted. Set `keepdims` to True or False to avoid this warning.\n",
      "  return mode(self.data[..., 3], axis=None, nan_policy=\"omit\")[0][0]\n",
      "100%|████████████████████████████████████████████████████████████████████████████████████| 121/121 [00:00<00:00, 6864.00it/s]\n",
      "/home/vsridhar/.local/lib/python3.10/site-packages/deeplabcut/refine_training_dataset/stitch.py:138: FutureWarning: Unlike other reduction functions (e.g. `skew`, `kurtosis`), the default behavior of `mode` typically preserves the axis it acts along. In SciPy 1.11.0, this behavior will change: the default value of `keepdims` will become False, the `axis` over which the statistic is taken will be eliminated, and the value None will no longer be accepted. Set `keepdims` to True or False to avoid this warning.\n",
      "  return mode(self.data[..., 3], axis=None, nan_policy=\"omit\")[0][0]\n"
     ]
    },
    {
     "name": "stdout",
     "output_type": "stream",
     "text": [
      "Starting to analyze %  /media/vsridhar/T7/Work/Data/BlackbuckAnnotations/P1/downsampled/SSD7/20230315/SM_Lek1/P1D1/20230315_SM_Lek1_P1D1_DJI_0376.MP4\n",
      "Video already analyzed! /home/vsridhar/DATA/DeepLabCut/projects/06_TerritoryDetectionP1-Vivek-2023-08-01/output/SSD7/20230315/SM_Lek1/P1D1/20230315_SM_Lek1_P1D1_DJI_0376DLC_dlcrnetms5_06_TerritoryDetectionP1Aug1shuffle1_50000.h5\n",
      "Using snapshot-50000 for model /home/vsridhar/DATA/DeepLabCut/projects/06_TerritoryDetectionP1-Vivek-2023-08-01/dlc-models/iteration-0/06_TerritoryDetectionP1Aug1-trainset90shuffle1\n",
      "Processing...  /media/vsridhar/T7/Work/Data/BlackbuckAnnotations/P1/downsampled/SSD7/20230315/SM_Lek1/P1D1/20230315_SM_Lek1_P1D1_DJI_0376.MP4\n",
      "Tracklets already computed /home/vsridhar/DATA/DeepLabCut/projects/06_TerritoryDetectionP1-Vivek-2023-08-01/output/SSD7/20230315/SM_Lek1/P1D1/20230315_SM_Lek1_P1D1_DJI_0376DLC_dlcrnetms5_06_TerritoryDetectionP1Aug1shuffle1_50000_el.pickle\n",
      "Set overwrite = True to overwrite.\n",
      "The tracklets were created (i.e., under the hood deeplabcut.convert_detections2tracklets was run). Now you can 'refine_tracklets' in the GUI, or run 'deeplabcut.stitch_tracklets'.\n",
      "Processing...  /media/vsridhar/T7/Work/Data/BlackbuckAnnotations/P1/downsampled/SSD7/20230315/SM_Lek1/P1D1/20230315_SM_Lek1_P1D1_DJI_0376.MP4\n"
     ]
    },
    {
     "name": "stderr",
     "output_type": "stream",
     "text": [
      "100%|████████████████████████████████████████████████████████████████████████████████████| 38/38 [00:00<00:00, 125696.81it/s]"
     ]
    },
    {
     "name": "stdout",
     "output_type": "stream",
     "text": [
      "Starting to analyze %  /media/vsridhar/T7/Work/Data/BlackbuckAnnotations/P1/downsampled/SSD7/20230315/SM_Lek1/P1D1/20230315_SM_Lek1_P1D1_DJI_0366.MP4\n",
      "Video already analyzed! /home/vsridhar/DATA/DeepLabCut/projects/06_TerritoryDetectionP1-Vivek-2023-08-01/output/SSD7/20230315/SM_Lek1/P1D1/20230315_SM_Lek1_P1D1_DJI_0366DLC_dlcrnetms5_06_TerritoryDetectionP1Aug1shuffle1_50000.h5\n",
      "Using snapshot-50000 for model /home/vsridhar/DATA/DeepLabCut/projects/06_TerritoryDetectionP1-Vivek-2023-08-01/dlc-models/iteration-0/06_TerritoryDetectionP1Aug1-trainset90shuffle1\n",
      "Processing...  /media/vsridhar/T7/Work/Data/BlackbuckAnnotations/P1/downsampled/SSD7/20230315/SM_Lek1/P1D1/20230315_SM_Lek1_P1D1_DJI_0366.MP4\n"
     ]
    },
    {
     "name": "stderr",
     "output_type": "stream",
     "text": [
      "\n",
      "/home/vsridhar/.local/lib/python3.10/site-packages/deeplabcut/refine_training_dataset/stitch.py:690: UserWarning: No optimal solution found. Employing black magic...\n",
      "  warnings.warn(\"No optimal solution found. Employing black magic...\")\n",
      "/home/vsridhar/.local/lib/python3.10/site-packages/deeplabcut/refine_training_dataset/stitch.py:763: UserWarning: Only 38 tracks could be reconstructed.\n",
      "  warnings.warn(f\"Only {len(self.paths)} tracks could be reconstructed.\")\n"
     ]
    },
    {
     "name": "stdout",
     "output_type": "stream",
     "text": [
      "Tracklets already computed /home/vsridhar/DATA/DeepLabCut/projects/06_TerritoryDetectionP1-Vivek-2023-08-01/output/SSD7/20230315/SM_Lek1/P1D1/20230315_SM_Lek1_P1D1_DJI_0366DLC_dlcrnetms5_06_TerritoryDetectionP1Aug1shuffle1_50000_el.pickle\n",
      "Set overwrite = True to overwrite.\n",
      "The tracklets were created (i.e., under the hood deeplabcut.convert_detections2tracklets was run). Now you can 'refine_tracklets' in the GUI, or run 'deeplabcut.stitch_tracklets'.\n",
      "Processing...  /media/vsridhar/T7/Work/Data/BlackbuckAnnotations/P1/downsampled/SSD7/20230315/SM_Lek1/P1D1/20230315_SM_Lek1_P1D1_DJI_0366.MP4\n"
     ]
    },
    {
     "name": "stderr",
     "output_type": "stream",
     "text": [
      "/home/vsridhar/.local/lib/python3.10/site-packages/deeplabcut/refine_training_dataset/stitch.py:138: FutureWarning: Unlike other reduction functions (e.g. `skew`, `kurtosis`), the default behavior of `mode` typically preserves the axis it acts along. In SciPy 1.11.0, this behavior will change: the default value of `keepdims` will become False, the `axis` over which the statistic is taken will be eliminated, and the value None will no longer be accepted. Set `keepdims` to True or False to avoid this warning.\n",
      "  return mode(self.data[..., 3], axis=None, nan_policy=\"omit\")[0][0]\n",
      "100%|████████████████████████████████████████████████████████████████████████████████████| 479/479 [00:00<00:00, 2401.75it/s]\n"
     ]
    },
    {
     "name": "stdout",
     "output_type": "stream",
     "text": [
      "Starting to analyze %  /media/vsridhar/T7/Work/Data/BlackbuckAnnotations/P1/downsampled/SSD7/20230315/SM_Lek1/P1D1/20230315_SM_Lek1_P1D1_DJI_0369.MP4\n",
      "Loading  /media/vsridhar/T7/Work/Data/BlackbuckAnnotations/P1/downsampled/SSD7/20230315/SM_Lek1/P1D1/20230315_SM_Lek1_P1D1_DJI_0369.MP4\n",
      "Duration of video [s]:  193.89 , recorded with  29.97 fps!\n",
      "Overall # of frames:  5811  found with (before cropping) frame dimensions:  1824 1026\n",
      "Starting to extract posture from the video(s) with batchsize: 8\n"
     ]
    },
    {
     "name": "stderr",
     "output_type": "stream",
     "text": [
      "100%|████████████████████████████████████████████████████████████████████████████████████| 5811/5811 [04:50<00:00, 20.03it/s]\n"
     ]
    },
    {
     "name": "stdout",
     "output_type": "stream",
     "text": [
      "Video Analyzed. Saving results in /home/vsridhar/DATA/DeepLabCut/projects/06_TerritoryDetectionP1-Vivek-2023-08-01/output/SSD7/20230315/SM_Lek1/P1D1...\n",
      "Using snapshot-50000 for model /home/vsridhar/DATA/DeepLabCut/projects/06_TerritoryDetectionP1-Vivek-2023-08-01/dlc-models/iteration-0/06_TerritoryDetectionP1Aug1-trainset90shuffle1\n",
      "Processing...  /media/vsridhar/T7/Work/Data/BlackbuckAnnotations/P1/downsampled/SSD7/20230315/SM_Lek1/P1D1/20230315_SM_Lek1_P1D1_DJI_0369.MP4\n",
      "Analyzing /home/vsridhar/DATA/DeepLabCut/projects/06_TerritoryDetectionP1-Vivek-2023-08-01/output/SSD7/20230315/SM_Lek1/P1D1/20230315_SM_Lek1_P1D1_DJI_0369DLC_dlcrnetms5_06_TerritoryDetectionP1Aug1shuffle1_50000.h5\n"
     ]
    },
    {
     "name": "stderr",
     "output_type": "stream",
     "text": [
      "100%|███████████████████████████████████████████████████████████████████████████████████| 5811/5811 [00:15<00:00, 382.99it/s]\n",
      "5811it [00:26, 216.29it/s]\n"
     ]
    },
    {
     "name": "stdout",
     "output_type": "stream",
     "text": [
      "The tracklets were created (i.e., under the hood deeplabcut.convert_detections2tracklets was run). Now you can 'refine_tracklets' in the GUI, or run 'deeplabcut.stitch_tracklets'.\n",
      "Processing...  /media/vsridhar/T7/Work/Data/BlackbuckAnnotations/P1/downsampled/SSD7/20230315/SM_Lek1/P1D1/20230315_SM_Lek1_P1D1_DJI_0369.MP4\n"
     ]
    },
    {
     "name": "stderr",
     "output_type": "stream",
     "text": [
      "/home/vsridhar/.local/lib/python3.10/site-packages/deeplabcut/refine_training_dataset/stitch.py:138: FutureWarning: Unlike other reduction functions (e.g. `skew`, `kurtosis`), the default behavior of `mode` typically preserves the axis it acts along. In SciPy 1.11.0, this behavior will change: the default value of `keepdims` will become False, the `axis` over which the statistic is taken will be eliminated, and the value None will no longer be accepted. Set `keepdims` to True or False to avoid this warning.\n",
      "  return mode(self.data[..., 3], axis=None, nan_policy=\"omit\")[0][0]\n",
      "100%|████████████████████████████████████████████████████████████████████████████████████| 412/412 [00:00<00:00, 3138.46it/s]\n"
     ]
    },
    {
     "name": "stdout",
     "output_type": "stream",
     "text": [
      "Starting to analyze %  /media/vsridhar/T7/Work/Data/BlackbuckAnnotations/P1/downsampled/SSD7/20230315/SM_Lek1/P1D1/20230315_SM_Lek1_P1D1_DJI_0370.MP4\n",
      "Video already analyzed! /home/vsridhar/DATA/DeepLabCut/projects/06_TerritoryDetectionP1-Vivek-2023-08-01/output/SSD7/20230315/SM_Lek1/P1D1/20230315_SM_Lek1_P1D1_DJI_0370DLC_dlcrnetms5_06_TerritoryDetectionP1Aug1shuffle1_50000.h5\n",
      "Using snapshot-50000 for model /home/vsridhar/DATA/DeepLabCut/projects/06_TerritoryDetectionP1-Vivek-2023-08-01/dlc-models/iteration-0/06_TerritoryDetectionP1Aug1-trainset90shuffle1\n",
      "Processing...  /media/vsridhar/T7/Work/Data/BlackbuckAnnotations/P1/downsampled/SSD7/20230315/SM_Lek1/P1D1/20230315_SM_Lek1_P1D1_DJI_0370.MP4\n",
      "Tracklets already computed /home/vsridhar/DATA/DeepLabCut/projects/06_TerritoryDetectionP1-Vivek-2023-08-01/output/SSD7/20230315/SM_Lek1/P1D1/20230315_SM_Lek1_P1D1_DJI_0370DLC_dlcrnetms5_06_TerritoryDetectionP1Aug1shuffle1_50000_el.pickle\n",
      "Set overwrite = True to overwrite.\n",
      "The tracklets were created (i.e., under the hood deeplabcut.convert_detections2tracklets was run). Now you can 'refine_tracklets' in the GUI, or run 'deeplabcut.stitch_tracklets'.\n",
      "Processing...  /media/vsridhar/T7/Work/Data/BlackbuckAnnotations/P1/downsampled/SSD7/20230315/SM_Lek1/P1D1/20230315_SM_Lek1_P1D1_DJI_0370.MP4\n"
     ]
    },
    {
     "name": "stderr",
     "output_type": "stream",
     "text": [
      "/home/vsridhar/.local/lib/python3.10/site-packages/deeplabcut/refine_training_dataset/stitch.py:138: FutureWarning: Unlike other reduction functions (e.g. `skew`, `kurtosis`), the default behavior of `mode` typically preserves the axis it acts along. In SciPy 1.11.0, this behavior will change: the default value of `keepdims` will become False, the `axis` over which the statistic is taken will be eliminated, and the value None will no longer be accepted. Set `keepdims` to True or False to avoid this warning.\n",
      "  return mode(self.data[..., 3], axis=None, nan_policy=\"omit\")[0][0]\n",
      "100%|████████████████████████████████████████████████████████████████████████████████████| 395/395 [00:00<00:00, 1617.38it/s]\n"
     ]
    },
    {
     "name": "stdout",
     "output_type": "stream",
     "text": [
      "Starting to analyze %  /media/vsridhar/T7/Work/Data/BlackbuckAnnotations/P1/downsampled/SSD7/20230315/SM_Lek1/P1D1/20230315_SM_Lek1_P1D1_DJI_0378.MP4\n",
      "Video already analyzed! /home/vsridhar/DATA/DeepLabCut/projects/06_TerritoryDetectionP1-Vivek-2023-08-01/output/SSD7/20230315/SM_Lek1/P1D1/20230315_SM_Lek1_P1D1_DJI_0378DLC_dlcrnetms5_06_TerritoryDetectionP1Aug1shuffle1_50000.h5\n",
      "Using snapshot-50000 for model /home/vsridhar/DATA/DeepLabCut/projects/06_TerritoryDetectionP1-Vivek-2023-08-01/dlc-models/iteration-0/06_TerritoryDetectionP1Aug1-trainset90shuffle1\n",
      "Processing...  /media/vsridhar/T7/Work/Data/BlackbuckAnnotations/P1/downsampled/SSD7/20230315/SM_Lek1/P1D1/20230315_SM_Lek1_P1D1_DJI_0378.MP4\n",
      "Tracklets already computed /home/vsridhar/DATA/DeepLabCut/projects/06_TerritoryDetectionP1-Vivek-2023-08-01/output/SSD7/20230315/SM_Lek1/P1D1/20230315_SM_Lek1_P1D1_DJI_0378DLC_dlcrnetms5_06_TerritoryDetectionP1Aug1shuffle1_50000_el.pickle\n",
      "Set overwrite = True to overwrite.\n",
      "The tracklets were created (i.e., under the hood deeplabcut.convert_detections2tracklets was run). Now you can 'refine_tracklets' in the GUI, or run 'deeplabcut.stitch_tracklets'.\n",
      "Processing...  /media/vsridhar/T7/Work/Data/BlackbuckAnnotations/P1/downsampled/SSD7/20230315/SM_Lek1/P1D1/20230315_SM_Lek1_P1D1_DJI_0378.MP4\n"
     ]
    },
    {
     "name": "stderr",
     "output_type": "stream",
     "text": [
      "/home/vsridhar/.local/lib/python3.10/site-packages/deeplabcut/refine_training_dataset/stitch.py:138: FutureWarning: Unlike other reduction functions (e.g. `skew`, `kurtosis`), the default behavior of `mode` typically preserves the axis it acts along. In SciPy 1.11.0, this behavior will change: the default value of `keepdims` will become False, the `axis` over which the statistic is taken will be eliminated, and the value None will no longer be accepted. Set `keepdims` to True or False to avoid this warning.\n",
      "  return mode(self.data[..., 3], axis=None, nan_policy=\"omit\")[0][0]\n",
      "100%|████████████████████████████████████████████████████████████████████████████████████| 279/279 [00:00<00:00, 1593.06it/s]\n"
     ]
    },
    {
     "name": "stdout",
     "output_type": "stream",
     "text": [
      "Starting to analyze %  /media/vsridhar/T7/Work/Data/BlackbuckAnnotations/P1/downsampled/SSD7/20230315/SM_Lek1/P1D1/20230315_SM_Lek1_P1D1_DJI_0368.MP4\n",
      "Video already analyzed! /home/vsridhar/DATA/DeepLabCut/projects/06_TerritoryDetectionP1-Vivek-2023-08-01/output/SSD7/20230315/SM_Lek1/P1D1/20230315_SM_Lek1_P1D1_DJI_0368DLC_dlcrnetms5_06_TerritoryDetectionP1Aug1shuffle1_50000.h5\n",
      "Using snapshot-50000 for model /home/vsridhar/DATA/DeepLabCut/projects/06_TerritoryDetectionP1-Vivek-2023-08-01/dlc-models/iteration-0/06_TerritoryDetectionP1Aug1-trainset90shuffle1\n",
      "Processing...  /media/vsridhar/T7/Work/Data/BlackbuckAnnotations/P1/downsampled/SSD7/20230315/SM_Lek1/P1D1/20230315_SM_Lek1_P1D1_DJI_0368.MP4\n",
      "Tracklets already computed /home/vsridhar/DATA/DeepLabCut/projects/06_TerritoryDetectionP1-Vivek-2023-08-01/output/SSD7/20230315/SM_Lek1/P1D1/20230315_SM_Lek1_P1D1_DJI_0368DLC_dlcrnetms5_06_TerritoryDetectionP1Aug1shuffle1_50000_el.pickle\n",
      "Set overwrite = True to overwrite.\n",
      "The tracklets were created (i.e., under the hood deeplabcut.convert_detections2tracklets was run). Now you can 'refine_tracklets' in the GUI, or run 'deeplabcut.stitch_tracklets'.\n",
      "Processing...  /media/vsridhar/T7/Work/Data/BlackbuckAnnotations/P1/downsampled/SSD7/20230315/SM_Lek1/P1D1/20230315_SM_Lek1_P1D1_DJI_0368.MP4\n"
     ]
    },
    {
     "name": "stderr",
     "output_type": "stream",
     "text": [
      "/home/vsridhar/.local/lib/python3.10/site-packages/deeplabcut/refine_training_dataset/stitch.py:138: FutureWarning: Unlike other reduction functions (e.g. `skew`, `kurtosis`), the default behavior of `mode` typically preserves the axis it acts along. In SciPy 1.11.0, this behavior will change: the default value of `keepdims` will become False, the `axis` over which the statistic is taken will be eliminated, and the value None will no longer be accepted. Set `keepdims` to True or False to avoid this warning.\n",
      "  return mode(self.data[..., 3], axis=None, nan_policy=\"omit\")[0][0]\n",
      "100%|████████████████████████████████████████████████████████████████████████████████████| 329/329 [00:00<00:00, 1491.90it/s]\n"
     ]
    },
    {
     "name": "stdout",
     "output_type": "stream",
     "text": [
      "Starting to analyze %  /media/vsridhar/T7/Work/Data/BlackbuckAnnotations/P1/downsampled/SSD7/20230315/SM_Lek1/P1D1/20230315_SM_Lek1_P1D1_DJI_0374.MP4\n",
      "Video already analyzed! /home/vsridhar/DATA/DeepLabCut/projects/06_TerritoryDetectionP1-Vivek-2023-08-01/output/SSD7/20230315/SM_Lek1/P1D1/20230315_SM_Lek1_P1D1_DJI_0374DLC_dlcrnetms5_06_TerritoryDetectionP1Aug1shuffle1_50000.h5\n",
      "Using snapshot-50000 for model /home/vsridhar/DATA/DeepLabCut/projects/06_TerritoryDetectionP1-Vivek-2023-08-01/dlc-models/iteration-0/06_TerritoryDetectionP1Aug1-trainset90shuffle1\n",
      "Processing...  /media/vsridhar/T7/Work/Data/BlackbuckAnnotations/P1/downsampled/SSD7/20230315/SM_Lek1/P1D1/20230315_SM_Lek1_P1D1_DJI_0374.MP4\n",
      "Tracklets already computed /home/vsridhar/DATA/DeepLabCut/projects/06_TerritoryDetectionP1-Vivek-2023-08-01/output/SSD7/20230315/SM_Lek1/P1D1/20230315_SM_Lek1_P1D1_DJI_0374DLC_dlcrnetms5_06_TerritoryDetectionP1Aug1shuffle1_50000_el.pickle\n",
      "Set overwrite = True to overwrite.\n",
      "The tracklets were created (i.e., under the hood deeplabcut.convert_detections2tracklets was run). Now you can 'refine_tracklets' in the GUI, or run 'deeplabcut.stitch_tracklets'.\n",
      "Processing...  /media/vsridhar/T7/Work/Data/BlackbuckAnnotations/P1/downsampled/SSD7/20230315/SM_Lek1/P1D1/20230315_SM_Lek1_P1D1_DJI_0374.MP4\n"
     ]
    },
    {
     "name": "stderr",
     "output_type": "stream",
     "text": [
      "/home/vsridhar/.local/lib/python3.10/site-packages/deeplabcut/refine_training_dataset/stitch.py:138: FutureWarning: Unlike other reduction functions (e.g. `skew`, `kurtosis`), the default behavior of `mode` typically preserves the axis it acts along. In SciPy 1.11.0, this behavior will change: the default value of `keepdims` will become False, the `axis` over which the statistic is taken will be eliminated, and the value None will no longer be accepted. Set `keepdims` to True or False to avoid this warning.\n",
      "  return mode(self.data[..., 3], axis=None, nan_policy=\"omit\")[0][0]\n",
      "100%|████████████████████████████████████████████████████████████████████████████████████| 441/441 [00:00<00:00, 2255.97it/s]\n"
     ]
    },
    {
     "name": "stdout",
     "output_type": "stream",
     "text": [
      "Starting to analyze %  /media/vsridhar/T7/Work/Data/BlackbuckAnnotations/P1/downsampled/SSD7/20230315/SM_Lek1/P1D1/20230315_SM_Lek1_P1D1_DJI_0375.MP4\n",
      "Video already analyzed! /home/vsridhar/DATA/DeepLabCut/projects/06_TerritoryDetectionP1-Vivek-2023-08-01/output/SSD7/20230315/SM_Lek1/P1D1/20230315_SM_Lek1_P1D1_DJI_0375DLC_dlcrnetms5_06_TerritoryDetectionP1Aug1shuffle1_50000.h5\n",
      "Using snapshot-50000 for model /home/vsridhar/DATA/DeepLabCut/projects/06_TerritoryDetectionP1-Vivek-2023-08-01/dlc-models/iteration-0/06_TerritoryDetectionP1Aug1-trainset90shuffle1\n",
      "Processing...  /media/vsridhar/T7/Work/Data/BlackbuckAnnotations/P1/downsampled/SSD7/20230315/SM_Lek1/P1D1/20230315_SM_Lek1_P1D1_DJI_0375.MP4\n",
      "Tracklets already computed /home/vsridhar/DATA/DeepLabCut/projects/06_TerritoryDetectionP1-Vivek-2023-08-01/output/SSD7/20230315/SM_Lek1/P1D1/20230315_SM_Lek1_P1D1_DJI_0375DLC_dlcrnetms5_06_TerritoryDetectionP1Aug1shuffle1_50000_el.pickle\n",
      "Set overwrite = True to overwrite.\n",
      "The tracklets were created (i.e., under the hood deeplabcut.convert_detections2tracklets was run). Now you can 'refine_tracklets' in the GUI, or run 'deeplabcut.stitch_tracklets'.\n",
      "Processing...  /media/vsridhar/T7/Work/Data/BlackbuckAnnotations/P1/downsampled/SSD7/20230315/SM_Lek1/P1D1/20230315_SM_Lek1_P1D1_DJI_0375.MP4\n"
     ]
    },
    {
     "name": "stderr",
     "output_type": "stream",
     "text": [
      "/home/vsridhar/.local/lib/python3.10/site-packages/deeplabcut/refine_training_dataset/stitch.py:138: FutureWarning: Unlike other reduction functions (e.g. `skew`, `kurtosis`), the default behavior of `mode` typically preserves the axis it acts along. In SciPy 1.11.0, this behavior will change: the default value of `keepdims` will become False, the `axis` over which the statistic is taken will be eliminated, and the value None will no longer be accepted. Set `keepdims` to True or False to avoid this warning.\n",
      "  return mode(self.data[..., 3], axis=None, nan_policy=\"omit\")[0][0]\n",
      "100%|████████████████████████████████████████████████████████████████████████████████████| 550/550 [00:00<00:00, 2421.75it/s]\n"
     ]
    },
    {
     "name": "stdout",
     "output_type": "stream",
     "text": [
      "Starting to analyze %  /media/vsridhar/T7/Work/Data/BlackbuckAnnotations/P1/downsampled/SSD7/20230315/SM_Lek1/P1D1/20230315_SM_Lek1_P1D1_DJI_0373.MP4\n",
      "Video already analyzed! /home/vsridhar/DATA/DeepLabCut/projects/06_TerritoryDetectionP1-Vivek-2023-08-01/output/SSD7/20230315/SM_Lek1/P1D1/20230315_SM_Lek1_P1D1_DJI_0373DLC_dlcrnetms5_06_TerritoryDetectionP1Aug1shuffle1_50000.h5\n",
      "Using snapshot-50000 for model /home/vsridhar/DATA/DeepLabCut/projects/06_TerritoryDetectionP1-Vivek-2023-08-01/dlc-models/iteration-0/06_TerritoryDetectionP1Aug1-trainset90shuffle1\n",
      "Processing...  /media/vsridhar/T7/Work/Data/BlackbuckAnnotations/P1/downsampled/SSD7/20230315/SM_Lek1/P1D1/20230315_SM_Lek1_P1D1_DJI_0373.MP4\n",
      "Tracklets already computed /home/vsridhar/DATA/DeepLabCut/projects/06_TerritoryDetectionP1-Vivek-2023-08-01/output/SSD7/20230315/SM_Lek1/P1D1/20230315_SM_Lek1_P1D1_DJI_0373DLC_dlcrnetms5_06_TerritoryDetectionP1Aug1shuffle1_50000_el.pickle\n",
      "Set overwrite = True to overwrite.\n",
      "The tracklets were created (i.e., under the hood deeplabcut.convert_detections2tracklets was run). Now you can 'refine_tracklets' in the GUI, or run 'deeplabcut.stitch_tracklets'.\n",
      "Processing...  /media/vsridhar/T7/Work/Data/BlackbuckAnnotations/P1/downsampled/SSD7/20230315/SM_Lek1/P1D1/20230315_SM_Lek1_P1D1_DJI_0373.MP4\n"
     ]
    },
    {
     "name": "stderr",
     "output_type": "stream",
     "text": [
      "/home/vsridhar/.local/lib/python3.10/site-packages/deeplabcut/refine_training_dataset/stitch.py:138: FutureWarning: Unlike other reduction functions (e.g. `skew`, `kurtosis`), the default behavior of `mode` typically preserves the axis it acts along. In SciPy 1.11.0, this behavior will change: the default value of `keepdims` will become False, the `axis` over which the statistic is taken will be eliminated, and the value None will no longer be accepted. Set `keepdims` to True or False to avoid this warning.\n",
      "  return mode(self.data[..., 3], axis=None, nan_policy=\"omit\")[0][0]\n",
      "100%|████████████████████████████████████████████████████████████████████████████████████| 426/426 [00:00<00:00, 2827.46it/s]\n"
     ]
    },
    {
     "name": "stdout",
     "output_type": "stream",
     "text": [
      "Starting to analyze %  /media/vsridhar/T7/Work/Data/BlackbuckAnnotations/P1/downsampled/SSD7/20230315/SM_Lek1/P1D1/20230315_SM_Lek1_P1D1_DJI_0363.MP4\n",
      "Video already analyzed! /home/vsridhar/DATA/DeepLabCut/projects/06_TerritoryDetectionP1-Vivek-2023-08-01/output/SSD7/20230315/SM_Lek1/P1D1/20230315_SM_Lek1_P1D1_DJI_0363DLC_dlcrnetms5_06_TerritoryDetectionP1Aug1shuffle1_50000.h5\n",
      "Using snapshot-50000 for model /home/vsridhar/DATA/DeepLabCut/projects/06_TerritoryDetectionP1-Vivek-2023-08-01/dlc-models/iteration-0/06_TerritoryDetectionP1Aug1-trainset90shuffle1\n",
      "Processing...  /media/vsridhar/T7/Work/Data/BlackbuckAnnotations/P1/downsampled/SSD7/20230315/SM_Lek1/P1D1/20230315_SM_Lek1_P1D1_DJI_0363.MP4\n",
      "Tracklets already computed /home/vsridhar/DATA/DeepLabCut/projects/06_TerritoryDetectionP1-Vivek-2023-08-01/output/SSD7/20230315/SM_Lek1/P1D1/20230315_SM_Lek1_P1D1_DJI_0363DLC_dlcrnetms5_06_TerritoryDetectionP1Aug1shuffle1_50000_el.pickle\n",
      "Set overwrite = True to overwrite.\n",
      "The tracklets were created (i.e., under the hood deeplabcut.convert_detections2tracklets was run). Now you can 'refine_tracklets' in the GUI, or run 'deeplabcut.stitch_tracklets'.\n",
      "Processing...  /media/vsridhar/T7/Work/Data/BlackbuckAnnotations/P1/downsampled/SSD7/20230315/SM_Lek1/P1D1/20230315_SM_Lek1_P1D1_DJI_0363.MP4\n"
     ]
    },
    {
     "name": "stderr",
     "output_type": "stream",
     "text": [
      "/home/vsridhar/.local/lib/python3.10/site-packages/deeplabcut/refine_training_dataset/stitch.py:138: FutureWarning: Unlike other reduction functions (e.g. `skew`, `kurtosis`), the default behavior of `mode` typically preserves the axis it acts along. In SciPy 1.11.0, this behavior will change: the default value of `keepdims` will become False, the `axis` over which the statistic is taken will be eliminated, and the value None will no longer be accepted. Set `keepdims` to True or False to avoid this warning.\n",
      "  return mode(self.data[..., 3], axis=None, nan_policy=\"omit\")[0][0]\n",
      "100%|████████████████████████████████████████████████████████████████████████████████████| 399/399 [00:00<00:00, 2628.62it/s]\n"
     ]
    },
    {
     "name": "stdout",
     "output_type": "stream",
     "text": [
      "Starting to analyze %  /media/vsridhar/T7/Work/Data/BlackbuckAnnotations/P1/downsampled/SSD7/20230315/SM_Lek1/P1D1/20230315_SM_Lek1_P1D1_DJI_0380.MP4\n",
      "Video already analyzed! /home/vsridhar/DATA/DeepLabCut/projects/06_TerritoryDetectionP1-Vivek-2023-08-01/output/SSD7/20230315/SM_Lek1/P1D1/20230315_SM_Lek1_P1D1_DJI_0380DLC_dlcrnetms5_06_TerritoryDetectionP1Aug1shuffle1_50000.h5\n",
      "Using snapshot-50000 for model /home/vsridhar/DATA/DeepLabCut/projects/06_TerritoryDetectionP1-Vivek-2023-08-01/dlc-models/iteration-0/06_TerritoryDetectionP1Aug1-trainset90shuffle1\n",
      "Processing...  /media/vsridhar/T7/Work/Data/BlackbuckAnnotations/P1/downsampled/SSD7/20230315/SM_Lek1/P1D1/20230315_SM_Lek1_P1D1_DJI_0380.MP4\n",
      "Tracklets already computed /home/vsridhar/DATA/DeepLabCut/projects/06_TerritoryDetectionP1-Vivek-2023-08-01/output/SSD7/20230315/SM_Lek1/P1D1/20230315_SM_Lek1_P1D1_DJI_0380DLC_dlcrnetms5_06_TerritoryDetectionP1Aug1shuffle1_50000_el.pickle\n",
      "Set overwrite = True to overwrite.\n",
      "The tracklets were created (i.e., under the hood deeplabcut.convert_detections2tracklets was run). Now you can 'refine_tracklets' in the GUI, or run 'deeplabcut.stitch_tracklets'.\n",
      "Processing...  /media/vsridhar/T7/Work/Data/BlackbuckAnnotations/P1/downsampled/SSD7/20230315/SM_Lek1/P1D1/20230315_SM_Lek1_P1D1_DJI_0380.MP4\n"
     ]
    },
    {
     "name": "stderr",
     "output_type": "stream",
     "text": [
      "/home/vsridhar/.local/lib/python3.10/site-packages/deeplabcut/refine_training_dataset/stitch.py:138: FutureWarning: Unlike other reduction functions (e.g. `skew`, `kurtosis`), the default behavior of `mode` typically preserves the axis it acts along. In SciPy 1.11.0, this behavior will change: the default value of `keepdims` will become False, the `axis` over which the statistic is taken will be eliminated, and the value None will no longer be accepted. Set `keepdims` to True or False to avoid this warning.\n",
      "  return mode(self.data[..., 3], axis=None, nan_policy=\"omit\")[0][0]\n",
      "100%|████████████████████████████████████████████████████████████████████████████████████| 249/249 [00:00<00:00, 1885.31it/s]\n"
     ]
    },
    {
     "name": "stdout",
     "output_type": "stream",
     "text": [
      "Starting to analyze %  /media/vsridhar/T7/Work/Data/BlackbuckAnnotations/P1/downsampled/SSD7/20230315/SM_Lek1/P1D1/20230315_SM_Lek1_P1D1_DJI_0364.MP4\n",
      "Video already analyzed! /home/vsridhar/DATA/DeepLabCut/projects/06_TerritoryDetectionP1-Vivek-2023-08-01/output/SSD7/20230315/SM_Lek1/P1D1/20230315_SM_Lek1_P1D1_DJI_0364DLC_dlcrnetms5_06_TerritoryDetectionP1Aug1shuffle1_50000.h5\n",
      "Using snapshot-50000 for model /home/vsridhar/DATA/DeepLabCut/projects/06_TerritoryDetectionP1-Vivek-2023-08-01/dlc-models/iteration-0/06_TerritoryDetectionP1Aug1-trainset90shuffle1\n",
      "Processing...  /media/vsridhar/T7/Work/Data/BlackbuckAnnotations/P1/downsampled/SSD7/20230315/SM_Lek1/P1D1/20230315_SM_Lek1_P1D1_DJI_0364.MP4\n",
      "Tracklets already computed /home/vsridhar/DATA/DeepLabCut/projects/06_TerritoryDetectionP1-Vivek-2023-08-01/output/SSD7/20230315/SM_Lek1/P1D1/20230315_SM_Lek1_P1D1_DJI_0364DLC_dlcrnetms5_06_TerritoryDetectionP1Aug1shuffle1_50000_el.pickle\n",
      "Set overwrite = True to overwrite.\n",
      "The tracklets were created (i.e., under the hood deeplabcut.convert_detections2tracklets was run). Now you can 'refine_tracklets' in the GUI, or run 'deeplabcut.stitch_tracklets'.\n",
      "Processing...  /media/vsridhar/T7/Work/Data/BlackbuckAnnotations/P1/downsampled/SSD7/20230315/SM_Lek1/P1D1/20230315_SM_Lek1_P1D1_DJI_0364.MP4\n"
     ]
    },
    {
     "name": "stderr",
     "output_type": "stream",
     "text": [
      "/home/vsridhar/.local/lib/python3.10/site-packages/deeplabcut/refine_training_dataset/stitch.py:138: FutureWarning: Unlike other reduction functions (e.g. `skew`, `kurtosis`), the default behavior of `mode` typically preserves the axis it acts along. In SciPy 1.11.0, this behavior will change: the default value of `keepdims` will become False, the `axis` over which the statistic is taken will be eliminated, and the value None will no longer be accepted. Set `keepdims` to True or False to avoid this warning.\n",
      "  return mode(self.data[..., 3], axis=None, nan_policy=\"omit\")[0][0]\n",
      "100%|████████████████████████████████████████████████████████████████████████████████████| 315/315 [00:00<00:00, 2176.49it/s]\n"
     ]
    },
    {
     "name": "stdout",
     "output_type": "stream",
     "text": [
      "The videos are analyzed. Time to assemble animals and track 'em... \n",
      " Call 'create_video_with_all_detections' to check multi-animal detection quality before tracking.\n",
      "If the tracking is not satisfactory for some videos, consider expanding the training set. You can use the function 'extract_outlier_frames' to extract a few representative outlier frames.\n"
     ]
    }
   ],
   "source": [
    "for ssd in SSD:\n",
    "    for date in DATE:\n",
    "        for session in SESSION:\n",
    "            for drone in DRONE:\n",
    "                internal_path = '/' + ssd + '/' + date + '/' + session + '/' + drone\n",
    "                \n",
    "                deeplabcut.analyze_videos(config_path,\n",
    "                                          ['/media/vsridhar/T7/Work/Data/BlackbuckAnnotations/P1/downsampled' + internal_path],\n",
    "                                          videotype='MP4',\n",
    "                                          destfolder='/home/vsridhar/DATA/DeepLabCut/projects/06_TerritoryDetectionP1-Vivek-2023-08-01/output' + internal_path,\n",
    "                                          gputouse=0, \n",
    "                                          save_as_csv=False,\n",
    "                                          allow_growth=True,\n",
    "                                          auto_track=True)"
   ]
  },
  {
   "cell_type": "code",
   "execution_count": null,
   "id": "706a7c9d",
   "metadata": {},
   "outputs": [],
   "source": []
  }
 ],
 "metadata": {
  "kernelspec": {
   "display_name": "Python 3 (ipykernel)",
   "language": "python",
   "name": "python3"
  },
  "language_info": {
   "codemirror_mode": {
    "name": "ipython",
    "version": 3
   },
   "file_extension": ".py",
   "mimetype": "text/x-python",
   "name": "python",
   "nbconvert_exporter": "python",
   "pygments_lexer": "ipython3",
   "version": "3.10.12"
  }
 },
 "nbformat": 4,
 "nbformat_minor": 5
}
