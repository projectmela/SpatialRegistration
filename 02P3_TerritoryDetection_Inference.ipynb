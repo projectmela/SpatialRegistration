{
 "cells": [
  {
   "cell_type": "code",
   "execution_count": 1,
   "id": "4dee4ad4",
   "metadata": {},
   "outputs": [
    {
     "name": "stdout",
     "output_type": "stream",
     "text": [
      "Loading DLC 2.3.5...\n"
     ]
    }
   ],
   "source": [
    "import os\n",
    "import deeplabcut"
   ]
  },
  {
   "cell_type": "code",
   "execution_count": 4,
   "id": "52afc396",
   "metadata": {},
   "outputs": [],
   "source": [
    "SSD = ['SSD7']\n",
    "DATE = ['20230314', '20230316']\n",
    "SESSION = ['SE_Lek1']\n",
    "DRONE = ['P3D5', 'P3D6']\n",
    "\n",
    "config_path = '/home/vsridhar/DATA/DeepLabCut/projects/07_TerritoryDetectionP3-Vivek-2023-08-18/config.yaml'"
   ]
  },
  {
   "cell_type": "code",
   "execution_count": 5,
   "id": "245d8478",
   "metadata": {
    "scrolled": true
   },
   "outputs": [
    {
     "name": "stderr",
     "output_type": "stream",
     "text": [
      "/home/vsridhar/.local/lib/python3.10/site-packages/tensorflow/python/keras/engine/base_layer_v1.py:1694: UserWarning: `layer.apply` is deprecated and will be removed in a future version. Please use `layer.__call__` method instead.\n",
      "  warnings.warn('`layer.apply` is deprecated and '\n",
      "/home/vsridhar/.local/lib/python3.10/site-packages/tf_slim/layers/layers.py:684: UserWarning: `layer.apply` is deprecated and will be removed in a future version. Please use `layer.__call__` method instead.\n",
      "  outputs = layer.apply(inputs, training=is_training)\n"
     ]
    },
    {
     "name": "stdout",
     "output_type": "stream",
     "text": [
      "Using snapshot-50000 for model /home/vsridhar/DATA/DeepLabCut/projects/07_TerritoryDetectionP3-Vivek-2023-08-18/dlc-models/iteration-0/07_TerritoryDetectionP3Aug18-trainset90shuffle1\n",
      "Activating extracting of PAFs\n",
      "Analyzing all the videos in the directory...\n",
      "Starting to analyze %  /media/vsridhar/T7/Work/Data/BlackbuckAnnotations/P3/downsampled/SSD7/20230314/SE_Lek1/P3D5/20230314_SE_Lek1_P3D5_DJI_0631.MP4\n",
      "Loading  /media/vsridhar/T7/Work/Data/BlackbuckAnnotations/P3/downsampled/SSD7/20230314/SE_Lek1/P3D5/20230314_SE_Lek1_P3D5_DJI_0631.MP4\n",
      "Duration of video [s]:  193.69 , recorded with  29.97 fps!\n",
      "Overall # of frames:  5805  found with (before cropping) frame dimensions:  1824 1026\n",
      "Starting to extract posture from the video(s) with batchsize: 8\n"
     ]
    },
    {
     "name": "stderr",
     "output_type": "stream",
     "text": [
      "100%|████████████████████████████████████████████████████████████████████████████████████| 5805/5805 [04:31<00:00, 21.40it/s]\n"
     ]
    },
    {
     "name": "stdout",
     "output_type": "stream",
     "text": [
      "Video Analyzed. Saving results in /home/vsridhar/DATA/DeepLabCut/projects/07_TerritoryDetectionP3-Vivek-2023-08-18/output/SSD7/20230314/SE_Lek1/P3D5...\n",
      "Using snapshot-50000 for model /home/vsridhar/DATA/DeepLabCut/projects/07_TerritoryDetectionP3-Vivek-2023-08-18/dlc-models/iteration-0/07_TerritoryDetectionP3Aug18-trainset90shuffle1\n",
      "Processing...  /media/vsridhar/T7/Work/Data/BlackbuckAnnotations/P3/downsampled/SSD7/20230314/SE_Lek1/P3D5/20230314_SE_Lek1_P3D5_DJI_0631.MP4\n",
      "Analyzing /home/vsridhar/DATA/DeepLabCut/projects/07_TerritoryDetectionP3-Vivek-2023-08-18/output/SSD7/20230314/SE_Lek1/P3D5/20230314_SE_Lek1_P3D5_DJI_0631DLC_dlcrnetms5_07_TerritoryDetectionP3Aug18shuffle1_50000.h5\n"
     ]
    },
    {
     "name": "stderr",
     "output_type": "stream",
     "text": [
      "100%|███████████████████████████████████████████████████████████████████████████████████| 5805/5805 [00:08<00:00, 670.47it/s]\n",
      "5805it [00:15, 385.36it/s]\n"
     ]
    },
    {
     "name": "stdout",
     "output_type": "stream",
     "text": [
      "The tracklets were created (i.e., under the hood deeplabcut.convert_detections2tracklets was run). Now you can 'refine_tracklets' in the GUI, or run 'deeplabcut.stitch_tracklets'.\n",
      "Processing...  /media/vsridhar/T7/Work/Data/BlackbuckAnnotations/P3/downsampled/SSD7/20230314/SE_Lek1/P3D5/20230314_SE_Lek1_P3D5_DJI_0631.MP4\n"
     ]
    },
    {
     "name": "stderr",
     "output_type": "stream",
     "text": [
      "/home/vsridhar/.local/lib/python3.10/site-packages/deeplabcut/refine_training_dataset/stitch.py:138: FutureWarning: Unlike other reduction functions (e.g. `skew`, `kurtosis`), the default behavior of `mode` typically preserves the axis it acts along. In SciPy 1.11.0, this behavior will change: the default value of `keepdims` will become False, the `axis` over which the statistic is taken will be eliminated, and the value None will no longer be accepted. Set `keepdims` to True or False to avoid this warning.\n",
      "  return mode(self.data[..., 3], axis=None, nan_policy=\"omit\")[0][0]\n",
      "100%|██████████████████████████████████████████████████████████████████████████████████████| 67/67 [00:00<00:00, 3652.77it/s]\n"
     ]
    },
    {
     "name": "stdout",
     "output_type": "stream",
     "text": [
      "Starting to analyze %  /media/vsridhar/T7/Work/Data/BlackbuckAnnotations/P3/downsampled/SSD7/20230314/SE_Lek1/P3D5/20230314_SE_Lek1_P3D5_DJI_0626.MP4\n",
      "Loading  /media/vsridhar/T7/Work/Data/BlackbuckAnnotations/P3/downsampled/SSD7/20230314/SE_Lek1/P3D5/20230314_SE_Lek1_P3D5_DJI_0626.MP4\n",
      "Duration of video [s]:  194.09 , recorded with  29.97 fps!\n",
      "Overall # of frames:  5817  found with (before cropping) frame dimensions:  1824 1026\n",
      "Starting to extract posture from the video(s) with batchsize: 8\n"
     ]
    },
    {
     "name": "stderr",
     "output_type": "stream",
     "text": [
      "100%|████████████████████████████████████████████████████████████████████████████████████| 5817/5817 [04:29<00:00, 21.62it/s]\n"
     ]
    },
    {
     "name": "stdout",
     "output_type": "stream",
     "text": [
      "Video Analyzed. Saving results in /home/vsridhar/DATA/DeepLabCut/projects/07_TerritoryDetectionP3-Vivek-2023-08-18/output/SSD7/20230314/SE_Lek1/P3D5...\n",
      "Using snapshot-50000 for model /home/vsridhar/DATA/DeepLabCut/projects/07_TerritoryDetectionP3-Vivek-2023-08-18/dlc-models/iteration-0/07_TerritoryDetectionP3Aug18-trainset90shuffle1\n",
      "Processing...  /media/vsridhar/T7/Work/Data/BlackbuckAnnotations/P3/downsampled/SSD7/20230314/SE_Lek1/P3D5/20230314_SE_Lek1_P3D5_DJI_0626.MP4\n",
      "Analyzing /home/vsridhar/DATA/DeepLabCut/projects/07_TerritoryDetectionP3-Vivek-2023-08-18/output/SSD7/20230314/SE_Lek1/P3D5/20230314_SE_Lek1_P3D5_DJI_0626DLC_dlcrnetms5_07_TerritoryDetectionP3Aug18shuffle1_50000.h5\n"
     ]
    },
    {
     "name": "stderr",
     "output_type": "stream",
     "text": [
      "100%|███████████████████████████████████████████████████████████████████████████████████| 5817/5817 [00:07<00:00, 804.29it/s]\n",
      "5817it [00:14, 410.27it/s]\n"
     ]
    },
    {
     "name": "stdout",
     "output_type": "stream",
     "text": [
      "The tracklets were created (i.e., under the hood deeplabcut.convert_detections2tracklets was run). Now you can 'refine_tracklets' in the GUI, or run 'deeplabcut.stitch_tracklets'.\n",
      "Processing...  /media/vsridhar/T7/Work/Data/BlackbuckAnnotations/P3/downsampled/SSD7/20230314/SE_Lek1/P3D5/20230314_SE_Lek1_P3D5_DJI_0626.MP4\n"
     ]
    },
    {
     "name": "stderr",
     "output_type": "stream",
     "text": [
      "/home/vsridhar/.local/lib/python3.10/site-packages/deeplabcut/refine_training_dataset/stitch.py:138: FutureWarning: Unlike other reduction functions (e.g. `skew`, `kurtosis`), the default behavior of `mode` typically preserves the axis it acts along. In SciPy 1.11.0, this behavior will change: the default value of `keepdims` will become False, the `axis` over which the statistic is taken will be eliminated, and the value None will no longer be accepted. Set `keepdims` to True or False to avoid this warning.\n",
      "  return mode(self.data[..., 3], axis=None, nan_policy=\"omit\")[0][0]\n",
      "100%|██████████████████████████████████████████████████████████████████████████████████████| 64/64 [00:00<00:00, 7991.29it/s]\n"
     ]
    },
    {
     "name": "stdout",
     "output_type": "stream",
     "text": [
      "Starting to analyze %  /media/vsridhar/T7/Work/Data/BlackbuckAnnotations/P3/downsampled/SSD7/20230314/SE_Lek1/P3D5/20230314_SE_Lek1_P3D5_DJI_0623.MP4\n",
      "Loading  /media/vsridhar/T7/Work/Data/BlackbuckAnnotations/P3/downsampled/SSD7/20230314/SE_Lek1/P3D5/20230314_SE_Lek1_P3D5_DJI_0623.MP4\n",
      "Duration of video [s]:  193.93 , recorded with  29.97 fps!\n",
      "Overall # of frames:  5812  found with (before cropping) frame dimensions:  1824 1026\n",
      "Starting to extract posture from the video(s) with batchsize: 8\n"
     ]
    },
    {
     "name": "stderr",
     "output_type": "stream",
     "text": [
      "100%|████████████████████████████████████████████████████████████████████████████████████| 5812/5812 [04:37<00:00, 20.91it/s]\n"
     ]
    },
    {
     "name": "stdout",
     "output_type": "stream",
     "text": [
      "Video Analyzed. Saving results in /home/vsridhar/DATA/DeepLabCut/projects/07_TerritoryDetectionP3-Vivek-2023-08-18/output/SSD7/20230314/SE_Lek1/P3D5...\n",
      "Using snapshot-50000 for model /home/vsridhar/DATA/DeepLabCut/projects/07_TerritoryDetectionP3-Vivek-2023-08-18/dlc-models/iteration-0/07_TerritoryDetectionP3Aug18-trainset90shuffle1\n",
      "Processing...  /media/vsridhar/T7/Work/Data/BlackbuckAnnotations/P3/downsampled/SSD7/20230314/SE_Lek1/P3D5/20230314_SE_Lek1_P3D5_DJI_0623.MP4\n",
      "Analyzing /home/vsridhar/DATA/DeepLabCut/projects/07_TerritoryDetectionP3-Vivek-2023-08-18/output/SSD7/20230314/SE_Lek1/P3D5/20230314_SE_Lek1_P3D5_DJI_0623DLC_dlcrnetms5_07_TerritoryDetectionP3Aug18shuffle1_50000.h5\n"
     ]
    },
    {
     "name": "stderr",
     "output_type": "stream",
     "text": [
      "100%|███████████████████████████████████████████████████████████████████████████████████| 5812/5812 [00:07<00:00, 772.93it/s]\n",
      "5812it [00:14, 392.60it/s]\n"
     ]
    },
    {
     "name": "stdout",
     "output_type": "stream",
     "text": [
      "The tracklets were created (i.e., under the hood deeplabcut.convert_detections2tracklets was run). Now you can 'refine_tracklets' in the GUI, or run 'deeplabcut.stitch_tracklets'.\n",
      "Processing...  /media/vsridhar/T7/Work/Data/BlackbuckAnnotations/P3/downsampled/SSD7/20230314/SE_Lek1/P3D5/20230314_SE_Lek1_P3D5_DJI_0623.MP4\n"
     ]
    },
    {
     "name": "stderr",
     "output_type": "stream",
     "text": [
      "/home/vsridhar/.local/lib/python3.10/site-packages/deeplabcut/refine_training_dataset/stitch.py:138: FutureWarning: Unlike other reduction functions (e.g. `skew`, `kurtosis`), the default behavior of `mode` typically preserves the axis it acts along. In SciPy 1.11.0, this behavior will change: the default value of `keepdims` will become False, the `axis` over which the statistic is taken will be eliminated, and the value None will no longer be accepted. Set `keepdims` to True or False to avoid this warning.\n",
      "  return mode(self.data[..., 3], axis=None, nan_policy=\"omit\")[0][0]\n",
      "100%|█████████████████████████████████████████████████████████████████████████████████████| 41/41 [00:00<00:00, 14750.94it/s]\n",
      "/home/vsridhar/.local/lib/python3.10/site-packages/deeplabcut/refine_training_dataset/stitch.py:690: UserWarning: No optimal solution found. Employing black magic...\n",
      "  warnings.warn(\"No optimal solution found. Employing black magic...\")\n",
      "/home/vsridhar/.local/lib/python3.10/site-packages/deeplabcut/refine_training_dataset/stitch.py:763: UserWarning: Only 41 tracks could be reconstructed.\n",
      "  warnings.warn(f\"Only {len(self.paths)} tracks could be reconstructed.\")\n"
     ]
    },
    {
     "name": "stdout",
     "output_type": "stream",
     "text": [
      "Starting to analyze %  /media/vsridhar/T7/Work/Data/BlackbuckAnnotations/P3/downsampled/SSD7/20230314/SE_Lek1/P3D5/20230314_SE_Lek1_P3D5_DJI_0635.MP4\n",
      "Loading  /media/vsridhar/T7/Work/Data/BlackbuckAnnotations/P3/downsampled/SSD7/20230314/SE_Lek1/P3D5/20230314_SE_Lek1_P3D5_DJI_0635.MP4\n",
      "Duration of video [s]:  193.96 , recorded with  29.97 fps!\n",
      "Overall # of frames:  5813  found with (before cropping) frame dimensions:  1824 1026\n",
      "Starting to extract posture from the video(s) with batchsize: 8\n"
     ]
    },
    {
     "name": "stderr",
     "output_type": "stream",
     "text": [
      "100%|████████████████████████████████████████████████████████████████████████████████████| 5813/5813 [04:34<00:00, 21.21it/s]\n"
     ]
    },
    {
     "name": "stdout",
     "output_type": "stream",
     "text": [
      "Video Analyzed. Saving results in /home/vsridhar/DATA/DeepLabCut/projects/07_TerritoryDetectionP3-Vivek-2023-08-18/output/SSD7/20230314/SE_Lek1/P3D5...\n",
      "Using snapshot-50000 for model /home/vsridhar/DATA/DeepLabCut/projects/07_TerritoryDetectionP3-Vivek-2023-08-18/dlc-models/iteration-0/07_TerritoryDetectionP3Aug18-trainset90shuffle1\n",
      "Processing...  /media/vsridhar/T7/Work/Data/BlackbuckAnnotations/P3/downsampled/SSD7/20230314/SE_Lek1/P3D5/20230314_SE_Lek1_P3D5_DJI_0635.MP4\n",
      "Analyzing /home/vsridhar/DATA/DeepLabCut/projects/07_TerritoryDetectionP3-Vivek-2023-08-18/output/SSD7/20230314/SE_Lek1/P3D5/20230314_SE_Lek1_P3D5_DJI_0635DLC_dlcrnetms5_07_TerritoryDetectionP3Aug18shuffle1_50000.h5\n"
     ]
    },
    {
     "name": "stderr",
     "output_type": "stream",
     "text": [
      "100%|███████████████████████████████████████████████████████████████████████████████████| 5813/5813 [00:07<00:00, 769.76it/s]\n",
      "5813it [00:14, 392.79it/s]\n"
     ]
    },
    {
     "name": "stdout",
     "output_type": "stream",
     "text": [
      "The tracklets were created (i.e., under the hood deeplabcut.convert_detections2tracklets was run). Now you can 'refine_tracklets' in the GUI, or run 'deeplabcut.stitch_tracklets'.\n",
      "Processing...  /media/vsridhar/T7/Work/Data/BlackbuckAnnotations/P3/downsampled/SSD7/20230314/SE_Lek1/P3D5/20230314_SE_Lek1_P3D5_DJI_0635.MP4\n"
     ]
    },
    {
     "name": "stderr",
     "output_type": "stream",
     "text": [
      "/home/vsridhar/.local/lib/python3.10/site-packages/deeplabcut/refine_training_dataset/stitch.py:138: FutureWarning: Unlike other reduction functions (e.g. `skew`, `kurtosis`), the default behavior of `mode` typically preserves the axis it acts along. In SciPy 1.11.0, this behavior will change: the default value of `keepdims` will become False, the `axis` over which the statistic is taken will be eliminated, and the value None will no longer be accepted. Set `keepdims` to True or False to avoid this warning.\n",
      "  return mode(self.data[..., 3], axis=None, nan_policy=\"omit\")[0][0]\n",
      "100%|██████████████████████████████████████████████████████████████████████████████████████| 72/72 [00:00<00:00, 3070.47it/s]\n"
     ]
    },
    {
     "name": "stdout",
     "output_type": "stream",
     "text": [
      "Starting to analyze %  /media/vsridhar/T7/Work/Data/BlackbuckAnnotations/P3/downsampled/SSD7/20230314/SE_Lek1/P3D5/20230314_SE_Lek1_P3D5_DJI_0621.MP4\n",
      "Loading  /media/vsridhar/T7/Work/Data/BlackbuckAnnotations/P3/downsampled/SSD7/20230314/SE_Lek1/P3D5/20230314_SE_Lek1_P3D5_DJI_0621.MP4\n",
      "Duration of video [s]:  193.59 , recorded with  29.97 fps!\n",
      "Overall # of frames:  5802  found with (before cropping) frame dimensions:  1824 1026\n",
      "Starting to extract posture from the video(s) with batchsize: 8\n"
     ]
    },
    {
     "name": "stderr",
     "output_type": "stream",
     "text": [
      "100%|████████████████████████████████████████████████████████████████████████████████████| 5802/5802 [04:32<00:00, 21.31it/s]\n"
     ]
    },
    {
     "name": "stdout",
     "output_type": "stream",
     "text": [
      "Video Analyzed. Saving results in /home/vsridhar/DATA/DeepLabCut/projects/07_TerritoryDetectionP3-Vivek-2023-08-18/output/SSD7/20230314/SE_Lek1/P3D5...\n",
      "Using snapshot-50000 for model /home/vsridhar/DATA/DeepLabCut/projects/07_TerritoryDetectionP3-Vivek-2023-08-18/dlc-models/iteration-0/07_TerritoryDetectionP3Aug18-trainset90shuffle1\n",
      "Processing...  /media/vsridhar/T7/Work/Data/BlackbuckAnnotations/P3/downsampled/SSD7/20230314/SE_Lek1/P3D5/20230314_SE_Lek1_P3D5_DJI_0621.MP4\n",
      "Analyzing /home/vsridhar/DATA/DeepLabCut/projects/07_TerritoryDetectionP3-Vivek-2023-08-18/output/SSD7/20230314/SE_Lek1/P3D5/20230314_SE_Lek1_P3D5_DJI_0621DLC_dlcrnetms5_07_TerritoryDetectionP3Aug18shuffle1_50000.h5\n"
     ]
    },
    {
     "name": "stderr",
     "output_type": "stream",
     "text": [
      "100%|███████████████████████████████████████████████████████████████████████████████████| 5802/5802 [00:07<00:00, 758.63it/s]\n",
      "5802it [00:14, 405.50it/s]\n"
     ]
    },
    {
     "name": "stdout",
     "output_type": "stream",
     "text": [
      "The tracklets were created (i.e., under the hood deeplabcut.convert_detections2tracklets was run). Now you can 'refine_tracklets' in the GUI, or run 'deeplabcut.stitch_tracklets'.\n",
      "Processing...  /media/vsridhar/T7/Work/Data/BlackbuckAnnotations/P3/downsampled/SSD7/20230314/SE_Lek1/P3D5/20230314_SE_Lek1_P3D5_DJI_0621.MP4\n"
     ]
    },
    {
     "name": "stderr",
     "output_type": "stream",
     "text": [
      "/home/vsridhar/.local/lib/python3.10/site-packages/deeplabcut/refine_training_dataset/stitch.py:138: FutureWarning: Unlike other reduction functions (e.g. `skew`, `kurtosis`), the default behavior of `mode` typically preserves the axis it acts along. In SciPy 1.11.0, this behavior will change: the default value of `keepdims` will become False, the `axis` over which the statistic is taken will be eliminated, and the value None will no longer be accepted. Set `keepdims` to True or False to avoid this warning.\n",
      "  return mode(self.data[..., 3], axis=None, nan_policy=\"omit\")[0][0]\n",
      "100%|██████████████████████████████████████████████████████████████████████████████████████| 54/54 [00:00<00:00, 7616.52it/s]\n",
      "/home/vsridhar/.local/lib/python3.10/site-packages/deeplabcut/refine_training_dataset/stitch.py:690: UserWarning: No optimal solution found. Employing black magic...\n",
      "  warnings.warn(\"No optimal solution found. Employing black magic...\")\n",
      "/home/vsridhar/.local/lib/python3.10/site-packages/deeplabcut/refine_training_dataset/stitch.py:763: UserWarning: Only 54 tracks could be reconstructed.\n",
      "  warnings.warn(f\"Only {len(self.paths)} tracks could be reconstructed.\")\n"
     ]
    },
    {
     "name": "stdout",
     "output_type": "stream",
     "text": [
      "Starting to analyze %  /media/vsridhar/T7/Work/Data/BlackbuckAnnotations/P3/downsampled/SSD7/20230314/SE_Lek1/P3D5/20230314_SE_Lek1_P3D5_DJI_0634.MP4\n",
      "Loading  /media/vsridhar/T7/Work/Data/BlackbuckAnnotations/P3/downsampled/SSD7/20230314/SE_Lek1/P3D5/20230314_SE_Lek1_P3D5_DJI_0634.MP4\n",
      "Duration of video [s]:  193.99 , recorded with  29.97 fps!\n",
      "Overall # of frames:  5814  found with (before cropping) frame dimensions:  1824 1026\n",
      "Starting to extract posture from the video(s) with batchsize: 8\n"
     ]
    },
    {
     "name": "stderr",
     "output_type": "stream",
     "text": [
      "100%|████████████████████████████████████████████████████████████████████████████████████| 5814/5814 [04:32<00:00, 21.37it/s]\n"
     ]
    },
    {
     "name": "stdout",
     "output_type": "stream",
     "text": [
      "Video Analyzed. Saving results in /home/vsridhar/DATA/DeepLabCut/projects/07_TerritoryDetectionP3-Vivek-2023-08-18/output/SSD7/20230314/SE_Lek1/P3D5...\n",
      "Using snapshot-50000 for model /home/vsridhar/DATA/DeepLabCut/projects/07_TerritoryDetectionP3-Vivek-2023-08-18/dlc-models/iteration-0/07_TerritoryDetectionP3Aug18-trainset90shuffle1\n",
      "Processing...  /media/vsridhar/T7/Work/Data/BlackbuckAnnotations/P3/downsampled/SSD7/20230314/SE_Lek1/P3D5/20230314_SE_Lek1_P3D5_DJI_0634.MP4\n",
      "Analyzing /home/vsridhar/DATA/DeepLabCut/projects/07_TerritoryDetectionP3-Vivek-2023-08-18/output/SSD7/20230314/SE_Lek1/P3D5/20230314_SE_Lek1_P3D5_DJI_0634DLC_dlcrnetms5_07_TerritoryDetectionP3Aug18shuffle1_50000.h5\n"
     ]
    },
    {
     "name": "stderr",
     "output_type": "stream",
     "text": [
      "100%|███████████████████████████████████████████████████████████████████████████████████| 5814/5814 [00:07<00:00, 757.05it/s]\n",
      "5814it [00:14, 402.86it/s]\n"
     ]
    },
    {
     "name": "stdout",
     "output_type": "stream",
     "text": [
      "The tracklets were created (i.e., under the hood deeplabcut.convert_detections2tracklets was run). Now you can 'refine_tracklets' in the GUI, or run 'deeplabcut.stitch_tracklets'.\n",
      "Processing...  /media/vsridhar/T7/Work/Data/BlackbuckAnnotations/P3/downsampled/SSD7/20230314/SE_Lek1/P3D5/20230314_SE_Lek1_P3D5_DJI_0634.MP4\n"
     ]
    },
    {
     "name": "stderr",
     "output_type": "stream",
     "text": [
      "/home/vsridhar/.local/lib/python3.10/site-packages/deeplabcut/refine_training_dataset/stitch.py:138: FutureWarning: Unlike other reduction functions (e.g. `skew`, `kurtosis`), the default behavior of `mode` typically preserves the axis it acts along. In SciPy 1.11.0, this behavior will change: the default value of `keepdims` will become False, the `axis` over which the statistic is taken will be eliminated, and the value None will no longer be accepted. Set `keepdims` to True or False to avoid this warning.\n",
      "  return mode(self.data[..., 3], axis=None, nan_policy=\"omit\")[0][0]\n",
      "100%|██████████████████████████████████████████████████████████████████████████████████████| 37/37 [00:00<00:00, 9113.77it/s]\n",
      "/home/vsridhar/.local/lib/python3.10/site-packages/deeplabcut/refine_training_dataset/stitch.py:690: UserWarning: No optimal solution found. Employing black magic...\n",
      "  warnings.warn(\"No optimal solution found. Employing black magic...\")\n",
      "/home/vsridhar/.local/lib/python3.10/site-packages/deeplabcut/refine_training_dataset/stitch.py:763: UserWarning: Only 37 tracks could be reconstructed.\n",
      "  warnings.warn(f\"Only {len(self.paths)} tracks could be reconstructed.\")\n"
     ]
    },
    {
     "name": "stdout",
     "output_type": "stream",
     "text": [
      "Starting to analyze %  /media/vsridhar/T7/Work/Data/BlackbuckAnnotations/P3/downsampled/SSD7/20230314/SE_Lek1/P3D5/20230314_SE_Lek1_P3D5_DJI_0633.MP4\n",
      "Loading  /media/vsridhar/T7/Work/Data/BlackbuckAnnotations/P3/downsampled/SSD7/20230314/SE_Lek1/P3D5/20230314_SE_Lek1_P3D5_DJI_0633.MP4\n",
      "Duration of video [s]:  193.99 , recorded with  29.97 fps!\n",
      "Overall # of frames:  5814  found with (before cropping) frame dimensions:  1824 1026\n",
      "Starting to extract posture from the video(s) with batchsize: 8\n"
     ]
    },
    {
     "name": "stderr",
     "output_type": "stream",
     "text": [
      "100%|████████████████████████████████████████████████████████████████████████████████████| 5814/5814 [04:30<00:00, 21.48it/s]\n"
     ]
    },
    {
     "name": "stdout",
     "output_type": "stream",
     "text": [
      "Video Analyzed. Saving results in /home/vsridhar/DATA/DeepLabCut/projects/07_TerritoryDetectionP3-Vivek-2023-08-18/output/SSD7/20230314/SE_Lek1/P3D5...\n",
      "Using snapshot-50000 for model /home/vsridhar/DATA/DeepLabCut/projects/07_TerritoryDetectionP3-Vivek-2023-08-18/dlc-models/iteration-0/07_TerritoryDetectionP3Aug18-trainset90shuffle1\n",
      "Processing...  /media/vsridhar/T7/Work/Data/BlackbuckAnnotations/P3/downsampled/SSD7/20230314/SE_Lek1/P3D5/20230314_SE_Lek1_P3D5_DJI_0633.MP4\n",
      "Analyzing /home/vsridhar/DATA/DeepLabCut/projects/07_TerritoryDetectionP3-Vivek-2023-08-18/output/SSD7/20230314/SE_Lek1/P3D5/20230314_SE_Lek1_P3D5_DJI_0633DLC_dlcrnetms5_07_TerritoryDetectionP3Aug18shuffle1_50000.h5\n"
     ]
    },
    {
     "name": "stderr",
     "output_type": "stream",
     "text": [
      "100%|███████████████████████████████████████████████████████████████████████████████████| 5814/5814 [00:07<00:00, 726.81it/s]\n",
      "5814it [00:14, 409.69it/s]\n"
     ]
    },
    {
     "name": "stdout",
     "output_type": "stream",
     "text": [
      "The tracklets were created (i.e., under the hood deeplabcut.convert_detections2tracklets was run). Now you can 'refine_tracklets' in the GUI, or run 'deeplabcut.stitch_tracklets'.\n",
      "Processing...  /media/vsridhar/T7/Work/Data/BlackbuckAnnotations/P3/downsampled/SSD7/20230314/SE_Lek1/P3D5/20230314_SE_Lek1_P3D5_DJI_0633.MP4\n"
     ]
    },
    {
     "name": "stderr",
     "output_type": "stream",
     "text": [
      "/home/vsridhar/.local/lib/python3.10/site-packages/deeplabcut/refine_training_dataset/stitch.py:138: FutureWarning: Unlike other reduction functions (e.g. `skew`, `kurtosis`), the default behavior of `mode` typically preserves the axis it acts along. In SciPy 1.11.0, this behavior will change: the default value of `keepdims` will become False, the `axis` over which the statistic is taken will be eliminated, and the value None will no longer be accepted. Set `keepdims` to True or False to avoid this warning.\n",
      "  return mode(self.data[..., 3], axis=None, nan_policy=\"omit\")[0][0]\n",
      "100%|██████████████████████████████████████████████████████████████████████████████████████| 36/36 [00:00<00:00, 9463.21it/s]\n",
      "/home/vsridhar/.local/lib/python3.10/site-packages/deeplabcut/refine_training_dataset/stitch.py:690: UserWarning: No optimal solution found. Employing black magic...\n",
      "  warnings.warn(\"No optimal solution found. Employing black magic...\")\n",
      "/home/vsridhar/.local/lib/python3.10/site-packages/deeplabcut/refine_training_dataset/stitch.py:763: UserWarning: Only 36 tracks could be reconstructed.\n",
      "  warnings.warn(f\"Only {len(self.paths)} tracks could be reconstructed.\")\n"
     ]
    },
    {
     "name": "stdout",
     "output_type": "stream",
     "text": [
      "Starting to analyze %  /media/vsridhar/T7/Work/Data/BlackbuckAnnotations/P3/downsampled/SSD7/20230314/SE_Lek1/P3D5/20230314_SE_Lek1_P3D5_DJI_0629.MP4\n",
      "Loading  /media/vsridhar/T7/Work/Data/BlackbuckAnnotations/P3/downsampled/SSD7/20230314/SE_Lek1/P3D5/20230314_SE_Lek1_P3D5_DJI_0629.MP4\n",
      "Duration of video [s]:  193.96 , recorded with  29.97 fps!\n",
      "Overall # of frames:  5813  found with (before cropping) frame dimensions:  1824 1026\n",
      "Starting to extract posture from the video(s) with batchsize: 8\n"
     ]
    },
    {
     "name": "stderr",
     "output_type": "stream",
     "text": [
      "100%|████████████████████████████████████████████████████████████████████████████████████| 5813/5813 [04:31<00:00, 21.39it/s]\n"
     ]
    },
    {
     "name": "stdout",
     "output_type": "stream",
     "text": [
      "Video Analyzed. Saving results in /home/vsridhar/DATA/DeepLabCut/projects/07_TerritoryDetectionP3-Vivek-2023-08-18/output/SSD7/20230314/SE_Lek1/P3D5...\n",
      "Using snapshot-50000 for model /home/vsridhar/DATA/DeepLabCut/projects/07_TerritoryDetectionP3-Vivek-2023-08-18/dlc-models/iteration-0/07_TerritoryDetectionP3Aug18-trainset90shuffle1\n",
      "Processing...  /media/vsridhar/T7/Work/Data/BlackbuckAnnotations/P3/downsampled/SSD7/20230314/SE_Lek1/P3D5/20230314_SE_Lek1_P3D5_DJI_0629.MP4\n",
      "Analyzing /home/vsridhar/DATA/DeepLabCut/projects/07_TerritoryDetectionP3-Vivek-2023-08-18/output/SSD7/20230314/SE_Lek1/P3D5/20230314_SE_Lek1_P3D5_DJI_0629DLC_dlcrnetms5_07_TerritoryDetectionP3Aug18shuffle1_50000.h5\n"
     ]
    },
    {
     "name": "stderr",
     "output_type": "stream",
     "text": [
      "100%|███████████████████████████████████████████████████████████████████████████████████| 5813/5813 [00:08<00:00, 706.25it/s]\n",
      "5813it [00:14, 388.99it/s]\n"
     ]
    },
    {
     "name": "stdout",
     "output_type": "stream",
     "text": [
      "The tracklets were created (i.e., under the hood deeplabcut.convert_detections2tracklets was run). Now you can 'refine_tracklets' in the GUI, or run 'deeplabcut.stitch_tracklets'.\n",
      "Processing...  /media/vsridhar/T7/Work/Data/BlackbuckAnnotations/P3/downsampled/SSD7/20230314/SE_Lek1/P3D5/20230314_SE_Lek1_P3D5_DJI_0629.MP4\n"
     ]
    },
    {
     "name": "stderr",
     "output_type": "stream",
     "text": [
      "/home/vsridhar/.local/lib/python3.10/site-packages/deeplabcut/refine_training_dataset/stitch.py:138: FutureWarning: Unlike other reduction functions (e.g. `skew`, `kurtosis`), the default behavior of `mode` typically preserves the axis it acts along. In SciPy 1.11.0, this behavior will change: the default value of `keepdims` will become False, the `axis` over which the statistic is taken will be eliminated, and the value None will no longer be accepted. Set `keepdims` to True or False to avoid this warning.\n",
      "  return mode(self.data[..., 3], axis=None, nan_policy=\"omit\")[0][0]\n",
      "100%|████████████████████████████████████████████████████████████████████████████████████| 128/128 [00:00<00:00, 5573.25it/s]\n"
     ]
    },
    {
     "name": "stdout",
     "output_type": "stream",
     "text": [
      "Starting to analyze %  /media/vsridhar/T7/Work/Data/BlackbuckAnnotations/P3/downsampled/SSD7/20230314/SE_Lek1/P3D5/20230314_SE_Lek1_P3D5_DJI_0630.MP4\n",
      "Loading  /media/vsridhar/T7/Work/Data/BlackbuckAnnotations/P3/downsampled/SSD7/20230314/SE_Lek1/P3D5/20230314_SE_Lek1_P3D5_DJI_0630.MP4\n",
      "Duration of video [s]:  134.23 , recorded with  29.97 fps!\n",
      "Overall # of frames:  4023  found with (before cropping) frame dimensions:  1824 1026\n",
      "Starting to extract posture from the video(s) with batchsize: 8\n"
     ]
    },
    {
     "name": "stderr",
     "output_type": "stream",
     "text": [
      "100%|████████████████████████████████████████████████████████████████████████████████████| 4023/4023 [03:07<00:00, 21.40it/s]\n"
     ]
    },
    {
     "name": "stdout",
     "output_type": "stream",
     "text": [
      "Video Analyzed. Saving results in /home/vsridhar/DATA/DeepLabCut/projects/07_TerritoryDetectionP3-Vivek-2023-08-18/output/SSD7/20230314/SE_Lek1/P3D5...\n",
      "Using snapshot-50000 for model /home/vsridhar/DATA/DeepLabCut/projects/07_TerritoryDetectionP3-Vivek-2023-08-18/dlc-models/iteration-0/07_TerritoryDetectionP3Aug18-trainset90shuffle1\n",
      "Processing...  /media/vsridhar/T7/Work/Data/BlackbuckAnnotations/P3/downsampled/SSD7/20230314/SE_Lek1/P3D5/20230314_SE_Lek1_P3D5_DJI_0630.MP4\n",
      "Analyzing /home/vsridhar/DATA/DeepLabCut/projects/07_TerritoryDetectionP3-Vivek-2023-08-18/output/SSD7/20230314/SE_Lek1/P3D5/20230314_SE_Lek1_P3D5_DJI_0630DLC_dlcrnetms5_07_TerritoryDetectionP3Aug18shuffle1_50000.h5\n"
     ]
    },
    {
     "name": "stderr",
     "output_type": "stream",
     "text": [
      "100%|███████████████████████████████████████████████████████████████████████████████████| 4023/4023 [00:05<00:00, 717.39it/s]\n",
      "4023it [00:10, 394.35it/s]\n"
     ]
    },
    {
     "name": "stdout",
     "output_type": "stream",
     "text": [
      "The tracklets were created (i.e., under the hood deeplabcut.convert_detections2tracklets was run). Now you can 'refine_tracklets' in the GUI, or run 'deeplabcut.stitch_tracklets'.\n",
      "Processing...  /media/vsridhar/T7/Work/Data/BlackbuckAnnotations/P3/downsampled/SSD7/20230314/SE_Lek1/P3D5/20230314_SE_Lek1_P3D5_DJI_0630.MP4\n"
     ]
    },
    {
     "name": "stderr",
     "output_type": "stream",
     "text": [
      "/home/vsridhar/.local/lib/python3.10/site-packages/deeplabcut/refine_training_dataset/stitch.py:138: FutureWarning: Unlike other reduction functions (e.g. `skew`, `kurtosis`), the default behavior of `mode` typically preserves the axis it acts along. In SciPy 1.11.0, this behavior will change: the default value of `keepdims` will become False, the `axis` over which the statistic is taken will be eliminated, and the value None will no longer be accepted. Set `keepdims` to True or False to avoid this warning.\n",
      "  return mode(self.data[..., 3], axis=None, nan_policy=\"omit\")[0][0]\n",
      "100%|██████████████████████████████████████████████████████████████████████████████████████| 81/81 [00:00<00:00, 6155.02it/s]\n"
     ]
    },
    {
     "name": "stdout",
     "output_type": "stream",
     "text": [
      "Starting to analyze %  /media/vsridhar/T7/Work/Data/BlackbuckAnnotations/P3/downsampled/SSD7/20230314/SE_Lek1/P3D5/20230314_SE_Lek1_P3D5_DJI_0628.MP4\n",
      "Loading  /media/vsridhar/T7/Work/Data/BlackbuckAnnotations/P3/downsampled/SSD7/20230314/SE_Lek1/P3D5/20230314_SE_Lek1_P3D5_DJI_0628.MP4\n",
      "Duration of video [s]:  193.96 , recorded with  29.97 fps!\n",
      "Overall # of frames:  5813  found with (before cropping) frame dimensions:  1824 1026\n",
      "Starting to extract posture from the video(s) with batchsize: 8\n"
     ]
    },
    {
     "name": "stderr",
     "output_type": "stream",
     "text": [
      "100%|████████████████████████████████████████████████████████████████████████████████████| 5813/5813 [04:30<00:00, 21.50it/s]\n"
     ]
    },
    {
     "name": "stdout",
     "output_type": "stream",
     "text": [
      "Video Analyzed. Saving results in /home/vsridhar/DATA/DeepLabCut/projects/07_TerritoryDetectionP3-Vivek-2023-08-18/output/SSD7/20230314/SE_Lek1/P3D5...\n",
      "Using snapshot-50000 for model /home/vsridhar/DATA/DeepLabCut/projects/07_TerritoryDetectionP3-Vivek-2023-08-18/dlc-models/iteration-0/07_TerritoryDetectionP3Aug18-trainset90shuffle1\n",
      "Processing...  /media/vsridhar/T7/Work/Data/BlackbuckAnnotations/P3/downsampled/SSD7/20230314/SE_Lek1/P3D5/20230314_SE_Lek1_P3D5_DJI_0628.MP4\n",
      "Analyzing /home/vsridhar/DATA/DeepLabCut/projects/07_TerritoryDetectionP3-Vivek-2023-08-18/output/SSD7/20230314/SE_Lek1/P3D5/20230314_SE_Lek1_P3D5_DJI_0628DLC_dlcrnetms5_07_TerritoryDetectionP3Aug18shuffle1_50000.h5\n"
     ]
    },
    {
     "name": "stderr",
     "output_type": "stream",
     "text": [
      "100%|███████████████████████████████████████████████████████████████████████████████████| 5813/5813 [00:08<00:00, 708.38it/s]\n",
      "5813it [00:13, 417.38it/s]\n"
     ]
    },
    {
     "name": "stdout",
     "output_type": "stream",
     "text": [
      "The tracklets were created (i.e., under the hood deeplabcut.convert_detections2tracklets was run). Now you can 'refine_tracklets' in the GUI, or run 'deeplabcut.stitch_tracklets'.\n",
      "Processing...  /media/vsridhar/T7/Work/Data/BlackbuckAnnotations/P3/downsampled/SSD7/20230314/SE_Lek1/P3D5/20230314_SE_Lek1_P3D5_DJI_0628.MP4\n"
     ]
    },
    {
     "name": "stderr",
     "output_type": "stream",
     "text": [
      "/home/vsridhar/.local/lib/python3.10/site-packages/deeplabcut/refine_training_dataset/stitch.py:138: FutureWarning: Unlike other reduction functions (e.g. `skew`, `kurtosis`), the default behavior of `mode` typically preserves the axis it acts along. In SciPy 1.11.0, this behavior will change: the default value of `keepdims` will become False, the `axis` over which the statistic is taken will be eliminated, and the value None will no longer be accepted. Set `keepdims` to True or False to avoid this warning.\n",
      "  return mode(self.data[..., 3], axis=None, nan_policy=\"omit\")[0][0]\n",
      "100%|█████████████████████████████████████████████████████████████████████████████████████| 43/43 [00:00<00:00, 15569.33it/s]\n",
      "/home/vsridhar/.local/lib/python3.10/site-packages/deeplabcut/refine_training_dataset/stitch.py:690: UserWarning: No optimal solution found. Employing black magic...\n",
      "  warnings.warn(\"No optimal solution found. Employing black magic...\")\n",
      "/home/vsridhar/.local/lib/python3.10/site-packages/deeplabcut/refine_training_dataset/stitch.py:763: UserWarning: Only 43 tracks could be reconstructed.\n",
      "  warnings.warn(f\"Only {len(self.paths)} tracks could be reconstructed.\")\n"
     ]
    },
    {
     "name": "stdout",
     "output_type": "stream",
     "text": [
      "Starting to analyze %  /media/vsridhar/T7/Work/Data/BlackbuckAnnotations/P3/downsampled/SSD7/20230314/SE_Lek1/P3D5/20230314_SE_Lek1_P3D5_DJI_0625.MP4\n",
      "Loading  /media/vsridhar/T7/Work/Data/BlackbuckAnnotations/P3/downsampled/SSD7/20230314/SE_Lek1/P3D5/20230314_SE_Lek1_P3D5_DJI_0625.MP4\n",
      "Duration of video [s]:  193.59 , recorded with  29.97 fps!\n",
      "Overall # of frames:  5802  found with (before cropping) frame dimensions:  1824 1026\n",
      "Starting to extract posture from the video(s) with batchsize: 8\n"
     ]
    },
    {
     "name": "stderr",
     "output_type": "stream",
     "text": [
      "100%|████████████████████████████████████████████████████████████████████████████████████| 5802/5802 [04:35<00:00, 21.02it/s]\n"
     ]
    },
    {
     "name": "stdout",
     "output_type": "stream",
     "text": [
      "Video Analyzed. Saving results in /home/vsridhar/DATA/DeepLabCut/projects/07_TerritoryDetectionP3-Vivek-2023-08-18/output/SSD7/20230314/SE_Lek1/P3D5...\n",
      "Using snapshot-50000 for model /home/vsridhar/DATA/DeepLabCut/projects/07_TerritoryDetectionP3-Vivek-2023-08-18/dlc-models/iteration-0/07_TerritoryDetectionP3Aug18-trainset90shuffle1\n",
      "Processing...  /media/vsridhar/T7/Work/Data/BlackbuckAnnotations/P3/downsampled/SSD7/20230314/SE_Lek1/P3D5/20230314_SE_Lek1_P3D5_DJI_0625.MP4\n",
      "Analyzing /home/vsridhar/DATA/DeepLabCut/projects/07_TerritoryDetectionP3-Vivek-2023-08-18/output/SSD7/20230314/SE_Lek1/P3D5/20230314_SE_Lek1_P3D5_DJI_0625DLC_dlcrnetms5_07_TerritoryDetectionP3Aug18shuffle1_50000.h5\n"
     ]
    },
    {
     "name": "stderr",
     "output_type": "stream",
     "text": [
      "100%|███████████████████████████████████████████████████████████████████████████████████| 5802/5802 [00:10<00:00, 563.88it/s]\n",
      "5802it [00:17, 332.91it/s]\n"
     ]
    },
    {
     "name": "stdout",
     "output_type": "stream",
     "text": [
      "The tracklets were created (i.e., under the hood deeplabcut.convert_detections2tracklets was run). Now you can 'refine_tracklets' in the GUI, or run 'deeplabcut.stitch_tracklets'.\n",
      "Processing...  /media/vsridhar/T7/Work/Data/BlackbuckAnnotations/P3/downsampled/SSD7/20230314/SE_Lek1/P3D5/20230314_SE_Lek1_P3D5_DJI_0625.MP4\n"
     ]
    },
    {
     "name": "stderr",
     "output_type": "stream",
     "text": [
      "/home/vsridhar/.local/lib/python3.10/site-packages/deeplabcut/refine_training_dataset/stitch.py:138: FutureWarning: Unlike other reduction functions (e.g. `skew`, `kurtosis`), the default behavior of `mode` typically preserves the axis it acts along. In SciPy 1.11.0, this behavior will change: the default value of `keepdims` will become False, the `axis` over which the statistic is taken will be eliminated, and the value None will no longer be accepted. Set `keepdims` to True or False to avoid this warning.\n",
      "  return mode(self.data[..., 3], axis=None, nan_policy=\"omit\")[0][0]\n",
      "100%|████████████████████████████████████████████████████████████████████████████████████| 132/132 [00:00<00:00, 1499.54it/s]\n"
     ]
    },
    {
     "name": "stdout",
     "output_type": "stream",
     "text": [
      "Starting to analyze %  /media/vsridhar/T7/Work/Data/BlackbuckAnnotations/P3/downsampled/SSD7/20230314/SE_Lek1/P3D5/20230314_SE_Lek1_P3D5_DJI_0632.MP4\n",
      "Loading  /media/vsridhar/T7/Work/Data/BlackbuckAnnotations/P3/downsampled/SSD7/20230314/SE_Lek1/P3D5/20230314_SE_Lek1_P3D5_DJI_0632.MP4\n",
      "Duration of video [s]:  194.03 , recorded with  29.97 fps!\n",
      "Overall # of frames:  5815  found with (before cropping) frame dimensions:  1824 1026\n",
      "Starting to extract posture from the video(s) with batchsize: 8\n"
     ]
    },
    {
     "name": "stderr",
     "output_type": "stream",
     "text": [
      "100%|████████████████████████████████████████████████████████████████████████████████████| 5815/5815 [04:30<00:00, 21.47it/s]\n"
     ]
    },
    {
     "name": "stdout",
     "output_type": "stream",
     "text": [
      "Video Analyzed. Saving results in /home/vsridhar/DATA/DeepLabCut/projects/07_TerritoryDetectionP3-Vivek-2023-08-18/output/SSD7/20230314/SE_Lek1/P3D5...\n",
      "Using snapshot-50000 for model /home/vsridhar/DATA/DeepLabCut/projects/07_TerritoryDetectionP3-Vivek-2023-08-18/dlc-models/iteration-0/07_TerritoryDetectionP3Aug18-trainset90shuffle1\n",
      "Processing...  /media/vsridhar/T7/Work/Data/BlackbuckAnnotations/P3/downsampled/SSD7/20230314/SE_Lek1/P3D5/20230314_SE_Lek1_P3D5_DJI_0632.MP4\n",
      "Analyzing /home/vsridhar/DATA/DeepLabCut/projects/07_TerritoryDetectionP3-Vivek-2023-08-18/output/SSD7/20230314/SE_Lek1/P3D5/20230314_SE_Lek1_P3D5_DJI_0632DLC_dlcrnetms5_07_TerritoryDetectionP3Aug18shuffle1_50000.h5\n"
     ]
    },
    {
     "name": "stderr",
     "output_type": "stream",
     "text": [
      "100%|███████████████████████████████████████████████████████████████████████████████████| 5815/5815 [00:07<00:00, 762.22it/s]\n",
      "5815it [00:14, 402.47it/s]\n"
     ]
    },
    {
     "name": "stdout",
     "output_type": "stream",
     "text": [
      "The tracklets were created (i.e., under the hood deeplabcut.convert_detections2tracklets was run). Now you can 'refine_tracklets' in the GUI, or run 'deeplabcut.stitch_tracklets'.\n",
      "Processing...  /media/vsridhar/T7/Work/Data/BlackbuckAnnotations/P3/downsampled/SSD7/20230314/SE_Lek1/P3D5/20230314_SE_Lek1_P3D5_DJI_0632.MP4\n"
     ]
    },
    {
     "name": "stderr",
     "output_type": "stream",
     "text": [
      "/home/vsridhar/.local/lib/python3.10/site-packages/deeplabcut/refine_training_dataset/stitch.py:138: FutureWarning: Unlike other reduction functions (e.g. `skew`, `kurtosis`), the default behavior of `mode` typically preserves the axis it acts along. In SciPy 1.11.0, this behavior will change: the default value of `keepdims` will become False, the `axis` over which the statistic is taken will be eliminated, and the value None will no longer be accepted. Set `keepdims` to True or False to avoid this warning.\n",
      "  return mode(self.data[..., 3], axis=None, nan_policy=\"omit\")[0][0]\n",
      "100%|██████████████████████████████████████████████████████████████████████████████████████| 35/35 [00:00<00:00, 7571.73it/s]\n",
      "/home/vsridhar/.local/lib/python3.10/site-packages/deeplabcut/refine_training_dataset/stitch.py:690: UserWarning: No optimal solution found. Employing black magic...\n",
      "  warnings.warn(\"No optimal solution found. Employing black magic...\")\n",
      "/home/vsridhar/.local/lib/python3.10/site-packages/deeplabcut/refine_training_dataset/stitch.py:763: UserWarning: Only 35 tracks could be reconstructed.\n",
      "  warnings.warn(f\"Only {len(self.paths)} tracks could be reconstructed.\")\n"
     ]
    },
    {
     "name": "stdout",
     "output_type": "stream",
     "text": [
      "Starting to analyze %  /media/vsridhar/T7/Work/Data/BlackbuckAnnotations/P3/downsampled/SSD7/20230314/SE_Lek1/P3D5/20230314_SE_Lek1_P3D5_DJI_0627.MP4\n",
      "Loading  /media/vsridhar/T7/Work/Data/BlackbuckAnnotations/P3/downsampled/SSD7/20230314/SE_Lek1/P3D5/20230314_SE_Lek1_P3D5_DJI_0627.MP4\n",
      "Duration of video [s]:  193.99 , recorded with  29.97 fps!\n",
      "Overall # of frames:  5814  found with (before cropping) frame dimensions:  1824 1026\n",
      "Starting to extract posture from the video(s) with batchsize: 8\n"
     ]
    },
    {
     "name": "stderr",
     "output_type": "stream",
     "text": [
      "100%|████████████████████████████████████████████████████████████████████████████████████| 5814/5814 [04:32<00:00, 21.37it/s]\n"
     ]
    },
    {
     "name": "stdout",
     "output_type": "stream",
     "text": [
      "Video Analyzed. Saving results in /home/vsridhar/DATA/DeepLabCut/projects/07_TerritoryDetectionP3-Vivek-2023-08-18/output/SSD7/20230314/SE_Lek1/P3D5...\n",
      "Using snapshot-50000 for model /home/vsridhar/DATA/DeepLabCut/projects/07_TerritoryDetectionP3-Vivek-2023-08-18/dlc-models/iteration-0/07_TerritoryDetectionP3Aug18-trainset90shuffle1\n",
      "Processing...  /media/vsridhar/T7/Work/Data/BlackbuckAnnotations/P3/downsampled/SSD7/20230314/SE_Lek1/P3D5/20230314_SE_Lek1_P3D5_DJI_0627.MP4\n",
      "Analyzing /home/vsridhar/DATA/DeepLabCut/projects/07_TerritoryDetectionP3-Vivek-2023-08-18/output/SSD7/20230314/SE_Lek1/P3D5/20230314_SE_Lek1_P3D5_DJI_0627DLC_dlcrnetms5_07_TerritoryDetectionP3Aug18shuffle1_50000.h5\n"
     ]
    },
    {
     "name": "stderr",
     "output_type": "stream",
     "text": [
      "100%|███████████████████████████████████████████████████████████████████████████████████| 5814/5814 [00:07<00:00, 781.94it/s]\n",
      "5814it [00:13, 422.49it/s]\n"
     ]
    },
    {
     "name": "stdout",
     "output_type": "stream",
     "text": [
      "The tracklets were created (i.e., under the hood deeplabcut.convert_detections2tracklets was run). Now you can 'refine_tracklets' in the GUI, or run 'deeplabcut.stitch_tracklets'.\n",
      "Processing...  /media/vsridhar/T7/Work/Data/BlackbuckAnnotations/P3/downsampled/SSD7/20230314/SE_Lek1/P3D5/20230314_SE_Lek1_P3D5_DJI_0627.MP4\n"
     ]
    },
    {
     "name": "stderr",
     "output_type": "stream",
     "text": [
      "/home/vsridhar/.local/lib/python3.10/site-packages/deeplabcut/refine_training_dataset/stitch.py:138: FutureWarning: Unlike other reduction functions (e.g. `skew`, `kurtosis`), the default behavior of `mode` typically preserves the axis it acts along. In SciPy 1.11.0, this behavior will change: the default value of `keepdims` will become False, the `axis` over which the statistic is taken will be eliminated, and the value None will no longer be accepted. Set `keepdims` to True or False to avoid this warning.\n",
      "  return mode(self.data[..., 3], axis=None, nan_policy=\"omit\")[0][0]\n",
      "100%|██████████████████████████████████████████████████████████████████████████████████████| 46/46 [00:00<00:00, 6334.97it/s]\n",
      "/home/vsridhar/.local/lib/python3.10/site-packages/deeplabcut/refine_training_dataset/stitch.py:690: UserWarning: No optimal solution found. Employing black magic...\n",
      "  warnings.warn(\"No optimal solution found. Employing black magic...\")\n",
      "/home/vsridhar/.local/lib/python3.10/site-packages/deeplabcut/refine_training_dataset/stitch.py:763: UserWarning: Only 46 tracks could be reconstructed.\n",
      "  warnings.warn(f\"Only {len(self.paths)} tracks could be reconstructed.\")\n"
     ]
    },
    {
     "name": "stdout",
     "output_type": "stream",
     "text": [
      "Starting to analyze %  /media/vsridhar/T7/Work/Data/BlackbuckAnnotations/P3/downsampled/SSD7/20230314/SE_Lek1/P3D5/20230314_SE_Lek1_P3D5_DJI_0636.MP4\n",
      "Loading  /media/vsridhar/T7/Work/Data/BlackbuckAnnotations/P3/downsampled/SSD7/20230314/SE_Lek1/P3D5/20230314_SE_Lek1_P3D5_DJI_0636.MP4\n",
      "Duration of video [s]:  69.4 , recorded with  29.97 fps!\n",
      "Overall # of frames:  2080  found with (before cropping) frame dimensions:  1824 1026\n",
      "Starting to extract posture from the video(s) with batchsize: 8\n"
     ]
    },
    {
     "name": "stderr",
     "output_type": "stream",
     "text": [
      "100%|████████████████████████████████████████████████████████████████████████████████████| 2080/2080 [01:37<00:00, 21.38it/s]\n"
     ]
    },
    {
     "name": "stdout",
     "output_type": "stream",
     "text": [
      "Video Analyzed. Saving results in /home/vsridhar/DATA/DeepLabCut/projects/07_TerritoryDetectionP3-Vivek-2023-08-18/output/SSD7/20230314/SE_Lek1/P3D5...\n",
      "Using snapshot-50000 for model /home/vsridhar/DATA/DeepLabCut/projects/07_TerritoryDetectionP3-Vivek-2023-08-18/dlc-models/iteration-0/07_TerritoryDetectionP3Aug18-trainset90shuffle1\n",
      "Processing...  /media/vsridhar/T7/Work/Data/BlackbuckAnnotations/P3/downsampled/SSD7/20230314/SE_Lek1/P3D5/20230314_SE_Lek1_P3D5_DJI_0636.MP4\n",
      "Analyzing /home/vsridhar/DATA/DeepLabCut/projects/07_TerritoryDetectionP3-Vivek-2023-08-18/output/SSD7/20230314/SE_Lek1/P3D5/20230314_SE_Lek1_P3D5_DJI_0636DLC_dlcrnetms5_07_TerritoryDetectionP3Aug18shuffle1_50000.h5\n"
     ]
    },
    {
     "name": "stderr",
     "output_type": "stream",
     "text": [
      "100%|███████████████████████████████████████████████████████████████████████████████████| 2080/2080 [00:02<00:00, 721.42it/s]\n",
      "2080it [00:05, 385.42it/s]\n"
     ]
    },
    {
     "name": "stdout",
     "output_type": "stream",
     "text": [
      "The tracklets were created (i.e., under the hood deeplabcut.convert_detections2tracklets was run). Now you can 'refine_tracklets' in the GUI, or run 'deeplabcut.stitch_tracklets'.\n",
      "Processing...  /media/vsridhar/T7/Work/Data/BlackbuckAnnotations/P3/downsampled/SSD7/20230314/SE_Lek1/P3D5/20230314_SE_Lek1_P3D5_DJI_0636.MP4\n"
     ]
    },
    {
     "name": "stderr",
     "output_type": "stream",
     "text": [
      "/home/vsridhar/.local/lib/python3.10/site-packages/deeplabcut/refine_training_dataset/stitch.py:138: FutureWarning: Unlike other reduction functions (e.g. `skew`, `kurtosis`), the default behavior of `mode` typically preserves the axis it acts along. In SciPy 1.11.0, this behavior will change: the default value of `keepdims` will become False, the `axis` over which the statistic is taken will be eliminated, and the value None will no longer be accepted. Set `keepdims` to True or False to avoid this warning.\n",
      "  return mode(self.data[..., 3], axis=None, nan_policy=\"omit\")[0][0]\n",
      "100%|█████████████████████████████████████████████████████████████████████████████████████| 45/45 [00:00<00:00, 10336.46it/s]\n",
      "/home/vsridhar/.local/lib/python3.10/site-packages/deeplabcut/refine_training_dataset/stitch.py:690: UserWarning: No optimal solution found. Employing black magic...\n",
      "  warnings.warn(\"No optimal solution found. Employing black magic...\")\n",
      "/home/vsridhar/.local/lib/python3.10/site-packages/deeplabcut/refine_training_dataset/stitch.py:763: UserWarning: Only 45 tracks could be reconstructed.\n",
      "  warnings.warn(f\"Only {len(self.paths)} tracks could be reconstructed.\")\n"
     ]
    },
    {
     "name": "stdout",
     "output_type": "stream",
     "text": [
      "Starting to analyze %  /media/vsridhar/T7/Work/Data/BlackbuckAnnotations/P3/downsampled/SSD7/20230314/SE_Lek1/P3D5/20230314_SE_Lek1_P3D5_DJI_0624.MP4\n",
      "Loading  /media/vsridhar/T7/Work/Data/BlackbuckAnnotations/P3/downsampled/SSD7/20230314/SE_Lek1/P3D5/20230314_SE_Lek1_P3D5_DJI_0624.MP4\n",
      "Duration of video [s]:  176.14 , recorded with  29.97 fps!\n",
      "Overall # of frames:  5279  found with (before cropping) frame dimensions:  1824 1026\n",
      "Starting to extract posture from the video(s) with batchsize: 8\n"
     ]
    },
    {
     "name": "stderr",
     "output_type": "stream",
     "text": [
      "100%|████████████████████████████████████████████████████████████████████████████████████| 5279/5279 [04:06<00:00, 21.40it/s]\n"
     ]
    },
    {
     "name": "stdout",
     "output_type": "stream",
     "text": [
      "Video Analyzed. Saving results in /home/vsridhar/DATA/DeepLabCut/projects/07_TerritoryDetectionP3-Vivek-2023-08-18/output/SSD7/20230314/SE_Lek1/P3D5...\n",
      "Using snapshot-50000 for model /home/vsridhar/DATA/DeepLabCut/projects/07_TerritoryDetectionP3-Vivek-2023-08-18/dlc-models/iteration-0/07_TerritoryDetectionP3Aug18-trainset90shuffle1\n",
      "Processing...  /media/vsridhar/T7/Work/Data/BlackbuckAnnotations/P3/downsampled/SSD7/20230314/SE_Lek1/P3D5/20230314_SE_Lek1_P3D5_DJI_0624.MP4\n",
      "Analyzing /home/vsridhar/DATA/DeepLabCut/projects/07_TerritoryDetectionP3-Vivek-2023-08-18/output/SSD7/20230314/SE_Lek1/P3D5/20230314_SE_Lek1_P3D5_DJI_0624DLC_dlcrnetms5_07_TerritoryDetectionP3Aug18shuffle1_50000.h5\n"
     ]
    },
    {
     "name": "stderr",
     "output_type": "stream",
     "text": [
      "100%|███████████████████████████████████████████████████████████████████████████████████| 5279/5279 [00:06<00:00, 765.47it/s]\n",
      "5279it [00:12, 409.19it/s]\n"
     ]
    },
    {
     "name": "stdout",
     "output_type": "stream",
     "text": [
      "The tracklets were created (i.e., under the hood deeplabcut.convert_detections2tracklets was run). Now you can 'refine_tracklets' in the GUI, or run 'deeplabcut.stitch_tracklets'.\n",
      "Processing...  /media/vsridhar/T7/Work/Data/BlackbuckAnnotations/P3/downsampled/SSD7/20230314/SE_Lek1/P3D5/20230314_SE_Lek1_P3D5_DJI_0624.MP4\n"
     ]
    },
    {
     "name": "stderr",
     "output_type": "stream",
     "text": [
      "/home/vsridhar/.local/lib/python3.10/site-packages/deeplabcut/refine_training_dataset/stitch.py:138: FutureWarning: Unlike other reduction functions (e.g. `skew`, `kurtosis`), the default behavior of `mode` typically preserves the axis it acts along. In SciPy 1.11.0, this behavior will change: the default value of `keepdims` will become False, the `axis` over which the statistic is taken will be eliminated, and the value None will no longer be accepted. Set `keepdims` to True or False to avoid this warning.\n",
      "  return mode(self.data[..., 3], axis=None, nan_policy=\"omit\")[0][0]\n",
      "100%|█████████████████████████████████████████████████████████████████████████████████████| 52/52 [00:00<00:00, 11378.54it/s]\n",
      "/home/vsridhar/.local/lib/python3.10/site-packages/deeplabcut/refine_training_dataset/stitch.py:690: UserWarning: No optimal solution found. Employing black magic...\n",
      "  warnings.warn(\"No optimal solution found. Employing black magic...\")\n",
      "/home/vsridhar/.local/lib/python3.10/site-packages/deeplabcut/refine_training_dataset/stitch.py:763: UserWarning: Only 52 tracks could be reconstructed.\n",
      "  warnings.warn(f\"Only {len(self.paths)} tracks could be reconstructed.\")\n"
     ]
    },
    {
     "name": "stdout",
     "output_type": "stream",
     "text": [
      "Starting to analyze %  /media/vsridhar/T7/Work/Data/BlackbuckAnnotations/P3/downsampled/SSD7/20230314/SE_Lek1/P3D5/20230314_SE_Lek1_P3D5_DJI_0622.MP4\n",
      "Loading  /media/vsridhar/T7/Work/Data/BlackbuckAnnotations/P3/downsampled/SSD7/20230314/SE_Lek1/P3D5/20230314_SE_Lek1_P3D5_DJI_0622.MP4\n",
      "Duration of video [s]:  194.06 , recorded with  29.97 fps!\n",
      "Overall # of frames:  5816  found with (before cropping) frame dimensions:  1824 1026\n",
      "Starting to extract posture from the video(s) with batchsize: 8\n"
     ]
    },
    {
     "name": "stderr",
     "output_type": "stream",
     "text": [
      "100%|████████████████████████████████████████████████████████████████████████████████████| 5816/5816 [04:30<00:00, 21.51it/s]\n"
     ]
    },
    {
     "name": "stdout",
     "output_type": "stream",
     "text": [
      "Video Analyzed. Saving results in /home/vsridhar/DATA/DeepLabCut/projects/07_TerritoryDetectionP3-Vivek-2023-08-18/output/SSD7/20230314/SE_Lek1/P3D5...\n",
      "Using snapshot-50000 for model /home/vsridhar/DATA/DeepLabCut/projects/07_TerritoryDetectionP3-Vivek-2023-08-18/dlc-models/iteration-0/07_TerritoryDetectionP3Aug18-trainset90shuffle1\n",
      "Processing...  /media/vsridhar/T7/Work/Data/BlackbuckAnnotations/P3/downsampled/SSD7/20230314/SE_Lek1/P3D5/20230314_SE_Lek1_P3D5_DJI_0622.MP4\n",
      "Analyzing /home/vsridhar/DATA/DeepLabCut/projects/07_TerritoryDetectionP3-Vivek-2023-08-18/output/SSD7/20230314/SE_Lek1/P3D5/20230314_SE_Lek1_P3D5_DJI_0622DLC_dlcrnetms5_07_TerritoryDetectionP3Aug18shuffle1_50000.h5\n"
     ]
    },
    {
     "name": "stderr",
     "output_type": "stream",
     "text": [
      "100%|███████████████████████████████████████████████████████████████████████████████████| 5816/5816 [00:07<00:00, 744.71it/s]\n",
      "5816it [00:14, 410.03it/s]\n"
     ]
    },
    {
     "name": "stdout",
     "output_type": "stream",
     "text": [
      "The tracklets were created (i.e., under the hood deeplabcut.convert_detections2tracklets was run). Now you can 'refine_tracklets' in the GUI, or run 'deeplabcut.stitch_tracklets'.\n",
      "Processing...  /media/vsridhar/T7/Work/Data/BlackbuckAnnotations/P3/downsampled/SSD7/20230314/SE_Lek1/P3D5/20230314_SE_Lek1_P3D5_DJI_0622.MP4\n"
     ]
    },
    {
     "name": "stderr",
     "output_type": "stream",
     "text": [
      "/home/vsridhar/.local/lib/python3.10/site-packages/deeplabcut/refine_training_dataset/stitch.py:138: FutureWarning: Unlike other reduction functions (e.g. `skew`, `kurtosis`), the default behavior of `mode` typically preserves the axis it acts along. In SciPy 1.11.0, this behavior will change: the default value of `keepdims` will become False, the `axis` over which the statistic is taken will be eliminated, and the value None will no longer be accepted. Set `keepdims` to True or False to avoid this warning.\n",
      "  return mode(self.data[..., 3], axis=None, nan_policy=\"omit\")[0][0]\n",
      "100%|██████████████████████████████████████████████████████████████████████████████████████| 44/44 [00:00<00:00, 6587.05it/s]\n",
      "/home/vsridhar/.local/lib/python3.10/site-packages/deeplabcut/refine_training_dataset/stitch.py:690: UserWarning: No optimal solution found. Employing black magic...\n",
      "  warnings.warn(\"No optimal solution found. Employing black magic...\")\n",
      "/home/vsridhar/.local/lib/python3.10/site-packages/deeplabcut/refine_training_dataset/stitch.py:763: UserWarning: Only 44 tracks could be reconstructed.\n",
      "  warnings.warn(f\"Only {len(self.paths)} tracks could be reconstructed.\")\n",
      "/home/vsridhar/.local/lib/python3.10/site-packages/tensorflow/python/keras/engine/base_layer_v1.py:1694: UserWarning: `layer.apply` is deprecated and will be removed in a future version. Please use `layer.__call__` method instead.\n",
      "  warnings.warn('`layer.apply` is deprecated and '\n",
      "/home/vsridhar/.local/lib/python3.10/site-packages/tf_slim/layers/layers.py:684: UserWarning: `layer.apply` is deprecated and will be removed in a future version. Please use `layer.__call__` method instead.\n",
      "  outputs = layer.apply(inputs, training=is_training)\n"
     ]
    },
    {
     "name": "stdout",
     "output_type": "stream",
     "text": [
      "The videos are analyzed. Time to assemble animals and track 'em... \n",
      " Call 'create_video_with_all_detections' to check multi-animal detection quality before tracking.\n",
      "If the tracking is not satisfactory for some videos, consider expanding the training set. You can use the function 'extract_outlier_frames' to extract a few representative outlier frames.\n",
      "Using snapshot-50000 for model /home/vsridhar/DATA/DeepLabCut/projects/07_TerritoryDetectionP3-Vivek-2023-08-18/dlc-models/iteration-0/07_TerritoryDetectionP3Aug18-trainset90shuffle1\n",
      "Activating extracting of PAFs\n",
      "Analyzing all the videos in the directory...\n",
      "Starting to analyze %  /media/vsridhar/T7/Work/Data/BlackbuckAnnotations/P3/downsampled/SSD7/20230314/SE_Lek1/P3D6/20230314_SE_Lek1_P3D6_DJI_0980.MP4\n",
      "Loading  /media/vsridhar/T7/Work/Data/BlackbuckAnnotations/P3/downsampled/SSD7/20230314/SE_Lek1/P3D6/20230314_SE_Lek1_P3D6_DJI_0980.MP4\n",
      "Duration of video [s]:  194.03 , recorded with  29.97 fps!\n",
      "Overall # of frames:  5815  found with (before cropping) frame dimensions:  1824 1026\n",
      "Starting to extract posture from the video(s) with batchsize: 8\n"
     ]
    },
    {
     "name": "stderr",
     "output_type": "stream",
     "text": [
      "100%|████████████████████████████████████████████████████████████████████████████████████| 5815/5815 [04:33<00:00, 21.29it/s]\n"
     ]
    },
    {
     "name": "stdout",
     "output_type": "stream",
     "text": [
      "Video Analyzed. Saving results in /home/vsridhar/DATA/DeepLabCut/projects/07_TerritoryDetectionP3-Vivek-2023-08-18/output/SSD7/20230314/SE_Lek1/P3D6...\n",
      "Using snapshot-50000 for model /home/vsridhar/DATA/DeepLabCut/projects/07_TerritoryDetectionP3-Vivek-2023-08-18/dlc-models/iteration-0/07_TerritoryDetectionP3Aug18-trainset90shuffle1\n",
      "Processing...  /media/vsridhar/T7/Work/Data/BlackbuckAnnotations/P3/downsampled/SSD7/20230314/SE_Lek1/P3D6/20230314_SE_Lek1_P3D6_DJI_0980.MP4\n",
      "Analyzing /home/vsridhar/DATA/DeepLabCut/projects/07_TerritoryDetectionP3-Vivek-2023-08-18/output/SSD7/20230314/SE_Lek1/P3D6/20230314_SE_Lek1_P3D6_DJI_0980DLC_dlcrnetms5_07_TerritoryDetectionP3Aug18shuffle1_50000.h5\n"
     ]
    },
    {
     "name": "stderr",
     "output_type": "stream",
     "text": [
      "100%|███████████████████████████████████████████████████████████████████████████████████| 5815/5815 [00:08<00:00, 673.95it/s]\n",
      "5815it [00:14, 389.88it/s]\n"
     ]
    },
    {
     "name": "stdout",
     "output_type": "stream",
     "text": [
      "The tracklets were created (i.e., under the hood deeplabcut.convert_detections2tracklets was run). Now you can 'refine_tracklets' in the GUI, or run 'deeplabcut.stitch_tracklets'.\n",
      "Processing...  /media/vsridhar/T7/Work/Data/BlackbuckAnnotations/P3/downsampled/SSD7/20230314/SE_Lek1/P3D6/20230314_SE_Lek1_P3D6_DJI_0980.MP4\n"
     ]
    },
    {
     "name": "stderr",
     "output_type": "stream",
     "text": [
      "/home/vsridhar/.local/lib/python3.10/site-packages/deeplabcut/refine_training_dataset/stitch.py:138: FutureWarning: Unlike other reduction functions (e.g. `skew`, `kurtosis`), the default behavior of `mode` typically preserves the axis it acts along. In SciPy 1.11.0, this behavior will change: the default value of `keepdims` will become False, the `axis` over which the statistic is taken will be eliminated, and the value None will no longer be accepted. Set `keepdims` to True or False to avoid this warning.\n",
      "  return mode(self.data[..., 3], axis=None, nan_policy=\"omit\")[0][0]\n",
      "100%|██████████████████████████████████████████████████████████████████████████████████████| 46/46 [00:00<00:00, 9217.81it/s]\n",
      "/home/vsridhar/.local/lib/python3.10/site-packages/deeplabcut/refine_training_dataset/stitch.py:690: UserWarning: No optimal solution found. Employing black magic...\n",
      "  warnings.warn(\"No optimal solution found. Employing black magic...\")\n",
      "/home/vsridhar/.local/lib/python3.10/site-packages/deeplabcut/refine_training_dataset/stitch.py:763: UserWarning: Only 46 tracks could be reconstructed.\n",
      "  warnings.warn(f\"Only {len(self.paths)} tracks could be reconstructed.\")\n"
     ]
    },
    {
     "name": "stdout",
     "output_type": "stream",
     "text": [
      "Starting to analyze %  /media/vsridhar/T7/Work/Data/BlackbuckAnnotations/P3/downsampled/SSD7/20230314/SE_Lek1/P3D6/20230314_SE_Lek1_P3D6_DJI_0969.MP4\n",
      "Loading  /media/vsridhar/T7/Work/Data/BlackbuckAnnotations/P3/downsampled/SSD7/20230314/SE_Lek1/P3D6/20230314_SE_Lek1_P3D6_DJI_0969.MP4\n",
      "Duration of video [s]:  194.03 , recorded with  29.97 fps!\n",
      "Overall # of frames:  5815  found with (before cropping) frame dimensions:  1824 1026\n",
      "Starting to extract posture from the video(s) with batchsize: 8\n"
     ]
    },
    {
     "name": "stderr",
     "output_type": "stream",
     "text": [
      "100%|████████████████████████████████████████████████████████████████████████████████████| 5815/5815 [04:32<00:00, 21.36it/s]\n"
     ]
    },
    {
     "name": "stdout",
     "output_type": "stream",
     "text": [
      "Video Analyzed. Saving results in /home/vsridhar/DATA/DeepLabCut/projects/07_TerritoryDetectionP3-Vivek-2023-08-18/output/SSD7/20230314/SE_Lek1/P3D6...\n",
      "Using snapshot-50000 for model /home/vsridhar/DATA/DeepLabCut/projects/07_TerritoryDetectionP3-Vivek-2023-08-18/dlc-models/iteration-0/07_TerritoryDetectionP3Aug18-trainset90shuffle1\n",
      "Processing...  /media/vsridhar/T7/Work/Data/BlackbuckAnnotations/P3/downsampled/SSD7/20230314/SE_Lek1/P3D6/20230314_SE_Lek1_P3D6_DJI_0969.MP4\n",
      "Analyzing /home/vsridhar/DATA/DeepLabCut/projects/07_TerritoryDetectionP3-Vivek-2023-08-18/output/SSD7/20230314/SE_Lek1/P3D6/20230314_SE_Lek1_P3D6_DJI_0969DLC_dlcrnetms5_07_TerritoryDetectionP3Aug18shuffle1_50000.h5\n"
     ]
    },
    {
     "name": "stderr",
     "output_type": "stream",
     "text": [
      "100%|███████████████████████████████████████████████████████████████████████████████████| 5815/5815 [00:08<00:00, 696.45it/s]\n",
      "5815it [00:14, 393.19it/s]\n"
     ]
    },
    {
     "name": "stdout",
     "output_type": "stream",
     "text": [
      "The tracklets were created (i.e., under the hood deeplabcut.convert_detections2tracklets was run). Now you can 'refine_tracklets' in the GUI, or run 'deeplabcut.stitch_tracklets'.\n",
      "Processing...  /media/vsridhar/T7/Work/Data/BlackbuckAnnotations/P3/downsampled/SSD7/20230314/SE_Lek1/P3D6/20230314_SE_Lek1_P3D6_DJI_0969.MP4\n"
     ]
    },
    {
     "name": "stderr",
     "output_type": "stream",
     "text": [
      "/home/vsridhar/.local/lib/python3.10/site-packages/deeplabcut/refine_training_dataset/stitch.py:138: FutureWarning: Unlike other reduction functions (e.g. `skew`, `kurtosis`), the default behavior of `mode` typically preserves the axis it acts along. In SciPy 1.11.0, this behavior will change: the default value of `keepdims` will become False, the `axis` over which the statistic is taken will be eliminated, and the value None will no longer be accepted. Set `keepdims` to True or False to avoid this warning.\n",
      "  return mode(self.data[..., 3], axis=None, nan_policy=\"omit\")[0][0]\n",
      "100%|██████████████████████████████████████████████████████████████████████████████████████| 46/46 [00:00<00:00, 8251.21it/s]\n",
      "/home/vsridhar/.local/lib/python3.10/site-packages/deeplabcut/refine_training_dataset/stitch.py:690: UserWarning: No optimal solution found. Employing black magic...\n",
      "  warnings.warn(\"No optimal solution found. Employing black magic...\")\n",
      "/home/vsridhar/.local/lib/python3.10/site-packages/deeplabcut/refine_training_dataset/stitch.py:763: UserWarning: Only 46 tracks could be reconstructed.\n",
      "  warnings.warn(f\"Only {len(self.paths)} tracks could be reconstructed.\")\n"
     ]
    },
    {
     "name": "stdout",
     "output_type": "stream",
     "text": [
      "Starting to analyze %  /media/vsridhar/T7/Work/Data/BlackbuckAnnotations/P3/downsampled/SSD7/20230314/SE_Lek1/P3D6/20230314_SE_Lek1_P3D6_DJI_0981.MP4\n",
      "Loading  /media/vsridhar/T7/Work/Data/BlackbuckAnnotations/P3/downsampled/SSD7/20230314/SE_Lek1/P3D6/20230314_SE_Lek1_P3D6_DJI_0981.MP4\n",
      "Duration of video [s]:  193.93 , recorded with  29.97 fps!\n",
      "Overall # of frames:  5812  found with (before cropping) frame dimensions:  1824 1026\n",
      "Starting to extract posture from the video(s) with batchsize: 8\n"
     ]
    },
    {
     "name": "stderr",
     "output_type": "stream",
     "text": [
      "100%|████████████████████████████████████████████████████████████████████████████████████| 5812/5812 [04:36<00:00, 21.05it/s]\n"
     ]
    },
    {
     "name": "stdout",
     "output_type": "stream",
     "text": [
      "Video Analyzed. Saving results in /home/vsridhar/DATA/DeepLabCut/projects/07_TerritoryDetectionP3-Vivek-2023-08-18/output/SSD7/20230314/SE_Lek1/P3D6...\n",
      "Using snapshot-50000 for model /home/vsridhar/DATA/DeepLabCut/projects/07_TerritoryDetectionP3-Vivek-2023-08-18/dlc-models/iteration-0/07_TerritoryDetectionP3Aug18-trainset90shuffle1\n",
      "Processing...  /media/vsridhar/T7/Work/Data/BlackbuckAnnotations/P3/downsampled/SSD7/20230314/SE_Lek1/P3D6/20230314_SE_Lek1_P3D6_DJI_0981.MP4\n",
      "Analyzing /home/vsridhar/DATA/DeepLabCut/projects/07_TerritoryDetectionP3-Vivek-2023-08-18/output/SSD7/20230314/SE_Lek1/P3D6/20230314_SE_Lek1_P3D6_DJI_0981DLC_dlcrnetms5_07_TerritoryDetectionP3Aug18shuffle1_50000.h5\n"
     ]
    },
    {
     "name": "stderr",
     "output_type": "stream",
     "text": [
      "100%|███████████████████████████████████████████████████████████████████████████████████| 5812/5812 [00:09<00:00, 623.22it/s]\n",
      "5812it [00:15, 376.28it/s]\n"
     ]
    },
    {
     "name": "stdout",
     "output_type": "stream",
     "text": [
      "The tracklets were created (i.e., under the hood deeplabcut.convert_detections2tracklets was run). Now you can 'refine_tracklets' in the GUI, or run 'deeplabcut.stitch_tracklets'.\n",
      "Processing...  /media/vsridhar/T7/Work/Data/BlackbuckAnnotations/P3/downsampled/SSD7/20230314/SE_Lek1/P3D6/20230314_SE_Lek1_P3D6_DJI_0981.MP4\n"
     ]
    },
    {
     "name": "stderr",
     "output_type": "stream",
     "text": [
      "/home/vsridhar/.local/lib/python3.10/site-packages/deeplabcut/refine_training_dataset/stitch.py:138: FutureWarning: Unlike other reduction functions (e.g. `skew`, `kurtosis`), the default behavior of `mode` typically preserves the axis it acts along. In SciPy 1.11.0, this behavior will change: the default value of `keepdims` will become False, the `axis` over which the statistic is taken will be eliminated, and the value None will no longer be accepted. Set `keepdims` to True or False to avoid this warning.\n",
      "  return mode(self.data[..., 3], axis=None, nan_policy=\"omit\")[0][0]\n",
      "100%|██████████████████████████████████████████████████████████████████████████████████████| 96/96 [00:00<00:00, 4549.70it/s]\n"
     ]
    },
    {
     "name": "stdout",
     "output_type": "stream",
     "text": [
      "Starting to analyze %  /media/vsridhar/T7/Work/Data/BlackbuckAnnotations/P3/downsampled/SSD7/20230314/SE_Lek1/P3D6/20230314_SE_Lek1_P3D6_DJI_0975.MP4\n",
      "Loading  /media/vsridhar/T7/Work/Data/BlackbuckAnnotations/P3/downsampled/SSD7/20230314/SE_Lek1/P3D6/20230314_SE_Lek1_P3D6_DJI_0975.MP4\n",
      "Duration of video [s]:  194.03 , recorded with  29.97 fps!\n",
      "Overall # of frames:  5815  found with (before cropping) frame dimensions:  1824 1026\n",
      "Starting to extract posture from the video(s) with batchsize: 8\n"
     ]
    },
    {
     "name": "stderr",
     "output_type": "stream",
     "text": [
      "100%|████████████████████████████████████████████████████████████████████████████████████| 5815/5815 [04:33<00:00, 21.25it/s]\n"
     ]
    },
    {
     "name": "stdout",
     "output_type": "stream",
     "text": [
      "Video Analyzed. Saving results in /home/vsridhar/DATA/DeepLabCut/projects/07_TerritoryDetectionP3-Vivek-2023-08-18/output/SSD7/20230314/SE_Lek1/P3D6...\n",
      "Using snapshot-50000 for model /home/vsridhar/DATA/DeepLabCut/projects/07_TerritoryDetectionP3-Vivek-2023-08-18/dlc-models/iteration-0/07_TerritoryDetectionP3Aug18-trainset90shuffle1\n",
      "Processing...  /media/vsridhar/T7/Work/Data/BlackbuckAnnotations/P3/downsampled/SSD7/20230314/SE_Lek1/P3D6/20230314_SE_Lek1_P3D6_DJI_0975.MP4\n",
      "Analyzing /home/vsridhar/DATA/DeepLabCut/projects/07_TerritoryDetectionP3-Vivek-2023-08-18/output/SSD7/20230314/SE_Lek1/P3D6/20230314_SE_Lek1_P3D6_DJI_0975DLC_dlcrnetms5_07_TerritoryDetectionP3Aug18shuffle1_50000.h5\n"
     ]
    },
    {
     "name": "stderr",
     "output_type": "stream",
     "text": [
      "100%|███████████████████████████████████████████████████████████████████████████████████| 5815/5815 [00:07<00:00, 753.22it/s]\n",
      "5815it [00:14, 407.67it/s]\n"
     ]
    },
    {
     "name": "stdout",
     "output_type": "stream",
     "text": [
      "The tracklets were created (i.e., under the hood deeplabcut.convert_detections2tracklets was run). Now you can 'refine_tracklets' in the GUI, or run 'deeplabcut.stitch_tracklets'.\n",
      "Processing...  /media/vsridhar/T7/Work/Data/BlackbuckAnnotations/P3/downsampled/SSD7/20230314/SE_Lek1/P3D6/20230314_SE_Lek1_P3D6_DJI_0975.MP4\n"
     ]
    },
    {
     "name": "stderr",
     "output_type": "stream",
     "text": [
      "/home/vsridhar/.local/lib/python3.10/site-packages/deeplabcut/refine_training_dataset/stitch.py:138: FutureWarning: Unlike other reduction functions (e.g. `skew`, `kurtosis`), the default behavior of `mode` typically preserves the axis it acts along. In SciPy 1.11.0, this behavior will change: the default value of `keepdims` will become False, the `axis` over which the statistic is taken will be eliminated, and the value None will no longer be accepted. Set `keepdims` to True or False to avoid this warning.\n",
      "  return mode(self.data[..., 3], axis=None, nan_policy=\"omit\")[0][0]\n",
      "100%|██████████████████████████████████████████████████████████████████████████████████████| 47/47 [00:00<00:00, 7343.08it/s]\n",
      "/home/vsridhar/.local/lib/python3.10/site-packages/deeplabcut/refine_training_dataset/stitch.py:690: UserWarning: No optimal solution found. Employing black magic...\n",
      "  warnings.warn(\"No optimal solution found. Employing black magic...\")\n",
      "/home/vsridhar/.local/lib/python3.10/site-packages/deeplabcut/refine_training_dataset/stitch.py:763: UserWarning: Only 47 tracks could be reconstructed.\n",
      "  warnings.warn(f\"Only {len(self.paths)} tracks could be reconstructed.\")\n"
     ]
    },
    {
     "name": "stdout",
     "output_type": "stream",
     "text": [
      "Starting to analyze %  /media/vsridhar/T7/Work/Data/BlackbuckAnnotations/P3/downsampled/SSD7/20230314/SE_Lek1/P3D6/20230314_SE_Lek1_P3D6_DJI_0972.MP4\n",
      "Loading  /media/vsridhar/T7/Work/Data/BlackbuckAnnotations/P3/downsampled/SSD7/20230314/SE_Lek1/P3D6/20230314_SE_Lek1_P3D6_DJI_0972.MP4\n",
      "Duration of video [s]:  125.16 , recorded with  29.97 fps!\n",
      "Overall # of frames:  3751  found with (before cropping) frame dimensions:  1824 1026\n",
      "Starting to extract posture from the video(s) with batchsize: 8\n"
     ]
    },
    {
     "name": "stderr",
     "output_type": "stream",
     "text": [
      "100%|████████████████████████████████████████████████████████████████████████████████████| 3751/3751 [02:56<00:00, 21.27it/s]\n"
     ]
    },
    {
     "name": "stdout",
     "output_type": "stream",
     "text": [
      "Video Analyzed. Saving results in /home/vsridhar/DATA/DeepLabCut/projects/07_TerritoryDetectionP3-Vivek-2023-08-18/output/SSD7/20230314/SE_Lek1/P3D6...\n",
      "Using snapshot-50000 for model /home/vsridhar/DATA/DeepLabCut/projects/07_TerritoryDetectionP3-Vivek-2023-08-18/dlc-models/iteration-0/07_TerritoryDetectionP3Aug18-trainset90shuffle1\n",
      "Processing...  /media/vsridhar/T7/Work/Data/BlackbuckAnnotations/P3/downsampled/SSD7/20230314/SE_Lek1/P3D6/20230314_SE_Lek1_P3D6_DJI_0972.MP4\n",
      "Analyzing /home/vsridhar/DATA/DeepLabCut/projects/07_TerritoryDetectionP3-Vivek-2023-08-18/output/SSD7/20230314/SE_Lek1/P3D6/20230314_SE_Lek1_P3D6_DJI_0972DLC_dlcrnetms5_07_TerritoryDetectionP3Aug18shuffle1_50000.h5\n"
     ]
    },
    {
     "name": "stderr",
     "output_type": "stream",
     "text": [
      "100%|███████████████████████████████████████████████████████████████████████████████████| 3751/3751 [00:05<00:00, 664.16it/s]\n",
      "3751it [00:10, 356.50it/s]\n"
     ]
    },
    {
     "name": "stdout",
     "output_type": "stream",
     "text": [
      "The tracklets were created (i.e., under the hood deeplabcut.convert_detections2tracklets was run). Now you can 'refine_tracklets' in the GUI, or run 'deeplabcut.stitch_tracklets'.\n",
      "Processing...  /media/vsridhar/T7/Work/Data/BlackbuckAnnotations/P3/downsampled/SSD7/20230314/SE_Lek1/P3D6/20230314_SE_Lek1_P3D6_DJI_0972.MP4\n"
     ]
    },
    {
     "name": "stderr",
     "output_type": "stream",
     "text": [
      "/home/vsridhar/.local/lib/python3.10/site-packages/deeplabcut/refine_training_dataset/stitch.py:138: FutureWarning: Unlike other reduction functions (e.g. `skew`, `kurtosis`), the default behavior of `mode` typically preserves the axis it acts along. In SciPy 1.11.0, this behavior will change: the default value of `keepdims` will become False, the `axis` over which the statistic is taken will be eliminated, and the value None will no longer be accepted. Set `keepdims` to True or False to avoid this warning.\n",
      "  return mode(self.data[..., 3], axis=None, nan_policy=\"omit\")[0][0]\n",
      "100%|██████████████████████████████████████████████████████████████████████████████████████| 35/35 [00:00<00:00, 9912.93it/s]\n",
      "/home/vsridhar/.local/lib/python3.10/site-packages/deeplabcut/refine_training_dataset/stitch.py:690: UserWarning: No optimal solution found. Employing black magic...\n",
      "  warnings.warn(\"No optimal solution found. Employing black magic...\")\n",
      "/home/vsridhar/.local/lib/python3.10/site-packages/deeplabcut/refine_training_dataset/stitch.py:763: UserWarning: Only 35 tracks could be reconstructed.\n",
      "  warnings.warn(f\"Only {len(self.paths)} tracks could be reconstructed.\")\n"
     ]
    },
    {
     "name": "stdout",
     "output_type": "stream",
     "text": [
      "Starting to analyze %  /media/vsridhar/T7/Work/Data/BlackbuckAnnotations/P3/downsampled/SSD7/20230314/SE_Lek1/P3D6/20230314_SE_Lek1_P3D6_DJI_0976.MP4\n",
      "Loading  /media/vsridhar/T7/Work/Data/BlackbuckAnnotations/P3/downsampled/SSD7/20230314/SE_Lek1/P3D6/20230314_SE_Lek1_P3D6_DJI_0976.MP4\n",
      "Duration of video [s]:  193.96 , recorded with  29.97 fps!\n",
      "Overall # of frames:  5813  found with (before cropping) frame dimensions:  1824 1026\n",
      "Starting to extract posture from the video(s) with batchsize: 8\n"
     ]
    },
    {
     "name": "stderr",
     "output_type": "stream",
     "text": [
      "100%|████████████████████████████████████████████████████████████████████████████████████| 5813/5813 [04:33<00:00, 21.29it/s]\n"
     ]
    },
    {
     "name": "stdout",
     "output_type": "stream",
     "text": [
      "Video Analyzed. Saving results in /home/vsridhar/DATA/DeepLabCut/projects/07_TerritoryDetectionP3-Vivek-2023-08-18/output/SSD7/20230314/SE_Lek1/P3D6...\n",
      "Using snapshot-50000 for model /home/vsridhar/DATA/DeepLabCut/projects/07_TerritoryDetectionP3-Vivek-2023-08-18/dlc-models/iteration-0/07_TerritoryDetectionP3Aug18-trainset90shuffle1\n",
      "Processing...  /media/vsridhar/T7/Work/Data/BlackbuckAnnotations/P3/downsampled/SSD7/20230314/SE_Lek1/P3D6/20230314_SE_Lek1_P3D6_DJI_0976.MP4\n",
      "Analyzing /home/vsridhar/DATA/DeepLabCut/projects/07_TerritoryDetectionP3-Vivek-2023-08-18/output/SSD7/20230314/SE_Lek1/P3D6/20230314_SE_Lek1_P3D6_DJI_0976DLC_dlcrnetms5_07_TerritoryDetectionP3Aug18shuffle1_50000.h5\n"
     ]
    },
    {
     "name": "stderr",
     "output_type": "stream",
     "text": [
      "100%|███████████████████████████████████████████████████████████████████████████████████| 5813/5813 [00:08<00:00, 711.59it/s]\n",
      "5813it [00:15, 383.98it/s]\n"
     ]
    },
    {
     "name": "stdout",
     "output_type": "stream",
     "text": [
      "The tracklets were created (i.e., under the hood deeplabcut.convert_detections2tracklets was run). Now you can 'refine_tracklets' in the GUI, or run 'deeplabcut.stitch_tracklets'.\n",
      "Processing...  /media/vsridhar/T7/Work/Data/BlackbuckAnnotations/P3/downsampled/SSD7/20230314/SE_Lek1/P3D6/20230314_SE_Lek1_P3D6_DJI_0976.MP4\n"
     ]
    },
    {
     "name": "stderr",
     "output_type": "stream",
     "text": [
      "/home/vsridhar/.local/lib/python3.10/site-packages/deeplabcut/refine_training_dataset/stitch.py:138: FutureWarning: Unlike other reduction functions (e.g. `skew`, `kurtosis`), the default behavior of `mode` typically preserves the axis it acts along. In SciPy 1.11.0, this behavior will change: the default value of `keepdims` will become False, the `axis` over which the statistic is taken will be eliminated, and the value None will no longer be accepted. Set `keepdims` to True or False to avoid this warning.\n",
      "  return mode(self.data[..., 3], axis=None, nan_policy=\"omit\")[0][0]\n",
      "100%|█████████████████████████████████████████████████████████████████████████████████████| 28/28 [00:00<00:00, 10891.27it/s]\n",
      "/home/vsridhar/.local/lib/python3.10/site-packages/deeplabcut/refine_training_dataset/stitch.py:690: UserWarning: No optimal solution found. Employing black magic...\n",
      "  warnings.warn(\"No optimal solution found. Employing black magic...\")\n",
      "/home/vsridhar/.local/lib/python3.10/site-packages/deeplabcut/refine_training_dataset/stitch.py:763: UserWarning: Only 28 tracks could be reconstructed.\n",
      "  warnings.warn(f\"Only {len(self.paths)} tracks could be reconstructed.\")\n"
     ]
    },
    {
     "name": "stdout",
     "output_type": "stream",
     "text": [
      "Starting to analyze %  /media/vsridhar/T7/Work/Data/BlackbuckAnnotations/P3/downsampled/SSD7/20230314/SE_Lek1/P3D6/20230314_SE_Lek1_P3D6_DJI_0968.MP4\n",
      "Loading  /media/vsridhar/T7/Work/Data/BlackbuckAnnotations/P3/downsampled/SSD7/20230314/SE_Lek1/P3D6/20230314_SE_Lek1_P3D6_DJI_0968.MP4\n",
      "Duration of video [s]:  194.03 , recorded with  29.97 fps!\n",
      "Overall # of frames:  5815  found with (before cropping) frame dimensions:  1824 1026\n",
      "Starting to extract posture from the video(s) with batchsize: 8\n"
     ]
    },
    {
     "name": "stderr",
     "output_type": "stream",
     "text": [
      "100%|████████████████████████████████████████████████████████████████████████████████████| 5815/5815 [04:33<00:00, 21.29it/s]\n"
     ]
    },
    {
     "name": "stdout",
     "output_type": "stream",
     "text": [
      "Video Analyzed. Saving results in /home/vsridhar/DATA/DeepLabCut/projects/07_TerritoryDetectionP3-Vivek-2023-08-18/output/SSD7/20230314/SE_Lek1/P3D6...\n",
      "Using snapshot-50000 for model /home/vsridhar/DATA/DeepLabCut/projects/07_TerritoryDetectionP3-Vivek-2023-08-18/dlc-models/iteration-0/07_TerritoryDetectionP3Aug18-trainset90shuffle1\n",
      "Processing...  /media/vsridhar/T7/Work/Data/BlackbuckAnnotations/P3/downsampled/SSD7/20230314/SE_Lek1/P3D6/20230314_SE_Lek1_P3D6_DJI_0968.MP4\n",
      "Analyzing /home/vsridhar/DATA/DeepLabCut/projects/07_TerritoryDetectionP3-Vivek-2023-08-18/output/SSD7/20230314/SE_Lek1/P3D6/20230314_SE_Lek1_P3D6_DJI_0968DLC_dlcrnetms5_07_TerritoryDetectionP3Aug18shuffle1_50000.h5\n"
     ]
    },
    {
     "name": "stderr",
     "output_type": "stream",
     "text": [
      "100%|███████████████████████████████████████████████████████████████████████████████████| 5815/5815 [00:08<00:00, 707.32it/s]\n",
      "5815it [00:15, 372.91it/s]\n"
     ]
    },
    {
     "name": "stdout",
     "output_type": "stream",
     "text": [
      "The tracklets were created (i.e., under the hood deeplabcut.convert_detections2tracklets was run). Now you can 'refine_tracklets' in the GUI, or run 'deeplabcut.stitch_tracklets'.\n",
      "Processing...  /media/vsridhar/T7/Work/Data/BlackbuckAnnotations/P3/downsampled/SSD7/20230314/SE_Lek1/P3D6/20230314_SE_Lek1_P3D6_DJI_0968.MP4\n"
     ]
    },
    {
     "name": "stderr",
     "output_type": "stream",
     "text": [
      "/home/vsridhar/.local/lib/python3.10/site-packages/deeplabcut/refine_training_dataset/stitch.py:138: FutureWarning: Unlike other reduction functions (e.g. `skew`, `kurtosis`), the default behavior of `mode` typically preserves the axis it acts along. In SciPy 1.11.0, this behavior will change: the default value of `keepdims` will become False, the `axis` over which the statistic is taken will be eliminated, and the value None will no longer be accepted. Set `keepdims` to True or False to avoid this warning.\n",
      "  return mode(self.data[..., 3], axis=None, nan_policy=\"omit\")[0][0]\n",
      "100%|██████████████████████████████████████████████████████████████████████████████████████| 50/50 [00:00<00:00, 7023.52it/s]\n",
      "/home/vsridhar/.local/lib/python3.10/site-packages/deeplabcut/refine_training_dataset/stitch.py:690: UserWarning: No optimal solution found. Employing black magic...\n",
      "  warnings.warn(\"No optimal solution found. Employing black magic...\")\n",
      "/home/vsridhar/.local/lib/python3.10/site-packages/deeplabcut/refine_training_dataset/stitch.py:763: UserWarning: Only 50 tracks could be reconstructed.\n",
      "  warnings.warn(f\"Only {len(self.paths)} tracks could be reconstructed.\")\n"
     ]
    },
    {
     "name": "stdout",
     "output_type": "stream",
     "text": [
      "Starting to analyze %  /media/vsridhar/T7/Work/Data/BlackbuckAnnotations/P3/downsampled/SSD7/20230314/SE_Lek1/P3D6/20230314_SE_Lek1_P3D6_DJI_0967.MP4\n",
      "Loading  /media/vsridhar/T7/Work/Data/BlackbuckAnnotations/P3/downsampled/SSD7/20230314/SE_Lek1/P3D6/20230314_SE_Lek1_P3D6_DJI_0967.MP4\n",
      "Duration of video [s]:  193.59 , recorded with  29.97 fps!\n",
      "Overall # of frames:  5802  found with (before cropping) frame dimensions:  1824 1026\n",
      "Starting to extract posture from the video(s) with batchsize: 8\n"
     ]
    },
    {
     "name": "stderr",
     "output_type": "stream",
     "text": [
      "100%|████████████████████████████████████████████████████████████████████████████████████| 5802/5802 [04:36<00:00, 21.02it/s]\n"
     ]
    },
    {
     "name": "stdout",
     "output_type": "stream",
     "text": [
      "Video Analyzed. Saving results in /home/vsridhar/DATA/DeepLabCut/projects/07_TerritoryDetectionP3-Vivek-2023-08-18/output/SSD7/20230314/SE_Lek1/P3D6...\n",
      "Using snapshot-50000 for model /home/vsridhar/DATA/DeepLabCut/projects/07_TerritoryDetectionP3-Vivek-2023-08-18/dlc-models/iteration-0/07_TerritoryDetectionP3Aug18-trainset90shuffle1\n",
      "Processing...  /media/vsridhar/T7/Work/Data/BlackbuckAnnotations/P3/downsampled/SSD7/20230314/SE_Lek1/P3D6/20230314_SE_Lek1_P3D6_DJI_0967.MP4\n",
      "Analyzing /home/vsridhar/DATA/DeepLabCut/projects/07_TerritoryDetectionP3-Vivek-2023-08-18/output/SSD7/20230314/SE_Lek1/P3D6/20230314_SE_Lek1_P3D6_DJI_0967DLC_dlcrnetms5_07_TerritoryDetectionP3Aug18shuffle1_50000.h5\n"
     ]
    },
    {
     "name": "stderr",
     "output_type": "stream",
     "text": [
      "100%|███████████████████████████████████████████████████████████████████████████████████| 5802/5802 [00:09<00:00, 627.88it/s]\n",
      "5802it [00:17, 336.81it/s]\n"
     ]
    },
    {
     "name": "stdout",
     "output_type": "stream",
     "text": [
      "The tracklets were created (i.e., under the hood deeplabcut.convert_detections2tracklets was run). Now you can 'refine_tracklets' in the GUI, or run 'deeplabcut.stitch_tracklets'.\n",
      "Processing...  /media/vsridhar/T7/Work/Data/BlackbuckAnnotations/P3/downsampled/SSD7/20230314/SE_Lek1/P3D6/20230314_SE_Lek1_P3D6_DJI_0967.MP4\n"
     ]
    },
    {
     "name": "stderr",
     "output_type": "stream",
     "text": [
      "/home/vsridhar/.local/lib/python3.10/site-packages/deeplabcut/refine_training_dataset/stitch.py:138: FutureWarning: Unlike other reduction functions (e.g. `skew`, `kurtosis`), the default behavior of `mode` typically preserves the axis it acts along. In SciPy 1.11.0, this behavior will change: the default value of `keepdims` will become False, the `axis` over which the statistic is taken will be eliminated, and the value None will no longer be accepted. Set `keepdims` to True or False to avoid this warning.\n",
      "  return mode(self.data[..., 3], axis=None, nan_policy=\"omit\")[0][0]\n",
      "100%|████████████████████████████████████████████████████████████████████████████████████| 128/128 [00:00<00:00, 2624.66it/s]\n"
     ]
    },
    {
     "name": "stdout",
     "output_type": "stream",
     "text": [
      "Starting to analyze %  /media/vsridhar/T7/Work/Data/BlackbuckAnnotations/P3/downsampled/SSD7/20230314/SE_Lek1/P3D6/20230314_SE_Lek1_P3D6_DJI_0974.MP4\n",
      "Loading  /media/vsridhar/T7/Work/Data/BlackbuckAnnotations/P3/downsampled/SSD7/20230314/SE_Lek1/P3D6/20230314_SE_Lek1_P3D6_DJI_0974.MP4\n",
      "Duration of video [s]:  194.06 , recorded with  29.97 fps!\n",
      "Overall # of frames:  5816  found with (before cropping) frame dimensions:  1824 1026\n",
      "Starting to extract posture from the video(s) with batchsize: 8\n"
     ]
    },
    {
     "name": "stderr",
     "output_type": "stream",
     "text": [
      "100%|████████████████████████████████████████████████████████████████████████████████████| 5816/5816 [04:32<00:00, 21.37it/s]\n"
     ]
    },
    {
     "name": "stdout",
     "output_type": "stream",
     "text": [
      "Video Analyzed. Saving results in /home/vsridhar/DATA/DeepLabCut/projects/07_TerritoryDetectionP3-Vivek-2023-08-18/output/SSD7/20230314/SE_Lek1/P3D6...\n",
      "Using snapshot-50000 for model /home/vsridhar/DATA/DeepLabCut/projects/07_TerritoryDetectionP3-Vivek-2023-08-18/dlc-models/iteration-0/07_TerritoryDetectionP3Aug18-trainset90shuffle1\n",
      "Processing...  /media/vsridhar/T7/Work/Data/BlackbuckAnnotations/P3/downsampled/SSD7/20230314/SE_Lek1/P3D6/20230314_SE_Lek1_P3D6_DJI_0974.MP4\n",
      "Analyzing /home/vsridhar/DATA/DeepLabCut/projects/07_TerritoryDetectionP3-Vivek-2023-08-18/output/SSD7/20230314/SE_Lek1/P3D6/20230314_SE_Lek1_P3D6_DJI_0974DLC_dlcrnetms5_07_TerritoryDetectionP3Aug18shuffle1_50000.h5\n"
     ]
    },
    {
     "name": "stderr",
     "output_type": "stream",
     "text": [
      "100%|███████████████████████████████████████████████████████████████████████████████████| 5816/5816 [00:07<00:00, 737.99it/s]\n",
      "5816it [00:14, 393.38it/s]\n"
     ]
    },
    {
     "name": "stdout",
     "output_type": "stream",
     "text": [
      "The tracklets were created (i.e., under the hood deeplabcut.convert_detections2tracklets was run). Now you can 'refine_tracklets' in the GUI, or run 'deeplabcut.stitch_tracklets'.\n",
      "Processing...  /media/vsridhar/T7/Work/Data/BlackbuckAnnotations/P3/downsampled/SSD7/20230314/SE_Lek1/P3D6/20230314_SE_Lek1_P3D6_DJI_0974.MP4\n"
     ]
    },
    {
     "name": "stderr",
     "output_type": "stream",
     "text": [
      "/home/vsridhar/.local/lib/python3.10/site-packages/deeplabcut/refine_training_dataset/stitch.py:138: FutureWarning: Unlike other reduction functions (e.g. `skew`, `kurtosis`), the default behavior of `mode` typically preserves the axis it acts along. In SciPy 1.11.0, this behavior will change: the default value of `keepdims` will become False, the `axis` over which the statistic is taken will be eliminated, and the value None will no longer be accepted. Set `keepdims` to True or False to avoid this warning.\n",
      "  return mode(self.data[..., 3], axis=None, nan_policy=\"omit\")[0][0]\n",
      "100%|█████████████████████████████████████████████████████████████████████████████████████| 28/28 [00:00<00:00, 15222.36it/s]\n",
      "/home/vsridhar/.local/lib/python3.10/site-packages/deeplabcut/refine_training_dataset/stitch.py:690: UserWarning: No optimal solution found. Employing black magic...\n",
      "  warnings.warn(\"No optimal solution found. Employing black magic...\")\n",
      "/home/vsridhar/.local/lib/python3.10/site-packages/deeplabcut/refine_training_dataset/stitch.py:763: UserWarning: Only 28 tracks could be reconstructed.\n",
      "  warnings.warn(f\"Only {len(self.paths)} tracks could be reconstructed.\")\n"
     ]
    },
    {
     "name": "stdout",
     "output_type": "stream",
     "text": [
      "Starting to analyze %  /media/vsridhar/T7/Work/Data/BlackbuckAnnotations/P3/downsampled/SSD7/20230314/SE_Lek1/P3D6/20230314_SE_Lek1_P3D6_DJI_0977.MP4\n",
      "Loading  /media/vsridhar/T7/Work/Data/BlackbuckAnnotations/P3/downsampled/SSD7/20230314/SE_Lek1/P3D6/20230314_SE_Lek1_P3D6_DJI_0977.MP4\n",
      "Duration of video [s]:  193.96 , recorded with  29.97 fps!\n",
      "Overall # of frames:  5813  found with (before cropping) frame dimensions:  1824 1026\n",
      "Starting to extract posture from the video(s) with batchsize: 8\n"
     ]
    },
    {
     "name": "stderr",
     "output_type": "stream",
     "text": [
      "100%|████████████████████████████████████████████████████████████████████████████████████| 5813/5813 [04:31<00:00, 21.37it/s]\n"
     ]
    },
    {
     "name": "stdout",
     "output_type": "stream",
     "text": [
      "Video Analyzed. Saving results in /home/vsridhar/DATA/DeepLabCut/projects/07_TerritoryDetectionP3-Vivek-2023-08-18/output/SSD7/20230314/SE_Lek1/P3D6...\n",
      "Using snapshot-50000 for model /home/vsridhar/DATA/DeepLabCut/projects/07_TerritoryDetectionP3-Vivek-2023-08-18/dlc-models/iteration-0/07_TerritoryDetectionP3Aug18-trainset90shuffle1\n",
      "Processing...  /media/vsridhar/T7/Work/Data/BlackbuckAnnotations/P3/downsampled/SSD7/20230314/SE_Lek1/P3D6/20230314_SE_Lek1_P3D6_DJI_0977.MP4\n",
      "Analyzing /home/vsridhar/DATA/DeepLabCut/projects/07_TerritoryDetectionP3-Vivek-2023-08-18/output/SSD7/20230314/SE_Lek1/P3D6/20230314_SE_Lek1_P3D6_DJI_0977DLC_dlcrnetms5_07_TerritoryDetectionP3Aug18shuffle1_50000.h5\n"
     ]
    },
    {
     "name": "stderr",
     "output_type": "stream",
     "text": [
      "100%|███████████████████████████████████████████████████████████████████████████████████| 5813/5813 [00:08<00:00, 700.73it/s]\n",
      "5813it [00:15, 379.52it/s]\n"
     ]
    },
    {
     "name": "stdout",
     "output_type": "stream",
     "text": [
      "The tracklets were created (i.e., under the hood deeplabcut.convert_detections2tracklets was run). Now you can 'refine_tracklets' in the GUI, or run 'deeplabcut.stitch_tracklets'.\n",
      "Processing...  /media/vsridhar/T7/Work/Data/BlackbuckAnnotations/P3/downsampled/SSD7/20230314/SE_Lek1/P3D6/20230314_SE_Lek1_P3D6_DJI_0977.MP4\n"
     ]
    },
    {
     "name": "stderr",
     "output_type": "stream",
     "text": [
      "/home/vsridhar/.local/lib/python3.10/site-packages/deeplabcut/refine_training_dataset/stitch.py:138: FutureWarning: Unlike other reduction functions (e.g. `skew`, `kurtosis`), the default behavior of `mode` typically preserves the axis it acts along. In SciPy 1.11.0, this behavior will change: the default value of `keepdims` will become False, the `axis` over which the statistic is taken will be eliminated, and the value None will no longer be accepted. Set `keepdims` to True or False to avoid this warning.\n",
      "  return mode(self.data[..., 3], axis=None, nan_policy=\"omit\")[0][0]\n",
      "100%|████████████████████████████████████████████████████████████████████████████████████| 25/25 [00:00<00:00, 225016.31it/s]\n",
      "/home/vsridhar/.local/lib/python3.10/site-packages/deeplabcut/refine_training_dataset/stitch.py:690: UserWarning: No optimal solution found. Employing black magic...\n",
      "  warnings.warn(\"No optimal solution found. Employing black magic...\")\n",
      "/home/vsridhar/.local/lib/python3.10/site-packages/deeplabcut/refine_training_dataset/stitch.py:763: UserWarning: Only 25 tracks could be reconstructed.\n",
      "  warnings.warn(f\"Only {len(self.paths)} tracks could be reconstructed.\")\n"
     ]
    },
    {
     "name": "stdout",
     "output_type": "stream",
     "text": [
      "Starting to analyze %  /media/vsridhar/T7/Work/Data/BlackbuckAnnotations/P3/downsampled/SSD7/20230314/SE_Lek1/P3D6/20230314_SE_Lek1_P3D6_DJI_0979.MP4\n",
      "Loading  /media/vsridhar/T7/Work/Data/BlackbuckAnnotations/P3/downsampled/SSD7/20230314/SE_Lek1/P3D6/20230314_SE_Lek1_P3D6_DJI_0979.MP4\n",
      "Duration of video [s]:  193.69 , recorded with  29.97 fps!\n",
      "Overall # of frames:  5805  found with (before cropping) frame dimensions:  1824 1026\n",
      "Starting to extract posture from the video(s) with batchsize: 8\n"
     ]
    },
    {
     "name": "stderr",
     "output_type": "stream",
     "text": [
      "100%|████████████████████████████████████████████████████████████████████████████████████| 5805/5805 [04:36<00:00, 21.02it/s]\n"
     ]
    },
    {
     "name": "stdout",
     "output_type": "stream",
     "text": [
      "Video Analyzed. Saving results in /home/vsridhar/DATA/DeepLabCut/projects/07_TerritoryDetectionP3-Vivek-2023-08-18/output/SSD7/20230314/SE_Lek1/P3D6...\n",
      "Using snapshot-50000 for model /home/vsridhar/DATA/DeepLabCut/projects/07_TerritoryDetectionP3-Vivek-2023-08-18/dlc-models/iteration-0/07_TerritoryDetectionP3Aug18-trainset90shuffle1\n",
      "Processing...  /media/vsridhar/T7/Work/Data/BlackbuckAnnotations/P3/downsampled/SSD7/20230314/SE_Lek1/P3D6/20230314_SE_Lek1_P3D6_DJI_0979.MP4\n",
      "Analyzing /home/vsridhar/DATA/DeepLabCut/projects/07_TerritoryDetectionP3-Vivek-2023-08-18/output/SSD7/20230314/SE_Lek1/P3D6/20230314_SE_Lek1_P3D6_DJI_0979DLC_dlcrnetms5_07_TerritoryDetectionP3Aug18shuffle1_50000.h5\n"
     ]
    },
    {
     "name": "stderr",
     "output_type": "stream",
     "text": [
      "100%|███████████████████████████████████████████████████████████████████████████████████| 5805/5805 [00:09<00:00, 619.84it/s]\n",
      "5805it [00:16, 354.65it/s]\n"
     ]
    },
    {
     "name": "stdout",
     "output_type": "stream",
     "text": [
      "The tracklets were created (i.e., under the hood deeplabcut.convert_detections2tracklets was run). Now you can 'refine_tracklets' in the GUI, or run 'deeplabcut.stitch_tracklets'.\n",
      "Processing...  /media/vsridhar/T7/Work/Data/BlackbuckAnnotations/P3/downsampled/SSD7/20230314/SE_Lek1/P3D6/20230314_SE_Lek1_P3D6_DJI_0979.MP4\n"
     ]
    },
    {
     "name": "stderr",
     "output_type": "stream",
     "text": [
      "/home/vsridhar/.local/lib/python3.10/site-packages/deeplabcut/refine_training_dataset/stitch.py:138: FutureWarning: Unlike other reduction functions (e.g. `skew`, `kurtosis`), the default behavior of `mode` typically preserves the axis it acts along. In SciPy 1.11.0, this behavior will change: the default value of `keepdims` will become False, the `axis` over which the statistic is taken will be eliminated, and the value None will no longer be accepted. Set `keepdims` to True or False to avoid this warning.\n",
      "  return mode(self.data[..., 3], axis=None, nan_policy=\"omit\")[0][0]\n",
      "100%|██████████████████████████████████████████████████████████████████████████████████████| 94/94 [00:00<00:00, 2521.42it/s]\n"
     ]
    },
    {
     "name": "stdout",
     "output_type": "stream",
     "text": [
      "Starting to analyze %  /media/vsridhar/T7/Work/Data/BlackbuckAnnotations/P3/downsampled/SSD7/20230314/SE_Lek1/P3D6/20230314_SE_Lek1_P3D6_DJI_0971.MP4\n",
      "Loading  /media/vsridhar/T7/Work/Data/BlackbuckAnnotations/P3/downsampled/SSD7/20230314/SE_Lek1/P3D6/20230314_SE_Lek1_P3D6_DJI_0971.MP4\n",
      "Duration of video [s]:  193.99 , recorded with  29.97 fps!\n",
      "Overall # of frames:  5814  found with (before cropping) frame dimensions:  1824 1026\n",
      "Starting to extract posture from the video(s) with batchsize: 8\n"
     ]
    },
    {
     "name": "stderr",
     "output_type": "stream",
     "text": [
      "100%|████████████████████████████████████████████████████████████████████████████████████| 5814/5814 [04:33<00:00, 21.28it/s]\n"
     ]
    },
    {
     "name": "stdout",
     "output_type": "stream",
     "text": [
      "Video Analyzed. Saving results in /home/vsridhar/DATA/DeepLabCut/projects/07_TerritoryDetectionP3-Vivek-2023-08-18/output/SSD7/20230314/SE_Lek1/P3D6...\n",
      "Using snapshot-50000 for model /home/vsridhar/DATA/DeepLabCut/projects/07_TerritoryDetectionP3-Vivek-2023-08-18/dlc-models/iteration-0/07_TerritoryDetectionP3Aug18-trainset90shuffle1\n",
      "Processing...  /media/vsridhar/T7/Work/Data/BlackbuckAnnotations/P3/downsampled/SSD7/20230314/SE_Lek1/P3D6/20230314_SE_Lek1_P3D6_DJI_0971.MP4\n",
      "Analyzing /home/vsridhar/DATA/DeepLabCut/projects/07_TerritoryDetectionP3-Vivek-2023-08-18/output/SSD7/20230314/SE_Lek1/P3D6/20230314_SE_Lek1_P3D6_DJI_0971DLC_dlcrnetms5_07_TerritoryDetectionP3Aug18shuffle1_50000.h5\n"
     ]
    },
    {
     "name": "stderr",
     "output_type": "stream",
     "text": [
      "100%|███████████████████████████████████████████████████████████████████████████████████| 5814/5814 [00:08<00:00, 652.80it/s]\n",
      "5814it [00:15, 363.45it/s]\n"
     ]
    },
    {
     "name": "stdout",
     "output_type": "stream",
     "text": [
      "The tracklets were created (i.e., under the hood deeplabcut.convert_detections2tracklets was run). Now you can 'refine_tracklets' in the GUI, or run 'deeplabcut.stitch_tracklets'.\n",
      "Processing...  /media/vsridhar/T7/Work/Data/BlackbuckAnnotations/P3/downsampled/SSD7/20230314/SE_Lek1/P3D6/20230314_SE_Lek1_P3D6_DJI_0971.MP4\n"
     ]
    },
    {
     "name": "stderr",
     "output_type": "stream",
     "text": [
      "/home/vsridhar/.local/lib/python3.10/site-packages/deeplabcut/refine_training_dataset/stitch.py:138: FutureWarning: Unlike other reduction functions (e.g. `skew`, `kurtosis`), the default behavior of `mode` typically preserves the axis it acts along. In SciPy 1.11.0, this behavior will change: the default value of `keepdims` will become False, the `axis` over which the statistic is taken will be eliminated, and the value None will no longer be accepted. Set `keepdims` to True or False to avoid this warning.\n",
      "  return mode(self.data[..., 3], axis=None, nan_policy=\"omit\")[0][0]\n",
      "100%|██████████████████████████████████████████████████████████████████████████████████████| 32/32 [00:00<00:00, 7802.90it/s]\n",
      "/home/vsridhar/.local/lib/python3.10/site-packages/deeplabcut/refine_training_dataset/stitch.py:690: UserWarning: No optimal solution found. Employing black magic...\n",
      "  warnings.warn(\"No optimal solution found. Employing black magic...\")\n",
      "/home/vsridhar/.local/lib/python3.10/site-packages/deeplabcut/refine_training_dataset/stitch.py:763: UserWarning: Only 32 tracks could be reconstructed.\n",
      "  warnings.warn(f\"Only {len(self.paths)} tracks could be reconstructed.\")\n"
     ]
    },
    {
     "name": "stdout",
     "output_type": "stream",
     "text": [
      "Starting to analyze %  /media/vsridhar/T7/Work/Data/BlackbuckAnnotations/P3/downsampled/SSD7/20230314/SE_Lek1/P3D6/20230314_SE_Lek1_P3D6_DJI_0973.MP4\n",
      "Loading  /media/vsridhar/T7/Work/Data/BlackbuckAnnotations/P3/downsampled/SSD7/20230314/SE_Lek1/P3D6/20230314_SE_Lek1_P3D6_DJI_0973.MP4\n",
      "Duration of video [s]:  193.56 , recorded with  29.97 fps!\n",
      "Overall # of frames:  5801  found with (before cropping) frame dimensions:  1824 1026\n",
      "Starting to extract posture from the video(s) with batchsize: 8\n"
     ]
    },
    {
     "name": "stderr",
     "output_type": "stream",
     "text": [
      "100%|████████████████████████████████████████████████████████████████████████████████████| 5801/5801 [04:36<00:00, 20.97it/s]\n"
     ]
    },
    {
     "name": "stdout",
     "output_type": "stream",
     "text": [
      "Video Analyzed. Saving results in /home/vsridhar/DATA/DeepLabCut/projects/07_TerritoryDetectionP3-Vivek-2023-08-18/output/SSD7/20230314/SE_Lek1/P3D6...\n",
      "Using snapshot-50000 for model /home/vsridhar/DATA/DeepLabCut/projects/07_TerritoryDetectionP3-Vivek-2023-08-18/dlc-models/iteration-0/07_TerritoryDetectionP3Aug18-trainset90shuffle1\n",
      "Processing...  /media/vsridhar/T7/Work/Data/BlackbuckAnnotations/P3/downsampled/SSD7/20230314/SE_Lek1/P3D6/20230314_SE_Lek1_P3D6_DJI_0973.MP4\n",
      "Analyzing /home/vsridhar/DATA/DeepLabCut/projects/07_TerritoryDetectionP3-Vivek-2023-08-18/output/SSD7/20230314/SE_Lek1/P3D6/20230314_SE_Lek1_P3D6_DJI_0973DLC_dlcrnetms5_07_TerritoryDetectionP3Aug18shuffle1_50000.h5\n"
     ]
    },
    {
     "name": "stderr",
     "output_type": "stream",
     "text": [
      "100%|███████████████████████████████████████████████████████████████████████████████████| 5801/5801 [00:09<00:00, 603.63it/s]\n",
      "5801it [00:17, 338.53it/s]\n"
     ]
    },
    {
     "name": "stdout",
     "output_type": "stream",
     "text": [
      "The tracklets were created (i.e., under the hood deeplabcut.convert_detections2tracklets was run). Now you can 'refine_tracklets' in the GUI, or run 'deeplabcut.stitch_tracklets'.\n",
      "Processing...  /media/vsridhar/T7/Work/Data/BlackbuckAnnotations/P3/downsampled/SSD7/20230314/SE_Lek1/P3D6/20230314_SE_Lek1_P3D6_DJI_0973.MP4\n"
     ]
    },
    {
     "name": "stderr",
     "output_type": "stream",
     "text": [
      "/home/vsridhar/.local/lib/python3.10/site-packages/deeplabcut/refine_training_dataset/stitch.py:138: FutureWarning: Unlike other reduction functions (e.g. `skew`, `kurtosis`), the default behavior of `mode` typically preserves the axis it acts along. In SciPy 1.11.0, this behavior will change: the default value of `keepdims` will become False, the `axis` over which the statistic is taken will be eliminated, and the value None will no longer be accepted. Set `keepdims` to True or False to avoid this warning.\n",
      "  return mode(self.data[..., 3], axis=None, nan_policy=\"omit\")[0][0]\n",
      "100%|██████████████████████████████████████████████████████████████████████████████████████| 97/97 [00:00<00:00, 3719.00it/s]\n"
     ]
    },
    {
     "name": "stdout",
     "output_type": "stream",
     "text": [
      "Starting to analyze %  /media/vsridhar/T7/Work/Data/BlackbuckAnnotations/P3/downsampled/SSD7/20230314/SE_Lek1/P3D6/20230314_SE_Lek1_P3D6_DJI_0982.MP4\n",
      "Loading  /media/vsridhar/T7/Work/Data/BlackbuckAnnotations/P3/downsampled/SSD7/20230314/SE_Lek1/P3D6/20230314_SE_Lek1_P3D6_DJI_0982.MP4\n",
      "Duration of video [s]:  138.67 , recorded with  29.97 fps!\n",
      "Overall # of frames:  4156  found with (before cropping) frame dimensions:  1824 1026\n",
      "Starting to extract posture from the video(s) with batchsize: 8\n"
     ]
    },
    {
     "name": "stderr",
     "output_type": "stream",
     "text": [
      "100%|████████████████████████████████████████████████████████████████████████████████████| 4156/4156 [03:17<00:00, 21.02it/s]\n"
     ]
    },
    {
     "name": "stdout",
     "output_type": "stream",
     "text": [
      "Video Analyzed. Saving results in /home/vsridhar/DATA/DeepLabCut/projects/07_TerritoryDetectionP3-Vivek-2023-08-18/output/SSD7/20230314/SE_Lek1/P3D6...\n",
      "Using snapshot-50000 for model /home/vsridhar/DATA/DeepLabCut/projects/07_TerritoryDetectionP3-Vivek-2023-08-18/dlc-models/iteration-0/07_TerritoryDetectionP3Aug18-trainset90shuffle1\n",
      "Processing...  /media/vsridhar/T7/Work/Data/BlackbuckAnnotations/P3/downsampled/SSD7/20230314/SE_Lek1/P3D6/20230314_SE_Lek1_P3D6_DJI_0982.MP4\n",
      "Analyzing /home/vsridhar/DATA/DeepLabCut/projects/07_TerritoryDetectionP3-Vivek-2023-08-18/output/SSD7/20230314/SE_Lek1/P3D6/20230314_SE_Lek1_P3D6_DJI_0982DLC_dlcrnetms5_07_TerritoryDetectionP3Aug18shuffle1_50000.h5\n"
     ]
    },
    {
     "name": "stderr",
     "output_type": "stream",
     "text": [
      "100%|███████████████████████████████████████████████████████████████████████████████████| 4156/4156 [00:05<00:00, 735.14it/s]\n",
      "4156it [00:10, 381.28it/s]\n"
     ]
    },
    {
     "name": "stdout",
     "output_type": "stream",
     "text": [
      "The tracklets were created (i.e., under the hood deeplabcut.convert_detections2tracklets was run). Now you can 'refine_tracklets' in the GUI, or run 'deeplabcut.stitch_tracklets'.\n",
      "Processing...  /media/vsridhar/T7/Work/Data/BlackbuckAnnotations/P3/downsampled/SSD7/20230314/SE_Lek1/P3D6/20230314_SE_Lek1_P3D6_DJI_0982.MP4\n"
     ]
    },
    {
     "name": "stderr",
     "output_type": "stream",
     "text": [
      "/home/vsridhar/.local/lib/python3.10/site-packages/deeplabcut/refine_training_dataset/stitch.py:138: FutureWarning: Unlike other reduction functions (e.g. `skew`, `kurtosis`), the default behavior of `mode` typically preserves the axis it acts along. In SciPy 1.11.0, this behavior will change: the default value of `keepdims` will become False, the `axis` over which the statistic is taken will be eliminated, and the value None will no longer be accepted. Set `keepdims` to True or False to avoid this warning.\n",
      "  return mode(self.data[..., 3], axis=None, nan_policy=\"omit\")[0][0]\n",
      "100%|██████████████████████████████████████████████████████████████████████████████████████| 83/83 [00:00<00:00, 2845.90it/s]\n"
     ]
    },
    {
     "name": "stdout",
     "output_type": "stream",
     "text": [
      "Starting to analyze %  /media/vsridhar/T7/Work/Data/BlackbuckAnnotations/P3/downsampled/SSD7/20230314/SE_Lek1/P3D6/20230314_SE_Lek1_P3D6_DJI_0970.MP4\n",
      "Loading  /media/vsridhar/T7/Work/Data/BlackbuckAnnotations/P3/downsampled/SSD7/20230314/SE_Lek1/P3D6/20230314_SE_Lek1_P3D6_DJI_0970.MP4\n",
      "Duration of video [s]:  193.99 , recorded with  29.97 fps!\n",
      "Overall # of frames:  5814  found with (before cropping) frame dimensions:  1824 1026\n",
      "Starting to extract posture from the video(s) with batchsize: 8\n"
     ]
    },
    {
     "name": "stderr",
     "output_type": "stream",
     "text": [
      "100%|████████████████████████████████████████████████████████████████████████████████████| 5814/5814 [04:33<00:00, 21.28it/s]\n"
     ]
    },
    {
     "name": "stdout",
     "output_type": "stream",
     "text": [
      "Video Analyzed. Saving results in /home/vsridhar/DATA/DeepLabCut/projects/07_TerritoryDetectionP3-Vivek-2023-08-18/output/SSD7/20230314/SE_Lek1/P3D6...\n",
      "Using snapshot-50000 for model /home/vsridhar/DATA/DeepLabCut/projects/07_TerritoryDetectionP3-Vivek-2023-08-18/dlc-models/iteration-0/07_TerritoryDetectionP3Aug18-trainset90shuffle1\n",
      "Processing...  /media/vsridhar/T7/Work/Data/BlackbuckAnnotations/P3/downsampled/SSD7/20230314/SE_Lek1/P3D6/20230314_SE_Lek1_P3D6_DJI_0970.MP4\n",
      "Analyzing /home/vsridhar/DATA/DeepLabCut/projects/07_TerritoryDetectionP3-Vivek-2023-08-18/output/SSD7/20230314/SE_Lek1/P3D6/20230314_SE_Lek1_P3D6_DJI_0970DLC_dlcrnetms5_07_TerritoryDetectionP3Aug18shuffle1_50000.h5\n"
     ]
    },
    {
     "name": "stderr",
     "output_type": "stream",
     "text": [
      "100%|███████████████████████████████████████████████████████████████████████████████████| 5814/5814 [00:08<00:00, 693.63it/s]\n",
      "5814it [00:15, 386.04it/s]\n"
     ]
    },
    {
     "name": "stdout",
     "output_type": "stream",
     "text": [
      "The tracklets were created (i.e., under the hood deeplabcut.convert_detections2tracklets was run). Now you can 'refine_tracklets' in the GUI, or run 'deeplabcut.stitch_tracklets'.\n",
      "Processing...  /media/vsridhar/T7/Work/Data/BlackbuckAnnotations/P3/downsampled/SSD7/20230314/SE_Lek1/P3D6/20230314_SE_Lek1_P3D6_DJI_0970.MP4\n"
     ]
    },
    {
     "name": "stderr",
     "output_type": "stream",
     "text": [
      "/home/vsridhar/.local/lib/python3.10/site-packages/deeplabcut/refine_training_dataset/stitch.py:138: FutureWarning: Unlike other reduction functions (e.g. `skew`, `kurtosis`), the default behavior of `mode` typically preserves the axis it acts along. In SciPy 1.11.0, this behavior will change: the default value of `keepdims` will become False, the `axis` over which the statistic is taken will be eliminated, and the value None will no longer be accepted. Set `keepdims` to True or False to avoid this warning.\n",
      "  return mode(self.data[..., 3], axis=None, nan_policy=\"omit\")[0][0]\n",
      "100%|██████████████████████████████████████████████████████████████████████████████████████| 59/59 [00:00<00:00, 2973.36it/s]\n",
      "/home/vsridhar/.local/lib/python3.10/site-packages/deeplabcut/refine_training_dataset/stitch.py:690: UserWarning: No optimal solution found. Employing black magic...\n",
      "  warnings.warn(\"No optimal solution found. Employing black magic...\")\n",
      "/home/vsridhar/.local/lib/python3.10/site-packages/deeplabcut/refine_training_dataset/stitch.py:763: UserWarning: Only 59 tracks could be reconstructed.\n",
      "  warnings.warn(f\"Only {len(self.paths)} tracks could be reconstructed.\")\n"
     ]
    },
    {
     "name": "stdout",
     "output_type": "stream",
     "text": [
      "Starting to analyze %  /media/vsridhar/T7/Work/Data/BlackbuckAnnotations/P3/downsampled/SSD7/20230314/SE_Lek1/P3D6/20230314_SE_Lek1_P3D6_DJI_0978.MP4\n",
      "Loading  /media/vsridhar/T7/Work/Data/BlackbuckAnnotations/P3/downsampled/SSD7/20230314/SE_Lek1/P3D6/20230314_SE_Lek1_P3D6_DJI_0978.MP4\n",
      "Duration of video [s]:  108.07 , recorded with  29.97 fps!\n",
      "Overall # of frames:  3239  found with (before cropping) frame dimensions:  1824 1026\n",
      "Starting to extract posture from the video(s) with batchsize: 8\n"
     ]
    },
    {
     "name": "stderr",
     "output_type": "stream",
     "text": [
      "100%|████████████████████████████████████████████████████████████████████████████████████| 3239/3239 [02:32<00:00, 21.22it/s]\n"
     ]
    },
    {
     "name": "stdout",
     "output_type": "stream",
     "text": [
      "Video Analyzed. Saving results in /home/vsridhar/DATA/DeepLabCut/projects/07_TerritoryDetectionP3-Vivek-2023-08-18/output/SSD7/20230314/SE_Lek1/P3D6...\n",
      "Using snapshot-50000 for model /home/vsridhar/DATA/DeepLabCut/projects/07_TerritoryDetectionP3-Vivek-2023-08-18/dlc-models/iteration-0/07_TerritoryDetectionP3Aug18-trainset90shuffle1\n",
      "Processing...  /media/vsridhar/T7/Work/Data/BlackbuckAnnotations/P3/downsampled/SSD7/20230314/SE_Lek1/P3D6/20230314_SE_Lek1_P3D6_DJI_0978.MP4\n",
      "Analyzing /home/vsridhar/DATA/DeepLabCut/projects/07_TerritoryDetectionP3-Vivek-2023-08-18/output/SSD7/20230314/SE_Lek1/P3D6/20230314_SE_Lek1_P3D6_DJI_0978DLC_dlcrnetms5_07_TerritoryDetectionP3Aug18shuffle1_50000.h5\n"
     ]
    },
    {
     "name": "stderr",
     "output_type": "stream",
     "text": [
      "100%|███████████████████████████████████████████████████████████████████████████████████| 3239/3239 [00:04<00:00, 701.40it/s]\n",
      "3239it [00:08, 378.28it/s]\n"
     ]
    },
    {
     "name": "stdout",
     "output_type": "stream",
     "text": [
      "The tracklets were created (i.e., under the hood deeplabcut.convert_detections2tracklets was run). Now you can 'refine_tracklets' in the GUI, or run 'deeplabcut.stitch_tracklets'.\n",
      "Processing...  /media/vsridhar/T7/Work/Data/BlackbuckAnnotations/P3/downsampled/SSD7/20230314/SE_Lek1/P3D6/20230314_SE_Lek1_P3D6_DJI_0978.MP4\n"
     ]
    },
    {
     "name": "stderr",
     "output_type": "stream",
     "text": [
      "/home/vsridhar/.local/lib/python3.10/site-packages/deeplabcut/refine_training_dataset/stitch.py:138: FutureWarning: Unlike other reduction functions (e.g. `skew`, `kurtosis`), the default behavior of `mode` typically preserves the axis it acts along. In SciPy 1.11.0, this behavior will change: the default value of `keepdims` will become False, the `axis` over which the statistic is taken will be eliminated, and the value None will no longer be accepted. Set `keepdims` to True or False to avoid this warning.\n",
      "  return mode(self.data[..., 3], axis=None, nan_policy=\"omit\")[0][0]\n",
      "100%|█████████████████████████████████████████████████████████████████████████████████████| 160/160 [00:00<00:00, 694.01it/s]\n"
     ]
    },
    {
     "name": "stdout",
     "output_type": "stream",
     "text": [
      "The videos are analyzed. Time to assemble animals and track 'em... \n",
      " Call 'create_video_with_all_detections' to check multi-animal detection quality before tracking.\n",
      "If the tracking is not satisfactory for some videos, consider expanding the training set. You can use the function 'extract_outlier_frames' to extract a few representative outlier frames.\n",
      "Using snapshot-50000 for model /home/vsridhar/DATA/DeepLabCut/projects/07_TerritoryDetectionP3-Vivek-2023-08-18/dlc-models/iteration-0/07_TerritoryDetectionP3Aug18-trainset90shuffle1\n"
     ]
    },
    {
     "name": "stderr",
     "output_type": "stream",
     "text": [
      "/home/vsridhar/.local/lib/python3.10/site-packages/tensorflow/python/keras/engine/base_layer_v1.py:1694: UserWarning: `layer.apply` is deprecated and will be removed in a future version. Please use `layer.__call__` method instead.\n",
      "  warnings.warn('`layer.apply` is deprecated and '\n",
      "/home/vsridhar/.local/lib/python3.10/site-packages/tf_slim/layers/layers.py:684: UserWarning: `layer.apply` is deprecated and will be removed in a future version. Please use `layer.__call__` method instead.\n",
      "  outputs = layer.apply(inputs, training=is_training)\n"
     ]
    },
    {
     "name": "stdout",
     "output_type": "stream",
     "text": [
      "Activating extracting of PAFs\n",
      "Analyzing all the videos in the directory...\n",
      "Starting to analyze %  /media/vsridhar/T7/Work/Data/BlackbuckAnnotations/P3/downsampled/SSD7/20230316/SE_Lek1/P3D5/20230316_SE_Lek1_P3D5_DJI_0663.MP4\n",
      "Loading  /media/vsridhar/T7/Work/Data/BlackbuckAnnotations/P3/downsampled/SSD7/20230316/SE_Lek1/P3D5/20230316_SE_Lek1_P3D5_DJI_0663.MP4\n",
      "Duration of video [s]:  193.99 , recorded with  29.97 fps!\n",
      "Overall # of frames:  5814  found with (before cropping) frame dimensions:  1824 1026\n",
      "Starting to extract posture from the video(s) with batchsize: 8\n"
     ]
    },
    {
     "name": "stderr",
     "output_type": "stream",
     "text": [
      "100%|████████████████████████████████████████████████████████████████████████████████████| 5814/5814 [04:34<00:00, 21.16it/s]\n"
     ]
    },
    {
     "name": "stdout",
     "output_type": "stream",
     "text": [
      "Video Analyzed. Saving results in /home/vsridhar/DATA/DeepLabCut/projects/07_TerritoryDetectionP3-Vivek-2023-08-18/output/SSD7/20230316/SE_Lek1/P3D5...\n",
      "Using snapshot-50000 for model /home/vsridhar/DATA/DeepLabCut/projects/07_TerritoryDetectionP3-Vivek-2023-08-18/dlc-models/iteration-0/07_TerritoryDetectionP3Aug18-trainset90shuffle1\n",
      "Processing...  /media/vsridhar/T7/Work/Data/BlackbuckAnnotations/P3/downsampled/SSD7/20230316/SE_Lek1/P3D5/20230316_SE_Lek1_P3D5_DJI_0663.MP4\n",
      "Analyzing /home/vsridhar/DATA/DeepLabCut/projects/07_TerritoryDetectionP3-Vivek-2023-08-18/output/SSD7/20230316/SE_Lek1/P3D5/20230316_SE_Lek1_P3D5_DJI_0663DLC_dlcrnetms5_07_TerritoryDetectionP3Aug18shuffle1_50000.h5\n"
     ]
    },
    {
     "name": "stderr",
     "output_type": "stream",
     "text": [
      "100%|███████████████████████████████████████████████████████████████████████████████████| 5814/5814 [00:08<00:00, 702.61it/s]\n",
      "5814it [00:15, 377.10it/s]\n"
     ]
    },
    {
     "name": "stdout",
     "output_type": "stream",
     "text": [
      "The tracklets were created (i.e., under the hood deeplabcut.convert_detections2tracklets was run). Now you can 'refine_tracklets' in the GUI, or run 'deeplabcut.stitch_tracklets'.\n",
      "Processing...  /media/vsridhar/T7/Work/Data/BlackbuckAnnotations/P3/downsampled/SSD7/20230316/SE_Lek1/P3D5/20230316_SE_Lek1_P3D5_DJI_0663.MP4\n"
     ]
    },
    {
     "name": "stderr",
     "output_type": "stream",
     "text": [
      "/home/vsridhar/.local/lib/python3.10/site-packages/deeplabcut/refine_training_dataset/stitch.py:138: FutureWarning: Unlike other reduction functions (e.g. `skew`, `kurtosis`), the default behavior of `mode` typically preserves the axis it acts along. In SciPy 1.11.0, this behavior will change: the default value of `keepdims` will become False, the `axis` over which the statistic is taken will be eliminated, and the value None will no longer be accepted. Set `keepdims` to True or False to avoid this warning.\n",
      "  return mode(self.data[..., 3], axis=None, nan_policy=\"omit\")[0][0]\n",
      "100%|█████████████████████████████████████████████████████████████████████████████████████| 32/32 [00:00<00:00, 11895.57it/s]\n",
      "/home/vsridhar/.local/lib/python3.10/site-packages/deeplabcut/refine_training_dataset/stitch.py:690: UserWarning: No optimal solution found. Employing black magic...\n",
      "  warnings.warn(\"No optimal solution found. Employing black magic...\")\n",
      "/home/vsridhar/.local/lib/python3.10/site-packages/deeplabcut/refine_training_dataset/stitch.py:763: UserWarning: Only 32 tracks could be reconstructed.\n",
      "  warnings.warn(f\"Only {len(self.paths)} tracks could be reconstructed.\")\n"
     ]
    },
    {
     "name": "stdout",
     "output_type": "stream",
     "text": [
      "Starting to analyze %  /media/vsridhar/T7/Work/Data/BlackbuckAnnotations/P3/downsampled/SSD7/20230316/SE_Lek1/P3D5/20230316_SE_Lek1_P3D5_DJI_0661.MP4\n",
      "Loading  /media/vsridhar/T7/Work/Data/BlackbuckAnnotations/P3/downsampled/SSD7/20230316/SE_Lek1/P3D5/20230316_SE_Lek1_P3D5_DJI_0661.MP4\n",
      "Duration of video [s]:  194.03 , recorded with  29.97 fps!\n",
      "Overall # of frames:  5815  found with (before cropping) frame dimensions:  1824 1026\n",
      "Starting to extract posture from the video(s) with batchsize: 8\n"
     ]
    },
    {
     "name": "stderr",
     "output_type": "stream",
     "text": [
      "100%|████████████████████████████████████████████████████████████████████████████████████| 5815/5815 [04:33<00:00, 21.28it/s]\n"
     ]
    },
    {
     "name": "stdout",
     "output_type": "stream",
     "text": [
      "Video Analyzed. Saving results in /home/vsridhar/DATA/DeepLabCut/projects/07_TerritoryDetectionP3-Vivek-2023-08-18/output/SSD7/20230316/SE_Lek1/P3D5...\n",
      "Using snapshot-50000 for model /home/vsridhar/DATA/DeepLabCut/projects/07_TerritoryDetectionP3-Vivek-2023-08-18/dlc-models/iteration-0/07_TerritoryDetectionP3Aug18-trainset90shuffle1\n",
      "Processing...  /media/vsridhar/T7/Work/Data/BlackbuckAnnotations/P3/downsampled/SSD7/20230316/SE_Lek1/P3D5/20230316_SE_Lek1_P3D5_DJI_0661.MP4\n",
      "Analyzing /home/vsridhar/DATA/DeepLabCut/projects/07_TerritoryDetectionP3-Vivek-2023-08-18/output/SSD7/20230316/SE_Lek1/P3D5/20230316_SE_Lek1_P3D5_DJI_0661DLC_dlcrnetms5_07_TerritoryDetectionP3Aug18shuffle1_50000.h5\n"
     ]
    },
    {
     "name": "stderr",
     "output_type": "stream",
     "text": [
      "100%|███████████████████████████████████████████████████████████████████████████████████| 5815/5815 [00:07<00:00, 729.11it/s]\n",
      "5815it [00:14, 388.76it/s]\n"
     ]
    },
    {
     "name": "stdout",
     "output_type": "stream",
     "text": [
      "The tracklets were created (i.e., under the hood deeplabcut.convert_detections2tracklets was run). Now you can 'refine_tracklets' in the GUI, or run 'deeplabcut.stitch_tracklets'.\n",
      "Processing...  /media/vsridhar/T7/Work/Data/BlackbuckAnnotations/P3/downsampled/SSD7/20230316/SE_Lek1/P3D5/20230316_SE_Lek1_P3D5_DJI_0661.MP4\n"
     ]
    },
    {
     "name": "stderr",
     "output_type": "stream",
     "text": [
      "/home/vsridhar/.local/lib/python3.10/site-packages/deeplabcut/refine_training_dataset/stitch.py:138: FutureWarning: Unlike other reduction functions (e.g. `skew`, `kurtosis`), the default behavior of `mode` typically preserves the axis it acts along. In SciPy 1.11.0, this behavior will change: the default value of `keepdims` will become False, the `axis` over which the statistic is taken will be eliminated, and the value None will no longer be accepted. Set `keepdims` to True or False to avoid this warning.\n",
      "  return mode(self.data[..., 3], axis=None, nan_policy=\"omit\")[0][0]\n",
      "100%|████████████████████████████████████████████████████████████████████████████████████| 24/24 [00:00<00:00, 235745.42it/s]\n",
      "/home/vsridhar/.local/lib/python3.10/site-packages/deeplabcut/refine_training_dataset/stitch.py:690: UserWarning: No optimal solution found. Employing black magic...\n",
      "  warnings.warn(\"No optimal solution found. Employing black magic...\")\n",
      "/home/vsridhar/.local/lib/python3.10/site-packages/deeplabcut/refine_training_dataset/stitch.py:763: UserWarning: Only 24 tracks could be reconstructed.\n",
      "  warnings.warn(f\"Only {len(self.paths)} tracks could be reconstructed.\")\n"
     ]
    },
    {
     "name": "stdout",
     "output_type": "stream",
     "text": [
      "Starting to analyze %  /media/vsridhar/T7/Work/Data/BlackbuckAnnotations/P3/downsampled/SSD7/20230316/SE_Lek1/P3D5/20230316_SE_Lek1_P3D5_DJI_0660.MP4\n",
      "Loading  /media/vsridhar/T7/Work/Data/BlackbuckAnnotations/P3/downsampled/SSD7/20230316/SE_Lek1/P3D5/20230316_SE_Lek1_P3D5_DJI_0660.MP4\n",
      "Duration of video [s]:  193.73 , recorded with  29.97 fps!\n",
      "Overall # of frames:  5806  found with (before cropping) frame dimensions:  1824 1026\n",
      "Starting to extract posture from the video(s) with batchsize: 8\n"
     ]
    },
    {
     "name": "stderr",
     "output_type": "stream",
     "text": [
      "100%|████████████████████████████████████████████████████████████████████████████████████| 5806/5806 [04:31<00:00, 21.42it/s]\n"
     ]
    },
    {
     "name": "stdout",
     "output_type": "stream",
     "text": [
      "Video Analyzed. Saving results in /home/vsridhar/DATA/DeepLabCut/projects/07_TerritoryDetectionP3-Vivek-2023-08-18/output/SSD7/20230316/SE_Lek1/P3D5...\n",
      "Using snapshot-50000 for model /home/vsridhar/DATA/DeepLabCut/projects/07_TerritoryDetectionP3-Vivek-2023-08-18/dlc-models/iteration-0/07_TerritoryDetectionP3Aug18-trainset90shuffle1\n",
      "Processing...  /media/vsridhar/T7/Work/Data/BlackbuckAnnotations/P3/downsampled/SSD7/20230316/SE_Lek1/P3D5/20230316_SE_Lek1_P3D5_DJI_0660.MP4\n",
      "Analyzing /home/vsridhar/DATA/DeepLabCut/projects/07_TerritoryDetectionP3-Vivek-2023-08-18/output/SSD7/20230316/SE_Lek1/P3D5/20230316_SE_Lek1_P3D5_DJI_0660DLC_dlcrnetms5_07_TerritoryDetectionP3Aug18shuffle1_50000.h5\n"
     ]
    },
    {
     "name": "stderr",
     "output_type": "stream",
     "text": [
      "100%|███████████████████████████████████████████████████████████████████████████████████| 5806/5806 [00:08<00:00, 714.62it/s]\n",
      "5806it [00:15, 386.27it/s]\n"
     ]
    },
    {
     "name": "stdout",
     "output_type": "stream",
     "text": [
      "The tracklets were created (i.e., under the hood deeplabcut.convert_detections2tracklets was run). Now you can 'refine_tracklets' in the GUI, or run 'deeplabcut.stitch_tracklets'.\n",
      "Processing...  /media/vsridhar/T7/Work/Data/BlackbuckAnnotations/P3/downsampled/SSD7/20230316/SE_Lek1/P3D5/20230316_SE_Lek1_P3D5_DJI_0660.MP4\n"
     ]
    },
    {
     "name": "stderr",
     "output_type": "stream",
     "text": [
      "/home/vsridhar/.local/lib/python3.10/site-packages/deeplabcut/refine_training_dataset/stitch.py:138: FutureWarning: Unlike other reduction functions (e.g. `skew`, `kurtosis`), the default behavior of `mode` typically preserves the axis it acts along. In SciPy 1.11.0, this behavior will change: the default value of `keepdims` will become False, the `axis` over which the statistic is taken will be eliminated, and the value None will no longer be accepted. Set `keepdims` to True or False to avoid this warning.\n",
      "  return mode(self.data[..., 3], axis=None, nan_policy=\"omit\")[0][0]\n",
      "100%|██████████████████████████████████████████████████████████████████████████████████████| 36/36 [00:00<00:00, 7999.31it/s]\n",
      "/home/vsridhar/.local/lib/python3.10/site-packages/deeplabcut/refine_training_dataset/stitch.py:690: UserWarning: No optimal solution found. Employing black magic...\n",
      "  warnings.warn(\"No optimal solution found. Employing black magic...\")\n",
      "/home/vsridhar/.local/lib/python3.10/site-packages/deeplabcut/refine_training_dataset/stitch.py:763: UserWarning: Only 36 tracks could be reconstructed.\n",
      "  warnings.warn(f\"Only {len(self.paths)} tracks could be reconstructed.\")\n"
     ]
    },
    {
     "name": "stdout",
     "output_type": "stream",
     "text": [
      "Starting to analyze %  /media/vsridhar/T7/Work/Data/BlackbuckAnnotations/P3/downsampled/SSD7/20230316/SE_Lek1/P3D5/20230316_SE_Lek1_P3D5_DJI_0662.MP4\n",
      "Loading  /media/vsridhar/T7/Work/Data/BlackbuckAnnotations/P3/downsampled/SSD7/20230316/SE_Lek1/P3D5/20230316_SE_Lek1_P3D5_DJI_0662.MP4\n",
      "Duration of video [s]:  193.93 , recorded with  29.97 fps!\n",
      "Overall # of frames:  5812  found with (before cropping) frame dimensions:  1824 1026\n",
      "Starting to extract posture from the video(s) with batchsize: 8\n"
     ]
    },
    {
     "name": "stderr",
     "output_type": "stream",
     "text": [
      "100%|████████████████████████████████████████████████████████████████████████████████████| 5812/5812 [04:32<00:00, 21.34it/s]\n"
     ]
    },
    {
     "name": "stdout",
     "output_type": "stream",
     "text": [
      "Video Analyzed. Saving results in /home/vsridhar/DATA/DeepLabCut/projects/07_TerritoryDetectionP3-Vivek-2023-08-18/output/SSD7/20230316/SE_Lek1/P3D5...\n",
      "Using snapshot-50000 for model /home/vsridhar/DATA/DeepLabCut/projects/07_TerritoryDetectionP3-Vivek-2023-08-18/dlc-models/iteration-0/07_TerritoryDetectionP3Aug18-trainset90shuffle1\n",
      "Processing...  /media/vsridhar/T7/Work/Data/BlackbuckAnnotations/P3/downsampled/SSD7/20230316/SE_Lek1/P3D5/20230316_SE_Lek1_P3D5_DJI_0662.MP4\n",
      "Analyzing /home/vsridhar/DATA/DeepLabCut/projects/07_TerritoryDetectionP3-Vivek-2023-08-18/output/SSD7/20230316/SE_Lek1/P3D5/20230316_SE_Lek1_P3D5_DJI_0662DLC_dlcrnetms5_07_TerritoryDetectionP3Aug18shuffle1_50000.h5\n"
     ]
    },
    {
     "name": "stderr",
     "output_type": "stream",
     "text": [
      "100%|███████████████████████████████████████████████████████████████████████████████████| 5812/5812 [00:08<00:00, 684.81it/s]\n",
      "5812it [00:15, 364.46it/s]\n"
     ]
    },
    {
     "name": "stdout",
     "output_type": "stream",
     "text": [
      "The tracklets were created (i.e., under the hood deeplabcut.convert_detections2tracklets was run). Now you can 'refine_tracklets' in the GUI, or run 'deeplabcut.stitch_tracklets'.\n",
      "Processing...  /media/vsridhar/T7/Work/Data/BlackbuckAnnotations/P3/downsampled/SSD7/20230316/SE_Lek1/P3D5/20230316_SE_Lek1_P3D5_DJI_0662.MP4\n"
     ]
    },
    {
     "name": "stderr",
     "output_type": "stream",
     "text": [
      "/home/vsridhar/.local/lib/python3.10/site-packages/deeplabcut/refine_training_dataset/stitch.py:138: FutureWarning: Unlike other reduction functions (e.g. `skew`, `kurtosis`), the default behavior of `mode` typically preserves the axis it acts along. In SciPy 1.11.0, this behavior will change: the default value of `keepdims` will become False, the `axis` over which the statistic is taken will be eliminated, and the value None will no longer be accepted. Set `keepdims` to True or False to avoid this warning.\n",
      "  return mode(self.data[..., 3], axis=None, nan_policy=\"omit\")[0][0]\n",
      "100%|██████████████████████████████████████████████████████████████████████████████████████| 37/37 [00:00<00:00, 9362.29it/s]\n",
      "/home/vsridhar/.local/lib/python3.10/site-packages/deeplabcut/refine_training_dataset/stitch.py:690: UserWarning: No optimal solution found. Employing black magic...\n",
      "  warnings.warn(\"No optimal solution found. Employing black magic...\")\n",
      "/home/vsridhar/.local/lib/python3.10/site-packages/deeplabcut/refine_training_dataset/stitch.py:763: UserWarning: Only 37 tracks could be reconstructed.\n",
      "  warnings.warn(f\"Only {len(self.paths)} tracks could be reconstructed.\")\n"
     ]
    },
    {
     "name": "stdout",
     "output_type": "stream",
     "text": [
      "Starting to analyze %  /media/vsridhar/T7/Work/Data/BlackbuckAnnotations/P3/downsampled/SSD7/20230316/SE_Lek1/P3D5/20230316_SE_Lek1_P3D5_DJI_0665.MP4\n",
      "Loading  /media/vsridhar/T7/Work/Data/BlackbuckAnnotations/P3/downsampled/SSD7/20230316/SE_Lek1/P3D5/20230316_SE_Lek1_P3D5_DJI_0665.MP4\n",
      "Duration of video [s]:  1.13 , recorded with  29.97 fps!\n",
      "Overall # of frames:  34  found with (before cropping) frame dimensions:  1824 1026\n",
      "Starting to extract posture from the video(s) with batchsize: 8\n"
     ]
    },
    {
     "name": "stderr",
     "output_type": "stream",
     "text": [
      "100%|████████████████████████████████████████████████████████████████████████████████████████| 34/34 [00:01<00:00, 17.79it/s]\n"
     ]
    },
    {
     "name": "stdout",
     "output_type": "stream",
     "text": [
      "Video Analyzed. Saving results in /home/vsridhar/DATA/DeepLabCut/projects/07_TerritoryDetectionP3-Vivek-2023-08-18/output/SSD7/20230316/SE_Lek1/P3D5...\n",
      "Using snapshot-50000 for model /home/vsridhar/DATA/DeepLabCut/projects/07_TerritoryDetectionP3-Vivek-2023-08-18/dlc-models/iteration-0/07_TerritoryDetectionP3Aug18-trainset90shuffle1\n",
      "Processing...  /media/vsridhar/T7/Work/Data/BlackbuckAnnotations/P3/downsampled/SSD7/20230316/SE_Lek1/P3D5/20230316_SE_Lek1_P3D5_DJI_0665.MP4\n",
      "Analyzing /home/vsridhar/DATA/DeepLabCut/projects/07_TerritoryDetectionP3-Vivek-2023-08-18/output/SSD7/20230316/SE_Lek1/P3D5/20230316_SE_Lek1_P3D5_DJI_0665DLC_dlcrnetms5_07_TerritoryDetectionP3Aug18shuffle1_50000.h5\n"
     ]
    },
    {
     "name": "stderr",
     "output_type": "stream",
     "text": [
      "100%|███████████████████████████████████████████████████████████████████████████████████████| 34/34 [00:00<00:00, 439.38it/s]\n",
      "34it [00:00, 245.59it/s]\n",
      "/home/vsridhar/.local/lib/python3.10/site-packages/deeplabcut/refine_training_dataset/stitch.py:138: FutureWarning: Unlike other reduction functions (e.g. `skew`, `kurtosis`), the default behavior of `mode` typically preserves the axis it acts along. In SciPy 1.11.0, this behavior will change: the default value of `keepdims` will become False, the `axis` over which the statistic is taken will be eliminated, and the value None will no longer be accepted. Set `keepdims` to True or False to avoid this warning.\n",
      "  return mode(self.data[..., 3], axis=None, nan_policy=\"omit\")[0][0]\n"
     ]
    },
    {
     "name": "stdout",
     "output_type": "stream",
     "text": [
      "The tracklets were created (i.e., under the hood deeplabcut.convert_detections2tracklets was run). Now you can 'refine_tracklets' in the GUI, or run 'deeplabcut.stitch_tracklets'.\n",
      "Processing...  /media/vsridhar/T7/Work/Data/BlackbuckAnnotations/P3/downsampled/SSD7/20230316/SE_Lek1/P3D5/20230316_SE_Lek1_P3D5_DJI_0665.MP4\n"
     ]
    },
    {
     "name": "stderr",
     "output_type": "stream",
     "text": [
      "100%|████████████████████████████████████████████████████████████████████████████████████| 26/26 [00:00<00:00, 225313.85it/s]\n",
      "/home/vsridhar/.local/lib/python3.10/site-packages/deeplabcut/refine_training_dataset/stitch.py:690: UserWarning: No optimal solution found. Employing black magic...\n",
      "  warnings.warn(\"No optimal solution found. Employing black magic...\")\n",
      "/home/vsridhar/.local/lib/python3.10/site-packages/deeplabcut/refine_training_dataset/stitch.py:763: UserWarning: Only 26 tracks could be reconstructed.\n",
      "  warnings.warn(f\"Only {len(self.paths)} tracks could be reconstructed.\")\n"
     ]
    },
    {
     "name": "stdout",
     "output_type": "stream",
     "text": [
      "Starting to analyze %  /media/vsridhar/T7/Work/Data/BlackbuckAnnotations/P3/downsampled/SSD7/20230316/SE_Lek1/P3D5/20230316_SE_Lek1_P3D5_DJI_0664.MP4\n",
      "Loading  /media/vsridhar/T7/Work/Data/BlackbuckAnnotations/P3/downsampled/SSD7/20230316/SE_Lek1/P3D5/20230316_SE_Lek1_P3D5_DJI_0664.MP4\n",
      "Duration of video [s]:  193.96 , recorded with  29.97 fps!\n",
      "Overall # of frames:  5813  found with (before cropping) frame dimensions:  1824 1026\n",
      "Starting to extract posture from the video(s) with batchsize: 8\n"
     ]
    },
    {
     "name": "stderr",
     "output_type": "stream",
     "text": [
      "100%|████████████████████████████████████████████████████████████████████████████████████| 5813/5813 [04:35<00:00, 21.08it/s]\n"
     ]
    },
    {
     "name": "stdout",
     "output_type": "stream",
     "text": [
      "Video Analyzed. Saving results in /home/vsridhar/DATA/DeepLabCut/projects/07_TerritoryDetectionP3-Vivek-2023-08-18/output/SSD7/20230316/SE_Lek1/P3D5...\n",
      "Using snapshot-50000 for model /home/vsridhar/DATA/DeepLabCut/projects/07_TerritoryDetectionP3-Vivek-2023-08-18/dlc-models/iteration-0/07_TerritoryDetectionP3Aug18-trainset90shuffle1\n",
      "Processing...  /media/vsridhar/T7/Work/Data/BlackbuckAnnotations/P3/downsampled/SSD7/20230316/SE_Lek1/P3D5/20230316_SE_Lek1_P3D5_DJI_0664.MP4\n",
      "Analyzing /home/vsridhar/DATA/DeepLabCut/projects/07_TerritoryDetectionP3-Vivek-2023-08-18/output/SSD7/20230316/SE_Lek1/P3D5/20230316_SE_Lek1_P3D5_DJI_0664DLC_dlcrnetms5_07_TerritoryDetectionP3Aug18shuffle1_50000.h5\n"
     ]
    },
    {
     "name": "stderr",
     "output_type": "stream",
     "text": [
      "100%|███████████████████████████████████████████████████████████████████████████████████| 5813/5813 [00:08<00:00, 656.52it/s]\n",
      "5813it [00:16, 362.84it/s]\n"
     ]
    },
    {
     "name": "stdout",
     "output_type": "stream",
     "text": [
      "The tracklets were created (i.e., under the hood deeplabcut.convert_detections2tracklets was run). Now you can 'refine_tracklets' in the GUI, or run 'deeplabcut.stitch_tracklets'.\n",
      "Processing...  /media/vsridhar/T7/Work/Data/BlackbuckAnnotations/P3/downsampled/SSD7/20230316/SE_Lek1/P3D5/20230316_SE_Lek1_P3D5_DJI_0664.MP4\n"
     ]
    },
    {
     "name": "stderr",
     "output_type": "stream",
     "text": [
      "/home/vsridhar/.local/lib/python3.10/site-packages/deeplabcut/refine_training_dataset/stitch.py:138: FutureWarning: Unlike other reduction functions (e.g. `skew`, `kurtosis`), the default behavior of `mode` typically preserves the axis it acts along. In SciPy 1.11.0, this behavior will change: the default value of `keepdims` will become False, the `axis` over which the statistic is taken will be eliminated, and the value None will no longer be accepted. Set `keepdims` to True or False to avoid this warning.\n",
      "  return mode(self.data[..., 3], axis=None, nan_policy=\"omit\")[0][0]\n",
      "100%|██████████████████████████████████████████████████████████████████████████████████████| 54/54 [00:00<00:00, 5646.22it/s]\n",
      "/home/vsridhar/.local/lib/python3.10/site-packages/deeplabcut/refine_training_dataset/stitch.py:690: UserWarning: No optimal solution found. Employing black magic...\n",
      "  warnings.warn(\"No optimal solution found. Employing black magic...\")\n",
      "/home/vsridhar/.local/lib/python3.10/site-packages/deeplabcut/refine_training_dataset/stitch.py:763: UserWarning: Only 54 tracks could be reconstructed.\n",
      "  warnings.warn(f\"Only {len(self.paths)} tracks could be reconstructed.\")\n",
      "/home/vsridhar/.local/lib/python3.10/site-packages/tensorflow/python/keras/engine/base_layer_v1.py:1694: UserWarning: `layer.apply` is deprecated and will be removed in a future version. Please use `layer.__call__` method instead.\n",
      "  warnings.warn('`layer.apply` is deprecated and '\n",
      "/home/vsridhar/.local/lib/python3.10/site-packages/tf_slim/layers/layers.py:684: UserWarning: `layer.apply` is deprecated and will be removed in a future version. Please use `layer.__call__` method instead.\n",
      "  outputs = layer.apply(inputs, training=is_training)\n"
     ]
    },
    {
     "name": "stdout",
     "output_type": "stream",
     "text": [
      "The videos are analyzed. Time to assemble animals and track 'em... \n",
      " Call 'create_video_with_all_detections' to check multi-animal detection quality before tracking.\n",
      "If the tracking is not satisfactory for some videos, consider expanding the training set. You can use the function 'extract_outlier_frames' to extract a few representative outlier frames.\n",
      "Using snapshot-50000 for model /home/vsridhar/DATA/DeepLabCut/projects/07_TerritoryDetectionP3-Vivek-2023-08-18/dlc-models/iteration-0/07_TerritoryDetectionP3Aug18-trainset90shuffle1\n",
      "Activating extracting of PAFs\n",
      "Analyzing all the videos in the directory...\n",
      "Starting to analyze %  /media/vsridhar/T7/Work/Data/BlackbuckAnnotations/P3/downsampled/SSD7/20230316/SE_Lek1/P3D6/20230316_SE_Lek1_P3D6_DJI_0009.MP4\n",
      "Loading  /media/vsridhar/T7/Work/Data/BlackbuckAnnotations/P3/downsampled/SSD7/20230316/SE_Lek1/P3D6/20230316_SE_Lek1_P3D6_DJI_0009.MP4\n",
      "Duration of video [s]:  194.03 , recorded with  29.97 fps!\n",
      "Overall # of frames:  5815  found with (before cropping) frame dimensions:  1824 1026\n",
      "Starting to extract posture from the video(s) with batchsize: 8\n"
     ]
    },
    {
     "name": "stderr",
     "output_type": "stream",
     "text": [
      "100%|████████████████████████████████████████████████████████████████████████████████████| 5815/5815 [04:30<00:00, 21.49it/s]\n"
     ]
    },
    {
     "name": "stdout",
     "output_type": "stream",
     "text": [
      "Video Analyzed. Saving results in /home/vsridhar/DATA/DeepLabCut/projects/07_TerritoryDetectionP3-Vivek-2023-08-18/output/SSD7/20230316/SE_Lek1/P3D6...\n",
      "Using snapshot-50000 for model /home/vsridhar/DATA/DeepLabCut/projects/07_TerritoryDetectionP3-Vivek-2023-08-18/dlc-models/iteration-0/07_TerritoryDetectionP3Aug18-trainset90shuffle1\n",
      "Processing...  /media/vsridhar/T7/Work/Data/BlackbuckAnnotations/P3/downsampled/SSD7/20230316/SE_Lek1/P3D6/20230316_SE_Lek1_P3D6_DJI_0009.MP4\n",
      "Analyzing /home/vsridhar/DATA/DeepLabCut/projects/07_TerritoryDetectionP3-Vivek-2023-08-18/output/SSD7/20230316/SE_Lek1/P3D6/20230316_SE_Lek1_P3D6_DJI_0009DLC_dlcrnetms5_07_TerritoryDetectionP3Aug18shuffle1_50000.h5\n"
     ]
    },
    {
     "name": "stderr",
     "output_type": "stream",
     "text": [
      "100%|███████████████████████████████████████████████████████████████████████████████████| 5815/5815 [00:08<00:00, 681.00it/s]\n",
      "5815it [00:15, 379.21it/s]\n"
     ]
    },
    {
     "name": "stdout",
     "output_type": "stream",
     "text": [
      "The tracklets were created (i.e., under the hood deeplabcut.convert_detections2tracklets was run). Now you can 'refine_tracklets' in the GUI, or run 'deeplabcut.stitch_tracklets'.\n",
      "Processing...  /media/vsridhar/T7/Work/Data/BlackbuckAnnotations/P3/downsampled/SSD7/20230316/SE_Lek1/P3D6/20230316_SE_Lek1_P3D6_DJI_0009.MP4\n"
     ]
    },
    {
     "name": "stderr",
     "output_type": "stream",
     "text": [
      "/home/vsridhar/.local/lib/python3.10/site-packages/deeplabcut/refine_training_dataset/stitch.py:138: FutureWarning: Unlike other reduction functions (e.g. `skew`, `kurtosis`), the default behavior of `mode` typically preserves the axis it acts along. In SciPy 1.11.0, this behavior will change: the default value of `keepdims` will become False, the `axis` over which the statistic is taken will be eliminated, and the value None will no longer be accepted. Set `keepdims` to True or False to avoid this warning.\n",
      "  return mode(self.data[..., 3], axis=None, nan_policy=\"omit\")[0][0]\n",
      "100%|█████████████████████████████████████████████████████████████████████████████████████| 28/28 [00:00<00:00, 34480.48it/s]\n",
      "/home/vsridhar/.local/lib/python3.10/site-packages/deeplabcut/refine_training_dataset/stitch.py:690: UserWarning: No optimal solution found. Employing black magic...\n",
      "  warnings.warn(\"No optimal solution found. Employing black magic...\")\n",
      "/home/vsridhar/.local/lib/python3.10/site-packages/deeplabcut/refine_training_dataset/stitch.py:763: UserWarning: Only 28 tracks could be reconstructed.\n",
      "  warnings.warn(f\"Only {len(self.paths)} tracks could be reconstructed.\")\n"
     ]
    },
    {
     "name": "stdout",
     "output_type": "stream",
     "text": [
      "Starting to analyze %  /media/vsridhar/T7/Work/Data/BlackbuckAnnotations/P3/downsampled/SSD7/20230316/SE_Lek1/P3D6/20230316_SE_Lek1_P3D6_DJI_0008.MP4\n",
      "Loading  /media/vsridhar/T7/Work/Data/BlackbuckAnnotations/P3/downsampled/SSD7/20230316/SE_Lek1/P3D6/20230316_SE_Lek1_P3D6_DJI_0008.MP4\n",
      "Duration of video [s]:  193.66 , recorded with  29.97 fps!\n",
      "Overall # of frames:  5804  found with (before cropping) frame dimensions:  1824 1026\n",
      "Starting to extract posture from the video(s) with batchsize: 8\n"
     ]
    },
    {
     "name": "stderr",
     "output_type": "stream",
     "text": [
      "100%|████████████████████████████████████████████████████████████████████████████████████| 5804/5804 [04:36<00:00, 20.98it/s]\n"
     ]
    },
    {
     "name": "stdout",
     "output_type": "stream",
     "text": [
      "Video Analyzed. Saving results in /home/vsridhar/DATA/DeepLabCut/projects/07_TerritoryDetectionP3-Vivek-2023-08-18/output/SSD7/20230316/SE_Lek1/P3D6...\n",
      "Using snapshot-50000 for model /home/vsridhar/DATA/DeepLabCut/projects/07_TerritoryDetectionP3-Vivek-2023-08-18/dlc-models/iteration-0/07_TerritoryDetectionP3Aug18-trainset90shuffle1\n",
      "Processing...  /media/vsridhar/T7/Work/Data/BlackbuckAnnotations/P3/downsampled/SSD7/20230316/SE_Lek1/P3D6/20230316_SE_Lek1_P3D6_DJI_0008.MP4\n",
      "Analyzing /home/vsridhar/DATA/DeepLabCut/projects/07_TerritoryDetectionP3-Vivek-2023-08-18/output/SSD7/20230316/SE_Lek1/P3D6/20230316_SE_Lek1_P3D6_DJI_0008DLC_dlcrnetms5_07_TerritoryDetectionP3Aug18shuffle1_50000.h5\n"
     ]
    },
    {
     "name": "stderr",
     "output_type": "stream",
     "text": [
      "100%|███████████████████████████████████████████████████████████████████████████████████| 5804/5804 [00:10<00:00, 570.50it/s]\n",
      "5804it [00:17, 339.43it/s]\n"
     ]
    },
    {
     "name": "stdout",
     "output_type": "stream",
     "text": [
      "The tracklets were created (i.e., under the hood deeplabcut.convert_detections2tracklets was run). Now you can 'refine_tracklets' in the GUI, or run 'deeplabcut.stitch_tracklets'.\n",
      "Processing...  /media/vsridhar/T7/Work/Data/BlackbuckAnnotations/P3/downsampled/SSD7/20230316/SE_Lek1/P3D6/20230316_SE_Lek1_P3D6_DJI_0008.MP4\n"
     ]
    },
    {
     "name": "stderr",
     "output_type": "stream",
     "text": [
      "/home/vsridhar/.local/lib/python3.10/site-packages/deeplabcut/refine_training_dataset/stitch.py:138: FutureWarning: Unlike other reduction functions (e.g. `skew`, `kurtosis`), the default behavior of `mode` typically preserves the axis it acts along. In SciPy 1.11.0, this behavior will change: the default value of `keepdims` will become False, the `axis` over which the statistic is taken will be eliminated, and the value None will no longer be accepted. Set `keepdims` to True or False to avoid this warning.\n",
      "  return mode(self.data[..., 3], axis=None, nan_policy=\"omit\")[0][0]\n",
      "100%|██████████████████████████████████████████████████████████████████████████████████████| 75/75 [00:00<00:00, 3955.65it/s]\n"
     ]
    },
    {
     "name": "stdout",
     "output_type": "stream",
     "text": [
      "Starting to analyze %  /media/vsridhar/T7/Work/Data/BlackbuckAnnotations/P3/downsampled/SSD7/20230316/SE_Lek1/P3D6/20230316_SE_Lek1_P3D6_DJI_0011.MP4\n",
      "Loading  /media/vsridhar/T7/Work/Data/BlackbuckAnnotations/P3/downsampled/SSD7/20230316/SE_Lek1/P3D6/20230316_SE_Lek1_P3D6_DJI_0011.MP4\n",
      "Duration of video [s]:  83.38 , recorded with  29.97 fps!\n",
      "Overall # of frames:  2499  found with (before cropping) frame dimensions:  1824 1026\n",
      "Starting to extract posture from the video(s) with batchsize: 8\n"
     ]
    },
    {
     "name": "stderr",
     "output_type": "stream",
     "text": [
      "100%|████████████████████████████████████████████████████████████████████████████████████| 2499/2499 [01:57<00:00, 21.19it/s]\n"
     ]
    },
    {
     "name": "stdout",
     "output_type": "stream",
     "text": [
      "Video Analyzed. Saving results in /home/vsridhar/DATA/DeepLabCut/projects/07_TerritoryDetectionP3-Vivek-2023-08-18/output/SSD7/20230316/SE_Lek1/P3D6...\n",
      "Using snapshot-50000 for model /home/vsridhar/DATA/DeepLabCut/projects/07_TerritoryDetectionP3-Vivek-2023-08-18/dlc-models/iteration-0/07_TerritoryDetectionP3Aug18-trainset90shuffle1\n",
      "Processing...  /media/vsridhar/T7/Work/Data/BlackbuckAnnotations/P3/downsampled/SSD7/20230316/SE_Lek1/P3D6/20230316_SE_Lek1_P3D6_DJI_0011.MP4\n",
      "Analyzing /home/vsridhar/DATA/DeepLabCut/projects/07_TerritoryDetectionP3-Vivek-2023-08-18/output/SSD7/20230316/SE_Lek1/P3D6/20230316_SE_Lek1_P3D6_DJI_0011DLC_dlcrnetms5_07_TerritoryDetectionP3Aug18shuffle1_50000.h5\n"
     ]
    },
    {
     "name": "stderr",
     "output_type": "stream",
     "text": [
      "100%|███████████████████████████████████████████████████████████████████████████████████| 2499/2499 [00:03<00:00, 670.98it/s]\n",
      "2499it [00:06, 369.26it/s]\n"
     ]
    },
    {
     "name": "stdout",
     "output_type": "stream",
     "text": [
      "The tracklets were created (i.e., under the hood deeplabcut.convert_detections2tracklets was run). Now you can 'refine_tracklets' in the GUI, or run 'deeplabcut.stitch_tracklets'.\n",
      "Processing...  /media/vsridhar/T7/Work/Data/BlackbuckAnnotations/P3/downsampled/SSD7/20230316/SE_Lek1/P3D6/20230316_SE_Lek1_P3D6_DJI_0011.MP4\n"
     ]
    },
    {
     "name": "stderr",
     "output_type": "stream",
     "text": [
      "/home/vsridhar/.local/lib/python3.10/site-packages/deeplabcut/refine_training_dataset/stitch.py:138: FutureWarning: Unlike other reduction functions (e.g. `skew`, `kurtosis`), the default behavior of `mode` typically preserves the axis it acts along. In SciPy 1.11.0, this behavior will change: the default value of `keepdims` will become False, the `axis` over which the statistic is taken will be eliminated, and the value None will no longer be accepted. Set `keepdims` to True or False to avoid this warning.\n",
      "  return mode(self.data[..., 3], axis=None, nan_policy=\"omit\")[0][0]\n",
      "100%|█████████████████████████████████████████████████████████████████████████████████████| 30/30 [00:00<00:00, 33474.09it/s]\n",
      "/home/vsridhar/.local/lib/python3.10/site-packages/deeplabcut/refine_training_dataset/stitch.py:690: UserWarning: No optimal solution found. Employing black magic...\n",
      "  warnings.warn(\"No optimal solution found. Employing black magic...\")\n",
      "/home/vsridhar/.local/lib/python3.10/site-packages/deeplabcut/refine_training_dataset/stitch.py:763: UserWarning: Only 30 tracks could be reconstructed.\n",
      "  warnings.warn(f\"Only {len(self.paths)} tracks could be reconstructed.\")\n"
     ]
    },
    {
     "name": "stdout",
     "output_type": "stream",
     "text": [
      "Starting to analyze %  /media/vsridhar/T7/Work/Data/BlackbuckAnnotations/P3/downsampled/SSD7/20230316/SE_Lek1/P3D6/20230316_SE_Lek1_P3D6_DJI_0010.MP4\n",
      "Loading  /media/vsridhar/T7/Work/Data/BlackbuckAnnotations/P3/downsampled/SSD7/20230316/SE_Lek1/P3D6/20230316_SE_Lek1_P3D6_DJI_0010.MP4\n",
      "Duration of video [s]:  193.99 , recorded with  29.97 fps!\n",
      "Overall # of frames:  5814  found with (before cropping) frame dimensions:  1824 1026\n",
      "Starting to extract posture from the video(s) with batchsize: 8\n"
     ]
    },
    {
     "name": "stderr",
     "output_type": "stream",
     "text": [
      "100%|████████████████████████████████████████████████████████████████████████████████████| 5814/5814 [04:33<00:00, 21.26it/s]\n"
     ]
    },
    {
     "name": "stdout",
     "output_type": "stream",
     "text": [
      "Video Analyzed. Saving results in /home/vsridhar/DATA/DeepLabCut/projects/07_TerritoryDetectionP3-Vivek-2023-08-18/output/SSD7/20230316/SE_Lek1/P3D6...\n",
      "Using snapshot-50000 for model /home/vsridhar/DATA/DeepLabCut/projects/07_TerritoryDetectionP3-Vivek-2023-08-18/dlc-models/iteration-0/07_TerritoryDetectionP3Aug18-trainset90shuffle1\n",
      "Processing...  /media/vsridhar/T7/Work/Data/BlackbuckAnnotations/P3/downsampled/SSD7/20230316/SE_Lek1/P3D6/20230316_SE_Lek1_P3D6_DJI_0010.MP4\n",
      "Analyzing /home/vsridhar/DATA/DeepLabCut/projects/07_TerritoryDetectionP3-Vivek-2023-08-18/output/SSD7/20230316/SE_Lek1/P3D6/20230316_SE_Lek1_P3D6_DJI_0010DLC_dlcrnetms5_07_TerritoryDetectionP3Aug18shuffle1_50000.h5\n"
     ]
    },
    {
     "name": "stderr",
     "output_type": "stream",
     "text": [
      "100%|███████████████████████████████████████████████████████████████████████████████████| 5814/5814 [00:08<00:00, 722.96it/s]\n",
      "5814it [00:15, 379.45it/s]\n"
     ]
    },
    {
     "name": "stdout",
     "output_type": "stream",
     "text": [
      "The tracklets were created (i.e., under the hood deeplabcut.convert_detections2tracklets was run). Now you can 'refine_tracklets' in the GUI, or run 'deeplabcut.stitch_tracklets'.\n",
      "Processing...  /media/vsridhar/T7/Work/Data/BlackbuckAnnotations/P3/downsampled/SSD7/20230316/SE_Lek1/P3D6/20230316_SE_Lek1_P3D6_DJI_0010.MP4\n"
     ]
    },
    {
     "name": "stderr",
     "output_type": "stream",
     "text": [
      "/home/vsridhar/.local/lib/python3.10/site-packages/deeplabcut/refine_training_dataset/stitch.py:138: FutureWarning: Unlike other reduction functions (e.g. `skew`, `kurtosis`), the default behavior of `mode` typically preserves the axis it acts along. In SciPy 1.11.0, this behavior will change: the default value of `keepdims` will become False, the `axis` over which the statistic is taken will be eliminated, and the value None will no longer be accepted. Set `keepdims` to True or False to avoid this warning.\n",
      "  return mode(self.data[..., 3], axis=None, nan_policy=\"omit\")[0][0]\n",
      "100%|█████████████████████████████████████████████████████████████████████████████████████| 26/26 [00:00<00:00, 40889.35it/s]"
     ]
    },
    {
     "name": "stdout",
     "output_type": "stream",
     "text": [
      "The videos are analyzed. Time to assemble animals and track 'em... \n",
      " Call 'create_video_with_all_detections' to check multi-animal detection quality before tracking.\n",
      "If the tracking is not satisfactory for some videos, consider expanding the training set. You can use the function 'extract_outlier_frames' to extract a few representative outlier frames.\n"
     ]
    },
    {
     "name": "stderr",
     "output_type": "stream",
     "text": [
      "\n",
      "/home/vsridhar/.local/lib/python3.10/site-packages/deeplabcut/refine_training_dataset/stitch.py:690: UserWarning: No optimal solution found. Employing black magic...\n",
      "  warnings.warn(\"No optimal solution found. Employing black magic...\")\n",
      "/home/vsridhar/.local/lib/python3.10/site-packages/deeplabcut/refine_training_dataset/stitch.py:763: UserWarning: Only 26 tracks could be reconstructed.\n",
      "  warnings.warn(f\"Only {len(self.paths)} tracks could be reconstructed.\")\n"
     ]
    }
   ],
   "source": [
    "for ssd in SSD:\n",
    "    for date in DATE:\n",
    "        for session in SESSION:\n",
    "            for drone in DRONE:\n",
    "                internal_path = '/' + ssd + '/' + date + '/' + session + '/' + drone\n",
    "                \n",
    "                deeplabcut.analyze_videos(config_path,\n",
    "                                          ['/media/vsridhar/T7/Work/Data/BlackbuckAnnotations/P3/downsampled' + internal_path],\n",
    "                                          videotype='MP4',\n",
    "                                          destfolder='/home/vsridhar/DATA/DeepLabCut/projects/07_TerritoryDetectionP3-Vivek-2023-08-18/output' + internal_path,\n",
    "                                          gputouse=0, \n",
    "                                          save_as_csv=False,\n",
    "                                          allow_growth=True,\n",
    "                                          auto_track=True)"
   ]
  },
  {
   "cell_type": "code",
   "execution_count": 6,
   "id": "1ccfb205",
   "metadata": {},
   "outputs": [],
   "source": [
    "SSD = ['SSD7']\n",
    "DATE = ['20230315', '20230317', '20230318']\n",
    "SESSION = ['SM_Lek1']\n",
    "DRONE = ['P3D5', 'P3D6']\n",
    "\n",
    "config_path = '/home/vsridhar/DATA/DeepLabCut/projects/07_TerritoryDetectionP3-Vivek-2023-08-18/config.yaml'"
   ]
  },
  {
   "cell_type": "code",
   "execution_count": 7,
   "id": "19779802",
   "metadata": {
    "scrolled": true
   },
   "outputs": [
    {
     "name": "stdout",
     "output_type": "stream",
     "text": [
      "Using snapshot-50000 for model /home/vsridhar/DATA/DeepLabCut/projects/07_TerritoryDetectionP3-Vivek-2023-08-18/dlc-models/iteration-0/07_TerritoryDetectionP3Aug18-trainset90shuffle1\n"
     ]
    },
    {
     "name": "stderr",
     "output_type": "stream",
     "text": [
      "/home/vsridhar/.local/lib/python3.10/site-packages/tensorflow/python/keras/engine/base_layer_v1.py:1694: UserWarning: `layer.apply` is deprecated and will be removed in a future version. Please use `layer.__call__` method instead.\n",
      "  warnings.warn('`layer.apply` is deprecated and '\n",
      "/home/vsridhar/.local/lib/python3.10/site-packages/tf_slim/layers/layers.py:684: UserWarning: `layer.apply` is deprecated and will be removed in a future version. Please use `layer.__call__` method instead.\n",
      "  outputs = layer.apply(inputs, training=is_training)\n"
     ]
    },
    {
     "name": "stdout",
     "output_type": "stream",
     "text": [
      "Activating extracting of PAFs\n",
      "Analyzing all the videos in the directory...\n",
      "Starting to analyze %  /media/vsridhar/T7/Work/Data/BlackbuckAnnotations/P3/downsampled/SSD7/20230315/SM_Lek1/P3D5/20230315_SM_Lek1_P3D5_DJI_0657.MP4\n",
      "Loading  /media/vsridhar/T7/Work/Data/BlackbuckAnnotations/P3/downsampled/SSD7/20230315/SM_Lek1/P3D5/20230315_SM_Lek1_P3D5_DJI_0657.MP4\n",
      "Duration of video [s]:  193.96 , recorded with  29.97 fps!\n",
      "Overall # of frames:  5813  found with (before cropping) frame dimensions:  1824 1026\n",
      "Starting to extract posture from the video(s) with batchsize: 8\n"
     ]
    },
    {
     "name": "stderr",
     "output_type": "stream",
     "text": [
      "100%|████████████████████████████████████████████████████████████████████████████████████| 5813/5813 [04:31<00:00, 21.41it/s]\n"
     ]
    },
    {
     "name": "stdout",
     "output_type": "stream",
     "text": [
      "Video Analyzed. Saving results in /home/vsridhar/DATA/DeepLabCut/projects/07_TerritoryDetectionP3-Vivek-2023-08-18/output/SSD7/20230315/SM_Lek1/P3D5...\n",
      "Using snapshot-50000 for model /home/vsridhar/DATA/DeepLabCut/projects/07_TerritoryDetectionP3-Vivek-2023-08-18/dlc-models/iteration-0/07_TerritoryDetectionP3Aug18-trainset90shuffle1\n",
      "Processing...  /media/vsridhar/T7/Work/Data/BlackbuckAnnotations/P3/downsampled/SSD7/20230315/SM_Lek1/P3D5/20230315_SM_Lek1_P3D5_DJI_0657.MP4\n",
      "Analyzing /home/vsridhar/DATA/DeepLabCut/projects/07_TerritoryDetectionP3-Vivek-2023-08-18/output/SSD7/20230315/SM_Lek1/P3D5/20230315_SM_Lek1_P3D5_DJI_0657DLC_dlcrnetms5_07_TerritoryDetectionP3Aug18shuffle1_50000.h5\n"
     ]
    },
    {
     "name": "stderr",
     "output_type": "stream",
     "text": [
      "100%|███████████████████████████████████████████████████████████████████████████████████| 5813/5813 [00:08<00:00, 714.69it/s]\n",
      "5813it [00:14, 400.17it/s]\n"
     ]
    },
    {
     "name": "stdout",
     "output_type": "stream",
     "text": [
      "The tracklets were created (i.e., under the hood deeplabcut.convert_detections2tracklets was run). Now you can 'refine_tracklets' in the GUI, or run 'deeplabcut.stitch_tracklets'.\n",
      "Processing...  /media/vsridhar/T7/Work/Data/BlackbuckAnnotations/P3/downsampled/SSD7/20230315/SM_Lek1/P3D5/20230315_SM_Lek1_P3D5_DJI_0657.MP4\n"
     ]
    },
    {
     "name": "stderr",
     "output_type": "stream",
     "text": [
      "/home/vsridhar/.local/lib/python3.10/site-packages/deeplabcut/refine_training_dataset/stitch.py:138: FutureWarning: Unlike other reduction functions (e.g. `skew`, `kurtosis`), the default behavior of `mode` typically preserves the axis it acts along. In SciPy 1.11.0, this behavior will change: the default value of `keepdims` will become False, the `axis` over which the statistic is taken will be eliminated, and the value None will no longer be accepted. Set `keepdims` to True or False to avoid this warning.\n",
      "  return mode(self.data[..., 3], axis=None, nan_policy=\"omit\")[0][0]\n",
      "100%|████████████████████████████████████████████████████████████████████████████████████| 120/120 [00:00<00:00, 5133.37it/s]\n"
     ]
    },
    {
     "name": "stdout",
     "output_type": "stream",
     "text": [
      "Starting to analyze %  /media/vsridhar/T7/Work/Data/BlackbuckAnnotations/P3/downsampled/SSD7/20230315/SM_Lek1/P3D5/20230315_SM_Lek1_P3D5_DJI_0647.MP4\n",
      "Loading  /media/vsridhar/T7/Work/Data/BlackbuckAnnotations/P3/downsampled/SSD7/20230315/SM_Lek1/P3D5/20230315_SM_Lek1_P3D5_DJI_0647.MP4\n",
      "Duration of video [s]:  194.03 , recorded with  29.97 fps!\n",
      "Overall # of frames:  5815  found with (before cropping) frame dimensions:  1824 1026\n",
      "Starting to extract posture from the video(s) with batchsize: 8\n"
     ]
    },
    {
     "name": "stderr",
     "output_type": "stream",
     "text": [
      "100%|████████████████████████████████████████████████████████████████████████████████████| 5815/5815 [04:30<00:00, 21.46it/s]\n"
     ]
    },
    {
     "name": "stdout",
     "output_type": "stream",
     "text": [
      "Video Analyzed. Saving results in /home/vsridhar/DATA/DeepLabCut/projects/07_TerritoryDetectionP3-Vivek-2023-08-18/output/SSD7/20230315/SM_Lek1/P3D5...\n",
      "Using snapshot-50000 for model /home/vsridhar/DATA/DeepLabCut/projects/07_TerritoryDetectionP3-Vivek-2023-08-18/dlc-models/iteration-0/07_TerritoryDetectionP3Aug18-trainset90shuffle1\n",
      "Processing...  /media/vsridhar/T7/Work/Data/BlackbuckAnnotations/P3/downsampled/SSD7/20230315/SM_Lek1/P3D5/20230315_SM_Lek1_P3D5_DJI_0647.MP4\n",
      "Analyzing /home/vsridhar/DATA/DeepLabCut/projects/07_TerritoryDetectionP3-Vivek-2023-08-18/output/SSD7/20230315/SM_Lek1/P3D5/20230315_SM_Lek1_P3D5_DJI_0647DLC_dlcrnetms5_07_TerritoryDetectionP3Aug18shuffle1_50000.h5\n"
     ]
    },
    {
     "name": "stderr",
     "output_type": "stream",
     "text": [
      "100%|███████████████████████████████████████████████████████████████████████████████████| 5815/5815 [00:08<00:00, 684.64it/s]\n",
      "5815it [00:15, 384.76it/s]\n"
     ]
    },
    {
     "name": "stdout",
     "output_type": "stream",
     "text": [
      "The tracklets were created (i.e., under the hood deeplabcut.convert_detections2tracklets was run). Now you can 'refine_tracklets' in the GUI, or run 'deeplabcut.stitch_tracklets'.\n",
      "Processing...  /media/vsridhar/T7/Work/Data/BlackbuckAnnotations/P3/downsampled/SSD7/20230315/SM_Lek1/P3D5/20230315_SM_Lek1_P3D5_DJI_0647.MP4\n"
     ]
    },
    {
     "name": "stderr",
     "output_type": "stream",
     "text": [
      "/home/vsridhar/.local/lib/python3.10/site-packages/deeplabcut/refine_training_dataset/stitch.py:138: FutureWarning: Unlike other reduction functions (e.g. `skew`, `kurtosis`), the default behavior of `mode` typically preserves the axis it acts along. In SciPy 1.11.0, this behavior will change: the default value of `keepdims` will become False, the `axis` over which the statistic is taken will be eliminated, and the value None will no longer be accepted. Set `keepdims` to True or False to avoid this warning.\n",
      "  return mode(self.data[..., 3], axis=None, nan_policy=\"omit\")[0][0]\n",
      "100%|██████████████████████████████████████████████████████████████████████████████████████| 39/39 [00:00<00:00, 7595.55it/s]\n",
      "/home/vsridhar/.local/lib/python3.10/site-packages/deeplabcut/refine_training_dataset/stitch.py:690: UserWarning: No optimal solution found. Employing black magic...\n",
      "  warnings.warn(\"No optimal solution found. Employing black magic...\")\n",
      "/home/vsridhar/.local/lib/python3.10/site-packages/deeplabcut/refine_training_dataset/stitch.py:763: UserWarning: Only 39 tracks could be reconstructed.\n",
      "  warnings.warn(f\"Only {len(self.paths)} tracks could be reconstructed.\")\n"
     ]
    },
    {
     "name": "stdout",
     "output_type": "stream",
     "text": [
      "Starting to analyze %  /media/vsridhar/T7/Work/Data/BlackbuckAnnotations/P3/downsampled/SSD7/20230315/SM_Lek1/P3D5/20230315_SM_Lek1_P3D5_DJI_0645.MP4\n",
      "Loading  /media/vsridhar/T7/Work/Data/BlackbuckAnnotations/P3/downsampled/SSD7/20230315/SM_Lek1/P3D5/20230315_SM_Lek1_P3D5_DJI_0645.MP4\n",
      "Duration of video [s]:  194.06 , recorded with  29.97 fps!\n",
      "Overall # of frames:  5816  found with (before cropping) frame dimensions:  1824 1026\n",
      "Starting to extract posture from the video(s) with batchsize: 8\n"
     ]
    },
    {
     "name": "stderr",
     "output_type": "stream",
     "text": [
      "100%|████████████████████████████████████████████████████████████████████████████████████| 5816/5816 [04:31<00:00, 21.39it/s]\n"
     ]
    },
    {
     "name": "stdout",
     "output_type": "stream",
     "text": [
      "Video Analyzed. Saving results in /home/vsridhar/DATA/DeepLabCut/projects/07_TerritoryDetectionP3-Vivek-2023-08-18/output/SSD7/20230315/SM_Lek1/P3D5...\n",
      "Using snapshot-50000 for model /home/vsridhar/DATA/DeepLabCut/projects/07_TerritoryDetectionP3-Vivek-2023-08-18/dlc-models/iteration-0/07_TerritoryDetectionP3Aug18-trainset90shuffle1\n",
      "Processing...  /media/vsridhar/T7/Work/Data/BlackbuckAnnotations/P3/downsampled/SSD7/20230315/SM_Lek1/P3D5/20230315_SM_Lek1_P3D5_DJI_0645.MP4\n",
      "Analyzing /home/vsridhar/DATA/DeepLabCut/projects/07_TerritoryDetectionP3-Vivek-2023-08-18/output/SSD7/20230315/SM_Lek1/P3D5/20230315_SM_Lek1_P3D5_DJI_0645DLC_dlcrnetms5_07_TerritoryDetectionP3Aug18shuffle1_50000.h5\n"
     ]
    },
    {
     "name": "stderr",
     "output_type": "stream",
     "text": [
      "100%|███████████████████████████████████████████████████████████████████████████████████| 5816/5816 [00:08<00:00, 714.14it/s]\n",
      "5816it [00:14, 389.65it/s]\n"
     ]
    },
    {
     "name": "stdout",
     "output_type": "stream",
     "text": [
      "The tracklets were created (i.e., under the hood deeplabcut.convert_detections2tracklets was run). Now you can 'refine_tracklets' in the GUI, or run 'deeplabcut.stitch_tracklets'.\n",
      "Processing...  /media/vsridhar/T7/Work/Data/BlackbuckAnnotations/P3/downsampled/SSD7/20230315/SM_Lek1/P3D5/20230315_SM_Lek1_P3D5_DJI_0645.MP4\n"
     ]
    },
    {
     "name": "stderr",
     "output_type": "stream",
     "text": [
      "/home/vsridhar/.local/lib/python3.10/site-packages/deeplabcut/refine_training_dataset/stitch.py:138: FutureWarning: Unlike other reduction functions (e.g. `skew`, `kurtosis`), the default behavior of `mode` typically preserves the axis it acts along. In SciPy 1.11.0, this behavior will change: the default value of `keepdims` will become False, the `axis` over which the statistic is taken will be eliminated, and the value None will no longer be accepted. Set `keepdims` to True or False to avoid this warning.\n",
      "  return mode(self.data[..., 3], axis=None, nan_policy=\"omit\")[0][0]\n",
      "100%|█████████████████████████████████████████████████████████████████████████████████████| 35/35 [00:00<00:00, 11140.67it/s]\n",
      "/home/vsridhar/.local/lib/python3.10/site-packages/deeplabcut/refine_training_dataset/stitch.py:690: UserWarning: No optimal solution found. Employing black magic...\n",
      "  warnings.warn(\"No optimal solution found. Employing black magic...\")\n",
      "/home/vsridhar/.local/lib/python3.10/site-packages/deeplabcut/refine_training_dataset/stitch.py:763: UserWarning: Only 35 tracks could be reconstructed.\n",
      "  warnings.warn(f\"Only {len(self.paths)} tracks could be reconstructed.\")\n"
     ]
    },
    {
     "name": "stdout",
     "output_type": "stream",
     "text": [
      "Starting to analyze %  /media/vsridhar/T7/Work/Data/BlackbuckAnnotations/P3/downsampled/SSD7/20230315/SM_Lek1/P3D5/20230315_SM_Lek1_P3D5_DJI_0656.MP4\n",
      "Loading  /media/vsridhar/T7/Work/Data/BlackbuckAnnotations/P3/downsampled/SSD7/20230315/SM_Lek1/P3D5/20230315_SM_Lek1_P3D5_DJI_0656.MP4\n",
      "Duration of video [s]:  193.96 , recorded with  29.97 fps!\n",
      "Overall # of frames:  5813  found with (before cropping) frame dimensions:  1824 1026\n",
      "Starting to extract posture from the video(s) with batchsize: 8\n"
     ]
    },
    {
     "name": "stderr",
     "output_type": "stream",
     "text": [
      "100%|████████████████████████████████████████████████████████████████████████████████████| 5813/5813 [04:31<00:00, 21.41it/s]\n"
     ]
    },
    {
     "name": "stdout",
     "output_type": "stream",
     "text": [
      "Video Analyzed. Saving results in /home/vsridhar/DATA/DeepLabCut/projects/07_TerritoryDetectionP3-Vivek-2023-08-18/output/SSD7/20230315/SM_Lek1/P3D5...\n",
      "Using snapshot-50000 for model /home/vsridhar/DATA/DeepLabCut/projects/07_TerritoryDetectionP3-Vivek-2023-08-18/dlc-models/iteration-0/07_TerritoryDetectionP3Aug18-trainset90shuffle1\n",
      "Processing...  /media/vsridhar/T7/Work/Data/BlackbuckAnnotations/P3/downsampled/SSD7/20230315/SM_Lek1/P3D5/20230315_SM_Lek1_P3D5_DJI_0656.MP4\n",
      "Analyzing /home/vsridhar/DATA/DeepLabCut/projects/07_TerritoryDetectionP3-Vivek-2023-08-18/output/SSD7/20230315/SM_Lek1/P3D5/20230315_SM_Lek1_P3D5_DJI_0656DLC_dlcrnetms5_07_TerritoryDetectionP3Aug18shuffle1_50000.h5\n"
     ]
    },
    {
     "name": "stderr",
     "output_type": "stream",
     "text": [
      "100%|███████████████████████████████████████████████████████████████████████████████████| 5813/5813 [00:07<00:00, 806.15it/s]\n",
      "5813it [00:13, 422.51it/s]\n"
     ]
    },
    {
     "name": "stdout",
     "output_type": "stream",
     "text": [
      "The tracklets were created (i.e., under the hood deeplabcut.convert_detections2tracklets was run). Now you can 'refine_tracklets' in the GUI, or run 'deeplabcut.stitch_tracklets'.\n",
      "Processing...  /media/vsridhar/T7/Work/Data/BlackbuckAnnotations/P3/downsampled/SSD7/20230315/SM_Lek1/P3D5/20230315_SM_Lek1_P3D5_DJI_0656.MP4\n"
     ]
    },
    {
     "name": "stderr",
     "output_type": "stream",
     "text": [
      "/home/vsridhar/.local/lib/python3.10/site-packages/deeplabcut/refine_training_dataset/stitch.py:138: FutureWarning: Unlike other reduction functions (e.g. `skew`, `kurtosis`), the default behavior of `mode` typically preserves the axis it acts along. In SciPy 1.11.0, this behavior will change: the default value of `keepdims` will become False, the `axis` over which the statistic is taken will be eliminated, and the value None will no longer be accepted. Set `keepdims` to True or False to avoid this warning.\n",
      "  return mode(self.data[..., 3], axis=None, nan_policy=\"omit\")[0][0]\n",
      "100%|██████████████████████████████████████████████████████████████████████████████████████| 84/84 [00:00<00:00, 6209.51it/s]\n"
     ]
    },
    {
     "name": "stdout",
     "output_type": "stream",
     "text": [
      "Starting to analyze %  /media/vsridhar/T7/Work/Data/BlackbuckAnnotations/P3/downsampled/SSD7/20230315/SM_Lek1/P3D5/20230315_SM_Lek1_P3D5_DJI_0658.MP4\n",
      "Loading  /media/vsridhar/T7/Work/Data/BlackbuckAnnotations/P3/downsampled/SSD7/20230315/SM_Lek1/P3D5/20230315_SM_Lek1_P3D5_DJI_0658.MP4\n",
      "Duration of video [s]:  194.06 , recorded with  29.97 fps!\n",
      "Overall # of frames:  5816  found with (before cropping) frame dimensions:  1824 1026\n",
      "Starting to extract posture from the video(s) with batchsize: 8\n"
     ]
    },
    {
     "name": "stderr",
     "output_type": "stream",
     "text": [
      "100%|████████████████████████████████████████████████████████████████████████████████████| 5816/5816 [04:32<00:00, 21.35it/s]\n"
     ]
    },
    {
     "name": "stdout",
     "output_type": "stream",
     "text": [
      "Video Analyzed. Saving results in /home/vsridhar/DATA/DeepLabCut/projects/07_TerritoryDetectionP3-Vivek-2023-08-18/output/SSD7/20230315/SM_Lek1/P3D5...\n",
      "Using snapshot-50000 for model /home/vsridhar/DATA/DeepLabCut/projects/07_TerritoryDetectionP3-Vivek-2023-08-18/dlc-models/iteration-0/07_TerritoryDetectionP3Aug18-trainset90shuffle1\n",
      "Processing...  /media/vsridhar/T7/Work/Data/BlackbuckAnnotations/P3/downsampled/SSD7/20230315/SM_Lek1/P3D5/20230315_SM_Lek1_P3D5_DJI_0658.MP4\n",
      "Analyzing /home/vsridhar/DATA/DeepLabCut/projects/07_TerritoryDetectionP3-Vivek-2023-08-18/output/SSD7/20230315/SM_Lek1/P3D5/20230315_SM_Lek1_P3D5_DJI_0658DLC_dlcrnetms5_07_TerritoryDetectionP3Aug18shuffle1_50000.h5\n"
     ]
    },
    {
     "name": "stderr",
     "output_type": "stream",
     "text": [
      "100%|███████████████████████████████████████████████████████████████████████████████████| 5816/5816 [00:07<00:00, 740.37it/s]\n",
      "5816it [00:15, 387.09it/s]\n"
     ]
    },
    {
     "name": "stdout",
     "output_type": "stream",
     "text": [
      "The tracklets were created (i.e., under the hood deeplabcut.convert_detections2tracklets was run). Now you can 'refine_tracklets' in the GUI, or run 'deeplabcut.stitch_tracklets'.\n",
      "Processing...  /media/vsridhar/T7/Work/Data/BlackbuckAnnotations/P3/downsampled/SSD7/20230315/SM_Lek1/P3D5/20230315_SM_Lek1_P3D5_DJI_0658.MP4\n"
     ]
    },
    {
     "name": "stderr",
     "output_type": "stream",
     "text": [
      "/home/vsridhar/.local/lib/python3.10/site-packages/deeplabcut/refine_training_dataset/stitch.py:138: FutureWarning: Unlike other reduction functions (e.g. `skew`, `kurtosis`), the default behavior of `mode` typically preserves the axis it acts along. In SciPy 1.11.0, this behavior will change: the default value of `keepdims` will become False, the `axis` over which the statistic is taken will be eliminated, and the value None will no longer be accepted. Set `keepdims` to True or False to avoid this warning.\n",
      "  return mode(self.data[..., 3], axis=None, nan_policy=\"omit\")[0][0]\n",
      "100%|████████████████████████████████████████████████████████████████████████████████████| 102/102 [00:00<00:00, 4763.60it/s]\n"
     ]
    },
    {
     "name": "stdout",
     "output_type": "stream",
     "text": [
      "Starting to analyze %  /media/vsridhar/T7/Work/Data/BlackbuckAnnotations/P3/downsampled/SSD7/20230315/SM_Lek1/P3D5/20230315_SM_Lek1_P3D5_DJI_0652.MP4\n",
      "Loading  /media/vsridhar/T7/Work/Data/BlackbuckAnnotations/P3/downsampled/SSD7/20230315/SM_Lek1/P3D5/20230315_SM_Lek1_P3D5_DJI_0652.MP4\n",
      "Duration of video [s]:  193.96 , recorded with  29.97 fps!\n",
      "Overall # of frames:  5813  found with (before cropping) frame dimensions:  1824 1026\n",
      "Starting to extract posture from the video(s) with batchsize: 8\n"
     ]
    },
    {
     "name": "stderr",
     "output_type": "stream",
     "text": [
      "100%|████████████████████████████████████████████████████████████████████████████████████| 5813/5813 [04:31<00:00, 21.41it/s]\n"
     ]
    },
    {
     "name": "stdout",
     "output_type": "stream",
     "text": [
      "Video Analyzed. Saving results in /home/vsridhar/DATA/DeepLabCut/projects/07_TerritoryDetectionP3-Vivek-2023-08-18/output/SSD7/20230315/SM_Lek1/P3D5...\n",
      "Using snapshot-50000 for model /home/vsridhar/DATA/DeepLabCut/projects/07_TerritoryDetectionP3-Vivek-2023-08-18/dlc-models/iteration-0/07_TerritoryDetectionP3Aug18-trainset90shuffle1\n",
      "Processing...  /media/vsridhar/T7/Work/Data/BlackbuckAnnotations/P3/downsampled/SSD7/20230315/SM_Lek1/P3D5/20230315_SM_Lek1_P3D5_DJI_0652.MP4\n",
      "Analyzing /home/vsridhar/DATA/DeepLabCut/projects/07_TerritoryDetectionP3-Vivek-2023-08-18/output/SSD7/20230315/SM_Lek1/P3D5/20230315_SM_Lek1_P3D5_DJI_0652DLC_dlcrnetms5_07_TerritoryDetectionP3Aug18shuffle1_50000.h5\n"
     ]
    },
    {
     "name": "stderr",
     "output_type": "stream",
     "text": [
      "100%|███████████████████████████████████████████████████████████████████████████████████| 5813/5813 [00:06<00:00, 855.29it/s]\n",
      "5813it [00:13, 428.79it/s]\n"
     ]
    },
    {
     "name": "stdout",
     "output_type": "stream",
     "text": [
      "The tracklets were created (i.e., under the hood deeplabcut.convert_detections2tracklets was run). Now you can 'refine_tracklets' in the GUI, or run 'deeplabcut.stitch_tracklets'.\n",
      "Processing...  /media/vsridhar/T7/Work/Data/BlackbuckAnnotations/P3/downsampled/SSD7/20230315/SM_Lek1/P3D5/20230315_SM_Lek1_P3D5_DJI_0652.MP4\n"
     ]
    },
    {
     "name": "stderr",
     "output_type": "stream",
     "text": [
      "/home/vsridhar/.local/lib/python3.10/site-packages/deeplabcut/refine_training_dataset/stitch.py:138: FutureWarning: Unlike other reduction functions (e.g. `skew`, `kurtosis`), the default behavior of `mode` typically preserves the axis it acts along. In SciPy 1.11.0, this behavior will change: the default value of `keepdims` will become False, the `axis` over which the statistic is taken will be eliminated, and the value None will no longer be accepted. Set `keepdims` to True or False to avoid this warning.\n",
      "  return mode(self.data[..., 3], axis=None, nan_policy=\"omit\")[0][0]\n",
      "100%|████████████████████████████████████████████████████████████████████████████████████| 124/124 [00:00<00:00, 7830.97it/s]\n"
     ]
    },
    {
     "name": "stdout",
     "output_type": "stream",
     "text": [
      "Starting to analyze %  /media/vsridhar/T7/Work/Data/BlackbuckAnnotations/P3/downsampled/SSD7/20230315/SM_Lek1/P3D5/20230315_SM_Lek1_P3D5_DJI_0655.MP4\n",
      "Loading  /media/vsridhar/T7/Work/Data/BlackbuckAnnotations/P3/downsampled/SSD7/20230315/SM_Lek1/P3D5/20230315_SM_Lek1_P3D5_DJI_0655.MP4\n",
      "Duration of video [s]:  194.06 , recorded with  29.97 fps!\n",
      "Overall # of frames:  5816  found with (before cropping) frame dimensions:  1824 1026\n",
      "Starting to extract posture from the video(s) with batchsize: 8\n"
     ]
    },
    {
     "name": "stderr",
     "output_type": "stream",
     "text": [
      "100%|████████████████████████████████████████████████████████████████████████████████████| 5816/5816 [04:30<00:00, 21.52it/s]\n"
     ]
    },
    {
     "name": "stdout",
     "output_type": "stream",
     "text": [
      "Video Analyzed. Saving results in /home/vsridhar/DATA/DeepLabCut/projects/07_TerritoryDetectionP3-Vivek-2023-08-18/output/SSD7/20230315/SM_Lek1/P3D5...\n",
      "Using snapshot-50000 for model /home/vsridhar/DATA/DeepLabCut/projects/07_TerritoryDetectionP3-Vivek-2023-08-18/dlc-models/iteration-0/07_TerritoryDetectionP3Aug18-trainset90shuffle1\n",
      "Processing...  /media/vsridhar/T7/Work/Data/BlackbuckAnnotations/P3/downsampled/SSD7/20230315/SM_Lek1/P3D5/20230315_SM_Lek1_P3D5_DJI_0655.MP4\n",
      "Analyzing /home/vsridhar/DATA/DeepLabCut/projects/07_TerritoryDetectionP3-Vivek-2023-08-18/output/SSD7/20230315/SM_Lek1/P3D5/20230315_SM_Lek1_P3D5_DJI_0655DLC_dlcrnetms5_07_TerritoryDetectionP3Aug18shuffle1_50000.h5\n"
     ]
    },
    {
     "name": "stderr",
     "output_type": "stream",
     "text": [
      "100%|███████████████████████████████████████████████████████████████████████████████████| 5816/5816 [00:07<00:00, 813.83it/s]\n",
      "5816it [00:13, 422.93it/s]\n"
     ]
    },
    {
     "name": "stdout",
     "output_type": "stream",
     "text": [
      "The tracklets were created (i.e., under the hood deeplabcut.convert_detections2tracklets was run). Now you can 'refine_tracklets' in the GUI, or run 'deeplabcut.stitch_tracklets'.\n",
      "Processing...  /media/vsridhar/T7/Work/Data/BlackbuckAnnotations/P3/downsampled/SSD7/20230315/SM_Lek1/P3D5/20230315_SM_Lek1_P3D5_DJI_0655.MP4\n"
     ]
    },
    {
     "name": "stderr",
     "output_type": "stream",
     "text": [
      "/home/vsridhar/.local/lib/python3.10/site-packages/deeplabcut/refine_training_dataset/stitch.py:138: FutureWarning: Unlike other reduction functions (e.g. `skew`, `kurtosis`), the default behavior of `mode` typically preserves the axis it acts along. In SciPy 1.11.0, this behavior will change: the default value of `keepdims` will become False, the `axis` over which the statistic is taken will be eliminated, and the value None will no longer be accepted. Set `keepdims` to True or False to avoid this warning.\n",
      "  return mode(self.data[..., 3], axis=None, nan_policy=\"omit\")[0][0]\n",
      "100%|██████████████████████████████████████████████████████████████████████████████████████| 97/97 [00:00<00:00, 5014.45it/s]\n"
     ]
    },
    {
     "name": "stdout",
     "output_type": "stream",
     "text": [
      "Starting to analyze %  /media/vsridhar/T7/Work/Data/BlackbuckAnnotations/P3/downsampled/SSD7/20230315/SM_Lek1/P3D5/20230315_SM_Lek1_P3D5_DJI_0640.MP4\n",
      "Loading  /media/vsridhar/T7/Work/Data/BlackbuckAnnotations/P3/downsampled/SSD7/20230315/SM_Lek1/P3D5/20230315_SM_Lek1_P3D5_DJI_0640.MP4\n",
      "Duration of video [s]:  193.96 , recorded with  29.97 fps!\n",
      "Overall # of frames:  5813  found with (before cropping) frame dimensions:  1824 1026\n",
      "Starting to extract posture from the video(s) with batchsize: 8\n"
     ]
    },
    {
     "name": "stderr",
     "output_type": "stream",
     "text": [
      "100%|████████████████████████████████████████████████████████████████████████████████████| 5813/5813 [04:33<00:00, 21.25it/s]\n"
     ]
    },
    {
     "name": "stdout",
     "output_type": "stream",
     "text": [
      "Video Analyzed. Saving results in /home/vsridhar/DATA/DeepLabCut/projects/07_TerritoryDetectionP3-Vivek-2023-08-18/output/SSD7/20230315/SM_Lek1/P3D5...\n",
      "Using snapshot-50000 for model /home/vsridhar/DATA/DeepLabCut/projects/07_TerritoryDetectionP3-Vivek-2023-08-18/dlc-models/iteration-0/07_TerritoryDetectionP3Aug18-trainset90shuffle1\n",
      "Processing...  /media/vsridhar/T7/Work/Data/BlackbuckAnnotations/P3/downsampled/SSD7/20230315/SM_Lek1/P3D5/20230315_SM_Lek1_P3D5_DJI_0640.MP4\n",
      "Analyzing /home/vsridhar/DATA/DeepLabCut/projects/07_TerritoryDetectionP3-Vivek-2023-08-18/output/SSD7/20230315/SM_Lek1/P3D5/20230315_SM_Lek1_P3D5_DJI_0640DLC_dlcrnetms5_07_TerritoryDetectionP3Aug18shuffle1_50000.h5\n"
     ]
    },
    {
     "name": "stderr",
     "output_type": "stream",
     "text": [
      "100%|███████████████████████████████████████████████████████████████████████████████████| 5813/5813 [00:08<00:00, 649.43it/s]\n",
      "5813it [00:16, 354.30it/s]\n"
     ]
    },
    {
     "name": "stdout",
     "output_type": "stream",
     "text": [
      "The tracklets were created (i.e., under the hood deeplabcut.convert_detections2tracklets was run). Now you can 'refine_tracklets' in the GUI, or run 'deeplabcut.stitch_tracklets'.\n",
      "Processing...  /media/vsridhar/T7/Work/Data/BlackbuckAnnotations/P3/downsampled/SSD7/20230315/SM_Lek1/P3D5/20230315_SM_Lek1_P3D5_DJI_0640.MP4\n"
     ]
    },
    {
     "name": "stderr",
     "output_type": "stream",
     "text": [
      "/home/vsridhar/.local/lib/python3.10/site-packages/deeplabcut/refine_training_dataset/stitch.py:138: FutureWarning: Unlike other reduction functions (e.g. `skew`, `kurtosis`), the default behavior of `mode` typically preserves the axis it acts along. In SciPy 1.11.0, this behavior will change: the default value of `keepdims` will become False, the `axis` over which the statistic is taken will be eliminated, and the value None will no longer be accepted. Set `keepdims` to True or False to avoid this warning.\n",
      "  return mode(self.data[..., 3], axis=None, nan_policy=\"omit\")[0][0]\n",
      "100%|██████████████████████████████████████████████████████████████████████████████████████| 92/92 [00:00<00:00, 5659.08it/s]\n"
     ]
    },
    {
     "name": "stdout",
     "output_type": "stream",
     "text": [
      "Starting to analyze %  /media/vsridhar/T7/Work/Data/BlackbuckAnnotations/P3/downsampled/SSD7/20230315/SM_Lek1/P3D5/20230315_SM_Lek1_P3D5_DJI_0646.MP4\n",
      "Loading  /media/vsridhar/T7/Work/Data/BlackbuckAnnotations/P3/downsampled/SSD7/20230315/SM_Lek1/P3D5/20230315_SM_Lek1_P3D5_DJI_0646.MP4\n",
      "Duration of video [s]:  193.99 , recorded with  29.97 fps!\n",
      "Overall # of frames:  5814  found with (before cropping) frame dimensions:  1824 1026\n",
      "Starting to extract posture from the video(s) with batchsize: 8\n"
     ]
    },
    {
     "name": "stderr",
     "output_type": "stream",
     "text": [
      "100%|████████████████████████████████████████████████████████████████████████████████████| 5814/5814 [04:32<00:00, 21.37it/s]\n"
     ]
    },
    {
     "name": "stdout",
     "output_type": "stream",
     "text": [
      "Video Analyzed. Saving results in /home/vsridhar/DATA/DeepLabCut/projects/07_TerritoryDetectionP3-Vivek-2023-08-18/output/SSD7/20230315/SM_Lek1/P3D5...\n",
      "Using snapshot-50000 for model /home/vsridhar/DATA/DeepLabCut/projects/07_TerritoryDetectionP3-Vivek-2023-08-18/dlc-models/iteration-0/07_TerritoryDetectionP3Aug18-trainset90shuffle1\n",
      "Processing...  /media/vsridhar/T7/Work/Data/BlackbuckAnnotations/P3/downsampled/SSD7/20230315/SM_Lek1/P3D5/20230315_SM_Lek1_P3D5_DJI_0646.MP4\n",
      "Analyzing /home/vsridhar/DATA/DeepLabCut/projects/07_TerritoryDetectionP3-Vivek-2023-08-18/output/SSD7/20230315/SM_Lek1/P3D5/20230315_SM_Lek1_P3D5_DJI_0646DLC_dlcrnetms5_07_TerritoryDetectionP3Aug18shuffle1_50000.h5\n"
     ]
    },
    {
     "name": "stderr",
     "output_type": "stream",
     "text": [
      "100%|███████████████████████████████████████████████████████████████████████████████████| 5814/5814 [00:08<00:00, 704.50it/s]\n",
      "5814it [00:15, 386.60it/s]\n"
     ]
    },
    {
     "name": "stdout",
     "output_type": "stream",
     "text": [
      "The tracklets were created (i.e., under the hood deeplabcut.convert_detections2tracklets was run). Now you can 'refine_tracklets' in the GUI, or run 'deeplabcut.stitch_tracklets'.\n",
      "Processing...  /media/vsridhar/T7/Work/Data/BlackbuckAnnotations/P3/downsampled/SSD7/20230315/SM_Lek1/P3D5/20230315_SM_Lek1_P3D5_DJI_0646.MP4\n"
     ]
    },
    {
     "name": "stderr",
     "output_type": "stream",
     "text": [
      "/home/vsridhar/.local/lib/python3.10/site-packages/deeplabcut/refine_training_dataset/stitch.py:138: FutureWarning: Unlike other reduction functions (e.g. `skew`, `kurtosis`), the default behavior of `mode` typically preserves the axis it acts along. In SciPy 1.11.0, this behavior will change: the default value of `keepdims` will become False, the `axis` over which the statistic is taken will be eliminated, and the value None will no longer be accepted. Set `keepdims` to True or False to avoid this warning.\n",
      "  return mode(self.data[..., 3], axis=None, nan_policy=\"omit\")[0][0]\n",
      "100%|██████████████████████████████████████████████████████████████████████████████████████| 42/42 [00:00<00:00, 5478.83it/s]\n",
      "/home/vsridhar/.local/lib/python3.10/site-packages/deeplabcut/refine_training_dataset/stitch.py:690: UserWarning: No optimal solution found. Employing black magic...\n",
      "  warnings.warn(\"No optimal solution found. Employing black magic...\")\n",
      "/home/vsridhar/.local/lib/python3.10/site-packages/deeplabcut/refine_training_dataset/stitch.py:763: UserWarning: Only 42 tracks could be reconstructed.\n",
      "  warnings.warn(f\"Only {len(self.paths)} tracks could be reconstructed.\")\n"
     ]
    },
    {
     "name": "stdout",
     "output_type": "stream",
     "text": [
      "Starting to analyze %  /media/vsridhar/T7/Work/Data/BlackbuckAnnotations/P3/downsampled/SSD7/20230315/SM_Lek1/P3D5/20230315_SM_Lek1_P3D5_DJI_0641.MP4\n",
      "Loading  /media/vsridhar/T7/Work/Data/BlackbuckAnnotations/P3/downsampled/SSD7/20230315/SM_Lek1/P3D5/20230315_SM_Lek1_P3D5_DJI_0641.MP4\n",
      "Duration of video [s]:  193.99 , recorded with  29.97 fps!\n",
      "Overall # of frames:  5814  found with (before cropping) frame dimensions:  1824 1026\n",
      "Starting to extract posture from the video(s) with batchsize: 8\n"
     ]
    },
    {
     "name": "stderr",
     "output_type": "stream",
     "text": [
      "100%|████████████████████████████████████████████████████████████████████████████████████| 5814/5814 [04:34<00:00, 21.19it/s]\n"
     ]
    },
    {
     "name": "stdout",
     "output_type": "stream",
     "text": [
      "Video Analyzed. Saving results in /home/vsridhar/DATA/DeepLabCut/projects/07_TerritoryDetectionP3-Vivek-2023-08-18/output/SSD7/20230315/SM_Lek1/P3D5...\n",
      "Using snapshot-50000 for model /home/vsridhar/DATA/DeepLabCut/projects/07_TerritoryDetectionP3-Vivek-2023-08-18/dlc-models/iteration-0/07_TerritoryDetectionP3Aug18-trainset90shuffle1\n",
      "Processing...  /media/vsridhar/T7/Work/Data/BlackbuckAnnotations/P3/downsampled/SSD7/20230315/SM_Lek1/P3D5/20230315_SM_Lek1_P3D5_DJI_0641.MP4\n",
      "Analyzing /home/vsridhar/DATA/DeepLabCut/projects/07_TerritoryDetectionP3-Vivek-2023-08-18/output/SSD7/20230315/SM_Lek1/P3D5/20230315_SM_Lek1_P3D5_DJI_0641DLC_dlcrnetms5_07_TerritoryDetectionP3Aug18shuffle1_50000.h5\n"
     ]
    },
    {
     "name": "stderr",
     "output_type": "stream",
     "text": [
      "100%|███████████████████████████████████████████████████████████████████████████████████| 5814/5814 [00:08<00:00, 667.35it/s]\n",
      "5814it [00:15, 372.46it/s]\n"
     ]
    },
    {
     "name": "stdout",
     "output_type": "stream",
     "text": [
      "The tracklets were created (i.e., under the hood deeplabcut.convert_detections2tracklets was run). Now you can 'refine_tracklets' in the GUI, or run 'deeplabcut.stitch_tracklets'.\n",
      "Processing...  /media/vsridhar/T7/Work/Data/BlackbuckAnnotations/P3/downsampled/SSD7/20230315/SM_Lek1/P3D5/20230315_SM_Lek1_P3D5_DJI_0641.MP4\n"
     ]
    },
    {
     "name": "stderr",
     "output_type": "stream",
     "text": [
      "/home/vsridhar/.local/lib/python3.10/site-packages/deeplabcut/refine_training_dataset/stitch.py:138: FutureWarning: Unlike other reduction functions (e.g. `skew`, `kurtosis`), the default behavior of `mode` typically preserves the axis it acts along. In SciPy 1.11.0, this behavior will change: the default value of `keepdims` will become False, the `axis` over which the statistic is taken will be eliminated, and the value None will no longer be accepted. Set `keepdims` to True or False to avoid this warning.\n",
      "  return mode(self.data[..., 3], axis=None, nan_policy=\"omit\")[0][0]\n",
      "100%|██████████████████████████████████████████████████████████████████████████████████████| 93/93 [00:00<00:00, 6474.52it/s]\n"
     ]
    },
    {
     "name": "stdout",
     "output_type": "stream",
     "text": [
      "Starting to analyze %  /media/vsridhar/T7/Work/Data/BlackbuckAnnotations/P3/downsampled/SSD7/20230315/SM_Lek1/P3D5/20230315_SM_Lek1_P3D5_DJI_0644.MP4\n",
      "Loading  /media/vsridhar/T7/Work/Data/BlackbuckAnnotations/P3/downsampled/SSD7/20230315/SM_Lek1/P3D5/20230315_SM_Lek1_P3D5_DJI_0644.MP4\n",
      "Duration of video [s]:  193.66 , recorded with  29.97 fps!\n",
      "Overall # of frames:  5804  found with (before cropping) frame dimensions:  1824 1026\n",
      "Starting to extract posture from the video(s) with batchsize: 8\n"
     ]
    },
    {
     "name": "stderr",
     "output_type": "stream",
     "text": [
      "100%|████████████████████████████████████████████████████████████████████████████████████| 5804/5804 [04:34<00:00, 21.16it/s]\n"
     ]
    },
    {
     "name": "stdout",
     "output_type": "stream",
     "text": [
      "Video Analyzed. Saving results in /home/vsridhar/DATA/DeepLabCut/projects/07_TerritoryDetectionP3-Vivek-2023-08-18/output/SSD7/20230315/SM_Lek1/P3D5...\n",
      "Using snapshot-50000 for model /home/vsridhar/DATA/DeepLabCut/projects/07_TerritoryDetectionP3-Vivek-2023-08-18/dlc-models/iteration-0/07_TerritoryDetectionP3Aug18-trainset90shuffle1\n",
      "Processing...  /media/vsridhar/T7/Work/Data/BlackbuckAnnotations/P3/downsampled/SSD7/20230315/SM_Lek1/P3D5/20230315_SM_Lek1_P3D5_DJI_0644.MP4\n",
      "Analyzing /home/vsridhar/DATA/DeepLabCut/projects/07_TerritoryDetectionP3-Vivek-2023-08-18/output/SSD7/20230315/SM_Lek1/P3D5/20230315_SM_Lek1_P3D5_DJI_0644DLC_dlcrnetms5_07_TerritoryDetectionP3Aug18shuffle1_50000.h5\n"
     ]
    },
    {
     "name": "stderr",
     "output_type": "stream",
     "text": [
      "100%|███████████████████████████████████████████████████████████████████████████████████| 5804/5804 [00:09<00:00, 632.31it/s]\n",
      "5804it [00:16, 355.59it/s]\n"
     ]
    },
    {
     "name": "stdout",
     "output_type": "stream",
     "text": [
      "The tracklets were created (i.e., under the hood deeplabcut.convert_detections2tracklets was run). Now you can 'refine_tracklets' in the GUI, or run 'deeplabcut.stitch_tracklets'.\n",
      "Processing...  /media/vsridhar/T7/Work/Data/BlackbuckAnnotations/P3/downsampled/SSD7/20230315/SM_Lek1/P3D5/20230315_SM_Lek1_P3D5_DJI_0644.MP4\n"
     ]
    },
    {
     "name": "stderr",
     "output_type": "stream",
     "text": [
      "/home/vsridhar/.local/lib/python3.10/site-packages/deeplabcut/refine_training_dataset/stitch.py:138: FutureWarning: Unlike other reduction functions (e.g. `skew`, `kurtosis`), the default behavior of `mode` typically preserves the axis it acts along. In SciPy 1.11.0, this behavior will change: the default value of `keepdims` will become False, the `axis` over which the statistic is taken will be eliminated, and the value None will no longer be accepted. Set `keepdims` to True or False to avoid this warning.\n",
      "  return mode(self.data[..., 3], axis=None, nan_policy=\"omit\")[0][0]\n",
      "100%|██████████████████████████████████████████████████████████████████████████████████████| 81/81 [00:00<00:00, 3866.38it/s]\n"
     ]
    },
    {
     "name": "stdout",
     "output_type": "stream",
     "text": [
      "Starting to analyze %  /media/vsridhar/T7/Work/Data/BlackbuckAnnotations/P3/downsampled/SSD7/20230315/SM_Lek1/P3D5/20230315_SM_Lek1_P3D5_DJI_0654.MP4\n",
      "Loading  /media/vsridhar/T7/Work/Data/BlackbuckAnnotations/P3/downsampled/SSD7/20230315/SM_Lek1/P3D5/20230315_SM_Lek1_P3D5_DJI_0654.MP4\n",
      "Duration of video [s]:  193.59 , recorded with  29.97 fps!\n",
      "Overall # of frames:  5802  found with (before cropping) frame dimensions:  1824 1026\n",
      "Starting to extract posture from the video(s) with batchsize: 8\n"
     ]
    },
    {
     "name": "stderr",
     "output_type": "stream",
     "text": [
      "100%|████████████████████████████████████████████████████████████████████████████████████| 5802/5802 [04:34<00:00, 21.17it/s]\n"
     ]
    },
    {
     "name": "stdout",
     "output_type": "stream",
     "text": [
      "Video Analyzed. Saving results in /home/vsridhar/DATA/DeepLabCut/projects/07_TerritoryDetectionP3-Vivek-2023-08-18/output/SSD7/20230315/SM_Lek1/P3D5...\n",
      "Using snapshot-50000 for model /home/vsridhar/DATA/DeepLabCut/projects/07_TerritoryDetectionP3-Vivek-2023-08-18/dlc-models/iteration-0/07_TerritoryDetectionP3Aug18-trainset90shuffle1\n",
      "Processing...  /media/vsridhar/T7/Work/Data/BlackbuckAnnotations/P3/downsampled/SSD7/20230315/SM_Lek1/P3D5/20230315_SM_Lek1_P3D5_DJI_0654.MP4\n",
      "Analyzing /home/vsridhar/DATA/DeepLabCut/projects/07_TerritoryDetectionP3-Vivek-2023-08-18/output/SSD7/20230315/SM_Lek1/P3D5/20230315_SM_Lek1_P3D5_DJI_0654DLC_dlcrnetms5_07_TerritoryDetectionP3Aug18shuffle1_50000.h5\n"
     ]
    },
    {
     "name": "stderr",
     "output_type": "stream",
     "text": [
      "100%|███████████████████████████████████████████████████████████████████████████████████| 5802/5802 [00:09<00:00, 603.01it/s]\n",
      "5802it [00:16, 346.76it/s]\n"
     ]
    },
    {
     "name": "stdout",
     "output_type": "stream",
     "text": [
      "The tracklets were created (i.e., under the hood deeplabcut.convert_detections2tracklets was run). Now you can 'refine_tracklets' in the GUI, or run 'deeplabcut.stitch_tracklets'.\n",
      "Processing...  /media/vsridhar/T7/Work/Data/BlackbuckAnnotations/P3/downsampled/SSD7/20230315/SM_Lek1/P3D5/20230315_SM_Lek1_P3D5_DJI_0654.MP4\n"
     ]
    },
    {
     "name": "stderr",
     "output_type": "stream",
     "text": [
      "/home/vsridhar/.local/lib/python3.10/site-packages/deeplabcut/refine_training_dataset/stitch.py:138: FutureWarning: Unlike other reduction functions (e.g. `skew`, `kurtosis`), the default behavior of `mode` typically preserves the axis it acts along. In SciPy 1.11.0, this behavior will change: the default value of `keepdims` will become False, the `axis` over which the statistic is taken will be eliminated, and the value None will no longer be accepted. Set `keepdims` to True or False to avoid this warning.\n",
      "  return mode(self.data[..., 3], axis=None, nan_policy=\"omit\")[0][0]\n",
      "100%|████████████████████████████████████████████████████████████████████████████████████| 121/121 [00:00<00:00, 3520.37it/s]\n"
     ]
    },
    {
     "name": "stdout",
     "output_type": "stream",
     "text": [
      "Starting to analyze %  /media/vsridhar/T7/Work/Data/BlackbuckAnnotations/P3/downsampled/SSD7/20230315/SM_Lek1/P3D5/20230315_SM_Lek1_P3D5_DJI_0651.MP4\n",
      "Loading  /media/vsridhar/T7/Work/Data/BlackbuckAnnotations/P3/downsampled/SSD7/20230315/SM_Lek1/P3D5/20230315_SM_Lek1_P3D5_DJI_0651.MP4\n",
      "Duration of video [s]:  193.99 , recorded with  29.97 fps!\n",
      "Overall # of frames:  5814  found with (before cropping) frame dimensions:  1824 1026\n",
      "Starting to extract posture from the video(s) with batchsize: 8\n"
     ]
    },
    {
     "name": "stderr",
     "output_type": "stream",
     "text": [
      "100%|████████████████████████████████████████████████████████████████████████████████████| 5814/5814 [04:32<00:00, 21.31it/s]\n"
     ]
    },
    {
     "name": "stdout",
     "output_type": "stream",
     "text": [
      "Video Analyzed. Saving results in /home/vsridhar/DATA/DeepLabCut/projects/07_TerritoryDetectionP3-Vivek-2023-08-18/output/SSD7/20230315/SM_Lek1/P3D5...\n",
      "Using snapshot-50000 for model /home/vsridhar/DATA/DeepLabCut/projects/07_TerritoryDetectionP3-Vivek-2023-08-18/dlc-models/iteration-0/07_TerritoryDetectionP3Aug18-trainset90shuffle1\n",
      "Processing...  /media/vsridhar/T7/Work/Data/BlackbuckAnnotations/P3/downsampled/SSD7/20230315/SM_Lek1/P3D5/20230315_SM_Lek1_P3D5_DJI_0651.MP4\n",
      "Analyzing /home/vsridhar/DATA/DeepLabCut/projects/07_TerritoryDetectionP3-Vivek-2023-08-18/output/SSD7/20230315/SM_Lek1/P3D5/20230315_SM_Lek1_P3D5_DJI_0651DLC_dlcrnetms5_07_TerritoryDetectionP3Aug18shuffle1_50000.h5\n"
     ]
    },
    {
     "name": "stderr",
     "output_type": "stream",
     "text": [
      "100%|███████████████████████████████████████████████████████████████████████████████████| 5814/5814 [00:07<00:00, 764.22it/s]\n",
      "5814it [00:14, 407.64it/s]\n"
     ]
    },
    {
     "name": "stdout",
     "output_type": "stream",
     "text": [
      "The tracklets were created (i.e., under the hood deeplabcut.convert_detections2tracklets was run). Now you can 'refine_tracklets' in the GUI, or run 'deeplabcut.stitch_tracklets'.\n",
      "Processing...  /media/vsridhar/T7/Work/Data/BlackbuckAnnotations/P3/downsampled/SSD7/20230315/SM_Lek1/P3D5/20230315_SM_Lek1_P3D5_DJI_0651.MP4\n"
     ]
    },
    {
     "name": "stderr",
     "output_type": "stream",
     "text": [
      "/home/vsridhar/.local/lib/python3.10/site-packages/deeplabcut/refine_training_dataset/stitch.py:138: FutureWarning: Unlike other reduction functions (e.g. `skew`, `kurtosis`), the default behavior of `mode` typically preserves the axis it acts along. In SciPy 1.11.0, this behavior will change: the default value of `keepdims` will become False, the `axis` over which the statistic is taken will be eliminated, and the value None will no longer be accepted. Set `keepdims` to True or False to avoid this warning.\n",
      "  return mode(self.data[..., 3], axis=None, nan_policy=\"omit\")[0][0]\n",
      "100%|██████████████████████████████████████████████████████████████████████████████████████| 85/85 [00:00<00:00, 5861.72it/s]\n"
     ]
    },
    {
     "name": "stdout",
     "output_type": "stream",
     "text": [
      "Starting to analyze %  /media/vsridhar/T7/Work/Data/BlackbuckAnnotations/P3/downsampled/SSD7/20230315/SM_Lek1/P3D5/20230315_SM_Lek1_P3D5_DJI_0643.MP4\n",
      "Loading  /media/vsridhar/T7/Work/Data/BlackbuckAnnotations/P3/downsampled/SSD7/20230315/SM_Lek1/P3D5/20230315_SM_Lek1_P3D5_DJI_0643.MP4\n",
      "Duration of video [s]:  148.55 , recorded with  29.97 fps!\n",
      "Overall # of frames:  4452  found with (before cropping) frame dimensions:  1824 1026\n",
      "Starting to extract posture from the video(s) with batchsize: 8\n"
     ]
    },
    {
     "name": "stderr",
     "output_type": "stream",
     "text": [
      "100%|████████████████████████████████████████████████████████████████████████████████████| 4452/4452 [03:29<00:00, 21.21it/s]\n"
     ]
    },
    {
     "name": "stdout",
     "output_type": "stream",
     "text": [
      "Video Analyzed. Saving results in /home/vsridhar/DATA/DeepLabCut/projects/07_TerritoryDetectionP3-Vivek-2023-08-18/output/SSD7/20230315/SM_Lek1/P3D5...\n",
      "Using snapshot-50000 for model /home/vsridhar/DATA/DeepLabCut/projects/07_TerritoryDetectionP3-Vivek-2023-08-18/dlc-models/iteration-0/07_TerritoryDetectionP3Aug18-trainset90shuffle1\n",
      "Processing...  /media/vsridhar/T7/Work/Data/BlackbuckAnnotations/P3/downsampled/SSD7/20230315/SM_Lek1/P3D5/20230315_SM_Lek1_P3D5_DJI_0643.MP4\n",
      "Analyzing /home/vsridhar/DATA/DeepLabCut/projects/07_TerritoryDetectionP3-Vivek-2023-08-18/output/SSD7/20230315/SM_Lek1/P3D5/20230315_SM_Lek1_P3D5_DJI_0643DLC_dlcrnetms5_07_TerritoryDetectionP3Aug18shuffle1_50000.h5\n"
     ]
    },
    {
     "name": "stderr",
     "output_type": "stream",
     "text": [
      "100%|███████████████████████████████████████████████████████████████████████████████████| 4452/4452 [00:06<00:00, 673.26it/s]\n",
      "4452it [00:12, 370.56it/s]\n"
     ]
    },
    {
     "name": "stdout",
     "output_type": "stream",
     "text": [
      "The tracklets were created (i.e., under the hood deeplabcut.convert_detections2tracklets was run). Now you can 'refine_tracklets' in the GUI, or run 'deeplabcut.stitch_tracklets'.\n",
      "Processing...  /media/vsridhar/T7/Work/Data/BlackbuckAnnotations/P3/downsampled/SSD7/20230315/SM_Lek1/P3D5/20230315_SM_Lek1_P3D5_DJI_0643.MP4\n"
     ]
    },
    {
     "name": "stderr",
     "output_type": "stream",
     "text": [
      "/home/vsridhar/.local/lib/python3.10/site-packages/deeplabcut/refine_training_dataset/stitch.py:138: FutureWarning: Unlike other reduction functions (e.g. `skew`, `kurtosis`), the default behavior of `mode` typically preserves the axis it acts along. In SciPy 1.11.0, this behavior will change: the default value of `keepdims` will become False, the `axis` over which the statistic is taken will be eliminated, and the value None will no longer be accepted. Set `keepdims` to True or False to avoid this warning.\n",
      "  return mode(self.data[..., 3], axis=None, nan_policy=\"omit\")[0][0]\n",
      "100%|██████████████████████████████████████████████████████████████████████████████████████| 72/72 [00:00<00:00, 8825.47it/s]\n"
     ]
    },
    {
     "name": "stdout",
     "output_type": "stream",
     "text": [
      "Starting to analyze %  /media/vsridhar/T7/Work/Data/BlackbuckAnnotations/P3/downsampled/SSD7/20230315/SM_Lek1/P3D5/20230315_SM_Lek1_P3D5_DJI_0649.MP4\n",
      "Loading  /media/vsridhar/T7/Work/Data/BlackbuckAnnotations/P3/downsampled/SSD7/20230315/SM_Lek1/P3D5/20230315_SM_Lek1_P3D5_DJI_0649.MP4\n",
      "Duration of video [s]:  193.66 , recorded with  29.97 fps!\n",
      "Overall # of frames:  5804  found with (before cropping) frame dimensions:  1824 1026\n",
      "Starting to extract posture from the video(s) with batchsize: 8\n"
     ]
    },
    {
     "name": "stderr",
     "output_type": "stream",
     "text": [
      "100%|████████████████████████████████████████████████████████████████████████████████████| 5804/5804 [04:36<00:00, 21.02it/s]\n"
     ]
    },
    {
     "name": "stdout",
     "output_type": "stream",
     "text": [
      "Video Analyzed. Saving results in /home/vsridhar/DATA/DeepLabCut/projects/07_TerritoryDetectionP3-Vivek-2023-08-18/output/SSD7/20230315/SM_Lek1/P3D5...\n",
      "Using snapshot-50000 for model /home/vsridhar/DATA/DeepLabCut/projects/07_TerritoryDetectionP3-Vivek-2023-08-18/dlc-models/iteration-0/07_TerritoryDetectionP3Aug18-trainset90shuffle1\n",
      "Processing...  /media/vsridhar/T7/Work/Data/BlackbuckAnnotations/P3/downsampled/SSD7/20230315/SM_Lek1/P3D5/20230315_SM_Lek1_P3D5_DJI_0649.MP4\n",
      "Analyzing /home/vsridhar/DATA/DeepLabCut/projects/07_TerritoryDetectionP3-Vivek-2023-08-18/output/SSD7/20230315/SM_Lek1/P3D5/20230315_SM_Lek1_P3D5_DJI_0649DLC_dlcrnetms5_07_TerritoryDetectionP3Aug18shuffle1_50000.h5\n"
     ]
    },
    {
     "name": "stderr",
     "output_type": "stream",
     "text": [
      "100%|███████████████████████████████████████████████████████████████████████████████████| 5804/5804 [00:09<00:00, 613.24it/s]\n",
      "5804it [00:16, 355.54it/s]\n"
     ]
    },
    {
     "name": "stdout",
     "output_type": "stream",
     "text": [
      "The tracklets were created (i.e., under the hood deeplabcut.convert_detections2tracklets was run). Now you can 'refine_tracklets' in the GUI, or run 'deeplabcut.stitch_tracklets'.\n",
      "Processing...  /media/vsridhar/T7/Work/Data/BlackbuckAnnotations/P3/downsampled/SSD7/20230315/SM_Lek1/P3D5/20230315_SM_Lek1_P3D5_DJI_0649.MP4\n"
     ]
    },
    {
     "name": "stderr",
     "output_type": "stream",
     "text": [
      "/home/vsridhar/.local/lib/python3.10/site-packages/deeplabcut/refine_training_dataset/stitch.py:138: FutureWarning: Unlike other reduction functions (e.g. `skew`, `kurtosis`), the default behavior of `mode` typically preserves the axis it acts along. In SciPy 1.11.0, this behavior will change: the default value of `keepdims` will become False, the `axis` over which the statistic is taken will be eliminated, and the value None will no longer be accepted. Set `keepdims` to True or False to avoid this warning.\n",
      "  return mode(self.data[..., 3], axis=None, nan_policy=\"omit\")[0][0]\n",
      "100%|██████████████████████████████████████████████████████████████████████████████████████| 86/86 [00:00<00:00, 2696.70it/s]\n"
     ]
    },
    {
     "name": "stdout",
     "output_type": "stream",
     "text": [
      "Starting to analyze %  /media/vsridhar/T7/Work/Data/BlackbuckAnnotations/P3/downsampled/SSD7/20230315/SM_Lek1/P3D5/20230315_SM_Lek1_P3D5_DJI_0642.MP4\n",
      "Loading  /media/vsridhar/T7/Work/Data/BlackbuckAnnotations/P3/downsampled/SSD7/20230315/SM_Lek1/P3D5/20230315_SM_Lek1_P3D5_DJI_0642.MP4\n",
      "Duration of video [s]:  193.99 , recorded with  29.97 fps!\n",
      "Overall # of frames:  5814  found with (before cropping) frame dimensions:  1824 1026\n",
      "Starting to extract posture from the video(s) with batchsize: 8\n"
     ]
    },
    {
     "name": "stderr",
     "output_type": "stream",
     "text": [
      "100%|████████████████████████████████████████████████████████████████████████████████████| 5814/5814 [04:33<00:00, 21.25it/s]\n"
     ]
    },
    {
     "name": "stdout",
     "output_type": "stream",
     "text": [
      "Video Analyzed. Saving results in /home/vsridhar/DATA/DeepLabCut/projects/07_TerritoryDetectionP3-Vivek-2023-08-18/output/SSD7/20230315/SM_Lek1/P3D5...\n",
      "Using snapshot-50000 for model /home/vsridhar/DATA/DeepLabCut/projects/07_TerritoryDetectionP3-Vivek-2023-08-18/dlc-models/iteration-0/07_TerritoryDetectionP3Aug18-trainset90shuffle1\n",
      "Processing...  /media/vsridhar/T7/Work/Data/BlackbuckAnnotations/P3/downsampled/SSD7/20230315/SM_Lek1/P3D5/20230315_SM_Lek1_P3D5_DJI_0642.MP4\n",
      "Analyzing /home/vsridhar/DATA/DeepLabCut/projects/07_TerritoryDetectionP3-Vivek-2023-08-18/output/SSD7/20230315/SM_Lek1/P3D5/20230315_SM_Lek1_P3D5_DJI_0642DLC_dlcrnetms5_07_TerritoryDetectionP3Aug18shuffle1_50000.h5\n"
     ]
    },
    {
     "name": "stderr",
     "output_type": "stream",
     "text": [
      "100%|███████████████████████████████████████████████████████████████████████████████████| 5814/5814 [00:08<00:00, 718.15it/s]\n",
      "5814it [00:15, 379.80it/s]\n"
     ]
    },
    {
     "name": "stdout",
     "output_type": "stream",
     "text": [
      "The tracklets were created (i.e., under the hood deeplabcut.convert_detections2tracklets was run). Now you can 'refine_tracklets' in the GUI, or run 'deeplabcut.stitch_tracklets'.\n",
      "Processing...  /media/vsridhar/T7/Work/Data/BlackbuckAnnotations/P3/downsampled/SSD7/20230315/SM_Lek1/P3D5/20230315_SM_Lek1_P3D5_DJI_0642.MP4\n"
     ]
    },
    {
     "name": "stderr",
     "output_type": "stream",
     "text": [
      "/home/vsridhar/.local/lib/python3.10/site-packages/deeplabcut/refine_training_dataset/stitch.py:138: FutureWarning: Unlike other reduction functions (e.g. `skew`, `kurtosis`), the default behavior of `mode` typically preserves the axis it acts along. In SciPy 1.11.0, this behavior will change: the default value of `keepdims` will become False, the `axis` over which the statistic is taken will be eliminated, and the value None will no longer be accepted. Set `keepdims` to True or False to avoid this warning.\n",
      "  return mode(self.data[..., 3], axis=None, nan_policy=\"omit\")[0][0]\n",
      "100%|████████████████████████████████████████████████████████████████████████████████████| 105/105 [00:00<00:00, 4241.93it/s]\n"
     ]
    },
    {
     "name": "stdout",
     "output_type": "stream",
     "text": [
      "Starting to analyze %  /media/vsridhar/T7/Work/Data/BlackbuckAnnotations/P3/downsampled/SSD7/20230315/SM_Lek1/P3D5/20230315_SM_Lek1_P3D5_DJI_0653.MP4\n",
      "Loading  /media/vsridhar/T7/Work/Data/BlackbuckAnnotations/P3/downsampled/SSD7/20230315/SM_Lek1/P3D5/20230315_SM_Lek1_P3D5_DJI_0653.MP4\n",
      "Duration of video [s]:  161.9 , recorded with  29.97 fps!\n",
      "Overall # of frames:  4852  found with (before cropping) frame dimensions:  1824 1026\n",
      "Starting to extract posture from the video(s) with batchsize: 8\n"
     ]
    },
    {
     "name": "stderr",
     "output_type": "stream",
     "text": [
      "100%|████████████████████████████████████████████████████████████████████████████████████| 4852/4852 [03:47<00:00, 21.35it/s]\n"
     ]
    },
    {
     "name": "stdout",
     "output_type": "stream",
     "text": [
      "Video Analyzed. Saving results in /home/vsridhar/DATA/DeepLabCut/projects/07_TerritoryDetectionP3-Vivek-2023-08-18/output/SSD7/20230315/SM_Lek1/P3D5...\n",
      "Using snapshot-50000 for model /home/vsridhar/DATA/DeepLabCut/projects/07_TerritoryDetectionP3-Vivek-2023-08-18/dlc-models/iteration-0/07_TerritoryDetectionP3Aug18-trainset90shuffle1\n",
      "Processing...  /media/vsridhar/T7/Work/Data/BlackbuckAnnotations/P3/downsampled/SSD7/20230315/SM_Lek1/P3D5/20230315_SM_Lek1_P3D5_DJI_0653.MP4\n",
      "Analyzing /home/vsridhar/DATA/DeepLabCut/projects/07_TerritoryDetectionP3-Vivek-2023-08-18/output/SSD7/20230315/SM_Lek1/P3D5/20230315_SM_Lek1_P3D5_DJI_0653DLC_dlcrnetms5_07_TerritoryDetectionP3Aug18shuffle1_50000.h5\n"
     ]
    },
    {
     "name": "stderr",
     "output_type": "stream",
     "text": [
      "100%|███████████████████████████████████████████████████████████████████████████████████| 4852/4852 [00:06<00:00, 778.23it/s]\n",
      "4852it [00:11, 410.71it/s]\n"
     ]
    },
    {
     "name": "stdout",
     "output_type": "stream",
     "text": [
      "The tracklets were created (i.e., under the hood deeplabcut.convert_detections2tracklets was run). Now you can 'refine_tracklets' in the GUI, or run 'deeplabcut.stitch_tracklets'.\n",
      "Processing...  /media/vsridhar/T7/Work/Data/BlackbuckAnnotations/P3/downsampled/SSD7/20230315/SM_Lek1/P3D5/20230315_SM_Lek1_P3D5_DJI_0653.MP4\n"
     ]
    },
    {
     "name": "stderr",
     "output_type": "stream",
     "text": [
      "/home/vsridhar/.local/lib/python3.10/site-packages/deeplabcut/refine_training_dataset/stitch.py:138: FutureWarning: Unlike other reduction functions (e.g. `skew`, `kurtosis`), the default behavior of `mode` typically preserves the axis it acts along. In SciPy 1.11.0, this behavior will change: the default value of `keepdims` will become False, the `axis` over which the statistic is taken will be eliminated, and the value None will no longer be accepted. Set `keepdims` to True or False to avoid this warning.\n",
      "  return mode(self.data[..., 3], axis=None, nan_policy=\"omit\")[0][0]\n",
      "100%|████████████████████████████████████████████████████████████████████████████████████| 129/129 [00:00<00:00, 7733.59it/s]\n"
     ]
    },
    {
     "name": "stdout",
     "output_type": "stream",
     "text": [
      "Starting to analyze %  /media/vsridhar/T7/Work/Data/BlackbuckAnnotations/P3/downsampled/SSD7/20230315/SM_Lek1/P3D5/20230315_SM_Lek1_P3D5_DJI_0639.MP4\n",
      "Loading  /media/vsridhar/T7/Work/Data/BlackbuckAnnotations/P3/downsampled/SSD7/20230315/SM_Lek1/P3D5/20230315_SM_Lek1_P3D5_DJI_0639.MP4\n",
      "Duration of video [s]:  193.73 , recorded with  29.97 fps!\n",
      "Overall # of frames:  5806  found with (before cropping) frame dimensions:  1824 1026\n",
      "Starting to extract posture from the video(s) with batchsize: 8\n"
     ]
    },
    {
     "name": "stderr",
     "output_type": "stream",
     "text": [
      "100%|████████████████████████████████████████████████████████████████████████████████████| 5806/5806 [04:31<00:00, 21.36it/s]\n"
     ]
    },
    {
     "name": "stdout",
     "output_type": "stream",
     "text": [
      "Video Analyzed. Saving results in /home/vsridhar/DATA/DeepLabCut/projects/07_TerritoryDetectionP3-Vivek-2023-08-18/output/SSD7/20230315/SM_Lek1/P3D5...\n",
      "Using snapshot-50000 for model /home/vsridhar/DATA/DeepLabCut/projects/07_TerritoryDetectionP3-Vivek-2023-08-18/dlc-models/iteration-0/07_TerritoryDetectionP3Aug18-trainset90shuffle1\n",
      "Processing...  /media/vsridhar/T7/Work/Data/BlackbuckAnnotations/P3/downsampled/SSD7/20230315/SM_Lek1/P3D5/20230315_SM_Lek1_P3D5_DJI_0639.MP4\n",
      "Analyzing /home/vsridhar/DATA/DeepLabCut/projects/07_TerritoryDetectionP3-Vivek-2023-08-18/output/SSD7/20230315/SM_Lek1/P3D5/20230315_SM_Lek1_P3D5_DJI_0639DLC_dlcrnetms5_07_TerritoryDetectionP3Aug18shuffle1_50000.h5\n"
     ]
    },
    {
     "name": "stderr",
     "output_type": "stream",
     "text": [
      "100%|███████████████████████████████████████████████████████████████████████████████████| 5806/5806 [00:08<00:00, 653.55it/s]\n",
      "5806it [00:14, 399.85it/s]\n"
     ]
    },
    {
     "name": "stdout",
     "output_type": "stream",
     "text": [
      "The tracklets were created (i.e., under the hood deeplabcut.convert_detections2tracklets was run). Now you can 'refine_tracklets' in the GUI, or run 'deeplabcut.stitch_tracklets'.\n",
      "Processing...  /media/vsridhar/T7/Work/Data/BlackbuckAnnotations/P3/downsampled/SSD7/20230315/SM_Lek1/P3D5/20230315_SM_Lek1_P3D5_DJI_0639.MP4\n"
     ]
    },
    {
     "name": "stderr",
     "output_type": "stream",
     "text": [
      "/home/vsridhar/.local/lib/python3.10/site-packages/deeplabcut/refine_training_dataset/stitch.py:138: FutureWarning: Unlike other reduction functions (e.g. `skew`, `kurtosis`), the default behavior of `mode` typically preserves the axis it acts along. In SciPy 1.11.0, this behavior will change: the default value of `keepdims` will become False, the `axis` over which the statistic is taken will be eliminated, and the value None will no longer be accepted. Set `keepdims` to True or False to avoid this warning.\n",
      "  return mode(self.data[..., 3], axis=None, nan_policy=\"omit\")[0][0]\n",
      "100%|████████████████████████████████████████████████████████████████████████████████████| 101/101 [00:00<00:00, 3759.50it/s]\n"
     ]
    },
    {
     "name": "stdout",
     "output_type": "stream",
     "text": [
      "Starting to analyze %  /media/vsridhar/T7/Work/Data/BlackbuckAnnotations/P3/downsampled/SSD7/20230315/SM_Lek1/P3D5/20230315_SM_Lek1_P3D5_DJI_0659.MP4\n",
      "Loading  /media/vsridhar/T7/Work/Data/BlackbuckAnnotations/P3/downsampled/SSD7/20230315/SM_Lek1/P3D5/20230315_SM_Lek1_P3D5_DJI_0659.MP4\n",
      "Duration of video [s]:  2.17 , recorded with  29.97 fps!\n",
      "Overall # of frames:  65  found with (before cropping) frame dimensions:  1824 1026\n",
      "Starting to extract posture from the video(s) with batchsize: 8\n"
     ]
    },
    {
     "name": "stderr",
     "output_type": "stream",
     "text": [
      "100%|████████████████████████████████████████████████████████████████████████████████████████| 65/65 [00:03<00:00, 19.26it/s]\n"
     ]
    },
    {
     "name": "stdout",
     "output_type": "stream",
     "text": [
      "Video Analyzed. Saving results in /home/vsridhar/DATA/DeepLabCut/projects/07_TerritoryDetectionP3-Vivek-2023-08-18/output/SSD7/20230315/SM_Lek1/P3D5...\n",
      "Using snapshot-50000 for model /home/vsridhar/DATA/DeepLabCut/projects/07_TerritoryDetectionP3-Vivek-2023-08-18/dlc-models/iteration-0/07_TerritoryDetectionP3Aug18-trainset90shuffle1\n",
      "Processing...  /media/vsridhar/T7/Work/Data/BlackbuckAnnotations/P3/downsampled/SSD7/20230315/SM_Lek1/P3D5/20230315_SM_Lek1_P3D5_DJI_0659.MP4\n",
      "Analyzing /home/vsridhar/DATA/DeepLabCut/projects/07_TerritoryDetectionP3-Vivek-2023-08-18/output/SSD7/20230315/SM_Lek1/P3D5/20230315_SM_Lek1_P3D5_DJI_0659DLC_dlcrnetms5_07_TerritoryDetectionP3Aug18shuffle1_50000.h5\n"
     ]
    },
    {
     "name": "stderr",
     "output_type": "stream",
     "text": [
      "100%|███████████████████████████████████████████████████████████████████████████████████████| 65/65 [00:00<00:00, 745.91it/s]\n",
      "65it [00:00, 315.31it/s]\n",
      "/home/vsridhar/.local/lib/python3.10/site-packages/deeplabcut/refine_training_dataset/stitch.py:138: FutureWarning: Unlike other reduction functions (e.g. `skew`, `kurtosis`), the default behavior of `mode` typically preserves the axis it acts along. In SciPy 1.11.0, this behavior will change: the default value of `keepdims` will become False, the `axis` over which the statistic is taken will be eliminated, and the value None will no longer be accepted. Set `keepdims` to True or False to avoid this warning.\n",
      "  return mode(self.data[..., 3], axis=None, nan_policy=\"omit\")[0][0]\n"
     ]
    },
    {
     "name": "stdout",
     "output_type": "stream",
     "text": [
      "The tracklets were created (i.e., under the hood deeplabcut.convert_detections2tracklets was run). Now you can 'refine_tracklets' in the GUI, or run 'deeplabcut.stitch_tracklets'.\n",
      "Processing...  /media/vsridhar/T7/Work/Data/BlackbuckAnnotations/P3/downsampled/SSD7/20230315/SM_Lek1/P3D5/20230315_SM_Lek1_P3D5_DJI_0659.MP4\n"
     ]
    },
    {
     "name": "stderr",
     "output_type": "stream",
     "text": [
      "100%|████████████████████████████████████████████████████████████████████████████████████| 24/24 [00:00<00:00, 137894.93it/s]\n",
      "/home/vsridhar/.local/lib/python3.10/site-packages/deeplabcut/refine_training_dataset/stitch.py:690: UserWarning: No optimal solution found. Employing black magic...\n",
      "  warnings.warn(\"No optimal solution found. Employing black magic...\")\n",
      "/home/vsridhar/.local/lib/python3.10/site-packages/deeplabcut/refine_training_dataset/stitch.py:763: UserWarning: Only 24 tracks could be reconstructed.\n",
      "  warnings.warn(f\"Only {len(self.paths)} tracks could be reconstructed.\")\n"
     ]
    },
    {
     "name": "stdout",
     "output_type": "stream",
     "text": [
      "Starting to analyze %  /media/vsridhar/T7/Work/Data/BlackbuckAnnotations/P3/downsampled/SSD7/20230315/SM_Lek1/P3D5/20230315_SM_Lek1_P3D5_DJI_0650.MP4\n",
      "Loading  /media/vsridhar/T7/Work/Data/BlackbuckAnnotations/P3/downsampled/SSD7/20230315/SM_Lek1/P3D5/20230315_SM_Lek1_P3D5_DJI_0650.MP4\n",
      "Duration of video [s]:  194.03 , recorded with  29.97 fps!\n",
      "Overall # of frames:  5815  found with (before cropping) frame dimensions:  1824 1026\n",
      "Starting to extract posture from the video(s) with batchsize: 8\n"
     ]
    },
    {
     "name": "stderr",
     "output_type": "stream",
     "text": [
      "100%|████████████████████████████████████████████████████████████████████████████████████| 5815/5815 [04:32<00:00, 21.37it/s]\n"
     ]
    },
    {
     "name": "stdout",
     "output_type": "stream",
     "text": [
      "Video Analyzed. Saving results in /home/vsridhar/DATA/DeepLabCut/projects/07_TerritoryDetectionP3-Vivek-2023-08-18/output/SSD7/20230315/SM_Lek1/P3D5...\n",
      "Using snapshot-50000 for model /home/vsridhar/DATA/DeepLabCut/projects/07_TerritoryDetectionP3-Vivek-2023-08-18/dlc-models/iteration-0/07_TerritoryDetectionP3Aug18-trainset90shuffle1\n",
      "Processing...  /media/vsridhar/T7/Work/Data/BlackbuckAnnotations/P3/downsampled/SSD7/20230315/SM_Lek1/P3D5/20230315_SM_Lek1_P3D5_DJI_0650.MP4\n",
      "Analyzing /home/vsridhar/DATA/DeepLabCut/projects/07_TerritoryDetectionP3-Vivek-2023-08-18/output/SSD7/20230315/SM_Lek1/P3D5/20230315_SM_Lek1_P3D5_DJI_0650DLC_dlcrnetms5_07_TerritoryDetectionP3Aug18shuffle1_50000.h5\n"
     ]
    },
    {
     "name": "stderr",
     "output_type": "stream",
     "text": [
      "100%|███████████████████████████████████████████████████████████████████████████████████| 5815/5815 [00:07<00:00, 736.59it/s]\n",
      "5815it [00:14, 400.19it/s]\n"
     ]
    },
    {
     "name": "stdout",
     "output_type": "stream",
     "text": [
      "The tracklets were created (i.e., under the hood deeplabcut.convert_detections2tracklets was run). Now you can 'refine_tracklets' in the GUI, or run 'deeplabcut.stitch_tracklets'.\n",
      "Processing...  /media/vsridhar/T7/Work/Data/BlackbuckAnnotations/P3/downsampled/SSD7/20230315/SM_Lek1/P3D5/20230315_SM_Lek1_P3D5_DJI_0650.MP4\n"
     ]
    },
    {
     "name": "stderr",
     "output_type": "stream",
     "text": [
      "/home/vsridhar/.local/lib/python3.10/site-packages/deeplabcut/refine_training_dataset/stitch.py:138: FutureWarning: Unlike other reduction functions (e.g. `skew`, `kurtosis`), the default behavior of `mode` typically preserves the axis it acts along. In SciPy 1.11.0, this behavior will change: the default value of `keepdims` will become False, the `axis` over which the statistic is taken will be eliminated, and the value None will no longer be accepted. Set `keepdims` to True or False to avoid this warning.\n",
      "  return mode(self.data[..., 3], axis=None, nan_policy=\"omit\")[0][0]\n",
      "100%|██████████████████████████████████████████████████████████████████████████████████████| 50/50 [00:00<00:00, 5622.69it/s]\n",
      "/home/vsridhar/.local/lib/python3.10/site-packages/deeplabcut/refine_training_dataset/stitch.py:690: UserWarning: No optimal solution found. Employing black magic...\n",
      "  warnings.warn(\"No optimal solution found. Employing black magic...\")\n",
      "/home/vsridhar/.local/lib/python3.10/site-packages/deeplabcut/refine_training_dataset/stitch.py:763: UserWarning: Only 50 tracks could be reconstructed.\n",
      "  warnings.warn(f\"Only {len(self.paths)} tracks could be reconstructed.\")\n"
     ]
    },
    {
     "name": "stdout",
     "output_type": "stream",
     "text": [
      "Starting to analyze %  /media/vsridhar/T7/Work/Data/BlackbuckAnnotations/P3/downsampled/SSD7/20230315/SM_Lek1/P3D5/20230315_SM_Lek1_P3D5_DJI_0648.MP4\n",
      "Loading  /media/vsridhar/T7/Work/Data/BlackbuckAnnotations/P3/downsampled/SSD7/20230315/SM_Lek1/P3D5/20230315_SM_Lek1_P3D5_DJI_0648.MP4\n",
      "Duration of video [s]:  146.28 , recorded with  29.97 fps!\n",
      "Overall # of frames:  4384  found with (before cropping) frame dimensions:  1824 1026\n",
      "Starting to extract posture from the video(s) with batchsize: 8\n"
     ]
    },
    {
     "name": "stderr",
     "output_type": "stream",
     "text": [
      "100%|████████████████████████████████████████████████████████████████████████████████████| 4384/4384 [03:25<00:00, 21.32it/s]\n"
     ]
    },
    {
     "name": "stdout",
     "output_type": "stream",
     "text": [
      "Video Analyzed. Saving results in /home/vsridhar/DATA/DeepLabCut/projects/07_TerritoryDetectionP3-Vivek-2023-08-18/output/SSD7/20230315/SM_Lek1/P3D5...\n",
      "Using snapshot-50000 for model /home/vsridhar/DATA/DeepLabCut/projects/07_TerritoryDetectionP3-Vivek-2023-08-18/dlc-models/iteration-0/07_TerritoryDetectionP3Aug18-trainset90shuffle1\n",
      "Processing...  /media/vsridhar/T7/Work/Data/BlackbuckAnnotations/P3/downsampled/SSD7/20230315/SM_Lek1/P3D5/20230315_SM_Lek1_P3D5_DJI_0648.MP4\n",
      "Analyzing /home/vsridhar/DATA/DeepLabCut/projects/07_TerritoryDetectionP3-Vivek-2023-08-18/output/SSD7/20230315/SM_Lek1/P3D5/20230315_SM_Lek1_P3D5_DJI_0648DLC_dlcrnetms5_07_TerritoryDetectionP3Aug18shuffle1_50000.h5\n"
     ]
    },
    {
     "name": "stderr",
     "output_type": "stream",
     "text": [
      "100%|███████████████████████████████████████████████████████████████████████████████████| 4384/4384 [00:06<00:00, 725.84it/s]\n",
      "4384it [00:11, 390.76it/s]\n"
     ]
    },
    {
     "name": "stdout",
     "output_type": "stream",
     "text": [
      "The tracklets were created (i.e., under the hood deeplabcut.convert_detections2tracklets was run). Now you can 'refine_tracklets' in the GUI, or run 'deeplabcut.stitch_tracklets'.\n",
      "Processing...  /media/vsridhar/T7/Work/Data/BlackbuckAnnotations/P3/downsampled/SSD7/20230315/SM_Lek1/P3D5/20230315_SM_Lek1_P3D5_DJI_0648.MP4\n"
     ]
    },
    {
     "name": "stderr",
     "output_type": "stream",
     "text": [
      "/home/vsridhar/.local/lib/python3.10/site-packages/deeplabcut/refine_training_dataset/stitch.py:138: FutureWarning: Unlike other reduction functions (e.g. `skew`, `kurtosis`), the default behavior of `mode` typically preserves the axis it acts along. In SciPy 1.11.0, this behavior will change: the default value of `keepdims` will become False, the `axis` over which the statistic is taken will be eliminated, and the value None will no longer be accepted. Set `keepdims` to True or False to avoid this warning.\n",
      "  return mode(self.data[..., 3], axis=None, nan_policy=\"omit\")[0][0]\n",
      "100%|██████████████████████████████████████████████████████████████████████████████████████| 49/49 [00:00<00:00, 8760.11it/s]\n",
      "/home/vsridhar/.local/lib/python3.10/site-packages/deeplabcut/refine_training_dataset/stitch.py:690: UserWarning: No optimal solution found. Employing black magic...\n",
      "  warnings.warn(\"No optimal solution found. Employing black magic...\")\n",
      "/home/vsridhar/.local/lib/python3.10/site-packages/deeplabcut/refine_training_dataset/stitch.py:763: UserWarning: Only 49 tracks could be reconstructed.\n",
      "  warnings.warn(f\"Only {len(self.paths)} tracks could be reconstructed.\")\n",
      "/home/vsridhar/.local/lib/python3.10/site-packages/tensorflow/python/keras/engine/base_layer_v1.py:1694: UserWarning: `layer.apply` is deprecated and will be removed in a future version. Please use `layer.__call__` method instead.\n",
      "  warnings.warn('`layer.apply` is deprecated and '\n",
      "/home/vsridhar/.local/lib/python3.10/site-packages/tf_slim/layers/layers.py:684: UserWarning: `layer.apply` is deprecated and will be removed in a future version. Please use `layer.__call__` method instead.\n",
      "  outputs = layer.apply(inputs, training=is_training)\n"
     ]
    },
    {
     "name": "stdout",
     "output_type": "stream",
     "text": [
      "The videos are analyzed. Time to assemble animals and track 'em... \n",
      " Call 'create_video_with_all_detections' to check multi-animal detection quality before tracking.\n",
      "If the tracking is not satisfactory for some videos, consider expanding the training set. You can use the function 'extract_outlier_frames' to extract a few representative outlier frames.\n",
      "Using snapshot-50000 for model /home/vsridhar/DATA/DeepLabCut/projects/07_TerritoryDetectionP3-Vivek-2023-08-18/dlc-models/iteration-0/07_TerritoryDetectionP3Aug18-trainset90shuffle1\n",
      "Activating extracting of PAFs\n",
      "Analyzing all the videos in the directory...\n",
      "Starting to analyze %  /media/vsridhar/T7/Work/Data/BlackbuckAnnotations/P3/downsampled/SSD7/20230315/SM_Lek1/P3D6/20230315_SM_Lek1_P3D6_DJI_0993.MP4\n",
      "Loading  /media/vsridhar/T7/Work/Data/BlackbuckAnnotations/P3/downsampled/SSD7/20230315/SM_Lek1/P3D6/20230315_SM_Lek1_P3D6_DJI_0993.MP4\n",
      "Duration of video [s]:  193.66 , recorded with  29.97 fps!\n",
      "Overall # of frames:  5804  found with (before cropping) frame dimensions:  1824 1026\n",
      "Starting to extract posture from the video(s) with batchsize: 8\n"
     ]
    },
    {
     "name": "stderr",
     "output_type": "stream",
     "text": [
      "100%|████████████████████████████████████████████████████████████████████████████████████| 5804/5804 [04:34<00:00, 21.11it/s]\n"
     ]
    },
    {
     "name": "stdout",
     "output_type": "stream",
     "text": [
      "Video Analyzed. Saving results in /home/vsridhar/DATA/DeepLabCut/projects/07_TerritoryDetectionP3-Vivek-2023-08-18/output/SSD7/20230315/SM_Lek1/P3D6...\n",
      "Using snapshot-50000 for model /home/vsridhar/DATA/DeepLabCut/projects/07_TerritoryDetectionP3-Vivek-2023-08-18/dlc-models/iteration-0/07_TerritoryDetectionP3Aug18-trainset90shuffle1\n",
      "Processing...  /media/vsridhar/T7/Work/Data/BlackbuckAnnotations/P3/downsampled/SSD7/20230315/SM_Lek1/P3D6/20230315_SM_Lek1_P3D6_DJI_0993.MP4\n",
      "Analyzing /home/vsridhar/DATA/DeepLabCut/projects/07_TerritoryDetectionP3-Vivek-2023-08-18/output/SSD7/20230315/SM_Lek1/P3D6/20230315_SM_Lek1_P3D6_DJI_0993DLC_dlcrnetms5_07_TerritoryDetectionP3Aug18shuffle1_50000.h5\n"
     ]
    },
    {
     "name": "stderr",
     "output_type": "stream",
     "text": [
      "100%|███████████████████████████████████████████████████████████████████████████████████| 5804/5804 [00:09<00:00, 624.70it/s]\n",
      "5804it [00:16, 349.24it/s]\n"
     ]
    },
    {
     "name": "stdout",
     "output_type": "stream",
     "text": [
      "The tracklets were created (i.e., under the hood deeplabcut.convert_detections2tracklets was run). Now you can 'refine_tracklets' in the GUI, or run 'deeplabcut.stitch_tracklets'.\n",
      "Processing...  /media/vsridhar/T7/Work/Data/BlackbuckAnnotations/P3/downsampled/SSD7/20230315/SM_Lek1/P3D6/20230315_SM_Lek1_P3D6_DJI_0993.MP4\n"
     ]
    },
    {
     "name": "stderr",
     "output_type": "stream",
     "text": [
      "/home/vsridhar/.local/lib/python3.10/site-packages/deeplabcut/refine_training_dataset/stitch.py:138: FutureWarning: Unlike other reduction functions (e.g. `skew`, `kurtosis`), the default behavior of `mode` typically preserves the axis it acts along. In SciPy 1.11.0, this behavior will change: the default value of `keepdims` will become False, the `axis` over which the statistic is taken will be eliminated, and the value None will no longer be accepted. Set `keepdims` to True or False to avoid this warning.\n",
      "  return mode(self.data[..., 3], axis=None, nan_policy=\"omit\")[0][0]\n",
      "100%|██████████████████████████████████████████████████████████████████████████████████████| 84/84 [00:00<00:00, 2741.52it/s]\n"
     ]
    },
    {
     "name": "stdout",
     "output_type": "stream",
     "text": [
      "Starting to analyze %  /media/vsridhar/T7/Work/Data/BlackbuckAnnotations/P3/downsampled/SSD7/20230315/SM_Lek1/P3D6/20230315_SM_Lek1_P3D6_DJI_0996.MP4\n",
      "Loading  /media/vsridhar/T7/Work/Data/BlackbuckAnnotations/P3/downsampled/SSD7/20230315/SM_Lek1/P3D6/20230315_SM_Lek1_P3D6_DJI_0996.MP4\n",
      "Duration of video [s]:  193.96 , recorded with  29.97 fps!\n",
      "Overall # of frames:  5813  found with (before cropping) frame dimensions:  1824 1026\n",
      "Starting to extract posture from the video(s) with batchsize: 8\n"
     ]
    },
    {
     "name": "stderr",
     "output_type": "stream",
     "text": [
      "100%|████████████████████████████████████████████████████████████████████████████████████| 5813/5813 [04:32<00:00, 21.30it/s]\n"
     ]
    },
    {
     "name": "stdout",
     "output_type": "stream",
     "text": [
      "Video Analyzed. Saving results in /home/vsridhar/DATA/DeepLabCut/projects/07_TerritoryDetectionP3-Vivek-2023-08-18/output/SSD7/20230315/SM_Lek1/P3D6...\n",
      "Using snapshot-50000 for model /home/vsridhar/DATA/DeepLabCut/projects/07_TerritoryDetectionP3-Vivek-2023-08-18/dlc-models/iteration-0/07_TerritoryDetectionP3Aug18-trainset90shuffle1\n",
      "Processing...  /media/vsridhar/T7/Work/Data/BlackbuckAnnotations/P3/downsampled/SSD7/20230315/SM_Lek1/P3D6/20230315_SM_Lek1_P3D6_DJI_0996.MP4\n",
      "Analyzing /home/vsridhar/DATA/DeepLabCut/projects/07_TerritoryDetectionP3-Vivek-2023-08-18/output/SSD7/20230315/SM_Lek1/P3D6/20230315_SM_Lek1_P3D6_DJI_0996DLC_dlcrnetms5_07_TerritoryDetectionP3Aug18shuffle1_50000.h5\n"
     ]
    },
    {
     "name": "stderr",
     "output_type": "stream",
     "text": [
      "100%|███████████████████████████████████████████████████████████████████████████████████| 5813/5813 [00:07<00:00, 739.87it/s]\n",
      "5813it [00:14, 395.51it/s]\n"
     ]
    },
    {
     "name": "stdout",
     "output_type": "stream",
     "text": [
      "The tracklets were created (i.e., under the hood deeplabcut.convert_detections2tracklets was run). Now you can 'refine_tracklets' in the GUI, or run 'deeplabcut.stitch_tracklets'.\n",
      "Processing...  /media/vsridhar/T7/Work/Data/BlackbuckAnnotations/P3/downsampled/SSD7/20230315/SM_Lek1/P3D6/20230315_SM_Lek1_P3D6_DJI_0996.MP4\n"
     ]
    },
    {
     "name": "stderr",
     "output_type": "stream",
     "text": [
      "/home/vsridhar/.local/lib/python3.10/site-packages/deeplabcut/refine_training_dataset/stitch.py:138: FutureWarning: Unlike other reduction functions (e.g. `skew`, `kurtosis`), the default behavior of `mode` typically preserves the axis it acts along. In SciPy 1.11.0, this behavior will change: the default value of `keepdims` will become False, the `axis` over which the statistic is taken will be eliminated, and the value None will no longer be accepted. Set `keepdims` to True or False to avoid this warning.\n",
      "  return mode(self.data[..., 3], axis=None, nan_policy=\"omit\")[0][0]\n",
      "100%|██████████████████████████████████████████████████████████████████████████████████████| 46/46 [00:00<00:00, 9526.86it/s]\n",
      "/home/vsridhar/.local/lib/python3.10/site-packages/deeplabcut/refine_training_dataset/stitch.py:690: UserWarning: No optimal solution found. Employing black magic...\n",
      "  warnings.warn(\"No optimal solution found. Employing black magic...\")\n",
      "/home/vsridhar/.local/lib/python3.10/site-packages/deeplabcut/refine_training_dataset/stitch.py:763: UserWarning: Only 46 tracks could be reconstructed.\n",
      "  warnings.warn(f\"Only {len(self.paths)} tracks could be reconstructed.\")\n"
     ]
    },
    {
     "name": "stdout",
     "output_type": "stream",
     "text": [
      "Starting to analyze %  /media/vsridhar/T7/Work/Data/BlackbuckAnnotations/P3/downsampled/SSD7/20230315/SM_Lek1/P3D6/20230315_SM_Lek1_P3D6_DJI_0006.MP4\n",
      "Loading  /media/vsridhar/T7/Work/Data/BlackbuckAnnotations/P3/downsampled/SSD7/20230315/SM_Lek1/P3D6/20230315_SM_Lek1_P3D6_DJI_0006.MP4\n",
      "Duration of video [s]:  193.63 , recorded with  29.97 fps!\n",
      "Overall # of frames:  5803  found with (before cropping) frame dimensions:  1824 1026\n",
      "Starting to extract posture from the video(s) with batchsize: 8\n"
     ]
    },
    {
     "name": "stderr",
     "output_type": "stream",
     "text": [
      "100%|████████████████████████████████████████████████████████████████████████████████████| 5803/5803 [04:35<00:00, 21.10it/s]\n"
     ]
    },
    {
     "name": "stdout",
     "output_type": "stream",
     "text": [
      "Video Analyzed. Saving results in /home/vsridhar/DATA/DeepLabCut/projects/07_TerritoryDetectionP3-Vivek-2023-08-18/output/SSD7/20230315/SM_Lek1/P3D6...\n",
      "Using snapshot-50000 for model /home/vsridhar/DATA/DeepLabCut/projects/07_TerritoryDetectionP3-Vivek-2023-08-18/dlc-models/iteration-0/07_TerritoryDetectionP3Aug18-trainset90shuffle1\n",
      "Processing...  /media/vsridhar/T7/Work/Data/BlackbuckAnnotations/P3/downsampled/SSD7/20230315/SM_Lek1/P3D6/20230315_SM_Lek1_P3D6_DJI_0006.MP4\n",
      "Analyzing /home/vsridhar/DATA/DeepLabCut/projects/07_TerritoryDetectionP3-Vivek-2023-08-18/output/SSD7/20230315/SM_Lek1/P3D6/20230315_SM_Lek1_P3D6_DJI_0006DLC_dlcrnetms5_07_TerritoryDetectionP3Aug18shuffle1_50000.h5\n"
     ]
    },
    {
     "name": "stderr",
     "output_type": "stream",
     "text": [
      "100%|███████████████████████████████████████████████████████████████████████████████████| 5803/5803 [00:08<00:00, 671.94it/s]\n",
      "5803it [00:16, 358.02it/s]\n"
     ]
    },
    {
     "name": "stdout",
     "output_type": "stream",
     "text": [
      "The tracklets were created (i.e., under the hood deeplabcut.convert_detections2tracklets was run). Now you can 'refine_tracklets' in the GUI, or run 'deeplabcut.stitch_tracklets'.\n",
      "Processing...  /media/vsridhar/T7/Work/Data/BlackbuckAnnotations/P3/downsampled/SSD7/20230315/SM_Lek1/P3D6/20230315_SM_Lek1_P3D6_DJI_0006.MP4\n"
     ]
    },
    {
     "name": "stderr",
     "output_type": "stream",
     "text": [
      "/home/vsridhar/.local/lib/python3.10/site-packages/deeplabcut/refine_training_dataset/stitch.py:138: FutureWarning: Unlike other reduction functions (e.g. `skew`, `kurtosis`), the default behavior of `mode` typically preserves the axis it acts along. In SciPy 1.11.0, this behavior will change: the default value of `keepdims` will become False, the `axis` over which the statistic is taken will be eliminated, and the value None will no longer be accepted. Set `keepdims` to True or False to avoid this warning.\n",
      "  return mode(self.data[..., 3], axis=None, nan_policy=\"omit\")[0][0]\n",
      "100%|████████████████████████████████████████████████████████████████████████████████████| 123/123 [00:00<00:00, 1355.67it/s]\n"
     ]
    },
    {
     "name": "stdout",
     "output_type": "stream",
     "text": [
      "Starting to analyze %  /media/vsridhar/T7/Work/Data/BlackbuckAnnotations/P3/downsampled/SSD7/20230315/SM_Lek1/P3D6/20230315_SM_Lek1_P3D6_DJI_0997.MP4\n",
      "Loading  /media/vsridhar/T7/Work/Data/BlackbuckAnnotations/P3/downsampled/SSD7/20230315/SM_Lek1/P3D6/20230315_SM_Lek1_P3D6_DJI_0997.MP4\n",
      "Duration of video [s]:  193.99 , recorded with  29.97 fps!\n",
      "Overall # of frames:  5814  found with (before cropping) frame dimensions:  1824 1026\n",
      "Starting to extract posture from the video(s) with batchsize: 8\n"
     ]
    },
    {
     "name": "stderr",
     "output_type": "stream",
     "text": [
      "100%|████████████████████████████████████████████████████████████████████████████████████| 5814/5814 [04:30<00:00, 21.46it/s]\n"
     ]
    },
    {
     "name": "stdout",
     "output_type": "stream",
     "text": [
      "Video Analyzed. Saving results in /home/vsridhar/DATA/DeepLabCut/projects/07_TerritoryDetectionP3-Vivek-2023-08-18/output/SSD7/20230315/SM_Lek1/P3D6...\n",
      "Using snapshot-50000 for model /home/vsridhar/DATA/DeepLabCut/projects/07_TerritoryDetectionP3-Vivek-2023-08-18/dlc-models/iteration-0/07_TerritoryDetectionP3Aug18-trainset90shuffle1\n",
      "Processing...  /media/vsridhar/T7/Work/Data/BlackbuckAnnotations/P3/downsampled/SSD7/20230315/SM_Lek1/P3D6/20230315_SM_Lek1_P3D6_DJI_0997.MP4\n",
      "Analyzing /home/vsridhar/DATA/DeepLabCut/projects/07_TerritoryDetectionP3-Vivek-2023-08-18/output/SSD7/20230315/SM_Lek1/P3D6/20230315_SM_Lek1_P3D6_DJI_0997DLC_dlcrnetms5_07_TerritoryDetectionP3Aug18shuffle1_50000.h5\n"
     ]
    },
    {
     "name": "stderr",
     "output_type": "stream",
     "text": [
      "100%|███████████████████████████████████████████████████████████████████████████████████| 5814/5814 [00:07<00:00, 770.15it/s]\n",
      "5814it [00:14, 406.42it/s]\n"
     ]
    },
    {
     "name": "stdout",
     "output_type": "stream",
     "text": [
      "The tracklets were created (i.e., under the hood deeplabcut.convert_detections2tracklets was run). Now you can 'refine_tracklets' in the GUI, or run 'deeplabcut.stitch_tracklets'.\n",
      "Processing...  /media/vsridhar/T7/Work/Data/BlackbuckAnnotations/P3/downsampled/SSD7/20230315/SM_Lek1/P3D6/20230315_SM_Lek1_P3D6_DJI_0997.MP4\n"
     ]
    },
    {
     "name": "stderr",
     "output_type": "stream",
     "text": [
      "/home/vsridhar/.local/lib/python3.10/site-packages/deeplabcut/refine_training_dataset/stitch.py:138: FutureWarning: Unlike other reduction functions (e.g. `skew`, `kurtosis`), the default behavior of `mode` typically preserves the axis it acts along. In SciPy 1.11.0, this behavior will change: the default value of `keepdims` will become False, the `axis` over which the statistic is taken will be eliminated, and the value None will no longer be accepted. Set `keepdims` to True or False to avoid this warning.\n",
      "  return mode(self.data[..., 3], axis=None, nan_policy=\"omit\")[0][0]\n",
      "100%|█████████████████████████████████████████████████████████████████████████████████████| 28/28 [00:00<00:00, 31913.18it/s]\n",
      "/home/vsridhar/.local/lib/python3.10/site-packages/deeplabcut/refine_training_dataset/stitch.py:690: UserWarning: No optimal solution found. Employing black magic...\n",
      "  warnings.warn(\"No optimal solution found. Employing black magic...\")\n",
      "/home/vsridhar/.local/lib/python3.10/site-packages/deeplabcut/refine_training_dataset/stitch.py:763: UserWarning: Only 28 tracks could be reconstructed.\n",
      "  warnings.warn(f\"Only {len(self.paths)} tracks could be reconstructed.\")\n"
     ]
    },
    {
     "name": "stdout",
     "output_type": "stream",
     "text": [
      "Starting to analyze %  /media/vsridhar/T7/Work/Data/BlackbuckAnnotations/P3/downsampled/SSD7/20230315/SM_Lek1/P3D6/20230315_SM_Lek1_P3D6_DJI_0988.MP4\n",
      "Loading  /media/vsridhar/T7/Work/Data/BlackbuckAnnotations/P3/downsampled/SSD7/20230315/SM_Lek1/P3D6/20230315_SM_Lek1_P3D6_DJI_0988.MP4\n",
      "Duration of video [s]:  194.06 , recorded with  29.97 fps!\n",
      "Overall # of frames:  5816  found with (before cropping) frame dimensions:  1824 1026\n",
      "Starting to extract posture from the video(s) with batchsize: 8\n"
     ]
    },
    {
     "name": "stderr",
     "output_type": "stream",
     "text": [
      "100%|████████████████████████████████████████████████████████████████████████████████████| 5816/5816 [04:32<00:00, 21.37it/s]\n"
     ]
    },
    {
     "name": "stdout",
     "output_type": "stream",
     "text": [
      "Video Analyzed. Saving results in /home/vsridhar/DATA/DeepLabCut/projects/07_TerritoryDetectionP3-Vivek-2023-08-18/output/SSD7/20230315/SM_Lek1/P3D6...\n",
      "Using snapshot-50000 for model /home/vsridhar/DATA/DeepLabCut/projects/07_TerritoryDetectionP3-Vivek-2023-08-18/dlc-models/iteration-0/07_TerritoryDetectionP3Aug18-trainset90shuffle1\n",
      "Processing...  /media/vsridhar/T7/Work/Data/BlackbuckAnnotations/P3/downsampled/SSD7/20230315/SM_Lek1/P3D6/20230315_SM_Lek1_P3D6_DJI_0988.MP4\n",
      "Analyzing /home/vsridhar/DATA/DeepLabCut/projects/07_TerritoryDetectionP3-Vivek-2023-08-18/output/SSD7/20230315/SM_Lek1/P3D6/20230315_SM_Lek1_P3D6_DJI_0988DLC_dlcrnetms5_07_TerritoryDetectionP3Aug18shuffle1_50000.h5\n"
     ]
    },
    {
     "name": "stderr",
     "output_type": "stream",
     "text": [
      "100%|███████████████████████████████████████████████████████████████████████████████████| 5816/5816 [00:07<00:00, 757.90it/s]\n",
      "5816it [00:14, 399.71it/s]\n"
     ]
    },
    {
     "name": "stdout",
     "output_type": "stream",
     "text": [
      "The tracklets were created (i.e., under the hood deeplabcut.convert_detections2tracklets was run). Now you can 'refine_tracklets' in the GUI, or run 'deeplabcut.stitch_tracklets'.\n",
      "Processing...  /media/vsridhar/T7/Work/Data/BlackbuckAnnotations/P3/downsampled/SSD7/20230315/SM_Lek1/P3D6/20230315_SM_Lek1_P3D6_DJI_0988.MP4\n"
     ]
    },
    {
     "name": "stderr",
     "output_type": "stream",
     "text": [
      "/home/vsridhar/.local/lib/python3.10/site-packages/deeplabcut/refine_training_dataset/stitch.py:138: FutureWarning: Unlike other reduction functions (e.g. `skew`, `kurtosis`), the default behavior of `mode` typically preserves the axis it acts along. In SciPy 1.11.0, this behavior will change: the default value of `keepdims` will become False, the `axis` over which the statistic is taken will be eliminated, and the value None will no longer be accepted. Set `keepdims` to True or False to avoid this warning.\n",
      "  return mode(self.data[..., 3], axis=None, nan_policy=\"omit\")[0][0]\n",
      "100%|██████████████████████████████████████████████████████████████████████████████████████| 65/65 [00:00<00:00, 4848.30it/s]\n"
     ]
    },
    {
     "name": "stdout",
     "output_type": "stream",
     "text": [
      "Starting to analyze %  /media/vsridhar/T7/Work/Data/BlackbuckAnnotations/P3/downsampled/SSD7/20230315/SM_Lek1/P3D6/20230315_SM_Lek1_P3D6_DJI_0989.MP4\n",
      "Loading  /media/vsridhar/T7/Work/Data/BlackbuckAnnotations/P3/downsampled/SSD7/20230315/SM_Lek1/P3D6/20230315_SM_Lek1_P3D6_DJI_0989.MP4\n",
      "Duration of video [s]:  193.99 , recorded with  29.97 fps!\n",
      "Overall # of frames:  5814  found with (before cropping) frame dimensions:  1824 1026\n",
      "Starting to extract posture from the video(s) with batchsize: 8\n"
     ]
    },
    {
     "name": "stderr",
     "output_type": "stream",
     "text": [
      "100%|████████████████████████████████████████████████████████████████████████████████████| 5814/5814 [04:31<00:00, 21.40it/s]\n"
     ]
    },
    {
     "name": "stdout",
     "output_type": "stream",
     "text": [
      "Video Analyzed. Saving results in /home/vsridhar/DATA/DeepLabCut/projects/07_TerritoryDetectionP3-Vivek-2023-08-18/output/SSD7/20230315/SM_Lek1/P3D6...\n",
      "Using snapshot-50000 for model /home/vsridhar/DATA/DeepLabCut/projects/07_TerritoryDetectionP3-Vivek-2023-08-18/dlc-models/iteration-0/07_TerritoryDetectionP3Aug18-trainset90shuffle1\n",
      "Processing...  /media/vsridhar/T7/Work/Data/BlackbuckAnnotations/P3/downsampled/SSD7/20230315/SM_Lek1/P3D6/20230315_SM_Lek1_P3D6_DJI_0989.MP4\n",
      "Analyzing /home/vsridhar/DATA/DeepLabCut/projects/07_TerritoryDetectionP3-Vivek-2023-08-18/output/SSD7/20230315/SM_Lek1/P3D6/20230315_SM_Lek1_P3D6_DJI_0989DLC_dlcrnetms5_07_TerritoryDetectionP3Aug18shuffle1_50000.h5\n"
     ]
    },
    {
     "name": "stderr",
     "output_type": "stream",
     "text": [
      "100%|███████████████████████████████████████████████████████████████████████████████████| 5814/5814 [00:08<00:00, 720.20it/s]\n",
      "5814it [00:14, 401.39it/s]\n"
     ]
    },
    {
     "name": "stdout",
     "output_type": "stream",
     "text": [
      "The tracklets were created (i.e., under the hood deeplabcut.convert_detections2tracklets was run). Now you can 'refine_tracklets' in the GUI, or run 'deeplabcut.stitch_tracklets'.\n",
      "Processing...  /media/vsridhar/T7/Work/Data/BlackbuckAnnotations/P3/downsampled/SSD7/20230315/SM_Lek1/P3D6/20230315_SM_Lek1_P3D6_DJI_0989.MP4\n"
     ]
    },
    {
     "name": "stderr",
     "output_type": "stream",
     "text": [
      "/home/vsridhar/.local/lib/python3.10/site-packages/deeplabcut/refine_training_dataset/stitch.py:138: FutureWarning: Unlike other reduction functions (e.g. `skew`, `kurtosis`), the default behavior of `mode` typically preserves the axis it acts along. In SciPy 1.11.0, this behavior will change: the default value of `keepdims` will become False, the `axis` over which the statistic is taken will be eliminated, and the value None will no longer be accepted. Set `keepdims` to True or False to avoid this warning.\n",
      "  return mode(self.data[..., 3], axis=None, nan_policy=\"omit\")[0][0]\n",
      "100%|██████████████████████████████████████████████████████████████████████████████████████| 77/77 [00:00<00:00, 4586.61it/s]\n"
     ]
    },
    {
     "name": "stdout",
     "output_type": "stream",
     "text": [
      "Starting to analyze %  /media/vsridhar/T7/Work/Data/BlackbuckAnnotations/P3/downsampled/SSD7/20230315/SM_Lek1/P3D6/20230315_SM_Lek1_P3D6_DJI_0987.MP4\n",
      "Loading  /media/vsridhar/T7/Work/Data/BlackbuckAnnotations/P3/downsampled/SSD7/20230315/SM_Lek1/P3D6/20230315_SM_Lek1_P3D6_DJI_0987.MP4\n",
      "Duration of video [s]:  193.66 , recorded with  29.97 fps!\n",
      "Overall # of frames:  5804  found with (before cropping) frame dimensions:  1824 1026\n",
      "Starting to extract posture from the video(s) with batchsize: 8\n"
     ]
    },
    {
     "name": "stderr",
     "output_type": "stream",
     "text": [
      "100%|████████████████████████████████████████████████████████████████████████████████████| 5804/5804 [04:32<00:00, 21.29it/s]\n"
     ]
    },
    {
     "name": "stdout",
     "output_type": "stream",
     "text": [
      "Video Analyzed. Saving results in /home/vsridhar/DATA/DeepLabCut/projects/07_TerritoryDetectionP3-Vivek-2023-08-18/output/SSD7/20230315/SM_Lek1/P3D6...\n",
      "Using snapshot-50000 for model /home/vsridhar/DATA/DeepLabCut/projects/07_TerritoryDetectionP3-Vivek-2023-08-18/dlc-models/iteration-0/07_TerritoryDetectionP3Aug18-trainset90shuffle1\n",
      "Processing...  /media/vsridhar/T7/Work/Data/BlackbuckAnnotations/P3/downsampled/SSD7/20230315/SM_Lek1/P3D6/20230315_SM_Lek1_P3D6_DJI_0987.MP4\n",
      "Analyzing /home/vsridhar/DATA/DeepLabCut/projects/07_TerritoryDetectionP3-Vivek-2023-08-18/output/SSD7/20230315/SM_Lek1/P3D6/20230315_SM_Lek1_P3D6_DJI_0987DLC_dlcrnetms5_07_TerritoryDetectionP3Aug18shuffle1_50000.h5\n"
     ]
    },
    {
     "name": "stderr",
     "output_type": "stream",
     "text": [
      "100%|███████████████████████████████████████████████████████████████████████████████████| 5804/5804 [00:09<00:00, 607.49it/s]\n",
      "5804it [00:16, 349.53it/s]\n"
     ]
    },
    {
     "name": "stdout",
     "output_type": "stream",
     "text": [
      "The tracklets were created (i.e., under the hood deeplabcut.convert_detections2tracklets was run). Now you can 'refine_tracklets' in the GUI, or run 'deeplabcut.stitch_tracklets'.\n",
      "Processing...  /media/vsridhar/T7/Work/Data/BlackbuckAnnotations/P3/downsampled/SSD7/20230315/SM_Lek1/P3D6/20230315_SM_Lek1_P3D6_DJI_0987.MP4\n"
     ]
    },
    {
     "name": "stderr",
     "output_type": "stream",
     "text": [
      "/home/vsridhar/.local/lib/python3.10/site-packages/deeplabcut/refine_training_dataset/stitch.py:138: FutureWarning: Unlike other reduction functions (e.g. `skew`, `kurtosis`), the default behavior of `mode` typically preserves the axis it acts along. In SciPy 1.11.0, this behavior will change: the default value of `keepdims` will become False, the `axis` over which the statistic is taken will be eliminated, and the value None will no longer be accepted. Set `keepdims` to True or False to avoid this warning.\n",
      "  return mode(self.data[..., 3], axis=None, nan_policy=\"omit\")[0][0]\n",
      "100%|████████████████████████████████████████████████████████████████████████████████████| 116/116 [00:00<00:00, 2479.50it/s]\n"
     ]
    },
    {
     "name": "stdout",
     "output_type": "stream",
     "text": [
      "Starting to analyze %  /media/vsridhar/T7/Work/Data/BlackbuckAnnotations/P3/downsampled/SSD7/20230315/SM_Lek1/P3D6/20230315_SM_Lek1_P3D6_DJI_0994.MP4\n",
      "Loading  /media/vsridhar/T7/Work/Data/BlackbuckAnnotations/P3/downsampled/SSD7/20230315/SM_Lek1/P3D6/20230315_SM_Lek1_P3D6_DJI_0994.MP4\n",
      "Duration of video [s]:  194.03 , recorded with  29.97 fps!\n",
      "Overall # of frames:  5815  found with (before cropping) frame dimensions:  1824 1026\n",
      "Starting to extract posture from the video(s) with batchsize: 8\n"
     ]
    },
    {
     "name": "stderr",
     "output_type": "stream",
     "text": [
      "100%|████████████████████████████████████████████████████████████████████████████████████| 5815/5815 [04:32<00:00, 21.37it/s]\n"
     ]
    },
    {
     "name": "stdout",
     "output_type": "stream",
     "text": [
      "Video Analyzed. Saving results in /home/vsridhar/DATA/DeepLabCut/projects/07_TerritoryDetectionP3-Vivek-2023-08-18/output/SSD7/20230315/SM_Lek1/P3D6...\n",
      "Using snapshot-50000 for model /home/vsridhar/DATA/DeepLabCut/projects/07_TerritoryDetectionP3-Vivek-2023-08-18/dlc-models/iteration-0/07_TerritoryDetectionP3Aug18-trainset90shuffle1\n",
      "Processing...  /media/vsridhar/T7/Work/Data/BlackbuckAnnotations/P3/downsampled/SSD7/20230315/SM_Lek1/P3D6/20230315_SM_Lek1_P3D6_DJI_0994.MP4\n",
      "Analyzing /home/vsridhar/DATA/DeepLabCut/projects/07_TerritoryDetectionP3-Vivek-2023-08-18/output/SSD7/20230315/SM_Lek1/P3D6/20230315_SM_Lek1_P3D6_DJI_0994DLC_dlcrnetms5_07_TerritoryDetectionP3Aug18shuffle1_50000.h5\n"
     ]
    },
    {
     "name": "stderr",
     "output_type": "stream",
     "text": [
      "100%|███████████████████████████████████████████████████████████████████████████████████| 5815/5815 [00:07<00:00, 740.95it/s]\n",
      "5815it [00:14, 397.52it/s]\n"
     ]
    },
    {
     "name": "stdout",
     "output_type": "stream",
     "text": [
      "The tracklets were created (i.e., under the hood deeplabcut.convert_detections2tracklets was run). Now you can 'refine_tracklets' in the GUI, or run 'deeplabcut.stitch_tracklets'.\n",
      "Processing...  /media/vsridhar/T7/Work/Data/BlackbuckAnnotations/P3/downsampled/SSD7/20230315/SM_Lek1/P3D6/20230315_SM_Lek1_P3D6_DJI_0994.MP4\n"
     ]
    },
    {
     "name": "stderr",
     "output_type": "stream",
     "text": [
      "/home/vsridhar/.local/lib/python3.10/site-packages/deeplabcut/refine_training_dataset/stitch.py:138: FutureWarning: Unlike other reduction functions (e.g. `skew`, `kurtosis`), the default behavior of `mode` typically preserves the axis it acts along. In SciPy 1.11.0, this behavior will change: the default value of `keepdims` will become False, the `axis` over which the statistic is taken will be eliminated, and the value None will no longer be accepted. Set `keepdims` to True or False to avoid this warning.\n",
      "  return mode(self.data[..., 3], axis=None, nan_policy=\"omit\")[0][0]\n",
      "100%|██████████████████████████████████████████████████████████████████████████████████████| 40/40 [00:00<00:00, 7699.86it/s]\n",
      "/home/vsridhar/.local/lib/python3.10/site-packages/deeplabcut/refine_training_dataset/stitch.py:690: UserWarning: No optimal solution found. Employing black magic...\n",
      "  warnings.warn(\"No optimal solution found. Employing black magic...\")\n",
      "/home/vsridhar/.local/lib/python3.10/site-packages/deeplabcut/refine_training_dataset/stitch.py:763: UserWarning: Only 40 tracks could be reconstructed.\n",
      "  warnings.warn(f\"Only {len(self.paths)} tracks could be reconstructed.\")\n"
     ]
    },
    {
     "name": "stdout",
     "output_type": "stream",
     "text": [
      "Starting to analyze %  /media/vsridhar/T7/Work/Data/BlackbuckAnnotations/P3/downsampled/SSD7/20230315/SM_Lek1/P3D6/20230315_SM_Lek1_P3D6_DJI_0995.MP4\n",
      "Loading  /media/vsridhar/T7/Work/Data/BlackbuckAnnotations/P3/downsampled/SSD7/20230315/SM_Lek1/P3D6/20230315_SM_Lek1_P3D6_DJI_0995.MP4\n",
      "Duration of video [s]:  193.99 , recorded with  29.97 fps!\n",
      "Overall # of frames:  5814  found with (before cropping) frame dimensions:  1824 1026\n",
      "Starting to extract posture from the video(s) with batchsize: 8\n"
     ]
    },
    {
     "name": "stderr",
     "output_type": "stream",
     "text": [
      "100%|████████████████████████████████████████████████████████████████████████████████████| 5814/5814 [04:31<00:00, 21.45it/s]\n"
     ]
    },
    {
     "name": "stdout",
     "output_type": "stream",
     "text": [
      "Video Analyzed. Saving results in /home/vsridhar/DATA/DeepLabCut/projects/07_TerritoryDetectionP3-Vivek-2023-08-18/output/SSD7/20230315/SM_Lek1/P3D6...\n",
      "Using snapshot-50000 for model /home/vsridhar/DATA/DeepLabCut/projects/07_TerritoryDetectionP3-Vivek-2023-08-18/dlc-models/iteration-0/07_TerritoryDetectionP3Aug18-trainset90shuffle1\n",
      "Processing...  /media/vsridhar/T7/Work/Data/BlackbuckAnnotations/P3/downsampled/SSD7/20230315/SM_Lek1/P3D6/20230315_SM_Lek1_P3D6_DJI_0995.MP4\n",
      "Analyzing /home/vsridhar/DATA/DeepLabCut/projects/07_TerritoryDetectionP3-Vivek-2023-08-18/output/SSD7/20230315/SM_Lek1/P3D6/20230315_SM_Lek1_P3D6_DJI_0995DLC_dlcrnetms5_07_TerritoryDetectionP3Aug18shuffle1_50000.h5\n"
     ]
    },
    {
     "name": "stderr",
     "output_type": "stream",
     "text": [
      "100%|███████████████████████████████████████████████████████████████████████████████████| 5814/5814 [00:07<00:00, 746.49it/s]\n",
      "5814it [00:14, 413.27it/s]\n"
     ]
    },
    {
     "name": "stdout",
     "output_type": "stream",
     "text": [
      "The tracklets were created (i.e., under the hood deeplabcut.convert_detections2tracklets was run). Now you can 'refine_tracklets' in the GUI, or run 'deeplabcut.stitch_tracklets'.\n",
      "Processing...  /media/vsridhar/T7/Work/Data/BlackbuckAnnotations/P3/downsampled/SSD7/20230315/SM_Lek1/P3D6/20230315_SM_Lek1_P3D6_DJI_0995.MP4\n"
     ]
    },
    {
     "name": "stderr",
     "output_type": "stream",
     "text": [
      "/home/vsridhar/.local/lib/python3.10/site-packages/deeplabcut/refine_training_dataset/stitch.py:138: FutureWarning: Unlike other reduction functions (e.g. `skew`, `kurtosis`), the default behavior of `mode` typically preserves the axis it acts along. In SciPy 1.11.0, this behavior will change: the default value of `keepdims` will become False, the `axis` over which the statistic is taken will be eliminated, and the value None will no longer be accepted. Set `keepdims` to True or False to avoid this warning.\n",
      "  return mode(self.data[..., 3], axis=None, nan_policy=\"omit\")[0][0]\n",
      "100%|██████████████████████████████████████████████████████████████████████████████████████| 30/30 [00:00<00:00, 9338.66it/s]\n",
      "/home/vsridhar/.local/lib/python3.10/site-packages/deeplabcut/refine_training_dataset/stitch.py:690: UserWarning: No optimal solution found. Employing black magic...\n",
      "  warnings.warn(\"No optimal solution found. Employing black magic...\")\n",
      "/home/vsridhar/.local/lib/python3.10/site-packages/deeplabcut/refine_training_dataset/stitch.py:763: UserWarning: Only 30 tracks could be reconstructed.\n",
      "  warnings.warn(f\"Only {len(self.paths)} tracks could be reconstructed.\")\n"
     ]
    },
    {
     "name": "stdout",
     "output_type": "stream",
     "text": [
      "Starting to analyze %  /media/vsridhar/T7/Work/Data/BlackbuckAnnotations/P3/downsampled/SSD7/20230315/SM_Lek1/P3D6/20230315_SM_Lek1_P3D6_DJI_0005.MP4\n",
      "Loading  /media/vsridhar/T7/Work/Data/BlackbuckAnnotations/P3/downsampled/SSD7/20230315/SM_Lek1/P3D6/20230315_SM_Lek1_P3D6_DJI_0005.MP4\n",
      "Duration of video [s]:  47.41 , recorded with  29.97 fps!\n",
      "Overall # of frames:  1421  found with (before cropping) frame dimensions:  1824 1026\n",
      "Starting to extract posture from the video(s) with batchsize: 8\n"
     ]
    },
    {
     "name": "stderr",
     "output_type": "stream",
     "text": [
      "100%|████████████████████████████████████████████████████████████████████████████████████| 1421/1421 [01:06<00:00, 21.34it/s]\n"
     ]
    },
    {
     "name": "stdout",
     "output_type": "stream",
     "text": [
      "Video Analyzed. Saving results in /home/vsridhar/DATA/DeepLabCut/projects/07_TerritoryDetectionP3-Vivek-2023-08-18/output/SSD7/20230315/SM_Lek1/P3D6...\n",
      "Using snapshot-50000 for model /home/vsridhar/DATA/DeepLabCut/projects/07_TerritoryDetectionP3-Vivek-2023-08-18/dlc-models/iteration-0/07_TerritoryDetectionP3Aug18-trainset90shuffle1\n",
      "Processing...  /media/vsridhar/T7/Work/Data/BlackbuckAnnotations/P3/downsampled/SSD7/20230315/SM_Lek1/P3D6/20230315_SM_Lek1_P3D6_DJI_0005.MP4\n",
      "Analyzing /home/vsridhar/DATA/DeepLabCut/projects/07_TerritoryDetectionP3-Vivek-2023-08-18/output/SSD7/20230315/SM_Lek1/P3D6/20230315_SM_Lek1_P3D6_DJI_0005DLC_dlcrnetms5_07_TerritoryDetectionP3Aug18shuffle1_50000.h5\n"
     ]
    },
    {
     "name": "stderr",
     "output_type": "stream",
     "text": [
      "100%|███████████████████████████████████████████████████████████████████████████████████| 1421/1421 [00:01<00:00, 724.69it/s]\n",
      "1421it [00:03, 375.22it/s]\n"
     ]
    },
    {
     "name": "stdout",
     "output_type": "stream",
     "text": [
      "The tracklets were created (i.e., under the hood deeplabcut.convert_detections2tracklets was run). Now you can 'refine_tracklets' in the GUI, or run 'deeplabcut.stitch_tracklets'.\n",
      "Processing...  /media/vsridhar/T7/Work/Data/BlackbuckAnnotations/P3/downsampled/SSD7/20230315/SM_Lek1/P3D6/20230315_SM_Lek1_P3D6_DJI_0005.MP4\n"
     ]
    },
    {
     "name": "stderr",
     "output_type": "stream",
     "text": [
      "/home/vsridhar/.local/lib/python3.10/site-packages/deeplabcut/refine_training_dataset/stitch.py:138: FutureWarning: Unlike other reduction functions (e.g. `skew`, `kurtosis`), the default behavior of `mode` typically preserves the axis it acts along. In SciPy 1.11.0, this behavior will change: the default value of `keepdims` will become False, the `axis` over which the statistic is taken will be eliminated, and the value None will no longer be accepted. Set `keepdims` to True or False to avoid this warning.\n",
      "  return mode(self.data[..., 3], axis=None, nan_policy=\"omit\")[0][0]\n",
      "100%|████████████████████████████████████████████████████████████████████████████████████| 24/24 [00:00<00:00, 185383.60it/s]\n",
      "/home/vsridhar/.local/lib/python3.10/site-packages/deeplabcut/refine_training_dataset/stitch.py:690: UserWarning: No optimal solution found. Employing black magic...\n",
      "  warnings.warn(\"No optimal solution found. Employing black magic...\")\n",
      "/home/vsridhar/.local/lib/python3.10/site-packages/deeplabcut/refine_training_dataset/stitch.py:763: UserWarning: Only 24 tracks could be reconstructed.\n",
      "  warnings.warn(f\"Only {len(self.paths)} tracks could be reconstructed.\")\n"
     ]
    },
    {
     "name": "stdout",
     "output_type": "stream",
     "text": [
      "Starting to analyze %  /media/vsridhar/T7/Work/Data/BlackbuckAnnotations/P3/downsampled/SSD7/20230315/SM_Lek1/P3D6/20230315_SM_Lek1_P3D6_DJI_0999.MP4\n",
      "Loading  /media/vsridhar/T7/Work/Data/BlackbuckAnnotations/P3/downsampled/SSD7/20230315/SM_Lek1/P3D6/20230315_SM_Lek1_P3D6_DJI_0999.MP4\n",
      "Duration of video [s]:  193.66 , recorded with  29.97 fps!\n",
      "Overall # of frames:  5804  found with (before cropping) frame dimensions:  1824 1026\n",
      "Starting to extract posture from the video(s) with batchsize: 8\n"
     ]
    },
    {
     "name": "stderr",
     "output_type": "stream",
     "text": [
      "100%|████████████████████████████████████████████████████████████████████████████████████| 5804/5804 [04:32<00:00, 21.33it/s]\n"
     ]
    },
    {
     "name": "stdout",
     "output_type": "stream",
     "text": [
      "Video Analyzed. Saving results in /home/vsridhar/DATA/DeepLabCut/projects/07_TerritoryDetectionP3-Vivek-2023-08-18/output/SSD7/20230315/SM_Lek1/P3D6...\n",
      "Using snapshot-50000 for model /home/vsridhar/DATA/DeepLabCut/projects/07_TerritoryDetectionP3-Vivek-2023-08-18/dlc-models/iteration-0/07_TerritoryDetectionP3Aug18-trainset90shuffle1\n",
      "Processing...  /media/vsridhar/T7/Work/Data/BlackbuckAnnotations/P3/downsampled/SSD7/20230315/SM_Lek1/P3D6/20230315_SM_Lek1_P3D6_DJI_0999.MP4\n",
      "Analyzing /home/vsridhar/DATA/DeepLabCut/projects/07_TerritoryDetectionP3-Vivek-2023-08-18/output/SSD7/20230315/SM_Lek1/P3D6/20230315_SM_Lek1_P3D6_DJI_0999DLC_dlcrnetms5_07_TerritoryDetectionP3Aug18shuffle1_50000.h5\n"
     ]
    },
    {
     "name": "stderr",
     "output_type": "stream",
     "text": [
      "100%|███████████████████████████████████████████████████████████████████████████████████| 5804/5804 [00:08<00:00, 661.24it/s]\n",
      "5804it [00:15, 368.91it/s]\n"
     ]
    },
    {
     "name": "stdout",
     "output_type": "stream",
     "text": [
      "The tracklets were created (i.e., under the hood deeplabcut.convert_detections2tracklets was run). Now you can 'refine_tracklets' in the GUI, or run 'deeplabcut.stitch_tracklets'.\n",
      "Processing...  /media/vsridhar/T7/Work/Data/BlackbuckAnnotations/P3/downsampled/SSD7/20230315/SM_Lek1/P3D6/20230315_SM_Lek1_P3D6_DJI_0999.MP4\n"
     ]
    },
    {
     "name": "stderr",
     "output_type": "stream",
     "text": [
      "/home/vsridhar/.local/lib/python3.10/site-packages/deeplabcut/refine_training_dataset/stitch.py:138: FutureWarning: Unlike other reduction functions (e.g. `skew`, `kurtosis`), the default behavior of `mode` typically preserves the axis it acts along. In SciPy 1.11.0, this behavior will change: the default value of `keepdims` will become False, the `axis` over which the statistic is taken will be eliminated, and the value None will no longer be accepted. Set `keepdims` to True or False to avoid this warning.\n",
      "  return mode(self.data[..., 3], axis=None, nan_policy=\"omit\")[0][0]\n",
      "100%|██████████████████████████████████████████████████████████████████████████████████████| 56/56 [00:00<00:00, 5305.65it/s]\n",
      "/home/vsridhar/.local/lib/python3.10/site-packages/deeplabcut/refine_training_dataset/stitch.py:690: UserWarning: No optimal solution found. Employing black magic...\n",
      "  warnings.warn(\"No optimal solution found. Employing black magic...\")\n",
      "/home/vsridhar/.local/lib/python3.10/site-packages/deeplabcut/refine_training_dataset/stitch.py:763: UserWarning: Only 56 tracks could be reconstructed.\n",
      "  warnings.warn(f\"Only {len(self.paths)} tracks could be reconstructed.\")\n"
     ]
    },
    {
     "name": "stdout",
     "output_type": "stream",
     "text": [
      "Starting to analyze %  /media/vsridhar/T7/Work/Data/BlackbuckAnnotations/P3/downsampled/SSD7/20230315/SM_Lek1/P3D6/20230315_SM_Lek1_P3D6_DJI_0004.MP4\n",
      "Loading  /media/vsridhar/T7/Work/Data/BlackbuckAnnotations/P3/downsampled/SSD7/20230315/SM_Lek1/P3D6/20230315_SM_Lek1_P3D6_DJI_0004.MP4\n",
      "Duration of video [s]:  193.93 , recorded with  29.97 fps!\n",
      "Overall # of frames:  5812  found with (before cropping) frame dimensions:  1824 1026\n",
      "Starting to extract posture from the video(s) with batchsize: 8\n"
     ]
    },
    {
     "name": "stderr",
     "output_type": "stream",
     "text": [
      "100%|████████████████████████████████████████████████████████████████████████████████████| 5812/5812 [04:31<00:00, 21.43it/s]\n"
     ]
    },
    {
     "name": "stdout",
     "output_type": "stream",
     "text": [
      "Video Analyzed. Saving results in /home/vsridhar/DATA/DeepLabCut/projects/07_TerritoryDetectionP3-Vivek-2023-08-18/output/SSD7/20230315/SM_Lek1/P3D6...\n",
      "Using snapshot-50000 for model /home/vsridhar/DATA/DeepLabCut/projects/07_TerritoryDetectionP3-Vivek-2023-08-18/dlc-models/iteration-0/07_TerritoryDetectionP3Aug18-trainset90shuffle1\n",
      "Processing...  /media/vsridhar/T7/Work/Data/BlackbuckAnnotations/P3/downsampled/SSD7/20230315/SM_Lek1/P3D6/20230315_SM_Lek1_P3D6_DJI_0004.MP4\n",
      "Analyzing /home/vsridhar/DATA/DeepLabCut/projects/07_TerritoryDetectionP3-Vivek-2023-08-18/output/SSD7/20230315/SM_Lek1/P3D6/20230315_SM_Lek1_P3D6_DJI_0004DLC_dlcrnetms5_07_TerritoryDetectionP3Aug18shuffle1_50000.h5\n"
     ]
    },
    {
     "name": "stderr",
     "output_type": "stream",
     "text": [
      "100%|███████████████████████████████████████████████████████████████████████████████████| 5812/5812 [00:07<00:00, 768.45it/s]\n",
      "5812it [00:14, 400.83it/s]\n"
     ]
    },
    {
     "name": "stdout",
     "output_type": "stream",
     "text": [
      "The tracklets were created (i.e., under the hood deeplabcut.convert_detections2tracklets was run). Now you can 'refine_tracklets' in the GUI, or run 'deeplabcut.stitch_tracklets'.\n",
      "Processing...  /media/vsridhar/T7/Work/Data/BlackbuckAnnotations/P3/downsampled/SSD7/20230315/SM_Lek1/P3D6/20230315_SM_Lek1_P3D6_DJI_0004.MP4\n"
     ]
    },
    {
     "name": "stderr",
     "output_type": "stream",
     "text": [
      "/home/vsridhar/.local/lib/python3.10/site-packages/deeplabcut/refine_training_dataset/stitch.py:138: FutureWarning: Unlike other reduction functions (e.g. `skew`, `kurtosis`), the default behavior of `mode` typically preserves the axis it acts along. In SciPy 1.11.0, this behavior will change: the default value of `keepdims` will become False, the `axis` over which the statistic is taken will be eliminated, and the value None will no longer be accepted. Set `keepdims` to True or False to avoid this warning.\n",
      "  return mode(self.data[..., 3], axis=None, nan_policy=\"omit\")[0][0]\n",
      "100%|█████████████████████████████████████████████████████████████████████████████████████| 36/36 [00:00<00:00, 12320.08it/s]\n",
      "/home/vsridhar/.local/lib/python3.10/site-packages/deeplabcut/refine_training_dataset/stitch.py:690: UserWarning: No optimal solution found. Employing black magic...\n",
      "  warnings.warn(\"No optimal solution found. Employing black magic...\")\n",
      "/home/vsridhar/.local/lib/python3.10/site-packages/deeplabcut/refine_training_dataset/stitch.py:763: UserWarning: Only 36 tracks could be reconstructed.\n",
      "  warnings.warn(f\"Only {len(self.paths)} tracks could be reconstructed.\")\n"
     ]
    },
    {
     "name": "stdout",
     "output_type": "stream",
     "text": [
      "Starting to analyze %  /media/vsridhar/T7/Work/Data/BlackbuckAnnotations/P3/downsampled/SSD7/20230315/SM_Lek1/P3D6/20230315_SM_Lek1_P3D6_DJI_0990.MP4\n",
      "Loading  /media/vsridhar/T7/Work/Data/BlackbuckAnnotations/P3/downsampled/SSD7/20230315/SM_Lek1/P3D6/20230315_SM_Lek1_P3D6_DJI_0990.MP4\n",
      "Duration of video [s]:  193.96 , recorded with  29.97 fps!\n",
      "Overall # of frames:  5813  found with (before cropping) frame dimensions:  1824 1026\n",
      "Starting to extract posture from the video(s) with batchsize: 8\n"
     ]
    },
    {
     "name": "stderr",
     "output_type": "stream",
     "text": [
      "100%|████████████████████████████████████████████████████████████████████████████████████| 5813/5813 [04:33<00:00, 21.29it/s]\n"
     ]
    },
    {
     "name": "stdout",
     "output_type": "stream",
     "text": [
      "Video Analyzed. Saving results in /home/vsridhar/DATA/DeepLabCut/projects/07_TerritoryDetectionP3-Vivek-2023-08-18/output/SSD7/20230315/SM_Lek1/P3D6...\n",
      "Using snapshot-50000 for model /home/vsridhar/DATA/DeepLabCut/projects/07_TerritoryDetectionP3-Vivek-2023-08-18/dlc-models/iteration-0/07_TerritoryDetectionP3Aug18-trainset90shuffle1\n",
      "Processing...  /media/vsridhar/T7/Work/Data/BlackbuckAnnotations/P3/downsampled/SSD7/20230315/SM_Lek1/P3D6/20230315_SM_Lek1_P3D6_DJI_0990.MP4\n",
      "Analyzing /home/vsridhar/DATA/DeepLabCut/projects/07_TerritoryDetectionP3-Vivek-2023-08-18/output/SSD7/20230315/SM_Lek1/P3D6/20230315_SM_Lek1_P3D6_DJI_0990DLC_dlcrnetms5_07_TerritoryDetectionP3Aug18shuffle1_50000.h5\n"
     ]
    },
    {
     "name": "stderr",
     "output_type": "stream",
     "text": [
      "100%|███████████████████████████████████████████████████████████████████████████████████| 5813/5813 [00:07<00:00, 735.17it/s]\n",
      "5813it [00:14, 396.48it/s]\n"
     ]
    },
    {
     "name": "stdout",
     "output_type": "stream",
     "text": [
      "The tracklets were created (i.e., under the hood deeplabcut.convert_detections2tracklets was run). Now you can 'refine_tracklets' in the GUI, or run 'deeplabcut.stitch_tracklets'.\n",
      "Processing...  /media/vsridhar/T7/Work/Data/BlackbuckAnnotations/P3/downsampled/SSD7/20230315/SM_Lek1/P3D6/20230315_SM_Lek1_P3D6_DJI_0990.MP4\n"
     ]
    },
    {
     "name": "stderr",
     "output_type": "stream",
     "text": [
      "/home/vsridhar/.local/lib/python3.10/site-packages/deeplabcut/refine_training_dataset/stitch.py:138: FutureWarning: Unlike other reduction functions (e.g. `skew`, `kurtosis`), the default behavior of `mode` typically preserves the axis it acts along. In SciPy 1.11.0, this behavior will change: the default value of `keepdims` will become False, the `axis` over which the statistic is taken will be eliminated, and the value None will no longer be accepted. Set `keepdims` to True or False to avoid this warning.\n",
      "  return mode(self.data[..., 3], axis=None, nan_policy=\"omit\")[0][0]\n",
      "100%|██████████████████████████████████████████████████████████████████████████████████████| 57/57 [00:00<00:00, 5279.23it/s]\n",
      "/home/vsridhar/.local/lib/python3.10/site-packages/deeplabcut/refine_training_dataset/stitch.py:690: UserWarning: No optimal solution found. Employing black magic...\n",
      "  warnings.warn(\"No optimal solution found. Employing black magic...\")\n",
      "/home/vsridhar/.local/lib/python3.10/site-packages/deeplabcut/refine_training_dataset/stitch.py:763: UserWarning: Only 57 tracks could be reconstructed.\n",
      "  warnings.warn(f\"Only {len(self.paths)} tracks could be reconstructed.\")\n"
     ]
    },
    {
     "name": "stdout",
     "output_type": "stream",
     "text": [
      "Starting to analyze %  /media/vsridhar/T7/Work/Data/BlackbuckAnnotations/P3/downsampled/SSD7/20230315/SM_Lek1/P3D6/20230315_SM_Lek1_P3D6_DJI_0992.MP4\n",
      "Loading  /media/vsridhar/T7/Work/Data/BlackbuckAnnotations/P3/downsampled/SSD7/20230315/SM_Lek1/P3D6/20230315_SM_Lek1_P3D6_DJI_0992.MP4\n",
      "Duration of video [s]:  28.53 , recorded with  29.97 fps!\n",
      "Overall # of frames:  855  found with (before cropping) frame dimensions:  1824 1026\n",
      "Starting to extract posture from the video(s) with batchsize: 8\n"
     ]
    },
    {
     "name": "stderr",
     "output_type": "stream",
     "text": [
      "100%|██████████████████████████████████████████████████████████████████████████████████████| 855/855 [00:39<00:00, 21.38it/s]\n"
     ]
    },
    {
     "name": "stdout",
     "output_type": "stream",
     "text": [
      "Video Analyzed. Saving results in /home/vsridhar/DATA/DeepLabCut/projects/07_TerritoryDetectionP3-Vivek-2023-08-18/output/SSD7/20230315/SM_Lek1/P3D6...\n",
      "Using snapshot-50000 for model /home/vsridhar/DATA/DeepLabCut/projects/07_TerritoryDetectionP3-Vivek-2023-08-18/dlc-models/iteration-0/07_TerritoryDetectionP3Aug18-trainset90shuffle1\n",
      "Processing...  /media/vsridhar/T7/Work/Data/BlackbuckAnnotations/P3/downsampled/SSD7/20230315/SM_Lek1/P3D6/20230315_SM_Lek1_P3D6_DJI_0992.MP4\n",
      "Analyzing /home/vsridhar/DATA/DeepLabCut/projects/07_TerritoryDetectionP3-Vivek-2023-08-18/output/SSD7/20230315/SM_Lek1/P3D6/20230315_SM_Lek1_P3D6_DJI_0992DLC_dlcrnetms5_07_TerritoryDetectionP3Aug18shuffle1_50000.h5\n"
     ]
    },
    {
     "name": "stderr",
     "output_type": "stream",
     "text": [
      "100%|█████████████████████████████████████████████████████████████████████████████████████| 855/855 [00:01<00:00, 660.77it/s]\n",
      "855it [00:02, 380.72it/s]\n",
      "/home/vsridhar/.local/lib/python3.10/site-packages/deeplabcut/refine_training_dataset/stitch.py:138: FutureWarning: Unlike other reduction functions (e.g. `skew`, `kurtosis`), the default behavior of `mode` typically preserves the axis it acts along. In SciPy 1.11.0, this behavior will change: the default value of `keepdims` will become False, the `axis` over which the statistic is taken will be eliminated, and the value None will no longer be accepted. Set `keepdims` to True or False to avoid this warning.\n",
      "  return mode(self.data[..., 3], axis=None, nan_policy=\"omit\")[0][0]\n"
     ]
    },
    {
     "name": "stdout",
     "output_type": "stream",
     "text": [
      "The tracklets were created (i.e., under the hood deeplabcut.convert_detections2tracklets was run). Now you can 'refine_tracklets' in the GUI, or run 'deeplabcut.stitch_tracklets'.\n",
      "Processing...  /media/vsridhar/T7/Work/Data/BlackbuckAnnotations/P3/downsampled/SSD7/20230315/SM_Lek1/P3D6/20230315_SM_Lek1_P3D6_DJI_0992.MP4\n"
     ]
    },
    {
     "name": "stderr",
     "output_type": "stream",
     "text": [
      "100%|████████████████████████████████████████████████████████████████████████████████████| 25/25 [00:00<00:00, 206819.72it/s]\n",
      "/home/vsridhar/.local/lib/python3.10/site-packages/deeplabcut/refine_training_dataset/stitch.py:690: UserWarning: No optimal solution found. Employing black magic...\n",
      "  warnings.warn(\"No optimal solution found. Employing black magic...\")\n",
      "/home/vsridhar/.local/lib/python3.10/site-packages/deeplabcut/refine_training_dataset/stitch.py:763: UserWarning: Only 25 tracks could be reconstructed.\n",
      "  warnings.warn(f\"Only {len(self.paths)} tracks could be reconstructed.\")\n"
     ]
    },
    {
     "name": "stdout",
     "output_type": "stream",
     "text": [
      "Starting to analyze %  /media/vsridhar/T7/Work/Data/BlackbuckAnnotations/P3/downsampled/SSD7/20230315/SM_Lek1/P3D6/20230315_SM_Lek1_P3D6_DJI_0002.MP4\n",
      "Loading  /media/vsridhar/T7/Work/Data/BlackbuckAnnotations/P3/downsampled/SSD7/20230315/SM_Lek1/P3D6/20230315_SM_Lek1_P3D6_DJI_0002.MP4\n",
      "Duration of video [s]:  193.99 , recorded with  29.97 fps!\n",
      "Overall # of frames:  5814  found with (before cropping) frame dimensions:  1824 1026\n",
      "Starting to extract posture from the video(s) with batchsize: 8\n"
     ]
    },
    {
     "name": "stderr",
     "output_type": "stream",
     "text": [
      "100%|████████████████████████████████████████████████████████████████████████████████████| 5814/5814 [04:30<00:00, 21.46it/s]\n"
     ]
    },
    {
     "name": "stdout",
     "output_type": "stream",
     "text": [
      "Video Analyzed. Saving results in /home/vsridhar/DATA/DeepLabCut/projects/07_TerritoryDetectionP3-Vivek-2023-08-18/output/SSD7/20230315/SM_Lek1/P3D6...\n",
      "Using snapshot-50000 for model /home/vsridhar/DATA/DeepLabCut/projects/07_TerritoryDetectionP3-Vivek-2023-08-18/dlc-models/iteration-0/07_TerritoryDetectionP3Aug18-trainset90shuffle1\n",
      "Processing...  /media/vsridhar/T7/Work/Data/BlackbuckAnnotations/P3/downsampled/SSD7/20230315/SM_Lek1/P3D6/20230315_SM_Lek1_P3D6_DJI_0002.MP4\n",
      "Analyzing /home/vsridhar/DATA/DeepLabCut/projects/07_TerritoryDetectionP3-Vivek-2023-08-18/output/SSD7/20230315/SM_Lek1/P3D6/20230315_SM_Lek1_P3D6_DJI_0002DLC_dlcrnetms5_07_TerritoryDetectionP3Aug18shuffle1_50000.h5\n"
     ]
    },
    {
     "name": "stderr",
     "output_type": "stream",
     "text": [
      "100%|███████████████████████████████████████████████████████████████████████████████████| 5814/5814 [00:07<00:00, 749.48it/s]\n",
      "5814it [00:14, 408.68it/s]\n"
     ]
    },
    {
     "name": "stdout",
     "output_type": "stream",
     "text": [
      "The tracklets were created (i.e., under the hood deeplabcut.convert_detections2tracklets was run). Now you can 'refine_tracklets' in the GUI, or run 'deeplabcut.stitch_tracklets'.\n",
      "Processing...  /media/vsridhar/T7/Work/Data/BlackbuckAnnotations/P3/downsampled/SSD7/20230315/SM_Lek1/P3D6/20230315_SM_Lek1_P3D6_DJI_0002.MP4\n"
     ]
    },
    {
     "name": "stderr",
     "output_type": "stream",
     "text": [
      "/home/vsridhar/.local/lib/python3.10/site-packages/deeplabcut/refine_training_dataset/stitch.py:138: FutureWarning: Unlike other reduction functions (e.g. `skew`, `kurtosis`), the default behavior of `mode` typically preserves the axis it acts along. In SciPy 1.11.0, this behavior will change: the default value of `keepdims` will become False, the `axis` over which the statistic is taken will be eliminated, and the value None will no longer be accepted. Set `keepdims` to True or False to avoid this warning.\n",
      "  return mode(self.data[..., 3], axis=None, nan_policy=\"omit\")[0][0]\n",
      "100%|█████████████████████████████████████████████████████████████████████████████████████| 34/34 [00:00<00:00, 13874.91it/s]\n",
      "/home/vsridhar/.local/lib/python3.10/site-packages/deeplabcut/refine_training_dataset/stitch.py:690: UserWarning: No optimal solution found. Employing black magic...\n",
      "  warnings.warn(\"No optimal solution found. Employing black magic...\")\n",
      "/home/vsridhar/.local/lib/python3.10/site-packages/deeplabcut/refine_training_dataset/stitch.py:763: UserWarning: Only 34 tracks could be reconstructed.\n",
      "  warnings.warn(f\"Only {len(self.paths)} tracks could be reconstructed.\")\n"
     ]
    },
    {
     "name": "stdout",
     "output_type": "stream",
     "text": [
      "Starting to analyze %  /media/vsridhar/T7/Work/Data/BlackbuckAnnotations/P3/downsampled/SSD7/20230315/SM_Lek1/P3D6/20230315_SM_Lek1_P3D6_DJI_0998.MP4\n",
      "Loading  /media/vsridhar/T7/Work/Data/BlackbuckAnnotations/P3/downsampled/SSD7/20230315/SM_Lek1/P3D6/20230315_SM_Lek1_P3D6_DJI_0998.MP4\n",
      "Duration of video [s]:  30.1 , recorded with  29.97 fps!\n",
      "Overall # of frames:  902  found with (before cropping) frame dimensions:  1824 1026\n",
      "Starting to extract posture from the video(s) with batchsize: 8\n"
     ]
    },
    {
     "name": "stderr",
     "output_type": "stream",
     "text": [
      "100%|██████████████████████████████████████████████████████████████████████████████████████| 902/902 [00:41<00:00, 21.52it/s]\n"
     ]
    },
    {
     "name": "stdout",
     "output_type": "stream",
     "text": [
      "Video Analyzed. Saving results in /home/vsridhar/DATA/DeepLabCut/projects/07_TerritoryDetectionP3-Vivek-2023-08-18/output/SSD7/20230315/SM_Lek1/P3D6...\n",
      "Using snapshot-50000 for model /home/vsridhar/DATA/DeepLabCut/projects/07_TerritoryDetectionP3-Vivek-2023-08-18/dlc-models/iteration-0/07_TerritoryDetectionP3Aug18-trainset90shuffle1\n",
      "Processing...  /media/vsridhar/T7/Work/Data/BlackbuckAnnotations/P3/downsampled/SSD7/20230315/SM_Lek1/P3D6/20230315_SM_Lek1_P3D6_DJI_0998.MP4\n",
      "Analyzing /home/vsridhar/DATA/DeepLabCut/projects/07_TerritoryDetectionP3-Vivek-2023-08-18/output/SSD7/20230315/SM_Lek1/P3D6/20230315_SM_Lek1_P3D6_DJI_0998DLC_dlcrnetms5_07_TerritoryDetectionP3Aug18shuffle1_50000.h5\n"
     ]
    },
    {
     "name": "stderr",
     "output_type": "stream",
     "text": [
      "100%|█████████████████████████████████████████████████████████████████████████████████████| 902/902 [00:01<00:00, 788.26it/s]\n",
      "902it [00:02, 406.53it/s]\n",
      "/home/vsridhar/.local/lib/python3.10/site-packages/deeplabcut/refine_training_dataset/stitch.py:138: FutureWarning: Unlike other reduction functions (e.g. `skew`, `kurtosis`), the default behavior of `mode` typically preserves the axis it acts along. In SciPy 1.11.0, this behavior will change: the default value of `keepdims` will become False, the `axis` over which the statistic is taken will be eliminated, and the value None will no longer be accepted. Set `keepdims` to True or False to avoid this warning.\n",
      "  return mode(self.data[..., 3], axis=None, nan_policy=\"omit\")[0][0]\n"
     ]
    },
    {
     "name": "stdout",
     "output_type": "stream",
     "text": [
      "The tracklets were created (i.e., under the hood deeplabcut.convert_detections2tracklets was run). Now you can 'refine_tracklets' in the GUI, or run 'deeplabcut.stitch_tracklets'.\n",
      "Processing...  /media/vsridhar/T7/Work/Data/BlackbuckAnnotations/P3/downsampled/SSD7/20230315/SM_Lek1/P3D6/20230315_SM_Lek1_P3D6_DJI_0998.MP4\n"
     ]
    },
    {
     "name": "stderr",
     "output_type": "stream",
     "text": [
      "100%|████████████████████████████████████████████████████████████████████████████████████| 23/23 [00:00<00:00, 213900.20it/s]\n",
      "/home/vsridhar/.local/lib/python3.10/site-packages/deeplabcut/refine_training_dataset/stitch.py:690: UserWarning: No optimal solution found. Employing black magic...\n",
      "  warnings.warn(\"No optimal solution found. Employing black magic...\")\n",
      "/home/vsridhar/.local/lib/python3.10/site-packages/deeplabcut/refine_training_dataset/stitch.py:763: UserWarning: Only 23 tracks could be reconstructed.\n",
      "  warnings.warn(f\"Only {len(self.paths)} tracks could be reconstructed.\")\n"
     ]
    },
    {
     "name": "stdout",
     "output_type": "stream",
     "text": [
      "Starting to analyze %  /media/vsridhar/T7/Work/Data/BlackbuckAnnotations/P3/downsampled/SSD7/20230315/SM_Lek1/P3D6/20230315_SM_Lek1_P3D6_DJI_0991.MP4\n",
      "Loading  /media/vsridhar/T7/Work/Data/BlackbuckAnnotations/P3/downsampled/SSD7/20230315/SM_Lek1/P3D6/20230315_SM_Lek1_P3D6_DJI_0991.MP4\n",
      "Duration of video [s]:  193.99 , recorded with  29.97 fps!\n",
      "Overall # of frames:  5814  found with (before cropping) frame dimensions:  1824 1026\n",
      "Starting to extract posture from the video(s) with batchsize: 8\n"
     ]
    },
    {
     "name": "stderr",
     "output_type": "stream",
     "text": [
      "100%|████████████████████████████████████████████████████████████████████████████████████| 5814/5814 [04:31<00:00, 21.38it/s]\n"
     ]
    },
    {
     "name": "stdout",
     "output_type": "stream",
     "text": [
      "Video Analyzed. Saving results in /home/vsridhar/DATA/DeepLabCut/projects/07_TerritoryDetectionP3-Vivek-2023-08-18/output/SSD7/20230315/SM_Lek1/P3D6...\n",
      "Using snapshot-50000 for model /home/vsridhar/DATA/DeepLabCut/projects/07_TerritoryDetectionP3-Vivek-2023-08-18/dlc-models/iteration-0/07_TerritoryDetectionP3Aug18-trainset90shuffle1\n",
      "Processing...  /media/vsridhar/T7/Work/Data/BlackbuckAnnotations/P3/downsampled/SSD7/20230315/SM_Lek1/P3D6/20230315_SM_Lek1_P3D6_DJI_0991.MP4\n",
      "Analyzing /home/vsridhar/DATA/DeepLabCut/projects/07_TerritoryDetectionP3-Vivek-2023-08-18/output/SSD7/20230315/SM_Lek1/P3D6/20230315_SM_Lek1_P3D6_DJI_0991DLC_dlcrnetms5_07_TerritoryDetectionP3Aug18shuffle1_50000.h5\n"
     ]
    },
    {
     "name": "stderr",
     "output_type": "stream",
     "text": [
      "100%|███████████████████████████████████████████████████████████████████████████████████| 5814/5814 [00:08<00:00, 668.35it/s]\n",
      "5814it [00:14, 392.35it/s]\n"
     ]
    },
    {
     "name": "stdout",
     "output_type": "stream",
     "text": [
      "The tracklets were created (i.e., under the hood deeplabcut.convert_detections2tracklets was run). Now you can 'refine_tracklets' in the GUI, or run 'deeplabcut.stitch_tracklets'.\n",
      "Processing...  /media/vsridhar/T7/Work/Data/BlackbuckAnnotations/P3/downsampled/SSD7/20230315/SM_Lek1/P3D6/20230315_SM_Lek1_P3D6_DJI_0991.MP4\n"
     ]
    },
    {
     "name": "stderr",
     "output_type": "stream",
     "text": [
      "/home/vsridhar/.local/lib/python3.10/site-packages/deeplabcut/refine_training_dataset/stitch.py:138: FutureWarning: Unlike other reduction functions (e.g. `skew`, `kurtosis`), the default behavior of `mode` typically preserves the axis it acts along. In SciPy 1.11.0, this behavior will change: the default value of `keepdims` will become False, the `axis` over which the statistic is taken will be eliminated, and the value None will no longer be accepted. Set `keepdims` to True or False to avoid this warning.\n",
      "  return mode(self.data[..., 3], axis=None, nan_policy=\"omit\")[0][0]\n",
      "100%|█████████████████████████████████████████████████████████████████████████████████████| 41/41 [00:00<00:00, 11632.72it/s]\n",
      "/home/vsridhar/.local/lib/python3.10/site-packages/deeplabcut/refine_training_dataset/stitch.py:690: UserWarning: No optimal solution found. Employing black magic...\n",
      "  warnings.warn(\"No optimal solution found. Employing black magic...\")\n",
      "/home/vsridhar/.local/lib/python3.10/site-packages/deeplabcut/refine_training_dataset/stitch.py:763: UserWarning: Only 41 tracks could be reconstructed.\n",
      "  warnings.warn(f\"Only {len(self.paths)} tracks could be reconstructed.\")\n"
     ]
    },
    {
     "name": "stdout",
     "output_type": "stream",
     "text": [
      "Starting to analyze %  /media/vsridhar/T7/Work/Data/BlackbuckAnnotations/P3/downsampled/SSD7/20230315/SM_Lek1/P3D6/20230315_SM_Lek1_P3D6_DJI_0001.MP4\n",
      "Loading  /media/vsridhar/T7/Work/Data/BlackbuckAnnotations/P3/downsampled/SSD7/20230315/SM_Lek1/P3D6/20230315_SM_Lek1_P3D6_DJI_0001.MP4\n",
      "Duration of video [s]:  194.03 , recorded with  29.97 fps!\n",
      "Overall # of frames:  5815  found with (before cropping) frame dimensions:  1824 1026\n",
      "Starting to extract posture from the video(s) with batchsize: 8\n"
     ]
    },
    {
     "name": "stderr",
     "output_type": "stream",
     "text": [
      "100%|████████████████████████████████████████████████████████████████████████████████████| 5815/5815 [04:30<00:00, 21.49it/s]\n"
     ]
    },
    {
     "name": "stdout",
     "output_type": "stream",
     "text": [
      "Video Analyzed. Saving results in /home/vsridhar/DATA/DeepLabCut/projects/07_TerritoryDetectionP3-Vivek-2023-08-18/output/SSD7/20230315/SM_Lek1/P3D6...\n",
      "Using snapshot-50000 for model /home/vsridhar/DATA/DeepLabCut/projects/07_TerritoryDetectionP3-Vivek-2023-08-18/dlc-models/iteration-0/07_TerritoryDetectionP3Aug18-trainset90shuffle1\n",
      "Processing...  /media/vsridhar/T7/Work/Data/BlackbuckAnnotations/P3/downsampled/SSD7/20230315/SM_Lek1/P3D6/20230315_SM_Lek1_P3D6_DJI_0001.MP4\n",
      "Analyzing /home/vsridhar/DATA/DeepLabCut/projects/07_TerritoryDetectionP3-Vivek-2023-08-18/output/SSD7/20230315/SM_Lek1/P3D6/20230315_SM_Lek1_P3D6_DJI_0001DLC_dlcrnetms5_07_TerritoryDetectionP3Aug18shuffle1_50000.h5\n"
     ]
    },
    {
     "name": "stderr",
     "output_type": "stream",
     "text": [
      "100%|███████████████████████████████████████████████████████████████████████████████████| 5815/5815 [00:07<00:00, 757.89it/s]\n",
      "5815it [00:14, 413.81it/s]\n"
     ]
    },
    {
     "name": "stdout",
     "output_type": "stream",
     "text": [
      "The tracklets were created (i.e., under the hood deeplabcut.convert_detections2tracklets was run). Now you can 'refine_tracklets' in the GUI, or run 'deeplabcut.stitch_tracklets'.\n",
      "Processing...  /media/vsridhar/T7/Work/Data/BlackbuckAnnotations/P3/downsampled/SSD7/20230315/SM_Lek1/P3D6/20230315_SM_Lek1_P3D6_DJI_0001.MP4\n"
     ]
    },
    {
     "name": "stderr",
     "output_type": "stream",
     "text": [
      "/home/vsridhar/.local/lib/python3.10/site-packages/deeplabcut/refine_training_dataset/stitch.py:138: FutureWarning: Unlike other reduction functions (e.g. `skew`, `kurtosis`), the default behavior of `mode` typically preserves the axis it acts along. In SciPy 1.11.0, this behavior will change: the default value of `keepdims` will become False, the `axis` over which the statistic is taken will be eliminated, and the value None will no longer be accepted. Set `keepdims` to True or False to avoid this warning.\n",
      "  return mode(self.data[..., 3], axis=None, nan_policy=\"omit\")[0][0]\n",
      "100%|██████████████████████████████████████████████████████████████████████████████████████| 35/35 [00:00<00:00, 9640.81it/s]\n",
      "/home/vsridhar/.local/lib/python3.10/site-packages/deeplabcut/refine_training_dataset/stitch.py:690: UserWarning: No optimal solution found. Employing black magic...\n",
      "  warnings.warn(\"No optimal solution found. Employing black magic...\")\n",
      "/home/vsridhar/.local/lib/python3.10/site-packages/deeplabcut/refine_training_dataset/stitch.py:763: UserWarning: Only 35 tracks could be reconstructed.\n",
      "  warnings.warn(f\"Only {len(self.paths)} tracks could be reconstructed.\")\n"
     ]
    },
    {
     "name": "stdout",
     "output_type": "stream",
     "text": [
      "Starting to analyze %  /media/vsridhar/T7/Work/Data/BlackbuckAnnotations/P3/downsampled/SSD7/20230315/SM_Lek1/P3D6/20230315_SM_Lek1_P3D6_DJI_0003.MP4\n",
      "Loading  /media/vsridhar/T7/Work/Data/BlackbuckAnnotations/P3/downsampled/SSD7/20230315/SM_Lek1/P3D6/20230315_SM_Lek1_P3D6_DJI_0003.MP4\n",
      "Duration of video [s]:  193.99 , recorded with  29.97 fps!\n",
      "Overall # of frames:  5814  found with (before cropping) frame dimensions:  1824 1026\n",
      "Starting to extract posture from the video(s) with batchsize: 8\n"
     ]
    },
    {
     "name": "stderr",
     "output_type": "stream",
     "text": [
      "100%|████████████████████████████████████████████████████████████████████████████████████| 5814/5814 [04:31<00:00, 21.39it/s]\n"
     ]
    },
    {
     "name": "stdout",
     "output_type": "stream",
     "text": [
      "Video Analyzed. Saving results in /home/vsridhar/DATA/DeepLabCut/projects/07_TerritoryDetectionP3-Vivek-2023-08-18/output/SSD7/20230315/SM_Lek1/P3D6...\n",
      "Using snapshot-50000 for model /home/vsridhar/DATA/DeepLabCut/projects/07_TerritoryDetectionP3-Vivek-2023-08-18/dlc-models/iteration-0/07_TerritoryDetectionP3Aug18-trainset90shuffle1\n",
      "Processing...  /media/vsridhar/T7/Work/Data/BlackbuckAnnotations/P3/downsampled/SSD7/20230315/SM_Lek1/P3D6/20230315_SM_Lek1_P3D6_DJI_0003.MP4\n",
      "Analyzing /home/vsridhar/DATA/DeepLabCut/projects/07_TerritoryDetectionP3-Vivek-2023-08-18/output/SSD7/20230315/SM_Lek1/P3D6/20230315_SM_Lek1_P3D6_DJI_0003DLC_dlcrnetms5_07_TerritoryDetectionP3Aug18shuffle1_50000.h5\n"
     ]
    },
    {
     "name": "stderr",
     "output_type": "stream",
     "text": [
      "100%|███████████████████████████████████████████████████████████████████████████████████| 5814/5814 [00:07<00:00, 758.06it/s]\n",
      "5814it [00:14, 406.38it/s]\n"
     ]
    },
    {
     "name": "stdout",
     "output_type": "stream",
     "text": [
      "The tracklets were created (i.e., under the hood deeplabcut.convert_detections2tracklets was run). Now you can 'refine_tracklets' in the GUI, or run 'deeplabcut.stitch_tracklets'.\n",
      "Processing...  /media/vsridhar/T7/Work/Data/BlackbuckAnnotations/P3/downsampled/SSD7/20230315/SM_Lek1/P3D6/20230315_SM_Lek1_P3D6_DJI_0003.MP4\n"
     ]
    },
    {
     "name": "stderr",
     "output_type": "stream",
     "text": [
      "/home/vsridhar/.local/lib/python3.10/site-packages/deeplabcut/refine_training_dataset/stitch.py:138: FutureWarning: Unlike other reduction functions (e.g. `skew`, `kurtosis`), the default behavior of `mode` typically preserves the axis it acts along. In SciPy 1.11.0, this behavior will change: the default value of `keepdims` will become False, the `axis` over which the statistic is taken will be eliminated, and the value None will no longer be accepted. Set `keepdims` to True or False to avoid this warning.\n",
      "  return mode(self.data[..., 3], axis=None, nan_policy=\"omit\")[0][0]\n",
      "100%|██████████████████████████████████████████████████████████████████████████████████████| 40/40 [00:00<00:00, 7249.37it/s]\n",
      "/home/vsridhar/.local/lib/python3.10/site-packages/deeplabcut/refine_training_dataset/stitch.py:690: UserWarning: No optimal solution found. Employing black magic...\n",
      "  warnings.warn(\"No optimal solution found. Employing black magic...\")\n",
      "/home/vsridhar/.local/lib/python3.10/site-packages/deeplabcut/refine_training_dataset/stitch.py:763: UserWarning: Only 40 tracks could be reconstructed.\n",
      "  warnings.warn(f\"Only {len(self.paths)} tracks could be reconstructed.\")\n"
     ]
    },
    {
     "name": "stdout",
     "output_type": "stream",
     "text": [
      "Starting to analyze %  /media/vsridhar/T7/Work/Data/BlackbuckAnnotations/P3/downsampled/SSD7/20230315/SM_Lek1/P3D6/20230315_SM_Lek1_P3D6_DJI_0007.MP4\n",
      "Loading  /media/vsridhar/T7/Work/Data/BlackbuckAnnotations/P3/downsampled/SSD7/20230315/SM_Lek1/P3D6/20230315_SM_Lek1_P3D6_DJI_0007.MP4\n",
      "Duration of video [s]:  115.25 , recorded with  29.97 fps!\n",
      "Overall # of frames:  3454  found with (before cropping) frame dimensions:  1824 1026\n",
      "Starting to extract posture from the video(s) with batchsize: 8\n"
     ]
    },
    {
     "name": "stderr",
     "output_type": "stream",
     "text": [
      "100%|████████████████████████████████████████████████████████████████████████████████████| 3454/3454 [02:41<00:00, 21.39it/s]\n"
     ]
    },
    {
     "name": "stdout",
     "output_type": "stream",
     "text": [
      "Video Analyzed. Saving results in /home/vsridhar/DATA/DeepLabCut/projects/07_TerritoryDetectionP3-Vivek-2023-08-18/output/SSD7/20230315/SM_Lek1/P3D6...\n",
      "Using snapshot-50000 for model /home/vsridhar/DATA/DeepLabCut/projects/07_TerritoryDetectionP3-Vivek-2023-08-18/dlc-models/iteration-0/07_TerritoryDetectionP3Aug18-trainset90shuffle1\n",
      "Processing...  /media/vsridhar/T7/Work/Data/BlackbuckAnnotations/P3/downsampled/SSD7/20230315/SM_Lek1/P3D6/20230315_SM_Lek1_P3D6_DJI_0007.MP4\n",
      "Analyzing /home/vsridhar/DATA/DeepLabCut/projects/07_TerritoryDetectionP3-Vivek-2023-08-18/output/SSD7/20230315/SM_Lek1/P3D6/20230315_SM_Lek1_P3D6_DJI_0007DLC_dlcrnetms5_07_TerritoryDetectionP3Aug18shuffle1_50000.h5\n"
     ]
    },
    {
     "name": "stderr",
     "output_type": "stream",
     "text": [
      "100%|███████████████████████████████████████████████████████████████████████████████████| 3454/3454 [00:04<00:00, 773.41it/s]\n",
      "3454it [00:08, 415.02it/s]\n"
     ]
    },
    {
     "name": "stdout",
     "output_type": "stream",
     "text": [
      "The tracklets were created (i.e., under the hood deeplabcut.convert_detections2tracklets was run). Now you can 'refine_tracklets' in the GUI, or run 'deeplabcut.stitch_tracklets'.\n",
      "Processing...  /media/vsridhar/T7/Work/Data/BlackbuckAnnotations/P3/downsampled/SSD7/20230315/SM_Lek1/P3D6/20230315_SM_Lek1_P3D6_DJI_0007.MP4\n"
     ]
    },
    {
     "name": "stderr",
     "output_type": "stream",
     "text": [
      "/home/vsridhar/.local/lib/python3.10/site-packages/deeplabcut/refine_training_dataset/stitch.py:138: FutureWarning: Unlike other reduction functions (e.g. `skew`, `kurtosis`), the default behavior of `mode` typically preserves the axis it acts along. In SciPy 1.11.0, this behavior will change: the default value of `keepdims` will become False, the `axis` over which the statistic is taken will be eliminated, and the value None will no longer be accepted. Set `keepdims` to True or False to avoid this warning.\n",
      "  return mode(self.data[..., 3], axis=None, nan_policy=\"omit\")[0][0]\n",
      "100%|██████████████████████████████████████████████████████████████████████████████████████| 41/41 [00:00<00:00, 5376.14it/s]\n",
      "/home/vsridhar/.local/lib/python3.10/site-packages/deeplabcut/refine_training_dataset/stitch.py:690: UserWarning: No optimal solution found. Employing black magic...\n",
      "  warnings.warn(\"No optimal solution found. Employing black magic...\")\n",
      "/home/vsridhar/.local/lib/python3.10/site-packages/deeplabcut/refine_training_dataset/stitch.py:763: UserWarning: Only 41 tracks could be reconstructed.\n",
      "  warnings.warn(f\"Only {len(self.paths)} tracks could be reconstructed.\")\n",
      "/home/vsridhar/.local/lib/python3.10/site-packages/tensorflow/python/keras/engine/base_layer_v1.py:1694: UserWarning: `layer.apply` is deprecated and will be removed in a future version. Please use `layer.__call__` method instead.\n",
      "  warnings.warn('`layer.apply` is deprecated and '\n",
      "/home/vsridhar/.local/lib/python3.10/site-packages/tf_slim/layers/layers.py:684: UserWarning: `layer.apply` is deprecated and will be removed in a future version. Please use `layer.__call__` method instead.\n",
      "  outputs = layer.apply(inputs, training=is_training)\n"
     ]
    },
    {
     "name": "stdout",
     "output_type": "stream",
     "text": [
      "The videos are analyzed. Time to assemble animals and track 'em... \n",
      " Call 'create_video_with_all_detections' to check multi-animal detection quality before tracking.\n",
      "If the tracking is not satisfactory for some videos, consider expanding the training set. You can use the function 'extract_outlier_frames' to extract a few representative outlier frames.\n",
      "Using snapshot-50000 for model /home/vsridhar/DATA/DeepLabCut/projects/07_TerritoryDetectionP3-Vivek-2023-08-18/dlc-models/iteration-0/07_TerritoryDetectionP3Aug18-trainset90shuffle1\n",
      "Activating extracting of PAFs\n",
      "Analyzing all the videos in the directory...\n",
      "Starting to analyze %  /media/vsridhar/T7/Work/Data/BlackbuckAnnotations/P3/downsampled/SSD7/20230317/SM_Lek1/P3D5/20230317_SM_Lek1_P3D5_DJI_0672.MP4\n",
      "Loading  /media/vsridhar/T7/Work/Data/BlackbuckAnnotations/P3/downsampled/SSD7/20230317/SM_Lek1/P3D5/20230317_SM_Lek1_P3D5_DJI_0672.MP4\n",
      "Duration of video [s]:  193.69 , recorded with  29.97 fps!\n",
      "Overall # of frames:  5805  found with (before cropping) frame dimensions:  1824 1026\n",
      "Starting to extract posture from the video(s) with batchsize: 8\n"
     ]
    },
    {
     "name": "stderr",
     "output_type": "stream",
     "text": [
      "100%|████████████████████████████████████████████████████████████████████████████████████| 5805/5805 [04:33<00:00, 21.25it/s]\n"
     ]
    },
    {
     "name": "stdout",
     "output_type": "stream",
     "text": [
      "Video Analyzed. Saving results in /home/vsridhar/DATA/DeepLabCut/projects/07_TerritoryDetectionP3-Vivek-2023-08-18/output/SSD7/20230317/SM_Lek1/P3D5...\n",
      "Using snapshot-50000 for model /home/vsridhar/DATA/DeepLabCut/projects/07_TerritoryDetectionP3-Vivek-2023-08-18/dlc-models/iteration-0/07_TerritoryDetectionP3Aug18-trainset90shuffle1\n",
      "Processing...  /media/vsridhar/T7/Work/Data/BlackbuckAnnotations/P3/downsampled/SSD7/20230317/SM_Lek1/P3D5/20230317_SM_Lek1_P3D5_DJI_0672.MP4\n",
      "Analyzing /home/vsridhar/DATA/DeepLabCut/projects/07_TerritoryDetectionP3-Vivek-2023-08-18/output/SSD7/20230317/SM_Lek1/P3D5/20230317_SM_Lek1_P3D5_DJI_0672DLC_dlcrnetms5_07_TerritoryDetectionP3Aug18shuffle1_50000.h5\n"
     ]
    },
    {
     "name": "stderr",
     "output_type": "stream",
     "text": [
      "100%|███████████████████████████████████████████████████████████████████████████████████| 5805/5805 [00:09<00:00, 638.01it/s]\n",
      "5805it [00:16, 353.47it/s]\n"
     ]
    },
    {
     "name": "stdout",
     "output_type": "stream",
     "text": [
      "The tracklets were created (i.e., under the hood deeplabcut.convert_detections2tracklets was run). Now you can 'refine_tracklets' in the GUI, or run 'deeplabcut.stitch_tracklets'.\n",
      "Processing...  /media/vsridhar/T7/Work/Data/BlackbuckAnnotations/P3/downsampled/SSD7/20230317/SM_Lek1/P3D5/20230317_SM_Lek1_P3D5_DJI_0672.MP4\n"
     ]
    },
    {
     "name": "stderr",
     "output_type": "stream",
     "text": [
      "/home/vsridhar/.local/lib/python3.10/site-packages/deeplabcut/refine_training_dataset/stitch.py:138: FutureWarning: Unlike other reduction functions (e.g. `skew`, `kurtosis`), the default behavior of `mode` typically preserves the axis it acts along. In SciPy 1.11.0, this behavior will change: the default value of `keepdims` will become False, the `axis` over which the statistic is taken will be eliminated, and the value None will no longer be accepted. Set `keepdims` to True or False to avoid this warning.\n",
      "  return mode(self.data[..., 3], axis=None, nan_policy=\"omit\")[0][0]\n",
      "100%|██████████████████████████████████████████████████████████████████████████████████████| 82/82 [00:00<00:00, 2101.30it/s]\n"
     ]
    },
    {
     "name": "stdout",
     "output_type": "stream",
     "text": [
      "Starting to analyze %  /media/vsridhar/T7/Work/Data/BlackbuckAnnotations/P3/downsampled/SSD7/20230317/SM_Lek1/P3D5/20230317_SM_Lek1_P3D5_DJI_0674.MP4\n",
      "Loading  /media/vsridhar/T7/Work/Data/BlackbuckAnnotations/P3/downsampled/SSD7/20230317/SM_Lek1/P3D5/20230317_SM_Lek1_P3D5_DJI_0674.MP4\n",
      "Duration of video [s]:  193.99 , recorded with  29.97 fps!\n",
      "Overall # of frames:  5814  found with (before cropping) frame dimensions:  1824 1026\n",
      "Starting to extract posture from the video(s) with batchsize: 8\n"
     ]
    },
    {
     "name": "stderr",
     "output_type": "stream",
     "text": [
      "100%|████████████████████████████████████████████████████████████████████████████████████| 5814/5814 [04:31<00:00, 21.43it/s]\n"
     ]
    },
    {
     "name": "stdout",
     "output_type": "stream",
     "text": [
      "Video Analyzed. Saving results in /home/vsridhar/DATA/DeepLabCut/projects/07_TerritoryDetectionP3-Vivek-2023-08-18/output/SSD7/20230317/SM_Lek1/P3D5...\n",
      "Using snapshot-50000 for model /home/vsridhar/DATA/DeepLabCut/projects/07_TerritoryDetectionP3-Vivek-2023-08-18/dlc-models/iteration-0/07_TerritoryDetectionP3Aug18-trainset90shuffle1\n",
      "Processing...  /media/vsridhar/T7/Work/Data/BlackbuckAnnotations/P3/downsampled/SSD7/20230317/SM_Lek1/P3D5/20230317_SM_Lek1_P3D5_DJI_0674.MP4\n",
      "Analyzing /home/vsridhar/DATA/DeepLabCut/projects/07_TerritoryDetectionP3-Vivek-2023-08-18/output/SSD7/20230317/SM_Lek1/P3D5/20230317_SM_Lek1_P3D5_DJI_0674DLC_dlcrnetms5_07_TerritoryDetectionP3Aug18shuffle1_50000.h5\n"
     ]
    },
    {
     "name": "stderr",
     "output_type": "stream",
     "text": [
      "100%|███████████████████████████████████████████████████████████████████████████████████| 5814/5814 [00:08<00:00, 665.93it/s]\n",
      "5814it [00:15, 371.15it/s]\n"
     ]
    },
    {
     "name": "stdout",
     "output_type": "stream",
     "text": [
      "The tracklets were created (i.e., under the hood deeplabcut.convert_detections2tracklets was run). Now you can 'refine_tracklets' in the GUI, or run 'deeplabcut.stitch_tracklets'.\n",
      "Processing...  /media/vsridhar/T7/Work/Data/BlackbuckAnnotations/P3/downsampled/SSD7/20230317/SM_Lek1/P3D5/20230317_SM_Lek1_P3D5_DJI_0674.MP4\n"
     ]
    },
    {
     "name": "stderr",
     "output_type": "stream",
     "text": [
      "/home/vsridhar/.local/lib/python3.10/site-packages/deeplabcut/refine_training_dataset/stitch.py:138: FutureWarning: Unlike other reduction functions (e.g. `skew`, `kurtosis`), the default behavior of `mode` typically preserves the axis it acts along. In SciPy 1.11.0, this behavior will change: the default value of `keepdims` will become False, the `axis` over which the statistic is taken will be eliminated, and the value None will no longer be accepted. Set `keepdims` to True or False to avoid this warning.\n",
      "  return mode(self.data[..., 3], axis=None, nan_policy=\"omit\")[0][0]\n",
      "100%|██████████████████████████████████████████████████████████████████████████████████████| 45/45 [00:00<00:00, 5638.52it/s]\n",
      "/home/vsridhar/.local/lib/python3.10/site-packages/deeplabcut/refine_training_dataset/stitch.py:690: UserWarning: No optimal solution found. Employing black magic...\n",
      "  warnings.warn(\"No optimal solution found. Employing black magic...\")\n",
      "/home/vsridhar/.local/lib/python3.10/site-packages/deeplabcut/refine_training_dataset/stitch.py:763: UserWarning: Only 45 tracks could be reconstructed.\n",
      "  warnings.warn(f\"Only {len(self.paths)} tracks could be reconstructed.\")\n"
     ]
    },
    {
     "name": "stdout",
     "output_type": "stream",
     "text": [
      "Starting to analyze %  /media/vsridhar/T7/Work/Data/BlackbuckAnnotations/P3/downsampled/SSD7/20230317/SM_Lek1/P3D5/20230317_SM_Lek1_P3D5_DJI_0677.MP4\n",
      "Loading  /media/vsridhar/T7/Work/Data/BlackbuckAnnotations/P3/downsampled/SSD7/20230317/SM_Lek1/P3D5/20230317_SM_Lek1_P3D5_DJI_0677.MP4\n",
      "Duration of video [s]:  193.63 , recorded with  29.97 fps!\n",
      "Overall # of frames:  5803  found with (before cropping) frame dimensions:  1824 1026\n",
      "Starting to extract posture from the video(s) with batchsize: 8\n"
     ]
    },
    {
     "name": "stderr",
     "output_type": "stream",
     "text": [
      "100%|████████████████████████████████████████████████████████████████████████████████████| 5803/5803 [04:33<00:00, 21.21it/s]\n"
     ]
    },
    {
     "name": "stdout",
     "output_type": "stream",
     "text": [
      "Video Analyzed. Saving results in /home/vsridhar/DATA/DeepLabCut/projects/07_TerritoryDetectionP3-Vivek-2023-08-18/output/SSD7/20230317/SM_Lek1/P3D5...\n",
      "Using snapshot-50000 for model /home/vsridhar/DATA/DeepLabCut/projects/07_TerritoryDetectionP3-Vivek-2023-08-18/dlc-models/iteration-0/07_TerritoryDetectionP3Aug18-trainset90shuffle1\n",
      "Processing...  /media/vsridhar/T7/Work/Data/BlackbuckAnnotations/P3/downsampled/SSD7/20230317/SM_Lek1/P3D5/20230317_SM_Lek1_P3D5_DJI_0677.MP4\n",
      "Analyzing /home/vsridhar/DATA/DeepLabCut/projects/07_TerritoryDetectionP3-Vivek-2023-08-18/output/SSD7/20230317/SM_Lek1/P3D5/20230317_SM_Lek1_P3D5_DJI_0677DLC_dlcrnetms5_07_TerritoryDetectionP3Aug18shuffle1_50000.h5\n"
     ]
    },
    {
     "name": "stderr",
     "output_type": "stream",
     "text": [
      "100%|███████████████████████████████████████████████████████████████████████████████████| 5803/5803 [00:09<00:00, 619.33it/s]\n",
      "5803it [00:16, 355.62it/s]\n"
     ]
    },
    {
     "name": "stdout",
     "output_type": "stream",
     "text": [
      "The tracklets were created (i.e., under the hood deeplabcut.convert_detections2tracklets was run). Now you can 'refine_tracklets' in the GUI, or run 'deeplabcut.stitch_tracklets'.\n",
      "Processing...  /media/vsridhar/T7/Work/Data/BlackbuckAnnotations/P3/downsampled/SSD7/20230317/SM_Lek1/P3D5/20230317_SM_Lek1_P3D5_DJI_0677.MP4\n"
     ]
    },
    {
     "name": "stderr",
     "output_type": "stream",
     "text": [
      "/home/vsridhar/.local/lib/python3.10/site-packages/deeplabcut/refine_training_dataset/stitch.py:138: FutureWarning: Unlike other reduction functions (e.g. `skew`, `kurtosis`), the default behavior of `mode` typically preserves the axis it acts along. In SciPy 1.11.0, this behavior will change: the default value of `keepdims` will become False, the `axis` over which the statistic is taken will be eliminated, and the value None will no longer be accepted. Set `keepdims` to True or False to avoid this warning.\n",
      "  return mode(self.data[..., 3], axis=None, nan_policy=\"omit\")[0][0]\n",
      "100%|██████████████████████████████████████████████████████████████████████████████████████| 81/81 [00:00<00:00, 4046.82it/s]\n"
     ]
    },
    {
     "name": "stdout",
     "output_type": "stream",
     "text": [
      "Starting to analyze %  /media/vsridhar/T7/Work/Data/BlackbuckAnnotations/P3/downsampled/SSD7/20230317/SM_Lek1/P3D5/20230317_SM_Lek1_P3D5_DJI_0679.MP4\n",
      "Loading  /media/vsridhar/T7/Work/Data/BlackbuckAnnotations/P3/downsampled/SSD7/20230317/SM_Lek1/P3D5/20230317_SM_Lek1_P3D5_DJI_0679.MP4\n",
      "Duration of video [s]:  193.99 , recorded with  29.97 fps!\n",
      "Overall # of frames:  5814  found with (before cropping) frame dimensions:  1824 1026\n",
      "Starting to extract posture from the video(s) with batchsize: 8\n"
     ]
    },
    {
     "name": "stderr",
     "output_type": "stream",
     "text": [
      "100%|████████████████████████████████████████████████████████████████████████████████████| 5814/5814 [04:31<00:00, 21.39it/s]\n"
     ]
    },
    {
     "name": "stdout",
     "output_type": "stream",
     "text": [
      "Video Analyzed. Saving results in /home/vsridhar/DATA/DeepLabCut/projects/07_TerritoryDetectionP3-Vivek-2023-08-18/output/SSD7/20230317/SM_Lek1/P3D5...\n",
      "Using snapshot-50000 for model /home/vsridhar/DATA/DeepLabCut/projects/07_TerritoryDetectionP3-Vivek-2023-08-18/dlc-models/iteration-0/07_TerritoryDetectionP3Aug18-trainset90shuffle1\n",
      "Processing...  /media/vsridhar/T7/Work/Data/BlackbuckAnnotations/P3/downsampled/SSD7/20230317/SM_Lek1/P3D5/20230317_SM_Lek1_P3D5_DJI_0679.MP4\n",
      "Analyzing /home/vsridhar/DATA/DeepLabCut/projects/07_TerritoryDetectionP3-Vivek-2023-08-18/output/SSD7/20230317/SM_Lek1/P3D5/20230317_SM_Lek1_P3D5_DJI_0679DLC_dlcrnetms5_07_TerritoryDetectionP3Aug18shuffle1_50000.h5\n"
     ]
    },
    {
     "name": "stderr",
     "output_type": "stream",
     "text": [
      "100%|███████████████████████████████████████████████████████████████████████████████████| 5814/5814 [00:08<00:00, 724.72it/s]\n",
      "5814it [00:15, 387.33it/s]\n"
     ]
    },
    {
     "name": "stdout",
     "output_type": "stream",
     "text": [
      "The tracklets were created (i.e., under the hood deeplabcut.convert_detections2tracklets was run). Now you can 'refine_tracklets' in the GUI, or run 'deeplabcut.stitch_tracklets'.\n",
      "Processing...  /media/vsridhar/T7/Work/Data/BlackbuckAnnotations/P3/downsampled/SSD7/20230317/SM_Lek1/P3D5/20230317_SM_Lek1_P3D5_DJI_0679.MP4\n"
     ]
    },
    {
     "name": "stderr",
     "output_type": "stream",
     "text": [
      "/home/vsridhar/.local/lib/python3.10/site-packages/deeplabcut/refine_training_dataset/stitch.py:138: FutureWarning: Unlike other reduction functions (e.g. `skew`, `kurtosis`), the default behavior of `mode` typically preserves the axis it acts along. In SciPy 1.11.0, this behavior will change: the default value of `keepdims` will become False, the `axis` over which the statistic is taken will be eliminated, and the value None will no longer be accepted. Set `keepdims` to True or False to avoid this warning.\n",
      "  return mode(self.data[..., 3], axis=None, nan_policy=\"omit\")[0][0]\n",
      "100%|██████████████████████████████████████████████████████████████████████████████████████| 27/27 [00:00<00:00, 9727.38it/s]\n",
      "/home/vsridhar/.local/lib/python3.10/site-packages/deeplabcut/refine_training_dataset/stitch.py:690: UserWarning: No optimal solution found. Employing black magic...\n",
      "  warnings.warn(\"No optimal solution found. Employing black magic...\")\n",
      "/home/vsridhar/.local/lib/python3.10/site-packages/deeplabcut/refine_training_dataset/stitch.py:763: UserWarning: Only 27 tracks could be reconstructed.\n",
      "  warnings.warn(f\"Only {len(self.paths)} tracks could be reconstructed.\")\n"
     ]
    },
    {
     "name": "stdout",
     "output_type": "stream",
     "text": [
      "Starting to analyze %  /media/vsridhar/T7/Work/Data/BlackbuckAnnotations/P3/downsampled/SSD7/20230317/SM_Lek1/P3D5/20230317_SM_Lek1_P3D5_DJI_0682.MP4\n",
      "Loading  /media/vsridhar/T7/Work/Data/BlackbuckAnnotations/P3/downsampled/SSD7/20230317/SM_Lek1/P3D5/20230317_SM_Lek1_P3D5_DJI_0682.MP4\n",
      "Duration of video [s]:  193.66 , recorded with  29.97 fps!\n",
      "Overall # of frames:  5804  found with (before cropping) frame dimensions:  1824 1026\n",
      "Starting to extract posture from the video(s) with batchsize: 8\n"
     ]
    },
    {
     "name": "stderr",
     "output_type": "stream",
     "text": [
      "100%|████████████████████████████████████████████████████████████████████████████████████| 5804/5804 [04:38<00:00, 20.83it/s]\n"
     ]
    },
    {
     "name": "stdout",
     "output_type": "stream",
     "text": [
      "Video Analyzed. Saving results in /home/vsridhar/DATA/DeepLabCut/projects/07_TerritoryDetectionP3-Vivek-2023-08-18/output/SSD7/20230317/SM_Lek1/P3D5...\n",
      "Using snapshot-50000 for model /home/vsridhar/DATA/DeepLabCut/projects/07_TerritoryDetectionP3-Vivek-2023-08-18/dlc-models/iteration-0/07_TerritoryDetectionP3Aug18-trainset90shuffle1\n",
      "Processing...  /media/vsridhar/T7/Work/Data/BlackbuckAnnotations/P3/downsampled/SSD7/20230317/SM_Lek1/P3D5/20230317_SM_Lek1_P3D5_DJI_0682.MP4\n",
      "Analyzing /home/vsridhar/DATA/DeepLabCut/projects/07_TerritoryDetectionP3-Vivek-2023-08-18/output/SSD7/20230317/SM_Lek1/P3D5/20230317_SM_Lek1_P3D5_DJI_0682DLC_dlcrnetms5_07_TerritoryDetectionP3Aug18shuffle1_50000.h5\n"
     ]
    },
    {
     "name": "stderr",
     "output_type": "stream",
     "text": [
      "100%|███████████████████████████████████████████████████████████████████████████████████| 5804/5804 [00:11<00:00, 526.64it/s]\n",
      "5804it [00:19, 302.70it/s]\n"
     ]
    },
    {
     "name": "stdout",
     "output_type": "stream",
     "text": [
      "The tracklets were created (i.e., under the hood deeplabcut.convert_detections2tracklets was run). Now you can 'refine_tracklets' in the GUI, or run 'deeplabcut.stitch_tracklets'.\n",
      "Processing...  /media/vsridhar/T7/Work/Data/BlackbuckAnnotations/P3/downsampled/SSD7/20230317/SM_Lek1/P3D5/20230317_SM_Lek1_P3D5_DJI_0682.MP4\n"
     ]
    },
    {
     "name": "stderr",
     "output_type": "stream",
     "text": [
      "/home/vsridhar/.local/lib/python3.10/site-packages/deeplabcut/refine_training_dataset/stitch.py:138: FutureWarning: Unlike other reduction functions (e.g. `skew`, `kurtosis`), the default behavior of `mode` typically preserves the axis it acts along. In SciPy 1.11.0, this behavior will change: the default value of `keepdims` will become False, the `axis` over which the statistic is taken will be eliminated, and the value None will no longer be accepted. Set `keepdims` to True or False to avoid this warning.\n",
      "  return mode(self.data[..., 3], axis=None, nan_policy=\"omit\")[0][0]\n",
      "100%|████████████████████████████████████████████████████████████████████████████████████| 114/114 [00:00<00:00, 2700.00it/s]\n"
     ]
    },
    {
     "name": "stdout",
     "output_type": "stream",
     "text": [
      "Starting to analyze %  /media/vsridhar/T7/Work/Data/BlackbuckAnnotations/P3/downsampled/SSD7/20230317/SM_Lek1/P3D5/20230317_SM_Lek1_P3D5_DJI_0666.MP4\n",
      "Loading  /media/vsridhar/T7/Work/Data/BlackbuckAnnotations/P3/downsampled/SSD7/20230317/SM_Lek1/P3D5/20230317_SM_Lek1_P3D5_DJI_0666.MP4\n",
      "Duration of video [s]:  193.76 , recorded with  29.97 fps!\n",
      "Overall # of frames:  5807  found with (before cropping) frame dimensions:  1824 1026\n",
      "Starting to extract posture from the video(s) with batchsize: 8\n"
     ]
    },
    {
     "name": "stderr",
     "output_type": "stream",
     "text": [
      "100%|████████████████████████████████████████████████████████████████████████████████████| 5807/5807 [04:31<00:00, 21.35it/s]\n"
     ]
    },
    {
     "name": "stdout",
     "output_type": "stream",
     "text": [
      "Video Analyzed. Saving results in /home/vsridhar/DATA/DeepLabCut/projects/07_TerritoryDetectionP3-Vivek-2023-08-18/output/SSD7/20230317/SM_Lek1/P3D5...\n",
      "Using snapshot-50000 for model /home/vsridhar/DATA/DeepLabCut/projects/07_TerritoryDetectionP3-Vivek-2023-08-18/dlc-models/iteration-0/07_TerritoryDetectionP3Aug18-trainset90shuffle1\n",
      "Processing...  /media/vsridhar/T7/Work/Data/BlackbuckAnnotations/P3/downsampled/SSD7/20230317/SM_Lek1/P3D5/20230317_SM_Lek1_P3D5_DJI_0666.MP4\n",
      "Analyzing /home/vsridhar/DATA/DeepLabCut/projects/07_TerritoryDetectionP3-Vivek-2023-08-18/output/SSD7/20230317/SM_Lek1/P3D5/20230317_SM_Lek1_P3D5_DJI_0666DLC_dlcrnetms5_07_TerritoryDetectionP3Aug18shuffle1_50000.h5\n"
     ]
    },
    {
     "name": "stderr",
     "output_type": "stream",
     "text": [
      "100%|███████████████████████████████████████████████████████████████████████████████████| 5807/5807 [00:07<00:00, 757.40it/s]\n",
      "5807it [00:15, 380.18it/s]\n"
     ]
    },
    {
     "name": "stdout",
     "output_type": "stream",
     "text": [
      "The tracklets were created (i.e., under the hood deeplabcut.convert_detections2tracklets was run). Now you can 'refine_tracklets' in the GUI, or run 'deeplabcut.stitch_tracklets'.\n",
      "Processing...  /media/vsridhar/T7/Work/Data/BlackbuckAnnotations/P3/downsampled/SSD7/20230317/SM_Lek1/P3D5/20230317_SM_Lek1_P3D5_DJI_0666.MP4\n"
     ]
    },
    {
     "name": "stderr",
     "output_type": "stream",
     "text": [
      "/home/vsridhar/.local/lib/python3.10/site-packages/deeplabcut/refine_training_dataset/stitch.py:138: FutureWarning: Unlike other reduction functions (e.g. `skew`, `kurtosis`), the default behavior of `mode` typically preserves the axis it acts along. In SciPy 1.11.0, this behavior will change: the default value of `keepdims` will become False, the `axis` over which the statistic is taken will be eliminated, and the value None will no longer be accepted. Set `keepdims` to True or False to avoid this warning.\n",
      "  return mode(self.data[..., 3], axis=None, nan_policy=\"omit\")[0][0]\n",
      "100%|██████████████████████████████████████████████████████████████████████████████████████| 38/38 [00:00<00:00, 5312.08it/s]\n",
      "/home/vsridhar/.local/lib/python3.10/site-packages/deeplabcut/refine_training_dataset/stitch.py:690: UserWarning: No optimal solution found. Employing black magic...\n",
      "  warnings.warn(\"No optimal solution found. Employing black magic...\")\n",
      "/home/vsridhar/.local/lib/python3.10/site-packages/deeplabcut/refine_training_dataset/stitch.py:763: UserWarning: Only 38 tracks could be reconstructed.\n",
      "  warnings.warn(f\"Only {len(self.paths)} tracks could be reconstructed.\")\n"
     ]
    },
    {
     "name": "stdout",
     "output_type": "stream",
     "text": [
      "Starting to analyze %  /media/vsridhar/T7/Work/Data/BlackbuckAnnotations/P3/downsampled/SSD7/20230317/SM_Lek1/P3D5/20230317_SM_Lek1_P3D5_DJI_0683.MP4\n",
      "Loading  /media/vsridhar/T7/Work/Data/BlackbuckAnnotations/P3/downsampled/SSD7/20230317/SM_Lek1/P3D5/20230317_SM_Lek1_P3D5_DJI_0683.MP4\n",
      "Duration of video [s]:  194.03 , recorded with  29.97 fps!\n",
      "Overall # of frames:  5815  found with (before cropping) frame dimensions:  1824 1026\n",
      "Starting to extract posture from the video(s) with batchsize: 8\n"
     ]
    },
    {
     "name": "stderr",
     "output_type": "stream",
     "text": [
      "100%|████████████████████████████████████████████████████████████████████████████████████| 5815/5815 [04:31<00:00, 21.38it/s]\n"
     ]
    },
    {
     "name": "stdout",
     "output_type": "stream",
     "text": [
      "Video Analyzed. Saving results in /home/vsridhar/DATA/DeepLabCut/projects/07_TerritoryDetectionP3-Vivek-2023-08-18/output/SSD7/20230317/SM_Lek1/P3D5...\n",
      "Using snapshot-50000 for model /home/vsridhar/DATA/DeepLabCut/projects/07_TerritoryDetectionP3-Vivek-2023-08-18/dlc-models/iteration-0/07_TerritoryDetectionP3Aug18-trainset90shuffle1\n",
      "Processing...  /media/vsridhar/T7/Work/Data/BlackbuckAnnotations/P3/downsampled/SSD7/20230317/SM_Lek1/P3D5/20230317_SM_Lek1_P3D5_DJI_0683.MP4\n",
      "Analyzing /home/vsridhar/DATA/DeepLabCut/projects/07_TerritoryDetectionP3-Vivek-2023-08-18/output/SSD7/20230317/SM_Lek1/P3D5/20230317_SM_Lek1_P3D5_DJI_0683DLC_dlcrnetms5_07_TerritoryDetectionP3Aug18shuffle1_50000.h5\n"
     ]
    },
    {
     "name": "stderr",
     "output_type": "stream",
     "text": [
      "100%|███████████████████████████████████████████████████████████████████████████████████| 5815/5815 [00:08<00:00, 726.81it/s]\n",
      "5815it [00:14, 388.92it/s]\n"
     ]
    },
    {
     "name": "stdout",
     "output_type": "stream",
     "text": [
      "The tracklets were created (i.e., under the hood deeplabcut.convert_detections2tracklets was run). Now you can 'refine_tracklets' in the GUI, or run 'deeplabcut.stitch_tracklets'.\n",
      "Processing...  /media/vsridhar/T7/Work/Data/BlackbuckAnnotations/P3/downsampled/SSD7/20230317/SM_Lek1/P3D5/20230317_SM_Lek1_P3D5_DJI_0683.MP4\n"
     ]
    },
    {
     "name": "stderr",
     "output_type": "stream",
     "text": [
      "/home/vsridhar/.local/lib/python3.10/site-packages/deeplabcut/refine_training_dataset/stitch.py:138: FutureWarning: Unlike other reduction functions (e.g. `skew`, `kurtosis`), the default behavior of `mode` typically preserves the axis it acts along. In SciPy 1.11.0, this behavior will change: the default value of `keepdims` will become False, the `axis` over which the statistic is taken will be eliminated, and the value None will no longer be accepted. Set `keepdims` to True or False to avoid this warning.\n",
      "  return mode(self.data[..., 3], axis=None, nan_policy=\"omit\")[0][0]\n",
      "100%|█████████████████████████████████████████████████████████████████████████████████████| 29/29 [00:00<00:00, 12287.59it/s]\n",
      "/home/vsridhar/.local/lib/python3.10/site-packages/deeplabcut/refine_training_dataset/stitch.py:690: UserWarning: No optimal solution found. Employing black magic...\n",
      "  warnings.warn(\"No optimal solution found. Employing black magic...\")\n",
      "/home/vsridhar/.local/lib/python3.10/site-packages/deeplabcut/refine_training_dataset/stitch.py:763: UserWarning: Only 29 tracks could be reconstructed.\n",
      "  warnings.warn(f\"Only {len(self.paths)} tracks could be reconstructed.\")\n"
     ]
    },
    {
     "name": "stdout",
     "output_type": "stream",
     "text": [
      "Starting to analyze %  /media/vsridhar/T7/Work/Data/BlackbuckAnnotations/P3/downsampled/SSD7/20230317/SM_Lek1/P3D5/20230317_SM_Lek1_P3D5_DJI_0668.MP4\n",
      "Loading  /media/vsridhar/T7/Work/Data/BlackbuckAnnotations/P3/downsampled/SSD7/20230317/SM_Lek1/P3D5/20230317_SM_Lek1_P3D5_DJI_0668.MP4\n",
      "Duration of video [s]:  194.06 , recorded with  29.97 fps!\n",
      "Overall # of frames:  5816  found with (before cropping) frame dimensions:  1824 1026\n",
      "Starting to extract posture from the video(s) with batchsize: 8\n"
     ]
    },
    {
     "name": "stderr",
     "output_type": "stream",
     "text": [
      "100%|████████████████████████████████████████████████████████████████████████████████████| 5816/5816 [04:32<00:00, 21.38it/s]\n"
     ]
    },
    {
     "name": "stdout",
     "output_type": "stream",
     "text": [
      "Video Analyzed. Saving results in /home/vsridhar/DATA/DeepLabCut/projects/07_TerritoryDetectionP3-Vivek-2023-08-18/output/SSD7/20230317/SM_Lek1/P3D5...\n",
      "Using snapshot-50000 for model /home/vsridhar/DATA/DeepLabCut/projects/07_TerritoryDetectionP3-Vivek-2023-08-18/dlc-models/iteration-0/07_TerritoryDetectionP3Aug18-trainset90shuffle1\n",
      "Processing...  /media/vsridhar/T7/Work/Data/BlackbuckAnnotations/P3/downsampled/SSD7/20230317/SM_Lek1/P3D5/20230317_SM_Lek1_P3D5_DJI_0668.MP4\n",
      "Analyzing /home/vsridhar/DATA/DeepLabCut/projects/07_TerritoryDetectionP3-Vivek-2023-08-18/output/SSD7/20230317/SM_Lek1/P3D5/20230317_SM_Lek1_P3D5_DJI_0668DLC_dlcrnetms5_07_TerritoryDetectionP3Aug18shuffle1_50000.h5\n"
     ]
    },
    {
     "name": "stderr",
     "output_type": "stream",
     "text": [
      "100%|███████████████████████████████████████████████████████████████████████████████████| 5816/5816 [00:08<00:00, 691.97it/s]\n",
      "5816it [00:14, 391.85it/s]\n"
     ]
    },
    {
     "name": "stdout",
     "output_type": "stream",
     "text": [
      "The tracklets were created (i.e., under the hood deeplabcut.convert_detections2tracklets was run). Now you can 'refine_tracklets' in the GUI, or run 'deeplabcut.stitch_tracklets'.\n",
      "Processing...  /media/vsridhar/T7/Work/Data/BlackbuckAnnotations/P3/downsampled/SSD7/20230317/SM_Lek1/P3D5/20230317_SM_Lek1_P3D5_DJI_0668.MP4\n"
     ]
    },
    {
     "name": "stderr",
     "output_type": "stream",
     "text": [
      "/home/vsridhar/.local/lib/python3.10/site-packages/deeplabcut/refine_training_dataset/stitch.py:138: FutureWarning: Unlike other reduction functions (e.g. `skew`, `kurtosis`), the default behavior of `mode` typically preserves the axis it acts along. In SciPy 1.11.0, this behavior will change: the default value of `keepdims` will become False, the `axis` over which the statistic is taken will be eliminated, and the value None will no longer be accepted. Set `keepdims` to True or False to avoid this warning.\n",
      "  return mode(self.data[..., 3], axis=None, nan_policy=\"omit\")[0][0]\n",
      "100%|█████████████████████████████████████████████████████████████████████████████████████| 29/29 [00:00<00:00, 16241.80it/s]\n",
      "/home/vsridhar/.local/lib/python3.10/site-packages/deeplabcut/refine_training_dataset/stitch.py:690: UserWarning: No optimal solution found. Employing black magic...\n",
      "  warnings.warn(\"No optimal solution found. Employing black magic...\")\n",
      "/home/vsridhar/.local/lib/python3.10/site-packages/deeplabcut/refine_training_dataset/stitch.py:763: UserWarning: Only 29 tracks could be reconstructed.\n",
      "  warnings.warn(f\"Only {len(self.paths)} tracks could be reconstructed.\")\n"
     ]
    },
    {
     "name": "stdout",
     "output_type": "stream",
     "text": [
      "Starting to analyze %  /media/vsridhar/T7/Work/Data/BlackbuckAnnotations/P3/downsampled/SSD7/20230317/SM_Lek1/P3D5/20230317_SM_Lek1_P3D5_DJI_0671.MP4\n",
      "Loading  /media/vsridhar/T7/Work/Data/BlackbuckAnnotations/P3/downsampled/SSD7/20230317/SM_Lek1/P3D5/20230317_SM_Lek1_P3D5_DJI_0671.MP4\n",
      "Duration of video [s]:  95.26 , recorded with  29.97 fps!\n",
      "Overall # of frames:  2855  found with (before cropping) frame dimensions:  1824 1026\n",
      "Starting to extract posture from the video(s) with batchsize: 8\n"
     ]
    },
    {
     "name": "stderr",
     "output_type": "stream",
     "text": [
      "100%|████████████████████████████████████████████████████████████████████████████████████| 2855/2855 [02:13<00:00, 21.38it/s]\n"
     ]
    },
    {
     "name": "stdout",
     "output_type": "stream",
     "text": [
      "Video Analyzed. Saving results in /home/vsridhar/DATA/DeepLabCut/projects/07_TerritoryDetectionP3-Vivek-2023-08-18/output/SSD7/20230317/SM_Lek1/P3D5...\n",
      "Using snapshot-50000 for model /home/vsridhar/DATA/DeepLabCut/projects/07_TerritoryDetectionP3-Vivek-2023-08-18/dlc-models/iteration-0/07_TerritoryDetectionP3Aug18-trainset90shuffle1\n",
      "Processing...  /media/vsridhar/T7/Work/Data/BlackbuckAnnotations/P3/downsampled/SSD7/20230317/SM_Lek1/P3D5/20230317_SM_Lek1_P3D5_DJI_0671.MP4\n",
      "Analyzing /home/vsridhar/DATA/DeepLabCut/projects/07_TerritoryDetectionP3-Vivek-2023-08-18/output/SSD7/20230317/SM_Lek1/P3D5/20230317_SM_Lek1_P3D5_DJI_0671DLC_dlcrnetms5_07_TerritoryDetectionP3Aug18shuffle1_50000.h5\n"
     ]
    },
    {
     "name": "stderr",
     "output_type": "stream",
     "text": [
      "100%|███████████████████████████████████████████████████████████████████████████████████| 2855/2855 [00:04<00:00, 700.76it/s]\n",
      "2855it [00:07, 382.13it/s]\n"
     ]
    },
    {
     "name": "stdout",
     "output_type": "stream",
     "text": [
      "The tracklets were created (i.e., under the hood deeplabcut.convert_detections2tracklets was run). Now you can 'refine_tracklets' in the GUI, or run 'deeplabcut.stitch_tracklets'.\n",
      "Processing...  /media/vsridhar/T7/Work/Data/BlackbuckAnnotations/P3/downsampled/SSD7/20230317/SM_Lek1/P3D5/20230317_SM_Lek1_P3D5_DJI_0671.MP4\n"
     ]
    },
    {
     "name": "stderr",
     "output_type": "stream",
     "text": [
      "/home/vsridhar/.local/lib/python3.10/site-packages/deeplabcut/refine_training_dataset/stitch.py:138: FutureWarning: Unlike other reduction functions (e.g. `skew`, `kurtosis`), the default behavior of `mode` typically preserves the axis it acts along. In SciPy 1.11.0, this behavior will change: the default value of `keepdims` will become False, the `axis` over which the statistic is taken will be eliminated, and the value None will no longer be accepted. Set `keepdims` to True or False to avoid this warning.\n",
      "  return mode(self.data[..., 3], axis=None, nan_policy=\"omit\")[0][0]\n",
      "100%|█████████████████████████████████████████████████████████████████████████████████████| 27/27 [00:00<00:00, 23932.00it/s]\n",
      "/home/vsridhar/.local/lib/python3.10/site-packages/deeplabcut/refine_training_dataset/stitch.py:690: UserWarning: No optimal solution found. Employing black magic...\n",
      "  warnings.warn(\"No optimal solution found. Employing black magic...\")\n",
      "/home/vsridhar/.local/lib/python3.10/site-packages/deeplabcut/refine_training_dataset/stitch.py:763: UserWarning: Only 27 tracks could be reconstructed.\n",
      "  warnings.warn(f\"Only {len(self.paths)} tracks could be reconstructed.\")\n"
     ]
    },
    {
     "name": "stdout",
     "output_type": "stream",
     "text": [
      "Starting to analyze %  /media/vsridhar/T7/Work/Data/BlackbuckAnnotations/P3/downsampled/SSD7/20230317/SM_Lek1/P3D5/20230317_SM_Lek1_P3D5_DJI_0684.MP4\n",
      "Loading  /media/vsridhar/T7/Work/Data/BlackbuckAnnotations/P3/downsampled/SSD7/20230317/SM_Lek1/P3D5/20230317_SM_Lek1_P3D5_DJI_0684.MP4\n",
      "Duration of video [s]:  193.99 , recorded with  29.97 fps!\n",
      "Overall # of frames:  5814  found with (before cropping) frame dimensions:  1824 1026\n",
      "Starting to extract posture from the video(s) with batchsize: 8\n"
     ]
    },
    {
     "name": "stderr",
     "output_type": "stream",
     "text": [
      "100%|████████████████████████████████████████████████████████████████████████████████████| 5814/5814 [04:32<00:00, 21.37it/s]\n"
     ]
    },
    {
     "name": "stdout",
     "output_type": "stream",
     "text": [
      "Video Analyzed. Saving results in /home/vsridhar/DATA/DeepLabCut/projects/07_TerritoryDetectionP3-Vivek-2023-08-18/output/SSD7/20230317/SM_Lek1/P3D5...\n",
      "Using snapshot-50000 for model /home/vsridhar/DATA/DeepLabCut/projects/07_TerritoryDetectionP3-Vivek-2023-08-18/dlc-models/iteration-0/07_TerritoryDetectionP3Aug18-trainset90shuffle1\n",
      "Processing...  /media/vsridhar/T7/Work/Data/BlackbuckAnnotations/P3/downsampled/SSD7/20230317/SM_Lek1/P3D5/20230317_SM_Lek1_P3D5_DJI_0684.MP4\n",
      "Analyzing /home/vsridhar/DATA/DeepLabCut/projects/07_TerritoryDetectionP3-Vivek-2023-08-18/output/SSD7/20230317/SM_Lek1/P3D5/20230317_SM_Lek1_P3D5_DJI_0684DLC_dlcrnetms5_07_TerritoryDetectionP3Aug18shuffle1_50000.h5\n"
     ]
    },
    {
     "name": "stderr",
     "output_type": "stream",
     "text": [
      "100%|███████████████████████████████████████████████████████████████████████████████████| 5814/5814 [00:07<00:00, 727.80it/s]\n",
      "5814it [00:14, 388.61it/s]\n"
     ]
    },
    {
     "name": "stdout",
     "output_type": "stream",
     "text": [
      "The tracklets were created (i.e., under the hood deeplabcut.convert_detections2tracklets was run). Now you can 'refine_tracklets' in the GUI, or run 'deeplabcut.stitch_tracklets'.\n",
      "Processing...  /media/vsridhar/T7/Work/Data/BlackbuckAnnotations/P3/downsampled/SSD7/20230317/SM_Lek1/P3D5/20230317_SM_Lek1_P3D5_DJI_0684.MP4\n"
     ]
    },
    {
     "name": "stderr",
     "output_type": "stream",
     "text": [
      "/home/vsridhar/.local/lib/python3.10/site-packages/deeplabcut/refine_training_dataset/stitch.py:138: FutureWarning: Unlike other reduction functions (e.g. `skew`, `kurtosis`), the default behavior of `mode` typically preserves the axis it acts along. In SciPy 1.11.0, this behavior will change: the default value of `keepdims` will become False, the `axis` over which the statistic is taken will be eliminated, and the value None will no longer be accepted. Set `keepdims` to True or False to avoid this warning.\n",
      "  return mode(self.data[..., 3], axis=None, nan_policy=\"omit\")[0][0]\n",
      "100%|█████████████████████████████████████████████████████████████████████████████████████| 29/29 [00:00<00:00, 16375.18it/s]\n",
      "/home/vsridhar/.local/lib/python3.10/site-packages/deeplabcut/refine_training_dataset/stitch.py:690: UserWarning: No optimal solution found. Employing black magic...\n",
      "  warnings.warn(\"No optimal solution found. Employing black magic...\")\n",
      "/home/vsridhar/.local/lib/python3.10/site-packages/deeplabcut/refine_training_dataset/stitch.py:763: UserWarning: Only 29 tracks could be reconstructed.\n",
      "  warnings.warn(f\"Only {len(self.paths)} tracks could be reconstructed.\")\n"
     ]
    },
    {
     "name": "stdout",
     "output_type": "stream",
     "text": [
      "Starting to analyze %  /media/vsridhar/T7/Work/Data/BlackbuckAnnotations/P3/downsampled/SSD7/20230317/SM_Lek1/P3D5/20230317_SM_Lek1_P3D5_DJI_0687.MP4\n",
      "Loading  /media/vsridhar/T7/Work/Data/BlackbuckAnnotations/P3/downsampled/SSD7/20230317/SM_Lek1/P3D5/20230317_SM_Lek1_P3D5_DJI_0687.MP4\n",
      "Duration of video [s]:  16.92 , recorded with  29.97 fps!\n",
      "Overall # of frames:  507  found with (before cropping) frame dimensions:  1824 1026\n",
      "Starting to extract posture from the video(s) with batchsize: 8\n"
     ]
    },
    {
     "name": "stderr",
     "output_type": "stream",
     "text": [
      "100%|██████████████████████████████████████████████████████████████████████████████████████| 507/507 [00:23<00:00, 21.23it/s]\n"
     ]
    },
    {
     "name": "stdout",
     "output_type": "stream",
     "text": [
      "Video Analyzed. Saving results in /home/vsridhar/DATA/DeepLabCut/projects/07_TerritoryDetectionP3-Vivek-2023-08-18/output/SSD7/20230317/SM_Lek1/P3D5...\n",
      "Using snapshot-50000 for model /home/vsridhar/DATA/DeepLabCut/projects/07_TerritoryDetectionP3-Vivek-2023-08-18/dlc-models/iteration-0/07_TerritoryDetectionP3Aug18-trainset90shuffle1\n",
      "Processing...  /media/vsridhar/T7/Work/Data/BlackbuckAnnotations/P3/downsampled/SSD7/20230317/SM_Lek1/P3D5/20230317_SM_Lek1_P3D5_DJI_0687.MP4\n",
      "Analyzing /home/vsridhar/DATA/DeepLabCut/projects/07_TerritoryDetectionP3-Vivek-2023-08-18/output/SSD7/20230317/SM_Lek1/P3D5/20230317_SM_Lek1_P3D5_DJI_0687DLC_dlcrnetms5_07_TerritoryDetectionP3Aug18shuffle1_50000.h5\n"
     ]
    },
    {
     "name": "stderr",
     "output_type": "stream",
     "text": [
      "100%|█████████████████████████████████████████████████████████████████████████████████████| 507/507 [00:00<00:00, 667.06it/s]\n",
      "507it [00:01, 378.52it/s]\n",
      "/home/vsridhar/.local/lib/python3.10/site-packages/deeplabcut/refine_training_dataset/stitch.py:138: FutureWarning: Unlike other reduction functions (e.g. `skew`, `kurtosis`), the default behavior of `mode` typically preserves the axis it acts along. In SciPy 1.11.0, this behavior will change: the default value of `keepdims` will become False, the `axis` over which the statistic is taken will be eliminated, and the value None will no longer be accepted. Set `keepdims` to True or False to avoid this warning.\n",
      "  return mode(self.data[..., 3], axis=None, nan_policy=\"omit\")[0][0]\n"
     ]
    },
    {
     "name": "stdout",
     "output_type": "stream",
     "text": [
      "The tracklets were created (i.e., under the hood deeplabcut.convert_detections2tracklets was run). Now you can 'refine_tracklets' in the GUI, or run 'deeplabcut.stitch_tracklets'.\n",
      "Processing...  /media/vsridhar/T7/Work/Data/BlackbuckAnnotations/P3/downsampled/SSD7/20230317/SM_Lek1/P3D5/20230317_SM_Lek1_P3D5_DJI_0687.MP4\n"
     ]
    },
    {
     "name": "stderr",
     "output_type": "stream",
     "text": [
      "100%|████████████████████████████████████████████████████████████████████████████████████| 24/24 [00:00<00:00, 212818.81it/s]\n",
      "/home/vsridhar/.local/lib/python3.10/site-packages/deeplabcut/refine_training_dataset/stitch.py:690: UserWarning: No optimal solution found. Employing black magic...\n",
      "  warnings.warn(\"No optimal solution found. Employing black magic...\")\n",
      "/home/vsridhar/.local/lib/python3.10/site-packages/deeplabcut/refine_training_dataset/stitch.py:763: UserWarning: Only 24 tracks could be reconstructed.\n",
      "  warnings.warn(f\"Only {len(self.paths)} tracks could be reconstructed.\")\n"
     ]
    },
    {
     "name": "stdout",
     "output_type": "stream",
     "text": [
      "Starting to analyze %  /media/vsridhar/T7/Work/Data/BlackbuckAnnotations/P3/downsampled/SSD7/20230317/SM_Lek1/P3D5/20230317_SM_Lek1_P3D5_DJI_0667.MP4\n",
      "Loading  /media/vsridhar/T7/Work/Data/BlackbuckAnnotations/P3/downsampled/SSD7/20230317/SM_Lek1/P3D5/20230317_SM_Lek1_P3D5_DJI_0667.MP4\n",
      "Duration of video [s]:  193.86 , recorded with  29.97 fps!\n",
      "Overall # of frames:  5810  found with (before cropping) frame dimensions:  1824 1026\n",
      "Starting to extract posture from the video(s) with batchsize: 8\n"
     ]
    },
    {
     "name": "stderr",
     "output_type": "stream",
     "text": [
      "100%|████████████████████████████████████████████████████████████████████████████████████| 5810/5810 [04:30<00:00, 21.49it/s]\n"
     ]
    },
    {
     "name": "stdout",
     "output_type": "stream",
     "text": [
      "Video Analyzed. Saving results in /home/vsridhar/DATA/DeepLabCut/projects/07_TerritoryDetectionP3-Vivek-2023-08-18/output/SSD7/20230317/SM_Lek1/P3D5...\n",
      "Using snapshot-50000 for model /home/vsridhar/DATA/DeepLabCut/projects/07_TerritoryDetectionP3-Vivek-2023-08-18/dlc-models/iteration-0/07_TerritoryDetectionP3Aug18-trainset90shuffle1\n",
      "Processing...  /media/vsridhar/T7/Work/Data/BlackbuckAnnotations/P3/downsampled/SSD7/20230317/SM_Lek1/P3D5/20230317_SM_Lek1_P3D5_DJI_0667.MP4\n",
      "Analyzing /home/vsridhar/DATA/DeepLabCut/projects/07_TerritoryDetectionP3-Vivek-2023-08-18/output/SSD7/20230317/SM_Lek1/P3D5/20230317_SM_Lek1_P3D5_DJI_0667DLC_dlcrnetms5_07_TerritoryDetectionP3Aug18shuffle1_50000.h5\n"
     ]
    },
    {
     "name": "stderr",
     "output_type": "stream",
     "text": [
      "100%|███████████████████████████████████████████████████████████████████████████████████| 5810/5810 [00:08<00:00, 722.16it/s]\n",
      "5810it [00:14, 389.22it/s]\n"
     ]
    },
    {
     "name": "stdout",
     "output_type": "stream",
     "text": [
      "The tracklets were created (i.e., under the hood deeplabcut.convert_detections2tracklets was run). Now you can 'refine_tracklets' in the GUI, or run 'deeplabcut.stitch_tracklets'.\n",
      "Processing...  /media/vsridhar/T7/Work/Data/BlackbuckAnnotations/P3/downsampled/SSD7/20230317/SM_Lek1/P3D5/20230317_SM_Lek1_P3D5_DJI_0667.MP4\n"
     ]
    },
    {
     "name": "stderr",
     "output_type": "stream",
     "text": [
      "/home/vsridhar/.local/lib/python3.10/site-packages/deeplabcut/refine_training_dataset/stitch.py:138: FutureWarning: Unlike other reduction functions (e.g. `skew`, `kurtosis`), the default behavior of `mode` typically preserves the axis it acts along. In SciPy 1.11.0, this behavior will change: the default value of `keepdims` will become False, the `axis` over which the statistic is taken will be eliminated, and the value None will no longer be accepted. Set `keepdims` to True or False to avoid this warning.\n",
      "  return mode(self.data[..., 3], axis=None, nan_policy=\"omit\")[0][0]\n",
      "100%|████████████████████████████████████████████████████████████████████████████████████| 24/24 [00:00<00:00, 198546.93it/s]\n",
      "/home/vsridhar/.local/lib/python3.10/site-packages/deeplabcut/refine_training_dataset/stitch.py:690: UserWarning: No optimal solution found. Employing black magic...\n",
      "  warnings.warn(\"No optimal solution found. Employing black magic...\")\n",
      "/home/vsridhar/.local/lib/python3.10/site-packages/deeplabcut/refine_training_dataset/stitch.py:763: UserWarning: Only 24 tracks could be reconstructed.\n",
      "  warnings.warn(f\"Only {len(self.paths)} tracks could be reconstructed.\")\n"
     ]
    },
    {
     "name": "stdout",
     "output_type": "stream",
     "text": [
      "Starting to analyze %  /media/vsridhar/T7/Work/Data/BlackbuckAnnotations/P3/downsampled/SSD7/20230317/SM_Lek1/P3D5/20230317_SM_Lek1_P3D5_DJI_0673.MP4\n",
      "Loading  /media/vsridhar/T7/Work/Data/BlackbuckAnnotations/P3/downsampled/SSD7/20230317/SM_Lek1/P3D5/20230317_SM_Lek1_P3D5_DJI_0673.MP4\n",
      "Duration of video [s]:  194.03 , recorded with  29.97 fps!\n",
      "Overall # of frames:  5815  found with (before cropping) frame dimensions:  1824 1026\n",
      "Starting to extract posture from the video(s) with batchsize: 8\n"
     ]
    },
    {
     "name": "stderr",
     "output_type": "stream",
     "text": [
      "100%|████████████████████████████████████████████████████████████████████████████████████| 5815/5815 [04:30<00:00, 21.51it/s]\n"
     ]
    },
    {
     "name": "stdout",
     "output_type": "stream",
     "text": [
      "Video Analyzed. Saving results in /home/vsridhar/DATA/DeepLabCut/projects/07_TerritoryDetectionP3-Vivek-2023-08-18/output/SSD7/20230317/SM_Lek1/P3D5...\n",
      "Using snapshot-50000 for model /home/vsridhar/DATA/DeepLabCut/projects/07_TerritoryDetectionP3-Vivek-2023-08-18/dlc-models/iteration-0/07_TerritoryDetectionP3Aug18-trainset90shuffle1\n",
      "Processing...  /media/vsridhar/T7/Work/Data/BlackbuckAnnotations/P3/downsampled/SSD7/20230317/SM_Lek1/P3D5/20230317_SM_Lek1_P3D5_DJI_0673.MP4\n",
      "Analyzing /home/vsridhar/DATA/DeepLabCut/projects/07_TerritoryDetectionP3-Vivek-2023-08-18/output/SSD7/20230317/SM_Lek1/P3D5/20230317_SM_Lek1_P3D5_DJI_0673DLC_dlcrnetms5_07_TerritoryDetectionP3Aug18shuffle1_50000.h5\n"
     ]
    },
    {
     "name": "stderr",
     "output_type": "stream",
     "text": [
      "100%|███████████████████████████████████████████████████████████████████████████████████| 5815/5815 [00:07<00:00, 755.29it/s]\n",
      "5815it [00:15, 384.85it/s]\n"
     ]
    },
    {
     "name": "stdout",
     "output_type": "stream",
     "text": [
      "The tracklets were created (i.e., under the hood deeplabcut.convert_detections2tracklets was run). Now you can 'refine_tracklets' in the GUI, or run 'deeplabcut.stitch_tracklets'.\n",
      "Processing...  /media/vsridhar/T7/Work/Data/BlackbuckAnnotations/P3/downsampled/SSD7/20230317/SM_Lek1/P3D5/20230317_SM_Lek1_P3D5_DJI_0673.MP4\n"
     ]
    },
    {
     "name": "stderr",
     "output_type": "stream",
     "text": [
      "/home/vsridhar/.local/lib/python3.10/site-packages/deeplabcut/refine_training_dataset/stitch.py:138: FutureWarning: Unlike other reduction functions (e.g. `skew`, `kurtosis`), the default behavior of `mode` typically preserves the axis it acts along. In SciPy 1.11.0, this behavior will change: the default value of `keepdims` will become False, the `axis` over which the statistic is taken will be eliminated, and the value None will no longer be accepted. Set `keepdims` to True or False to avoid this warning.\n",
      "  return mode(self.data[..., 3], axis=None, nan_policy=\"omit\")[0][0]\n",
      "100%|█████████████████████████████████████████████████████████████████████████████████████| 58/58 [00:00<00:00, 10781.32it/s]\n",
      "/home/vsridhar/.local/lib/python3.10/site-packages/deeplabcut/refine_training_dataset/stitch.py:690: UserWarning: No optimal solution found. Employing black magic...\n",
      "  warnings.warn(\"No optimal solution found. Employing black magic...\")\n",
      "/home/vsridhar/.local/lib/python3.10/site-packages/deeplabcut/refine_training_dataset/stitch.py:763: UserWarning: Only 58 tracks could be reconstructed.\n",
      "  warnings.warn(f\"Only {len(self.paths)} tracks could be reconstructed.\")\n"
     ]
    },
    {
     "name": "stdout",
     "output_type": "stream",
     "text": [
      "Starting to analyze %  /media/vsridhar/T7/Work/Data/BlackbuckAnnotations/P3/downsampled/SSD7/20230317/SM_Lek1/P3D5/20230317_SM_Lek1_P3D5_DJI_0670.MP4\n",
      "Loading  /media/vsridhar/T7/Work/Data/BlackbuckAnnotations/P3/downsampled/SSD7/20230317/SM_Lek1/P3D5/20230317_SM_Lek1_P3D5_DJI_0670.MP4\n",
      "Duration of video [s]:  193.93 , recorded with  29.97 fps!\n",
      "Overall # of frames:  5812  found with (before cropping) frame dimensions:  1824 1026\n",
      "Starting to extract posture from the video(s) with batchsize: 8\n"
     ]
    },
    {
     "name": "stderr",
     "output_type": "stream",
     "text": [
      "100%|████████████████████████████████████████████████████████████████████████████████████| 5812/5812 [04:32<00:00, 21.34it/s]\n"
     ]
    },
    {
     "name": "stdout",
     "output_type": "stream",
     "text": [
      "Video Analyzed. Saving results in /home/vsridhar/DATA/DeepLabCut/projects/07_TerritoryDetectionP3-Vivek-2023-08-18/output/SSD7/20230317/SM_Lek1/P3D5...\n",
      "Using snapshot-50000 for model /home/vsridhar/DATA/DeepLabCut/projects/07_TerritoryDetectionP3-Vivek-2023-08-18/dlc-models/iteration-0/07_TerritoryDetectionP3Aug18-trainset90shuffle1\n",
      "Processing...  /media/vsridhar/T7/Work/Data/BlackbuckAnnotations/P3/downsampled/SSD7/20230317/SM_Lek1/P3D5/20230317_SM_Lek1_P3D5_DJI_0670.MP4\n",
      "Analyzing /home/vsridhar/DATA/DeepLabCut/projects/07_TerritoryDetectionP3-Vivek-2023-08-18/output/SSD7/20230317/SM_Lek1/P3D5/20230317_SM_Lek1_P3D5_DJI_0670DLC_dlcrnetms5_07_TerritoryDetectionP3Aug18shuffle1_50000.h5\n"
     ]
    },
    {
     "name": "stderr",
     "output_type": "stream",
     "text": [
      "100%|███████████████████████████████████████████████████████████████████████████████████| 5812/5812 [00:08<00:00, 707.80it/s]\n",
      "5812it [00:15, 381.26it/s]\n"
     ]
    },
    {
     "name": "stdout",
     "output_type": "stream",
     "text": [
      "The tracklets were created (i.e., under the hood deeplabcut.convert_detections2tracklets was run). Now you can 'refine_tracklets' in the GUI, or run 'deeplabcut.stitch_tracklets'.\n",
      "Processing...  /media/vsridhar/T7/Work/Data/BlackbuckAnnotations/P3/downsampled/SSD7/20230317/SM_Lek1/P3D5/20230317_SM_Lek1_P3D5_DJI_0670.MP4\n"
     ]
    },
    {
     "name": "stderr",
     "output_type": "stream",
     "text": [
      "/home/vsridhar/.local/lib/python3.10/site-packages/deeplabcut/refine_training_dataset/stitch.py:138: FutureWarning: Unlike other reduction functions (e.g. `skew`, `kurtosis`), the default behavior of `mode` typically preserves the axis it acts along. In SciPy 1.11.0, this behavior will change: the default value of `keepdims` will become False, the `axis` over which the statistic is taken will be eliminated, and the value None will no longer be accepted. Set `keepdims` to True or False to avoid this warning.\n",
      "  return mode(self.data[..., 3], axis=None, nan_policy=\"omit\")[0][0]\n",
      "100%|█████████████████████████████████████████████████████████████████████████████████████| 33/33 [00:00<00:00, 15829.37it/s]\n",
      "/home/vsridhar/.local/lib/python3.10/site-packages/deeplabcut/refine_training_dataset/stitch.py:690: UserWarning: No optimal solution found. Employing black magic...\n",
      "  warnings.warn(\"No optimal solution found. Employing black magic...\")\n",
      "/home/vsridhar/.local/lib/python3.10/site-packages/deeplabcut/refine_training_dataset/stitch.py:763: UserWarning: Only 33 tracks could be reconstructed.\n",
      "  warnings.warn(f\"Only {len(self.paths)} tracks could be reconstructed.\")\n"
     ]
    },
    {
     "name": "stdout",
     "output_type": "stream",
     "text": [
      "Starting to analyze %  /media/vsridhar/T7/Work/Data/BlackbuckAnnotations/P3/downsampled/SSD7/20230317/SM_Lek1/P3D5/20230317_SM_Lek1_P3D5_DJI_0675.MP4\n",
      "Loading  /media/vsridhar/T7/Work/Data/BlackbuckAnnotations/P3/downsampled/SSD7/20230317/SM_Lek1/P3D5/20230317_SM_Lek1_P3D5_DJI_0675.MP4\n",
      "Duration of video [s]:  193.99 , recorded with  29.97 fps!\n",
      "Overall # of frames:  5814  found with (before cropping) frame dimensions:  1824 1026\n",
      "Starting to extract posture from the video(s) with batchsize: 8\n"
     ]
    },
    {
     "name": "stderr",
     "output_type": "stream",
     "text": [
      "100%|████████████████████████████████████████████████████████████████████████████████████| 5814/5814 [04:33<00:00, 21.27it/s]\n"
     ]
    },
    {
     "name": "stdout",
     "output_type": "stream",
     "text": [
      "Video Analyzed. Saving results in /home/vsridhar/DATA/DeepLabCut/projects/07_TerritoryDetectionP3-Vivek-2023-08-18/output/SSD7/20230317/SM_Lek1/P3D5...\n",
      "Using snapshot-50000 for model /home/vsridhar/DATA/DeepLabCut/projects/07_TerritoryDetectionP3-Vivek-2023-08-18/dlc-models/iteration-0/07_TerritoryDetectionP3Aug18-trainset90shuffle1\n",
      "Processing...  /media/vsridhar/T7/Work/Data/BlackbuckAnnotations/P3/downsampled/SSD7/20230317/SM_Lek1/P3D5/20230317_SM_Lek1_P3D5_DJI_0675.MP4\n",
      "Analyzing /home/vsridhar/DATA/DeepLabCut/projects/07_TerritoryDetectionP3-Vivek-2023-08-18/output/SSD7/20230317/SM_Lek1/P3D5/20230317_SM_Lek1_P3D5_DJI_0675DLC_dlcrnetms5_07_TerritoryDetectionP3Aug18shuffle1_50000.h5\n"
     ]
    },
    {
     "name": "stderr",
     "output_type": "stream",
     "text": [
      "100%|███████████████████████████████████████████████████████████████████████████████████| 5814/5814 [00:08<00:00, 721.29it/s]\n",
      "5814it [00:14, 390.33it/s]\n"
     ]
    },
    {
     "name": "stdout",
     "output_type": "stream",
     "text": [
      "The tracklets were created (i.e., under the hood deeplabcut.convert_detections2tracklets was run). Now you can 'refine_tracklets' in the GUI, or run 'deeplabcut.stitch_tracklets'.\n",
      "Processing...  /media/vsridhar/T7/Work/Data/BlackbuckAnnotations/P3/downsampled/SSD7/20230317/SM_Lek1/P3D5/20230317_SM_Lek1_P3D5_DJI_0675.MP4\n"
     ]
    },
    {
     "name": "stderr",
     "output_type": "stream",
     "text": [
      "/home/vsridhar/.local/lib/python3.10/site-packages/deeplabcut/refine_training_dataset/stitch.py:138: FutureWarning: Unlike other reduction functions (e.g. `skew`, `kurtosis`), the default behavior of `mode` typically preserves the axis it acts along. In SciPy 1.11.0, this behavior will change: the default value of `keepdims` will become False, the `axis` over which the statistic is taken will be eliminated, and the value None will no longer be accepted. Set `keepdims` to True or False to avoid this warning.\n",
      "  return mode(self.data[..., 3], axis=None, nan_policy=\"omit\")[0][0]\n",
      "100%|█████████████████████████████████████████████████████████████████████████████████████| 42/42 [00:00<00:00, 11243.35it/s]\n",
      "/home/vsridhar/.local/lib/python3.10/site-packages/deeplabcut/refine_training_dataset/stitch.py:690: UserWarning: No optimal solution found. Employing black magic...\n",
      "  warnings.warn(\"No optimal solution found. Employing black magic...\")\n",
      "/home/vsridhar/.local/lib/python3.10/site-packages/deeplabcut/refine_training_dataset/stitch.py:763: UserWarning: Only 42 tracks could be reconstructed.\n",
      "  warnings.warn(f\"Only {len(self.paths)} tracks could be reconstructed.\")\n"
     ]
    },
    {
     "name": "stdout",
     "output_type": "stream",
     "text": [
      "Starting to analyze %  /media/vsridhar/T7/Work/Data/BlackbuckAnnotations/P3/downsampled/SSD7/20230317/SM_Lek1/P3D5/20230317_SM_Lek1_P3D5_DJI_0676.MP4\n",
      "Loading  /media/vsridhar/T7/Work/Data/BlackbuckAnnotations/P3/downsampled/SSD7/20230317/SM_Lek1/P3D5/20230317_SM_Lek1_P3D5_DJI_0676.MP4\n",
      "Duration of video [s]:  159.59 , recorded with  29.97 fps!\n",
      "Overall # of frames:  4783  found with (before cropping) frame dimensions:  1824 1026\n",
      "Starting to extract posture from the video(s) with batchsize: 8\n"
     ]
    },
    {
     "name": "stderr",
     "output_type": "stream",
     "text": [
      "100%|████████████████████████████████████████████████████████████████████████████████████| 4783/4783 [03:42<00:00, 21.45it/s]\n"
     ]
    },
    {
     "name": "stdout",
     "output_type": "stream",
     "text": [
      "Video Analyzed. Saving results in /home/vsridhar/DATA/DeepLabCut/projects/07_TerritoryDetectionP3-Vivek-2023-08-18/output/SSD7/20230317/SM_Lek1/P3D5...\n",
      "Using snapshot-50000 for model /home/vsridhar/DATA/DeepLabCut/projects/07_TerritoryDetectionP3-Vivek-2023-08-18/dlc-models/iteration-0/07_TerritoryDetectionP3Aug18-trainset90shuffle1\n",
      "Processing...  /media/vsridhar/T7/Work/Data/BlackbuckAnnotations/P3/downsampled/SSD7/20230317/SM_Lek1/P3D5/20230317_SM_Lek1_P3D5_DJI_0676.MP4\n",
      "Analyzing /home/vsridhar/DATA/DeepLabCut/projects/07_TerritoryDetectionP3-Vivek-2023-08-18/output/SSD7/20230317/SM_Lek1/P3D5/20230317_SM_Lek1_P3D5_DJI_0676DLC_dlcrnetms5_07_TerritoryDetectionP3Aug18shuffle1_50000.h5\n"
     ]
    },
    {
     "name": "stderr",
     "output_type": "stream",
     "text": [
      "100%|███████████████████████████████████████████████████████████████████████████████████| 4783/4783 [00:06<00:00, 727.17it/s]\n",
      "4783it [00:12, 392.25it/s]\n"
     ]
    },
    {
     "name": "stdout",
     "output_type": "stream",
     "text": [
      "The tracklets were created (i.e., under the hood deeplabcut.convert_detections2tracklets was run). Now you can 'refine_tracklets' in the GUI, or run 'deeplabcut.stitch_tracklets'.\n",
      "Processing...  /media/vsridhar/T7/Work/Data/BlackbuckAnnotations/P3/downsampled/SSD7/20230317/SM_Lek1/P3D5/20230317_SM_Lek1_P3D5_DJI_0676.MP4\n"
     ]
    },
    {
     "name": "stderr",
     "output_type": "stream",
     "text": [
      "/home/vsridhar/.local/lib/python3.10/site-packages/deeplabcut/refine_training_dataset/stitch.py:138: FutureWarning: Unlike other reduction functions (e.g. `skew`, `kurtosis`), the default behavior of `mode` typically preserves the axis it acts along. In SciPy 1.11.0, this behavior will change: the default value of `keepdims` will become False, the `axis` over which the statistic is taken will be eliminated, and the value None will no longer be accepted. Set `keepdims` to True or False to avoid this warning.\n",
      "  return mode(self.data[..., 3], axis=None, nan_policy=\"omit\")[0][0]\n",
      "100%|█████████████████████████████████████████████████████████████████████████████████████| 35/35 [00:00<00:00, 16994.75it/s]\n",
      "/home/vsridhar/.local/lib/python3.10/site-packages/deeplabcut/refine_training_dataset/stitch.py:690: UserWarning: No optimal solution found. Employing black magic...\n",
      "  warnings.warn(\"No optimal solution found. Employing black magic...\")\n",
      "/home/vsridhar/.local/lib/python3.10/site-packages/deeplabcut/refine_training_dataset/stitch.py:763: UserWarning: Only 35 tracks could be reconstructed.\n",
      "  warnings.warn(f\"Only {len(self.paths)} tracks could be reconstructed.\")\n"
     ]
    },
    {
     "name": "stdout",
     "output_type": "stream",
     "text": [
      "Starting to analyze %  /media/vsridhar/T7/Work/Data/BlackbuckAnnotations/P3/downsampled/SSD7/20230317/SM_Lek1/P3D5/20230317_SM_Lek1_P3D5_DJI_0669.MP4\n",
      "Loading  /media/vsridhar/T7/Work/Data/BlackbuckAnnotations/P3/downsampled/SSD7/20230317/SM_Lek1/P3D5/20230317_SM_Lek1_P3D5_DJI_0669.MP4\n",
      "Duration of video [s]:  194.09 , recorded with  29.97 fps!\n",
      "Overall # of frames:  5817  found with (before cropping) frame dimensions:  1824 1026\n",
      "Starting to extract posture from the video(s) with batchsize: 8\n"
     ]
    },
    {
     "name": "stderr",
     "output_type": "stream",
     "text": [
      "100%|████████████████████████████████████████████████████████████████████████████████████| 5817/5817 [04:32<00:00, 21.38it/s]\n"
     ]
    },
    {
     "name": "stdout",
     "output_type": "stream",
     "text": [
      "Video Analyzed. Saving results in /home/vsridhar/DATA/DeepLabCut/projects/07_TerritoryDetectionP3-Vivek-2023-08-18/output/SSD7/20230317/SM_Lek1/P3D5...\n",
      "Using snapshot-50000 for model /home/vsridhar/DATA/DeepLabCut/projects/07_TerritoryDetectionP3-Vivek-2023-08-18/dlc-models/iteration-0/07_TerritoryDetectionP3Aug18-trainset90shuffle1\n",
      "Processing...  /media/vsridhar/T7/Work/Data/BlackbuckAnnotations/P3/downsampled/SSD7/20230317/SM_Lek1/P3D5/20230317_SM_Lek1_P3D5_DJI_0669.MP4\n",
      "Analyzing /home/vsridhar/DATA/DeepLabCut/projects/07_TerritoryDetectionP3-Vivek-2023-08-18/output/SSD7/20230317/SM_Lek1/P3D5/20230317_SM_Lek1_P3D5_DJI_0669DLC_dlcrnetms5_07_TerritoryDetectionP3Aug18shuffle1_50000.h5\n"
     ]
    },
    {
     "name": "stderr",
     "output_type": "stream",
     "text": [
      "100%|███████████████████████████████████████████████████████████████████████████████████| 5817/5817 [00:07<00:00, 755.60it/s]\n",
      "5817it [00:15, 377.48it/s]\n"
     ]
    },
    {
     "name": "stdout",
     "output_type": "stream",
     "text": [
      "The tracklets were created (i.e., under the hood deeplabcut.convert_detections2tracklets was run). Now you can 'refine_tracklets' in the GUI, or run 'deeplabcut.stitch_tracklets'.\n",
      "Processing...  /media/vsridhar/T7/Work/Data/BlackbuckAnnotations/P3/downsampled/SSD7/20230317/SM_Lek1/P3D5/20230317_SM_Lek1_P3D5_DJI_0669.MP4\n"
     ]
    },
    {
     "name": "stderr",
     "output_type": "stream",
     "text": [
      "/home/vsridhar/.local/lib/python3.10/site-packages/deeplabcut/refine_training_dataset/stitch.py:138: FutureWarning: Unlike other reduction functions (e.g. `skew`, `kurtosis`), the default behavior of `mode` typically preserves the axis it acts along. In SciPy 1.11.0, this behavior will change: the default value of `keepdims` will become False, the `axis` over which the statistic is taken will be eliminated, and the value None will no longer be accepted. Set `keepdims` to True or False to avoid this warning.\n",
      "  return mode(self.data[..., 3], axis=None, nan_policy=\"omit\")[0][0]\n",
      "100%|█████████████████████████████████████████████████████████████████████████████████████| 42/42 [00:00<00:00, 14444.14it/s]\n",
      "/home/vsridhar/.local/lib/python3.10/site-packages/deeplabcut/refine_training_dataset/stitch.py:690: UserWarning: No optimal solution found. Employing black magic...\n",
      "  warnings.warn(\"No optimal solution found. Employing black magic...\")\n",
      "/home/vsridhar/.local/lib/python3.10/site-packages/deeplabcut/refine_training_dataset/stitch.py:763: UserWarning: Only 42 tracks could be reconstructed.\n",
      "  warnings.warn(f\"Only {len(self.paths)} tracks could be reconstructed.\")\n"
     ]
    },
    {
     "name": "stdout",
     "output_type": "stream",
     "text": [
      "Starting to analyze %  /media/vsridhar/T7/Work/Data/BlackbuckAnnotations/P3/downsampled/SSD7/20230317/SM_Lek1/P3D5/20230317_SM_Lek1_P3D5_DJI_0686.MP4\n",
      "Loading  /media/vsridhar/T7/Work/Data/BlackbuckAnnotations/P3/downsampled/SSD7/20230317/SM_Lek1/P3D5/20230317_SM_Lek1_P3D5_DJI_0686.MP4\n",
      "Duration of video [s]:  194.03 , recorded with  29.97 fps!\n",
      "Overall # of frames:  5815  found with (before cropping) frame dimensions:  1824 1026\n",
      "Starting to extract posture from the video(s) with batchsize: 8\n"
     ]
    },
    {
     "name": "stderr",
     "output_type": "stream",
     "text": [
      "100%|████████████████████████████████████████████████████████████████████████████████████| 5815/5815 [04:32<00:00, 21.35it/s]\n"
     ]
    },
    {
     "name": "stdout",
     "output_type": "stream",
     "text": [
      "Video Analyzed. Saving results in /home/vsridhar/DATA/DeepLabCut/projects/07_TerritoryDetectionP3-Vivek-2023-08-18/output/SSD7/20230317/SM_Lek1/P3D5...\n",
      "Using snapshot-50000 for model /home/vsridhar/DATA/DeepLabCut/projects/07_TerritoryDetectionP3-Vivek-2023-08-18/dlc-models/iteration-0/07_TerritoryDetectionP3Aug18-trainset90shuffle1\n",
      "Processing...  /media/vsridhar/T7/Work/Data/BlackbuckAnnotations/P3/downsampled/SSD7/20230317/SM_Lek1/P3D5/20230317_SM_Lek1_P3D5_DJI_0686.MP4\n",
      "Analyzing /home/vsridhar/DATA/DeepLabCut/projects/07_TerritoryDetectionP3-Vivek-2023-08-18/output/SSD7/20230317/SM_Lek1/P3D5/20230317_SM_Lek1_P3D5_DJI_0686DLC_dlcrnetms5_07_TerritoryDetectionP3Aug18shuffle1_50000.h5\n"
     ]
    },
    {
     "name": "stderr",
     "output_type": "stream",
     "text": [
      "100%|███████████████████████████████████████████████████████████████████████████████████| 5815/5815 [00:08<00:00, 704.39it/s]\n",
      "5815it [00:15, 379.31it/s]\n"
     ]
    },
    {
     "name": "stdout",
     "output_type": "stream",
     "text": [
      "The tracklets were created (i.e., under the hood deeplabcut.convert_detections2tracklets was run). Now you can 'refine_tracklets' in the GUI, or run 'deeplabcut.stitch_tracklets'.\n",
      "Processing...  /media/vsridhar/T7/Work/Data/BlackbuckAnnotations/P3/downsampled/SSD7/20230317/SM_Lek1/P3D5/20230317_SM_Lek1_P3D5_DJI_0686.MP4\n"
     ]
    },
    {
     "name": "stderr",
     "output_type": "stream",
     "text": [
      "/home/vsridhar/.local/lib/python3.10/site-packages/deeplabcut/refine_training_dataset/stitch.py:138: FutureWarning: Unlike other reduction functions (e.g. `skew`, `kurtosis`), the default behavior of `mode` typically preserves the axis it acts along. In SciPy 1.11.0, this behavior will change: the default value of `keepdims` will become False, the `axis` over which the statistic is taken will be eliminated, and the value None will no longer be accepted. Set `keepdims` to True or False to avoid this warning.\n",
      "  return mode(self.data[..., 3], axis=None, nan_policy=\"omit\")[0][0]\n",
      "100%|████████████████████████████████████████████████████████████████████████████████████| 24/24 [00:00<00:00, 228780.22it/s]\n",
      "/home/vsridhar/.local/lib/python3.10/site-packages/deeplabcut/refine_training_dataset/stitch.py:690: UserWarning: No optimal solution found. Employing black magic...\n",
      "  warnings.warn(\"No optimal solution found. Employing black magic...\")\n",
      "/home/vsridhar/.local/lib/python3.10/site-packages/deeplabcut/refine_training_dataset/stitch.py:763: UserWarning: Only 24 tracks could be reconstructed.\n",
      "  warnings.warn(f\"Only {len(self.paths)} tracks could be reconstructed.\")\n"
     ]
    },
    {
     "name": "stdout",
     "output_type": "stream",
     "text": [
      "Starting to analyze %  /media/vsridhar/T7/Work/Data/BlackbuckAnnotations/P3/downsampled/SSD7/20230317/SM_Lek1/P3D5/20230317_SM_Lek1_P3D5_DJI_0685.MP4\n",
      "Loading  /media/vsridhar/T7/Work/Data/BlackbuckAnnotations/P3/downsampled/SSD7/20230317/SM_Lek1/P3D5/20230317_SM_Lek1_P3D5_DJI_0685.MP4\n",
      "Duration of video [s]:  193.96 , recorded with  29.97 fps!\n",
      "Overall # of frames:  5813  found with (before cropping) frame dimensions:  1824 1026\n",
      "Starting to extract posture from the video(s) with batchsize: 8\n"
     ]
    },
    {
     "name": "stderr",
     "output_type": "stream",
     "text": [
      "100%|████████████████████████████████████████████████████████████████████████████████████| 5813/5813 [04:32<00:00, 21.33it/s]\n"
     ]
    },
    {
     "name": "stdout",
     "output_type": "stream",
     "text": [
      "Video Analyzed. Saving results in /home/vsridhar/DATA/DeepLabCut/projects/07_TerritoryDetectionP3-Vivek-2023-08-18/output/SSD7/20230317/SM_Lek1/P3D5...\n",
      "Using snapshot-50000 for model /home/vsridhar/DATA/DeepLabCut/projects/07_TerritoryDetectionP3-Vivek-2023-08-18/dlc-models/iteration-0/07_TerritoryDetectionP3Aug18-trainset90shuffle1\n",
      "Processing...  /media/vsridhar/T7/Work/Data/BlackbuckAnnotations/P3/downsampled/SSD7/20230317/SM_Lek1/P3D5/20230317_SM_Lek1_P3D5_DJI_0685.MP4\n",
      "Analyzing /home/vsridhar/DATA/DeepLabCut/projects/07_TerritoryDetectionP3-Vivek-2023-08-18/output/SSD7/20230317/SM_Lek1/P3D5/20230317_SM_Lek1_P3D5_DJI_0685DLC_dlcrnetms5_07_TerritoryDetectionP3Aug18shuffle1_50000.h5\n"
     ]
    },
    {
     "name": "stderr",
     "output_type": "stream",
     "text": [
      "100%|███████████████████████████████████████████████████████████████████████████████████| 5813/5813 [00:07<00:00, 753.46it/s]\n",
      "5813it [00:14, 389.21it/s]\n"
     ]
    },
    {
     "name": "stdout",
     "output_type": "stream",
     "text": [
      "The tracklets were created (i.e., under the hood deeplabcut.convert_detections2tracklets was run). Now you can 'refine_tracklets' in the GUI, or run 'deeplabcut.stitch_tracklets'.\n",
      "Processing...  /media/vsridhar/T7/Work/Data/BlackbuckAnnotations/P3/downsampled/SSD7/20230317/SM_Lek1/P3D5/20230317_SM_Lek1_P3D5_DJI_0685.MP4\n"
     ]
    },
    {
     "name": "stderr",
     "output_type": "stream",
     "text": [
      "/home/vsridhar/.local/lib/python3.10/site-packages/deeplabcut/refine_training_dataset/stitch.py:138: FutureWarning: Unlike other reduction functions (e.g. `skew`, `kurtosis`), the default behavior of `mode` typically preserves the axis it acts along. In SciPy 1.11.0, this behavior will change: the default value of `keepdims` will become False, the `axis` over which the statistic is taken will be eliminated, and the value None will no longer be accepted. Set `keepdims` to True or False to avoid this warning.\n",
      "  return mode(self.data[..., 3], axis=None, nan_policy=\"omit\")[0][0]\n",
      "100%|█████████████████████████████████████████████████████████████████████████████████████| 26/26 [00:00<00:00, 14262.61it/s]\n",
      "/home/vsridhar/.local/lib/python3.10/site-packages/deeplabcut/refine_training_dataset/stitch.py:690: UserWarning: No optimal solution found. Employing black magic...\n",
      "  warnings.warn(\"No optimal solution found. Employing black magic...\")\n",
      "/home/vsridhar/.local/lib/python3.10/site-packages/deeplabcut/refine_training_dataset/stitch.py:763: UserWarning: Only 26 tracks could be reconstructed.\n",
      "  warnings.warn(f\"Only {len(self.paths)} tracks could be reconstructed.\")\n"
     ]
    },
    {
     "name": "stdout",
     "output_type": "stream",
     "text": [
      "Starting to analyze %  /media/vsridhar/T7/Work/Data/BlackbuckAnnotations/P3/downsampled/SSD7/20230317/SM_Lek1/P3D5/20230317_SM_Lek1_P3D5_DJI_0678.MP4\n",
      "Loading  /media/vsridhar/T7/Work/Data/BlackbuckAnnotations/P3/downsampled/SSD7/20230317/SM_Lek1/P3D5/20230317_SM_Lek1_P3D5_DJI_0678.MP4\n",
      "Duration of video [s]:  194.03 , recorded with  29.97 fps!\n",
      "Overall # of frames:  5815  found with (before cropping) frame dimensions:  1824 1026\n",
      "Starting to extract posture from the video(s) with batchsize: 8\n"
     ]
    },
    {
     "name": "stderr",
     "output_type": "stream",
     "text": [
      "100%|████████████████████████████████████████████████████████████████████████████████████| 5815/5815 [04:31<00:00, 21.45it/s]\n"
     ]
    },
    {
     "name": "stdout",
     "output_type": "stream",
     "text": [
      "Video Analyzed. Saving results in /home/vsridhar/DATA/DeepLabCut/projects/07_TerritoryDetectionP3-Vivek-2023-08-18/output/SSD7/20230317/SM_Lek1/P3D5...\n",
      "Using snapshot-50000 for model /home/vsridhar/DATA/DeepLabCut/projects/07_TerritoryDetectionP3-Vivek-2023-08-18/dlc-models/iteration-0/07_TerritoryDetectionP3Aug18-trainset90shuffle1\n",
      "Processing...  /media/vsridhar/T7/Work/Data/BlackbuckAnnotations/P3/downsampled/SSD7/20230317/SM_Lek1/P3D5/20230317_SM_Lek1_P3D5_DJI_0678.MP4\n",
      "Analyzing /home/vsridhar/DATA/DeepLabCut/projects/07_TerritoryDetectionP3-Vivek-2023-08-18/output/SSD7/20230317/SM_Lek1/P3D5/20230317_SM_Lek1_P3D5_DJI_0678DLC_dlcrnetms5_07_TerritoryDetectionP3Aug18shuffle1_50000.h5\n"
     ]
    },
    {
     "name": "stderr",
     "output_type": "stream",
     "text": [
      "100%|███████████████████████████████████████████████████████████████████████████████████| 5815/5815 [00:08<00:00, 694.78it/s]\n",
      "5815it [00:15, 383.39it/s]\n"
     ]
    },
    {
     "name": "stdout",
     "output_type": "stream",
     "text": [
      "The tracklets were created (i.e., under the hood deeplabcut.convert_detections2tracklets was run). Now you can 'refine_tracklets' in the GUI, or run 'deeplabcut.stitch_tracklets'.\n",
      "Processing...  /media/vsridhar/T7/Work/Data/BlackbuckAnnotations/P3/downsampled/SSD7/20230317/SM_Lek1/P3D5/20230317_SM_Lek1_P3D5_DJI_0678.MP4\n"
     ]
    },
    {
     "name": "stderr",
     "output_type": "stream",
     "text": [
      "/home/vsridhar/.local/lib/python3.10/site-packages/deeplabcut/refine_training_dataset/stitch.py:138: FutureWarning: Unlike other reduction functions (e.g. `skew`, `kurtosis`), the default behavior of `mode` typically preserves the axis it acts along. In SciPy 1.11.0, this behavior will change: the default value of `keepdims` will become False, the `axis` over which the statistic is taken will be eliminated, and the value None will no longer be accepted. Set `keepdims` to True or False to avoid this warning.\n",
      "  return mode(self.data[..., 3], axis=None, nan_policy=\"omit\")[0][0]\n",
      "100%|██████████████████████████████████████████████████████████████████████████████████████| 34/34 [00:00<00:00, 8066.43it/s]\n",
      "/home/vsridhar/.local/lib/python3.10/site-packages/deeplabcut/refine_training_dataset/stitch.py:690: UserWarning: No optimal solution found. Employing black magic...\n",
      "  warnings.warn(\"No optimal solution found. Employing black magic...\")\n",
      "/home/vsridhar/.local/lib/python3.10/site-packages/deeplabcut/refine_training_dataset/stitch.py:763: UserWarning: Only 34 tracks could be reconstructed.\n",
      "  warnings.warn(f\"Only {len(self.paths)} tracks could be reconstructed.\")\n"
     ]
    },
    {
     "name": "stdout",
     "output_type": "stream",
     "text": [
      "Starting to analyze %  /media/vsridhar/T7/Work/Data/BlackbuckAnnotations/P3/downsampled/SSD7/20230317/SM_Lek1/P3D5/20230317_SM_Lek1_P3D5_DJI_0681.MP4\n",
      "Loading  /media/vsridhar/T7/Work/Data/BlackbuckAnnotations/P3/downsampled/SSD7/20230317/SM_Lek1/P3D5/20230317_SM_Lek1_P3D5_DJI_0681.MP4\n",
      "Duration of video [s]:  192.29 , recorded with  29.97 fps!\n",
      "Overall # of frames:  5763  found with (before cropping) frame dimensions:  1824 1026\n",
      "Starting to extract posture from the video(s) with batchsize: 8\n"
     ]
    },
    {
     "name": "stderr",
     "output_type": "stream",
     "text": [
      "100%|████████████████████████████████████████████████████████████████████████████████████| 5763/5763 [04:29<00:00, 21.38it/s]\n"
     ]
    },
    {
     "name": "stdout",
     "output_type": "stream",
     "text": [
      "Video Analyzed. Saving results in /home/vsridhar/DATA/DeepLabCut/projects/07_TerritoryDetectionP3-Vivek-2023-08-18/output/SSD7/20230317/SM_Lek1/P3D5...\n",
      "Using snapshot-50000 for model /home/vsridhar/DATA/DeepLabCut/projects/07_TerritoryDetectionP3-Vivek-2023-08-18/dlc-models/iteration-0/07_TerritoryDetectionP3Aug18-trainset90shuffle1\n",
      "Processing...  /media/vsridhar/T7/Work/Data/BlackbuckAnnotations/P3/downsampled/SSD7/20230317/SM_Lek1/P3D5/20230317_SM_Lek1_P3D5_DJI_0681.MP4\n",
      "Analyzing /home/vsridhar/DATA/DeepLabCut/projects/07_TerritoryDetectionP3-Vivek-2023-08-18/output/SSD7/20230317/SM_Lek1/P3D5/20230317_SM_Lek1_P3D5_DJI_0681DLC_dlcrnetms5_07_TerritoryDetectionP3Aug18shuffle1_50000.h5\n"
     ]
    },
    {
     "name": "stderr",
     "output_type": "stream",
     "text": [
      "100%|███████████████████████████████████████████████████████████████████████████████████| 5763/5763 [00:08<00:00, 716.50it/s]\n",
      "5763it [00:15, 382.53it/s]\n"
     ]
    },
    {
     "name": "stdout",
     "output_type": "stream",
     "text": [
      "The tracklets were created (i.e., under the hood deeplabcut.convert_detections2tracklets was run). Now you can 'refine_tracklets' in the GUI, or run 'deeplabcut.stitch_tracklets'.\n",
      "Processing...  /media/vsridhar/T7/Work/Data/BlackbuckAnnotations/P3/downsampled/SSD7/20230317/SM_Lek1/P3D5/20230317_SM_Lek1_P3D5_DJI_0681.MP4\n"
     ]
    },
    {
     "name": "stderr",
     "output_type": "stream",
     "text": [
      "/home/vsridhar/.local/lib/python3.10/site-packages/deeplabcut/refine_training_dataset/stitch.py:138: FutureWarning: Unlike other reduction functions (e.g. `skew`, `kurtosis`), the default behavior of `mode` typically preserves the axis it acts along. In SciPy 1.11.0, this behavior will change: the default value of `keepdims` will become False, the `axis` over which the statistic is taken will be eliminated, and the value None will no longer be accepted. Set `keepdims` to True or False to avoid this warning.\n",
      "  return mode(self.data[..., 3], axis=None, nan_policy=\"omit\")[0][0]\n",
      "100%|█████████████████████████████████████████████████████████████████████████████████████| 36/36 [00:00<00:00, 11658.94it/s]\n",
      "/home/vsridhar/.local/lib/python3.10/site-packages/deeplabcut/refine_training_dataset/stitch.py:690: UserWarning: No optimal solution found. Employing black magic...\n",
      "  warnings.warn(\"No optimal solution found. Employing black magic...\")\n",
      "/home/vsridhar/.local/lib/python3.10/site-packages/deeplabcut/refine_training_dataset/stitch.py:763: UserWarning: Only 36 tracks could be reconstructed.\n",
      "  warnings.warn(f\"Only {len(self.paths)} tracks could be reconstructed.\")\n"
     ]
    },
    {
     "name": "stdout",
     "output_type": "stream",
     "text": [
      "Starting to analyze %  /media/vsridhar/T7/Work/Data/BlackbuckAnnotations/P3/downsampled/SSD7/20230317/SM_Lek1/P3D5/20230317_SM_Lek1_P3D5_DJI_0680.MP4\n",
      "Loading  /media/vsridhar/T7/Work/Data/BlackbuckAnnotations/P3/downsampled/SSD7/20230317/SM_Lek1/P3D5/20230317_SM_Lek1_P3D5_DJI_0680.MP4\n",
      "Duration of video [s]:  193.99 , recorded with  29.97 fps!\n",
      "Overall # of frames:  5814  found with (before cropping) frame dimensions:  1824 1026\n",
      "Starting to extract posture from the video(s) with batchsize: 8\n"
     ]
    },
    {
     "name": "stderr",
     "output_type": "stream",
     "text": [
      "100%|████████████████████████████████████████████████████████████████████████████████████| 5814/5814 [04:30<00:00, 21.47it/s]\n"
     ]
    },
    {
     "name": "stdout",
     "output_type": "stream",
     "text": [
      "Video Analyzed. Saving results in /home/vsridhar/DATA/DeepLabCut/projects/07_TerritoryDetectionP3-Vivek-2023-08-18/output/SSD7/20230317/SM_Lek1/P3D5...\n",
      "Using snapshot-50000 for model /home/vsridhar/DATA/DeepLabCut/projects/07_TerritoryDetectionP3-Vivek-2023-08-18/dlc-models/iteration-0/07_TerritoryDetectionP3Aug18-trainset90shuffle1\n",
      "Processing...  /media/vsridhar/T7/Work/Data/BlackbuckAnnotations/P3/downsampled/SSD7/20230317/SM_Lek1/P3D5/20230317_SM_Lek1_P3D5_DJI_0680.MP4\n",
      "Analyzing /home/vsridhar/DATA/DeepLabCut/projects/07_TerritoryDetectionP3-Vivek-2023-08-18/output/SSD7/20230317/SM_Lek1/P3D5/20230317_SM_Lek1_P3D5_DJI_0680DLC_dlcrnetms5_07_TerritoryDetectionP3Aug18shuffle1_50000.h5\n"
     ]
    },
    {
     "name": "stderr",
     "output_type": "stream",
     "text": [
      "100%|███████████████████████████████████████████████████████████████████████████████████| 5814/5814 [00:08<00:00, 704.87it/s]\n",
      "5814it [00:15, 376.84it/s]\n"
     ]
    },
    {
     "name": "stdout",
     "output_type": "stream",
     "text": [
      "The tracklets were created (i.e., under the hood deeplabcut.convert_detections2tracklets was run). Now you can 'refine_tracklets' in the GUI, or run 'deeplabcut.stitch_tracklets'.\n",
      "Processing...  /media/vsridhar/T7/Work/Data/BlackbuckAnnotations/P3/downsampled/SSD7/20230317/SM_Lek1/P3D5/20230317_SM_Lek1_P3D5_DJI_0680.MP4\n"
     ]
    },
    {
     "name": "stderr",
     "output_type": "stream",
     "text": [
      "/home/vsridhar/.local/lib/python3.10/site-packages/deeplabcut/refine_training_dataset/stitch.py:138: FutureWarning: Unlike other reduction functions (e.g. `skew`, `kurtosis`), the default behavior of `mode` typically preserves the axis it acts along. In SciPy 1.11.0, this behavior will change: the default value of `keepdims` will become False, the `axis` over which the statistic is taken will be eliminated, and the value None will no longer be accepted. Set `keepdims` to True or False to avoid this warning.\n",
      "  return mode(self.data[..., 3], axis=None, nan_policy=\"omit\")[0][0]\n",
      "100%|█████████████████████████████████████████████████████████████████████████████████████| 26/26 [00:00<00:00, 17195.19it/s]\n",
      "/home/vsridhar/.local/lib/python3.10/site-packages/deeplabcut/refine_training_dataset/stitch.py:690: UserWarning: No optimal solution found. Employing black magic...\n",
      "  warnings.warn(\"No optimal solution found. Employing black magic...\")\n",
      "/home/vsridhar/.local/lib/python3.10/site-packages/deeplabcut/refine_training_dataset/stitch.py:763: UserWarning: Only 26 tracks could be reconstructed.\n",
      "  warnings.warn(f\"Only {len(self.paths)} tracks could be reconstructed.\")\n",
      "/home/vsridhar/.local/lib/python3.10/site-packages/tensorflow/python/keras/engine/base_layer_v1.py:1694: UserWarning: `layer.apply` is deprecated and will be removed in a future version. Please use `layer.__call__` method instead.\n",
      "  warnings.warn('`layer.apply` is deprecated and '\n",
      "/home/vsridhar/.local/lib/python3.10/site-packages/tf_slim/layers/layers.py:684: UserWarning: `layer.apply` is deprecated and will be removed in a future version. Please use `layer.__call__` method instead.\n",
      "  outputs = layer.apply(inputs, training=is_training)\n"
     ]
    },
    {
     "name": "stdout",
     "output_type": "stream",
     "text": [
      "The videos are analyzed. Time to assemble animals and track 'em... \n",
      " Call 'create_video_with_all_detections' to check multi-animal detection quality before tracking.\n",
      "If the tracking is not satisfactory for some videos, consider expanding the training set. You can use the function 'extract_outlier_frames' to extract a few representative outlier frames.\n",
      "Using snapshot-50000 for model /home/vsridhar/DATA/DeepLabCut/projects/07_TerritoryDetectionP3-Vivek-2023-08-18/dlc-models/iteration-0/07_TerritoryDetectionP3Aug18-trainset90shuffle1\n",
      "Activating extracting of PAFs\n",
      "Analyzing all the videos in the directory...\n",
      "Starting to analyze %  /media/vsridhar/T7/Work/Data/BlackbuckAnnotations/P3/downsampled/SSD7/20230317/SM_Lek1/P3D6/20230317_SM_Lek1_P3D6_DJI_0021.MP4\n",
      "Loading  /media/vsridhar/T7/Work/Data/BlackbuckAnnotations/P3/downsampled/SSD7/20230317/SM_Lek1/P3D6/20230317_SM_Lek1_P3D6_DJI_0021.MP4\n",
      "Duration of video [s]:  194.09 , recorded with  29.97 fps!\n",
      "Overall # of frames:  5817  found with (before cropping) frame dimensions:  1824 1026\n",
      "Starting to extract posture from the video(s) with batchsize: 8\n"
     ]
    },
    {
     "name": "stderr",
     "output_type": "stream",
     "text": [
      "100%|████████████████████████████████████████████████████████████████████████████████████| 5817/5817 [04:33<00:00, 21.29it/s]\n"
     ]
    },
    {
     "name": "stdout",
     "output_type": "stream",
     "text": [
      "Video Analyzed. Saving results in /home/vsridhar/DATA/DeepLabCut/projects/07_TerritoryDetectionP3-Vivek-2023-08-18/output/SSD7/20230317/SM_Lek1/P3D6...\n",
      "Using snapshot-50000 for model /home/vsridhar/DATA/DeepLabCut/projects/07_TerritoryDetectionP3-Vivek-2023-08-18/dlc-models/iteration-0/07_TerritoryDetectionP3Aug18-trainset90shuffle1\n",
      "Processing...  /media/vsridhar/T7/Work/Data/BlackbuckAnnotations/P3/downsampled/SSD7/20230317/SM_Lek1/P3D6/20230317_SM_Lek1_P3D6_DJI_0021.MP4\n",
      "Analyzing /home/vsridhar/DATA/DeepLabCut/projects/07_TerritoryDetectionP3-Vivek-2023-08-18/output/SSD7/20230317/SM_Lek1/P3D6/20230317_SM_Lek1_P3D6_DJI_0021DLC_dlcrnetms5_07_TerritoryDetectionP3Aug18shuffle1_50000.h5\n"
     ]
    },
    {
     "name": "stderr",
     "output_type": "stream",
     "text": [
      "100%|███████████████████████████████████████████████████████████████████████████████████| 5817/5817 [00:08<00:00, 666.45it/s]\n",
      "5817it [00:16, 359.55it/s]\n"
     ]
    },
    {
     "name": "stdout",
     "output_type": "stream",
     "text": [
      "The tracklets were created (i.e., under the hood deeplabcut.convert_detections2tracklets was run). Now you can 'refine_tracklets' in the GUI, or run 'deeplabcut.stitch_tracklets'.\n",
      "Processing...  /media/vsridhar/T7/Work/Data/BlackbuckAnnotations/P3/downsampled/SSD7/20230317/SM_Lek1/P3D6/20230317_SM_Lek1_P3D6_DJI_0021.MP4\n"
     ]
    },
    {
     "name": "stderr",
     "output_type": "stream",
     "text": [
      "/home/vsridhar/.local/lib/python3.10/site-packages/deeplabcut/refine_training_dataset/stitch.py:138: FutureWarning: Unlike other reduction functions (e.g. `skew`, `kurtosis`), the default behavior of `mode` typically preserves the axis it acts along. In SciPy 1.11.0, this behavior will change: the default value of `keepdims` will become False, the `axis` over which the statistic is taken will be eliminated, and the value None will no longer be accepted. Set `keepdims` to True or False to avoid this warning.\n",
      "  return mode(self.data[..., 3], axis=None, nan_policy=\"omit\")[0][0]\n",
      "100%|█████████████████████████████████████████████████████████████████████████████████████| 38/38 [00:00<00:00, 10103.55it/s]\n",
      "/home/vsridhar/.local/lib/python3.10/site-packages/deeplabcut/refine_training_dataset/stitch.py:690: UserWarning: No optimal solution found. Employing black magic...\n",
      "  warnings.warn(\"No optimal solution found. Employing black magic...\")\n",
      "/home/vsridhar/.local/lib/python3.10/site-packages/deeplabcut/refine_training_dataset/stitch.py:763: UserWarning: Only 38 tracks could be reconstructed.\n",
      "  warnings.warn(f\"Only {len(self.paths)} tracks could be reconstructed.\")\n"
     ]
    },
    {
     "name": "stdout",
     "output_type": "stream",
     "text": [
      "Starting to analyze %  /media/vsridhar/T7/Work/Data/BlackbuckAnnotations/P3/downsampled/SSD7/20230317/SM_Lek1/P3D6/20230317_SM_Lek1_P3D6_DJI_0012.MP4\n",
      "Loading  /media/vsridhar/T7/Work/Data/BlackbuckAnnotations/P3/downsampled/SSD7/20230317/SM_Lek1/P3D6/20230317_SM_Lek1_P3D6_DJI_0012.MP4\n",
      "Duration of video [s]:  193.66 , recorded with  29.97 fps!\n",
      "Overall # of frames:  5804  found with (before cropping) frame dimensions:  1824 1026\n",
      "Starting to extract posture from the video(s) with batchsize: 8\n"
     ]
    },
    {
     "name": "stderr",
     "output_type": "stream",
     "text": [
      "100%|████████████████████████████████████████████████████████████████████████████████████| 5804/5804 [04:35<00:00, 21.06it/s]\n"
     ]
    },
    {
     "name": "stdout",
     "output_type": "stream",
     "text": [
      "Video Analyzed. Saving results in /home/vsridhar/DATA/DeepLabCut/projects/07_TerritoryDetectionP3-Vivek-2023-08-18/output/SSD7/20230317/SM_Lek1/P3D6...\n",
      "Using snapshot-50000 for model /home/vsridhar/DATA/DeepLabCut/projects/07_TerritoryDetectionP3-Vivek-2023-08-18/dlc-models/iteration-0/07_TerritoryDetectionP3Aug18-trainset90shuffle1\n",
      "Processing...  /media/vsridhar/T7/Work/Data/BlackbuckAnnotations/P3/downsampled/SSD7/20230317/SM_Lek1/P3D6/20230317_SM_Lek1_P3D6_DJI_0012.MP4\n",
      "Analyzing /home/vsridhar/DATA/DeepLabCut/projects/07_TerritoryDetectionP3-Vivek-2023-08-18/output/SSD7/20230317/SM_Lek1/P3D6/20230317_SM_Lek1_P3D6_DJI_0012DLC_dlcrnetms5_07_TerritoryDetectionP3Aug18shuffle1_50000.h5\n"
     ]
    },
    {
     "name": "stderr",
     "output_type": "stream",
     "text": [
      "100%|███████████████████████████████████████████████████████████████████████████████████| 5804/5804 [00:09<00:00, 585.79it/s]\n",
      "5804it [00:17, 328.82it/s]\n"
     ]
    },
    {
     "name": "stdout",
     "output_type": "stream",
     "text": [
      "The tracklets were created (i.e., under the hood deeplabcut.convert_detections2tracklets was run). Now you can 'refine_tracklets' in the GUI, or run 'deeplabcut.stitch_tracklets'.\n",
      "Processing...  /media/vsridhar/T7/Work/Data/BlackbuckAnnotations/P3/downsampled/SSD7/20230317/SM_Lek1/P3D6/20230317_SM_Lek1_P3D6_DJI_0012.MP4\n"
     ]
    },
    {
     "name": "stderr",
     "output_type": "stream",
     "text": [
      "/home/vsridhar/.local/lib/python3.10/site-packages/deeplabcut/refine_training_dataset/stitch.py:138: FutureWarning: Unlike other reduction functions (e.g. `skew`, `kurtosis`), the default behavior of `mode` typically preserves the axis it acts along. In SciPy 1.11.0, this behavior will change: the default value of `keepdims` will become False, the `axis` over which the statistic is taken will be eliminated, and the value None will no longer be accepted. Set `keepdims` to True or False to avoid this warning.\n",
      "  return mode(self.data[..., 3], axis=None, nan_policy=\"omit\")[0][0]\n",
      "100%|██████████████████████████████████████████████████████████████████████████████████████| 74/74 [00:00<00:00, 2539.84it/s]\n"
     ]
    },
    {
     "name": "stdout",
     "output_type": "stream",
     "text": [
      "Starting to analyze %  /media/vsridhar/T7/Work/Data/BlackbuckAnnotations/P3/downsampled/SSD7/20230317/SM_Lek1/P3D6/20230317_SM_Lek1_P3D6_DJI_0022.MP4\n",
      "Loading  /media/vsridhar/T7/Work/Data/BlackbuckAnnotations/P3/downsampled/SSD7/20230317/SM_Lek1/P3D6/20230317_SM_Lek1_P3D6_DJI_0022.MP4\n",
      "Duration of video [s]:  193.99 , recorded with  29.97 fps!\n",
      "Overall # of frames:  5814  found with (before cropping) frame dimensions:  1824 1026\n",
      "Starting to extract posture from the video(s) with batchsize: 8\n"
     ]
    },
    {
     "name": "stderr",
     "output_type": "stream",
     "text": [
      "100%|████████████████████████████████████████████████████████████████████████████████████| 5814/5814 [04:32<00:00, 21.30it/s]\n"
     ]
    },
    {
     "name": "stdout",
     "output_type": "stream",
     "text": [
      "Video Analyzed. Saving results in /home/vsridhar/DATA/DeepLabCut/projects/07_TerritoryDetectionP3-Vivek-2023-08-18/output/SSD7/20230317/SM_Lek1/P3D6...\n",
      "Using snapshot-50000 for model /home/vsridhar/DATA/DeepLabCut/projects/07_TerritoryDetectionP3-Vivek-2023-08-18/dlc-models/iteration-0/07_TerritoryDetectionP3Aug18-trainset90shuffle1\n",
      "Processing...  /media/vsridhar/T7/Work/Data/BlackbuckAnnotations/P3/downsampled/SSD7/20230317/SM_Lek1/P3D6/20230317_SM_Lek1_P3D6_DJI_0022.MP4\n",
      "Analyzing /home/vsridhar/DATA/DeepLabCut/projects/07_TerritoryDetectionP3-Vivek-2023-08-18/output/SSD7/20230317/SM_Lek1/P3D6/20230317_SM_Lek1_P3D6_DJI_0022DLC_dlcrnetms5_07_TerritoryDetectionP3Aug18shuffle1_50000.h5\n"
     ]
    },
    {
     "name": "stderr",
     "output_type": "stream",
     "text": [
      "100%|███████████████████████████████████████████████████████████████████████████████████| 5814/5814 [00:09<00:00, 602.70it/s]\n",
      "5814it [00:16, 355.95it/s]\n"
     ]
    },
    {
     "name": "stdout",
     "output_type": "stream",
     "text": [
      "The tracklets were created (i.e., under the hood deeplabcut.convert_detections2tracklets was run). Now you can 'refine_tracklets' in the GUI, or run 'deeplabcut.stitch_tracklets'.\n",
      "Processing...  /media/vsridhar/T7/Work/Data/BlackbuckAnnotations/P3/downsampled/SSD7/20230317/SM_Lek1/P3D6/20230317_SM_Lek1_P3D6_DJI_0022.MP4\n"
     ]
    },
    {
     "name": "stderr",
     "output_type": "stream",
     "text": [
      "/home/vsridhar/.local/lib/python3.10/site-packages/deeplabcut/refine_training_dataset/stitch.py:138: FutureWarning: Unlike other reduction functions (e.g. `skew`, `kurtosis`), the default behavior of `mode` typically preserves the axis it acts along. In SciPy 1.11.0, this behavior will change: the default value of `keepdims` will become False, the `axis` over which the statistic is taken will be eliminated, and the value None will no longer be accepted. Set `keepdims` to True or False to avoid this warning.\n",
      "  return mode(self.data[..., 3], axis=None, nan_policy=\"omit\")[0][0]\n",
      "100%|█████████████████████████████████████████████████████████████████████████████████████| 38/38 [00:00<00:00, 18345.25it/s]\n",
      "/home/vsridhar/.local/lib/python3.10/site-packages/deeplabcut/refine_training_dataset/stitch.py:690: UserWarning: No optimal solution found. Employing black magic...\n",
      "  warnings.warn(\"No optimal solution found. Employing black magic...\")\n",
      "/home/vsridhar/.local/lib/python3.10/site-packages/deeplabcut/refine_training_dataset/stitch.py:763: UserWarning: Only 38 tracks could be reconstructed.\n",
      "  warnings.warn(f\"Only {len(self.paths)} tracks could be reconstructed.\")\n"
     ]
    },
    {
     "name": "stdout",
     "output_type": "stream",
     "text": [
      "Starting to analyze %  /media/vsridhar/T7/Work/Data/BlackbuckAnnotations/P3/downsampled/SSD7/20230317/SM_Lek1/P3D6/20230317_SM_Lek1_P3D6_DJI_0029.MP4\n",
      "Loading  /media/vsridhar/T7/Work/Data/BlackbuckAnnotations/P3/downsampled/SSD7/20230317/SM_Lek1/P3D6/20230317_SM_Lek1_P3D6_DJI_0029.MP4\n",
      "Duration of video [s]:  193.99 , recorded with  29.97 fps!\n",
      "Overall # of frames:  5814  found with (before cropping) frame dimensions:  1824 1026\n",
      "Starting to extract posture from the video(s) with batchsize: 8\n"
     ]
    },
    {
     "name": "stderr",
     "output_type": "stream",
     "text": [
      "100%|████████████████████████████████████████████████████████████████████████████████████| 5814/5814 [04:32<00:00, 21.31it/s]\n"
     ]
    },
    {
     "name": "stdout",
     "output_type": "stream",
     "text": [
      "Video Analyzed. Saving results in /home/vsridhar/DATA/DeepLabCut/projects/07_TerritoryDetectionP3-Vivek-2023-08-18/output/SSD7/20230317/SM_Lek1/P3D6...\n",
      "Using snapshot-50000 for model /home/vsridhar/DATA/DeepLabCut/projects/07_TerritoryDetectionP3-Vivek-2023-08-18/dlc-models/iteration-0/07_TerritoryDetectionP3Aug18-trainset90shuffle1\n",
      "Processing...  /media/vsridhar/T7/Work/Data/BlackbuckAnnotations/P3/downsampled/SSD7/20230317/SM_Lek1/P3D6/20230317_SM_Lek1_P3D6_DJI_0029.MP4\n",
      "Analyzing /home/vsridhar/DATA/DeepLabCut/projects/07_TerritoryDetectionP3-Vivek-2023-08-18/output/SSD7/20230317/SM_Lek1/P3D6/20230317_SM_Lek1_P3D6_DJI_0029DLC_dlcrnetms5_07_TerritoryDetectionP3Aug18shuffle1_50000.h5\n"
     ]
    },
    {
     "name": "stderr",
     "output_type": "stream",
     "text": [
      "100%|███████████████████████████████████████████████████████████████████████████████████| 5814/5814 [00:08<00:00, 683.10it/s]\n",
      "5814it [00:16, 359.37it/s]\n"
     ]
    },
    {
     "name": "stdout",
     "output_type": "stream",
     "text": [
      "The tracklets were created (i.e., under the hood deeplabcut.convert_detections2tracklets was run). Now you can 'refine_tracklets' in the GUI, or run 'deeplabcut.stitch_tracklets'.\n",
      "Processing...  /media/vsridhar/T7/Work/Data/BlackbuckAnnotations/P3/downsampled/SSD7/20230317/SM_Lek1/P3D6/20230317_SM_Lek1_P3D6_DJI_0029.MP4\n"
     ]
    },
    {
     "name": "stderr",
     "output_type": "stream",
     "text": [
      "/home/vsridhar/.local/lib/python3.10/site-packages/deeplabcut/refine_training_dataset/stitch.py:138: FutureWarning: Unlike other reduction functions (e.g. `skew`, `kurtosis`), the default behavior of `mode` typically preserves the axis it acts along. In SciPy 1.11.0, this behavior will change: the default value of `keepdims` will become False, the `axis` over which the statistic is taken will be eliminated, and the value None will no longer be accepted. Set `keepdims` to True or False to avoid this warning.\n",
      "  return mode(self.data[..., 3], axis=None, nan_policy=\"omit\")[0][0]\n",
      "100%|█████████████████████████████████████████████████████████████████████████████████████| 34/34 [00:00<00:00, 12163.62it/s]\n",
      "/home/vsridhar/.local/lib/python3.10/site-packages/deeplabcut/refine_training_dataset/stitch.py:690: UserWarning: No optimal solution found. Employing black magic...\n",
      "  warnings.warn(\"No optimal solution found. Employing black magic...\")\n",
      "/home/vsridhar/.local/lib/python3.10/site-packages/deeplabcut/refine_training_dataset/stitch.py:763: UserWarning: Only 34 tracks could be reconstructed.\n",
      "  warnings.warn(f\"Only {len(self.paths)} tracks could be reconstructed.\")\n"
     ]
    },
    {
     "name": "stdout",
     "output_type": "stream",
     "text": [
      "Starting to analyze %  /media/vsridhar/T7/Work/Data/BlackbuckAnnotations/P3/downsampled/SSD7/20230317/SM_Lek1/P3D6/20230317_SM_Lek1_P3D6_DJI_0032.MP4\n",
      "Loading  /media/vsridhar/T7/Work/Data/BlackbuckAnnotations/P3/downsampled/SSD7/20230317/SM_Lek1/P3D6/20230317_SM_Lek1_P3D6_DJI_0032.MP4\n",
      "Duration of video [s]:  194.06 , recorded with  29.97 fps!\n",
      "Overall # of frames:  5816  found with (before cropping) frame dimensions:  1824 1026\n",
      "Starting to extract posture from the video(s) with batchsize: 8\n"
     ]
    },
    {
     "name": "stderr",
     "output_type": "stream",
     "text": [
      "100%|████████████████████████████████████████████████████████████████████████████████████| 5816/5816 [04:33<00:00, 21.24it/s]\n"
     ]
    },
    {
     "name": "stdout",
     "output_type": "stream",
     "text": [
      "Video Analyzed. Saving results in /home/vsridhar/DATA/DeepLabCut/projects/07_TerritoryDetectionP3-Vivek-2023-08-18/output/SSD7/20230317/SM_Lek1/P3D6...\n",
      "Using snapshot-50000 for model /home/vsridhar/DATA/DeepLabCut/projects/07_TerritoryDetectionP3-Vivek-2023-08-18/dlc-models/iteration-0/07_TerritoryDetectionP3Aug18-trainset90shuffle1\n",
      "Processing...  /media/vsridhar/T7/Work/Data/BlackbuckAnnotations/P3/downsampled/SSD7/20230317/SM_Lek1/P3D6/20230317_SM_Lek1_P3D6_DJI_0032.MP4\n",
      "Analyzing /home/vsridhar/DATA/DeepLabCut/projects/07_TerritoryDetectionP3-Vivek-2023-08-18/output/SSD7/20230317/SM_Lek1/P3D6/20230317_SM_Lek1_P3D6_DJI_0032DLC_dlcrnetms5_07_TerritoryDetectionP3Aug18shuffle1_50000.h5\n"
     ]
    },
    {
     "name": "stderr",
     "output_type": "stream",
     "text": [
      "100%|███████████████████████████████████████████████████████████████████████████████████| 5816/5816 [00:08<00:00, 690.58it/s]\n",
      "5816it [00:16, 362.55it/s]\n"
     ]
    },
    {
     "name": "stdout",
     "output_type": "stream",
     "text": [
      "The tracklets were created (i.e., under the hood deeplabcut.convert_detections2tracklets was run). Now you can 'refine_tracklets' in the GUI, or run 'deeplabcut.stitch_tracklets'.\n",
      "Processing...  /media/vsridhar/T7/Work/Data/BlackbuckAnnotations/P3/downsampled/SSD7/20230317/SM_Lek1/P3D6/20230317_SM_Lek1_P3D6_DJI_0032.MP4\n"
     ]
    },
    {
     "name": "stderr",
     "output_type": "stream",
     "text": [
      "/home/vsridhar/.local/lib/python3.10/site-packages/deeplabcut/refine_training_dataset/stitch.py:138: FutureWarning: Unlike other reduction functions (e.g. `skew`, `kurtosis`), the default behavior of `mode` typically preserves the axis it acts along. In SciPy 1.11.0, this behavior will change: the default value of `keepdims` will become False, the `axis` over which the statistic is taken will be eliminated, and the value None will no longer be accepted. Set `keepdims` to True or False to avoid this warning.\n",
      "  return mode(self.data[..., 3], axis=None, nan_policy=\"omit\")[0][0]\n",
      "100%|████████████████████████████████████████████████████████████████████████████████████| 25/25 [00:00<00:00, 185917.73it/s]\n",
      "/home/vsridhar/.local/lib/python3.10/site-packages/deeplabcut/refine_training_dataset/stitch.py:690: UserWarning: No optimal solution found. Employing black magic...\n",
      "  warnings.warn(\"No optimal solution found. Employing black magic...\")\n",
      "/home/vsridhar/.local/lib/python3.10/site-packages/deeplabcut/refine_training_dataset/stitch.py:763: UserWarning: Only 25 tracks could be reconstructed.\n",
      "  warnings.warn(f\"Only {len(self.paths)} tracks could be reconstructed.\")\n"
     ]
    },
    {
     "name": "stdout",
     "output_type": "stream",
     "text": [
      "Starting to analyze %  /media/vsridhar/T7/Work/Data/BlackbuckAnnotations/P3/downsampled/SSD7/20230317/SM_Lek1/P3D6/20230317_SM_Lek1_P3D6_DJI_0013.MP4\n",
      "Loading  /media/vsridhar/T7/Work/Data/BlackbuckAnnotations/P3/downsampled/SSD7/20230317/SM_Lek1/P3D6/20230317_SM_Lek1_P3D6_DJI_0013.MP4\n",
      "Duration of video [s]:  194.03 , recorded with  29.97 fps!\n",
      "Overall # of frames:  5815  found with (before cropping) frame dimensions:  1824 1026\n",
      "Starting to extract posture from the video(s) with batchsize: 8\n"
     ]
    },
    {
     "name": "stderr",
     "output_type": "stream",
     "text": [
      "100%|████████████████████████████████████████████████████████████████████████████████████| 5815/5815 [04:31<00:00, 21.43it/s]\n"
     ]
    },
    {
     "name": "stdout",
     "output_type": "stream",
     "text": [
      "Video Analyzed. Saving results in /home/vsridhar/DATA/DeepLabCut/projects/07_TerritoryDetectionP3-Vivek-2023-08-18/output/SSD7/20230317/SM_Lek1/P3D6...\n",
      "Using snapshot-50000 for model /home/vsridhar/DATA/DeepLabCut/projects/07_TerritoryDetectionP3-Vivek-2023-08-18/dlc-models/iteration-0/07_TerritoryDetectionP3Aug18-trainset90shuffle1\n",
      "Processing...  /media/vsridhar/T7/Work/Data/BlackbuckAnnotations/P3/downsampled/SSD7/20230317/SM_Lek1/P3D6/20230317_SM_Lek1_P3D6_DJI_0013.MP4\n",
      "Analyzing /home/vsridhar/DATA/DeepLabCut/projects/07_TerritoryDetectionP3-Vivek-2023-08-18/output/SSD7/20230317/SM_Lek1/P3D6/20230317_SM_Lek1_P3D6_DJI_0013DLC_dlcrnetms5_07_TerritoryDetectionP3Aug18shuffle1_50000.h5\n"
     ]
    },
    {
     "name": "stderr",
     "output_type": "stream",
     "text": [
      "100%|███████████████████████████████████████████████████████████████████████████████████| 5815/5815 [00:08<00:00, 656.77it/s]\n",
      "5815it [00:16, 360.67it/s]\n"
     ]
    },
    {
     "name": "stdout",
     "output_type": "stream",
     "text": [
      "The tracklets were created (i.e., under the hood deeplabcut.convert_detections2tracklets was run). Now you can 'refine_tracklets' in the GUI, or run 'deeplabcut.stitch_tracklets'.\n",
      "Processing...  /media/vsridhar/T7/Work/Data/BlackbuckAnnotations/P3/downsampled/SSD7/20230317/SM_Lek1/P3D6/20230317_SM_Lek1_P3D6_DJI_0013.MP4\n"
     ]
    },
    {
     "name": "stderr",
     "output_type": "stream",
     "text": [
      "/home/vsridhar/.local/lib/python3.10/site-packages/deeplabcut/refine_training_dataset/stitch.py:138: FutureWarning: Unlike other reduction functions (e.g. `skew`, `kurtosis`), the default behavior of `mode` typically preserves the axis it acts along. In SciPy 1.11.0, this behavior will change: the default value of `keepdims` will become False, the `axis` over which the statistic is taken will be eliminated, and the value None will no longer be accepted. Set `keepdims` to True or False to avoid this warning.\n",
      "  return mode(self.data[..., 3], axis=None, nan_policy=\"omit\")[0][0]\n",
      "100%|█████████████████████████████████████████████████████████████████████████████████████| 31/31 [00:00<00:00, 12019.17it/s]\n",
      "/home/vsridhar/.local/lib/python3.10/site-packages/deeplabcut/refine_training_dataset/stitch.py:690: UserWarning: No optimal solution found. Employing black magic...\n",
      "  warnings.warn(\"No optimal solution found. Employing black magic...\")\n",
      "/home/vsridhar/.local/lib/python3.10/site-packages/deeplabcut/refine_training_dataset/stitch.py:763: UserWarning: Only 31 tracks could be reconstructed.\n",
      "  warnings.warn(f\"Only {len(self.paths)} tracks could be reconstructed.\")\n"
     ]
    },
    {
     "name": "stdout",
     "output_type": "stream",
     "text": [
      "Starting to analyze %  /media/vsridhar/T7/Work/Data/BlackbuckAnnotations/P3/downsampled/SSD7/20230317/SM_Lek1/P3D6/20230317_SM_Lek1_P3D6_DJI_0018.MP4\n",
      "Loading  /media/vsridhar/T7/Work/Data/BlackbuckAnnotations/P3/downsampled/SSD7/20230317/SM_Lek1/P3D6/20230317_SM_Lek1_P3D6_DJI_0018.MP4\n",
      "Duration of video [s]:  4.44 , recorded with  29.97 fps!\n",
      "Overall # of frames:  133  found with (before cropping) frame dimensions:  1824 1026\n",
      "Starting to extract posture from the video(s) with batchsize: 8\n"
     ]
    },
    {
     "name": "stderr",
     "output_type": "stream",
     "text": [
      "100%|██████████████████████████████████████████████████████████████████████████████████████| 133/133 [00:06<00:00, 20.75it/s]\n"
     ]
    },
    {
     "name": "stdout",
     "output_type": "stream",
     "text": [
      "Video Analyzed. Saving results in /home/vsridhar/DATA/DeepLabCut/projects/07_TerritoryDetectionP3-Vivek-2023-08-18/output/SSD7/20230317/SM_Lek1/P3D6...\n",
      "Using snapshot-50000 for model /home/vsridhar/DATA/DeepLabCut/projects/07_TerritoryDetectionP3-Vivek-2023-08-18/dlc-models/iteration-0/07_TerritoryDetectionP3Aug18-trainset90shuffle1\n",
      "Processing...  /media/vsridhar/T7/Work/Data/BlackbuckAnnotations/P3/downsampled/SSD7/20230317/SM_Lek1/P3D6/20230317_SM_Lek1_P3D6_DJI_0018.MP4\n",
      "Analyzing /home/vsridhar/DATA/DeepLabCut/projects/07_TerritoryDetectionP3-Vivek-2023-08-18/output/SSD7/20230317/SM_Lek1/P3D6/20230317_SM_Lek1_P3D6_DJI_0018DLC_dlcrnetms5_07_TerritoryDetectionP3Aug18shuffle1_50000.h5\n"
     ]
    },
    {
     "name": "stderr",
     "output_type": "stream",
     "text": [
      "100%|█████████████████████████████████████████████████████████████████████████████████████| 133/133 [00:00<00:00, 654.59it/s]\n",
      "133it [00:00, 329.23it/s]\n",
      "/home/vsridhar/.local/lib/python3.10/site-packages/deeplabcut/refine_training_dataset/stitch.py:138: FutureWarning: Unlike other reduction functions (e.g. `skew`, `kurtosis`), the default behavior of `mode` typically preserves the axis it acts along. In SciPy 1.11.0, this behavior will change: the default value of `keepdims` will become False, the `axis` over which the statistic is taken will be eliminated, and the value None will no longer be accepted. Set `keepdims` to True or False to avoid this warning.\n",
      "  return mode(self.data[..., 3], axis=None, nan_policy=\"omit\")[0][0]\n"
     ]
    },
    {
     "name": "stdout",
     "output_type": "stream",
     "text": [
      "The tracklets were created (i.e., under the hood deeplabcut.convert_detections2tracklets was run). Now you can 'refine_tracklets' in the GUI, or run 'deeplabcut.stitch_tracklets'.\n",
      "Processing...  /media/vsridhar/T7/Work/Data/BlackbuckAnnotations/P3/downsampled/SSD7/20230317/SM_Lek1/P3D6/20230317_SM_Lek1_P3D6_DJI_0018.MP4\n"
     ]
    },
    {
     "name": "stderr",
     "output_type": "stream",
     "text": [
      "100%|████████████████████████████████████████████████████████████████████████████████████| 25/25 [00:00<00:00, 182361.04it/s]\n",
      "/home/vsridhar/.local/lib/python3.10/site-packages/deeplabcut/refine_training_dataset/stitch.py:690: UserWarning: No optimal solution found. Employing black magic...\n",
      "  warnings.warn(\"No optimal solution found. Employing black magic...\")\n",
      "/home/vsridhar/.local/lib/python3.10/site-packages/deeplabcut/refine_training_dataset/stitch.py:763: UserWarning: Only 25 tracks could be reconstructed.\n",
      "  warnings.warn(f\"Only {len(self.paths)} tracks could be reconstructed.\")\n"
     ]
    },
    {
     "name": "stdout",
     "output_type": "stream",
     "text": [
      "Starting to analyze %  /media/vsridhar/T7/Work/Data/BlackbuckAnnotations/P3/downsampled/SSD7/20230317/SM_Lek1/P3D6/20230317_SM_Lek1_P3D6_DJI_0015.MP4\n",
      "Loading  /media/vsridhar/T7/Work/Data/BlackbuckAnnotations/P3/downsampled/SSD7/20230317/SM_Lek1/P3D6/20230317_SM_Lek1_P3D6_DJI_0015.MP4\n",
      "Duration of video [s]:  193.99 , recorded with  29.97 fps!\n",
      "Overall # of frames:  5814  found with (before cropping) frame dimensions:  1824 1026\n",
      "Starting to extract posture from the video(s) with batchsize: 8\n"
     ]
    },
    {
     "name": "stderr",
     "output_type": "stream",
     "text": [
      "100%|████████████████████████████████████████████████████████████████████████████████████| 5814/5814 [04:31<00:00, 21.40it/s]\n"
     ]
    },
    {
     "name": "stdout",
     "output_type": "stream",
     "text": [
      "Video Analyzed. Saving results in /home/vsridhar/DATA/DeepLabCut/projects/07_TerritoryDetectionP3-Vivek-2023-08-18/output/SSD7/20230317/SM_Lek1/P3D6...\n",
      "Using snapshot-50000 for model /home/vsridhar/DATA/DeepLabCut/projects/07_TerritoryDetectionP3-Vivek-2023-08-18/dlc-models/iteration-0/07_TerritoryDetectionP3Aug18-trainset90shuffle1\n",
      "Processing...  /media/vsridhar/T7/Work/Data/BlackbuckAnnotations/P3/downsampled/SSD7/20230317/SM_Lek1/P3D6/20230317_SM_Lek1_P3D6_DJI_0015.MP4\n",
      "Analyzing /home/vsridhar/DATA/DeepLabCut/projects/07_TerritoryDetectionP3-Vivek-2023-08-18/output/SSD7/20230317/SM_Lek1/P3D6/20230317_SM_Lek1_P3D6_DJI_0015DLC_dlcrnetms5_07_TerritoryDetectionP3Aug18shuffle1_50000.h5\n"
     ]
    },
    {
     "name": "stderr",
     "output_type": "stream",
     "text": [
      "100%|███████████████████████████████████████████████████████████████████████████████████| 5814/5814 [00:08<00:00, 680.19it/s]\n",
      "5814it [00:15, 375.65it/s]\n"
     ]
    },
    {
     "name": "stdout",
     "output_type": "stream",
     "text": [
      "The tracklets were created (i.e., under the hood deeplabcut.convert_detections2tracklets was run). Now you can 'refine_tracklets' in the GUI, or run 'deeplabcut.stitch_tracklets'.\n",
      "Processing...  /media/vsridhar/T7/Work/Data/BlackbuckAnnotations/P3/downsampled/SSD7/20230317/SM_Lek1/P3D6/20230317_SM_Lek1_P3D6_DJI_0015.MP4\n"
     ]
    },
    {
     "name": "stderr",
     "output_type": "stream",
     "text": [
      "/home/vsridhar/.local/lib/python3.10/site-packages/deeplabcut/refine_training_dataset/stitch.py:138: FutureWarning: Unlike other reduction functions (e.g. `skew`, `kurtosis`), the default behavior of `mode` typically preserves the axis it acts along. In SciPy 1.11.0, this behavior will change: the default value of `keepdims` will become False, the `axis` over which the statistic is taken will be eliminated, and the value None will no longer be accepted. Set `keepdims` to True or False to avoid this warning.\n",
      "  return mode(self.data[..., 3], axis=None, nan_policy=\"omit\")[0][0]\n",
      "100%|█████████████████████████████████████████████████████████████████████████████████████| 28/28 [00:00<00:00, 14627.04it/s]\n",
      "/home/vsridhar/.local/lib/python3.10/site-packages/deeplabcut/refine_training_dataset/stitch.py:690: UserWarning: No optimal solution found. Employing black magic...\n",
      "  warnings.warn(\"No optimal solution found. Employing black magic...\")\n",
      "/home/vsridhar/.local/lib/python3.10/site-packages/deeplabcut/refine_training_dataset/stitch.py:763: UserWarning: Only 28 tracks could be reconstructed.\n",
      "  warnings.warn(f\"Only {len(self.paths)} tracks could be reconstructed.\")\n"
     ]
    },
    {
     "name": "stdout",
     "output_type": "stream",
     "text": [
      "Starting to analyze %  /media/vsridhar/T7/Work/Data/BlackbuckAnnotations/P3/downsampled/SSD7/20230317/SM_Lek1/P3D6/20230317_SM_Lek1_P3D6_DJI_0019.MP4\n",
      "Loading  /media/vsridhar/T7/Work/Data/BlackbuckAnnotations/P3/downsampled/SSD7/20230317/SM_Lek1/P3D6/20230317_SM_Lek1_P3D6_DJI_0019.MP4\n",
      "Duration of video [s]:  193.69 , recorded with  29.97 fps!\n",
      "Overall # of frames:  5805  found with (before cropping) frame dimensions:  1824 1026\n",
      "Starting to extract posture from the video(s) with batchsize: 8\n"
     ]
    },
    {
     "name": "stderr",
     "output_type": "stream",
     "text": [
      "100%|████████████████████████████████████████████████████████████████████████████████████| 5805/5805 [04:35<00:00, 21.06it/s]\n"
     ]
    },
    {
     "name": "stdout",
     "output_type": "stream",
     "text": [
      "Video Analyzed. Saving results in /home/vsridhar/DATA/DeepLabCut/projects/07_TerritoryDetectionP3-Vivek-2023-08-18/output/SSD7/20230317/SM_Lek1/P3D6...\n",
      "Using snapshot-50000 for model /home/vsridhar/DATA/DeepLabCut/projects/07_TerritoryDetectionP3-Vivek-2023-08-18/dlc-models/iteration-0/07_TerritoryDetectionP3Aug18-trainset90shuffle1\n",
      "Processing...  /media/vsridhar/T7/Work/Data/BlackbuckAnnotations/P3/downsampled/SSD7/20230317/SM_Lek1/P3D6/20230317_SM_Lek1_P3D6_DJI_0019.MP4\n",
      "Analyzing /home/vsridhar/DATA/DeepLabCut/projects/07_TerritoryDetectionP3-Vivek-2023-08-18/output/SSD7/20230317/SM_Lek1/P3D6/20230317_SM_Lek1_P3D6_DJI_0019DLC_dlcrnetms5_07_TerritoryDetectionP3Aug18shuffle1_50000.h5\n"
     ]
    },
    {
     "name": "stderr",
     "output_type": "stream",
     "text": [
      "100%|███████████████████████████████████████████████████████████████████████████████████| 5805/5805 [00:09<00:00, 585.21it/s]\n",
      "5805it [00:17, 324.76it/s]\n"
     ]
    },
    {
     "name": "stdout",
     "output_type": "stream",
     "text": [
      "The tracklets were created (i.e., under the hood deeplabcut.convert_detections2tracklets was run). Now you can 'refine_tracklets' in the GUI, or run 'deeplabcut.stitch_tracklets'.\n",
      "Processing...  /media/vsridhar/T7/Work/Data/BlackbuckAnnotations/P3/downsampled/SSD7/20230317/SM_Lek1/P3D6/20230317_SM_Lek1_P3D6_DJI_0019.MP4\n"
     ]
    },
    {
     "name": "stderr",
     "output_type": "stream",
     "text": [
      "/home/vsridhar/.local/lib/python3.10/site-packages/deeplabcut/refine_training_dataset/stitch.py:138: FutureWarning: Unlike other reduction functions (e.g. `skew`, `kurtosis`), the default behavior of `mode` typically preserves the axis it acts along. In SciPy 1.11.0, this behavior will change: the default value of `keepdims` will become False, the `axis` over which the statistic is taken will be eliminated, and the value None will no longer be accepted. Set `keepdims` to True or False to avoid this warning.\n",
      "  return mode(self.data[..., 3], axis=None, nan_policy=\"omit\")[0][0]\n",
      "100%|████████████████████████████████████████████████████████████████████████████████████| 110/110 [00:00<00:00, 3961.89it/s]\n"
     ]
    },
    {
     "name": "stdout",
     "output_type": "stream",
     "text": [
      "Starting to analyze %  /media/vsridhar/T7/Work/Data/BlackbuckAnnotations/P3/downsampled/SSD7/20230317/SM_Lek1/P3D6/20230317_SM_Lek1_P3D6_DJI_0024.MP4\n",
      "Loading  /media/vsridhar/T7/Work/Data/BlackbuckAnnotations/P3/downsampled/SSD7/20230317/SM_Lek1/P3D6/20230317_SM_Lek1_P3D6_DJI_0024.MP4\n",
      "Duration of video [s]:  67.57 , recorded with  29.97 fps!\n",
      "Overall # of frames:  2025  found with (before cropping) frame dimensions:  1824 1026\n",
      "Starting to extract posture from the video(s) with batchsize: 8\n"
     ]
    },
    {
     "name": "stderr",
     "output_type": "stream",
     "text": [
      "100%|████████████████████████████████████████████████████████████████████████████████████| 2025/2025 [01:35<00:00, 21.11it/s]\n"
     ]
    },
    {
     "name": "stdout",
     "output_type": "stream",
     "text": [
      "Video Analyzed. Saving results in /home/vsridhar/DATA/DeepLabCut/projects/07_TerritoryDetectionP3-Vivek-2023-08-18/output/SSD7/20230317/SM_Lek1/P3D6...\n",
      "Using snapshot-50000 for model /home/vsridhar/DATA/DeepLabCut/projects/07_TerritoryDetectionP3-Vivek-2023-08-18/dlc-models/iteration-0/07_TerritoryDetectionP3Aug18-trainset90shuffle1\n",
      "Processing...  /media/vsridhar/T7/Work/Data/BlackbuckAnnotations/P3/downsampled/SSD7/20230317/SM_Lek1/P3D6/20230317_SM_Lek1_P3D6_DJI_0024.MP4\n",
      "Analyzing /home/vsridhar/DATA/DeepLabCut/projects/07_TerritoryDetectionP3-Vivek-2023-08-18/output/SSD7/20230317/SM_Lek1/P3D6/20230317_SM_Lek1_P3D6_DJI_0024DLC_dlcrnetms5_07_TerritoryDetectionP3Aug18shuffle1_50000.h5\n"
     ]
    },
    {
     "name": "stderr",
     "output_type": "stream",
     "text": [
      "100%|███████████████████████████████████████████████████████████████████████████████████| 2025/2025 [00:03<00:00, 658.83it/s]\n",
      "2025it [00:05, 356.79it/s]\n"
     ]
    },
    {
     "name": "stdout",
     "output_type": "stream",
     "text": [
      "The tracklets were created (i.e., under the hood deeplabcut.convert_detections2tracklets was run). Now you can 'refine_tracklets' in the GUI, or run 'deeplabcut.stitch_tracklets'.\n",
      "Processing...  /media/vsridhar/T7/Work/Data/BlackbuckAnnotations/P3/downsampled/SSD7/20230317/SM_Lek1/P3D6/20230317_SM_Lek1_P3D6_DJI_0024.MP4\n"
     ]
    },
    {
     "name": "stderr",
     "output_type": "stream",
     "text": [
      "/home/vsridhar/.local/lib/python3.10/site-packages/deeplabcut/refine_training_dataset/stitch.py:138: FutureWarning: Unlike other reduction functions (e.g. `skew`, `kurtosis`), the default behavior of `mode` typically preserves the axis it acts along. In SciPy 1.11.0, this behavior will change: the default value of `keepdims` will become False, the `axis` over which the statistic is taken will be eliminated, and the value None will no longer be accepted. Set `keepdims` to True or False to avoid this warning.\n",
      "  return mode(self.data[..., 3], axis=None, nan_policy=\"omit\")[0][0]\n",
      "100%|█████████████████████████████████████████████████████████████████████████████████████| 29/29 [00:00<00:00, 18443.49it/s]\n",
      "/home/vsridhar/.local/lib/python3.10/site-packages/deeplabcut/refine_training_dataset/stitch.py:690: UserWarning: No optimal solution found. Employing black magic...\n",
      "  warnings.warn(\"No optimal solution found. Employing black magic...\")\n",
      "/home/vsridhar/.local/lib/python3.10/site-packages/deeplabcut/refine_training_dataset/stitch.py:763: UserWarning: Only 29 tracks could be reconstructed.\n",
      "  warnings.warn(f\"Only {len(self.paths)} tracks could be reconstructed.\")\n"
     ]
    },
    {
     "name": "stdout",
     "output_type": "stream",
     "text": [
      "Starting to analyze %  /media/vsridhar/T7/Work/Data/BlackbuckAnnotations/P3/downsampled/SSD7/20230317/SM_Lek1/P3D6/20230317_SM_Lek1_P3D6_DJI_0034.MP4\n",
      "Loading  /media/vsridhar/T7/Work/Data/BlackbuckAnnotations/P3/downsampled/SSD7/20230317/SM_Lek1/P3D6/20230317_SM_Lek1_P3D6_DJI_0034.MP4\n",
      "Duration of video [s]:  193.99 , recorded with  29.97 fps!\n",
      "Overall # of frames:  5814  found with (before cropping) frame dimensions:  1824 1026\n",
      "Starting to extract posture from the video(s) with batchsize: 8\n"
     ]
    },
    {
     "name": "stderr",
     "output_type": "stream",
     "text": [
      "100%|████████████████████████████████████████████████████████████████████████████████████| 5814/5814 [04:33<00:00, 21.22it/s]\n"
     ]
    },
    {
     "name": "stdout",
     "output_type": "stream",
     "text": [
      "Video Analyzed. Saving results in /home/vsridhar/DATA/DeepLabCut/projects/07_TerritoryDetectionP3-Vivek-2023-08-18/output/SSD7/20230317/SM_Lek1/P3D6...\n",
      "Using snapshot-50000 for model /home/vsridhar/DATA/DeepLabCut/projects/07_TerritoryDetectionP3-Vivek-2023-08-18/dlc-models/iteration-0/07_TerritoryDetectionP3Aug18-trainset90shuffle1\n",
      "Processing...  /media/vsridhar/T7/Work/Data/BlackbuckAnnotations/P3/downsampled/SSD7/20230317/SM_Lek1/P3D6/20230317_SM_Lek1_P3D6_DJI_0034.MP4\n",
      "Analyzing /home/vsridhar/DATA/DeepLabCut/projects/07_TerritoryDetectionP3-Vivek-2023-08-18/output/SSD7/20230317/SM_Lek1/P3D6/20230317_SM_Lek1_P3D6_DJI_0034DLC_dlcrnetms5_07_TerritoryDetectionP3Aug18shuffle1_50000.h5\n"
     ]
    },
    {
     "name": "stderr",
     "output_type": "stream",
     "text": [
      "100%|███████████████████████████████████████████████████████████████████████████████████| 5814/5814 [00:08<00:00, 653.96it/s]\n",
      "5814it [00:15, 372.91it/s]\n"
     ]
    },
    {
     "name": "stdout",
     "output_type": "stream",
     "text": [
      "The tracklets were created (i.e., under the hood deeplabcut.convert_detections2tracklets was run). Now you can 'refine_tracklets' in the GUI, or run 'deeplabcut.stitch_tracklets'.\n",
      "Processing...  /media/vsridhar/T7/Work/Data/BlackbuckAnnotations/P3/downsampled/SSD7/20230317/SM_Lek1/P3D6/20230317_SM_Lek1_P3D6_DJI_0034.MP4\n"
     ]
    },
    {
     "name": "stderr",
     "output_type": "stream",
     "text": [
      "/home/vsridhar/.local/lib/python3.10/site-packages/deeplabcut/refine_training_dataset/stitch.py:138: FutureWarning: Unlike other reduction functions (e.g. `skew`, `kurtosis`), the default behavior of `mode` typically preserves the axis it acts along. In SciPy 1.11.0, this behavior will change: the default value of `keepdims` will become False, the `axis` over which the statistic is taken will be eliminated, and the value None will no longer be accepted. Set `keepdims` to True or False to avoid this warning.\n",
      "  return mode(self.data[..., 3], axis=None, nan_policy=\"omit\")[0][0]\n",
      "100%|█████████████████████████████████████████████████████████████████████████████████████| 27/27 [00:00<00:00, 14518.74it/s]\n",
      "/home/vsridhar/.local/lib/python3.10/site-packages/deeplabcut/refine_training_dataset/stitch.py:690: UserWarning: No optimal solution found. Employing black magic...\n",
      "  warnings.warn(\"No optimal solution found. Employing black magic...\")\n",
      "/home/vsridhar/.local/lib/python3.10/site-packages/deeplabcut/refine_training_dataset/stitch.py:763: UserWarning: Only 27 tracks could be reconstructed.\n",
      "  warnings.warn(f\"Only {len(self.paths)} tracks could be reconstructed.\")\n"
     ]
    },
    {
     "name": "stdout",
     "output_type": "stream",
     "text": [
      "Starting to analyze %  /media/vsridhar/T7/Work/Data/BlackbuckAnnotations/P3/downsampled/SSD7/20230317/SM_Lek1/P3D6/20230317_SM_Lek1_P3D6_DJI_0023.MP4\n",
      "Loading  /media/vsridhar/T7/Work/Data/BlackbuckAnnotations/P3/downsampled/SSD7/20230317/SM_Lek1/P3D6/20230317_SM_Lek1_P3D6_DJI_0023.MP4\n",
      "Duration of video [s]:  194.03 , recorded with  29.97 fps!\n",
      "Overall # of frames:  5815  found with (before cropping) frame dimensions:  1824 1026\n",
      "Starting to extract posture from the video(s) with batchsize: 8\n"
     ]
    },
    {
     "name": "stderr",
     "output_type": "stream",
     "text": [
      "100%|████████████████████████████████████████████████████████████████████████████████████| 5815/5815 [04:32<00:00, 21.36it/s]\n"
     ]
    },
    {
     "name": "stdout",
     "output_type": "stream",
     "text": [
      "Video Analyzed. Saving results in /home/vsridhar/DATA/DeepLabCut/projects/07_TerritoryDetectionP3-Vivek-2023-08-18/output/SSD7/20230317/SM_Lek1/P3D6...\n",
      "Using snapshot-50000 for model /home/vsridhar/DATA/DeepLabCut/projects/07_TerritoryDetectionP3-Vivek-2023-08-18/dlc-models/iteration-0/07_TerritoryDetectionP3Aug18-trainset90shuffle1\n",
      "Processing...  /media/vsridhar/T7/Work/Data/BlackbuckAnnotations/P3/downsampled/SSD7/20230317/SM_Lek1/P3D6/20230317_SM_Lek1_P3D6_DJI_0023.MP4\n",
      "Analyzing /home/vsridhar/DATA/DeepLabCut/projects/07_TerritoryDetectionP3-Vivek-2023-08-18/output/SSD7/20230317/SM_Lek1/P3D6/20230317_SM_Lek1_P3D6_DJI_0023DLC_dlcrnetms5_07_TerritoryDetectionP3Aug18shuffle1_50000.h5\n"
     ]
    },
    {
     "name": "stderr",
     "output_type": "stream",
     "text": [
      "100%|███████████████████████████████████████████████████████████████████████████████████| 5815/5815 [00:08<00:00, 653.05it/s]\n",
      "5815it [00:16, 350.33it/s]\n"
     ]
    },
    {
     "name": "stdout",
     "output_type": "stream",
     "text": [
      "The tracklets were created (i.e., under the hood deeplabcut.convert_detections2tracklets was run). Now you can 'refine_tracklets' in the GUI, or run 'deeplabcut.stitch_tracklets'.\n",
      "Processing...  /media/vsridhar/T7/Work/Data/BlackbuckAnnotations/P3/downsampled/SSD7/20230317/SM_Lek1/P3D6/20230317_SM_Lek1_P3D6_DJI_0023.MP4\n"
     ]
    },
    {
     "name": "stderr",
     "output_type": "stream",
     "text": [
      "/home/vsridhar/.local/lib/python3.10/site-packages/deeplabcut/refine_training_dataset/stitch.py:138: FutureWarning: Unlike other reduction functions (e.g. `skew`, `kurtosis`), the default behavior of `mode` typically preserves the axis it acts along. In SciPy 1.11.0, this behavior will change: the default value of `keepdims` will become False, the `axis` over which the statistic is taken will be eliminated, and the value None will no longer be accepted. Set `keepdims` to True or False to avoid this warning.\n",
      "  return mode(self.data[..., 3], axis=None, nan_policy=\"omit\")[0][0]\n",
      "100%|█████████████████████████████████████████████████████████████████████████████████████| 30/30 [00:00<00:00, 23817.74it/s]\n",
      "/home/vsridhar/.local/lib/python3.10/site-packages/deeplabcut/refine_training_dataset/stitch.py:690: UserWarning: No optimal solution found. Employing black magic...\n",
      "  warnings.warn(\"No optimal solution found. Employing black magic...\")\n",
      "/home/vsridhar/.local/lib/python3.10/site-packages/deeplabcut/refine_training_dataset/stitch.py:763: UserWarning: Only 30 tracks could be reconstructed.\n",
      "  warnings.warn(f\"Only {len(self.paths)} tracks could be reconstructed.\")\n"
     ]
    },
    {
     "name": "stdout",
     "output_type": "stream",
     "text": [
      "Starting to analyze %  /media/vsridhar/T7/Work/Data/BlackbuckAnnotations/P3/downsampled/SSD7/20230317/SM_Lek1/P3D6/20230317_SM_Lek1_P3D6_DJI_0017.MP4\n",
      "Loading  /media/vsridhar/T7/Work/Data/BlackbuckAnnotations/P3/downsampled/SSD7/20230317/SM_Lek1/P3D6/20230317_SM_Lek1_P3D6_DJI_0017.MP4\n",
      "Duration of video [s]:  193.99 , recorded with  29.97 fps!\n",
      "Overall # of frames:  5814  found with (before cropping) frame dimensions:  1824 1026\n",
      "Starting to extract posture from the video(s) with batchsize: 8\n"
     ]
    },
    {
     "name": "stderr",
     "output_type": "stream",
     "text": [
      "100%|████████████████████████████████████████████████████████████████████████████████████| 5814/5814 [04:31<00:00, 21.38it/s]\n"
     ]
    },
    {
     "name": "stdout",
     "output_type": "stream",
     "text": [
      "Video Analyzed. Saving results in /home/vsridhar/DATA/DeepLabCut/projects/07_TerritoryDetectionP3-Vivek-2023-08-18/output/SSD7/20230317/SM_Lek1/P3D6...\n",
      "Using snapshot-50000 for model /home/vsridhar/DATA/DeepLabCut/projects/07_TerritoryDetectionP3-Vivek-2023-08-18/dlc-models/iteration-0/07_TerritoryDetectionP3Aug18-trainset90shuffle1\n",
      "Processing...  /media/vsridhar/T7/Work/Data/BlackbuckAnnotations/P3/downsampled/SSD7/20230317/SM_Lek1/P3D6/20230317_SM_Lek1_P3D6_DJI_0017.MP4\n",
      "Analyzing /home/vsridhar/DATA/DeepLabCut/projects/07_TerritoryDetectionP3-Vivek-2023-08-18/output/SSD7/20230317/SM_Lek1/P3D6/20230317_SM_Lek1_P3D6_DJI_0017DLC_dlcrnetms5_07_TerritoryDetectionP3Aug18shuffle1_50000.h5\n"
     ]
    },
    {
     "name": "stderr",
     "output_type": "stream",
     "text": [
      "100%|███████████████████████████████████████████████████████████████████████████████████| 5814/5814 [00:08<00:00, 721.38it/s]\n",
      "5814it [00:15, 377.23it/s]\n"
     ]
    },
    {
     "name": "stdout",
     "output_type": "stream",
     "text": [
      "The tracklets were created (i.e., under the hood deeplabcut.convert_detections2tracklets was run). Now you can 'refine_tracklets' in the GUI, or run 'deeplabcut.stitch_tracklets'.\n",
      "Processing...  /media/vsridhar/T7/Work/Data/BlackbuckAnnotations/P3/downsampled/SSD7/20230317/SM_Lek1/P3D6/20230317_SM_Lek1_P3D6_DJI_0017.MP4\n"
     ]
    },
    {
     "name": "stderr",
     "output_type": "stream",
     "text": [
      "/home/vsridhar/.local/lib/python3.10/site-packages/deeplabcut/refine_training_dataset/stitch.py:138: FutureWarning: Unlike other reduction functions (e.g. `skew`, `kurtosis`), the default behavior of `mode` typically preserves the axis it acts along. In SciPy 1.11.0, this behavior will change: the default value of `keepdims` will become False, the `axis` over which the statistic is taken will be eliminated, and the value None will no longer be accepted. Set `keepdims` to True or False to avoid this warning.\n",
      "  return mode(self.data[..., 3], axis=None, nan_policy=\"omit\")[0][0]\n",
      "100%|█████████████████████████████████████████████████████████████████████████████████████| 30/30 [00:00<00:00, 12138.64it/s]\n",
      "/home/vsridhar/.local/lib/python3.10/site-packages/deeplabcut/refine_training_dataset/stitch.py:690: UserWarning: No optimal solution found. Employing black magic...\n",
      "  warnings.warn(\"No optimal solution found. Employing black magic...\")\n",
      "/home/vsridhar/.local/lib/python3.10/site-packages/deeplabcut/refine_training_dataset/stitch.py:763: UserWarning: Only 30 tracks could be reconstructed.\n",
      "  warnings.warn(f\"Only {len(self.paths)} tracks could be reconstructed.\")\n"
     ]
    },
    {
     "name": "stdout",
     "output_type": "stream",
     "text": [
      "Starting to analyze %  /media/vsridhar/T7/Work/Data/BlackbuckAnnotations/P3/downsampled/SSD7/20230317/SM_Lek1/P3D6/20230317_SM_Lek1_P3D6_DJI_0031.MP4\n",
      "Loading  /media/vsridhar/T7/Work/Data/BlackbuckAnnotations/P3/downsampled/SSD7/20230317/SM_Lek1/P3D6/20230317_SM_Lek1_P3D6_DJI_0031.MP4\n",
      "Duration of video [s]:  193.66 , recorded with  29.97 fps!\n",
      "Overall # of frames:  5804  found with (before cropping) frame dimensions:  1824 1026\n",
      "Starting to extract posture from the video(s) with batchsize: 8\n"
     ]
    },
    {
     "name": "stderr",
     "output_type": "stream",
     "text": [
      "100%|████████████████████████████████████████████████████████████████████████████████████| 5804/5804 [04:34<00:00, 21.14it/s]\n"
     ]
    },
    {
     "name": "stdout",
     "output_type": "stream",
     "text": [
      "Video Analyzed. Saving results in /home/vsridhar/DATA/DeepLabCut/projects/07_TerritoryDetectionP3-Vivek-2023-08-18/output/SSD7/20230317/SM_Lek1/P3D6...\n",
      "Using snapshot-50000 for model /home/vsridhar/DATA/DeepLabCut/projects/07_TerritoryDetectionP3-Vivek-2023-08-18/dlc-models/iteration-0/07_TerritoryDetectionP3Aug18-trainset90shuffle1\n",
      "Processing...  /media/vsridhar/T7/Work/Data/BlackbuckAnnotations/P3/downsampled/SSD7/20230317/SM_Lek1/P3D6/20230317_SM_Lek1_P3D6_DJI_0031.MP4\n",
      "Analyzing /home/vsridhar/DATA/DeepLabCut/projects/07_TerritoryDetectionP3-Vivek-2023-08-18/output/SSD7/20230317/SM_Lek1/P3D6/20230317_SM_Lek1_P3D6_DJI_0031DLC_dlcrnetms5_07_TerritoryDetectionP3Aug18shuffle1_50000.h5\n"
     ]
    },
    {
     "name": "stderr",
     "output_type": "stream",
     "text": [
      "100%|███████████████████████████████████████████████████████████████████████████████████| 5804/5804 [00:09<00:00, 606.18it/s]\n",
      "5804it [00:17, 335.72it/s]\n"
     ]
    },
    {
     "name": "stdout",
     "output_type": "stream",
     "text": [
      "The tracklets were created (i.e., under the hood deeplabcut.convert_detections2tracklets was run). Now you can 'refine_tracklets' in the GUI, or run 'deeplabcut.stitch_tracklets'.\n",
      "Processing...  /media/vsridhar/T7/Work/Data/BlackbuckAnnotations/P3/downsampled/SSD7/20230317/SM_Lek1/P3D6/20230317_SM_Lek1_P3D6_DJI_0031.MP4\n"
     ]
    },
    {
     "name": "stderr",
     "output_type": "stream",
     "text": [
      "/home/vsridhar/.local/lib/python3.10/site-packages/deeplabcut/refine_training_dataset/stitch.py:138: FutureWarning: Unlike other reduction functions (e.g. `skew`, `kurtosis`), the default behavior of `mode` typically preserves the axis it acts along. In SciPy 1.11.0, this behavior will change: the default value of `keepdims` will become False, the `axis` over which the statistic is taken will be eliminated, and the value None will no longer be accepted. Set `keepdims` to True or False to avoid this warning.\n",
      "  return mode(self.data[..., 3], axis=None, nan_policy=\"omit\")[0][0]\n",
      "100%|██████████████████████████████████████████████████████████████████████████████████████| 59/59 [00:00<00:00, 5080.35it/s]\n",
      "/home/vsridhar/.local/lib/python3.10/site-packages/deeplabcut/refine_training_dataset/stitch.py:690: UserWarning: No optimal solution found. Employing black magic...\n",
      "  warnings.warn(\"No optimal solution found. Employing black magic...\")\n",
      "/home/vsridhar/.local/lib/python3.10/site-packages/deeplabcut/refine_training_dataset/stitch.py:763: UserWarning: Only 59 tracks could be reconstructed.\n",
      "  warnings.warn(f\"Only {len(self.paths)} tracks could be reconstructed.\")\n"
     ]
    },
    {
     "name": "stdout",
     "output_type": "stream",
     "text": [
      "Starting to analyze %  /media/vsridhar/T7/Work/Data/BlackbuckAnnotations/P3/downsampled/SSD7/20230317/SM_Lek1/P3D6/20230317_SM_Lek1_P3D6_DJI_0035.MP4\n",
      "Loading  /media/vsridhar/T7/Work/Data/BlackbuckAnnotations/P3/downsampled/SSD7/20230317/SM_Lek1/P3D6/20230317_SM_Lek1_P3D6_DJI_0035.MP4\n",
      "Duration of video [s]:  62.96 , recorded with  29.97 fps!\n",
      "Overall # of frames:  1887  found with (before cropping) frame dimensions:  1824 1026\n",
      "Starting to extract posture from the video(s) with batchsize: 8\n"
     ]
    },
    {
     "name": "stderr",
     "output_type": "stream",
     "text": [
      "100%|████████████████████████████████████████████████████████████████████████████████████| 1887/1887 [01:29<00:00, 21.16it/s]\n"
     ]
    },
    {
     "name": "stdout",
     "output_type": "stream",
     "text": [
      "Video Analyzed. Saving results in /home/vsridhar/DATA/DeepLabCut/projects/07_TerritoryDetectionP3-Vivek-2023-08-18/output/SSD7/20230317/SM_Lek1/P3D6...\n",
      "Using snapshot-50000 for model /home/vsridhar/DATA/DeepLabCut/projects/07_TerritoryDetectionP3-Vivek-2023-08-18/dlc-models/iteration-0/07_TerritoryDetectionP3Aug18-trainset90shuffle1\n",
      "Processing...  /media/vsridhar/T7/Work/Data/BlackbuckAnnotations/P3/downsampled/SSD7/20230317/SM_Lek1/P3D6/20230317_SM_Lek1_P3D6_DJI_0035.MP4\n",
      "Analyzing /home/vsridhar/DATA/DeepLabCut/projects/07_TerritoryDetectionP3-Vivek-2023-08-18/output/SSD7/20230317/SM_Lek1/P3D6/20230317_SM_Lek1_P3D6_DJI_0035DLC_dlcrnetms5_07_TerritoryDetectionP3Aug18shuffle1_50000.h5\n"
     ]
    },
    {
     "name": "stderr",
     "output_type": "stream",
     "text": [
      "100%|███████████████████████████████████████████████████████████████████████████████████| 1887/1887 [00:02<00:00, 754.20it/s]\n",
      "1887it [00:05, 373.52it/s]\n",
      "/home/vsridhar/.local/lib/python3.10/site-packages/deeplabcut/refine_training_dataset/stitch.py:138: FutureWarning: Unlike other reduction functions (e.g. `skew`, `kurtosis`), the default behavior of `mode` typically preserves the axis it acts along. In SciPy 1.11.0, this behavior will change: the default value of `keepdims` will become False, the `axis` over which the statistic is taken will be eliminated, and the value None will no longer be accepted. Set `keepdims` to True or False to avoid this warning.\n",
      "  return mode(self.data[..., 3], axis=None, nan_policy=\"omit\")[0][0]\n"
     ]
    },
    {
     "name": "stdout",
     "output_type": "stream",
     "text": [
      "The tracklets were created (i.e., under the hood deeplabcut.convert_detections2tracklets was run). Now you can 'refine_tracklets' in the GUI, or run 'deeplabcut.stitch_tracklets'.\n",
      "Processing...  /media/vsridhar/T7/Work/Data/BlackbuckAnnotations/P3/downsampled/SSD7/20230317/SM_Lek1/P3D6/20230317_SM_Lek1_P3D6_DJI_0035.MP4\n"
     ]
    },
    {
     "name": "stderr",
     "output_type": "stream",
     "text": [
      "100%|████████████████████████████████████████████████████████████████████████████████████| 25/25 [00:00<00:00, 195995.51it/s]\n",
      "/home/vsridhar/.local/lib/python3.10/site-packages/deeplabcut/refine_training_dataset/stitch.py:690: UserWarning: No optimal solution found. Employing black magic...\n",
      "  warnings.warn(\"No optimal solution found. Employing black magic...\")\n",
      "/home/vsridhar/.local/lib/python3.10/site-packages/deeplabcut/refine_training_dataset/stitch.py:763: UserWarning: Only 25 tracks could be reconstructed.\n",
      "  warnings.warn(f\"Only {len(self.paths)} tracks could be reconstructed.\")\n"
     ]
    },
    {
     "name": "stdout",
     "output_type": "stream",
     "text": [
      "Starting to analyze %  /media/vsridhar/T7/Work/Data/BlackbuckAnnotations/P3/downsampled/SSD7/20230317/SM_Lek1/P3D6/20230317_SM_Lek1_P3D6_DJI_0027.MP4\n",
      "Loading  /media/vsridhar/T7/Work/Data/BlackbuckAnnotations/P3/downsampled/SSD7/20230317/SM_Lek1/P3D6/20230317_SM_Lek1_P3D6_DJI_0027.MP4\n",
      "Duration of video [s]:  193.96 , recorded with  29.97 fps!\n",
      "Overall # of frames:  5813  found with (before cropping) frame dimensions:  1824 1026\n",
      "Starting to extract posture from the video(s) with batchsize: 8\n"
     ]
    },
    {
     "name": "stderr",
     "output_type": "stream",
     "text": [
      "100%|████████████████████████████████████████████████████████████████████████████████████| 5813/5813 [04:33<00:00, 21.26it/s]\n"
     ]
    },
    {
     "name": "stdout",
     "output_type": "stream",
     "text": [
      "Video Analyzed. Saving results in /home/vsridhar/DATA/DeepLabCut/projects/07_TerritoryDetectionP3-Vivek-2023-08-18/output/SSD7/20230317/SM_Lek1/P3D6...\n",
      "Using snapshot-50000 for model /home/vsridhar/DATA/DeepLabCut/projects/07_TerritoryDetectionP3-Vivek-2023-08-18/dlc-models/iteration-0/07_TerritoryDetectionP3Aug18-trainset90shuffle1\n",
      "Processing...  /media/vsridhar/T7/Work/Data/BlackbuckAnnotations/P3/downsampled/SSD7/20230317/SM_Lek1/P3D6/20230317_SM_Lek1_P3D6_DJI_0027.MP4\n",
      "Analyzing /home/vsridhar/DATA/DeepLabCut/projects/07_TerritoryDetectionP3-Vivek-2023-08-18/output/SSD7/20230317/SM_Lek1/P3D6/20230317_SM_Lek1_P3D6_DJI_0027DLC_dlcrnetms5_07_TerritoryDetectionP3Aug18shuffle1_50000.h5\n"
     ]
    },
    {
     "name": "stderr",
     "output_type": "stream",
     "text": [
      "100%|███████████████████████████████████████████████████████████████████████████████████| 5813/5813 [00:08<00:00, 682.42it/s]\n",
      "5813it [00:15, 365.16it/s]\n"
     ]
    },
    {
     "name": "stdout",
     "output_type": "stream",
     "text": [
      "The tracklets were created (i.e., under the hood deeplabcut.convert_detections2tracklets was run). Now you can 'refine_tracklets' in the GUI, or run 'deeplabcut.stitch_tracklets'.\n",
      "Processing...  /media/vsridhar/T7/Work/Data/BlackbuckAnnotations/P3/downsampled/SSD7/20230317/SM_Lek1/P3D6/20230317_SM_Lek1_P3D6_DJI_0027.MP4\n"
     ]
    },
    {
     "name": "stderr",
     "output_type": "stream",
     "text": [
      "/home/vsridhar/.local/lib/python3.10/site-packages/deeplabcut/refine_training_dataset/stitch.py:138: FutureWarning: Unlike other reduction functions (e.g. `skew`, `kurtosis`), the default behavior of `mode` typically preserves the axis it acts along. In SciPy 1.11.0, this behavior will change: the default value of `keepdims` will become False, the `axis` over which the statistic is taken will be eliminated, and the value None will no longer be accepted. Set `keepdims` to True or False to avoid this warning.\n",
      "  return mode(self.data[..., 3], axis=None, nan_policy=\"omit\")[0][0]\n",
      "100%|██████████████████████████████████████████████████████████████████████████████████████| 36/36 [00:00<00:00, 9771.24it/s]\n",
      "/home/vsridhar/.local/lib/python3.10/site-packages/deeplabcut/refine_training_dataset/stitch.py:690: UserWarning: No optimal solution found. Employing black magic...\n",
      "  warnings.warn(\"No optimal solution found. Employing black magic...\")\n",
      "/home/vsridhar/.local/lib/python3.10/site-packages/deeplabcut/refine_training_dataset/stitch.py:763: UserWarning: Only 36 tracks could be reconstructed.\n",
      "  warnings.warn(f\"Only {len(self.paths)} tracks could be reconstructed.\")\n"
     ]
    },
    {
     "name": "stdout",
     "output_type": "stream",
     "text": [
      "Starting to analyze %  /media/vsridhar/T7/Work/Data/BlackbuckAnnotations/P3/downsampled/SSD7/20230317/SM_Lek1/P3D6/20230317_SM_Lek1_P3D6_DJI_0030.MP4\n",
      "Loading  /media/vsridhar/T7/Work/Data/BlackbuckAnnotations/P3/downsampled/SSD7/20230317/SM_Lek1/P3D6/20230317_SM_Lek1_P3D6_DJI_0030.MP4\n",
      "Duration of video [s]:  101.0 , recorded with  29.97 fps!\n",
      "Overall # of frames:  3027  found with (before cropping) frame dimensions:  1824 1026\n",
      "Starting to extract posture from the video(s) with batchsize: 8\n"
     ]
    },
    {
     "name": "stderr",
     "output_type": "stream",
     "text": [
      "100%|████████████████████████████████████████████████████████████████████████████████████| 3027/3027 [02:22<00:00, 21.18it/s]\n"
     ]
    },
    {
     "name": "stdout",
     "output_type": "stream",
     "text": [
      "Video Analyzed. Saving results in /home/vsridhar/DATA/DeepLabCut/projects/07_TerritoryDetectionP3-Vivek-2023-08-18/output/SSD7/20230317/SM_Lek1/P3D6...\n",
      "Using snapshot-50000 for model /home/vsridhar/DATA/DeepLabCut/projects/07_TerritoryDetectionP3-Vivek-2023-08-18/dlc-models/iteration-0/07_TerritoryDetectionP3Aug18-trainset90shuffle1\n",
      "Processing...  /media/vsridhar/T7/Work/Data/BlackbuckAnnotations/P3/downsampled/SSD7/20230317/SM_Lek1/P3D6/20230317_SM_Lek1_P3D6_DJI_0030.MP4\n",
      "Analyzing /home/vsridhar/DATA/DeepLabCut/projects/07_TerritoryDetectionP3-Vivek-2023-08-18/output/SSD7/20230317/SM_Lek1/P3D6/20230317_SM_Lek1_P3D6_DJI_0030DLC_dlcrnetms5_07_TerritoryDetectionP3Aug18shuffle1_50000.h5\n"
     ]
    },
    {
     "name": "stderr",
     "output_type": "stream",
     "text": [
      "100%|███████████████████████████████████████████████████████████████████████████████████| 3027/3027 [00:04<00:00, 661.30it/s]\n",
      "3027it [00:08, 361.87it/s]\n"
     ]
    },
    {
     "name": "stdout",
     "output_type": "stream",
     "text": [
      "The tracklets were created (i.e., under the hood deeplabcut.convert_detections2tracklets was run). Now you can 'refine_tracklets' in the GUI, or run 'deeplabcut.stitch_tracklets'.\n",
      "Processing...  /media/vsridhar/T7/Work/Data/BlackbuckAnnotations/P3/downsampled/SSD7/20230317/SM_Lek1/P3D6/20230317_SM_Lek1_P3D6_DJI_0030.MP4\n"
     ]
    },
    {
     "name": "stderr",
     "output_type": "stream",
     "text": [
      "/home/vsridhar/.local/lib/python3.10/site-packages/deeplabcut/refine_training_dataset/stitch.py:138: FutureWarning: Unlike other reduction functions (e.g. `skew`, `kurtosis`), the default behavior of `mode` typically preserves the axis it acts along. In SciPy 1.11.0, this behavior will change: the default value of `keepdims` will become False, the `axis` over which the statistic is taken will be eliminated, and the value None will no longer be accepted. Set `keepdims` to True or False to avoid this warning.\n",
      "  return mode(self.data[..., 3], axis=None, nan_policy=\"omit\")[0][0]\n",
      "100%|█████████████████████████████████████████████████████████████████████████████████████| 29/29 [00:00<00:00, 30018.46it/s]\n",
      "/home/vsridhar/.local/lib/python3.10/site-packages/deeplabcut/refine_training_dataset/stitch.py:690: UserWarning: No optimal solution found. Employing black magic...\n",
      "  warnings.warn(\"No optimal solution found. Employing black magic...\")\n",
      "/home/vsridhar/.local/lib/python3.10/site-packages/deeplabcut/refine_training_dataset/stitch.py:763: UserWarning: Only 29 tracks could be reconstructed.\n",
      "  warnings.warn(f\"Only {len(self.paths)} tracks could be reconstructed.\")\n"
     ]
    },
    {
     "name": "stdout",
     "output_type": "stream",
     "text": [
      "Starting to analyze %  /media/vsridhar/T7/Work/Data/BlackbuckAnnotations/P3/downsampled/SSD7/20230317/SM_Lek1/P3D6/20230317_SM_Lek1_P3D6_DJI_0028.MP4\n",
      "Loading  /media/vsridhar/T7/Work/Data/BlackbuckAnnotations/P3/downsampled/SSD7/20230317/SM_Lek1/P3D6/20230317_SM_Lek1_P3D6_DJI_0028.MP4\n",
      "Duration of video [s]:  193.99 , recorded with  29.97 fps!\n",
      "Overall # of frames:  5814  found with (before cropping) frame dimensions:  1824 1026\n",
      "Starting to extract posture from the video(s) with batchsize: 8\n"
     ]
    },
    {
     "name": "stderr",
     "output_type": "stream",
     "text": [
      "100%|████████████████████████████████████████████████████████████████████████████████████| 5814/5814 [04:31<00:00, 21.41it/s]\n"
     ]
    },
    {
     "name": "stdout",
     "output_type": "stream",
     "text": [
      "Video Analyzed. Saving results in /home/vsridhar/DATA/DeepLabCut/projects/07_TerritoryDetectionP3-Vivek-2023-08-18/output/SSD7/20230317/SM_Lek1/P3D6...\n",
      "Using snapshot-50000 for model /home/vsridhar/DATA/DeepLabCut/projects/07_TerritoryDetectionP3-Vivek-2023-08-18/dlc-models/iteration-0/07_TerritoryDetectionP3Aug18-trainset90shuffle1\n",
      "Processing...  /media/vsridhar/T7/Work/Data/BlackbuckAnnotations/P3/downsampled/SSD7/20230317/SM_Lek1/P3D6/20230317_SM_Lek1_P3D6_DJI_0028.MP4\n",
      "Analyzing /home/vsridhar/DATA/DeepLabCut/projects/07_TerritoryDetectionP3-Vivek-2023-08-18/output/SSD7/20230317/SM_Lek1/P3D6/20230317_SM_Lek1_P3D6_DJI_0028DLC_dlcrnetms5_07_TerritoryDetectionP3Aug18shuffle1_50000.h5\n"
     ]
    },
    {
     "name": "stderr",
     "output_type": "stream",
     "text": [
      "100%|███████████████████████████████████████████████████████████████████████████████████| 5814/5814 [00:09<00:00, 645.04it/s]\n",
      "5814it [00:15, 371.23it/s]\n"
     ]
    },
    {
     "name": "stdout",
     "output_type": "stream",
     "text": [
      "The tracklets were created (i.e., under the hood deeplabcut.convert_detections2tracklets was run). Now you can 'refine_tracklets' in the GUI, or run 'deeplabcut.stitch_tracklets'.\n",
      "Processing...  /media/vsridhar/T7/Work/Data/BlackbuckAnnotations/P3/downsampled/SSD7/20230317/SM_Lek1/P3D6/20230317_SM_Lek1_P3D6_DJI_0028.MP4\n"
     ]
    },
    {
     "name": "stderr",
     "output_type": "stream",
     "text": [
      "/home/vsridhar/.local/lib/python3.10/site-packages/deeplabcut/refine_training_dataset/stitch.py:138: FutureWarning: Unlike other reduction functions (e.g. `skew`, `kurtosis`), the default behavior of `mode` typically preserves the axis it acts along. In SciPy 1.11.0, this behavior will change: the default value of `keepdims` will become False, the `axis` over which the statistic is taken will be eliminated, and the value None will no longer be accepted. Set `keepdims` to True or False to avoid this warning.\n",
      "  return mode(self.data[..., 3], axis=None, nan_policy=\"omit\")[0][0]\n",
      "100%|█████████████████████████████████████████████████████████████████████████████████████| 29/29 [00:00<00:00, 16320.25it/s]\n",
      "/home/vsridhar/.local/lib/python3.10/site-packages/deeplabcut/refine_training_dataset/stitch.py:690: UserWarning: No optimal solution found. Employing black magic...\n",
      "  warnings.warn(\"No optimal solution found. Employing black magic...\")\n",
      "/home/vsridhar/.local/lib/python3.10/site-packages/deeplabcut/refine_training_dataset/stitch.py:763: UserWarning: Only 29 tracks could be reconstructed.\n",
      "  warnings.warn(f\"Only {len(self.paths)} tracks could be reconstructed.\")\n"
     ]
    },
    {
     "name": "stdout",
     "output_type": "stream",
     "text": [
      "Starting to analyze %  /media/vsridhar/T7/Work/Data/BlackbuckAnnotations/P3/downsampled/SSD7/20230317/SM_Lek1/P3D6/20230317_SM_Lek1_P3D6_DJI_0014.MP4\n",
      "Loading  /media/vsridhar/T7/Work/Data/BlackbuckAnnotations/P3/downsampled/SSD7/20230317/SM_Lek1/P3D6/20230317_SM_Lek1_P3D6_DJI_0014.MP4\n",
      "Duration of video [s]:  194.03 , recorded with  29.97 fps!\n",
      "Overall # of frames:  5815  found with (before cropping) frame dimensions:  1824 1026\n",
      "Starting to extract posture from the video(s) with batchsize: 8\n"
     ]
    },
    {
     "name": "stderr",
     "output_type": "stream",
     "text": [
      "100%|████████████████████████████████████████████████████████████████████████████████████| 5815/5815 [04:32<00:00, 21.31it/s]\n"
     ]
    },
    {
     "name": "stdout",
     "output_type": "stream",
     "text": [
      "Video Analyzed. Saving results in /home/vsridhar/DATA/DeepLabCut/projects/07_TerritoryDetectionP3-Vivek-2023-08-18/output/SSD7/20230317/SM_Lek1/P3D6...\n",
      "Using snapshot-50000 for model /home/vsridhar/DATA/DeepLabCut/projects/07_TerritoryDetectionP3-Vivek-2023-08-18/dlc-models/iteration-0/07_TerritoryDetectionP3Aug18-trainset90shuffle1\n",
      "Processing...  /media/vsridhar/T7/Work/Data/BlackbuckAnnotations/P3/downsampled/SSD7/20230317/SM_Lek1/P3D6/20230317_SM_Lek1_P3D6_DJI_0014.MP4\n",
      "Analyzing /home/vsridhar/DATA/DeepLabCut/projects/07_TerritoryDetectionP3-Vivek-2023-08-18/output/SSD7/20230317/SM_Lek1/P3D6/20230317_SM_Lek1_P3D6_DJI_0014DLC_dlcrnetms5_07_TerritoryDetectionP3Aug18shuffle1_50000.h5\n"
     ]
    },
    {
     "name": "stderr",
     "output_type": "stream",
     "text": [
      "100%|███████████████████████████████████████████████████████████████████████████████████| 5815/5815 [00:08<00:00, 653.84it/s]\n",
      "5815it [00:16, 360.41it/s]\n"
     ]
    },
    {
     "name": "stdout",
     "output_type": "stream",
     "text": [
      "The tracklets were created (i.e., under the hood deeplabcut.convert_detections2tracklets was run). Now you can 'refine_tracklets' in the GUI, or run 'deeplabcut.stitch_tracklets'.\n",
      "Processing...  /media/vsridhar/T7/Work/Data/BlackbuckAnnotations/P3/downsampled/SSD7/20230317/SM_Lek1/P3D6/20230317_SM_Lek1_P3D6_DJI_0014.MP4\n"
     ]
    },
    {
     "name": "stderr",
     "output_type": "stream",
     "text": [
      "/home/vsridhar/.local/lib/python3.10/site-packages/deeplabcut/refine_training_dataset/stitch.py:138: FutureWarning: Unlike other reduction functions (e.g. `skew`, `kurtosis`), the default behavior of `mode` typically preserves the axis it acts along. In SciPy 1.11.0, this behavior will change: the default value of `keepdims` will become False, the `axis` over which the statistic is taken will be eliminated, and the value None will no longer be accepted. Set `keepdims` to True or False to avoid this warning.\n",
      "  return mode(self.data[..., 3], axis=None, nan_policy=\"omit\")[0][0]\n",
      "100%|█████████████████████████████████████████████████████████████████████████████████████| 31/31 [00:00<00:00, 16857.70it/s]\n",
      "/home/vsridhar/.local/lib/python3.10/site-packages/deeplabcut/refine_training_dataset/stitch.py:690: UserWarning: No optimal solution found. Employing black magic...\n",
      "  warnings.warn(\"No optimal solution found. Employing black magic...\")\n",
      "/home/vsridhar/.local/lib/python3.10/site-packages/deeplabcut/refine_training_dataset/stitch.py:763: UserWarning: Only 31 tracks could be reconstructed.\n",
      "  warnings.warn(f\"Only {len(self.paths)} tracks could be reconstructed.\")\n"
     ]
    },
    {
     "name": "stdout",
     "output_type": "stream",
     "text": [
      "Starting to analyze %  /media/vsridhar/T7/Work/Data/BlackbuckAnnotations/P3/downsampled/SSD7/20230317/SM_Lek1/P3D6/20230317_SM_Lek1_P3D6_DJI_0016.MP4\n",
      "Loading  /media/vsridhar/T7/Work/Data/BlackbuckAnnotations/P3/downsampled/SSD7/20230317/SM_Lek1/P3D6/20230317_SM_Lek1_P3D6_DJI_0016.MP4\n",
      "Duration of video [s]:  193.96 , recorded with  29.97 fps!\n",
      "Overall # of frames:  5813  found with (before cropping) frame dimensions:  1824 1026\n",
      "Starting to extract posture from the video(s) with batchsize: 8\n"
     ]
    },
    {
     "name": "stderr",
     "output_type": "stream",
     "text": [
      "100%|████████████████████████████████████████████████████████████████████████████████████| 5813/5813 [04:31<00:00, 21.45it/s]\n"
     ]
    },
    {
     "name": "stdout",
     "output_type": "stream",
     "text": [
      "Video Analyzed. Saving results in /home/vsridhar/DATA/DeepLabCut/projects/07_TerritoryDetectionP3-Vivek-2023-08-18/output/SSD7/20230317/SM_Lek1/P3D6...\n",
      "Using snapshot-50000 for model /home/vsridhar/DATA/DeepLabCut/projects/07_TerritoryDetectionP3-Vivek-2023-08-18/dlc-models/iteration-0/07_TerritoryDetectionP3Aug18-trainset90shuffle1\n",
      "Processing...  /media/vsridhar/T7/Work/Data/BlackbuckAnnotations/P3/downsampled/SSD7/20230317/SM_Lek1/P3D6/20230317_SM_Lek1_P3D6_DJI_0016.MP4\n",
      "Analyzing /home/vsridhar/DATA/DeepLabCut/projects/07_TerritoryDetectionP3-Vivek-2023-08-18/output/SSD7/20230317/SM_Lek1/P3D6/20230317_SM_Lek1_P3D6_DJI_0016DLC_dlcrnetms5_07_TerritoryDetectionP3Aug18shuffle1_50000.h5\n"
     ]
    },
    {
     "name": "stderr",
     "output_type": "stream",
     "text": [
      "100%|███████████████████████████████████████████████████████████████████████████████████| 5813/5813 [00:08<00:00, 710.67it/s]\n",
      "5813it [00:14, 390.60it/s]\n"
     ]
    },
    {
     "name": "stdout",
     "output_type": "stream",
     "text": [
      "The tracklets were created (i.e., under the hood deeplabcut.convert_detections2tracklets was run). Now you can 'refine_tracklets' in the GUI, or run 'deeplabcut.stitch_tracklets'.\n",
      "Processing...  /media/vsridhar/T7/Work/Data/BlackbuckAnnotations/P3/downsampled/SSD7/20230317/SM_Lek1/P3D6/20230317_SM_Lek1_P3D6_DJI_0016.MP4\n"
     ]
    },
    {
     "name": "stderr",
     "output_type": "stream",
     "text": [
      "/home/vsridhar/.local/lib/python3.10/site-packages/deeplabcut/refine_training_dataset/stitch.py:138: FutureWarning: Unlike other reduction functions (e.g. `skew`, `kurtosis`), the default behavior of `mode` typically preserves the axis it acts along. In SciPy 1.11.0, this behavior will change: the default value of `keepdims` will become False, the `axis` over which the statistic is taken will be eliminated, and the value None will no longer be accepted. Set `keepdims` to True or False to avoid this warning.\n",
      "  return mode(self.data[..., 3], axis=None, nan_policy=\"omit\")[0][0]\n",
      "100%|█████████████████████████████████████████████████████████████████████████████████████| 26/26 [00:00<00:00, 14440.14it/s]\n",
      "/home/vsridhar/.local/lib/python3.10/site-packages/deeplabcut/refine_training_dataset/stitch.py:690: UserWarning: No optimal solution found. Employing black magic...\n",
      "  warnings.warn(\"No optimal solution found. Employing black magic...\")\n",
      "/home/vsridhar/.local/lib/python3.10/site-packages/deeplabcut/refine_training_dataset/stitch.py:763: UserWarning: Only 26 tracks could be reconstructed.\n",
      "  warnings.warn(f\"Only {len(self.paths)} tracks could be reconstructed.\")\n"
     ]
    },
    {
     "name": "stdout",
     "output_type": "stream",
     "text": [
      "Starting to analyze %  /media/vsridhar/T7/Work/Data/BlackbuckAnnotations/P3/downsampled/SSD7/20230317/SM_Lek1/P3D6/20230317_SM_Lek1_P3D6_DJI_0033.MP4\n",
      "Loading  /media/vsridhar/T7/Work/Data/BlackbuckAnnotations/P3/downsampled/SSD7/20230317/SM_Lek1/P3D6/20230317_SM_Lek1_P3D6_DJI_0033.MP4\n",
      "Duration of video [s]:  193.96 , recorded with  29.97 fps!\n",
      "Overall # of frames:  5813  found with (before cropping) frame dimensions:  1824 1026\n",
      "Starting to extract posture from the video(s) with batchsize: 8\n"
     ]
    },
    {
     "name": "stderr",
     "output_type": "stream",
     "text": [
      "100%|████████████████████████████████████████████████████████████████████████████████████| 5813/5813 [04:32<00:00, 21.34it/s]\n"
     ]
    },
    {
     "name": "stdout",
     "output_type": "stream",
     "text": [
      "Video Analyzed. Saving results in /home/vsridhar/DATA/DeepLabCut/projects/07_TerritoryDetectionP3-Vivek-2023-08-18/output/SSD7/20230317/SM_Lek1/P3D6...\n",
      "Using snapshot-50000 for model /home/vsridhar/DATA/DeepLabCut/projects/07_TerritoryDetectionP3-Vivek-2023-08-18/dlc-models/iteration-0/07_TerritoryDetectionP3Aug18-trainset90shuffle1\n",
      "Processing...  /media/vsridhar/T7/Work/Data/BlackbuckAnnotations/P3/downsampled/SSD7/20230317/SM_Lek1/P3D6/20230317_SM_Lek1_P3D6_DJI_0033.MP4\n",
      "Analyzing /home/vsridhar/DATA/DeepLabCut/projects/07_TerritoryDetectionP3-Vivek-2023-08-18/output/SSD7/20230317/SM_Lek1/P3D6/20230317_SM_Lek1_P3D6_DJI_0033DLC_dlcrnetms5_07_TerritoryDetectionP3Aug18shuffle1_50000.h5\n"
     ]
    },
    {
     "name": "stderr",
     "output_type": "stream",
     "text": [
      "100%|███████████████████████████████████████████████████████████████████████████████████| 5813/5813 [00:09<00:00, 643.25it/s]\n",
      "5813it [00:16, 363.29it/s]\n"
     ]
    },
    {
     "name": "stdout",
     "output_type": "stream",
     "text": [
      "The tracklets were created (i.e., under the hood deeplabcut.convert_detections2tracklets was run). Now you can 'refine_tracklets' in the GUI, or run 'deeplabcut.stitch_tracklets'.\n",
      "Processing...  /media/vsridhar/T7/Work/Data/BlackbuckAnnotations/P3/downsampled/SSD7/20230317/SM_Lek1/P3D6/20230317_SM_Lek1_P3D6_DJI_0033.MP4\n"
     ]
    },
    {
     "name": "stderr",
     "output_type": "stream",
     "text": [
      "/home/vsridhar/.local/lib/python3.10/site-packages/deeplabcut/refine_training_dataset/stitch.py:138: FutureWarning: Unlike other reduction functions (e.g. `skew`, `kurtosis`), the default behavior of `mode` typically preserves the axis it acts along. In SciPy 1.11.0, this behavior will change: the default value of `keepdims` will become False, the `axis` over which the statistic is taken will be eliminated, and the value None will no longer be accepted. Set `keepdims` to True or False to avoid this warning.\n",
      "  return mode(self.data[..., 3], axis=None, nan_policy=\"omit\")[0][0]\n",
      "100%|████████████████████████████████████████████████████████████████████████████████████| 26/26 [00:00<00:00, 187374.41it/s]\n",
      "/home/vsridhar/.local/lib/python3.10/site-packages/deeplabcut/refine_training_dataset/stitch.py:690: UserWarning: No optimal solution found. Employing black magic...\n",
      "  warnings.warn(\"No optimal solution found. Employing black magic...\")\n",
      "/home/vsridhar/.local/lib/python3.10/site-packages/deeplabcut/refine_training_dataset/stitch.py:763: UserWarning: Only 26 tracks could be reconstructed.\n",
      "  warnings.warn(f\"Only {len(self.paths)} tracks could be reconstructed.\")\n"
     ]
    },
    {
     "name": "stdout",
     "output_type": "stream",
     "text": [
      "Starting to analyze %  /media/vsridhar/T7/Work/Data/BlackbuckAnnotations/P3/downsampled/SSD7/20230317/SM_Lek1/P3D6/20230317_SM_Lek1_P3D6_DJI_0026.MP4\n",
      "Loading  /media/vsridhar/T7/Work/Data/BlackbuckAnnotations/P3/downsampled/SSD7/20230317/SM_Lek1/P3D6/20230317_SM_Lek1_P3D6_DJI_0026.MP4\n",
      "Duration of video [s]:  194.13 , recorded with  29.97 fps!\n",
      "Overall # of frames:  5818  found with (before cropping) frame dimensions:  1824 1026\n",
      "Starting to extract posture from the video(s) with batchsize: 8\n"
     ]
    },
    {
     "name": "stderr",
     "output_type": "stream",
     "text": [
      "100%|████████████████████████████████████████████████████████████████████████████████████| 5818/5818 [04:32<00:00, 21.34it/s]\n"
     ]
    },
    {
     "name": "stdout",
     "output_type": "stream",
     "text": [
      "Video Analyzed. Saving results in /home/vsridhar/DATA/DeepLabCut/projects/07_TerritoryDetectionP3-Vivek-2023-08-18/output/SSD7/20230317/SM_Lek1/P3D6...\n",
      "Using snapshot-50000 for model /home/vsridhar/DATA/DeepLabCut/projects/07_TerritoryDetectionP3-Vivek-2023-08-18/dlc-models/iteration-0/07_TerritoryDetectionP3Aug18-trainset90shuffle1\n",
      "Processing...  /media/vsridhar/T7/Work/Data/BlackbuckAnnotations/P3/downsampled/SSD7/20230317/SM_Lek1/P3D6/20230317_SM_Lek1_P3D6_DJI_0026.MP4\n",
      "Analyzing /home/vsridhar/DATA/DeepLabCut/projects/07_TerritoryDetectionP3-Vivek-2023-08-18/output/SSD7/20230317/SM_Lek1/P3D6/20230317_SM_Lek1_P3D6_DJI_0026DLC_dlcrnetms5_07_TerritoryDetectionP3Aug18shuffle1_50000.h5\n"
     ]
    },
    {
     "name": "stderr",
     "output_type": "stream",
     "text": [
      "100%|███████████████████████████████████████████████████████████████████████████████████| 5818/5818 [00:08<00:00, 678.78it/s]\n",
      "5818it [00:15, 366.43it/s]\n"
     ]
    },
    {
     "name": "stdout",
     "output_type": "stream",
     "text": [
      "The tracklets were created (i.e., under the hood deeplabcut.convert_detections2tracklets was run). Now you can 'refine_tracklets' in the GUI, or run 'deeplabcut.stitch_tracklets'.\n",
      "Processing...  /media/vsridhar/T7/Work/Data/BlackbuckAnnotations/P3/downsampled/SSD7/20230317/SM_Lek1/P3D6/20230317_SM_Lek1_P3D6_DJI_0026.MP4\n"
     ]
    },
    {
     "name": "stderr",
     "output_type": "stream",
     "text": [
      "/home/vsridhar/.local/lib/python3.10/site-packages/deeplabcut/refine_training_dataset/stitch.py:138: FutureWarning: Unlike other reduction functions (e.g. `skew`, `kurtosis`), the default behavior of `mode` typically preserves the axis it acts along. In SciPy 1.11.0, this behavior will change: the default value of `keepdims` will become False, the `axis` over which the statistic is taken will be eliminated, and the value None will no longer be accepted. Set `keepdims` to True or False to avoid this warning.\n",
      "  return mode(self.data[..., 3], axis=None, nan_policy=\"omit\")[0][0]\n",
      "100%|█████████████████████████████████████████████████████████████████████████████████████| 26/26 [00:00<00:00, 18123.97it/s]\n",
      "/home/vsridhar/.local/lib/python3.10/site-packages/deeplabcut/refine_training_dataset/stitch.py:690: UserWarning: No optimal solution found. Employing black magic...\n",
      "  warnings.warn(\"No optimal solution found. Employing black magic...\")\n",
      "/home/vsridhar/.local/lib/python3.10/site-packages/deeplabcut/refine_training_dataset/stitch.py:763: UserWarning: Only 26 tracks could be reconstructed.\n",
      "  warnings.warn(f\"Only {len(self.paths)} tracks could be reconstructed.\")\n"
     ]
    },
    {
     "name": "stdout",
     "output_type": "stream",
     "text": [
      "Starting to analyze %  /media/vsridhar/T7/Work/Data/BlackbuckAnnotations/P3/downsampled/SSD7/20230317/SM_Lek1/P3D6/20230317_SM_Lek1_P3D6_DJI_0025.MP4\n",
      "Loading  /media/vsridhar/T7/Work/Data/BlackbuckAnnotations/P3/downsampled/SSD7/20230317/SM_Lek1/P3D6/20230317_SM_Lek1_P3D6_DJI_0025.MP4\n",
      "Duration of video [s]:  193.63 , recorded with  29.97 fps!\n",
      "Overall # of frames:  5803  found with (before cropping) frame dimensions:  1824 1026\n",
      "Starting to extract posture from the video(s) with batchsize: 8\n"
     ]
    },
    {
     "name": "stderr",
     "output_type": "stream",
     "text": [
      "100%|████████████████████████████████████████████████████████████████████████████████████| 5803/5803 [04:37<00:00, 20.87it/s]\n"
     ]
    },
    {
     "name": "stdout",
     "output_type": "stream",
     "text": [
      "Video Analyzed. Saving results in /home/vsridhar/DATA/DeepLabCut/projects/07_TerritoryDetectionP3-Vivek-2023-08-18/output/SSD7/20230317/SM_Lek1/P3D6...\n",
      "Using snapshot-50000 for model /home/vsridhar/DATA/DeepLabCut/projects/07_TerritoryDetectionP3-Vivek-2023-08-18/dlc-models/iteration-0/07_TerritoryDetectionP3Aug18-trainset90shuffle1\n",
      "Processing...  /media/vsridhar/T7/Work/Data/BlackbuckAnnotations/P3/downsampled/SSD7/20230317/SM_Lek1/P3D6/20230317_SM_Lek1_P3D6_DJI_0025.MP4\n",
      "Analyzing /home/vsridhar/DATA/DeepLabCut/projects/07_TerritoryDetectionP3-Vivek-2023-08-18/output/SSD7/20230317/SM_Lek1/P3D6/20230317_SM_Lek1_P3D6_DJI_0025DLC_dlcrnetms5_07_TerritoryDetectionP3Aug18shuffle1_50000.h5\n"
     ]
    },
    {
     "name": "stderr",
     "output_type": "stream",
     "text": [
      "100%|███████████████████████████████████████████████████████████████████████████████████| 5803/5803 [00:11<00:00, 518.52it/s]\n",
      "5803it [00:19, 298.97it/s]\n"
     ]
    },
    {
     "name": "stdout",
     "output_type": "stream",
     "text": [
      "The tracklets were created (i.e., under the hood deeplabcut.convert_detections2tracklets was run). Now you can 'refine_tracklets' in the GUI, or run 'deeplabcut.stitch_tracklets'.\n",
      "Processing...  /media/vsridhar/T7/Work/Data/BlackbuckAnnotations/P3/downsampled/SSD7/20230317/SM_Lek1/P3D6/20230317_SM_Lek1_P3D6_DJI_0025.MP4\n"
     ]
    },
    {
     "name": "stderr",
     "output_type": "stream",
     "text": [
      "/home/vsridhar/.local/lib/python3.10/site-packages/deeplabcut/refine_training_dataset/stitch.py:138: FutureWarning: Unlike other reduction functions (e.g. `skew`, `kurtosis`), the default behavior of `mode` typically preserves the axis it acts along. In SciPy 1.11.0, this behavior will change: the default value of `keepdims` will become False, the `axis` over which the statistic is taken will be eliminated, and the value None will no longer be accepted. Set `keepdims` to True or False to avoid this warning.\n",
      "  return mode(self.data[..., 3], axis=None, nan_policy=\"omit\")[0][0]\n",
      "100%|██████████████████████████████████████████████████████████████████████████████████████| 81/81 [00:00<00:00, 3794.14it/s]\n"
     ]
    },
    {
     "name": "stdout",
     "output_type": "stream",
     "text": [
      "Starting to analyze %  /media/vsridhar/T7/Work/Data/BlackbuckAnnotations/P3/downsampled/SSD7/20230317/SM_Lek1/P3D6/20230317_SM_Lek1_P3D6_DJI_0020.MP4\n",
      "Loading  /media/vsridhar/T7/Work/Data/BlackbuckAnnotations/P3/downsampled/SSD7/20230317/SM_Lek1/P3D6/20230317_SM_Lek1_P3D6_DJI_0020.MP4\n",
      "Duration of video [s]:  193.89 , recorded with  29.97 fps!\n",
      "Overall # of frames:  5811  found with (before cropping) frame dimensions:  1824 1026\n",
      "Starting to extract posture from the video(s) with batchsize: 8\n"
     ]
    },
    {
     "name": "stderr",
     "output_type": "stream",
     "text": [
      "100%|████████████████████████████████████████████████████████████████████████████████████| 5811/5811 [04:32<00:00, 21.30it/s]\n"
     ]
    },
    {
     "name": "stdout",
     "output_type": "stream",
     "text": [
      "Video Analyzed. Saving results in /home/vsridhar/DATA/DeepLabCut/projects/07_TerritoryDetectionP3-Vivek-2023-08-18/output/SSD7/20230317/SM_Lek1/P3D6...\n",
      "Using snapshot-50000 for model /home/vsridhar/DATA/DeepLabCut/projects/07_TerritoryDetectionP3-Vivek-2023-08-18/dlc-models/iteration-0/07_TerritoryDetectionP3Aug18-trainset90shuffle1\n",
      "Processing...  /media/vsridhar/T7/Work/Data/BlackbuckAnnotations/P3/downsampled/SSD7/20230317/SM_Lek1/P3D6/20230317_SM_Lek1_P3D6_DJI_0020.MP4\n",
      "Analyzing /home/vsridhar/DATA/DeepLabCut/projects/07_TerritoryDetectionP3-Vivek-2023-08-18/output/SSD7/20230317/SM_Lek1/P3D6/20230317_SM_Lek1_P3D6_DJI_0020DLC_dlcrnetms5_07_TerritoryDetectionP3Aug18shuffle1_50000.h5\n"
     ]
    },
    {
     "name": "stderr",
     "output_type": "stream",
     "text": [
      "100%|███████████████████████████████████████████████████████████████████████████████████| 5811/5811 [00:08<00:00, 718.46it/s]\n",
      "5811it [00:15, 363.89it/s]\n"
     ]
    },
    {
     "name": "stdout",
     "output_type": "stream",
     "text": [
      "The tracklets were created (i.e., under the hood deeplabcut.convert_detections2tracklets was run). Now you can 'refine_tracklets' in the GUI, or run 'deeplabcut.stitch_tracklets'.\n",
      "Processing...  /media/vsridhar/T7/Work/Data/BlackbuckAnnotations/P3/downsampled/SSD7/20230317/SM_Lek1/P3D6/20230317_SM_Lek1_P3D6_DJI_0020.MP4\n"
     ]
    },
    {
     "name": "stderr",
     "output_type": "stream",
     "text": [
      "/home/vsridhar/.local/lib/python3.10/site-packages/deeplabcut/refine_training_dataset/stitch.py:138: FutureWarning: Unlike other reduction functions (e.g. `skew`, `kurtosis`), the default behavior of `mode` typically preserves the axis it acts along. In SciPy 1.11.0, this behavior will change: the default value of `keepdims` will become False, the `axis` over which the statistic is taken will be eliminated, and the value None will no longer be accepted. Set `keepdims` to True or False to avoid this warning.\n",
      "  return mode(self.data[..., 3], axis=None, nan_policy=\"omit\")[0][0]\n",
      "100%|████████████████████████████████████████████████████████████████████████████████████| 125/125 [00:00<00:00, 7712.95it/s]\n"
     ]
    },
    {
     "name": "stdout",
     "output_type": "stream",
     "text": [
      "The videos are analyzed. Time to assemble animals and track 'em... \n",
      " Call 'create_video_with_all_detections' to check multi-animal detection quality before tracking.\n",
      "If the tracking is not satisfactory for some videos, consider expanding the training set. You can use the function 'extract_outlier_frames' to extract a few representative outlier frames.\n",
      "Using snapshot-50000 for model /home/vsridhar/DATA/DeepLabCut/projects/07_TerritoryDetectionP3-Vivek-2023-08-18/dlc-models/iteration-0/07_TerritoryDetectionP3Aug18-trainset90shuffle1\n"
     ]
    },
    {
     "name": "stderr",
     "output_type": "stream",
     "text": [
      "/home/vsridhar/.local/lib/python3.10/site-packages/tensorflow/python/keras/engine/base_layer_v1.py:1694: UserWarning: `layer.apply` is deprecated and will be removed in a future version. Please use `layer.__call__` method instead.\n",
      "  warnings.warn('`layer.apply` is deprecated and '\n",
      "/home/vsridhar/.local/lib/python3.10/site-packages/tf_slim/layers/layers.py:684: UserWarning: `layer.apply` is deprecated and will be removed in a future version. Please use `layer.__call__` method instead.\n",
      "  outputs = layer.apply(inputs, training=is_training)\n"
     ]
    },
    {
     "name": "stdout",
     "output_type": "stream",
     "text": [
      "Activating extracting of PAFs\n",
      "Analyzing all the videos in the directory...\n",
      "Starting to analyze %  /media/vsridhar/T7/Work/Data/BlackbuckAnnotations/P3/downsampled/SSD7/20230318/SM_Lek1/P3D5/20230318_SM_Lek1_P3D5_DJI_0707.MP4\n",
      "Loading  /media/vsridhar/T7/Work/Data/BlackbuckAnnotations/P3/downsampled/SSD7/20230318/SM_Lek1/P3D5/20230318_SM_Lek1_P3D5_DJI_0707.MP4\n",
      "Duration of video [s]:  194.06 , recorded with  29.97 fps!\n",
      "Overall # of frames:  5816  found with (before cropping) frame dimensions:  1824 1026\n",
      "Starting to extract posture from the video(s) with batchsize: 8\n"
     ]
    },
    {
     "name": "stderr",
     "output_type": "stream",
     "text": [
      "100%|████████████████████████████████████████████████████████████████████████████████████| 5816/5816 [04:31<00:00, 21.45it/s]\n"
     ]
    },
    {
     "name": "stdout",
     "output_type": "stream",
     "text": [
      "Video Analyzed. Saving results in /home/vsridhar/DATA/DeepLabCut/projects/07_TerritoryDetectionP3-Vivek-2023-08-18/output/SSD7/20230318/SM_Lek1/P3D5...\n",
      "Using snapshot-50000 for model /home/vsridhar/DATA/DeepLabCut/projects/07_TerritoryDetectionP3-Vivek-2023-08-18/dlc-models/iteration-0/07_TerritoryDetectionP3Aug18-trainset90shuffle1\n",
      "Processing...  /media/vsridhar/T7/Work/Data/BlackbuckAnnotations/P3/downsampled/SSD7/20230318/SM_Lek1/P3D5/20230318_SM_Lek1_P3D5_DJI_0707.MP4\n",
      "Analyzing /home/vsridhar/DATA/DeepLabCut/projects/07_TerritoryDetectionP3-Vivek-2023-08-18/output/SSD7/20230318/SM_Lek1/P3D5/20230318_SM_Lek1_P3D5_DJI_0707DLC_dlcrnetms5_07_TerritoryDetectionP3Aug18shuffle1_50000.h5\n"
     ]
    },
    {
     "name": "stderr",
     "output_type": "stream",
     "text": [
      "100%|███████████████████████████████████████████████████████████████████████████████████| 5816/5816 [00:07<00:00, 742.10it/s]\n",
      "5816it [00:14, 398.64it/s]\n"
     ]
    },
    {
     "name": "stdout",
     "output_type": "stream",
     "text": [
      "The tracklets were created (i.e., under the hood deeplabcut.convert_detections2tracklets was run). Now you can 'refine_tracklets' in the GUI, or run 'deeplabcut.stitch_tracklets'.\n",
      "Processing...  /media/vsridhar/T7/Work/Data/BlackbuckAnnotations/P3/downsampled/SSD7/20230318/SM_Lek1/P3D5/20230318_SM_Lek1_P3D5_DJI_0707.MP4\n"
     ]
    },
    {
     "name": "stderr",
     "output_type": "stream",
     "text": [
      "/home/vsridhar/.local/lib/python3.10/site-packages/deeplabcut/refine_training_dataset/stitch.py:138: FutureWarning: Unlike other reduction functions (e.g. `skew`, `kurtosis`), the default behavior of `mode` typically preserves the axis it acts along. In SciPy 1.11.0, this behavior will change: the default value of `keepdims` will become False, the `axis` over which the statistic is taken will be eliminated, and the value None will no longer be accepted. Set `keepdims` to True or False to avoid this warning.\n",
      "  return mode(self.data[..., 3], axis=None, nan_policy=\"omit\")[0][0]\n",
      "100%|████████████████████████████████████████████████████████████████████████████████████| 23/23 [00:00<00:00, 182706.42it/s]\n",
      "/home/vsridhar/.local/lib/python3.10/site-packages/deeplabcut/refine_training_dataset/stitch.py:690: UserWarning: No optimal solution found. Employing black magic...\n",
      "  warnings.warn(\"No optimal solution found. Employing black magic...\")\n",
      "/home/vsridhar/.local/lib/python3.10/site-packages/deeplabcut/refine_training_dataset/stitch.py:763: UserWarning: Only 23 tracks could be reconstructed.\n",
      "  warnings.warn(f\"Only {len(self.paths)} tracks could be reconstructed.\")\n"
     ]
    },
    {
     "name": "stdout",
     "output_type": "stream",
     "text": [
      "Starting to analyze %  /media/vsridhar/T7/Work/Data/BlackbuckAnnotations/P3/downsampled/SSD7/20230318/SM_Lek1/P3D5/20230318_SM_Lek1_P3D5_DJI_0695.MP4\n",
      "Loading  /media/vsridhar/T7/Work/Data/BlackbuckAnnotations/P3/downsampled/SSD7/20230318/SM_Lek1/P3D5/20230318_SM_Lek1_P3D5_DJI_0695.MP4\n",
      "Duration of video [s]:  113.51 , recorded with  29.97 fps!\n",
      "Overall # of frames:  3402  found with (before cropping) frame dimensions:  1824 1026\n",
      "Starting to extract posture from the video(s) with batchsize: 8\n"
     ]
    },
    {
     "name": "stderr",
     "output_type": "stream",
     "text": [
      "100%|████████████████████████████████████████████████████████████████████████████████████| 3402/3402 [02:40<00:00, 21.25it/s]\n"
     ]
    },
    {
     "name": "stdout",
     "output_type": "stream",
     "text": [
      "Video Analyzed. Saving results in /home/vsridhar/DATA/DeepLabCut/projects/07_TerritoryDetectionP3-Vivek-2023-08-18/output/SSD7/20230318/SM_Lek1/P3D5...\n",
      "Using snapshot-50000 for model /home/vsridhar/DATA/DeepLabCut/projects/07_TerritoryDetectionP3-Vivek-2023-08-18/dlc-models/iteration-0/07_TerritoryDetectionP3Aug18-trainset90shuffle1\n",
      "Processing...  /media/vsridhar/T7/Work/Data/BlackbuckAnnotations/P3/downsampled/SSD7/20230318/SM_Lek1/P3D5/20230318_SM_Lek1_P3D5_DJI_0695.MP4\n",
      "Analyzing /home/vsridhar/DATA/DeepLabCut/projects/07_TerritoryDetectionP3-Vivek-2023-08-18/output/SSD7/20230318/SM_Lek1/P3D5/20230318_SM_Lek1_P3D5_DJI_0695DLC_dlcrnetms5_07_TerritoryDetectionP3Aug18shuffle1_50000.h5\n"
     ]
    },
    {
     "name": "stderr",
     "output_type": "stream",
     "text": [
      "100%|███████████████████████████████████████████████████████████████████████████████████| 3402/3402 [00:04<00:00, 697.58it/s]\n",
      "3402it [00:08, 383.13it/s]\n"
     ]
    },
    {
     "name": "stdout",
     "output_type": "stream",
     "text": [
      "The tracklets were created (i.e., under the hood deeplabcut.convert_detections2tracklets was run). Now you can 'refine_tracklets' in the GUI, or run 'deeplabcut.stitch_tracklets'.\n",
      "Processing...  /media/vsridhar/T7/Work/Data/BlackbuckAnnotations/P3/downsampled/SSD7/20230318/SM_Lek1/P3D5/20230318_SM_Lek1_P3D5_DJI_0695.MP4\n"
     ]
    },
    {
     "name": "stderr",
     "output_type": "stream",
     "text": [
      "/home/vsridhar/.local/lib/python3.10/site-packages/deeplabcut/refine_training_dataset/stitch.py:138: FutureWarning: Unlike other reduction functions (e.g. `skew`, `kurtosis`), the default behavior of `mode` typically preserves the axis it acts along. In SciPy 1.11.0, this behavior will change: the default value of `keepdims` will become False, the `axis` over which the statistic is taken will be eliminated, and the value None will no longer be accepted. Set `keepdims` to True or False to avoid this warning.\n",
      "  return mode(self.data[..., 3], axis=None, nan_policy=\"omit\")[0][0]\n",
      "100%|█████████████████████████████████████████████████████████████████████████████████████| 34/34 [00:00<00:00, 12062.79it/s]\n",
      "/home/vsridhar/.local/lib/python3.10/site-packages/deeplabcut/refine_training_dataset/stitch.py:690: UserWarning: No optimal solution found. Employing black magic...\n",
      "  warnings.warn(\"No optimal solution found. Employing black magic...\")\n",
      "/home/vsridhar/.local/lib/python3.10/site-packages/deeplabcut/refine_training_dataset/stitch.py:763: UserWarning: Only 34 tracks could be reconstructed.\n",
      "  warnings.warn(f\"Only {len(self.paths)} tracks could be reconstructed.\")\n"
     ]
    },
    {
     "name": "stdout",
     "output_type": "stream",
     "text": [
      "Starting to analyze %  /media/vsridhar/T7/Work/Data/BlackbuckAnnotations/P3/downsampled/SSD7/20230318/SM_Lek1/P3D5/20230318_SM_Lek1_P3D5_DJI_0690.MP4\n",
      "Loading  /media/vsridhar/T7/Work/Data/BlackbuckAnnotations/P3/downsampled/SSD7/20230318/SM_Lek1/P3D5/20230318_SM_Lek1_P3D5_DJI_0690.MP4\n",
      "Duration of video [s]:  193.73 , recorded with  29.97 fps!\n",
      "Overall # of frames:  5806  found with (before cropping) frame dimensions:  1824 1026\n",
      "Starting to extract posture from the video(s) with batchsize: 8\n"
     ]
    },
    {
     "name": "stderr",
     "output_type": "stream",
     "text": [
      "100%|████████████████████████████████████████████████████████████████████████████████████| 5806/5806 [04:30<00:00, 21.48it/s]\n"
     ]
    },
    {
     "name": "stdout",
     "output_type": "stream",
     "text": [
      "Video Analyzed. Saving results in /home/vsridhar/DATA/DeepLabCut/projects/07_TerritoryDetectionP3-Vivek-2023-08-18/output/SSD7/20230318/SM_Lek1/P3D5...\n",
      "Using snapshot-50000 for model /home/vsridhar/DATA/DeepLabCut/projects/07_TerritoryDetectionP3-Vivek-2023-08-18/dlc-models/iteration-0/07_TerritoryDetectionP3Aug18-trainset90shuffle1\n",
      "Processing...  /media/vsridhar/T7/Work/Data/BlackbuckAnnotations/P3/downsampled/SSD7/20230318/SM_Lek1/P3D5/20230318_SM_Lek1_P3D5_DJI_0690.MP4\n",
      "Analyzing /home/vsridhar/DATA/DeepLabCut/projects/07_TerritoryDetectionP3-Vivek-2023-08-18/output/SSD7/20230318/SM_Lek1/P3D5/20230318_SM_Lek1_P3D5_DJI_0690DLC_dlcrnetms5_07_TerritoryDetectionP3Aug18shuffle1_50000.h5\n"
     ]
    },
    {
     "name": "stderr",
     "output_type": "stream",
     "text": [
      "100%|███████████████████████████████████████████████████████████████████████████████████| 5806/5806 [00:07<00:00, 775.10it/s]\n",
      "5806it [00:14, 405.17it/s]\n"
     ]
    },
    {
     "name": "stdout",
     "output_type": "stream",
     "text": [
      "The tracklets were created (i.e., under the hood deeplabcut.convert_detections2tracklets was run). Now you can 'refine_tracklets' in the GUI, or run 'deeplabcut.stitch_tracklets'.\n",
      "Processing...  /media/vsridhar/T7/Work/Data/BlackbuckAnnotations/P3/downsampled/SSD7/20230318/SM_Lek1/P3D5/20230318_SM_Lek1_P3D5_DJI_0690.MP4\n"
     ]
    },
    {
     "name": "stderr",
     "output_type": "stream",
     "text": [
      "/home/vsridhar/.local/lib/python3.10/site-packages/deeplabcut/refine_training_dataset/stitch.py:138: FutureWarning: Unlike other reduction functions (e.g. `skew`, `kurtosis`), the default behavior of `mode` typically preserves the axis it acts along. In SciPy 1.11.0, this behavior will change: the default value of `keepdims` will become False, the `axis` over which the statistic is taken will be eliminated, and the value None will no longer be accepted. Set `keepdims` to True or False to avoid this warning.\n",
      "  return mode(self.data[..., 3], axis=None, nan_policy=\"omit\")[0][0]\n",
      "100%|██████████████████████████████████████████████████████████████████████████████████████| 58/58 [00:00<00:00, 5864.46it/s]\n",
      "/home/vsridhar/.local/lib/python3.10/site-packages/deeplabcut/refine_training_dataset/stitch.py:690: UserWarning: No optimal solution found. Employing black magic...\n",
      "  warnings.warn(\"No optimal solution found. Employing black magic...\")\n",
      "/home/vsridhar/.local/lib/python3.10/site-packages/deeplabcut/refine_training_dataset/stitch.py:763: UserWarning: Only 58 tracks could be reconstructed.\n",
      "  warnings.warn(f\"Only {len(self.paths)} tracks could be reconstructed.\")\n"
     ]
    },
    {
     "name": "stdout",
     "output_type": "stream",
     "text": [
      "Starting to analyze %  /media/vsridhar/T7/Work/Data/BlackbuckAnnotations/P3/downsampled/SSD7/20230318/SM_Lek1/P3D5/20230318_SM_Lek1_P3D5_DJI_0704.MP4\n",
      "Loading  /media/vsridhar/T7/Work/Data/BlackbuckAnnotations/P3/downsampled/SSD7/20230318/SM_Lek1/P3D5/20230318_SM_Lek1_P3D5_DJI_0704.MP4\n",
      "Duration of video [s]:  193.63 , recorded with  29.97 fps!\n",
      "Overall # of frames:  5803  found with (before cropping) frame dimensions:  1824 1026\n",
      "Starting to extract posture from the video(s) with batchsize: 8\n"
     ]
    },
    {
     "name": "stderr",
     "output_type": "stream",
     "text": [
      "100%|████████████████████████████████████████████████████████████████████████████████████| 5803/5803 [04:33<00:00, 21.21it/s]\n"
     ]
    },
    {
     "name": "stdout",
     "output_type": "stream",
     "text": [
      "Video Analyzed. Saving results in /home/vsridhar/DATA/DeepLabCut/projects/07_TerritoryDetectionP3-Vivek-2023-08-18/output/SSD7/20230318/SM_Lek1/P3D5...\n",
      "Using snapshot-50000 for model /home/vsridhar/DATA/DeepLabCut/projects/07_TerritoryDetectionP3-Vivek-2023-08-18/dlc-models/iteration-0/07_TerritoryDetectionP3Aug18-trainset90shuffle1\n",
      "Processing...  /media/vsridhar/T7/Work/Data/BlackbuckAnnotations/P3/downsampled/SSD7/20230318/SM_Lek1/P3D5/20230318_SM_Lek1_P3D5_DJI_0704.MP4\n",
      "Analyzing /home/vsridhar/DATA/DeepLabCut/projects/07_TerritoryDetectionP3-Vivek-2023-08-18/output/SSD7/20230318/SM_Lek1/P3D5/20230318_SM_Lek1_P3D5_DJI_0704DLC_dlcrnetms5_07_TerritoryDetectionP3Aug18shuffle1_50000.h5\n"
     ]
    },
    {
     "name": "stderr",
     "output_type": "stream",
     "text": [
      "100%|███████████████████████████████████████████████████████████████████████████████████| 5803/5803 [00:08<00:00, 659.43it/s]\n",
      "5803it [00:15, 381.18it/s]\n"
     ]
    },
    {
     "name": "stdout",
     "output_type": "stream",
     "text": [
      "The tracklets were created (i.e., under the hood deeplabcut.convert_detections2tracklets was run). Now you can 'refine_tracklets' in the GUI, or run 'deeplabcut.stitch_tracklets'.\n",
      "Processing...  /media/vsridhar/T7/Work/Data/BlackbuckAnnotations/P3/downsampled/SSD7/20230318/SM_Lek1/P3D5/20230318_SM_Lek1_P3D5_DJI_0704.MP4\n"
     ]
    },
    {
     "name": "stderr",
     "output_type": "stream",
     "text": [
      "/home/vsridhar/.local/lib/python3.10/site-packages/deeplabcut/refine_training_dataset/stitch.py:138: FutureWarning: Unlike other reduction functions (e.g. `skew`, `kurtosis`), the default behavior of `mode` typically preserves the axis it acts along. In SciPy 1.11.0, this behavior will change: the default value of `keepdims` will become False, the `axis` over which the statistic is taken will be eliminated, and the value None will no longer be accepted. Set `keepdims` to True or False to avoid this warning.\n",
      "  return mode(self.data[..., 3], axis=None, nan_policy=\"omit\")[0][0]\n",
      "100%|██████████████████████████████████████████████████████████████████████████████████████| 72/72 [00:00<00:00, 3063.59it/s]\n"
     ]
    },
    {
     "name": "stdout",
     "output_type": "stream",
     "text": [
      "Starting to analyze %  /media/vsridhar/T7/Work/Data/BlackbuckAnnotations/P3/downsampled/SSD7/20230318/SM_Lek1/P3D5/20230318_SM_Lek1_P3D5_DJI_0699.MP4\n",
      "Loading  /media/vsridhar/T7/Work/Data/BlackbuckAnnotations/P3/downsampled/SSD7/20230318/SM_Lek1/P3D5/20230318_SM_Lek1_P3D5_DJI_0699.MP4\n",
      "Duration of video [s]:  193.99 , recorded with  29.97 fps!\n",
      "Overall # of frames:  5814  found with (before cropping) frame dimensions:  1824 1026\n",
      "Starting to extract posture from the video(s) with batchsize: 8\n"
     ]
    },
    {
     "name": "stderr",
     "output_type": "stream",
     "text": [
      "100%|████████████████████████████████████████████████████████████████████████████████████| 5814/5814 [04:31<00:00, 21.39it/s]\n"
     ]
    },
    {
     "name": "stdout",
     "output_type": "stream",
     "text": [
      "Video Analyzed. Saving results in /home/vsridhar/DATA/DeepLabCut/projects/07_TerritoryDetectionP3-Vivek-2023-08-18/output/SSD7/20230318/SM_Lek1/P3D5...\n",
      "Using snapshot-50000 for model /home/vsridhar/DATA/DeepLabCut/projects/07_TerritoryDetectionP3-Vivek-2023-08-18/dlc-models/iteration-0/07_TerritoryDetectionP3Aug18-trainset90shuffle1\n",
      "Processing...  /media/vsridhar/T7/Work/Data/BlackbuckAnnotations/P3/downsampled/SSD7/20230318/SM_Lek1/P3D5/20230318_SM_Lek1_P3D5_DJI_0699.MP4\n",
      "Analyzing /home/vsridhar/DATA/DeepLabCut/projects/07_TerritoryDetectionP3-Vivek-2023-08-18/output/SSD7/20230318/SM_Lek1/P3D5/20230318_SM_Lek1_P3D5_DJI_0699DLC_dlcrnetms5_07_TerritoryDetectionP3Aug18shuffle1_50000.h5\n"
     ]
    },
    {
     "name": "stderr",
     "output_type": "stream",
     "text": [
      "100%|███████████████████████████████████████████████████████████████████████████████████| 5814/5814 [00:07<00:00, 768.32it/s]\n",
      "5814it [00:14, 394.81it/s]\n"
     ]
    },
    {
     "name": "stdout",
     "output_type": "stream",
     "text": [
      "The tracklets were created (i.e., under the hood deeplabcut.convert_detections2tracklets was run). Now you can 'refine_tracklets' in the GUI, or run 'deeplabcut.stitch_tracklets'.\n",
      "Processing...  /media/vsridhar/T7/Work/Data/BlackbuckAnnotations/P3/downsampled/SSD7/20230318/SM_Lek1/P3D5/20230318_SM_Lek1_P3D5_DJI_0699.MP4\n"
     ]
    },
    {
     "name": "stderr",
     "output_type": "stream",
     "text": [
      "/home/vsridhar/.local/lib/python3.10/site-packages/deeplabcut/refine_training_dataset/stitch.py:138: FutureWarning: Unlike other reduction functions (e.g. `skew`, `kurtosis`), the default behavior of `mode` typically preserves the axis it acts along. In SciPy 1.11.0, this behavior will change: the default value of `keepdims` will become False, the `axis` over which the statistic is taken will be eliminated, and the value None will no longer be accepted. Set `keepdims` to True or False to avoid this warning.\n",
      "  return mode(self.data[..., 3], axis=None, nan_policy=\"omit\")[0][0]\n",
      "100%|█████████████████████████████████████████████████████████████████████████████████████| 29/29 [00:00<00:00, 12984.08it/s]\n",
      "/home/vsridhar/.local/lib/python3.10/site-packages/deeplabcut/refine_training_dataset/stitch.py:690: UserWarning: No optimal solution found. Employing black magic...\n",
      "  warnings.warn(\"No optimal solution found. Employing black magic...\")\n",
      "/home/vsridhar/.local/lib/python3.10/site-packages/deeplabcut/refine_training_dataset/stitch.py:763: UserWarning: Only 29 tracks could be reconstructed.\n",
      "  warnings.warn(f\"Only {len(self.paths)} tracks could be reconstructed.\")\n"
     ]
    },
    {
     "name": "stdout",
     "output_type": "stream",
     "text": [
      "Starting to analyze %  /media/vsridhar/T7/Work/Data/BlackbuckAnnotations/P3/downsampled/SSD7/20230318/SM_Lek1/P3D5/20230318_SM_Lek1_P3D5_DJI_0700.MP4\n",
      "Loading  /media/vsridhar/T7/Work/Data/BlackbuckAnnotations/P3/downsampled/SSD7/20230318/SM_Lek1/P3D5/20230318_SM_Lek1_P3D5_DJI_0700.MP4\n",
      "Duration of video [s]:  193.99 , recorded with  29.97 fps!\n",
      "Overall # of frames:  5814  found with (before cropping) frame dimensions:  1824 1026\n",
      "Starting to extract posture from the video(s) with batchsize: 8\n"
     ]
    },
    {
     "name": "stderr",
     "output_type": "stream",
     "text": [
      "100%|████████████████████████████████████████████████████████████████████████████████████| 5814/5814 [04:30<00:00, 21.47it/s]\n"
     ]
    },
    {
     "name": "stdout",
     "output_type": "stream",
     "text": [
      "Video Analyzed. Saving results in /home/vsridhar/DATA/DeepLabCut/projects/07_TerritoryDetectionP3-Vivek-2023-08-18/output/SSD7/20230318/SM_Lek1/P3D5...\n",
      "Using snapshot-50000 for model /home/vsridhar/DATA/DeepLabCut/projects/07_TerritoryDetectionP3-Vivek-2023-08-18/dlc-models/iteration-0/07_TerritoryDetectionP3Aug18-trainset90shuffle1\n",
      "Processing...  /media/vsridhar/T7/Work/Data/BlackbuckAnnotations/P3/downsampled/SSD7/20230318/SM_Lek1/P3D5/20230318_SM_Lek1_P3D5_DJI_0700.MP4\n",
      "Analyzing /home/vsridhar/DATA/DeepLabCut/projects/07_TerritoryDetectionP3-Vivek-2023-08-18/output/SSD7/20230318/SM_Lek1/P3D5/20230318_SM_Lek1_P3D5_DJI_0700DLC_dlcrnetms5_07_TerritoryDetectionP3Aug18shuffle1_50000.h5\n"
     ]
    },
    {
     "name": "stderr",
     "output_type": "stream",
     "text": [
      "100%|███████████████████████████████████████████████████████████████████████████████████| 5814/5814 [00:07<00:00, 737.40it/s]\n",
      "5814it [00:14, 397.00it/s]\n"
     ]
    },
    {
     "name": "stdout",
     "output_type": "stream",
     "text": [
      "The tracklets were created (i.e., under the hood deeplabcut.convert_detections2tracklets was run). Now you can 'refine_tracklets' in the GUI, or run 'deeplabcut.stitch_tracklets'.\n",
      "Processing...  /media/vsridhar/T7/Work/Data/BlackbuckAnnotations/P3/downsampled/SSD7/20230318/SM_Lek1/P3D5/20230318_SM_Lek1_P3D5_DJI_0700.MP4\n"
     ]
    },
    {
     "name": "stderr",
     "output_type": "stream",
     "text": [
      "/home/vsridhar/.local/lib/python3.10/site-packages/deeplabcut/refine_training_dataset/stitch.py:138: FutureWarning: Unlike other reduction functions (e.g. `skew`, `kurtosis`), the default behavior of `mode` typically preserves the axis it acts along. In SciPy 1.11.0, this behavior will change: the default value of `keepdims` will become False, the `axis` over which the statistic is taken will be eliminated, and the value None will no longer be accepted. Set `keepdims` to True or False to avoid this warning.\n",
      "  return mode(self.data[..., 3], axis=None, nan_policy=\"omit\")[0][0]\n",
      "100%|█████████████████████████████████████████████████████████████████████████████████████| 33/33 [00:00<00:00, 11046.45it/s]\n",
      "/home/vsridhar/.local/lib/python3.10/site-packages/deeplabcut/refine_training_dataset/stitch.py:690: UserWarning: No optimal solution found. Employing black magic...\n",
      "  warnings.warn(\"No optimal solution found. Employing black magic...\")\n",
      "/home/vsridhar/.local/lib/python3.10/site-packages/deeplabcut/refine_training_dataset/stitch.py:763: UserWarning: Only 33 tracks could be reconstructed.\n",
      "  warnings.warn(f\"Only {len(self.paths)} tracks could be reconstructed.\")\n"
     ]
    },
    {
     "name": "stdout",
     "output_type": "stream",
     "text": [
      "Starting to analyze %  /media/vsridhar/T7/Work/Data/BlackbuckAnnotations/P3/downsampled/SSD7/20230318/SM_Lek1/P3D5/20230318_SM_Lek1_P3D5_DJI_0694.MP4\n",
      "Loading  /media/vsridhar/T7/Work/Data/BlackbuckAnnotations/P3/downsampled/SSD7/20230318/SM_Lek1/P3D5/20230318_SM_Lek1_P3D5_DJI_0694.MP4\n",
      "Duration of video [s]:  193.89 , recorded with  29.97 fps!\n",
      "Overall # of frames:  5811  found with (before cropping) frame dimensions:  1824 1026\n",
      "Starting to extract posture from the video(s) with batchsize: 8\n"
     ]
    },
    {
     "name": "stderr",
     "output_type": "stream",
     "text": [
      "100%|████████████████████████████████████████████████████████████████████████████████████| 5811/5811 [04:30<00:00, 21.48it/s]\n"
     ]
    },
    {
     "name": "stdout",
     "output_type": "stream",
     "text": [
      "Video Analyzed. Saving results in /home/vsridhar/DATA/DeepLabCut/projects/07_TerritoryDetectionP3-Vivek-2023-08-18/output/SSD7/20230318/SM_Lek1/P3D5...\n",
      "Using snapshot-50000 for model /home/vsridhar/DATA/DeepLabCut/projects/07_TerritoryDetectionP3-Vivek-2023-08-18/dlc-models/iteration-0/07_TerritoryDetectionP3Aug18-trainset90shuffle1\n",
      "Processing...  /media/vsridhar/T7/Work/Data/BlackbuckAnnotations/P3/downsampled/SSD7/20230318/SM_Lek1/P3D5/20230318_SM_Lek1_P3D5_DJI_0694.MP4\n",
      "Analyzing /home/vsridhar/DATA/DeepLabCut/projects/07_TerritoryDetectionP3-Vivek-2023-08-18/output/SSD7/20230318/SM_Lek1/P3D5/20230318_SM_Lek1_P3D5_DJI_0694DLC_dlcrnetms5_07_TerritoryDetectionP3Aug18shuffle1_50000.h5\n"
     ]
    },
    {
     "name": "stderr",
     "output_type": "stream",
     "text": [
      "100%|███████████████████████████████████████████████████████████████████████████████████| 5811/5811 [00:08<00:00, 717.72it/s]\n",
      "5811it [00:14, 410.44it/s]\n"
     ]
    },
    {
     "name": "stdout",
     "output_type": "stream",
     "text": [
      "The tracklets were created (i.e., under the hood deeplabcut.convert_detections2tracklets was run). Now you can 'refine_tracklets' in the GUI, or run 'deeplabcut.stitch_tracklets'.\n",
      "Processing...  /media/vsridhar/T7/Work/Data/BlackbuckAnnotations/P3/downsampled/SSD7/20230318/SM_Lek1/P3D5/20230318_SM_Lek1_P3D5_DJI_0694.MP4\n"
     ]
    },
    {
     "name": "stderr",
     "output_type": "stream",
     "text": [
      "/home/vsridhar/.local/lib/python3.10/site-packages/deeplabcut/refine_training_dataset/stitch.py:138: FutureWarning: Unlike other reduction functions (e.g. `skew`, `kurtosis`), the default behavior of `mode` typically preserves the axis it acts along. In SciPy 1.11.0, this behavior will change: the default value of `keepdims` will become False, the `axis` over which the statistic is taken will be eliminated, and the value None will no longer be accepted. Set `keepdims` to True or False to avoid this warning.\n",
      "  return mode(self.data[..., 3], axis=None, nan_policy=\"omit\")[0][0]\n",
      "100%|█████████████████████████████████████████████████████████████████████████████████████| 31/31 [00:00<00:00, 22176.94it/s]\n",
      "/home/vsridhar/.local/lib/python3.10/site-packages/deeplabcut/refine_training_dataset/stitch.py:690: UserWarning: No optimal solution found. Employing black magic...\n",
      "  warnings.warn(\"No optimal solution found. Employing black magic...\")\n",
      "/home/vsridhar/.local/lib/python3.10/site-packages/deeplabcut/refine_training_dataset/stitch.py:763: UserWarning: Only 31 tracks could be reconstructed.\n",
      "  warnings.warn(f\"Only {len(self.paths)} tracks could be reconstructed.\")\n"
     ]
    },
    {
     "name": "stdout",
     "output_type": "stream",
     "text": [
      "Starting to analyze %  /media/vsridhar/T7/Work/Data/BlackbuckAnnotations/P3/downsampled/SSD7/20230318/SM_Lek1/P3D5/20230318_SM_Lek1_P3D5_DJI_0705.MP4\n",
      "Loading  /media/vsridhar/T7/Work/Data/BlackbuckAnnotations/P3/downsampled/SSD7/20230318/SM_Lek1/P3D5/20230318_SM_Lek1_P3D5_DJI_0705.MP4\n",
      "Duration of video [s]:  194.09 , recorded with  29.97 fps!\n",
      "Overall # of frames:  5817  found with (before cropping) frame dimensions:  1824 1026\n",
      "Starting to extract posture from the video(s) with batchsize: 8\n"
     ]
    },
    {
     "name": "stderr",
     "output_type": "stream",
     "text": [
      "100%|████████████████████████████████████████████████████████████████████████████████████| 5817/5817 [04:32<00:00, 21.36it/s]\n"
     ]
    },
    {
     "name": "stdout",
     "output_type": "stream",
     "text": [
      "Video Analyzed. Saving results in /home/vsridhar/DATA/DeepLabCut/projects/07_TerritoryDetectionP3-Vivek-2023-08-18/output/SSD7/20230318/SM_Lek1/P3D5...\n",
      "Using snapshot-50000 for model /home/vsridhar/DATA/DeepLabCut/projects/07_TerritoryDetectionP3-Vivek-2023-08-18/dlc-models/iteration-0/07_TerritoryDetectionP3Aug18-trainset90shuffle1\n",
      "Processing...  /media/vsridhar/T7/Work/Data/BlackbuckAnnotations/P3/downsampled/SSD7/20230318/SM_Lek1/P3D5/20230318_SM_Lek1_P3D5_DJI_0705.MP4\n",
      "Analyzing /home/vsridhar/DATA/DeepLabCut/projects/07_TerritoryDetectionP3-Vivek-2023-08-18/output/SSD7/20230318/SM_Lek1/P3D5/20230318_SM_Lek1_P3D5_DJI_0705DLC_dlcrnetms5_07_TerritoryDetectionP3Aug18shuffle1_50000.h5\n"
     ]
    },
    {
     "name": "stderr",
     "output_type": "stream",
     "text": [
      "100%|███████████████████████████████████████████████████████████████████████████████████| 5817/5817 [00:07<00:00, 797.28it/s]\n",
      "5817it [00:14, 413.53it/s]\n"
     ]
    },
    {
     "name": "stdout",
     "output_type": "stream",
     "text": [
      "The tracklets were created (i.e., under the hood deeplabcut.convert_detections2tracklets was run). Now you can 'refine_tracklets' in the GUI, or run 'deeplabcut.stitch_tracklets'.\n",
      "Processing...  /media/vsridhar/T7/Work/Data/BlackbuckAnnotations/P3/downsampled/SSD7/20230318/SM_Lek1/P3D5/20230318_SM_Lek1_P3D5_DJI_0705.MP4\n"
     ]
    },
    {
     "name": "stderr",
     "output_type": "stream",
     "text": [
      "/home/vsridhar/.local/lib/python3.10/site-packages/deeplabcut/refine_training_dataset/stitch.py:138: FutureWarning: Unlike other reduction functions (e.g. `skew`, `kurtosis`), the default behavior of `mode` typically preserves the axis it acts along. In SciPy 1.11.0, this behavior will change: the default value of `keepdims` will become False, the `axis` over which the statistic is taken will be eliminated, and the value None will no longer be accepted. Set `keepdims` to True or False to avoid this warning.\n",
      "  return mode(self.data[..., 3], axis=None, nan_policy=\"omit\")[0][0]\n",
      "100%|██████████████████████████████████████████████████████████████████████████████████████| 37/37 [00:00<00:00, 3853.24it/s]\n",
      "/home/vsridhar/.local/lib/python3.10/site-packages/deeplabcut/refine_training_dataset/stitch.py:690: UserWarning: No optimal solution found. Employing black magic...\n",
      "  warnings.warn(\"No optimal solution found. Employing black magic...\")\n",
      "/home/vsridhar/.local/lib/python3.10/site-packages/deeplabcut/refine_training_dataset/stitch.py:763: UserWarning: Only 37 tracks could be reconstructed.\n",
      "  warnings.warn(f\"Only {len(self.paths)} tracks could be reconstructed.\")\n"
     ]
    },
    {
     "name": "stdout",
     "output_type": "stream",
     "text": [
      "Starting to analyze %  /media/vsridhar/T7/Work/Data/BlackbuckAnnotations/P3/downsampled/SSD7/20230318/SM_Lek1/P3D5/20230318_SM_Lek1_P3D5_DJI_0703.MP4\n",
      "Loading  /media/vsridhar/T7/Work/Data/BlackbuckAnnotations/P3/downsampled/SSD7/20230318/SM_Lek1/P3D5/20230318_SM_Lek1_P3D5_DJI_0703.MP4\n",
      "Duration of video [s]:  79.01 , recorded with  29.97 fps!\n",
      "Overall # of frames:  2368  found with (before cropping) frame dimensions:  1824 1026\n",
      "Starting to extract posture from the video(s) with batchsize: 8\n"
     ]
    },
    {
     "name": "stderr",
     "output_type": "stream",
     "text": [
      "100%|████████████████████████████████████████████████████████████████████████████████████| 2368/2368 [01:51<00:00, 21.30it/s]\n"
     ]
    },
    {
     "name": "stdout",
     "output_type": "stream",
     "text": [
      "Video Analyzed. Saving results in /home/vsridhar/DATA/DeepLabCut/projects/07_TerritoryDetectionP3-Vivek-2023-08-18/output/SSD7/20230318/SM_Lek1/P3D5...\n",
      "Using snapshot-50000 for model /home/vsridhar/DATA/DeepLabCut/projects/07_TerritoryDetectionP3-Vivek-2023-08-18/dlc-models/iteration-0/07_TerritoryDetectionP3Aug18-trainset90shuffle1\n",
      "Processing...  /media/vsridhar/T7/Work/Data/BlackbuckAnnotations/P3/downsampled/SSD7/20230318/SM_Lek1/P3D5/20230318_SM_Lek1_P3D5_DJI_0703.MP4\n",
      "Analyzing /home/vsridhar/DATA/DeepLabCut/projects/07_TerritoryDetectionP3-Vivek-2023-08-18/output/SSD7/20230318/SM_Lek1/P3D5/20230318_SM_Lek1_P3D5_DJI_0703DLC_dlcrnetms5_07_TerritoryDetectionP3Aug18shuffle1_50000.h5\n"
     ]
    },
    {
     "name": "stderr",
     "output_type": "stream",
     "text": [
      "100%|███████████████████████████████████████████████████████████████████████████████████| 2368/2368 [00:03<00:00, 743.82it/s]\n",
      "2368it [00:06, 391.65it/s]\n"
     ]
    },
    {
     "name": "stdout",
     "output_type": "stream",
     "text": [
      "The tracklets were created (i.e., under the hood deeplabcut.convert_detections2tracklets was run). Now you can 'refine_tracklets' in the GUI, or run 'deeplabcut.stitch_tracklets'.\n",
      "Processing...  /media/vsridhar/T7/Work/Data/BlackbuckAnnotations/P3/downsampled/SSD7/20230318/SM_Lek1/P3D5/20230318_SM_Lek1_P3D5_DJI_0703.MP4\n"
     ]
    },
    {
     "name": "stderr",
     "output_type": "stream",
     "text": [
      "/home/vsridhar/.local/lib/python3.10/site-packages/deeplabcut/refine_training_dataset/stitch.py:138: FutureWarning: Unlike other reduction functions (e.g. `skew`, `kurtosis`), the default behavior of `mode` typically preserves the axis it acts along. In SciPy 1.11.0, this behavior will change: the default value of `keepdims` will become False, the `axis` over which the statistic is taken will be eliminated, and the value None will no longer be accepted. Set `keepdims` to True or False to avoid this warning.\n",
      "  return mode(self.data[..., 3], axis=None, nan_policy=\"omit\")[0][0]\n",
      "100%|████████████████████████████████████████████████████████████████████████████████████| 24/24 [00:00<00:00, 137894.93it/s]\n",
      "/home/vsridhar/.local/lib/python3.10/site-packages/deeplabcut/refine_training_dataset/stitch.py:690: UserWarning: No optimal solution found. Employing black magic...\n",
      "  warnings.warn(\"No optimal solution found. Employing black magic...\")\n",
      "/home/vsridhar/.local/lib/python3.10/site-packages/deeplabcut/refine_training_dataset/stitch.py:763: UserWarning: Only 24 tracks could be reconstructed.\n",
      "  warnings.warn(f\"Only {len(self.paths)} tracks could be reconstructed.\")\n"
     ]
    },
    {
     "name": "stdout",
     "output_type": "stream",
     "text": [
      "Starting to analyze %  /media/vsridhar/T7/Work/Data/BlackbuckAnnotations/P3/downsampled/SSD7/20230318/SM_Lek1/P3D5/20230318_SM_Lek1_P3D5_DJI_0698.MP4\n",
      "Loading  /media/vsridhar/T7/Work/Data/BlackbuckAnnotations/P3/downsampled/SSD7/20230318/SM_Lek1/P3D5/20230318_SM_Lek1_P3D5_DJI_0698.MP4\n",
      "Duration of video [s]:  193.59 , recorded with  29.97 fps!\n",
      "Overall # of frames:  5802  found with (before cropping) frame dimensions:  1824 1026\n",
      "Starting to extract posture from the video(s) with batchsize: 8\n"
     ]
    },
    {
     "name": "stderr",
     "output_type": "stream",
     "text": [
      "100%|████████████████████████████████████████████████████████████████████████████████████| 5802/5802 [04:32<00:00, 21.30it/s]\n"
     ]
    },
    {
     "name": "stdout",
     "output_type": "stream",
     "text": [
      "Video Analyzed. Saving results in /home/vsridhar/DATA/DeepLabCut/projects/07_TerritoryDetectionP3-Vivek-2023-08-18/output/SSD7/20230318/SM_Lek1/P3D5...\n",
      "Using snapshot-50000 for model /home/vsridhar/DATA/DeepLabCut/projects/07_TerritoryDetectionP3-Vivek-2023-08-18/dlc-models/iteration-0/07_TerritoryDetectionP3Aug18-trainset90shuffle1\n",
      "Processing...  /media/vsridhar/T7/Work/Data/BlackbuckAnnotations/P3/downsampled/SSD7/20230318/SM_Lek1/P3D5/20230318_SM_Lek1_P3D5_DJI_0698.MP4\n",
      "Analyzing /home/vsridhar/DATA/DeepLabCut/projects/07_TerritoryDetectionP3-Vivek-2023-08-18/output/SSD7/20230318/SM_Lek1/P3D5/20230318_SM_Lek1_P3D5_DJI_0698DLC_dlcrnetms5_07_TerritoryDetectionP3Aug18shuffle1_50000.h5\n"
     ]
    },
    {
     "name": "stderr",
     "output_type": "stream",
     "text": [
      "100%|███████████████████████████████████████████████████████████████████████████████████| 5802/5802 [00:08<00:00, 666.79it/s]\n",
      "5802it [00:15, 384.87it/s]\n"
     ]
    },
    {
     "name": "stdout",
     "output_type": "stream",
     "text": [
      "The tracklets were created (i.e., under the hood deeplabcut.convert_detections2tracklets was run). Now you can 'refine_tracklets' in the GUI, or run 'deeplabcut.stitch_tracklets'.\n",
      "Processing...  /media/vsridhar/T7/Work/Data/BlackbuckAnnotations/P3/downsampled/SSD7/20230318/SM_Lek1/P3D5/20230318_SM_Lek1_P3D5_DJI_0698.MP4\n"
     ]
    },
    {
     "name": "stderr",
     "output_type": "stream",
     "text": [
      "/home/vsridhar/.local/lib/python3.10/site-packages/deeplabcut/refine_training_dataset/stitch.py:138: FutureWarning: Unlike other reduction functions (e.g. `skew`, `kurtosis`), the default behavior of `mode` typically preserves the axis it acts along. In SciPy 1.11.0, this behavior will change: the default value of `keepdims` will become False, the `axis` over which the statistic is taken will be eliminated, and the value None will no longer be accepted. Set `keepdims` to True or False to avoid this warning.\n",
      "  return mode(self.data[..., 3], axis=None, nan_policy=\"omit\")[0][0]\n",
      "100%|██████████████████████████████████████████████████████████████████████████████████████| 71/71 [00:00<00:00, 2794.89it/s]\n"
     ]
    },
    {
     "name": "stdout",
     "output_type": "stream",
     "text": [
      "Starting to analyze %  /media/vsridhar/T7/Work/Data/BlackbuckAnnotations/P3/downsampled/SSD7/20230318/SM_Lek1/P3D5/20230318_SM_Lek1_P3D5_DJI_0702.MP4\n",
      "Loading  /media/vsridhar/T7/Work/Data/BlackbuckAnnotations/P3/downsampled/SSD7/20230318/SM_Lek1/P3D5/20230318_SM_Lek1_P3D5_DJI_0702.MP4\n",
      "Duration of video [s]:  193.99 , recorded with  29.97 fps!\n",
      "Overall # of frames:  5814  found with (before cropping) frame dimensions:  1824 1026\n",
      "Starting to extract posture from the video(s) with batchsize: 8\n"
     ]
    },
    {
     "name": "stderr",
     "output_type": "stream",
     "text": [
      "100%|████████████████████████████████████████████████████████████████████████████████████| 5814/5814 [04:31<00:00, 21.43it/s]\n"
     ]
    },
    {
     "name": "stdout",
     "output_type": "stream",
     "text": [
      "Video Analyzed. Saving results in /home/vsridhar/DATA/DeepLabCut/projects/07_TerritoryDetectionP3-Vivek-2023-08-18/output/SSD7/20230318/SM_Lek1/P3D5...\n",
      "Using snapshot-50000 for model /home/vsridhar/DATA/DeepLabCut/projects/07_TerritoryDetectionP3-Vivek-2023-08-18/dlc-models/iteration-0/07_TerritoryDetectionP3Aug18-trainset90shuffle1\n",
      "Processing...  /media/vsridhar/T7/Work/Data/BlackbuckAnnotations/P3/downsampled/SSD7/20230318/SM_Lek1/P3D5/20230318_SM_Lek1_P3D5_DJI_0702.MP4\n",
      "Analyzing /home/vsridhar/DATA/DeepLabCut/projects/07_TerritoryDetectionP3-Vivek-2023-08-18/output/SSD7/20230318/SM_Lek1/P3D5/20230318_SM_Lek1_P3D5_DJI_0702DLC_dlcrnetms5_07_TerritoryDetectionP3Aug18shuffle1_50000.h5\n"
     ]
    },
    {
     "name": "stderr",
     "output_type": "stream",
     "text": [
      "100%|███████████████████████████████████████████████████████████████████████████████████| 5814/5814 [00:07<00:00, 745.72it/s]\n",
      "5814it [00:15, 377.55it/s]\n"
     ]
    },
    {
     "name": "stdout",
     "output_type": "stream",
     "text": [
      "The tracklets were created (i.e., under the hood deeplabcut.convert_detections2tracklets was run). Now you can 'refine_tracklets' in the GUI, or run 'deeplabcut.stitch_tracklets'.\n",
      "Processing...  /media/vsridhar/T7/Work/Data/BlackbuckAnnotations/P3/downsampled/SSD7/20230318/SM_Lek1/P3D5/20230318_SM_Lek1_P3D5_DJI_0702.MP4\n"
     ]
    },
    {
     "name": "stderr",
     "output_type": "stream",
     "text": [
      "/home/vsridhar/.local/lib/python3.10/site-packages/deeplabcut/refine_training_dataset/stitch.py:138: FutureWarning: Unlike other reduction functions (e.g. `skew`, `kurtosis`), the default behavior of `mode` typically preserves the axis it acts along. In SciPy 1.11.0, this behavior will change: the default value of `keepdims` will become False, the `axis` over which the statistic is taken will be eliminated, and the value None will no longer be accepted. Set `keepdims` to True or False to avoid this warning.\n",
      "  return mode(self.data[..., 3], axis=None, nan_policy=\"omit\")[0][0]\n",
      "100%|█████████████████████████████████████████████████████████████████████████████████████| 25/25 [00:00<00:00, 15751.48it/s]\n",
      "/home/vsridhar/.local/lib/python3.10/site-packages/deeplabcut/refine_training_dataset/stitch.py:690: UserWarning: No optimal solution found. Employing black magic...\n",
      "  warnings.warn(\"No optimal solution found. Employing black magic...\")\n",
      "/home/vsridhar/.local/lib/python3.10/site-packages/deeplabcut/refine_training_dataset/stitch.py:763: UserWarning: Only 25 tracks could be reconstructed.\n",
      "  warnings.warn(f\"Only {len(self.paths)} tracks could be reconstructed.\")\n"
     ]
    },
    {
     "name": "stdout",
     "output_type": "stream",
     "text": [
      "Starting to analyze %  /media/vsridhar/T7/Work/Data/BlackbuckAnnotations/P3/downsampled/SSD7/20230318/SM_Lek1/P3D5/20230318_SM_Lek1_P3D5_DJI_0691.MP4\n",
      "Loading  /media/vsridhar/T7/Work/Data/BlackbuckAnnotations/P3/downsampled/SSD7/20230318/SM_Lek1/P3D5/20230318_SM_Lek1_P3D5_DJI_0691.MP4\n",
      "Duration of video [s]:  195.26 , recorded with  29.97 fps!\n",
      "Overall # of frames:  5852  found with (before cropping) frame dimensions:  1824 1026\n",
      "Starting to extract posture from the video(s) with batchsize: 8\n"
     ]
    },
    {
     "name": "stderr",
     "output_type": "stream",
     "text": [
      "100%|████████████████████████████████████████████████████████████████████████████████████| 5852/5852 [04:34<00:00, 21.30it/s]\n"
     ]
    },
    {
     "name": "stdout",
     "output_type": "stream",
     "text": [
      "Video Analyzed. Saving results in /home/vsridhar/DATA/DeepLabCut/projects/07_TerritoryDetectionP3-Vivek-2023-08-18/output/SSD7/20230318/SM_Lek1/P3D5...\n",
      "Using snapshot-50000 for model /home/vsridhar/DATA/DeepLabCut/projects/07_TerritoryDetectionP3-Vivek-2023-08-18/dlc-models/iteration-0/07_TerritoryDetectionP3Aug18-trainset90shuffle1\n",
      "Processing...  /media/vsridhar/T7/Work/Data/BlackbuckAnnotations/P3/downsampled/SSD7/20230318/SM_Lek1/P3D5/20230318_SM_Lek1_P3D5_DJI_0691.MP4\n",
      "Analyzing /home/vsridhar/DATA/DeepLabCut/projects/07_TerritoryDetectionP3-Vivek-2023-08-18/output/SSD7/20230318/SM_Lek1/P3D5/20230318_SM_Lek1_P3D5_DJI_0691DLC_dlcrnetms5_07_TerritoryDetectionP3Aug18shuffle1_50000.h5\n"
     ]
    },
    {
     "name": "stderr",
     "output_type": "stream",
     "text": [
      "100%|███████████████████████████████████████████████████████████████████████████████████| 5852/5852 [00:07<00:00, 802.45it/s]\n",
      "5852it [00:13, 434.68it/s]\n"
     ]
    },
    {
     "name": "stdout",
     "output_type": "stream",
     "text": [
      "The tracklets were created (i.e., under the hood deeplabcut.convert_detections2tracklets was run). Now you can 'refine_tracklets' in the GUI, or run 'deeplabcut.stitch_tracklets'.\n",
      "Processing...  /media/vsridhar/T7/Work/Data/BlackbuckAnnotations/P3/downsampled/SSD7/20230318/SM_Lek1/P3D5/20230318_SM_Lek1_P3D5_DJI_0691.MP4\n"
     ]
    },
    {
     "name": "stderr",
     "output_type": "stream",
     "text": [
      "/home/vsridhar/.local/lib/python3.10/site-packages/deeplabcut/refine_training_dataset/stitch.py:138: FutureWarning: Unlike other reduction functions (e.g. `skew`, `kurtosis`), the default behavior of `mode` typically preserves the axis it acts along. In SciPy 1.11.0, this behavior will change: the default value of `keepdims` will become False, the `axis` over which the statistic is taken will be eliminated, and the value None will no longer be accepted. Set `keepdims` to True or False to avoid this warning.\n",
      "  return mode(self.data[..., 3], axis=None, nan_policy=\"omit\")[0][0]\n",
      "100%|████████████████████████████████████████████████████████████████████████████████████| 23/23 [00:00<00:00, 120737.16it/s]\n",
      "/home/vsridhar/.local/lib/python3.10/site-packages/deeplabcut/refine_training_dataset/stitch.py:690: UserWarning: No optimal solution found. Employing black magic...\n",
      "  warnings.warn(\"No optimal solution found. Employing black magic...\")\n",
      "/home/vsridhar/.local/lib/python3.10/site-packages/deeplabcut/refine_training_dataset/stitch.py:763: UserWarning: Only 23 tracks could be reconstructed.\n",
      "  warnings.warn(f\"Only {len(self.paths)} tracks could be reconstructed.\")\n"
     ]
    },
    {
     "name": "stdout",
     "output_type": "stream",
     "text": [
      "Starting to analyze %  /media/vsridhar/T7/Work/Data/BlackbuckAnnotations/P3/downsampled/SSD7/20230318/SM_Lek1/P3D5/20230318_SM_Lek1_P3D5_DJI_0708.MP4\n",
      "Loading  /media/vsridhar/T7/Work/Data/BlackbuckAnnotations/P3/downsampled/SSD7/20230318/SM_Lek1/P3D5/20230318_SM_Lek1_P3D5_DJI_0708.MP4\n",
      "Duration of video [s]:  193.89 , recorded with  29.97 fps!\n",
      "Overall # of frames:  5811  found with (before cropping) frame dimensions:  1824 1026\n",
      "Starting to extract posture from the video(s) with batchsize: 8\n"
     ]
    },
    {
     "name": "stderr",
     "output_type": "stream",
     "text": [
      "100%|████████████████████████████████████████████████████████████████████████████████████| 5811/5811 [04:30<00:00, 21.49it/s]\n"
     ]
    },
    {
     "name": "stdout",
     "output_type": "stream",
     "text": [
      "Video Analyzed. Saving results in /home/vsridhar/DATA/DeepLabCut/projects/07_TerritoryDetectionP3-Vivek-2023-08-18/output/SSD7/20230318/SM_Lek1/P3D5...\n",
      "Using snapshot-50000 for model /home/vsridhar/DATA/DeepLabCut/projects/07_TerritoryDetectionP3-Vivek-2023-08-18/dlc-models/iteration-0/07_TerritoryDetectionP3Aug18-trainset90shuffle1\n",
      "Processing...  /media/vsridhar/T7/Work/Data/BlackbuckAnnotations/P3/downsampled/SSD7/20230318/SM_Lek1/P3D5/20230318_SM_Lek1_P3D5_DJI_0708.MP4\n",
      "Analyzing /home/vsridhar/DATA/DeepLabCut/projects/07_TerritoryDetectionP3-Vivek-2023-08-18/output/SSD7/20230318/SM_Lek1/P3D5/20230318_SM_Lek1_P3D5_DJI_0708DLC_dlcrnetms5_07_TerritoryDetectionP3Aug18shuffle1_50000.h5\n"
     ]
    },
    {
     "name": "stderr",
     "output_type": "stream",
     "text": [
      "100%|███████████████████████████████████████████████████████████████████████████████████| 5811/5811 [00:07<00:00, 744.12it/s]\n",
      "5811it [00:14, 394.35it/s]\n"
     ]
    },
    {
     "name": "stdout",
     "output_type": "stream",
     "text": [
      "The tracklets were created (i.e., under the hood deeplabcut.convert_detections2tracklets was run). Now you can 'refine_tracklets' in the GUI, or run 'deeplabcut.stitch_tracklets'.\n",
      "Processing...  /media/vsridhar/T7/Work/Data/BlackbuckAnnotations/P3/downsampled/SSD7/20230318/SM_Lek1/P3D5/20230318_SM_Lek1_P3D5_DJI_0708.MP4\n"
     ]
    },
    {
     "name": "stderr",
     "output_type": "stream",
     "text": [
      "/home/vsridhar/.local/lib/python3.10/site-packages/deeplabcut/refine_training_dataset/stitch.py:138: FutureWarning: Unlike other reduction functions (e.g. `skew`, `kurtosis`), the default behavior of `mode` typically preserves the axis it acts along. In SciPy 1.11.0, this behavior will change: the default value of `keepdims` will become False, the `axis` over which the statistic is taken will be eliminated, and the value None will no longer be accepted. Set `keepdims` to True or False to avoid this warning.\n",
      "  return mode(self.data[..., 3], axis=None, nan_policy=\"omit\")[0][0]\n",
      "100%|█████████████████████████████████████████████████████████████████████████████████████| 27/27 [00:00<00:00, 21505.17it/s]\n",
      "/home/vsridhar/.local/lib/python3.10/site-packages/deeplabcut/refine_training_dataset/stitch.py:690: UserWarning: No optimal solution found. Employing black magic...\n",
      "  warnings.warn(\"No optimal solution found. Employing black magic...\")\n",
      "/home/vsridhar/.local/lib/python3.10/site-packages/deeplabcut/refine_training_dataset/stitch.py:763: UserWarning: Only 27 tracks could be reconstructed.\n",
      "  warnings.warn(f\"Only {len(self.paths)} tracks could be reconstructed.\")\n"
     ]
    },
    {
     "name": "stdout",
     "output_type": "stream",
     "text": [
      "Starting to analyze %  /media/vsridhar/T7/Work/Data/BlackbuckAnnotations/P3/downsampled/SSD7/20230318/SM_Lek1/P3D5/20230318_SM_Lek1_P3D5_DJI_0709.MP4\n",
      "Loading  /media/vsridhar/T7/Work/Data/BlackbuckAnnotations/P3/downsampled/SSD7/20230318/SM_Lek1/P3D5/20230318_SM_Lek1_P3D5_DJI_0709.MP4\n",
      "Duration of video [s]:  85.59 , recorded with  29.97 fps!\n",
      "Overall # of frames:  2565  found with (before cropping) frame dimensions:  1824 1026\n",
      "Starting to extract posture from the video(s) with batchsize: 8\n"
     ]
    },
    {
     "name": "stderr",
     "output_type": "stream",
     "text": [
      "100%|████████████████████████████████████████████████████████████████████████████████████| 2565/2565 [02:00<00:00, 21.28it/s]\n"
     ]
    },
    {
     "name": "stdout",
     "output_type": "stream",
     "text": [
      "Video Analyzed. Saving results in /home/vsridhar/DATA/DeepLabCut/projects/07_TerritoryDetectionP3-Vivek-2023-08-18/output/SSD7/20230318/SM_Lek1/P3D5...\n",
      "Using snapshot-50000 for model /home/vsridhar/DATA/DeepLabCut/projects/07_TerritoryDetectionP3-Vivek-2023-08-18/dlc-models/iteration-0/07_TerritoryDetectionP3Aug18-trainset90shuffle1\n",
      "Processing...  /media/vsridhar/T7/Work/Data/BlackbuckAnnotations/P3/downsampled/SSD7/20230318/SM_Lek1/P3D5/20230318_SM_Lek1_P3D5_DJI_0709.MP4\n",
      "Analyzing /home/vsridhar/DATA/DeepLabCut/projects/07_TerritoryDetectionP3-Vivek-2023-08-18/output/SSD7/20230318/SM_Lek1/P3D5/20230318_SM_Lek1_P3D5_DJI_0709DLC_dlcrnetms5_07_TerritoryDetectionP3Aug18shuffle1_50000.h5\n"
     ]
    },
    {
     "name": "stderr",
     "output_type": "stream",
     "text": [
      "100%|███████████████████████████████████████████████████████████████████████████████████| 2565/2565 [00:03<00:00, 818.74it/s]\n",
      "2565it [00:06, 393.10it/s]\n"
     ]
    },
    {
     "name": "stdout",
     "output_type": "stream",
     "text": [
      "The tracklets were created (i.e., under the hood deeplabcut.convert_detections2tracklets was run). Now you can 'refine_tracklets' in the GUI, or run 'deeplabcut.stitch_tracklets'.\n",
      "Processing...  /media/vsridhar/T7/Work/Data/BlackbuckAnnotations/P3/downsampled/SSD7/20230318/SM_Lek1/P3D5/20230318_SM_Lek1_P3D5_DJI_0709.MP4\n"
     ]
    },
    {
     "name": "stderr",
     "output_type": "stream",
     "text": [
      "/home/vsridhar/.local/lib/python3.10/site-packages/deeplabcut/refine_training_dataset/stitch.py:138: FutureWarning: Unlike other reduction functions (e.g. `skew`, `kurtosis`), the default behavior of `mode` typically preserves the axis it acts along. In SciPy 1.11.0, this behavior will change: the default value of `keepdims` will become False, the `axis` over which the statistic is taken will be eliminated, and the value None will no longer be accepted. Set `keepdims` to True or False to avoid this warning.\n",
      "  return mode(self.data[..., 3], axis=None, nan_policy=\"omit\")[0][0]\n",
      "100%|████████████████████████████████████████████████████████████████████████████████████| 23/23 [00:00<00:00, 232455.40it/s]\n",
      "/home/vsridhar/.local/lib/python3.10/site-packages/deeplabcut/refine_training_dataset/stitch.py:690: UserWarning: No optimal solution found. Employing black magic...\n",
      "  warnings.warn(\"No optimal solution found. Employing black magic...\")\n",
      "/home/vsridhar/.local/lib/python3.10/site-packages/deeplabcut/refine_training_dataset/stitch.py:763: UserWarning: Only 23 tracks could be reconstructed.\n",
      "  warnings.warn(f\"Only {len(self.paths)} tracks could be reconstructed.\")\n"
     ]
    },
    {
     "name": "stdout",
     "output_type": "stream",
     "text": [
      "Starting to analyze %  /media/vsridhar/T7/Work/Data/BlackbuckAnnotations/P3/downsampled/SSD7/20230318/SM_Lek1/P3D5/20230318_SM_Lek1_P3D5_DJI_0701.MP4\n",
      "Loading  /media/vsridhar/T7/Work/Data/BlackbuckAnnotations/P3/downsampled/SSD7/20230318/SM_Lek1/P3D5/20230318_SM_Lek1_P3D5_DJI_0701.MP4\n",
      "Duration of video [s]:  193.96 , recorded with  29.97 fps!\n",
      "Overall # of frames:  5813  found with (before cropping) frame dimensions:  1824 1026\n",
      "Starting to extract posture from the video(s) with batchsize: 8\n"
     ]
    },
    {
     "name": "stderr",
     "output_type": "stream",
     "text": [
      "100%|████████████████████████████████████████████████████████████████████████████████████| 5813/5813 [04:32<00:00, 21.32it/s]\n"
     ]
    },
    {
     "name": "stdout",
     "output_type": "stream",
     "text": [
      "Video Analyzed. Saving results in /home/vsridhar/DATA/DeepLabCut/projects/07_TerritoryDetectionP3-Vivek-2023-08-18/output/SSD7/20230318/SM_Lek1/P3D5...\n",
      "Using snapshot-50000 for model /home/vsridhar/DATA/DeepLabCut/projects/07_TerritoryDetectionP3-Vivek-2023-08-18/dlc-models/iteration-0/07_TerritoryDetectionP3Aug18-trainset90shuffle1\n",
      "Processing...  /media/vsridhar/T7/Work/Data/BlackbuckAnnotations/P3/downsampled/SSD7/20230318/SM_Lek1/P3D5/20230318_SM_Lek1_P3D5_DJI_0701.MP4\n",
      "Analyzing /home/vsridhar/DATA/DeepLabCut/projects/07_TerritoryDetectionP3-Vivek-2023-08-18/output/SSD7/20230318/SM_Lek1/P3D5/20230318_SM_Lek1_P3D5_DJI_0701DLC_dlcrnetms5_07_TerritoryDetectionP3Aug18shuffle1_50000.h5\n"
     ]
    },
    {
     "name": "stderr",
     "output_type": "stream",
     "text": [
      "100%|███████████████████████████████████████████████████████████████████████████████████| 5813/5813 [00:08<00:00, 701.62it/s]\n",
      "5813it [00:14, 390.17it/s]\n"
     ]
    },
    {
     "name": "stdout",
     "output_type": "stream",
     "text": [
      "The tracklets were created (i.e., under the hood deeplabcut.convert_detections2tracklets was run). Now you can 'refine_tracklets' in the GUI, or run 'deeplabcut.stitch_tracklets'.\n",
      "Processing...  /media/vsridhar/T7/Work/Data/BlackbuckAnnotations/P3/downsampled/SSD7/20230318/SM_Lek1/P3D5/20230318_SM_Lek1_P3D5_DJI_0701.MP4\n"
     ]
    },
    {
     "name": "stderr",
     "output_type": "stream",
     "text": [
      "/home/vsridhar/.local/lib/python3.10/site-packages/deeplabcut/refine_training_dataset/stitch.py:138: FutureWarning: Unlike other reduction functions (e.g. `skew`, `kurtosis`), the default behavior of `mode` typically preserves the axis it acts along. In SciPy 1.11.0, this behavior will change: the default value of `keepdims` will become False, the `axis` over which the statistic is taken will be eliminated, and the value None will no longer be accepted. Set `keepdims` to True or False to avoid this warning.\n",
      "  return mode(self.data[..., 3], axis=None, nan_policy=\"omit\")[0][0]\n",
      "100%|█████████████████████████████████████████████████████████████████████████████████████| 25/25 [00:00<00:00, 17467.53it/s]\n",
      "/home/vsridhar/.local/lib/python3.10/site-packages/deeplabcut/refine_training_dataset/stitch.py:690: UserWarning: No optimal solution found. Employing black magic...\n",
      "  warnings.warn(\"No optimal solution found. Employing black magic...\")\n",
      "/home/vsridhar/.local/lib/python3.10/site-packages/deeplabcut/refine_training_dataset/stitch.py:763: UserWarning: Only 25 tracks could be reconstructed.\n",
      "  warnings.warn(f\"Only {len(self.paths)} tracks could be reconstructed.\")\n"
     ]
    },
    {
     "name": "stdout",
     "output_type": "stream",
     "text": [
      "Starting to analyze %  /media/vsridhar/T7/Work/Data/BlackbuckAnnotations/P3/downsampled/SSD7/20230318/SM_Lek1/P3D5/20230318_SM_Lek1_P3D5_DJI_0693.MP4\n",
      "Loading  /media/vsridhar/T7/Work/Data/BlackbuckAnnotations/P3/downsampled/SSD7/20230318/SM_Lek1/P3D5/20230318_SM_Lek1_P3D5_DJI_0693.MP4\n",
      "Duration of video [s]:  193.99 , recorded with  29.97 fps!\n",
      "Overall # of frames:  5814  found with (before cropping) frame dimensions:  1824 1026\n",
      "Starting to extract posture from the video(s) with batchsize: 8\n"
     ]
    },
    {
     "name": "stderr",
     "output_type": "stream",
     "text": [
      "100%|████████████████████████████████████████████████████████████████████████████████████| 5814/5814 [04:30<00:00, 21.49it/s]\n"
     ]
    },
    {
     "name": "stdout",
     "output_type": "stream",
     "text": [
      "Video Analyzed. Saving results in /home/vsridhar/DATA/DeepLabCut/projects/07_TerritoryDetectionP3-Vivek-2023-08-18/output/SSD7/20230318/SM_Lek1/P3D5...\n",
      "Using snapshot-50000 for model /home/vsridhar/DATA/DeepLabCut/projects/07_TerritoryDetectionP3-Vivek-2023-08-18/dlc-models/iteration-0/07_TerritoryDetectionP3Aug18-trainset90shuffle1\n",
      "Processing...  /media/vsridhar/T7/Work/Data/BlackbuckAnnotations/P3/downsampled/SSD7/20230318/SM_Lek1/P3D5/20230318_SM_Lek1_P3D5_DJI_0693.MP4\n",
      "Analyzing /home/vsridhar/DATA/DeepLabCut/projects/07_TerritoryDetectionP3-Vivek-2023-08-18/output/SSD7/20230318/SM_Lek1/P3D5/20230318_SM_Lek1_P3D5_DJI_0693DLC_dlcrnetms5_07_TerritoryDetectionP3Aug18shuffle1_50000.h5\n"
     ]
    },
    {
     "name": "stderr",
     "output_type": "stream",
     "text": [
      "100%|███████████████████████████████████████████████████████████████████████████████████| 5814/5814 [00:07<00:00, 803.34it/s]\n",
      "5814it [00:14, 415.18it/s]\n"
     ]
    },
    {
     "name": "stdout",
     "output_type": "stream",
     "text": [
      "The tracklets were created (i.e., under the hood deeplabcut.convert_detections2tracklets was run). Now you can 'refine_tracklets' in the GUI, or run 'deeplabcut.stitch_tracklets'.\n",
      "Processing...  /media/vsridhar/T7/Work/Data/BlackbuckAnnotations/P3/downsampled/SSD7/20230318/SM_Lek1/P3D5/20230318_SM_Lek1_P3D5_DJI_0693.MP4\n"
     ]
    },
    {
     "name": "stderr",
     "output_type": "stream",
     "text": [
      "/home/vsridhar/.local/lib/python3.10/site-packages/deeplabcut/refine_training_dataset/stitch.py:138: FutureWarning: Unlike other reduction functions (e.g. `skew`, `kurtosis`), the default behavior of `mode` typically preserves the axis it acts along. In SciPy 1.11.0, this behavior will change: the default value of `keepdims` will become False, the `axis` over which the statistic is taken will be eliminated, and the value None will no longer be accepted. Set `keepdims` to True or False to avoid this warning.\n",
      "  return mode(self.data[..., 3], axis=None, nan_policy=\"omit\")[0][0]\n",
      "100%|██████████████████████████████████████████████████████████████████████████████████████| 37/37 [00:00<00:00, 5403.71it/s]\n",
      "/home/vsridhar/.local/lib/python3.10/site-packages/deeplabcut/refine_training_dataset/stitch.py:690: UserWarning: No optimal solution found. Employing black magic...\n",
      "  warnings.warn(\"No optimal solution found. Employing black magic...\")\n",
      "/home/vsridhar/.local/lib/python3.10/site-packages/deeplabcut/refine_training_dataset/stitch.py:763: UserWarning: Only 37 tracks could be reconstructed.\n",
      "  warnings.warn(f\"Only {len(self.paths)} tracks could be reconstructed.\")\n"
     ]
    },
    {
     "name": "stdout",
     "output_type": "stream",
     "text": [
      "Starting to analyze %  /media/vsridhar/T7/Work/Data/BlackbuckAnnotations/P3/downsampled/SSD7/20230318/SM_Lek1/P3D5/20230318_SM_Lek1_P3D5_DJI_0706.MP4\n",
      "Loading  /media/vsridhar/T7/Work/Data/BlackbuckAnnotations/P3/downsampled/SSD7/20230318/SM_Lek1/P3D5/20230318_SM_Lek1_P3D5_DJI_0706.MP4\n",
      "Duration of video [s]:  193.93 , recorded with  29.97 fps!\n",
      "Overall # of frames:  5812  found with (before cropping) frame dimensions:  1824 1026\n",
      "Starting to extract posture from the video(s) with batchsize: 8\n"
     ]
    },
    {
     "name": "stderr",
     "output_type": "stream",
     "text": [
      "100%|████████████████████████████████████████████████████████████████████████████████████| 5812/5812 [04:32<00:00, 21.34it/s]\n"
     ]
    },
    {
     "name": "stdout",
     "output_type": "stream",
     "text": [
      "Video Analyzed. Saving results in /home/vsridhar/DATA/DeepLabCut/projects/07_TerritoryDetectionP3-Vivek-2023-08-18/output/SSD7/20230318/SM_Lek1/P3D5...\n",
      "Using snapshot-50000 for model /home/vsridhar/DATA/DeepLabCut/projects/07_TerritoryDetectionP3-Vivek-2023-08-18/dlc-models/iteration-0/07_TerritoryDetectionP3Aug18-trainset90shuffle1\n",
      "Processing...  /media/vsridhar/T7/Work/Data/BlackbuckAnnotations/P3/downsampled/SSD7/20230318/SM_Lek1/P3D5/20230318_SM_Lek1_P3D5_DJI_0706.MP4\n",
      "Analyzing /home/vsridhar/DATA/DeepLabCut/projects/07_TerritoryDetectionP3-Vivek-2023-08-18/output/SSD7/20230318/SM_Lek1/P3D5/20230318_SM_Lek1_P3D5_DJI_0706DLC_dlcrnetms5_07_TerritoryDetectionP3Aug18shuffle1_50000.h5\n"
     ]
    },
    {
     "name": "stderr",
     "output_type": "stream",
     "text": [
      "100%|███████████████████████████████████████████████████████████████████████████████████| 5812/5812 [00:07<00:00, 746.51it/s]\n",
      "5812it [00:14, 403.01it/s]\n"
     ]
    },
    {
     "name": "stdout",
     "output_type": "stream",
     "text": [
      "The tracklets were created (i.e., under the hood deeplabcut.convert_detections2tracklets was run). Now you can 'refine_tracklets' in the GUI, or run 'deeplabcut.stitch_tracklets'.\n",
      "Processing...  /media/vsridhar/T7/Work/Data/BlackbuckAnnotations/P3/downsampled/SSD7/20230318/SM_Lek1/P3D5/20230318_SM_Lek1_P3D5_DJI_0706.MP4\n"
     ]
    },
    {
     "name": "stderr",
     "output_type": "stream",
     "text": [
      "/home/vsridhar/.local/lib/python3.10/site-packages/deeplabcut/refine_training_dataset/stitch.py:138: FutureWarning: Unlike other reduction functions (e.g. `skew`, `kurtosis`), the default behavior of `mode` typically preserves the axis it acts along. In SciPy 1.11.0, this behavior will change: the default value of `keepdims` will become False, the `axis` over which the statistic is taken will be eliminated, and the value None will no longer be accepted. Set `keepdims` to True or False to avoid this warning.\n",
      "  return mode(self.data[..., 3], axis=None, nan_policy=\"omit\")[0][0]\n",
      "100%|██████████████████████████████████████████████████████████████████████████████████████| 41/41 [00:00<00:00, 3735.80it/s]\n",
      "/home/vsridhar/.local/lib/python3.10/site-packages/deeplabcut/refine_training_dataset/stitch.py:690: UserWarning: No optimal solution found. Employing black magic...\n",
      "  warnings.warn(\"No optimal solution found. Employing black magic...\")\n",
      "/home/vsridhar/.local/lib/python3.10/site-packages/deeplabcut/refine_training_dataset/stitch.py:763: UserWarning: Only 41 tracks could be reconstructed.\n",
      "  warnings.warn(f\"Only {len(self.paths)} tracks could be reconstructed.\")\n"
     ]
    },
    {
     "name": "stdout",
     "output_type": "stream",
     "text": [
      "Starting to analyze %  /media/vsridhar/T7/Work/Data/BlackbuckAnnotations/P3/downsampled/SSD7/20230318/SM_Lek1/P3D5/20230318_SM_Lek1_P3D5_DJI_0692.MP4\n",
      "Loading  /media/vsridhar/T7/Work/Data/BlackbuckAnnotations/P3/downsampled/SSD7/20230318/SM_Lek1/P3D5/20230318_SM_Lek1_P3D5_DJI_0692.MP4\n",
      "Duration of video [s]:  194.06 , recorded with  29.97 fps!\n",
      "Overall # of frames:  5816  found with (before cropping) frame dimensions:  1824 1026\n",
      "Starting to extract posture from the video(s) with batchsize: 8\n"
     ]
    },
    {
     "name": "stderr",
     "output_type": "stream",
     "text": [
      "100%|████████████████████████████████████████████████████████████████████████████████████| 5816/5816 [04:30<00:00, 21.51it/s]\n"
     ]
    },
    {
     "name": "stdout",
     "output_type": "stream",
     "text": [
      "Video Analyzed. Saving results in /home/vsridhar/DATA/DeepLabCut/projects/07_TerritoryDetectionP3-Vivek-2023-08-18/output/SSD7/20230318/SM_Lek1/P3D5...\n",
      "Using snapshot-50000 for model /home/vsridhar/DATA/DeepLabCut/projects/07_TerritoryDetectionP3-Vivek-2023-08-18/dlc-models/iteration-0/07_TerritoryDetectionP3Aug18-trainset90shuffle1\n",
      "Processing...  /media/vsridhar/T7/Work/Data/BlackbuckAnnotations/P3/downsampled/SSD7/20230318/SM_Lek1/P3D5/20230318_SM_Lek1_P3D5_DJI_0692.MP4\n",
      "Analyzing /home/vsridhar/DATA/DeepLabCut/projects/07_TerritoryDetectionP3-Vivek-2023-08-18/output/SSD7/20230318/SM_Lek1/P3D5/20230318_SM_Lek1_P3D5_DJI_0692DLC_dlcrnetms5_07_TerritoryDetectionP3Aug18shuffle1_50000.h5\n"
     ]
    },
    {
     "name": "stderr",
     "output_type": "stream",
     "text": [
      "100%|███████████████████████████████████████████████████████████████████████████████████| 5816/5816 [00:07<00:00, 779.06it/s]\n",
      "5816it [00:14, 411.75it/s]\n"
     ]
    },
    {
     "name": "stdout",
     "output_type": "stream",
     "text": [
      "The tracklets were created (i.e., under the hood deeplabcut.convert_detections2tracklets was run). Now you can 'refine_tracklets' in the GUI, or run 'deeplabcut.stitch_tracklets'.\n",
      "Processing...  /media/vsridhar/T7/Work/Data/BlackbuckAnnotations/P3/downsampled/SSD7/20230318/SM_Lek1/P3D5/20230318_SM_Lek1_P3D5_DJI_0692.MP4\n"
     ]
    },
    {
     "name": "stderr",
     "output_type": "stream",
     "text": [
      "/home/vsridhar/.local/lib/python3.10/site-packages/deeplabcut/refine_training_dataset/stitch.py:138: FutureWarning: Unlike other reduction functions (e.g. `skew`, `kurtosis`), the default behavior of `mode` typically preserves the axis it acts along. In SciPy 1.11.0, this behavior will change: the default value of `keepdims` will become False, the `axis` over which the statistic is taken will be eliminated, and the value None will no longer be accepted. Set `keepdims` to True or False to avoid this warning.\n",
      "  return mode(self.data[..., 3], axis=None, nan_policy=\"omit\")[0][0]\n",
      "100%|█████████████████████████████████████████████████████████████████████████████████████| 29/29 [00:00<00:00, 18138.21it/s]\n",
      "/home/vsridhar/.local/lib/python3.10/site-packages/deeplabcut/refine_training_dataset/stitch.py:690: UserWarning: No optimal solution found. Employing black magic...\n",
      "  warnings.warn(\"No optimal solution found. Employing black magic...\")\n",
      "/home/vsridhar/.local/lib/python3.10/site-packages/deeplabcut/refine_training_dataset/stitch.py:763: UserWarning: Only 29 tracks could be reconstructed.\n",
      "  warnings.warn(f\"Only {len(self.paths)} tracks could be reconstructed.\")\n",
      "/home/vsridhar/.local/lib/python3.10/site-packages/tensorflow/python/keras/engine/base_layer_v1.py:1694: UserWarning: `layer.apply` is deprecated and will be removed in a future version. Please use `layer.__call__` method instead.\n",
      "  warnings.warn('`layer.apply` is deprecated and '\n",
      "/home/vsridhar/.local/lib/python3.10/site-packages/tf_slim/layers/layers.py:684: UserWarning: `layer.apply` is deprecated and will be removed in a future version. Please use `layer.__call__` method instead.\n",
      "  outputs = layer.apply(inputs, training=is_training)\n"
     ]
    },
    {
     "name": "stdout",
     "output_type": "stream",
     "text": [
      "The videos are analyzed. Time to assemble animals and track 'em... \n",
      " Call 'create_video_with_all_detections' to check multi-animal detection quality before tracking.\n",
      "If the tracking is not satisfactory for some videos, consider expanding the training set. You can use the function 'extract_outlier_frames' to extract a few representative outlier frames.\n",
      "Using snapshot-50000 for model /home/vsridhar/DATA/DeepLabCut/projects/07_TerritoryDetectionP3-Vivek-2023-08-18/dlc-models/iteration-0/07_TerritoryDetectionP3Aug18-trainset90shuffle1\n",
      "Activating extracting of PAFs\n",
      "Analyzing all the videos in the directory...\n",
      "Starting to analyze %  /media/vsridhar/T7/Work/Data/BlackbuckAnnotations/P3/downsampled/SSD7/20230318/SM_Lek1/P3D6/20230318_SM_Lek1_P3D6_DJI_0050.MP4\n",
      "Loading  /media/vsridhar/T7/Work/Data/BlackbuckAnnotations/P3/downsampled/SSD7/20230318/SM_Lek1/P3D6/20230318_SM_Lek1_P3D6_DJI_0050.MP4\n",
      "Duration of video [s]:  85.15 , recorded with  29.97 fps!\n",
      "Overall # of frames:  2552  found with (before cropping) frame dimensions:  1824 1026\n",
      "Starting to extract posture from the video(s) with batchsize: 8\n"
     ]
    },
    {
     "name": "stderr",
     "output_type": "stream",
     "text": [
      "100%|████████████████████████████████████████████████████████████████████████████████████| 2552/2552 [01:59<00:00, 21.36it/s]\n"
     ]
    },
    {
     "name": "stdout",
     "output_type": "stream",
     "text": [
      "Video Analyzed. Saving results in /home/vsridhar/DATA/DeepLabCut/projects/07_TerritoryDetectionP3-Vivek-2023-08-18/output/SSD7/20230318/SM_Lek1/P3D6...\n",
      "Using snapshot-50000 for model /home/vsridhar/DATA/DeepLabCut/projects/07_TerritoryDetectionP3-Vivek-2023-08-18/dlc-models/iteration-0/07_TerritoryDetectionP3Aug18-trainset90shuffle1\n",
      "Processing...  /media/vsridhar/T7/Work/Data/BlackbuckAnnotations/P3/downsampled/SSD7/20230318/SM_Lek1/P3D6/20230318_SM_Lek1_P3D6_DJI_0050.MP4\n",
      "Analyzing /home/vsridhar/DATA/DeepLabCut/projects/07_TerritoryDetectionP3-Vivek-2023-08-18/output/SSD7/20230318/SM_Lek1/P3D6/20230318_SM_Lek1_P3D6_DJI_0050DLC_dlcrnetms5_07_TerritoryDetectionP3Aug18shuffle1_50000.h5\n"
     ]
    },
    {
     "name": "stderr",
     "output_type": "stream",
     "text": [
      "100%|███████████████████████████████████████████████████████████████████████████████████| 2552/2552 [00:03<00:00, 776.40it/s]\n",
      "2552it [00:06, 386.26it/s]\n"
     ]
    },
    {
     "name": "stdout",
     "output_type": "stream",
     "text": [
      "The tracklets were created (i.e., under the hood deeplabcut.convert_detections2tracklets was run). Now you can 'refine_tracklets' in the GUI, or run 'deeplabcut.stitch_tracklets'.\n",
      "Processing...  /media/vsridhar/T7/Work/Data/BlackbuckAnnotations/P3/downsampled/SSD7/20230318/SM_Lek1/P3D6/20230318_SM_Lek1_P3D6_DJI_0050.MP4\n"
     ]
    },
    {
     "name": "stderr",
     "output_type": "stream",
     "text": [
      "/home/vsridhar/.local/lib/python3.10/site-packages/deeplabcut/refine_training_dataset/stitch.py:138: FutureWarning: Unlike other reduction functions (e.g. `skew`, `kurtosis`), the default behavior of `mode` typically preserves the axis it acts along. In SciPy 1.11.0, this behavior will change: the default value of `keepdims` will become False, the `axis` over which the statistic is taken will be eliminated, and the value None will no longer be accepted. Set `keepdims` to True or False to avoid this warning.\n",
      "  return mode(self.data[..., 3], axis=None, nan_policy=\"omit\")[0][0]\n",
      "100%|████████████████████████████████████████████████████████████████████████████████████| 24/24 [00:00<00:00, 182361.04it/s]\n",
      "/home/vsridhar/.local/lib/python3.10/site-packages/deeplabcut/refine_training_dataset/stitch.py:690: UserWarning: No optimal solution found. Employing black magic...\n",
      "  warnings.warn(\"No optimal solution found. Employing black magic...\")\n",
      "/home/vsridhar/.local/lib/python3.10/site-packages/deeplabcut/refine_training_dataset/stitch.py:763: UserWarning: Only 24 tracks could be reconstructed.\n",
      "  warnings.warn(f\"Only {len(self.paths)} tracks could be reconstructed.\")\n"
     ]
    },
    {
     "name": "stdout",
     "output_type": "stream",
     "text": [
      "Starting to analyze %  /media/vsridhar/T7/Work/Data/BlackbuckAnnotations/P3/downsampled/SSD7/20230318/SM_Lek1/P3D6/20230318_SM_Lek1_P3D6_DJI_0044.MP4\n",
      "Loading  /media/vsridhar/T7/Work/Data/BlackbuckAnnotations/P3/downsampled/SSD7/20230318/SM_Lek1/P3D6/20230318_SM_Lek1_P3D6_DJI_0044.MP4\n",
      "Duration of video [s]:  169.74 , recorded with  29.97 fps!\n",
      "Overall # of frames:  5087  found with (before cropping) frame dimensions:  1824 1026\n",
      "Starting to extract posture from the video(s) with batchsize: 8\n"
     ]
    },
    {
     "name": "stderr",
     "output_type": "stream",
     "text": [
      "100%|████████████████████████████████████████████████████████████████████████████████████| 5087/5087 [03:57<00:00, 21.46it/s]\n"
     ]
    },
    {
     "name": "stdout",
     "output_type": "stream",
     "text": [
      "Video Analyzed. Saving results in /home/vsridhar/DATA/DeepLabCut/projects/07_TerritoryDetectionP3-Vivek-2023-08-18/output/SSD7/20230318/SM_Lek1/P3D6...\n",
      "Using snapshot-50000 for model /home/vsridhar/DATA/DeepLabCut/projects/07_TerritoryDetectionP3-Vivek-2023-08-18/dlc-models/iteration-0/07_TerritoryDetectionP3Aug18-trainset90shuffle1\n",
      "Processing...  /media/vsridhar/T7/Work/Data/BlackbuckAnnotations/P3/downsampled/SSD7/20230318/SM_Lek1/P3D6/20230318_SM_Lek1_P3D6_DJI_0044.MP4\n",
      "Analyzing /home/vsridhar/DATA/DeepLabCut/projects/07_TerritoryDetectionP3-Vivek-2023-08-18/output/SSD7/20230318/SM_Lek1/P3D6/20230318_SM_Lek1_P3D6_DJI_0044DLC_dlcrnetms5_07_TerritoryDetectionP3Aug18shuffle1_50000.h5\n"
     ]
    },
    {
     "name": "stderr",
     "output_type": "stream",
     "text": [
      "100%|███████████████████████████████████████████████████████████████████████████████████| 5087/5087 [00:06<00:00, 775.74it/s]\n",
      "5087it [00:12, 411.35it/s]\n"
     ]
    },
    {
     "name": "stdout",
     "output_type": "stream",
     "text": [
      "The tracklets were created (i.e., under the hood deeplabcut.convert_detections2tracklets was run). Now you can 'refine_tracklets' in the GUI, or run 'deeplabcut.stitch_tracklets'.\n",
      "Processing...  /media/vsridhar/T7/Work/Data/BlackbuckAnnotations/P3/downsampled/SSD7/20230318/SM_Lek1/P3D6/20230318_SM_Lek1_P3D6_DJI_0044.MP4\n"
     ]
    },
    {
     "name": "stderr",
     "output_type": "stream",
     "text": [
      "/home/vsridhar/.local/lib/python3.10/site-packages/deeplabcut/refine_training_dataset/stitch.py:138: FutureWarning: Unlike other reduction functions (e.g. `skew`, `kurtosis`), the default behavior of `mode` typically preserves the axis it acts along. In SciPy 1.11.0, this behavior will change: the default value of `keepdims` will become False, the `axis` over which the statistic is taken will be eliminated, and the value None will no longer be accepted. Set `keepdims` to True or False to avoid this warning.\n",
      "  return mode(self.data[..., 3], axis=None, nan_policy=\"omit\")[0][0]\n",
      "100%|████████████████████████████████████████████████████████████████████████████████████| 23/23 [00:00<00:00, 144198.79it/s]\n",
      "/home/vsridhar/.local/lib/python3.10/site-packages/deeplabcut/refine_training_dataset/stitch.py:690: UserWarning: No optimal solution found. Employing black magic...\n",
      "  warnings.warn(\"No optimal solution found. Employing black magic...\")\n",
      "/home/vsridhar/.local/lib/python3.10/site-packages/deeplabcut/refine_training_dataset/stitch.py:763: UserWarning: Only 23 tracks could be reconstructed.\n",
      "  warnings.warn(f\"Only {len(self.paths)} tracks could be reconstructed.\")\n"
     ]
    },
    {
     "name": "stdout",
     "output_type": "stream",
     "text": [
      "Starting to analyze %  /media/vsridhar/T7/Work/Data/BlackbuckAnnotations/P3/downsampled/SSD7/20230318/SM_Lek1/P3D6/20230318_SM_Lek1_P3D6_DJI_0055.MP4\n",
      "Loading  /media/vsridhar/T7/Work/Data/BlackbuckAnnotations/P3/downsampled/SSD7/20230318/SM_Lek1/P3D6/20230318_SM_Lek1_P3D6_DJI_0055.MP4\n",
      "Duration of video [s]:  123.49 , recorded with  29.97 fps!\n",
      "Overall # of frames:  3701  found with (before cropping) frame dimensions:  1824 1026\n",
      "Starting to extract posture from the video(s) with batchsize: 8\n"
     ]
    },
    {
     "name": "stderr",
     "output_type": "stream",
     "text": [
      "100%|████████████████████████████████████████████████████████████████████████████████████| 3701/3701 [02:52<00:00, 21.41it/s]\n"
     ]
    },
    {
     "name": "stdout",
     "output_type": "stream",
     "text": [
      "Video Analyzed. Saving results in /home/vsridhar/DATA/DeepLabCut/projects/07_TerritoryDetectionP3-Vivek-2023-08-18/output/SSD7/20230318/SM_Lek1/P3D6...\n",
      "Using snapshot-50000 for model /home/vsridhar/DATA/DeepLabCut/projects/07_TerritoryDetectionP3-Vivek-2023-08-18/dlc-models/iteration-0/07_TerritoryDetectionP3Aug18-trainset90shuffle1\n",
      "Processing...  /media/vsridhar/T7/Work/Data/BlackbuckAnnotations/P3/downsampled/SSD7/20230318/SM_Lek1/P3D6/20230318_SM_Lek1_P3D6_DJI_0055.MP4\n",
      "Analyzing /home/vsridhar/DATA/DeepLabCut/projects/07_TerritoryDetectionP3-Vivek-2023-08-18/output/SSD7/20230318/SM_Lek1/P3D6/20230318_SM_Lek1_P3D6_DJI_0055DLC_dlcrnetms5_07_TerritoryDetectionP3Aug18shuffle1_50000.h5\n"
     ]
    },
    {
     "name": "stderr",
     "output_type": "stream",
     "text": [
      "100%|███████████████████████████████████████████████████████████████████████████████████| 3701/3701 [00:04<00:00, 754.47it/s]\n",
      "3701it [00:09, 404.07it/s]\n"
     ]
    },
    {
     "name": "stdout",
     "output_type": "stream",
     "text": [
      "The tracklets were created (i.e., under the hood deeplabcut.convert_detections2tracklets was run). Now you can 'refine_tracklets' in the GUI, or run 'deeplabcut.stitch_tracklets'.\n",
      "Processing...  /media/vsridhar/T7/Work/Data/BlackbuckAnnotations/P3/downsampled/SSD7/20230318/SM_Lek1/P3D6/20230318_SM_Lek1_P3D6_DJI_0055.MP4\n"
     ]
    },
    {
     "name": "stderr",
     "output_type": "stream",
     "text": [
      "/home/vsridhar/.local/lib/python3.10/site-packages/deeplabcut/refine_training_dataset/stitch.py:138: FutureWarning: Unlike other reduction functions (e.g. `skew`, `kurtosis`), the default behavior of `mode` typically preserves the axis it acts along. In SciPy 1.11.0, this behavior will change: the default value of `keepdims` will become False, the `axis` over which the statistic is taken will be eliminated, and the value None will no longer be accepted. Set `keepdims` to True or False to avoid this warning.\n",
      "  return mode(self.data[..., 3], axis=None, nan_policy=\"omit\")[0][0]\n",
      "100%|████████████████████████████████████████████████████████████████████████████████████| 23/23 [00:00<00:00, 246094.37it/s]\n",
      "/home/vsridhar/.local/lib/python3.10/site-packages/deeplabcut/refine_training_dataset/stitch.py:690: UserWarning: No optimal solution found. Employing black magic...\n",
      "  warnings.warn(\"No optimal solution found. Employing black magic...\")\n",
      "/home/vsridhar/.local/lib/python3.10/site-packages/deeplabcut/refine_training_dataset/stitch.py:763: UserWarning: Only 23 tracks could be reconstructed.\n",
      "  warnings.warn(f\"Only {len(self.paths)} tracks could be reconstructed.\")\n"
     ]
    },
    {
     "name": "stdout",
     "output_type": "stream",
     "text": [
      "Starting to analyze %  /media/vsridhar/T7/Work/Data/BlackbuckAnnotations/P3/downsampled/SSD7/20230318/SM_Lek1/P3D6/20230318_SM_Lek1_P3D6_DJI_0046.MP4\n",
      "Loading  /media/vsridhar/T7/Work/Data/BlackbuckAnnotations/P3/downsampled/SSD7/20230318/SM_Lek1/P3D6/20230318_SM_Lek1_P3D6_DJI_0046.MP4\n",
      "Duration of video [s]:  193.99 , recorded with  29.97 fps!\n",
      "Overall # of frames:  5814  found with (before cropping) frame dimensions:  1824 1026\n",
      "Starting to extract posture from the video(s) with batchsize: 8\n"
     ]
    },
    {
     "name": "stderr",
     "output_type": "stream",
     "text": [
      "100%|████████████████████████████████████████████████████████████████████████████████████| 5814/5814 [04:32<00:00, 21.36it/s]\n"
     ]
    },
    {
     "name": "stdout",
     "output_type": "stream",
     "text": [
      "Video Analyzed. Saving results in /home/vsridhar/DATA/DeepLabCut/projects/07_TerritoryDetectionP3-Vivek-2023-08-18/output/SSD7/20230318/SM_Lek1/P3D6...\n",
      "Using snapshot-50000 for model /home/vsridhar/DATA/DeepLabCut/projects/07_TerritoryDetectionP3-Vivek-2023-08-18/dlc-models/iteration-0/07_TerritoryDetectionP3Aug18-trainset90shuffle1\n",
      "Processing...  /media/vsridhar/T7/Work/Data/BlackbuckAnnotations/P3/downsampled/SSD7/20230318/SM_Lek1/P3D6/20230318_SM_Lek1_P3D6_DJI_0046.MP4\n",
      "Analyzing /home/vsridhar/DATA/DeepLabCut/projects/07_TerritoryDetectionP3-Vivek-2023-08-18/output/SSD7/20230318/SM_Lek1/P3D6/20230318_SM_Lek1_P3D6_DJI_0046DLC_dlcrnetms5_07_TerritoryDetectionP3Aug18shuffle1_50000.h5\n"
     ]
    },
    {
     "name": "stderr",
     "output_type": "stream",
     "text": [
      "100%|███████████████████████████████████████████████████████████████████████████████████| 5814/5814 [00:07<00:00, 755.69it/s]\n",
      "5814it [00:14, 396.98it/s]\n"
     ]
    },
    {
     "name": "stdout",
     "output_type": "stream",
     "text": [
      "The tracklets were created (i.e., under the hood deeplabcut.convert_detections2tracklets was run). Now you can 'refine_tracklets' in the GUI, or run 'deeplabcut.stitch_tracklets'.\n",
      "Processing...  /media/vsridhar/T7/Work/Data/BlackbuckAnnotations/P3/downsampled/SSD7/20230318/SM_Lek1/P3D6/20230318_SM_Lek1_P3D6_DJI_0046.MP4\n"
     ]
    },
    {
     "name": "stderr",
     "output_type": "stream",
     "text": [
      "/home/vsridhar/.local/lib/python3.10/site-packages/deeplabcut/refine_training_dataset/stitch.py:138: FutureWarning: Unlike other reduction functions (e.g. `skew`, `kurtosis`), the default behavior of `mode` typically preserves the axis it acts along. In SciPy 1.11.0, this behavior will change: the default value of `keepdims` will become False, the `axis` over which the statistic is taken will be eliminated, and the value None will no longer be accepted. Set `keepdims` to True or False to avoid this warning.\n",
      "  return mode(self.data[..., 3], axis=None, nan_policy=\"omit\")[0][0]\n",
      "100%|████████████████████████████████████████████████████████████████████████████████████| 23/23 [00:00<00:00, 153613.04it/s]\n",
      "/home/vsridhar/.local/lib/python3.10/site-packages/deeplabcut/refine_training_dataset/stitch.py:690: UserWarning: No optimal solution found. Employing black magic...\n",
      "  warnings.warn(\"No optimal solution found. Employing black magic...\")\n",
      "/home/vsridhar/.local/lib/python3.10/site-packages/deeplabcut/refine_training_dataset/stitch.py:763: UserWarning: Only 23 tracks could be reconstructed.\n",
      "  warnings.warn(f\"Only {len(self.paths)} tracks could be reconstructed.\")\n"
     ]
    },
    {
     "name": "stdout",
     "output_type": "stream",
     "text": [
      "Starting to analyze %  /media/vsridhar/T7/Work/Data/BlackbuckAnnotations/P3/downsampled/SSD7/20230318/SM_Lek1/P3D6/20230318_SM_Lek1_P3D6_DJI_0043.MP4\n",
      "Loading  /media/vsridhar/T7/Work/Data/BlackbuckAnnotations/P3/downsampled/SSD7/20230318/SM_Lek1/P3D6/20230318_SM_Lek1_P3D6_DJI_0043.MP4\n",
      "Duration of video [s]:  193.99 , recorded with  29.97 fps!\n",
      "Overall # of frames:  5814  found with (before cropping) frame dimensions:  1824 1026\n",
      "Starting to extract posture from the video(s) with batchsize: 8\n"
     ]
    },
    {
     "name": "stderr",
     "output_type": "stream",
     "text": [
      "100%|████████████████████████████████████████████████████████████████████████████████████| 5814/5814 [04:32<00:00, 21.33it/s]\n"
     ]
    },
    {
     "name": "stdout",
     "output_type": "stream",
     "text": [
      "Video Analyzed. Saving results in /home/vsridhar/DATA/DeepLabCut/projects/07_TerritoryDetectionP3-Vivek-2023-08-18/output/SSD7/20230318/SM_Lek1/P3D6...\n",
      "Using snapshot-50000 for model /home/vsridhar/DATA/DeepLabCut/projects/07_TerritoryDetectionP3-Vivek-2023-08-18/dlc-models/iteration-0/07_TerritoryDetectionP3Aug18-trainset90shuffle1\n",
      "Processing...  /media/vsridhar/T7/Work/Data/BlackbuckAnnotations/P3/downsampled/SSD7/20230318/SM_Lek1/P3D6/20230318_SM_Lek1_P3D6_DJI_0043.MP4\n",
      "Analyzing /home/vsridhar/DATA/DeepLabCut/projects/07_TerritoryDetectionP3-Vivek-2023-08-18/output/SSD7/20230318/SM_Lek1/P3D6/20230318_SM_Lek1_P3D6_DJI_0043DLC_dlcrnetms5_07_TerritoryDetectionP3Aug18shuffle1_50000.h5\n"
     ]
    },
    {
     "name": "stderr",
     "output_type": "stream",
     "text": [
      "100%|███████████████████████████████████████████████████████████████████████████████████| 5814/5814 [00:07<00:00, 784.04it/s]\n",
      "5814it [00:14, 413.67it/s]\n"
     ]
    },
    {
     "name": "stdout",
     "output_type": "stream",
     "text": [
      "The tracklets were created (i.e., under the hood deeplabcut.convert_detections2tracklets was run). Now you can 'refine_tracklets' in the GUI, or run 'deeplabcut.stitch_tracklets'.\n",
      "Processing...  /media/vsridhar/T7/Work/Data/BlackbuckAnnotations/P3/downsampled/SSD7/20230318/SM_Lek1/P3D6/20230318_SM_Lek1_P3D6_DJI_0043.MP4\n"
     ]
    },
    {
     "name": "stderr",
     "output_type": "stream",
     "text": [
      "/home/vsridhar/.local/lib/python3.10/site-packages/deeplabcut/refine_training_dataset/stitch.py:138: FutureWarning: Unlike other reduction functions (e.g. `skew`, `kurtosis`), the default behavior of `mode` typically preserves the axis it acts along. In SciPy 1.11.0, this behavior will change: the default value of `keepdims` will become False, the `axis` over which the statistic is taken will be eliminated, and the value None will no longer be accepted. Set `keepdims` to True or False to avoid this warning.\n",
      "  return mode(self.data[..., 3], axis=None, nan_policy=\"omit\")[0][0]\n",
      "100%|██████████████████████████████████████████████████████████████████████████████████████| 37/37 [00:00<00:00, 9938.47it/s]\n",
      "/home/vsridhar/.local/lib/python3.10/site-packages/deeplabcut/refine_training_dataset/stitch.py:690: UserWarning: No optimal solution found. Employing black magic...\n",
      "  warnings.warn(\"No optimal solution found. Employing black magic...\")\n",
      "/home/vsridhar/.local/lib/python3.10/site-packages/deeplabcut/refine_training_dataset/stitch.py:763: UserWarning: Only 37 tracks could be reconstructed.\n",
      "  warnings.warn(f\"Only {len(self.paths)} tracks could be reconstructed.\")\n"
     ]
    },
    {
     "name": "stdout",
     "output_type": "stream",
     "text": [
      "Starting to analyze %  /media/vsridhar/T7/Work/Data/BlackbuckAnnotations/P3/downsampled/SSD7/20230318/SM_Lek1/P3D6/20230318_SM_Lek1_P3D6_DJI_0047.MP4\n",
      "Loading  /media/vsridhar/T7/Work/Data/BlackbuckAnnotations/P3/downsampled/SSD7/20230318/SM_Lek1/P3D6/20230318_SM_Lek1_P3D6_DJI_0047.MP4\n",
      "Duration of video [s]:  193.99 , recorded with  29.97 fps!\n",
      "Overall # of frames:  5814  found with (before cropping) frame dimensions:  1824 1026\n",
      "Starting to extract posture from the video(s) with batchsize: 8\n"
     ]
    },
    {
     "name": "stderr",
     "output_type": "stream",
     "text": [
      "100%|████████████████████████████████████████████████████████████████████████████████████| 5814/5814 [04:31<00:00, 21.44it/s]\n"
     ]
    },
    {
     "name": "stdout",
     "output_type": "stream",
     "text": [
      "Video Analyzed. Saving results in /home/vsridhar/DATA/DeepLabCut/projects/07_TerritoryDetectionP3-Vivek-2023-08-18/output/SSD7/20230318/SM_Lek1/P3D6...\n",
      "Using snapshot-50000 for model /home/vsridhar/DATA/DeepLabCut/projects/07_TerritoryDetectionP3-Vivek-2023-08-18/dlc-models/iteration-0/07_TerritoryDetectionP3Aug18-trainset90shuffle1\n",
      "Processing...  /media/vsridhar/T7/Work/Data/BlackbuckAnnotations/P3/downsampled/SSD7/20230318/SM_Lek1/P3D6/20230318_SM_Lek1_P3D6_DJI_0047.MP4\n",
      "Analyzing /home/vsridhar/DATA/DeepLabCut/projects/07_TerritoryDetectionP3-Vivek-2023-08-18/output/SSD7/20230318/SM_Lek1/P3D6/20230318_SM_Lek1_P3D6_DJI_0047DLC_dlcrnetms5_07_TerritoryDetectionP3Aug18shuffle1_50000.h5\n"
     ]
    },
    {
     "name": "stderr",
     "output_type": "stream",
     "text": [
      "100%|███████████████████████████████████████████████████████████████████████████████████| 5814/5814 [00:07<00:00, 781.47it/s]\n",
      "5814it [00:14, 407.86it/s]\n"
     ]
    },
    {
     "name": "stdout",
     "output_type": "stream",
     "text": [
      "The tracklets were created (i.e., under the hood deeplabcut.convert_detections2tracklets was run). Now you can 'refine_tracklets' in the GUI, or run 'deeplabcut.stitch_tracklets'.\n",
      "Processing...  /media/vsridhar/T7/Work/Data/BlackbuckAnnotations/P3/downsampled/SSD7/20230318/SM_Lek1/P3D6/20230318_SM_Lek1_P3D6_DJI_0047.MP4\n"
     ]
    },
    {
     "name": "stderr",
     "output_type": "stream",
     "text": [
      "/home/vsridhar/.local/lib/python3.10/site-packages/deeplabcut/refine_training_dataset/stitch.py:138: FutureWarning: Unlike other reduction functions (e.g. `skew`, `kurtosis`), the default behavior of `mode` typically preserves the axis it acts along. In SciPy 1.11.0, this behavior will change: the default value of `keepdims` will become False, the `axis` over which the statistic is taken will be eliminated, and the value None will no longer be accepted. Set `keepdims` to True or False to avoid this warning.\n",
      "  return mode(self.data[..., 3], axis=None, nan_policy=\"omit\")[0][0]\n",
      "100%|████████████████████████████████████████████████████████████████████████████████████| 24/24 [00:00<00:00, 179435.47it/s]\n",
      "/home/vsridhar/.local/lib/python3.10/site-packages/deeplabcut/refine_training_dataset/stitch.py:690: UserWarning: No optimal solution found. Employing black magic...\n",
      "  warnings.warn(\"No optimal solution found. Employing black magic...\")\n",
      "/home/vsridhar/.local/lib/python3.10/site-packages/deeplabcut/refine_training_dataset/stitch.py:763: UserWarning: Only 24 tracks could be reconstructed.\n",
      "  warnings.warn(f\"Only {len(self.paths)} tracks could be reconstructed.\")\n"
     ]
    },
    {
     "name": "stdout",
     "output_type": "stream",
     "text": [
      "Starting to analyze %  /media/vsridhar/T7/Work/Data/BlackbuckAnnotations/P3/downsampled/SSD7/20230318/SM_Lek1/P3D6/20230318_SM_Lek1_P3D6_DJI_0041.MP4\n",
      "Loading  /media/vsridhar/T7/Work/Data/BlackbuckAnnotations/P3/downsampled/SSD7/20230318/SM_Lek1/P3D6/20230318_SM_Lek1_P3D6_DJI_0041.MP4\n",
      "Duration of video [s]:  193.99 , recorded with  29.97 fps!\n",
      "Overall # of frames:  5814  found with (before cropping) frame dimensions:  1824 1026\n",
      "Starting to extract posture from the video(s) with batchsize: 8\n"
     ]
    },
    {
     "name": "stderr",
     "output_type": "stream",
     "text": [
      "100%|████████████████████████████████████████████████████████████████████████████████████| 5814/5814 [04:30<00:00, 21.48it/s]\n"
     ]
    },
    {
     "name": "stdout",
     "output_type": "stream",
     "text": [
      "Video Analyzed. Saving results in /home/vsridhar/DATA/DeepLabCut/projects/07_TerritoryDetectionP3-Vivek-2023-08-18/output/SSD7/20230318/SM_Lek1/P3D6...\n",
      "Using snapshot-50000 for model /home/vsridhar/DATA/DeepLabCut/projects/07_TerritoryDetectionP3-Vivek-2023-08-18/dlc-models/iteration-0/07_TerritoryDetectionP3Aug18-trainset90shuffle1\n",
      "Processing...  /media/vsridhar/T7/Work/Data/BlackbuckAnnotations/P3/downsampled/SSD7/20230318/SM_Lek1/P3D6/20230318_SM_Lek1_P3D6_DJI_0041.MP4\n",
      "Analyzing /home/vsridhar/DATA/DeepLabCut/projects/07_TerritoryDetectionP3-Vivek-2023-08-18/output/SSD7/20230318/SM_Lek1/P3D6/20230318_SM_Lek1_P3D6_DJI_0041DLC_dlcrnetms5_07_TerritoryDetectionP3Aug18shuffle1_50000.h5\n"
     ]
    },
    {
     "name": "stderr",
     "output_type": "stream",
     "text": [
      "100%|███████████████████████████████████████████████████████████████████████████████████| 5814/5814 [00:07<00:00, 751.86it/s]\n",
      "5814it [00:14, 414.06it/s]\n"
     ]
    },
    {
     "name": "stdout",
     "output_type": "stream",
     "text": [
      "The tracklets were created (i.e., under the hood deeplabcut.convert_detections2tracklets was run). Now you can 'refine_tracklets' in the GUI, or run 'deeplabcut.stitch_tracklets'.\n",
      "Processing...  /media/vsridhar/T7/Work/Data/BlackbuckAnnotations/P3/downsampled/SSD7/20230318/SM_Lek1/P3D6/20230318_SM_Lek1_P3D6_DJI_0041.MP4\n"
     ]
    },
    {
     "name": "stderr",
     "output_type": "stream",
     "text": [
      "/home/vsridhar/.local/lib/python3.10/site-packages/deeplabcut/refine_training_dataset/stitch.py:138: FutureWarning: Unlike other reduction functions (e.g. `skew`, `kurtosis`), the default behavior of `mode` typically preserves the axis it acts along. In SciPy 1.11.0, this behavior will change: the default value of `keepdims` will become False, the `axis` over which the statistic is taken will be eliminated, and the value None will no longer be accepted. Set `keepdims` to True or False to avoid this warning.\n",
      "  return mode(self.data[..., 3], axis=None, nan_policy=\"omit\")[0][0]\n",
      "100%|█████████████████████████████████████████████████████████████████████████████████████| 41/41 [00:00<00:00, 12010.51it/s]\n",
      "/home/vsridhar/.local/lib/python3.10/site-packages/deeplabcut/refine_training_dataset/stitch.py:690: UserWarning: No optimal solution found. Employing black magic...\n",
      "  warnings.warn(\"No optimal solution found. Employing black magic...\")\n",
      "/home/vsridhar/.local/lib/python3.10/site-packages/deeplabcut/refine_training_dataset/stitch.py:763: UserWarning: Only 41 tracks could be reconstructed.\n",
      "  warnings.warn(f\"Only {len(self.paths)} tracks could be reconstructed.\")\n"
     ]
    },
    {
     "name": "stdout",
     "output_type": "stream",
     "text": [
      "Starting to analyze %  /media/vsridhar/T7/Work/Data/BlackbuckAnnotations/P3/downsampled/SSD7/20230318/SM_Lek1/P3D6/20230318_SM_Lek1_P3D6_DJI_0051.MP4\n",
      "Loading  /media/vsridhar/T7/Work/Data/BlackbuckAnnotations/P3/downsampled/SSD7/20230318/SM_Lek1/P3D6/20230318_SM_Lek1_P3D6_DJI_0051.MP4\n",
      "Duration of video [s]:  193.59 , recorded with  29.97 fps!\n",
      "Overall # of frames:  5802  found with (before cropping) frame dimensions:  1824 1026\n",
      "Starting to extract posture from the video(s) with batchsize: 8\n"
     ]
    },
    {
     "name": "stderr",
     "output_type": "stream",
     "text": [
      "100%|████████████████████████████████████████████████████████████████████████████████████| 5802/5802 [04:33<00:00, 21.23it/s]\n"
     ]
    },
    {
     "name": "stdout",
     "output_type": "stream",
     "text": [
      "Video Analyzed. Saving results in /home/vsridhar/DATA/DeepLabCut/projects/07_TerritoryDetectionP3-Vivek-2023-08-18/output/SSD7/20230318/SM_Lek1/P3D6...\n",
      "Using snapshot-50000 for model /home/vsridhar/DATA/DeepLabCut/projects/07_TerritoryDetectionP3-Vivek-2023-08-18/dlc-models/iteration-0/07_TerritoryDetectionP3Aug18-trainset90shuffle1\n",
      "Processing...  /media/vsridhar/T7/Work/Data/BlackbuckAnnotations/P3/downsampled/SSD7/20230318/SM_Lek1/P3D6/20230318_SM_Lek1_P3D6_DJI_0051.MP4\n",
      "Analyzing /home/vsridhar/DATA/DeepLabCut/projects/07_TerritoryDetectionP3-Vivek-2023-08-18/output/SSD7/20230318/SM_Lek1/P3D6/20230318_SM_Lek1_P3D6_DJI_0051DLC_dlcrnetms5_07_TerritoryDetectionP3Aug18shuffle1_50000.h5\n"
     ]
    },
    {
     "name": "stderr",
     "output_type": "stream",
     "text": [
      "100%|███████████████████████████████████████████████████████████████████████████████████| 5802/5802 [00:08<00:00, 709.33it/s]\n",
      "5802it [00:15, 368.40it/s]\n"
     ]
    },
    {
     "name": "stdout",
     "output_type": "stream",
     "text": [
      "The tracklets were created (i.e., under the hood deeplabcut.convert_detections2tracklets was run). Now you can 'refine_tracklets' in the GUI, or run 'deeplabcut.stitch_tracklets'.\n",
      "Processing...  /media/vsridhar/T7/Work/Data/BlackbuckAnnotations/P3/downsampled/SSD7/20230318/SM_Lek1/P3D6/20230318_SM_Lek1_P3D6_DJI_0051.MP4\n"
     ]
    },
    {
     "name": "stderr",
     "output_type": "stream",
     "text": [
      "/home/vsridhar/.local/lib/python3.10/site-packages/deeplabcut/refine_training_dataset/stitch.py:138: FutureWarning: Unlike other reduction functions (e.g. `skew`, `kurtosis`), the default behavior of `mode` typically preserves the axis it acts along. In SciPy 1.11.0, this behavior will change: the default value of `keepdims` will become False, the `axis` over which the statistic is taken will be eliminated, and the value None will no longer be accepted. Set `keepdims` to True or False to avoid this warning.\n",
      "  return mode(self.data[..., 3], axis=None, nan_policy=\"omit\")[0][0]\n",
      "100%|██████████████████████████████████████████████████████████████████████████████████████| 70/70 [00:00<00:00, 2705.75it/s]\n"
     ]
    },
    {
     "name": "stdout",
     "output_type": "stream",
     "text": [
      "Starting to analyze %  /media/vsridhar/T7/Work/Data/BlackbuckAnnotations/P3/downsampled/SSD7/20230318/SM_Lek1/P3D6/20230318_SM_Lek1_P3D6_DJI_0040.MP4\n",
      "Loading  /media/vsridhar/T7/Work/Data/BlackbuckAnnotations/P3/downsampled/SSD7/20230318/SM_Lek1/P3D6/20230318_SM_Lek1_P3D6_DJI_0040.MP4\n",
      "Duration of video [s]:  194.03 , recorded with  29.97 fps!\n",
      "Overall # of frames:  5815  found with (before cropping) frame dimensions:  1824 1026\n",
      "Starting to extract posture from the video(s) with batchsize: 8\n"
     ]
    },
    {
     "name": "stderr",
     "output_type": "stream",
     "text": [
      "100%|████████████████████████████████████████████████████████████████████████████████████| 5815/5815 [04:32<00:00, 21.38it/s]\n"
     ]
    },
    {
     "name": "stdout",
     "output_type": "stream",
     "text": [
      "Video Analyzed. Saving results in /home/vsridhar/DATA/DeepLabCut/projects/07_TerritoryDetectionP3-Vivek-2023-08-18/output/SSD7/20230318/SM_Lek1/P3D6...\n",
      "Using snapshot-50000 for model /home/vsridhar/DATA/DeepLabCut/projects/07_TerritoryDetectionP3-Vivek-2023-08-18/dlc-models/iteration-0/07_TerritoryDetectionP3Aug18-trainset90shuffle1\n",
      "Processing...  /media/vsridhar/T7/Work/Data/BlackbuckAnnotations/P3/downsampled/SSD7/20230318/SM_Lek1/P3D6/20230318_SM_Lek1_P3D6_DJI_0040.MP4\n",
      "Analyzing /home/vsridhar/DATA/DeepLabCut/projects/07_TerritoryDetectionP3-Vivek-2023-08-18/output/SSD7/20230318/SM_Lek1/P3D6/20230318_SM_Lek1_P3D6_DJI_0040DLC_dlcrnetms5_07_TerritoryDetectionP3Aug18shuffle1_50000.h5\n"
     ]
    },
    {
     "name": "stderr",
     "output_type": "stream",
     "text": [
      "100%|███████████████████████████████████████████████████████████████████████████████████| 5815/5815 [00:07<00:00, 772.99it/s]\n",
      "5815it [00:14, 397.25it/s]\n"
     ]
    },
    {
     "name": "stdout",
     "output_type": "stream",
     "text": [
      "The tracklets were created (i.e., under the hood deeplabcut.convert_detections2tracklets was run). Now you can 'refine_tracklets' in the GUI, or run 'deeplabcut.stitch_tracklets'.\n",
      "Processing...  /media/vsridhar/T7/Work/Data/BlackbuckAnnotations/P3/downsampled/SSD7/20230318/SM_Lek1/P3D6/20230318_SM_Lek1_P3D6_DJI_0040.MP4\n"
     ]
    },
    {
     "name": "stderr",
     "output_type": "stream",
     "text": [
      "/home/vsridhar/.local/lib/python3.10/site-packages/deeplabcut/refine_training_dataset/stitch.py:138: FutureWarning: Unlike other reduction functions (e.g. `skew`, `kurtosis`), the default behavior of `mode` typically preserves the axis it acts along. In SciPy 1.11.0, this behavior will change: the default value of `keepdims` will become False, the `axis` over which the statistic is taken will be eliminated, and the value None will no longer be accepted. Set `keepdims` to True or False to avoid this warning.\n",
      "  return mode(self.data[..., 3], axis=None, nan_policy=\"omit\")[0][0]\n",
      "100%|█████████████████████████████████████████████████████████████████████████████████████| 32/32 [00:00<00:00, 11628.64it/s]\n",
      "/home/vsridhar/.local/lib/python3.10/site-packages/deeplabcut/refine_training_dataset/stitch.py:690: UserWarning: No optimal solution found. Employing black magic...\n",
      "  warnings.warn(\"No optimal solution found. Employing black magic...\")\n",
      "/home/vsridhar/.local/lib/python3.10/site-packages/deeplabcut/refine_training_dataset/stitch.py:763: UserWarning: Only 32 tracks could be reconstructed.\n",
      "  warnings.warn(f\"Only {len(self.paths)} tracks could be reconstructed.\")\n"
     ]
    },
    {
     "name": "stdout",
     "output_type": "stream",
     "text": [
      "Starting to analyze %  /media/vsridhar/T7/Work/Data/BlackbuckAnnotations/P3/downsampled/SSD7/20230318/SM_Lek1/P3D6/20230318_SM_Lek1_P3D6_DJI_0053.MP4\n",
      "Loading  /media/vsridhar/T7/Work/Data/BlackbuckAnnotations/P3/downsampled/SSD7/20230318/SM_Lek1/P3D6/20230318_SM_Lek1_P3D6_DJI_0053.MP4\n",
      "Duration of video [s]:  194.03 , recorded with  29.97 fps!\n",
      "Overall # of frames:  5815  found with (before cropping) frame dimensions:  1824 1026\n",
      "Starting to extract posture from the video(s) with batchsize: 8\n"
     ]
    },
    {
     "name": "stderr",
     "output_type": "stream",
     "text": [
      "100%|████████████████████████████████████████████████████████████████████████████████████| 5815/5815 [04:32<00:00, 21.31it/s]\n"
     ]
    },
    {
     "name": "stdout",
     "output_type": "stream",
     "text": [
      "Video Analyzed. Saving results in /home/vsridhar/DATA/DeepLabCut/projects/07_TerritoryDetectionP3-Vivek-2023-08-18/output/SSD7/20230318/SM_Lek1/P3D6...\n",
      "Using snapshot-50000 for model /home/vsridhar/DATA/DeepLabCut/projects/07_TerritoryDetectionP3-Vivek-2023-08-18/dlc-models/iteration-0/07_TerritoryDetectionP3Aug18-trainset90shuffle1\n",
      "Processing...  /media/vsridhar/T7/Work/Data/BlackbuckAnnotations/P3/downsampled/SSD7/20230318/SM_Lek1/P3D6/20230318_SM_Lek1_P3D6_DJI_0053.MP4\n",
      "Analyzing /home/vsridhar/DATA/DeepLabCut/projects/07_TerritoryDetectionP3-Vivek-2023-08-18/output/SSD7/20230318/SM_Lek1/P3D6/20230318_SM_Lek1_P3D6_DJI_0053DLC_dlcrnetms5_07_TerritoryDetectionP3Aug18shuffle1_50000.h5\n"
     ]
    },
    {
     "name": "stderr",
     "output_type": "stream",
     "text": [
      "100%|███████████████████████████████████████████████████████████████████████████████████| 5815/5815 [00:07<00:00, 780.30it/s]\n",
      "5815it [00:14, 395.10it/s]\n"
     ]
    },
    {
     "name": "stdout",
     "output_type": "stream",
     "text": [
      "The tracklets were created (i.e., under the hood deeplabcut.convert_detections2tracklets was run). Now you can 'refine_tracklets' in the GUI, or run 'deeplabcut.stitch_tracklets'.\n",
      "Processing...  /media/vsridhar/T7/Work/Data/BlackbuckAnnotations/P3/downsampled/SSD7/20230318/SM_Lek1/P3D6/20230318_SM_Lek1_P3D6_DJI_0053.MP4\n"
     ]
    },
    {
     "name": "stderr",
     "output_type": "stream",
     "text": [
      "/home/vsridhar/.local/lib/python3.10/site-packages/deeplabcut/refine_training_dataset/stitch.py:138: FutureWarning: Unlike other reduction functions (e.g. `skew`, `kurtosis`), the default behavior of `mode` typically preserves the axis it acts along. In SciPy 1.11.0, this behavior will change: the default value of `keepdims` will become False, the `axis` over which the statistic is taken will be eliminated, and the value None will no longer be accepted. Set `keepdims` to True or False to avoid this warning.\n",
      "  return mode(self.data[..., 3], axis=None, nan_policy=\"omit\")[0][0]\n",
      "100%|█████████████████████████████████████████████████████████████████████████████████████| 26/26 [00:00<00:00, 14131.39it/s]\n",
      "/home/vsridhar/.local/lib/python3.10/site-packages/deeplabcut/refine_training_dataset/stitch.py:690: UserWarning: No optimal solution found. Employing black magic...\n",
      "  warnings.warn(\"No optimal solution found. Employing black magic...\")\n",
      "/home/vsridhar/.local/lib/python3.10/site-packages/deeplabcut/refine_training_dataset/stitch.py:763: UserWarning: Only 26 tracks could be reconstructed.\n",
      "  warnings.warn(f\"Only {len(self.paths)} tracks could be reconstructed.\")\n"
     ]
    },
    {
     "name": "stdout",
     "output_type": "stream",
     "text": [
      "Starting to analyze %  /media/vsridhar/T7/Work/Data/BlackbuckAnnotations/P3/downsampled/SSD7/20230318/SM_Lek1/P3D6/20230318_SM_Lek1_P3D6_DJI_0042.MP4\n",
      "Loading  /media/vsridhar/T7/Work/Data/BlackbuckAnnotations/P3/downsampled/SSD7/20230318/SM_Lek1/P3D6/20230318_SM_Lek1_P3D6_DJI_0042.MP4\n",
      "Duration of video [s]:  193.99 , recorded with  29.97 fps!\n",
      "Overall # of frames:  5814  found with (before cropping) frame dimensions:  1824 1026\n",
      "Starting to extract posture from the video(s) with batchsize: 8\n"
     ]
    },
    {
     "name": "stderr",
     "output_type": "stream",
     "text": [
      "100%|████████████████████████████████████████████████████████████████████████████████████| 5814/5814 [04:30<00:00, 21.52it/s]\n"
     ]
    },
    {
     "name": "stdout",
     "output_type": "stream",
     "text": [
      "Video Analyzed. Saving results in /home/vsridhar/DATA/DeepLabCut/projects/07_TerritoryDetectionP3-Vivek-2023-08-18/output/SSD7/20230318/SM_Lek1/P3D6...\n",
      "Using snapshot-50000 for model /home/vsridhar/DATA/DeepLabCut/projects/07_TerritoryDetectionP3-Vivek-2023-08-18/dlc-models/iteration-0/07_TerritoryDetectionP3Aug18-trainset90shuffle1\n",
      "Processing...  /media/vsridhar/T7/Work/Data/BlackbuckAnnotations/P3/downsampled/SSD7/20230318/SM_Lek1/P3D6/20230318_SM_Lek1_P3D6_DJI_0042.MP4\n",
      "Analyzing /home/vsridhar/DATA/DeepLabCut/projects/07_TerritoryDetectionP3-Vivek-2023-08-18/output/SSD7/20230318/SM_Lek1/P3D6/20230318_SM_Lek1_P3D6_DJI_0042DLC_dlcrnetms5_07_TerritoryDetectionP3Aug18shuffle1_50000.h5\n"
     ]
    },
    {
     "name": "stderr",
     "output_type": "stream",
     "text": [
      "100%|███████████████████████████████████████████████████████████████████████████████████| 5814/5814 [00:07<00:00, 787.44it/s]\n",
      "5814it [00:14, 413.38it/s]\n"
     ]
    },
    {
     "name": "stdout",
     "output_type": "stream",
     "text": [
      "The tracklets were created (i.e., under the hood deeplabcut.convert_detections2tracklets was run). Now you can 'refine_tracklets' in the GUI, or run 'deeplabcut.stitch_tracklets'.\n",
      "Processing...  /media/vsridhar/T7/Work/Data/BlackbuckAnnotations/P3/downsampled/SSD7/20230318/SM_Lek1/P3D6/20230318_SM_Lek1_P3D6_DJI_0042.MP4\n"
     ]
    },
    {
     "name": "stderr",
     "output_type": "stream",
     "text": [
      "/home/vsridhar/.local/lib/python3.10/site-packages/deeplabcut/refine_training_dataset/stitch.py:138: FutureWarning: Unlike other reduction functions (e.g. `skew`, `kurtosis`), the default behavior of `mode` typically preserves the axis it acts along. In SciPy 1.11.0, this behavior will change: the default value of `keepdims` will become False, the `axis` over which the statistic is taken will be eliminated, and the value None will no longer be accepted. Set `keepdims` to True or False to avoid this warning.\n",
      "  return mode(self.data[..., 3], axis=None, nan_policy=\"omit\")[0][0]\n",
      "100%|██████████████████████████████████████████████████████████████████████████████████████| 40/40 [00:00<00:00, 9469.02it/s]\n",
      "/home/vsridhar/.local/lib/python3.10/site-packages/deeplabcut/refine_training_dataset/stitch.py:690: UserWarning: No optimal solution found. Employing black magic...\n",
      "  warnings.warn(\"No optimal solution found. Employing black magic...\")\n",
      "/home/vsridhar/.local/lib/python3.10/site-packages/deeplabcut/refine_training_dataset/stitch.py:763: UserWarning: Only 40 tracks could be reconstructed.\n",
      "  warnings.warn(f\"Only {len(self.paths)} tracks could be reconstructed.\")\n"
     ]
    },
    {
     "name": "stdout",
     "output_type": "stream",
     "text": [
      "Starting to analyze %  /media/vsridhar/T7/Work/Data/BlackbuckAnnotations/P3/downsampled/SSD7/20230318/SM_Lek1/P3D6/20230318_SM_Lek1_P3D6_DJI_0054.MP4\n",
      "Loading  /media/vsridhar/T7/Work/Data/BlackbuckAnnotations/P3/downsampled/SSD7/20230318/SM_Lek1/P3D6/20230318_SM_Lek1_P3D6_DJI_0054.MP4\n",
      "Duration of video [s]:  193.96 , recorded with  29.97 fps!\n",
      "Overall # of frames:  5813  found with (before cropping) frame dimensions:  1824 1026\n",
      "Starting to extract posture from the video(s) with batchsize: 8\n"
     ]
    },
    {
     "name": "stderr",
     "output_type": "stream",
     "text": [
      "100%|████████████████████████████████████████████████████████████████████████████████████| 5813/5813 [04:32<00:00, 21.34it/s]\n"
     ]
    },
    {
     "name": "stdout",
     "output_type": "stream",
     "text": [
      "Video Analyzed. Saving results in /home/vsridhar/DATA/DeepLabCut/projects/07_TerritoryDetectionP3-Vivek-2023-08-18/output/SSD7/20230318/SM_Lek1/P3D6...\n",
      "Using snapshot-50000 for model /home/vsridhar/DATA/DeepLabCut/projects/07_TerritoryDetectionP3-Vivek-2023-08-18/dlc-models/iteration-0/07_TerritoryDetectionP3Aug18-trainset90shuffle1\n",
      "Processing...  /media/vsridhar/T7/Work/Data/BlackbuckAnnotations/P3/downsampled/SSD7/20230318/SM_Lek1/P3D6/20230318_SM_Lek1_P3D6_DJI_0054.MP4\n",
      "Analyzing /home/vsridhar/DATA/DeepLabCut/projects/07_TerritoryDetectionP3-Vivek-2023-08-18/output/SSD7/20230318/SM_Lek1/P3D6/20230318_SM_Lek1_P3D6_DJI_0054DLC_dlcrnetms5_07_TerritoryDetectionP3Aug18shuffle1_50000.h5\n"
     ]
    },
    {
     "name": "stderr",
     "output_type": "stream",
     "text": [
      "100%|███████████████████████████████████████████████████████████████████████████████████| 5813/5813 [00:07<00:00, 790.99it/s]\n",
      "5813it [00:13, 417.08it/s]\n"
     ]
    },
    {
     "name": "stdout",
     "output_type": "stream",
     "text": [
      "The tracklets were created (i.e., under the hood deeplabcut.convert_detections2tracklets was run). Now you can 'refine_tracklets' in the GUI, or run 'deeplabcut.stitch_tracklets'.\n",
      "Processing...  /media/vsridhar/T7/Work/Data/BlackbuckAnnotations/P3/downsampled/SSD7/20230318/SM_Lek1/P3D6/20230318_SM_Lek1_P3D6_DJI_0054.MP4\n"
     ]
    },
    {
     "name": "stderr",
     "output_type": "stream",
     "text": [
      "/home/vsridhar/.local/lib/python3.10/site-packages/deeplabcut/refine_training_dataset/stitch.py:138: FutureWarning: Unlike other reduction functions (e.g. `skew`, `kurtosis`), the default behavior of `mode` typically preserves the axis it acts along. In SciPy 1.11.0, this behavior will change: the default value of `keepdims` will become False, the `axis` over which the statistic is taken will be eliminated, and the value None will no longer be accepted. Set `keepdims` to True or False to avoid this warning.\n",
      "  return mode(self.data[..., 3], axis=None, nan_policy=\"omit\")[0][0]\n",
      "100%|██████████████████████████████████████████████████████████████████████████████████████| 26/26 [00:00<00:00, 9441.72it/s]\n",
      "/home/vsridhar/.local/lib/python3.10/site-packages/deeplabcut/refine_training_dataset/stitch.py:690: UserWarning: No optimal solution found. Employing black magic...\n",
      "  warnings.warn(\"No optimal solution found. Employing black magic...\")\n",
      "/home/vsridhar/.local/lib/python3.10/site-packages/deeplabcut/refine_training_dataset/stitch.py:763: UserWarning: Only 26 tracks could be reconstructed.\n",
      "  warnings.warn(f\"Only {len(self.paths)} tracks could be reconstructed.\")\n"
     ]
    },
    {
     "name": "stdout",
     "output_type": "stream",
     "text": [
      "Starting to analyze %  /media/vsridhar/T7/Work/Data/BlackbuckAnnotations/P3/downsampled/SSD7/20230318/SM_Lek1/P3D6/20230318_SM_Lek1_P3D6_DJI_0039.MP4\n",
      "Loading  /media/vsridhar/T7/Work/Data/BlackbuckAnnotations/P3/downsampled/SSD7/20230318/SM_Lek1/P3D6/20230318_SM_Lek1_P3D6_DJI_0039.MP4\n",
      "Duration of video [s]:  193.63 , recorded with  29.97 fps!\n",
      "Overall # of frames:  5803  found with (before cropping) frame dimensions:  1824 1026\n",
      "Starting to extract posture from the video(s) with batchsize: 8\n"
     ]
    },
    {
     "name": "stderr",
     "output_type": "stream",
     "text": [
      "100%|████████████████████████████████████████████████████████████████████████████████████| 5803/5803 [04:34<00:00, 21.17it/s]\n"
     ]
    },
    {
     "name": "stdout",
     "output_type": "stream",
     "text": [
      "Video Analyzed. Saving results in /home/vsridhar/DATA/DeepLabCut/projects/07_TerritoryDetectionP3-Vivek-2023-08-18/output/SSD7/20230318/SM_Lek1/P3D6...\n",
      "Using snapshot-50000 for model /home/vsridhar/DATA/DeepLabCut/projects/07_TerritoryDetectionP3-Vivek-2023-08-18/dlc-models/iteration-0/07_TerritoryDetectionP3Aug18-trainset90shuffle1\n",
      "Processing...  /media/vsridhar/T7/Work/Data/BlackbuckAnnotations/P3/downsampled/SSD7/20230318/SM_Lek1/P3D6/20230318_SM_Lek1_P3D6_DJI_0039.MP4\n",
      "Analyzing /home/vsridhar/DATA/DeepLabCut/projects/07_TerritoryDetectionP3-Vivek-2023-08-18/output/SSD7/20230318/SM_Lek1/P3D6/20230318_SM_Lek1_P3D6_DJI_0039DLC_dlcrnetms5_07_TerritoryDetectionP3Aug18shuffle1_50000.h5\n"
     ]
    },
    {
     "name": "stderr",
     "output_type": "stream",
     "text": [
      "100%|███████████████████████████████████████████████████████████████████████████████████| 5803/5803 [00:09<00:00, 597.19it/s]\n",
      "5803it [00:16, 345.00it/s]\n"
     ]
    },
    {
     "name": "stdout",
     "output_type": "stream",
     "text": [
      "The tracklets were created (i.e., under the hood deeplabcut.convert_detections2tracklets was run). Now you can 'refine_tracklets' in the GUI, or run 'deeplabcut.stitch_tracklets'.\n",
      "Processing...  /media/vsridhar/T7/Work/Data/BlackbuckAnnotations/P3/downsampled/SSD7/20230318/SM_Lek1/P3D6/20230318_SM_Lek1_P3D6_DJI_0039.MP4\n"
     ]
    },
    {
     "name": "stderr",
     "output_type": "stream",
     "text": [
      "/home/vsridhar/.local/lib/python3.10/site-packages/deeplabcut/refine_training_dataset/stitch.py:138: FutureWarning: Unlike other reduction functions (e.g. `skew`, `kurtosis`), the default behavior of `mode` typically preserves the axis it acts along. In SciPy 1.11.0, this behavior will change: the default value of `keepdims` will become False, the `axis` over which the statistic is taken will be eliminated, and the value None will no longer be accepted. Set `keepdims` to True or False to avoid this warning.\n",
      "  return mode(self.data[..., 3], axis=None, nan_policy=\"omit\")[0][0]\n",
      "100%|████████████████████████████████████████████████████████████████████████████████████| 104/104 [00:00<00:00, 1520.59it/s]\n"
     ]
    },
    {
     "name": "stdout",
     "output_type": "stream",
     "text": [
      "Starting to analyze %  /media/vsridhar/T7/Work/Data/BlackbuckAnnotations/P3/downsampled/SSD7/20230318/SM_Lek1/P3D6/20230318_SM_Lek1_P3D6_DJI_0048.MP4\n",
      "Loading  /media/vsridhar/T7/Work/Data/BlackbuckAnnotations/P3/downsampled/SSD7/20230318/SM_Lek1/P3D6/20230318_SM_Lek1_P3D6_DJI_0048.MP4\n",
      "Duration of video [s]:  193.96 , recorded with  29.97 fps!\n",
      "Overall # of frames:  5813  found with (before cropping) frame dimensions:  1824 1026\n",
      "Starting to extract posture from the video(s) with batchsize: 8\n"
     ]
    },
    {
     "name": "stderr",
     "output_type": "stream",
     "text": [
      "100%|████████████████████████████████████████████████████████████████████████████████████| 5813/5813 [04:34<00:00, 21.18it/s]\n"
     ]
    },
    {
     "name": "stdout",
     "output_type": "stream",
     "text": [
      "Video Analyzed. Saving results in /home/vsridhar/DATA/DeepLabCut/projects/07_TerritoryDetectionP3-Vivek-2023-08-18/output/SSD7/20230318/SM_Lek1/P3D6...\n",
      "Using snapshot-50000 for model /home/vsridhar/DATA/DeepLabCut/projects/07_TerritoryDetectionP3-Vivek-2023-08-18/dlc-models/iteration-0/07_TerritoryDetectionP3Aug18-trainset90shuffle1\n",
      "Processing...  /media/vsridhar/T7/Work/Data/BlackbuckAnnotations/P3/downsampled/SSD7/20230318/SM_Lek1/P3D6/20230318_SM_Lek1_P3D6_DJI_0048.MP4\n",
      "Analyzing /home/vsridhar/DATA/DeepLabCut/projects/07_TerritoryDetectionP3-Vivek-2023-08-18/output/SSD7/20230318/SM_Lek1/P3D6/20230318_SM_Lek1_P3D6_DJI_0048DLC_dlcrnetms5_07_TerritoryDetectionP3Aug18shuffle1_50000.h5\n"
     ]
    },
    {
     "name": "stderr",
     "output_type": "stream",
     "text": [
      "100%|███████████████████████████████████████████████████████████████████████████████████| 5813/5813 [00:07<00:00, 779.81it/s]\n",
      "5813it [00:14, 397.25it/s]\n"
     ]
    },
    {
     "name": "stdout",
     "output_type": "stream",
     "text": [
      "The tracklets were created (i.e., under the hood deeplabcut.convert_detections2tracklets was run). Now you can 'refine_tracklets' in the GUI, or run 'deeplabcut.stitch_tracklets'.\n",
      "Processing...  /media/vsridhar/T7/Work/Data/BlackbuckAnnotations/P3/downsampled/SSD7/20230318/SM_Lek1/P3D6/20230318_SM_Lek1_P3D6_DJI_0048.MP4\n"
     ]
    },
    {
     "name": "stderr",
     "output_type": "stream",
     "text": [
      "/home/vsridhar/.local/lib/python3.10/site-packages/deeplabcut/refine_training_dataset/stitch.py:138: FutureWarning: Unlike other reduction functions (e.g. `skew`, `kurtosis`), the default behavior of `mode` typically preserves the axis it acts along. In SciPy 1.11.0, this behavior will change: the default value of `keepdims` will become False, the `axis` over which the statistic is taken will be eliminated, and the value None will no longer be accepted. Set `keepdims` to True or False to avoid this warning.\n",
      "  return mode(self.data[..., 3], axis=None, nan_policy=\"omit\")[0][0]\n",
      "100%|█████████████████████████████████████████████████████████████████████████████████████| 28/28 [00:00<00:00, 30872.90it/s]\n",
      "/home/vsridhar/.local/lib/python3.10/site-packages/deeplabcut/refine_training_dataset/stitch.py:690: UserWarning: No optimal solution found. Employing black magic...\n",
      "  warnings.warn(\"No optimal solution found. Employing black magic...\")\n",
      "/home/vsridhar/.local/lib/python3.10/site-packages/deeplabcut/refine_training_dataset/stitch.py:763: UserWarning: Only 28 tracks could be reconstructed.\n",
      "  warnings.warn(f\"Only {len(self.paths)} tracks could be reconstructed.\")\n"
     ]
    },
    {
     "name": "stdout",
     "output_type": "stream",
     "text": [
      "Starting to analyze %  /media/vsridhar/T7/Work/Data/BlackbuckAnnotations/P3/downsampled/SSD7/20230318/SM_Lek1/P3D6/20230318_SM_Lek1_P3D6_DJI_0049.MP4\n",
      "Loading  /media/vsridhar/T7/Work/Data/BlackbuckAnnotations/P3/downsampled/SSD7/20230318/SM_Lek1/P3D6/20230318_SM_Lek1_P3D6_DJI_0049.MP4\n",
      "Duration of video [s]:  193.96 , recorded with  29.97 fps!\n",
      "Overall # of frames:  5813  found with (before cropping) frame dimensions:  1824 1026\n",
      "Starting to extract posture from the video(s) with batchsize: 8\n"
     ]
    },
    {
     "name": "stderr",
     "output_type": "stream",
     "text": [
      "100%|████████████████████████████████████████████████████████████████████████████████████| 5813/5813 [04:31<00:00, 21.38it/s]\n"
     ]
    },
    {
     "name": "stdout",
     "output_type": "stream",
     "text": [
      "Video Analyzed. Saving results in /home/vsridhar/DATA/DeepLabCut/projects/07_TerritoryDetectionP3-Vivek-2023-08-18/output/SSD7/20230318/SM_Lek1/P3D6...\n",
      "Using snapshot-50000 for model /home/vsridhar/DATA/DeepLabCut/projects/07_TerritoryDetectionP3-Vivek-2023-08-18/dlc-models/iteration-0/07_TerritoryDetectionP3Aug18-trainset90shuffle1\n",
      "Processing...  /media/vsridhar/T7/Work/Data/BlackbuckAnnotations/P3/downsampled/SSD7/20230318/SM_Lek1/P3D6/20230318_SM_Lek1_P3D6_DJI_0049.MP4\n",
      "Analyzing /home/vsridhar/DATA/DeepLabCut/projects/07_TerritoryDetectionP3-Vivek-2023-08-18/output/SSD7/20230318/SM_Lek1/P3D6/20230318_SM_Lek1_P3D6_DJI_0049DLC_dlcrnetms5_07_TerritoryDetectionP3Aug18shuffle1_50000.h5\n"
     ]
    },
    {
     "name": "stderr",
     "output_type": "stream",
     "text": [
      "100%|███████████████████████████████████████████████████████████████████████████████████| 5813/5813 [00:08<00:00, 709.25it/s]\n",
      "5813it [00:15, 385.69it/s]\n"
     ]
    },
    {
     "name": "stdout",
     "output_type": "stream",
     "text": [
      "The tracklets were created (i.e., under the hood deeplabcut.convert_detections2tracklets was run). Now you can 'refine_tracklets' in the GUI, or run 'deeplabcut.stitch_tracklets'.\n",
      "Processing...  /media/vsridhar/T7/Work/Data/BlackbuckAnnotations/P3/downsampled/SSD7/20230318/SM_Lek1/P3D6/20230318_SM_Lek1_P3D6_DJI_0049.MP4\n"
     ]
    },
    {
     "name": "stderr",
     "output_type": "stream",
     "text": [
      "/home/vsridhar/.local/lib/python3.10/site-packages/deeplabcut/refine_training_dataset/stitch.py:138: FutureWarning: Unlike other reduction functions (e.g. `skew`, `kurtosis`), the default behavior of `mode` typically preserves the axis it acts along. In SciPy 1.11.0, this behavior will change: the default value of `keepdims` will become False, the `axis` over which the statistic is taken will be eliminated, and the value None will no longer be accepted. Set `keepdims` to True or False to avoid this warning.\n",
      "  return mode(self.data[..., 3], axis=None, nan_policy=\"omit\")[0][0]\n",
      "100%|█████████████████████████████████████████████████████████████████████████████████████| 26/26 [00:00<00:00, 16453.21it/s]\n",
      "/home/vsridhar/.local/lib/python3.10/site-packages/deeplabcut/refine_training_dataset/stitch.py:690: UserWarning: No optimal solution found. Employing black magic...\n",
      "  warnings.warn(\"No optimal solution found. Employing black magic...\")\n",
      "/home/vsridhar/.local/lib/python3.10/site-packages/deeplabcut/refine_training_dataset/stitch.py:763: UserWarning: Only 26 tracks could be reconstructed.\n",
      "  warnings.warn(f\"Only {len(self.paths)} tracks could be reconstructed.\")\n"
     ]
    },
    {
     "name": "stdout",
     "output_type": "stream",
     "text": [
      "Starting to analyze %  /media/vsridhar/T7/Work/Data/BlackbuckAnnotations/P3/downsampled/SSD7/20230318/SM_Lek1/P3D6/20230318_SM_Lek1_P3D6_DJI_0045.MP4\n",
      "Loading  /media/vsridhar/T7/Work/Data/BlackbuckAnnotations/P3/downsampled/SSD7/20230318/SM_Lek1/P3D6/20230318_SM_Lek1_P3D6_DJI_0045.MP4\n",
      "Duration of video [s]:  193.69 , recorded with  29.97 fps!\n",
      "Overall # of frames:  5805  found with (before cropping) frame dimensions:  1824 1026\n",
      "Starting to extract posture from the video(s) with batchsize: 8\n"
     ]
    },
    {
     "name": "stderr",
     "output_type": "stream",
     "text": [
      "100%|████████████████████████████████████████████████████████████████████████████████████| 5805/5805 [04:34<00:00, 21.17it/s]\n"
     ]
    },
    {
     "name": "stdout",
     "output_type": "stream",
     "text": [
      "Video Analyzed. Saving results in /home/vsridhar/DATA/DeepLabCut/projects/07_TerritoryDetectionP3-Vivek-2023-08-18/output/SSD7/20230318/SM_Lek1/P3D6...\n",
      "Using snapshot-50000 for model /home/vsridhar/DATA/DeepLabCut/projects/07_TerritoryDetectionP3-Vivek-2023-08-18/dlc-models/iteration-0/07_TerritoryDetectionP3Aug18-trainset90shuffle1\n",
      "Processing...  /media/vsridhar/T7/Work/Data/BlackbuckAnnotations/P3/downsampled/SSD7/20230318/SM_Lek1/P3D6/20230318_SM_Lek1_P3D6_DJI_0045.MP4\n",
      "Analyzing /home/vsridhar/DATA/DeepLabCut/projects/07_TerritoryDetectionP3-Vivek-2023-08-18/output/SSD7/20230318/SM_Lek1/P3D6/20230318_SM_Lek1_P3D6_DJI_0045DLC_dlcrnetms5_07_TerritoryDetectionP3Aug18shuffle1_50000.h5\n"
     ]
    },
    {
     "name": "stderr",
     "output_type": "stream",
     "text": [
      "100%|███████████████████████████████████████████████████████████████████████████████████| 5805/5805 [00:09<00:00, 583.09it/s]\n",
      "5805it [00:16, 344.08it/s]\n"
     ]
    },
    {
     "name": "stdout",
     "output_type": "stream",
     "text": [
      "The tracklets were created (i.e., under the hood deeplabcut.convert_detections2tracklets was run). Now you can 'refine_tracklets' in the GUI, or run 'deeplabcut.stitch_tracklets'.\n",
      "Processing...  /media/vsridhar/T7/Work/Data/BlackbuckAnnotations/P3/downsampled/SSD7/20230318/SM_Lek1/P3D6/20230318_SM_Lek1_P3D6_DJI_0045.MP4\n"
     ]
    },
    {
     "name": "stderr",
     "output_type": "stream",
     "text": [
      "/home/vsridhar/.local/lib/python3.10/site-packages/deeplabcut/refine_training_dataset/stitch.py:138: FutureWarning: Unlike other reduction functions (e.g. `skew`, `kurtosis`), the default behavior of `mode` typically preserves the axis it acts along. In SciPy 1.11.0, this behavior will change: the default value of `keepdims` will become False, the `axis` over which the statistic is taken will be eliminated, and the value None will no longer be accepted. Set `keepdims` to True or False to avoid this warning.\n",
      "  return mode(self.data[..., 3], axis=None, nan_policy=\"omit\")[0][0]\n",
      "100%|██████████████████████████████████████████████████████████████████████████████████████| 97/97 [00:00<00:00, 3057.51it/s]\n"
     ]
    },
    {
     "name": "stdout",
     "output_type": "stream",
     "text": [
      "Starting to analyze %  /media/vsridhar/T7/Work/Data/BlackbuckAnnotations/P3/downsampled/SSD7/20230318/SM_Lek1/P3D6/20230318_SM_Lek1_P3D6_DJI_0052.MP4\n",
      "Loading  /media/vsridhar/T7/Work/Data/BlackbuckAnnotations/P3/downsampled/SSD7/20230318/SM_Lek1/P3D6/20230318_SM_Lek1_P3D6_DJI_0052.MP4\n",
      "Duration of video [s]:  194.06 , recorded with  29.97 fps!\n",
      "Overall # of frames:  5816  found with (before cropping) frame dimensions:  1824 1026\n",
      "Starting to extract posture from the video(s) with batchsize: 8\n"
     ]
    },
    {
     "name": "stderr",
     "output_type": "stream",
     "text": [
      "100%|████████████████████████████████████████████████████████████████████████████████████| 5816/5816 [04:31<00:00, 21.40it/s]\n"
     ]
    },
    {
     "name": "stdout",
     "output_type": "stream",
     "text": [
      "Video Analyzed. Saving results in /home/vsridhar/DATA/DeepLabCut/projects/07_TerritoryDetectionP3-Vivek-2023-08-18/output/SSD7/20230318/SM_Lek1/P3D6...\n",
      "Using snapshot-50000 for model /home/vsridhar/DATA/DeepLabCut/projects/07_TerritoryDetectionP3-Vivek-2023-08-18/dlc-models/iteration-0/07_TerritoryDetectionP3Aug18-trainset90shuffle1\n",
      "Processing...  /media/vsridhar/T7/Work/Data/BlackbuckAnnotations/P3/downsampled/SSD7/20230318/SM_Lek1/P3D6/20230318_SM_Lek1_P3D6_DJI_0052.MP4\n",
      "Analyzing /home/vsridhar/DATA/DeepLabCut/projects/07_TerritoryDetectionP3-Vivek-2023-08-18/output/SSD7/20230318/SM_Lek1/P3D6/20230318_SM_Lek1_P3D6_DJI_0052DLC_dlcrnetms5_07_TerritoryDetectionP3Aug18shuffle1_50000.h5\n"
     ]
    },
    {
     "name": "stderr",
     "output_type": "stream",
     "text": [
      "100%|███████████████████████████████████████████████████████████████████████████████████| 5816/5816 [00:07<00:00, 790.83it/s]\n",
      "5816it [00:14, 409.79it/s]\n"
     ]
    },
    {
     "name": "stdout",
     "output_type": "stream",
     "text": [
      "The tracklets were created (i.e., under the hood deeplabcut.convert_detections2tracklets was run). Now you can 'refine_tracklets' in the GUI, or run 'deeplabcut.stitch_tracklets'.\n",
      "Processing...  /media/vsridhar/T7/Work/Data/BlackbuckAnnotations/P3/downsampled/SSD7/20230318/SM_Lek1/P3D6/20230318_SM_Lek1_P3D6_DJI_0052.MP4\n"
     ]
    },
    {
     "name": "stderr",
     "output_type": "stream",
     "text": [
      "/home/vsridhar/.local/lib/python3.10/site-packages/deeplabcut/refine_training_dataset/stitch.py:138: FutureWarning: Unlike other reduction functions (e.g. `skew`, `kurtosis`), the default behavior of `mode` typically preserves the axis it acts along. In SciPy 1.11.0, this behavior will change: the default value of `keepdims` will become False, the `axis` over which the statistic is taken will be eliminated, and the value None will no longer be accepted. Set `keepdims` to True or False to avoid this warning.\n",
      "  return mode(self.data[..., 3], axis=None, nan_policy=\"omit\")[0][0]\n",
      "100%|████████████████████████████████████████████████████████████████████████████████████| 23/23 [00:00<00:00, 203092.61it/s]"
     ]
    },
    {
     "name": "stdout",
     "output_type": "stream",
     "text": [
      "The videos are analyzed. Time to assemble animals and track 'em... \n",
      " Call 'create_video_with_all_detections' to check multi-animal detection quality before tracking.\n",
      "If the tracking is not satisfactory for some videos, consider expanding the training set. You can use the function 'extract_outlier_frames' to extract a few representative outlier frames.\n"
     ]
    },
    {
     "name": "stderr",
     "output_type": "stream",
     "text": [
      "\n",
      "/home/vsridhar/.local/lib/python3.10/site-packages/deeplabcut/refine_training_dataset/stitch.py:690: UserWarning: No optimal solution found. Employing black magic...\n",
      "  warnings.warn(\"No optimal solution found. Employing black magic...\")\n",
      "/home/vsridhar/.local/lib/python3.10/site-packages/deeplabcut/refine_training_dataset/stitch.py:763: UserWarning: Only 23 tracks could be reconstructed.\n",
      "  warnings.warn(f\"Only {len(self.paths)} tracks could be reconstructed.\")\n"
     ]
    }
   ],
   "source": [
    "for ssd in SSD:\n",
    "    for date in DATE:\n",
    "        for session in SESSION:\n",
    "            for drone in DRONE:\n",
    "                internal_path = '/' + ssd + '/' + date + '/' + session + '/' + drone\n",
    "                \n",
    "                deeplabcut.analyze_videos(config_path,\n",
    "                                          ['/media/vsridhar/T7/Work/Data/BlackbuckAnnotations/P3/downsampled' + internal_path],\n",
    "                                          videotype='MP4',\n",
    "                                          destfolder='/home/vsridhar/DATA/DeepLabCut/projects/07_TerritoryDetectionP3-Vivek-2023-08-18/output' + internal_path,\n",
    "                                          gputouse=0, \n",
    "                                          save_as_csv=False,\n",
    "                                          allow_growth=True,\n",
    "                                          auto_track=True)"
   ]
  },
  {
   "cell_type": "code",
   "execution_count": null,
   "id": "706a7c9d",
   "metadata": {},
   "outputs": [],
   "source": []
  }
 ],
 "metadata": {
  "kernelspec": {
   "display_name": "Python 3 (ipykernel)",
   "language": "python",
   "name": "python3"
  },
  "language_info": {
   "codemirror_mode": {
    "name": "ipython",
    "version": 3
   },
   "file_extension": ".py",
   "mimetype": "text/x-python",
   "name": "python",
   "nbconvert_exporter": "python",
   "pygments_lexer": "ipython3",
   "version": "3.10.12"
  }
 },
 "nbformat": 4,
 "nbformat_minor": 5
}
