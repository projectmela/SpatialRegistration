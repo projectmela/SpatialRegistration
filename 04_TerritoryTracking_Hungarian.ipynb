{
 "cells": [
  {
   "cell_type": "code",
   "execution_count": 1,
   "id": "a72d5a8f",
   "metadata": {},
   "outputs": [],
   "source": [
    "import numpy as np\n",
    "import pandas as pd\n",
    "import matplotlib.pyplot as plt\n",
    "import glob\n",
    "import cv2\n",
    "import re\n",
    "\n",
    "from time import sleep\n",
    "from tqdm import tqdm\n",
    "from scipy.spatial.distance import cdist\n",
    "from scipy.optimize import linear_sum_assignment"
   ]
  },
  {
   "cell_type": "code",
   "execution_count": 2,
   "id": "400a0941",
   "metadata": {},
   "outputs": [],
   "source": [
    "SSD = ['SSD6']\n",
    "DATE = ['20230312', '20230313']\n",
    "SESSION = ['SE_Lek1']\n",
    "DRONE = ['P1D1', 'P1D2']"
   ]
  },
  {
   "cell_type": "code",
   "execution_count": 3,
   "id": "2b9e560b",
   "metadata": {},
   "outputs": [],
   "source": [
    "# Function to calculate distance matrix between territories in two frames\n",
    "def calculate_distance_matrix(frame1, frame2):\n",
    "    coords_frame1 = df[df['frame'] == frame1][['pos_x', 'pos_y']].values\n",
    "    coords_frame2 = df[df['frame'] == frame2][['pos_x', 'pos_y']].values\n",
    "    distance_matrix = cdist(coords_frame1, coords_frame2)\n",
    "    return distance_matrix, coords_frame1, coords_frame2"
   ]
  },
  {
   "cell_type": "code",
   "execution_count": 4,
   "id": "02759189",
   "metadata": {},
   "outputs": [],
   "source": [
    "# Function to update territory_id based on optimal assignment\n",
    "def update_territory_id(frame1, frame2):\n",
    "    distance_matrix, coords_frame1, coords_frame2 = calculate_distance_matrix(frame1, frame2)\n",
    "    row_ind, col_ind = linear_sum_assignment(distance_matrix)\n",
    "    \n",
    "    global new_id_counter  # Access the global counter\n",
    "    \n",
    "    # Update existing territories\n",
    "    for idx1, idx2 in zip(row_ind, col_ind):\n",
    "        territory_id_frame1 = df.loc[(df['frame'] == frame1)].iloc[idx1]['territory_id']\n",
    "        df.loc[(df['frame'] == frame2) & (df['pos_x'] == coords_frame2[idx2, 0]) & (df['pos_y'] == coords_frame2[idx2, 1]), 'territory_id'] = territory_id_frame1\n",
    "    \n",
    "    # Handle unassigned territories in frame2\n",
    "    unassigned_territories = set(range(len(coords_frame2))) - set(col_ind)\n",
    "    for idx2 in unassigned_territories:\n",
    "        new_territory_id = n_territories + new_id_counter\n",
    "        new_id_counter += 1\n",
    "        df.loc[(df['frame'] == frame2) & (df['pos_x'] == coords_frame2[idx2, 0]) & (df['pos_y'] == coords_frame2[idx2, 1]), 'territory_id'] = new_territory_id"
   ]
  },
  {
   "cell_type": "code",
   "execution_count": null,
   "id": "3a804af0",
   "metadata": {},
   "outputs": [
    {
     "name": "stderr",
     "output_type": "stream",
     "text": [
      "5813it [04:51, 19.92it/s]\n",
      "5813it [05:10, 18.75it/s]\n",
      "5815it [04:56, 19.59it/s]\n",
      "5813it [05:11, 18.66it/s]\n",
      "5814it [04:39, 20.79it/s]\n",
      "5805it [05:29, 17.59it/s]\n",
      "5804it [05:26, 17.75it/s]\n",
      "5814it [05:09, 18.81it/s]\n",
      "5812it [05:12, 18.61it/s]\n",
      "5814it [04:51, 19.97it/s]\n",
      "5811it [04:51, 19.92it/s]\n",
      "5806it [05:16, 18.34it/s]\n",
      "5815it [04:53, 19.82it/s]\n",
      "1it [00:00, 39.75it/s]\n",
      "5813it [04:47, 20.22it/s]\n",
      "5814it [04:42, 20.61it/s]\n",
      "212it [00:05, 37.58it/s]\n",
      "5803it [04:43, 20.46it/s]\n",
      "5810it [04:42, 20.60it/s]\n",
      "5813it [05:01, 19.30it/s]\n",
      "5000it [03:35, 23.16it/s]\n",
      "5647it [04:49, 19.47it/s]\n",
      "5813it [04:45, 20.39it/s]\n",
      "5814it [04:44, 20.46it/s]\n",
      "5814it [04:35, 21.08it/s]\n",
      "5813it [04:34, 21.16it/s]\n",
      "1657it [01:02, 26.67it/s]\n",
      "5813it [05:03, 19.17it/s]\n",
      "5803it [05:29, 17.59it/s]\n",
      "5803it [06:14, 15.49it/s]\n",
      "3885it [02:49, 22.86it/s]\n",
      "5813it [05:27, 17.73it/s]\n",
      "5814it [05:34, 17.36it/s]\n",
      "5634it [04:40, 20.07it/s]\n",
      "5814it [05:35, 17.35it/s]\n",
      "5816it [04:47, 20.22it/s]\n",
      "5814it [05:38, 17.18it/s]\n",
      "5804it [05:33, 17.41it/s]\n",
      "5816it [04:45, 20.36it/s]\n",
      "5814it [04:31, 21.39it/s]\n",
      "5814it [04:37, 20.96it/s]\n",
      "5802it [04:27, 21.66it/s]\n",
      "5069it [04:19, 19.53it/s]\n",
      "5803it [05:21, 18.03it/s]\n",
      "5813it [04:30, 21.49it/s]\n",
      "2854it [02:18, 20.67it/s]"
     ]
    }
   ],
   "source": [
    "for ssd in SSD:\n",
    "    for date in DATE:\n",
    "        for session in SESSION:\n",
    "            for drone in DRONE:\n",
    "                internal_path = '/home/vsridhar/DATA/DeepLabCut/projects/06_TerritoryDetectionP1-Vivek-2023-08-01/output/' + ssd + '/' + date + '/' + session + '/' + drone\n",
    "                video_name = date + '_' + session + '_' + drone\n",
    "                \n",
    "                predictions = glob.glob(internal_path + '/' + video_name + '*full.pickle')\n",
    "                for pred in predictions:\n",
    "                    data = pd.read_pickle(pred)\n",
    "                    frames = list(data.keys())[1:]\n",
    "\n",
    "                    for idx,frame in enumerate(frames):\n",
    "                        fr = np.repeat(int(re.findall(r'\\d+', frame)[0]),len(data[frame]['coordinates'][0][0]))\n",
    "                        pos_x = data[frame]['coordinates'][0][0][:,0]\n",
    "                        pos_y = data[frame]['coordinates'][0][0][:,1]\n",
    "                        territory_id = np.arange(0,len(data[frame]['coordinates'][0][0]))\n",
    "\n",
    "                        tmp = pd.DataFrame(np.array([fr,pos_x,pos_y,territory_id]).T, columns=['frame', 'pos_x', 'pos_y', 'territory_id'])\n",
    "                        if idx != 0:\n",
    "                            df = pd.concat((df, tmp), axis=0)\n",
    "                        else:\n",
    "                            df = tmp\n",
    "\n",
    "                    # Total number of territories and counter to track new territory IDs\n",
    "                    n_territories = np.max(df['territory_id'])\n",
    "                    new_id_counter = 1\n",
    "                    \n",
    "                    # Update territory_id for successive frames in reverse order\n",
    "                    unique_frames = df['frame'].unique()[::-1]\n",
    "                    for current_frame, previous_frame in tqdm(zip(unique_frames[:-1], unique_frames[1:])):\n",
    "                        update_territory_id(current_frame, previous_frame)\n",
    "                        sleep(0.001)\n",
    "                        \n",
    "                    df.to_csv(internal_path + '/' + video_name + '_DJI_' + pred[141:145] + '.csv')"
   ]
  },
  {
   "cell_type": "code",
   "execution_count": null,
   "id": "5de5cfd5",
   "metadata": {},
   "outputs": [],
   "source": []
  }
 ],
 "metadata": {
  "kernelspec": {
   "display_name": "Python 3 (ipykernel)",
   "language": "python",
   "name": "python3"
  },
  "language_info": {
   "codemirror_mode": {
    "name": "ipython",
    "version": 3
   },
   "file_extension": ".py",
   "mimetype": "text/x-python",
   "name": "python",
   "nbconvert_exporter": "python",
   "pygments_lexer": "ipython3",
   "version": "3.10.12"
  }
 },
 "nbformat": 4,
 "nbformat_minor": 5
}
