{
 "cells": [
  {
   "cell_type": "code",
   "execution_count": 1,
   "id": "5012bbd4",
   "metadata": {},
   "outputs": [],
   "source": [
    "import numpy as np\n",
    "import pandas as pd\n",
    "import matplotlib.pyplot as plt\n",
    "\n",
    "import os\n",
    "import glob"
   ]
  },
  {
   "cell_type": "code",
   "execution_count": 2,
   "id": "c8de2e09",
   "metadata": {},
   "outputs": [],
   "source": [
    "DATE = ['20230308', '20230309', '20230310', '20230311', '20230312']\n",
    "SESSION = ['SM_Lek1', 'SE_Lek1']\n",
    "DRONE = ['P1D1', 'P1D2', 'P2D3', 'P2D4', 'P3D5', 'P3D6']\n",
    "\n",
    "files_directory = '/Volumes/SSD5'"
   ]
  },
  {
   "cell_type": "code",
   "execution_count": null,
   "id": "63bd9e10",
   "metadata": {},
   "outputs": [],
   "source": [
    "for date in DATE:\n",
    "    for session in SESSION:\n",
    "        for drone in DRONE:\n",
    "            print(date, session, drone)\n",
    "            \n",
    "            internal_path = files_directory + '/' + date + '/' + session + '/' + drone\n",
    "            files = glob.glob(internal_path + '/' + date + '_' + session + '_' + drone + '*_matched.csv')\n",
    "            \n",
    "            for file in sorted(files):\n",
    "                df = pd.read_csv(file)\n",
    "                df.columns = ['frame', 'x', 'y', 'idx', 'best_anchor_frame', 'u', 'v', 'Point', 'Distance']\n",
    "                \n",
    "                filename = os.path.basename(file).rsplit('_Anchored_matched', 1)[0]\n",
    "                df['Camera'] = filename + '_frame' + df['best_anchor_frame'].astype(int).astype(str)\n",
    "                df['video'] = filename\n",
    "                \n",
    "                df = df.loc[:,['Point', 'Camera', 'video', 'frame', 'x', 'y', 'best_anchor_frame', 'u', 'v']]\n",
    "                df = df.sample(frac = 0.05, random_state=42)\n",
    "                \n",
    "                filename = os.path.basename(file).replace('_Anchored_matched.csv', '_Metashape_uv.csv')\n",
    "                df.to_csv(os.path.join(os.path.dirname(file), filename), index=False, mode='w')"
   ]
  },
  {
   "cell_type": "code",
   "execution_count": null,
   "id": "17ff3abe",
   "metadata": {},
   "outputs": [],
   "source": []
  }
 ],
 "metadata": {
  "kernelspec": {
   "display_name": "Python 3 (ipykernel)",
   "language": "python",
   "name": "python3"
  },
  "language_info": {
   "codemirror_mode": {
    "name": "ipython",
    "version": 3
   },
   "file_extension": ".py",
   "mimetype": "text/x-python",
   "name": "python",
   "nbconvert_exporter": "python",
   "pygments_lexer": "ipython3",
   "version": "3.8.15"
  }
 },
 "nbformat": 4,
 "nbformat_minor": 5
}
