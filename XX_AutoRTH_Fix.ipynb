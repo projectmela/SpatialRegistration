{
 "cells": [
  {
   "cell_type": "code",
   "execution_count": 1,
   "id": "27296928",
   "metadata": {},
   "outputs": [],
   "source": [
    "import numpy as np\n",
    "import pandas as pd\n",
    "import glob\n",
    "import os"
   ]
  },
  {
   "cell_type": "code",
   "execution_count": 2,
   "id": "167e2ee8",
   "metadata": {},
   "outputs": [],
   "source": [
    "DATE = ['20230306', '20230307', '20230314', '20230317', '20230317']\n",
    "SESSION = ['SE_Lek1', 'SM_Lek1', 'SE_Lek1', 'SM_Lek1', 'SM_Lek1']\n",
    "DRONE = ['P3D6', 'P1D2', 'P3D6', 'P2D3', 'P2D4']\n",
    "VIDEOS = ['0663', '0796', '0978', '0410', '0035']\n",
    "START_FRAMES = [3115,3895,850,1895,4185]\n",
    "END_FRAMES = [3450,4235,1160,2275,4550]\n",
    "\n",
    "tracking_directory = '/Volumes/EAS_shared/blackbuck/working/processed/Field_Recording_2023/SpatialRegistration'"
   ]
  },
  {
   "cell_type": "code",
   "execution_count": 3,
   "id": "50019956",
   "metadata": {},
   "outputs": [],
   "source": [
    "for date,session,drone,video,start_frame,end_frame in zip(DATE,SESSION,DRONE,VIDEOS,START_FRAMES,END_FRAMES):\n",
    "    internal_path = tracking_directory + '/' + date + '/' + session + '/' + drone\n",
    "    file = internal_path + '/' + date + '_' + session + '_' + drone + '_DJI_' + video + '_YOLO_tracked.csv'\n",
    "    \n",
    "    df = pd.read_csv(file)\n",
    "    df1 = df.loc[df['frame'] <= start_frame,:].reset_index(drop=True)\n",
    "    df2 = df.loc[df['frame'] >= end_frame,:].reset_index(drop=True)\n",
    "    \n",
    "    output_filename1 = os.path.basename(file).replace('.csv', '_start.csv')\n",
    "    output_filename2 = os.path.basename(file).replace('.csv', '_end.csv')\n",
    "    df1.to_csv(os.path.join(os.path.dirname(file), output_filename1), index=False)\n",
    "    df2.to_csv(os.path.join(os.path.dirname(file), output_filename2), index=False)"
   ]
  },
  {
   "cell_type": "code",
   "execution_count": null,
   "id": "19c6a7bf",
   "metadata": {},
   "outputs": [],
   "source": []
  }
 ],
 "metadata": {
  "kernelspec": {
   "display_name": "Python 3 (ipykernel)",
   "language": "python",
   "name": "python3"
  },
  "language_info": {
   "codemirror_mode": {
    "name": "ipython",
    "version": 3
   },
   "file_extension": ".py",
   "mimetype": "text/x-python",
   "name": "python",
   "nbconvert_exporter": "python",
   "pygments_lexer": "ipython3",
   "version": "3.8.15"
  }
 },
 "nbformat": 4,
 "nbformat_minor": 5
}
