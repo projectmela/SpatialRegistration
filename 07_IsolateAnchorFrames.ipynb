{
 "cells": [
  {
   "cell_type": "code",
   "execution_count": 1,
   "id": "6a57fea3",
   "metadata": {},
   "outputs": [],
   "source": [
    "import numpy as np\n",
    "import pandas as pd\n",
    "\n",
    "import cv2\n",
    "import os\n",
    "import glob"
   ]
  },
  {
   "cell_type": "code",
   "execution_count": 2,
   "id": "e7a789fb",
   "metadata": {},
   "outputs": [],
   "source": [
    "DATE = ['20230302']#, '20230305']\n",
    "SESSION = ['SM_Lek1']#, 'SE_Lek1']\n",
    "DRONE = ['P1D1', 'P1D2']#, 'P2D3', 'P2D4', 'P3D5', 'P3D6']\n",
    "\n",
    "files_directory = '/Volumes/EAS_shared/blackbuck/working/processed/TerritoryDetection2023'\n",
    "video_directory = '/Volumes/EAS_shared/blackbuck/working/rawdata/Field_Recording_2023/Original/lekking'"
   ]
  },
  {
   "cell_type": "code",
   "execution_count": 3,
   "id": "69d4bb2d",
   "metadata": {},
   "outputs": [
    {
     "name": "stdout",
     "output_type": "stream",
     "text": [
      "20230302 SM_Lek1 P1D1\n",
      "Total frames in video: 4361\n",
      "Frame extraction completed for video 20230302_SM_Lek1_P1D1_DJI_0879\n",
      "20230302 SM_Lek1 P1D2\n",
      "Total frames in video: 5813\n",
      "Frame extraction completed for video 20230302_SM_Lek1_P1D2_DJI_0654\n"
     ]
    }
   ],
   "source": [
    "for date in DATE:\n",
    "    for session in SESSION:\n",
    "        for drone in DRONE:\n",
    "            print(date, session, drone)\n",
    "            \n",
    "            files_path = files_directory + '/' + date + '/' + session + '/' + drone\n",
    "            video_path = video_directory + '/' + date + '/' + session + '/' + drone\n",
    "            \n",
    "            files = glob.glob(files_path + '/' + date + '_' + session + '_' + drone + '*_Anchored.csv')\n",
    "            \n",
    "            for file in sorted(files[:1]):\n",
    "                df = pd.read_csv(file).dropna()\n",
    "                df['best_anchor_frame'] = df['best_anchor_frame'].astype(int)\n",
    "                \n",
    "                # Step 1: Extract unique frame numbers from the 'anchor_frames' column\n",
    "                unique_frames = df['best_anchor_frame'].unique()\n",
    "\n",
    "                # Define the video path\n",
    "                video_name = os.path.splitext(os.path.basename(file))[0][:-9]\n",
    "                current_video = video_path + '/' + video_name + '.MP4'\n",
    "\n",
    "                # Step 2: Create a directory with the video name to store extracted frames\n",
    "                output_folder = files_path + '/' + f'{video_name}'[:-9] + '_AnchorFrames'\n",
    "                os.makedirs(output_folder, exist_ok=True)\n",
    "\n",
    "                # Step 3: Use OpenCV to open the video and extract frames\n",
    "                cap = cv2.VideoCapture(current_video)\n",
    "\n",
    "                # Get the total number of frames in the video\n",
    "                total_frames = int(cap.get(cv2.CAP_PROP_FRAME_COUNT))\n",
    "\n",
    "                # Check if the video opened successfully\n",
    "                if not cap.isOpened():\n",
    "                    print(\"Error: Could not open the video.\")\n",
    "                else:\n",
    "                    print(f\"Total frames in video: {total_frames}\")\n",
    "\n",
    "                    # Step 4: Iterate through unique frames, read and save them\n",
    "                    for frame_no in unique_frames:\n",
    "                        # Ensure frame number is within the video frame range\n",
    "                        if frame_no >= 0 and frame_no < total_frames:\n",
    "                            # Set the video frame to the specific frame number\n",
    "                            cap.set(cv2.CAP_PROP_POS_FRAMES, frame_no)\n",
    "\n",
    "                            # Read the frame\n",
    "                            ret, frame = cap.read()\n",
    "\n",
    "                            if ret:\n",
    "                                # Create the filename for the frame\n",
    "                                frame_filename = os.path.join(output_folder, f\"{video_name}_frame{frame_no}.jpg\")\n",
    "\n",
    "                                # Save the frame as an image\n",
    "                                cv2.imwrite(frame_filename, frame)\n",
    "                            else:\n",
    "                                print(f\"Error: Could not read frame {frame_no}\")\n",
    "                        else:\n",
    "                            print(f\"Frame number {frame_no} is out of bounds\")\n",
    "\n",
    "                # Release the video capture object\n",
    "                cap.release()\n",
    "                print('Frame extraction completed for video ' + video_name)"
   ]
  },
  {
   "cell_type": "code",
   "execution_count": null,
   "id": "7c6be333",
   "metadata": {},
   "outputs": [],
   "source": []
  }
 ],
 "metadata": {
  "kernelspec": {
   "display_name": "Python 3 (ipykernel)",
   "language": "python",
   "name": "python3"
  },
  "language_info": {
   "codemirror_mode": {
    "name": "ipython",
    "version": 3
   },
   "file_extension": ".py",
   "mimetype": "text/x-python",
   "name": "python",
   "nbconvert_exporter": "python",
   "pygments_lexer": "ipython3",
   "version": "3.8.15"
  }
 },
 "nbformat": 4,
 "nbformat_minor": 5
}
