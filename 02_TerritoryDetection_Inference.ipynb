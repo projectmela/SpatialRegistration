{
 "cells": [
  {
   "cell_type": "code",
   "execution_count": 1,
   "id": "4dee4ad4",
   "metadata": {},
   "outputs": [
    {
     "name": "stdout",
     "output_type": "stream",
     "text": [
      "Loading DLC 2.3.5...\n"
     ]
    }
   ],
   "source": [
    "import deeplabcut"
   ]
  },
  {
   "cell_type": "code",
   "execution_count": 2,
   "id": "52afc396",
   "metadata": {},
   "outputs": [],
   "source": [
    "SSD = ['SSD6']\n",
    "DATE = ['20230312', '20230313']\n",
    "SESSION = ['SE_Lek1']\n",
    "DRONE = ['P2D3', 'P2D4']\n",
    "\n",
    "config_path = '/home/vsridhar/DATA/DeepLabCut/projects/05_TerritoryDetectionP2-Vivek-2023-07-10/config.yaml'"
   ]
  },
  {
   "cell_type": "code",
   "execution_count": 3,
   "id": "245d8478",
   "metadata": {
    "scrolled": true
   },
   "outputs": [
    {
     "name": "stdout",
     "output_type": "stream",
     "text": [
      "Using snapshot-50000 for model /home/vsridhar/DATA/DeepLabCut/projects/05_TerritoryDetectionP2-Vivek-2023-07-10/dlc-models/iteration-0/05_TerritoryDetectionP2Jul10-trainset90shuffle1\n"
     ]
    },
    {
     "name": "stderr",
     "output_type": "stream",
     "text": [
      "/home/vsridhar/.local/lib/python3.10/site-packages/tensorflow/python/keras/engine/base_layer_v1.py:1694: UserWarning: `layer.apply` is deprecated and will be removed in a future version. Please use `layer.__call__` method instead.\n",
      "  warnings.warn('`layer.apply` is deprecated and '\n",
      "/home/vsridhar/.local/lib/python3.10/site-packages/tf_slim/layers/layers.py:684: UserWarning: `layer.apply` is deprecated and will be removed in a future version. Please use `layer.__call__` method instead.\n",
      "  outputs = layer.apply(inputs, training=is_training)\n"
     ]
    },
    {
     "name": "stdout",
     "output_type": "stream",
     "text": [
      "Activating extracting of PAFs\n",
      "Analyzing all the videos in the directory...\n",
      "Starting to analyze %  /media/vsridhar/T7/Work/Data/BlackbuckAnnotations/P2/downsampled/SSD6/20230312/SE_Lek1/P2D3/20230312_SE_Lek1_P2D3_DJI_0298.MP4\n",
      "Video already analyzed! /home/vsridhar/DATA/DeepLabCut/projects/05_TerritoryDetectionP2-Vivek-2023-07-10/output/SSD6/20230312/SE_Lek1/P2D3/20230312_SE_Lek1_P2D3_DJI_0298DLC_dlcrnetms5_05_TerritoryDetectionP2Jul10shuffle1_50000.h5\n",
      "Using snapshot-50000 for model /home/vsridhar/DATA/DeepLabCut/projects/05_TerritoryDetectionP2-Vivek-2023-07-10/dlc-models/iteration-0/05_TerritoryDetectionP2Jul10-trainset90shuffle1\n",
      "Processing...  /media/vsridhar/T7/Work/Data/BlackbuckAnnotations/P2/downsampled/SSD6/20230312/SE_Lek1/P2D3/20230312_SE_Lek1_P2D3_DJI_0298.MP4\n",
      "Tracklets already computed /home/vsridhar/DATA/DeepLabCut/projects/05_TerritoryDetectionP2-Vivek-2023-07-10/output/SSD6/20230312/SE_Lek1/P2D3/20230312_SE_Lek1_P2D3_DJI_0298DLC_dlcrnetms5_05_TerritoryDetectionP2Jul10shuffle1_50000_el.pickle\n",
      "Set overwrite = True to overwrite.\n",
      "The tracklets were created (i.e., under the hood deeplabcut.convert_detections2tracklets was run). Now you can 'refine_tracklets' in the GUI, or run 'deeplabcut.stitch_tracklets'.\n",
      "Processing...  /media/vsridhar/T7/Work/Data/BlackbuckAnnotations/P2/downsampled/SSD6/20230312/SE_Lek1/P2D3/20230312_SE_Lek1_P2D3_DJI_0298.MP4\n"
     ]
    },
    {
     "name": "stderr",
     "output_type": "stream",
     "text": [
      "/home/vsridhar/.local/lib/python3.10/site-packages/deeplabcut/refine_training_dataset/stitch.py:138: FutureWarning: Unlike other reduction functions (e.g. `skew`, `kurtosis`), the default behavior of `mode` typically preserves the axis it acts along. In SciPy 1.11.0, this behavior will change: the default value of `keepdims` will become False, the `axis` over which the statistic is taken will be eliminated, and the value None will no longer be accepted. Set `keepdims` to True or False to avoid this warning.\n",
      "  return mode(self.data[..., 3], axis=None, nan_policy=\"omit\")[0][0]\n",
      "100%|██████████████████████████████████████████████████████████████████████████████████████| 48/48 [00:00<00:00, 8037.95it/s]\n",
      "/home/vsridhar/.local/lib/python3.10/site-packages/deeplabcut/refine_training_dataset/stitch.py:690: UserWarning: No optimal solution found. Employing black magic...\n",
      "  warnings.warn(\"No optimal solution found. Employing black magic...\")\n",
      "/home/vsridhar/.local/lib/python3.10/site-packages/deeplabcut/refine_training_dataset/stitch.py:763: UserWarning: Only 48 tracks could be reconstructed.\n",
      "  warnings.warn(f\"Only {len(self.paths)} tracks could be reconstructed.\")\n"
     ]
    },
    {
     "name": "stdout",
     "output_type": "stream",
     "text": [
      "Starting to analyze %  /media/vsridhar/T7/Work/Data/BlackbuckAnnotations/P2/downsampled/SSD6/20230312/SE_Lek1/P2D3/20230312_SE_Lek1_P2D3_DJI_0299.MP4\n",
      "Video already analyzed! /home/vsridhar/DATA/DeepLabCut/projects/05_TerritoryDetectionP2-Vivek-2023-07-10/output/SSD6/20230312/SE_Lek1/P2D3/20230312_SE_Lek1_P2D3_DJI_0299DLC_dlcrnetms5_05_TerritoryDetectionP2Jul10shuffle1_50000.h5\n",
      "Using snapshot-50000 for model /home/vsridhar/DATA/DeepLabCut/projects/05_TerritoryDetectionP2-Vivek-2023-07-10/dlc-models/iteration-0/05_TerritoryDetectionP2Jul10-trainset90shuffle1\n",
      "Processing...  /media/vsridhar/T7/Work/Data/BlackbuckAnnotations/P2/downsampled/SSD6/20230312/SE_Lek1/P2D3/20230312_SE_Lek1_P2D3_DJI_0299.MP4\n",
      "Tracklets already computed /home/vsridhar/DATA/DeepLabCut/projects/05_TerritoryDetectionP2-Vivek-2023-07-10/output/SSD6/20230312/SE_Lek1/P2D3/20230312_SE_Lek1_P2D3_DJI_0299DLC_dlcrnetms5_05_TerritoryDetectionP2Jul10shuffle1_50000_el.pickle\n",
      "Set overwrite = True to overwrite.\n",
      "The tracklets were created (i.e., under the hood deeplabcut.convert_detections2tracklets was run). Now you can 'refine_tracklets' in the GUI, or run 'deeplabcut.stitch_tracklets'.\n",
      "Processing...  /media/vsridhar/T7/Work/Data/BlackbuckAnnotations/P2/downsampled/SSD6/20230312/SE_Lek1/P2D3/20230312_SE_Lek1_P2D3_DJI_0299.MP4\n"
     ]
    },
    {
     "name": "stderr",
     "output_type": "stream",
     "text": [
      "/home/vsridhar/.local/lib/python3.10/site-packages/deeplabcut/refine_training_dataset/stitch.py:138: FutureWarning: Unlike other reduction functions (e.g. `skew`, `kurtosis`), the default behavior of `mode` typically preserves the axis it acts along. In SciPy 1.11.0, this behavior will change: the default value of `keepdims` will become False, the `axis` over which the statistic is taken will be eliminated, and the value None will no longer be accepted. Set `keepdims` to True or False to avoid this warning.\n",
      "  return mode(self.data[..., 3], axis=None, nan_policy=\"omit\")[0][0]\n",
      "100%|████████████████████████████████████████████████████████████████████████████████████| 35/35 [00:00<00:00, 120923.10it/s]\n",
      "/home/vsridhar/.local/lib/python3.10/site-packages/deeplabcut/refine_training_dataset/stitch.py:690: UserWarning: No optimal solution found. Employing black magic...\n",
      "  warnings.warn(\"No optimal solution found. Employing black magic...\")\n",
      "/home/vsridhar/.local/lib/python3.10/site-packages/deeplabcut/refine_training_dataset/stitch.py:763: UserWarning: Only 35 tracks could be reconstructed.\n",
      "  warnings.warn(f\"Only {len(self.paths)} tracks could be reconstructed.\")\n"
     ]
    },
    {
     "name": "stdout",
     "output_type": "stream",
     "text": [
      "Starting to analyze %  /media/vsridhar/T7/Work/Data/BlackbuckAnnotations/P2/downsampled/SSD6/20230312/SE_Lek1/P2D3/20230312_SE_Lek1_P2D3_DJI_0302.MP4\n",
      "Video already analyzed! /home/vsridhar/DATA/DeepLabCut/projects/05_TerritoryDetectionP2-Vivek-2023-07-10/output/SSD6/20230312/SE_Lek1/P2D3/20230312_SE_Lek1_P2D3_DJI_0302DLC_dlcrnetms5_05_TerritoryDetectionP2Jul10shuffle1_50000.h5\n",
      "Using snapshot-50000 for model /home/vsridhar/DATA/DeepLabCut/projects/05_TerritoryDetectionP2-Vivek-2023-07-10/dlc-models/iteration-0/05_TerritoryDetectionP2Jul10-trainset90shuffle1\n",
      "Processing...  /media/vsridhar/T7/Work/Data/BlackbuckAnnotations/P2/downsampled/SSD6/20230312/SE_Lek1/P2D3/20230312_SE_Lek1_P2D3_DJI_0302.MP4\n",
      "Tracklets already computed /home/vsridhar/DATA/DeepLabCut/projects/05_TerritoryDetectionP2-Vivek-2023-07-10/output/SSD6/20230312/SE_Lek1/P2D3/20230312_SE_Lek1_P2D3_DJI_0302DLC_dlcrnetms5_05_TerritoryDetectionP2Jul10shuffle1_50000_el.pickle\n",
      "Set overwrite = True to overwrite.\n",
      "The tracklets were created (i.e., under the hood deeplabcut.convert_detections2tracklets was run). Now you can 'refine_tracklets' in the GUI, or run 'deeplabcut.stitch_tracklets'.\n",
      "Processing...  /media/vsridhar/T7/Work/Data/BlackbuckAnnotations/P2/downsampled/SSD6/20230312/SE_Lek1/P2D3/20230312_SE_Lek1_P2D3_DJI_0302.MP4\n"
     ]
    },
    {
     "name": "stderr",
     "output_type": "stream",
     "text": [
      "/home/vsridhar/.local/lib/python3.10/site-packages/deeplabcut/refine_training_dataset/stitch.py:138: FutureWarning: Unlike other reduction functions (e.g. `skew`, `kurtosis`), the default behavior of `mode` typically preserves the axis it acts along. In SciPy 1.11.0, this behavior will change: the default value of `keepdims` will become False, the `axis` over which the statistic is taken will be eliminated, and the value None will no longer be accepted. Set `keepdims` to True or False to avoid this warning.\n",
      "  return mode(self.data[..., 3], axis=None, nan_policy=\"omit\")[0][0]\n",
      "100%|█████████████████████████████████████████████████████████████████████████████████████| 47/47 [00:00<00:00, 19120.49it/s]\n",
      "/home/vsridhar/.local/lib/python3.10/site-packages/deeplabcut/refine_training_dataset/stitch.py:690: UserWarning: No optimal solution found. Employing black magic...\n",
      "  warnings.warn(\"No optimal solution found. Employing black magic...\")\n",
      "/home/vsridhar/.local/lib/python3.10/site-packages/deeplabcut/refine_training_dataset/stitch.py:763: UserWarning: Only 47 tracks could be reconstructed.\n",
      "  warnings.warn(f\"Only {len(self.paths)} tracks could be reconstructed.\")\n"
     ]
    },
    {
     "name": "stdout",
     "output_type": "stream",
     "text": [
      "Starting to analyze %  /media/vsridhar/T7/Work/Data/BlackbuckAnnotations/P2/downsampled/SSD6/20230312/SE_Lek1/P2D3/20230312_SE_Lek1_P2D3_DJI_0296.MP4\n",
      "Video already analyzed! /home/vsridhar/DATA/DeepLabCut/projects/05_TerritoryDetectionP2-Vivek-2023-07-10/output/SSD6/20230312/SE_Lek1/P2D3/20230312_SE_Lek1_P2D3_DJI_0296DLC_dlcrnetms5_05_TerritoryDetectionP2Jul10shuffle1_50000.h5\n",
      "Using snapshot-50000 for model /home/vsridhar/DATA/DeepLabCut/projects/05_TerritoryDetectionP2-Vivek-2023-07-10/dlc-models/iteration-0/05_TerritoryDetectionP2Jul10-trainset90shuffle1\n",
      "Processing...  /media/vsridhar/T7/Work/Data/BlackbuckAnnotations/P2/downsampled/SSD6/20230312/SE_Lek1/P2D3/20230312_SE_Lek1_P2D3_DJI_0296.MP4\n",
      "Tracklets already computed /home/vsridhar/DATA/DeepLabCut/projects/05_TerritoryDetectionP2-Vivek-2023-07-10/output/SSD6/20230312/SE_Lek1/P2D3/20230312_SE_Lek1_P2D3_DJI_0296DLC_dlcrnetms5_05_TerritoryDetectionP2Jul10shuffle1_50000_el.pickle\n",
      "Set overwrite = True to overwrite.\n",
      "The tracklets were created (i.e., under the hood deeplabcut.convert_detections2tracklets was run). Now you can 'refine_tracklets' in the GUI, or run 'deeplabcut.stitch_tracklets'.\n",
      "Processing...  /media/vsridhar/T7/Work/Data/BlackbuckAnnotations/P2/downsampled/SSD6/20230312/SE_Lek1/P2D3/20230312_SE_Lek1_P2D3_DJI_0296.MP4\n"
     ]
    },
    {
     "name": "stderr",
     "output_type": "stream",
     "text": [
      "/home/vsridhar/.local/lib/python3.10/site-packages/deeplabcut/refine_training_dataset/stitch.py:138: FutureWarning: Unlike other reduction functions (e.g. `skew`, `kurtosis`), the default behavior of `mode` typically preserves the axis it acts along. In SciPy 1.11.0, this behavior will change: the default value of `keepdims` will become False, the `axis` over which the statistic is taken will be eliminated, and the value None will no longer be accepted. Set `keepdims` to True or False to avoid this warning.\n",
      "  return mode(self.data[..., 3], axis=None, nan_policy=\"omit\")[0][0]\n",
      "100%|████████████████████████████████████████████████████████████████████████████████████| 121/121 [00:00<00:00, 2002.01it/s]\n"
     ]
    },
    {
     "name": "stdout",
     "output_type": "stream",
     "text": [
      "Starting to analyze %  /media/vsridhar/T7/Work/Data/BlackbuckAnnotations/P2/downsampled/SSD6/20230312/SE_Lek1/P2D3/20230312_SE_Lek1_P2D3_DJI_0294.MP4\n",
      "Video already analyzed! /home/vsridhar/DATA/DeepLabCut/projects/05_TerritoryDetectionP2-Vivek-2023-07-10/output/SSD6/20230312/SE_Lek1/P2D3/20230312_SE_Lek1_P2D3_DJI_0294DLC_dlcrnetms5_05_TerritoryDetectionP2Jul10shuffle1_50000.h5\n",
      "Using snapshot-50000 for model /home/vsridhar/DATA/DeepLabCut/projects/05_TerritoryDetectionP2-Vivek-2023-07-10/dlc-models/iteration-0/05_TerritoryDetectionP2Jul10-trainset90shuffle1\n",
      "Processing...  /media/vsridhar/T7/Work/Data/BlackbuckAnnotations/P2/downsampled/SSD6/20230312/SE_Lek1/P2D3/20230312_SE_Lek1_P2D3_DJI_0294.MP4\n",
      "Tracklets already computed /home/vsridhar/DATA/DeepLabCut/projects/05_TerritoryDetectionP2-Vivek-2023-07-10/output/SSD6/20230312/SE_Lek1/P2D3/20230312_SE_Lek1_P2D3_DJI_0294DLC_dlcrnetms5_05_TerritoryDetectionP2Jul10shuffle1_50000_el.pickle\n",
      "Set overwrite = True to overwrite.\n",
      "The tracklets were created (i.e., under the hood deeplabcut.convert_detections2tracklets was run). Now you can 'refine_tracklets' in the GUI, or run 'deeplabcut.stitch_tracklets'.\n",
      "Processing...  /media/vsridhar/T7/Work/Data/BlackbuckAnnotations/P2/downsampled/SSD6/20230312/SE_Lek1/P2D3/20230312_SE_Lek1_P2D3_DJI_0294.MP4\n"
     ]
    },
    {
     "name": "stderr",
     "output_type": "stream",
     "text": [
      "/home/vsridhar/.local/lib/python3.10/site-packages/deeplabcut/refine_training_dataset/stitch.py:138: FutureWarning: Unlike other reduction functions (e.g. `skew`, `kurtosis`), the default behavior of `mode` typically preserves the axis it acts along. In SciPy 1.11.0, this behavior will change: the default value of `keepdims` will become False, the `axis` over which the statistic is taken will be eliminated, and the value None will no longer be accepted. Set `keepdims` to True or False to avoid this warning.\n",
      "  return mode(self.data[..., 3], axis=None, nan_policy=\"omit\")[0][0]\n",
      "100%|████████████████████████████████████████████████████████████████████████████████████| 124/124 [00:00<00:00, 3733.81it/s]\n"
     ]
    },
    {
     "name": "stdout",
     "output_type": "stream",
     "text": [
      "Starting to analyze %  /media/vsridhar/T7/Work/Data/BlackbuckAnnotations/P2/downsampled/SSD6/20230312/SE_Lek1/P2D3/20230312_SE_Lek1_P2D3_DJI_0300.MP4\n",
      "Video already analyzed! /home/vsridhar/DATA/DeepLabCut/projects/05_TerritoryDetectionP2-Vivek-2023-07-10/output/SSD6/20230312/SE_Lek1/P2D3/20230312_SE_Lek1_P2D3_DJI_0300DLC_dlcrnetms5_05_TerritoryDetectionP2Jul10shuffle1_50000.h5\n",
      "Using snapshot-50000 for model /home/vsridhar/DATA/DeepLabCut/projects/05_TerritoryDetectionP2-Vivek-2023-07-10/dlc-models/iteration-0/05_TerritoryDetectionP2Jul10-trainset90shuffle1\n",
      "Processing...  /media/vsridhar/T7/Work/Data/BlackbuckAnnotations/P2/downsampled/SSD6/20230312/SE_Lek1/P2D3/20230312_SE_Lek1_P2D3_DJI_0300.MP4\n",
      "Tracklets already computed /home/vsridhar/DATA/DeepLabCut/projects/05_TerritoryDetectionP2-Vivek-2023-07-10/output/SSD6/20230312/SE_Lek1/P2D3/20230312_SE_Lek1_P2D3_DJI_0300DLC_dlcrnetms5_05_TerritoryDetectionP2Jul10shuffle1_50000_el.pickle\n",
      "Set overwrite = True to overwrite.\n",
      "The tracklets were created (i.e., under the hood deeplabcut.convert_detections2tracklets was run). Now you can 'refine_tracklets' in the GUI, or run 'deeplabcut.stitch_tracklets'.\n",
      "Processing...  /media/vsridhar/T7/Work/Data/BlackbuckAnnotations/P2/downsampled/SSD6/20230312/SE_Lek1/P2D3/20230312_SE_Lek1_P2D3_DJI_0300.MP4\n"
     ]
    },
    {
     "name": "stderr",
     "output_type": "stream",
     "text": [
      "/home/vsridhar/.local/lib/python3.10/site-packages/deeplabcut/refine_training_dataset/stitch.py:138: FutureWarning: Unlike other reduction functions (e.g. `skew`, `kurtosis`), the default behavior of `mode` typically preserves the axis it acts along. In SciPy 1.11.0, this behavior will change: the default value of `keepdims` will become False, the `axis` over which the statistic is taken will be eliminated, and the value None will no longer be accepted. Set `keepdims` to True or False to avoid this warning.\n",
      "  return mode(self.data[..., 3], axis=None, nan_policy=\"omit\")[0][0]\n",
      "100%|█████████████████████████████████████████████████████████████████████████████████████| 150/150 [00:00<00:00, 943.23it/s]\n"
     ]
    },
    {
     "name": "stdout",
     "output_type": "stream",
     "text": [
      "Starting to analyze %  /media/vsridhar/T7/Work/Data/BlackbuckAnnotations/P2/downsampled/SSD6/20230312/SE_Lek1/P2D3/20230312_SE_Lek1_P2D3_DJI_0308.MP4\n",
      "Video already analyzed! /home/vsridhar/DATA/DeepLabCut/projects/05_TerritoryDetectionP2-Vivek-2023-07-10/output/SSD6/20230312/SE_Lek1/P2D3/20230312_SE_Lek1_P2D3_DJI_0308DLC_dlcrnetms5_05_TerritoryDetectionP2Jul10shuffle1_50000.h5\n",
      "Using snapshot-50000 for model /home/vsridhar/DATA/DeepLabCut/projects/05_TerritoryDetectionP2-Vivek-2023-07-10/dlc-models/iteration-0/05_TerritoryDetectionP2Jul10-trainset90shuffle1\n",
      "Processing...  /media/vsridhar/T7/Work/Data/BlackbuckAnnotations/P2/downsampled/SSD6/20230312/SE_Lek1/P2D3/20230312_SE_Lek1_P2D3_DJI_0308.MP4\n",
      "Tracklets already computed /home/vsridhar/DATA/DeepLabCut/projects/05_TerritoryDetectionP2-Vivek-2023-07-10/output/SSD6/20230312/SE_Lek1/P2D3/20230312_SE_Lek1_P2D3_DJI_0308DLC_dlcrnetms5_05_TerritoryDetectionP2Jul10shuffle1_50000_el.pickle\n",
      "Set overwrite = True to overwrite.\n",
      "The tracklets were created (i.e., under the hood deeplabcut.convert_detections2tracklets was run). Now you can 'refine_tracklets' in the GUI, or run 'deeplabcut.stitch_tracklets'.\n",
      "Processing...  /media/vsridhar/T7/Work/Data/BlackbuckAnnotations/P2/downsampled/SSD6/20230312/SE_Lek1/P2D3/20230312_SE_Lek1_P2D3_DJI_0308.MP4\n"
     ]
    },
    {
     "name": "stderr",
     "output_type": "stream",
     "text": [
      "/home/vsridhar/.local/lib/python3.10/site-packages/deeplabcut/refine_training_dataset/stitch.py:138: FutureWarning: Unlike other reduction functions (e.g. `skew`, `kurtosis`), the default behavior of `mode` typically preserves the axis it acts along. In SciPy 1.11.0, this behavior will change: the default value of `keepdims` will become False, the `axis` over which the statistic is taken will be eliminated, and the value None will no longer be accepted. Set `keepdims` to True or False to avoid this warning.\n",
      "  return mode(self.data[..., 3], axis=None, nan_policy=\"omit\")[0][0]\n",
      "100%|█████████████████████████████████████████████████████████████████████████████████████| 45/45 [00:00<00:00, 19939.12it/s]\n",
      "/home/vsridhar/.local/lib/python3.10/site-packages/deeplabcut/refine_training_dataset/stitch.py:690: UserWarning: No optimal solution found. Employing black magic...\n",
      "  warnings.warn(\"No optimal solution found. Employing black magic...\")\n",
      "/home/vsridhar/.local/lib/python3.10/site-packages/deeplabcut/refine_training_dataset/stitch.py:763: UserWarning: Only 45 tracks could be reconstructed.\n",
      "  warnings.warn(f\"Only {len(self.paths)} tracks could be reconstructed.\")\n"
     ]
    },
    {
     "name": "stdout",
     "output_type": "stream",
     "text": [
      "Starting to analyze %  /media/vsridhar/T7/Work/Data/BlackbuckAnnotations/P2/downsampled/SSD6/20230312/SE_Lek1/P2D3/20230312_SE_Lek1_P2D3_DJI_0292.MP4\n",
      "Video already analyzed! /home/vsridhar/DATA/DeepLabCut/projects/05_TerritoryDetectionP2-Vivek-2023-07-10/output/SSD6/20230312/SE_Lek1/P2D3/20230312_SE_Lek1_P2D3_DJI_0292DLC_dlcrnetms5_05_TerritoryDetectionP2Jul10shuffle1_50000.h5\n",
      "Using snapshot-50000 for model /home/vsridhar/DATA/DeepLabCut/projects/05_TerritoryDetectionP2-Vivek-2023-07-10/dlc-models/iteration-0/05_TerritoryDetectionP2Jul10-trainset90shuffle1\n",
      "Processing...  /media/vsridhar/T7/Work/Data/BlackbuckAnnotations/P2/downsampled/SSD6/20230312/SE_Lek1/P2D3/20230312_SE_Lek1_P2D3_DJI_0292.MP4\n",
      "Tracklets already computed /home/vsridhar/DATA/DeepLabCut/projects/05_TerritoryDetectionP2-Vivek-2023-07-10/output/SSD6/20230312/SE_Lek1/P2D3/20230312_SE_Lek1_P2D3_DJI_0292DLC_dlcrnetms5_05_TerritoryDetectionP2Jul10shuffle1_50000_el.pickle\n",
      "Set overwrite = True to overwrite.\n",
      "The tracklets were created (i.e., under the hood deeplabcut.convert_detections2tracklets was run). Now you can 'refine_tracklets' in the GUI, or run 'deeplabcut.stitch_tracklets'.\n",
      "Processing...  /media/vsridhar/T7/Work/Data/BlackbuckAnnotations/P2/downsampled/SSD6/20230312/SE_Lek1/P2D3/20230312_SE_Lek1_P2D3_DJI_0292.MP4\n"
     ]
    },
    {
     "name": "stderr",
     "output_type": "stream",
     "text": [
      "/home/vsridhar/.local/lib/python3.10/site-packages/deeplabcut/refine_training_dataset/stitch.py:138: FutureWarning: Unlike other reduction functions (e.g. `skew`, `kurtosis`), the default behavior of `mode` typically preserves the axis it acts along. In SciPy 1.11.0, this behavior will change: the default value of `keepdims` will become False, the `axis` over which the statistic is taken will be eliminated, and the value None will no longer be accepted. Set `keepdims` to True or False to avoid this warning.\n",
      "  return mode(self.data[..., 3], axis=None, nan_policy=\"omit\")[0][0]\n",
      "100%|████████████████████████████████████████████████████████████████████████████████████| 215/215 [00:00<00:00, 4464.59it/s]\n"
     ]
    },
    {
     "name": "stdout",
     "output_type": "stream",
     "text": [
      "Starting to analyze %  /media/vsridhar/T7/Work/Data/BlackbuckAnnotations/P2/downsampled/SSD6/20230312/SE_Lek1/P2D3/20230312_SE_Lek1_P2D3_DJI_0306.MP4\n",
      "Video already analyzed! /home/vsridhar/DATA/DeepLabCut/projects/05_TerritoryDetectionP2-Vivek-2023-07-10/output/SSD6/20230312/SE_Lek1/P2D3/20230312_SE_Lek1_P2D3_DJI_0306DLC_dlcrnetms5_05_TerritoryDetectionP2Jul10shuffle1_50000.h5\n",
      "Using snapshot-50000 for model /home/vsridhar/DATA/DeepLabCut/projects/05_TerritoryDetectionP2-Vivek-2023-07-10/dlc-models/iteration-0/05_TerritoryDetectionP2Jul10-trainset90shuffle1\n",
      "Processing...  /media/vsridhar/T7/Work/Data/BlackbuckAnnotations/P2/downsampled/SSD6/20230312/SE_Lek1/P2D3/20230312_SE_Lek1_P2D3_DJI_0306.MP4\n",
      "Tracklets already computed /home/vsridhar/DATA/DeepLabCut/projects/05_TerritoryDetectionP2-Vivek-2023-07-10/output/SSD6/20230312/SE_Lek1/P2D3/20230312_SE_Lek1_P2D3_DJI_0306DLC_dlcrnetms5_05_TerritoryDetectionP2Jul10shuffle1_50000_el.pickle\n",
      "Set overwrite = True to overwrite.\n",
      "The tracklets were created (i.e., under the hood deeplabcut.convert_detections2tracklets was run). Now you can 'refine_tracklets' in the GUI, or run 'deeplabcut.stitch_tracklets'.\n",
      "Processing...  /media/vsridhar/T7/Work/Data/BlackbuckAnnotations/P2/downsampled/SSD6/20230312/SE_Lek1/P2D3/20230312_SE_Lek1_P2D3_DJI_0306.MP4\n"
     ]
    },
    {
     "name": "stderr",
     "output_type": "stream",
     "text": [
      "/home/vsridhar/.local/lib/python3.10/site-packages/deeplabcut/refine_training_dataset/stitch.py:138: FutureWarning: Unlike other reduction functions (e.g. `skew`, `kurtosis`), the default behavior of `mode` typically preserves the axis it acts along. In SciPy 1.11.0, this behavior will change: the default value of `keepdims` will become False, the `axis` over which the statistic is taken will be eliminated, and the value None will no longer be accepted. Set `keepdims` to True or False to avoid this warning.\n",
      "  return mode(self.data[..., 3], axis=None, nan_policy=\"omit\")[0][0]\n",
      "100%|██████████████████████████████████████████████████████████████████████████████████████| 63/63 [00:00<00:00, 5366.61it/s]\n"
     ]
    },
    {
     "name": "stdout",
     "output_type": "stream",
     "text": [
      "Starting to analyze %  /media/vsridhar/T7/Work/Data/BlackbuckAnnotations/P2/downsampled/SSD6/20230312/SE_Lek1/P2D3/20230312_SE_Lek1_P2D3_DJI_0293.MP4\n",
      "Video already analyzed! /home/vsridhar/DATA/DeepLabCut/projects/05_TerritoryDetectionP2-Vivek-2023-07-10/output/SSD6/20230312/SE_Lek1/P2D3/20230312_SE_Lek1_P2D3_DJI_0293DLC_dlcrnetms5_05_TerritoryDetectionP2Jul10shuffle1_50000.h5\n",
      "Using snapshot-50000 for model /home/vsridhar/DATA/DeepLabCut/projects/05_TerritoryDetectionP2-Vivek-2023-07-10/dlc-models/iteration-0/05_TerritoryDetectionP2Jul10-trainset90shuffle1\n",
      "Processing...  /media/vsridhar/T7/Work/Data/BlackbuckAnnotations/P2/downsampled/SSD6/20230312/SE_Lek1/P2D3/20230312_SE_Lek1_P2D3_DJI_0293.MP4\n",
      "Tracklets already computed /home/vsridhar/DATA/DeepLabCut/projects/05_TerritoryDetectionP2-Vivek-2023-07-10/output/SSD6/20230312/SE_Lek1/P2D3/20230312_SE_Lek1_P2D3_DJI_0293DLC_dlcrnetms5_05_TerritoryDetectionP2Jul10shuffle1_50000_el.pickle\n",
      "Set overwrite = True to overwrite.\n",
      "The tracklets were created (i.e., under the hood deeplabcut.convert_detections2tracklets was run). Now you can 'refine_tracklets' in the GUI, or run 'deeplabcut.stitch_tracklets'.\n",
      "Processing...  /media/vsridhar/T7/Work/Data/BlackbuckAnnotations/P2/downsampled/SSD6/20230312/SE_Lek1/P2D3/20230312_SE_Lek1_P2D3_DJI_0293.MP4\n"
     ]
    },
    {
     "name": "stderr",
     "output_type": "stream",
     "text": [
      "/home/vsridhar/.local/lib/python3.10/site-packages/deeplabcut/refine_training_dataset/stitch.py:138: FutureWarning: Unlike other reduction functions (e.g. `skew`, `kurtosis`), the default behavior of `mode` typically preserves the axis it acts along. In SciPy 1.11.0, this behavior will change: the default value of `keepdims` will become False, the `axis` over which the statistic is taken will be eliminated, and the value None will no longer be accepted. Set `keepdims` to True or False to avoid this warning.\n",
      "  return mode(self.data[..., 3], axis=None, nan_policy=\"omit\")[0][0]\n",
      "100%|████████████████████████████████████████████████████████████████████████████████████| 116/116 [00:00<00:00, 4454.67it/s]\n"
     ]
    },
    {
     "name": "stdout",
     "output_type": "stream",
     "text": [
      "Starting to analyze %  /media/vsridhar/T7/Work/Data/BlackbuckAnnotations/P2/downsampled/SSD6/20230312/SE_Lek1/P2D3/20230312_SE_Lek1_P2D3_DJI_0289.MP4\n",
      "Video already analyzed! /home/vsridhar/DATA/DeepLabCut/projects/05_TerritoryDetectionP2-Vivek-2023-07-10/output/SSD6/20230312/SE_Lek1/P2D3/20230312_SE_Lek1_P2D3_DJI_0289DLC_dlcrnetms5_05_TerritoryDetectionP2Jul10shuffle1_50000.h5\n",
      "Using snapshot-50000 for model /home/vsridhar/DATA/DeepLabCut/projects/05_TerritoryDetectionP2-Vivek-2023-07-10/dlc-models/iteration-0/05_TerritoryDetectionP2Jul10-trainset90shuffle1\n",
      "Processing...  /media/vsridhar/T7/Work/Data/BlackbuckAnnotations/P2/downsampled/SSD6/20230312/SE_Lek1/P2D3/20230312_SE_Lek1_P2D3_DJI_0289.MP4\n",
      "Tracklets already computed /home/vsridhar/DATA/DeepLabCut/projects/05_TerritoryDetectionP2-Vivek-2023-07-10/output/SSD6/20230312/SE_Lek1/P2D3/20230312_SE_Lek1_P2D3_DJI_0289DLC_dlcrnetms5_05_TerritoryDetectionP2Jul10shuffle1_50000_el.pickle\n",
      "Set overwrite = True to overwrite.\n",
      "The tracklets were created (i.e., under the hood deeplabcut.convert_detections2tracklets was run). Now you can 'refine_tracklets' in the GUI, or run 'deeplabcut.stitch_tracklets'.\n",
      "Processing...  /media/vsridhar/T7/Work/Data/BlackbuckAnnotations/P2/downsampled/SSD6/20230312/SE_Lek1/P2D3/20230312_SE_Lek1_P2D3_DJI_0289.MP4\n"
     ]
    },
    {
     "name": "stderr",
     "output_type": "stream",
     "text": [
      "/home/vsridhar/.local/lib/python3.10/site-packages/deeplabcut/refine_training_dataset/stitch.py:138: FutureWarning: Unlike other reduction functions (e.g. `skew`, `kurtosis`), the default behavior of `mode` typically preserves the axis it acts along. In SciPy 1.11.0, this behavior will change: the default value of `keepdims` will become False, the `axis` over which the statistic is taken will be eliminated, and the value None will no longer be accepted. Set `keepdims` to True or False to avoid this warning.\n",
      "  return mode(self.data[..., 3], axis=None, nan_policy=\"omit\")[0][0]\n",
      "100%|██████████████████████████████████████████████████████████████████████████████████████| 55/55 [00:00<00:00, 9136.83it/s]\n",
      "/home/vsridhar/.local/lib/python3.10/site-packages/deeplabcut/refine_training_dataset/stitch.py:690: UserWarning: No optimal solution found. Employing black magic...\n",
      "  warnings.warn(\"No optimal solution found. Employing black magic...\")\n",
      "/home/vsridhar/.local/lib/python3.10/site-packages/deeplabcut/refine_training_dataset/stitch.py:763: UserWarning: Only 55 tracks could be reconstructed.\n",
      "  warnings.warn(f\"Only {len(self.paths)} tracks could be reconstructed.\")\n"
     ]
    },
    {
     "name": "stdout",
     "output_type": "stream",
     "text": [
      "Starting to analyze %  /media/vsridhar/T7/Work/Data/BlackbuckAnnotations/P2/downsampled/SSD6/20230312/SE_Lek1/P2D3/20230312_SE_Lek1_P2D3_DJI_0297.MP4\n",
      "Video already analyzed! /home/vsridhar/DATA/DeepLabCut/projects/05_TerritoryDetectionP2-Vivek-2023-07-10/output/SSD6/20230312/SE_Lek1/P2D3/20230312_SE_Lek1_P2D3_DJI_0297DLC_dlcrnetms5_05_TerritoryDetectionP2Jul10shuffle1_50000.h5\n",
      "Using snapshot-50000 for model /home/vsridhar/DATA/DeepLabCut/projects/05_TerritoryDetectionP2-Vivek-2023-07-10/dlc-models/iteration-0/05_TerritoryDetectionP2Jul10-trainset90shuffle1\n",
      "Processing...  /media/vsridhar/T7/Work/Data/BlackbuckAnnotations/P2/downsampled/SSD6/20230312/SE_Lek1/P2D3/20230312_SE_Lek1_P2D3_DJI_0297.MP4\n",
      "Tracklets already computed /home/vsridhar/DATA/DeepLabCut/projects/05_TerritoryDetectionP2-Vivek-2023-07-10/output/SSD6/20230312/SE_Lek1/P2D3/20230312_SE_Lek1_P2D3_DJI_0297DLC_dlcrnetms5_05_TerritoryDetectionP2Jul10shuffle1_50000_el.pickle\n",
      "Set overwrite = True to overwrite.\n",
      "The tracklets were created (i.e., under the hood deeplabcut.convert_detections2tracklets was run). Now you can 'refine_tracklets' in the GUI, or run 'deeplabcut.stitch_tracklets'.\n",
      "Processing...  /media/vsridhar/T7/Work/Data/BlackbuckAnnotations/P2/downsampled/SSD6/20230312/SE_Lek1/P2D3/20230312_SE_Lek1_P2D3_DJI_0297.MP4\n"
     ]
    },
    {
     "name": "stderr",
     "output_type": "stream",
     "text": [
      "/home/vsridhar/.local/lib/python3.10/site-packages/deeplabcut/refine_training_dataset/stitch.py:138: FutureWarning: Unlike other reduction functions (e.g. `skew`, `kurtosis`), the default behavior of `mode` typically preserves the axis it acts along. In SciPy 1.11.0, this behavior will change: the default value of `keepdims` will become False, the `axis` over which the statistic is taken will be eliminated, and the value None will no longer be accepted. Set `keepdims` to True or False to avoid this warning.\n",
      "  return mode(self.data[..., 3], axis=None, nan_policy=\"omit\")[0][0]\n",
      "100%|█████████████████████████████████████████████████████████████████████████████████████| 48/48 [00:00<00:00, 14352.79it/s]\n",
      "/home/vsridhar/.local/lib/python3.10/site-packages/deeplabcut/refine_training_dataset/stitch.py:690: UserWarning: No optimal solution found. Employing black magic...\n",
      "  warnings.warn(\"No optimal solution found. Employing black magic...\")\n",
      "/home/vsridhar/.local/lib/python3.10/site-packages/deeplabcut/refine_training_dataset/stitch.py:763: UserWarning: Only 48 tracks could be reconstructed.\n",
      "  warnings.warn(f\"Only {len(self.paths)} tracks could be reconstructed.\")\n"
     ]
    },
    {
     "name": "stdout",
     "output_type": "stream",
     "text": [
      "Starting to analyze %  /media/vsridhar/T7/Work/Data/BlackbuckAnnotations/P2/downsampled/SSD6/20230312/SE_Lek1/P2D3/20230312_SE_Lek1_P2D3_DJI_0309.MP4\n",
      "Video already analyzed! /home/vsridhar/DATA/DeepLabCut/projects/05_TerritoryDetectionP2-Vivek-2023-07-10/output/SSD6/20230312/SE_Lek1/P2D3/20230312_SE_Lek1_P2D3_DJI_0309DLC_dlcrnetms5_05_TerritoryDetectionP2Jul10shuffle1_50000.h5\n",
      "Using snapshot-50000 for model /home/vsridhar/DATA/DeepLabCut/projects/05_TerritoryDetectionP2-Vivek-2023-07-10/dlc-models/iteration-0/05_TerritoryDetectionP2Jul10-trainset90shuffle1\n",
      "Processing...  /media/vsridhar/T7/Work/Data/BlackbuckAnnotations/P2/downsampled/SSD6/20230312/SE_Lek1/P2D3/20230312_SE_Lek1_P2D3_DJI_0309.MP4\n",
      "Tracklets already computed /home/vsridhar/DATA/DeepLabCut/projects/05_TerritoryDetectionP2-Vivek-2023-07-10/output/SSD6/20230312/SE_Lek1/P2D3/20230312_SE_Lek1_P2D3_DJI_0309DLC_dlcrnetms5_05_TerritoryDetectionP2Jul10shuffle1_50000_el.pickle\n",
      "Set overwrite = True to overwrite.\n",
      "The tracklets were created (i.e., under the hood deeplabcut.convert_detections2tracklets was run). Now you can 'refine_tracklets' in the GUI, or run 'deeplabcut.stitch_tracklets'.\n",
      "Processing...  /media/vsridhar/T7/Work/Data/BlackbuckAnnotations/P2/downsampled/SSD6/20230312/SE_Lek1/P2D3/20230312_SE_Lek1_P2D3_DJI_0309.MP4\n"
     ]
    },
    {
     "name": "stderr",
     "output_type": "stream",
     "text": [
      "/home/vsridhar/.local/lib/python3.10/site-packages/deeplabcut/refine_training_dataset/stitch.py:138: FutureWarning: Unlike other reduction functions (e.g. `skew`, `kurtosis`), the default behavior of `mode` typically preserves the axis it acts along. In SciPy 1.11.0, this behavior will change: the default value of `keepdims` will become False, the `axis` over which the statistic is taken will be eliminated, and the value None will no longer be accepted. Set `keepdims` to True or False to avoid this warning.\n",
      "  return mode(self.data[..., 3], axis=None, nan_policy=\"omit\")[0][0]\n",
      "100%|█████████████████████████████████████████████████████████████████████████████████████| 60/60 [00:00<00:00, 13559.90it/s]\n"
     ]
    },
    {
     "name": "stdout",
     "output_type": "stream",
     "text": [
      "Starting to analyze %  /media/vsridhar/T7/Work/Data/BlackbuckAnnotations/P2/downsampled/SSD6/20230312/SE_Lek1/P2D3/20230312_SE_Lek1_P2D3_DJI_0303.MP4\n",
      "Video already analyzed! /home/vsridhar/DATA/DeepLabCut/projects/05_TerritoryDetectionP2-Vivek-2023-07-10/output/SSD6/20230312/SE_Lek1/P2D3/20230312_SE_Lek1_P2D3_DJI_0303DLC_dlcrnetms5_05_TerritoryDetectionP2Jul10shuffle1_50000.h5\n",
      "Using snapshot-50000 for model /home/vsridhar/DATA/DeepLabCut/projects/05_TerritoryDetectionP2-Vivek-2023-07-10/dlc-models/iteration-0/05_TerritoryDetectionP2Jul10-trainset90shuffle1\n",
      "Processing...  /media/vsridhar/T7/Work/Data/BlackbuckAnnotations/P2/downsampled/SSD6/20230312/SE_Lek1/P2D3/20230312_SE_Lek1_P2D3_DJI_0303.MP4\n",
      "Tracklets already computed /home/vsridhar/DATA/DeepLabCut/projects/05_TerritoryDetectionP2-Vivek-2023-07-10/output/SSD6/20230312/SE_Lek1/P2D3/20230312_SE_Lek1_P2D3_DJI_0303DLC_dlcrnetms5_05_TerritoryDetectionP2Jul10shuffle1_50000_el.pickle\n",
      "Set overwrite = True to overwrite.\n",
      "The tracklets were created (i.e., under the hood deeplabcut.convert_detections2tracklets was run). Now you can 'refine_tracklets' in the GUI, or run 'deeplabcut.stitch_tracklets'.\n",
      "Processing...  /media/vsridhar/T7/Work/Data/BlackbuckAnnotations/P2/downsampled/SSD6/20230312/SE_Lek1/P2D3/20230312_SE_Lek1_P2D3_DJI_0303.MP4\n"
     ]
    },
    {
     "name": "stderr",
     "output_type": "stream",
     "text": [
      "/home/vsridhar/.local/lib/python3.10/site-packages/deeplabcut/refine_training_dataset/stitch.py:138: FutureWarning: Unlike other reduction functions (e.g. `skew`, `kurtosis`), the default behavior of `mode` typically preserves the axis it acts along. In SciPy 1.11.0, this behavior will change: the default value of `keepdims` will become False, the `axis` over which the statistic is taken will be eliminated, and the value None will no longer be accepted. Set `keepdims` to True or False to avoid this warning.\n",
      "  return mode(self.data[..., 3], axis=None, nan_policy=\"omit\")[0][0]\n",
      "100%|██████████████████████████████████████████████████████████████████████████████████████| 75/75 [00:00<00:00, 2072.72it/s]\n"
     ]
    },
    {
     "name": "stdout",
     "output_type": "stream",
     "text": [
      "Starting to analyze %  /media/vsridhar/T7/Work/Data/BlackbuckAnnotations/P2/downsampled/SSD6/20230312/SE_Lek1/P2D3/20230312_SE_Lek1_P2D3_DJI_0301.MP4\n",
      "Video already analyzed! /home/vsridhar/DATA/DeepLabCut/projects/05_TerritoryDetectionP2-Vivek-2023-07-10/output/SSD6/20230312/SE_Lek1/P2D3/20230312_SE_Lek1_P2D3_DJI_0301DLC_dlcrnetms5_05_TerritoryDetectionP2Jul10shuffle1_50000.h5\n",
      "Using snapshot-50000 for model /home/vsridhar/DATA/DeepLabCut/projects/05_TerritoryDetectionP2-Vivek-2023-07-10/dlc-models/iteration-0/05_TerritoryDetectionP2Jul10-trainset90shuffle1\n",
      "Processing...  /media/vsridhar/T7/Work/Data/BlackbuckAnnotations/P2/downsampled/SSD6/20230312/SE_Lek1/P2D3/20230312_SE_Lek1_P2D3_DJI_0301.MP4\n",
      "Tracklets already computed /home/vsridhar/DATA/DeepLabCut/projects/05_TerritoryDetectionP2-Vivek-2023-07-10/output/SSD6/20230312/SE_Lek1/P2D3/20230312_SE_Lek1_P2D3_DJI_0301DLC_dlcrnetms5_05_TerritoryDetectionP2Jul10shuffle1_50000_el.pickle\n",
      "Set overwrite = True to overwrite.\n",
      "The tracklets were created (i.e., under the hood deeplabcut.convert_detections2tracklets was run). Now you can 'refine_tracklets' in the GUI, or run 'deeplabcut.stitch_tracklets'.\n",
      "Processing...  /media/vsridhar/T7/Work/Data/BlackbuckAnnotations/P2/downsampled/SSD6/20230312/SE_Lek1/P2D3/20230312_SE_Lek1_P2D3_DJI_0301.MP4\n"
     ]
    },
    {
     "name": "stderr",
     "output_type": "stream",
     "text": [
      "/home/vsridhar/.local/lib/python3.10/site-packages/deeplabcut/refine_training_dataset/stitch.py:138: FutureWarning: Unlike other reduction functions (e.g. `skew`, `kurtosis`), the default behavior of `mode` typically preserves the axis it acts along. In SciPy 1.11.0, this behavior will change: the default value of `keepdims` will become False, the `axis` over which the statistic is taken will be eliminated, and the value None will no longer be accepted. Set `keepdims` to True or False to avoid this warning.\n",
      "  return mode(self.data[..., 3], axis=None, nan_policy=\"omit\")[0][0]\n",
      "100%|█████████████████████████████████████████████████████████████████████████████████████| 50/50 [00:00<00:00, 12792.19it/s]\n",
      "/home/vsridhar/.local/lib/python3.10/site-packages/deeplabcut/refine_training_dataset/stitch.py:690: UserWarning: No optimal solution found. Employing black magic...\n",
      "  warnings.warn(\"No optimal solution found. Employing black magic...\")\n",
      "/home/vsridhar/.local/lib/python3.10/site-packages/deeplabcut/refine_training_dataset/stitch.py:763: UserWarning: Only 50 tracks could be reconstructed.\n",
      "  warnings.warn(f\"Only {len(self.paths)} tracks could be reconstructed.\")\n"
     ]
    },
    {
     "name": "stdout",
     "output_type": "stream",
     "text": [
      "Starting to analyze %  /media/vsridhar/T7/Work/Data/BlackbuckAnnotations/P2/downsampled/SSD6/20230312/SE_Lek1/P2D3/20230312_SE_Lek1_P2D3_DJI_0291.MP4\n",
      "Video already analyzed! /home/vsridhar/DATA/DeepLabCut/projects/05_TerritoryDetectionP2-Vivek-2023-07-10/output/SSD6/20230312/SE_Lek1/P2D3/20230312_SE_Lek1_P2D3_DJI_0291DLC_dlcrnetms5_05_TerritoryDetectionP2Jul10shuffle1_50000.h5\n",
      "Using snapshot-50000 for model /home/vsridhar/DATA/DeepLabCut/projects/05_TerritoryDetectionP2-Vivek-2023-07-10/dlc-models/iteration-0/05_TerritoryDetectionP2Jul10-trainset90shuffle1\n",
      "Processing...  /media/vsridhar/T7/Work/Data/BlackbuckAnnotations/P2/downsampled/SSD6/20230312/SE_Lek1/P2D3/20230312_SE_Lek1_P2D3_DJI_0291.MP4\n",
      "Tracklets already computed /home/vsridhar/DATA/DeepLabCut/projects/05_TerritoryDetectionP2-Vivek-2023-07-10/output/SSD6/20230312/SE_Lek1/P2D3/20230312_SE_Lek1_P2D3_DJI_0291DLC_dlcrnetms5_05_TerritoryDetectionP2Jul10shuffle1_50000_el.pickle\n",
      "Set overwrite = True to overwrite.\n",
      "The tracklets were created (i.e., under the hood deeplabcut.convert_detections2tracklets was run). Now you can 'refine_tracklets' in the GUI, or run 'deeplabcut.stitch_tracklets'.\n",
      "Processing...  /media/vsridhar/T7/Work/Data/BlackbuckAnnotations/P2/downsampled/SSD6/20230312/SE_Lek1/P2D3/20230312_SE_Lek1_P2D3_DJI_0291.MP4\n"
     ]
    },
    {
     "name": "stderr",
     "output_type": "stream",
     "text": [
      "/home/vsridhar/.local/lib/python3.10/site-packages/deeplabcut/refine_training_dataset/stitch.py:138: FutureWarning: Unlike other reduction functions (e.g. `skew`, `kurtosis`), the default behavior of `mode` typically preserves the axis it acts along. In SciPy 1.11.0, this behavior will change: the default value of `keepdims` will become False, the `axis` over which the statistic is taken will be eliminated, and the value None will no longer be accepted. Set `keepdims` to True or False to avoid this warning.\n",
      "  return mode(self.data[..., 3], axis=None, nan_policy=\"omit\")[0][0]\n",
      "100%|████████████████████████████████████████████████████████████████████████████████████| 195/195 [00:00<00:00, 2018.19it/s]\n"
     ]
    },
    {
     "name": "stdout",
     "output_type": "stream",
     "text": [
      "Starting to analyze %  /media/vsridhar/T7/Work/Data/BlackbuckAnnotations/P2/downsampled/SSD6/20230312/SE_Lek1/P2D3/20230312_SE_Lek1_P2D3_DJI_0304.MP4\n",
      "Video already analyzed! /home/vsridhar/DATA/DeepLabCut/projects/05_TerritoryDetectionP2-Vivek-2023-07-10/output/SSD6/20230312/SE_Lek1/P2D3/20230312_SE_Lek1_P2D3_DJI_0304DLC_dlcrnetms5_05_TerritoryDetectionP2Jul10shuffle1_50000.h5\n",
      "Using snapshot-50000 for model /home/vsridhar/DATA/DeepLabCut/projects/05_TerritoryDetectionP2-Vivek-2023-07-10/dlc-models/iteration-0/05_TerritoryDetectionP2Jul10-trainset90shuffle1\n",
      "Processing...  /media/vsridhar/T7/Work/Data/BlackbuckAnnotations/P2/downsampled/SSD6/20230312/SE_Lek1/P2D3/20230312_SE_Lek1_P2D3_DJI_0304.MP4\n",
      "Tracklets already computed /home/vsridhar/DATA/DeepLabCut/projects/05_TerritoryDetectionP2-Vivek-2023-07-10/output/SSD6/20230312/SE_Lek1/P2D3/20230312_SE_Lek1_P2D3_DJI_0304DLC_dlcrnetms5_05_TerritoryDetectionP2Jul10shuffle1_50000_el.pickle\n",
      "Set overwrite = True to overwrite.\n",
      "The tracklets were created (i.e., under the hood deeplabcut.convert_detections2tracklets was run). Now you can 'refine_tracklets' in the GUI, or run 'deeplabcut.stitch_tracklets'.\n",
      "Processing...  /media/vsridhar/T7/Work/Data/BlackbuckAnnotations/P2/downsampled/SSD6/20230312/SE_Lek1/P2D3/20230312_SE_Lek1_P2D3_DJI_0304.MP4\n"
     ]
    },
    {
     "name": "stderr",
     "output_type": "stream",
     "text": [
      "/home/vsridhar/.local/lib/python3.10/site-packages/deeplabcut/refine_training_dataset/stitch.py:138: FutureWarning: Unlike other reduction functions (e.g. `skew`, `kurtosis`), the default behavior of `mode` typically preserves the axis it acts along. In SciPy 1.11.0, this behavior will change: the default value of `keepdims` will become False, the `axis` over which the statistic is taken will be eliminated, and the value None will no longer be accepted. Set `keepdims` to True or False to avoid this warning.\n",
      "  return mode(self.data[..., 3], axis=None, nan_policy=\"omit\")[0][0]\n",
      "100%|█████████████████████████████████████████████████████████████████████████████████████| 39/39 [00:00<00:00, 39030.75it/s]\n",
      "/home/vsridhar/.local/lib/python3.10/site-packages/deeplabcut/refine_training_dataset/stitch.py:690: UserWarning: No optimal solution found. Employing black magic...\n",
      "  warnings.warn(\"No optimal solution found. Employing black magic...\")\n",
      "/home/vsridhar/.local/lib/python3.10/site-packages/deeplabcut/refine_training_dataset/stitch.py:763: UserWarning: Only 39 tracks could be reconstructed.\n",
      "  warnings.warn(f\"Only {len(self.paths)} tracks could be reconstructed.\")\n"
     ]
    },
    {
     "name": "stdout",
     "output_type": "stream",
     "text": [
      "Starting to analyze %  /media/vsridhar/T7/Work/Data/BlackbuckAnnotations/P2/downsampled/SSD6/20230312/SE_Lek1/P2D3/20230312_SE_Lek1_P2D3_DJI_0305.MP4\n",
      "Video already analyzed! /home/vsridhar/DATA/DeepLabCut/projects/05_TerritoryDetectionP2-Vivek-2023-07-10/output/SSD6/20230312/SE_Lek1/P2D3/20230312_SE_Lek1_P2D3_DJI_0305DLC_dlcrnetms5_05_TerritoryDetectionP2Jul10shuffle1_50000.h5\n",
      "Using snapshot-50000 for model /home/vsridhar/DATA/DeepLabCut/projects/05_TerritoryDetectionP2-Vivek-2023-07-10/dlc-models/iteration-0/05_TerritoryDetectionP2Jul10-trainset90shuffle1\n",
      "Processing...  /media/vsridhar/T7/Work/Data/BlackbuckAnnotations/P2/downsampled/SSD6/20230312/SE_Lek1/P2D3/20230312_SE_Lek1_P2D3_DJI_0305.MP4\n",
      "Tracklets already computed /home/vsridhar/DATA/DeepLabCut/projects/05_TerritoryDetectionP2-Vivek-2023-07-10/output/SSD6/20230312/SE_Lek1/P2D3/20230312_SE_Lek1_P2D3_DJI_0305DLC_dlcrnetms5_05_TerritoryDetectionP2Jul10shuffle1_50000_el.pickle\n",
      "Set overwrite = True to overwrite.\n",
      "The tracklets were created (i.e., under the hood deeplabcut.convert_detections2tracklets was run). Now you can 'refine_tracklets' in the GUI, or run 'deeplabcut.stitch_tracklets'.\n",
      "Processing...  /media/vsridhar/T7/Work/Data/BlackbuckAnnotations/P2/downsampled/SSD6/20230312/SE_Lek1/P2D3/20230312_SE_Lek1_P2D3_DJI_0305.MP4\n"
     ]
    },
    {
     "name": "stderr",
     "output_type": "stream",
     "text": [
      "/home/vsridhar/.local/lib/python3.10/site-packages/deeplabcut/refine_training_dataset/stitch.py:138: FutureWarning: Unlike other reduction functions (e.g. `skew`, `kurtosis`), the default behavior of `mode` typically preserves the axis it acts along. In SciPy 1.11.0, this behavior will change: the default value of `keepdims` will become False, the `axis` over which the statistic is taken will be eliminated, and the value None will no longer be accepted. Set `keepdims` to True or False to avoid this warning.\n",
      "  return mode(self.data[..., 3], axis=None, nan_policy=\"omit\")[0][0]\n",
      "100%|████████████████████████████████████████████████████████████████████████████████████| 107/107 [00:00<00:00, 2339.63it/s]\n"
     ]
    },
    {
     "name": "stdout",
     "output_type": "stream",
     "text": [
      "Starting to analyze %  /media/vsridhar/T7/Work/Data/BlackbuckAnnotations/P2/downsampled/SSD6/20230312/SE_Lek1/P2D3/20230312_SE_Lek1_P2D3_DJI_0295.MP4\n",
      "Video already analyzed! /home/vsridhar/DATA/DeepLabCut/projects/05_TerritoryDetectionP2-Vivek-2023-07-10/output/SSD6/20230312/SE_Lek1/P2D3/20230312_SE_Lek1_P2D3_DJI_0295DLC_dlcrnetms5_05_TerritoryDetectionP2Jul10shuffle1_50000.h5\n",
      "Using snapshot-50000 for model /home/vsridhar/DATA/DeepLabCut/projects/05_TerritoryDetectionP2-Vivek-2023-07-10/dlc-models/iteration-0/05_TerritoryDetectionP2Jul10-trainset90shuffle1\n",
      "Processing...  /media/vsridhar/T7/Work/Data/BlackbuckAnnotations/P2/downsampled/SSD6/20230312/SE_Lek1/P2D3/20230312_SE_Lek1_P2D3_DJI_0295.MP4\n",
      "Tracklets already computed /home/vsridhar/DATA/DeepLabCut/projects/05_TerritoryDetectionP2-Vivek-2023-07-10/output/SSD6/20230312/SE_Lek1/P2D3/20230312_SE_Lek1_P2D3_DJI_0295DLC_dlcrnetms5_05_TerritoryDetectionP2Jul10shuffle1_50000_el.pickle\n",
      "Set overwrite = True to overwrite.\n",
      "The tracklets were created (i.e., under the hood deeplabcut.convert_detections2tracklets was run). Now you can 'refine_tracklets' in the GUI, or run 'deeplabcut.stitch_tracklets'.\n",
      "Processing...  /media/vsridhar/T7/Work/Data/BlackbuckAnnotations/P2/downsampled/SSD6/20230312/SE_Lek1/P2D3/20230312_SE_Lek1_P2D3_DJI_0295.MP4\n"
     ]
    },
    {
     "name": "stderr",
     "output_type": "stream",
     "text": [
      "/home/vsridhar/.local/lib/python3.10/site-packages/deeplabcut/refine_training_dataset/stitch.py:138: FutureWarning: Unlike other reduction functions (e.g. `skew`, `kurtosis`), the default behavior of `mode` typically preserves the axis it acts along. In SciPy 1.11.0, this behavior will change: the default value of `keepdims` will become False, the `axis` over which the statistic is taken will be eliminated, and the value None will no longer be accepted. Set `keepdims` to True or False to avoid this warning.\n",
      "  return mode(self.data[..., 3], axis=None, nan_policy=\"omit\")[0][0]\n",
      "100%|██████████████████████████████████████████████████████████████████████████████████████| 54/54 [00:00<00:00, 6549.24it/s]\n",
      "/home/vsridhar/.local/lib/python3.10/site-packages/deeplabcut/refine_training_dataset/stitch.py:690: UserWarning: No optimal solution found. Employing black magic...\n",
      "  warnings.warn(\"No optimal solution found. Employing black magic...\")\n",
      "/home/vsridhar/.local/lib/python3.10/site-packages/deeplabcut/refine_training_dataset/stitch.py:763: UserWarning: Only 54 tracks could be reconstructed.\n",
      "  warnings.warn(f\"Only {len(self.paths)} tracks could be reconstructed.\")\n"
     ]
    },
    {
     "name": "stdout",
     "output_type": "stream",
     "text": [
      "Starting to analyze %  /media/vsridhar/T7/Work/Data/BlackbuckAnnotations/P2/downsampled/SSD6/20230312/SE_Lek1/P2D3/20230312_SE_Lek1_P2D3_DJI_0307.MP4\n",
      "Video already analyzed! /home/vsridhar/DATA/DeepLabCut/projects/05_TerritoryDetectionP2-Vivek-2023-07-10/output/SSD6/20230312/SE_Lek1/P2D3/20230312_SE_Lek1_P2D3_DJI_0307DLC_dlcrnetms5_05_TerritoryDetectionP2Jul10shuffle1_50000.h5\n",
      "Using snapshot-50000 for model /home/vsridhar/DATA/DeepLabCut/projects/05_TerritoryDetectionP2-Vivek-2023-07-10/dlc-models/iteration-0/05_TerritoryDetectionP2Jul10-trainset90shuffle1\n",
      "Processing...  /media/vsridhar/T7/Work/Data/BlackbuckAnnotations/P2/downsampled/SSD6/20230312/SE_Lek1/P2D3/20230312_SE_Lek1_P2D3_DJI_0307.MP4\n",
      "Tracklets already computed /home/vsridhar/DATA/DeepLabCut/projects/05_TerritoryDetectionP2-Vivek-2023-07-10/output/SSD6/20230312/SE_Lek1/P2D3/20230312_SE_Lek1_P2D3_DJI_0307DLC_dlcrnetms5_05_TerritoryDetectionP2Jul10shuffle1_50000_el.pickle\n",
      "Set overwrite = True to overwrite.\n",
      "The tracklets were created (i.e., under the hood deeplabcut.convert_detections2tracklets was run). Now you can 'refine_tracklets' in the GUI, or run 'deeplabcut.stitch_tracklets'.\n",
      "Processing...  /media/vsridhar/T7/Work/Data/BlackbuckAnnotations/P2/downsampled/SSD6/20230312/SE_Lek1/P2D3/20230312_SE_Lek1_P2D3_DJI_0307.MP4\n"
     ]
    },
    {
     "name": "stderr",
     "output_type": "stream",
     "text": [
      "/home/vsridhar/.local/lib/python3.10/site-packages/deeplabcut/refine_training_dataset/stitch.py:138: FutureWarning: Unlike other reduction functions (e.g. `skew`, `kurtosis`), the default behavior of `mode` typically preserves the axis it acts along. In SciPy 1.11.0, this behavior will change: the default value of `keepdims` will become False, the `axis` over which the statistic is taken will be eliminated, and the value None will no longer be accepted. Set `keepdims` to True or False to avoid this warning.\n",
      "  return mode(self.data[..., 3], axis=None, nan_policy=\"omit\")[0][0]\n",
      "100%|█████████████████████████████████████████████████████████████████████████████████████| 62/62 [00:00<00:00, 10338.60it/s]\n"
     ]
    },
    {
     "name": "stdout",
     "output_type": "stream",
     "text": [
      "Starting to analyze %  /media/vsridhar/T7/Work/Data/BlackbuckAnnotations/P2/downsampled/SSD6/20230312/SE_Lek1/P2D3/20230312_SE_Lek1_P2D3_DJI_0290.MP4\n",
      "Video already analyzed! /home/vsridhar/DATA/DeepLabCut/projects/05_TerritoryDetectionP2-Vivek-2023-07-10/output/SSD6/20230312/SE_Lek1/P2D3/20230312_SE_Lek1_P2D3_DJI_0290DLC_dlcrnetms5_05_TerritoryDetectionP2Jul10shuffle1_50000.h5\n",
      "Using snapshot-50000 for model /home/vsridhar/DATA/DeepLabCut/projects/05_TerritoryDetectionP2-Vivek-2023-07-10/dlc-models/iteration-0/05_TerritoryDetectionP2Jul10-trainset90shuffle1\n",
      "Processing...  /media/vsridhar/T7/Work/Data/BlackbuckAnnotations/P2/downsampled/SSD6/20230312/SE_Lek1/P2D3/20230312_SE_Lek1_P2D3_DJI_0290.MP4\n",
      "Tracklets already computed /home/vsridhar/DATA/DeepLabCut/projects/05_TerritoryDetectionP2-Vivek-2023-07-10/output/SSD6/20230312/SE_Lek1/P2D3/20230312_SE_Lek1_P2D3_DJI_0290DLC_dlcrnetms5_05_TerritoryDetectionP2Jul10shuffle1_50000_el.pickle\n",
      "Set overwrite = True to overwrite.\n",
      "The tracklets were created (i.e., under the hood deeplabcut.convert_detections2tracklets was run). Now you can 'refine_tracklets' in the GUI, or run 'deeplabcut.stitch_tracklets'.\n",
      "Processing...  /media/vsridhar/T7/Work/Data/BlackbuckAnnotations/P2/downsampled/SSD6/20230312/SE_Lek1/P2D3/20230312_SE_Lek1_P2D3_DJI_0290.MP4\n"
     ]
    },
    {
     "name": "stderr",
     "output_type": "stream",
     "text": [
      "/home/vsridhar/.local/lib/python3.10/site-packages/deeplabcut/refine_training_dataset/stitch.py:138: FutureWarning: Unlike other reduction functions (e.g. `skew`, `kurtosis`), the default behavior of `mode` typically preserves the axis it acts along. In SciPy 1.11.0, this behavior will change: the default value of `keepdims` will become False, the `axis` over which the statistic is taken will be eliminated, and the value None will no longer be accepted. Set `keepdims` to True or False to avoid this warning.\n",
      "  return mode(self.data[..., 3], axis=None, nan_policy=\"omit\")[0][0]\n",
      "100%|████████████████████████████████████████████████████████████████████████████████████| 195/195 [00:00<00:00, 1112.00it/s]\n"
     ]
    },
    {
     "name": "stdout",
     "output_type": "stream",
     "text": [
      "The videos are analyzed. Time to assemble animals and track 'em... \n",
      " Call 'create_video_with_all_detections' to check multi-animal detection quality before tracking.\n",
      "If the tracking is not satisfactory for some videos, consider expanding the training set. You can use the function 'extract_outlier_frames' to extract a few representative outlier frames.\n",
      "Using snapshot-50000 for model /home/vsridhar/DATA/DeepLabCut/projects/05_TerritoryDetectionP2-Vivek-2023-07-10/dlc-models/iteration-0/05_TerritoryDetectionP2Jul10-trainset90shuffle1\n"
     ]
    },
    {
     "name": "stderr",
     "output_type": "stream",
     "text": [
      "/home/vsridhar/.local/lib/python3.10/site-packages/tensorflow/python/keras/engine/base_layer_v1.py:1694: UserWarning: `layer.apply` is deprecated and will be removed in a future version. Please use `layer.__call__` method instead.\n",
      "  warnings.warn('`layer.apply` is deprecated and '\n",
      "/home/vsridhar/.local/lib/python3.10/site-packages/tf_slim/layers/layers.py:684: UserWarning: `layer.apply` is deprecated and will be removed in a future version. Please use `layer.__call__` method instead.\n",
      "  outputs = layer.apply(inputs, training=is_training)\n"
     ]
    },
    {
     "name": "stdout",
     "output_type": "stream",
     "text": [
      "Activating extracting of PAFs\n",
      "Analyzing all the videos in the directory...\n",
      "Starting to analyze %  /media/vsridhar/T7/Work/Data/BlackbuckAnnotations/P2/downsampled/SSD6/20230312/SE_Lek1/P2D4/20230312_SE_Lek1_P2D4_DJI_0933.MP4\n",
      "Video already analyzed! /home/vsridhar/DATA/DeepLabCut/projects/05_TerritoryDetectionP2-Vivek-2023-07-10/output/SSD6/20230312/SE_Lek1/P2D4/20230312_SE_Lek1_P2D4_DJI_0933DLC_dlcrnetms5_05_TerritoryDetectionP2Jul10shuffle1_50000.h5\n",
      "Using snapshot-50000 for model /home/vsridhar/DATA/DeepLabCut/projects/05_TerritoryDetectionP2-Vivek-2023-07-10/dlc-models/iteration-0/05_TerritoryDetectionP2Jul10-trainset90shuffle1\n",
      "Processing...  /media/vsridhar/T7/Work/Data/BlackbuckAnnotations/P2/downsampled/SSD6/20230312/SE_Lek1/P2D4/20230312_SE_Lek1_P2D4_DJI_0933.MP4\n",
      "Tracklets already computed /home/vsridhar/DATA/DeepLabCut/projects/05_TerritoryDetectionP2-Vivek-2023-07-10/output/SSD6/20230312/SE_Lek1/P2D4/20230312_SE_Lek1_P2D4_DJI_0933DLC_dlcrnetms5_05_TerritoryDetectionP2Jul10shuffle1_50000_el.pickle\n",
      "Set overwrite = True to overwrite.\n",
      "The tracklets were created (i.e., under the hood deeplabcut.convert_detections2tracklets was run). Now you can 'refine_tracklets' in the GUI, or run 'deeplabcut.stitch_tracklets'.\n",
      "Processing...  /media/vsridhar/T7/Work/Data/BlackbuckAnnotations/P2/downsampled/SSD6/20230312/SE_Lek1/P2D4/20230312_SE_Lek1_P2D4_DJI_0933.MP4\n"
     ]
    },
    {
     "name": "stderr",
     "output_type": "stream",
     "text": [
      "/home/vsridhar/.local/lib/python3.10/site-packages/deeplabcut/refine_training_dataset/stitch.py:138: FutureWarning: Unlike other reduction functions (e.g. `skew`, `kurtosis`), the default behavior of `mode` typically preserves the axis it acts along. In SciPy 1.11.0, this behavior will change: the default value of `keepdims` will become False, the `axis` over which the statistic is taken will be eliminated, and the value None will no longer be accepted. Set `keepdims` to True or False to avoid this warning.\n",
      "  return mode(self.data[..., 3], axis=None, nan_policy=\"omit\")[0][0]\n",
      "100%|████████████████████████████████████████████████████████████████████████████████████| 252/252 [00:00<00:00, 2064.45it/s]\n"
     ]
    },
    {
     "name": "stdout",
     "output_type": "stream",
     "text": [
      "Starting to analyze %  /media/vsridhar/T7/Work/Data/BlackbuckAnnotations/P2/downsampled/SSD6/20230312/SE_Lek1/P2D4/20230312_SE_Lek1_P2D4_DJI_0930.MP4\n",
      "Video already analyzed! /home/vsridhar/DATA/DeepLabCut/projects/05_TerritoryDetectionP2-Vivek-2023-07-10/output/SSD6/20230312/SE_Lek1/P2D4/20230312_SE_Lek1_P2D4_DJI_0930DLC_dlcrnetms5_05_TerritoryDetectionP2Jul10shuffle1_50000.h5\n",
      "Using snapshot-50000 for model /home/vsridhar/DATA/DeepLabCut/projects/05_TerritoryDetectionP2-Vivek-2023-07-10/dlc-models/iteration-0/05_TerritoryDetectionP2Jul10-trainset90shuffle1\n",
      "Processing...  /media/vsridhar/T7/Work/Data/BlackbuckAnnotations/P2/downsampled/SSD6/20230312/SE_Lek1/P2D4/20230312_SE_Lek1_P2D4_DJI_0930.MP4\n",
      "Tracklets already computed /home/vsridhar/DATA/DeepLabCut/projects/05_TerritoryDetectionP2-Vivek-2023-07-10/output/SSD6/20230312/SE_Lek1/P2D4/20230312_SE_Lek1_P2D4_DJI_0930DLC_dlcrnetms5_05_TerritoryDetectionP2Jul10shuffle1_50000_el.pickle\n",
      "Set overwrite = True to overwrite.\n",
      "The tracklets were created (i.e., under the hood deeplabcut.convert_detections2tracklets was run). Now you can 'refine_tracklets' in the GUI, or run 'deeplabcut.stitch_tracklets'.\n",
      "Processing...  /media/vsridhar/T7/Work/Data/BlackbuckAnnotations/P2/downsampled/SSD6/20230312/SE_Lek1/P2D4/20230312_SE_Lek1_P2D4_DJI_0930.MP4\n"
     ]
    },
    {
     "name": "stderr",
     "output_type": "stream",
     "text": [
      "/home/vsridhar/.local/lib/python3.10/site-packages/deeplabcut/refine_training_dataset/stitch.py:138: FutureWarning: Unlike other reduction functions (e.g. `skew`, `kurtosis`), the default behavior of `mode` typically preserves the axis it acts along. In SciPy 1.11.0, this behavior will change: the default value of `keepdims` will become False, the `axis` over which the statistic is taken will be eliminated, and the value None will no longer be accepted. Set `keepdims` to True or False to avoid this warning.\n",
      "  return mode(self.data[..., 3], axis=None, nan_policy=\"omit\")[0][0]\n",
      "100%|█████████████████████████████████████████████████████████████████████████████████████| 39/39 [00:00<00:00, 22126.05it/s]\n",
      "/home/vsridhar/.local/lib/python3.10/site-packages/deeplabcut/refine_training_dataset/stitch.py:690: UserWarning: No optimal solution found. Employing black magic...\n",
      "  warnings.warn(\"No optimal solution found. Employing black magic...\")\n",
      "/home/vsridhar/.local/lib/python3.10/site-packages/deeplabcut/refine_training_dataset/stitch.py:763: UserWarning: Only 39 tracks could be reconstructed.\n",
      "  warnings.warn(f\"Only {len(self.paths)} tracks could be reconstructed.\")\n"
     ]
    },
    {
     "name": "stdout",
     "output_type": "stream",
     "text": [
      "Starting to analyze %  /media/vsridhar/T7/Work/Data/BlackbuckAnnotations/P2/downsampled/SSD6/20230312/SE_Lek1/P2D4/20230312_SE_Lek1_P2D4_DJI_0926.MP4\n",
      "Video already analyzed! /home/vsridhar/DATA/DeepLabCut/projects/05_TerritoryDetectionP2-Vivek-2023-07-10/output/SSD6/20230312/SE_Lek1/P2D4/20230312_SE_Lek1_P2D4_DJI_0926DLC_dlcrnetms5_05_TerritoryDetectionP2Jul10shuffle1_50000.h5\n",
      "Using snapshot-50000 for model /home/vsridhar/DATA/DeepLabCut/projects/05_TerritoryDetectionP2-Vivek-2023-07-10/dlc-models/iteration-0/05_TerritoryDetectionP2Jul10-trainset90shuffle1\n",
      "Processing...  /media/vsridhar/T7/Work/Data/BlackbuckAnnotations/P2/downsampled/SSD6/20230312/SE_Lek1/P2D4/20230312_SE_Lek1_P2D4_DJI_0926.MP4\n",
      "Tracklets already computed /home/vsridhar/DATA/DeepLabCut/projects/05_TerritoryDetectionP2-Vivek-2023-07-10/output/SSD6/20230312/SE_Lek1/P2D4/20230312_SE_Lek1_P2D4_DJI_0926DLC_dlcrnetms5_05_TerritoryDetectionP2Jul10shuffle1_50000_el.pickle\n",
      "Set overwrite = True to overwrite.\n",
      "The tracklets were created (i.e., under the hood deeplabcut.convert_detections2tracklets was run). Now you can 'refine_tracklets' in the GUI, or run 'deeplabcut.stitch_tracklets'.\n",
      "Processing...  /media/vsridhar/T7/Work/Data/BlackbuckAnnotations/P2/downsampled/SSD6/20230312/SE_Lek1/P2D4/20230312_SE_Lek1_P2D4_DJI_0926.MP4\n"
     ]
    },
    {
     "name": "stderr",
     "output_type": "stream",
     "text": [
      "/home/vsridhar/.local/lib/python3.10/site-packages/deeplabcut/refine_training_dataset/stitch.py:138: FutureWarning: Unlike other reduction functions (e.g. `skew`, `kurtosis`), the default behavior of `mode` typically preserves the axis it acts along. In SciPy 1.11.0, this behavior will change: the default value of `keepdims` will become False, the `axis` over which the statistic is taken will be eliminated, and the value None will no longer be accepted. Set `keepdims` to True or False to avoid this warning.\n",
      "  return mode(self.data[..., 3], axis=None, nan_policy=\"omit\")[0][0]\n",
      "100%|██████████████████████████████████████████████████████████████████████████████████████| 59/59 [00:00<00:00, 7131.73it/s]\n",
      "/home/vsridhar/.local/lib/python3.10/site-packages/deeplabcut/refine_training_dataset/stitch.py:690: UserWarning: No optimal solution found. Employing black magic...\n",
      "  warnings.warn(\"No optimal solution found. Employing black magic...\")\n",
      "/home/vsridhar/.local/lib/python3.10/site-packages/deeplabcut/refine_training_dataset/stitch.py:763: UserWarning: Only 59 tracks could be reconstructed.\n",
      "  warnings.warn(f\"Only {len(self.paths)} tracks could be reconstructed.\")\n"
     ]
    },
    {
     "name": "stdout",
     "output_type": "stream",
     "text": [
      "Starting to analyze %  /media/vsridhar/T7/Work/Data/BlackbuckAnnotations/P2/downsampled/SSD6/20230312/SE_Lek1/P2D4/20230312_SE_Lek1_P2D4_DJI_0936.MP4\n",
      "Video already analyzed! /home/vsridhar/DATA/DeepLabCut/projects/05_TerritoryDetectionP2-Vivek-2023-07-10/output/SSD6/20230312/SE_Lek1/P2D4/20230312_SE_Lek1_P2D4_DJI_0936DLC_dlcrnetms5_05_TerritoryDetectionP2Jul10shuffle1_50000.h5\n",
      "Using snapshot-50000 for model /home/vsridhar/DATA/DeepLabCut/projects/05_TerritoryDetectionP2-Vivek-2023-07-10/dlc-models/iteration-0/05_TerritoryDetectionP2Jul10-trainset90shuffle1\n",
      "Processing...  /media/vsridhar/T7/Work/Data/BlackbuckAnnotations/P2/downsampled/SSD6/20230312/SE_Lek1/P2D4/20230312_SE_Lek1_P2D4_DJI_0936.MP4\n",
      "Tracklets already computed /home/vsridhar/DATA/DeepLabCut/projects/05_TerritoryDetectionP2-Vivek-2023-07-10/output/SSD6/20230312/SE_Lek1/P2D4/20230312_SE_Lek1_P2D4_DJI_0936DLC_dlcrnetms5_05_TerritoryDetectionP2Jul10shuffle1_50000_el.pickle\n",
      "Set overwrite = True to overwrite.\n",
      "The tracklets were created (i.e., under the hood deeplabcut.convert_detections2tracklets was run). Now you can 'refine_tracklets' in the GUI, or run 'deeplabcut.stitch_tracklets'.\n",
      "Processing...  /media/vsridhar/T7/Work/Data/BlackbuckAnnotations/P2/downsampled/SSD6/20230312/SE_Lek1/P2D4/20230312_SE_Lek1_P2D4_DJI_0936.MP4\n"
     ]
    },
    {
     "name": "stderr",
     "output_type": "stream",
     "text": [
      "/home/vsridhar/.local/lib/python3.10/site-packages/deeplabcut/refine_training_dataset/stitch.py:138: FutureWarning: Unlike other reduction functions (e.g. `skew`, `kurtosis`), the default behavior of `mode` typically preserves the axis it acts along. In SciPy 1.11.0, this behavior will change: the default value of `keepdims` will become False, the `axis` over which the statistic is taken will be eliminated, and the value None will no longer be accepted. Set `keepdims` to True or False to avoid this warning.\n",
      "  return mode(self.data[..., 3], axis=None, nan_policy=\"omit\")[0][0]\n",
      "100%|████████████████████████████████████████████████████████████████████████████████████| 36/36 [00:00<00:00, 206559.43it/s]\n",
      "/home/vsridhar/.local/lib/python3.10/site-packages/deeplabcut/refine_training_dataset/stitch.py:690: UserWarning: No optimal solution found. Employing black magic...\n",
      "  warnings.warn(\"No optimal solution found. Employing black magic...\")\n",
      "/home/vsridhar/.local/lib/python3.10/site-packages/deeplabcut/refine_training_dataset/stitch.py:763: UserWarning: Only 36 tracks could be reconstructed.\n",
      "  warnings.warn(f\"Only {len(self.paths)} tracks could be reconstructed.\")\n"
     ]
    },
    {
     "name": "stdout",
     "output_type": "stream",
     "text": [
      "Starting to analyze %  /media/vsridhar/T7/Work/Data/BlackbuckAnnotations/P2/downsampled/SSD6/20230312/SE_Lek1/P2D4/20230312_SE_Lek1_P2D4_DJI_0929.MP4\n",
      "Video already analyzed! /home/vsridhar/DATA/DeepLabCut/projects/05_TerritoryDetectionP2-Vivek-2023-07-10/output/SSD6/20230312/SE_Lek1/P2D4/20230312_SE_Lek1_P2D4_DJI_0929DLC_dlcrnetms5_05_TerritoryDetectionP2Jul10shuffle1_50000.h5\n",
      "Using snapshot-50000 for model /home/vsridhar/DATA/DeepLabCut/projects/05_TerritoryDetectionP2-Vivek-2023-07-10/dlc-models/iteration-0/05_TerritoryDetectionP2Jul10-trainset90shuffle1\n",
      "Processing...  /media/vsridhar/T7/Work/Data/BlackbuckAnnotations/P2/downsampled/SSD6/20230312/SE_Lek1/P2D4/20230312_SE_Lek1_P2D4_DJI_0929.MP4\n",
      "Tracklets already computed /home/vsridhar/DATA/DeepLabCut/projects/05_TerritoryDetectionP2-Vivek-2023-07-10/output/SSD6/20230312/SE_Lek1/P2D4/20230312_SE_Lek1_P2D4_DJI_0929DLC_dlcrnetms5_05_TerritoryDetectionP2Jul10shuffle1_50000_el.pickle\n",
      "Set overwrite = True to overwrite.\n",
      "The tracklets were created (i.e., under the hood deeplabcut.convert_detections2tracklets was run). Now you can 'refine_tracklets' in the GUI, or run 'deeplabcut.stitch_tracklets'.\n",
      "Processing...  /media/vsridhar/T7/Work/Data/BlackbuckAnnotations/P2/downsampled/SSD6/20230312/SE_Lek1/P2D4/20230312_SE_Lek1_P2D4_DJI_0929.MP4\n"
     ]
    },
    {
     "name": "stderr",
     "output_type": "stream",
     "text": [
      "/home/vsridhar/.local/lib/python3.10/site-packages/deeplabcut/refine_training_dataset/stitch.py:138: FutureWarning: Unlike other reduction functions (e.g. `skew`, `kurtosis`), the default behavior of `mode` typically preserves the axis it acts along. In SciPy 1.11.0, this behavior will change: the default value of `keepdims` will become False, the `axis` over which the statistic is taken will be eliminated, and the value None will no longer be accepted. Set `keepdims` to True or False to avoid this warning.\n",
      "  return mode(self.data[..., 3], axis=None, nan_policy=\"omit\")[0][0]\n",
      "100%|██████████████████████████████████████████████████████████████████████████████████████| 60/60 [00:00<00:00, 5768.01it/s]\n"
     ]
    },
    {
     "name": "stdout",
     "output_type": "stream",
     "text": [
      "Starting to analyze %  /media/vsridhar/T7/Work/Data/BlackbuckAnnotations/P2/downsampled/SSD6/20230312/SE_Lek1/P2D4/20230312_SE_Lek1_P2D4_DJI_0922.MP4\n",
      "Video already analyzed! /home/vsridhar/DATA/DeepLabCut/projects/05_TerritoryDetectionP2-Vivek-2023-07-10/output/SSD6/20230312/SE_Lek1/P2D4/20230312_SE_Lek1_P2D4_DJI_0922DLC_dlcrnetms5_05_TerritoryDetectionP2Jul10shuffle1_50000.h5\n",
      "Using snapshot-50000 for model /home/vsridhar/DATA/DeepLabCut/projects/05_TerritoryDetectionP2-Vivek-2023-07-10/dlc-models/iteration-0/05_TerritoryDetectionP2Jul10-trainset90shuffle1\n",
      "Processing...  /media/vsridhar/T7/Work/Data/BlackbuckAnnotations/P2/downsampled/SSD6/20230312/SE_Lek1/P2D4/20230312_SE_Lek1_P2D4_DJI_0922.MP4\n",
      "Tracklets already computed /home/vsridhar/DATA/DeepLabCut/projects/05_TerritoryDetectionP2-Vivek-2023-07-10/output/SSD6/20230312/SE_Lek1/P2D4/20230312_SE_Lek1_P2D4_DJI_0922DLC_dlcrnetms5_05_TerritoryDetectionP2Jul10shuffle1_50000_el.pickle\n",
      "Set overwrite = True to overwrite.\n",
      "The tracklets were created (i.e., under the hood deeplabcut.convert_detections2tracklets was run). Now you can 'refine_tracklets' in the GUI, or run 'deeplabcut.stitch_tracklets'.\n",
      "Processing...  /media/vsridhar/T7/Work/Data/BlackbuckAnnotations/P2/downsampled/SSD6/20230312/SE_Lek1/P2D4/20230312_SE_Lek1_P2D4_DJI_0922.MP4\n"
     ]
    },
    {
     "name": "stderr",
     "output_type": "stream",
     "text": [
      "/home/vsridhar/.local/lib/python3.10/site-packages/deeplabcut/refine_training_dataset/stitch.py:138: FutureWarning: Unlike other reduction functions (e.g. `skew`, `kurtosis`), the default behavior of `mode` typically preserves the axis it acts along. In SciPy 1.11.0, this behavior will change: the default value of `keepdims` will become False, the `axis` over which the statistic is taken will be eliminated, and the value None will no longer be accepted. Set `keepdims` to True or False to avoid this warning.\n",
      "  return mode(self.data[..., 3], axis=None, nan_policy=\"omit\")[0][0]\n",
      "100%|████████████████████████████████████████████████████████████████████████████████████| 107/107 [00:00<00:00, 2977.55it/s]\n"
     ]
    },
    {
     "name": "stdout",
     "output_type": "stream",
     "text": [
      "Starting to analyze %  /media/vsridhar/T7/Work/Data/BlackbuckAnnotations/P2/downsampled/SSD6/20230312/SE_Lek1/P2D4/20230312_SE_Lek1_P2D4_DJI_0934.MP4\n",
      "Video already analyzed! /home/vsridhar/DATA/DeepLabCut/projects/05_TerritoryDetectionP2-Vivek-2023-07-10/output/SSD6/20230312/SE_Lek1/P2D4/20230312_SE_Lek1_P2D4_DJI_0934DLC_dlcrnetms5_05_TerritoryDetectionP2Jul10shuffle1_50000.h5\n",
      "Using snapshot-50000 for model /home/vsridhar/DATA/DeepLabCut/projects/05_TerritoryDetectionP2-Vivek-2023-07-10/dlc-models/iteration-0/05_TerritoryDetectionP2Jul10-trainset90shuffle1\n",
      "Processing...  /media/vsridhar/T7/Work/Data/BlackbuckAnnotations/P2/downsampled/SSD6/20230312/SE_Lek1/P2D4/20230312_SE_Lek1_P2D4_DJI_0934.MP4\n",
      "Tracklets already computed /home/vsridhar/DATA/DeepLabCut/projects/05_TerritoryDetectionP2-Vivek-2023-07-10/output/SSD6/20230312/SE_Lek1/P2D4/20230312_SE_Lek1_P2D4_DJI_0934DLC_dlcrnetms5_05_TerritoryDetectionP2Jul10shuffle1_50000_el.pickle\n",
      "Set overwrite = True to overwrite.\n",
      "The tracklets were created (i.e., under the hood deeplabcut.convert_detections2tracklets was run). Now you can 'refine_tracklets' in the GUI, or run 'deeplabcut.stitch_tracklets'.\n",
      "Processing...  /media/vsridhar/T7/Work/Data/BlackbuckAnnotations/P2/downsampled/SSD6/20230312/SE_Lek1/P2D4/20230312_SE_Lek1_P2D4_DJI_0934.MP4\n"
     ]
    },
    {
     "name": "stderr",
     "output_type": "stream",
     "text": [
      "/home/vsridhar/.local/lib/python3.10/site-packages/deeplabcut/refine_training_dataset/stitch.py:138: FutureWarning: Unlike other reduction functions (e.g. `skew`, `kurtosis`), the default behavior of `mode` typically preserves the axis it acts along. In SciPy 1.11.0, this behavior will change: the default value of `keepdims` will become False, the `axis` over which the statistic is taken will be eliminated, and the value None will no longer be accepted. Set `keepdims` to True or False to avoid this warning.\n",
      "  return mode(self.data[..., 3], axis=None, nan_policy=\"omit\")[0][0]\n",
      "100%|████████████████████████████████████████████████████████████████████████████████████| 116/116 [00:00<00:00, 2159.48it/s]\n"
     ]
    },
    {
     "name": "stdout",
     "output_type": "stream",
     "text": [
      "Starting to analyze %  /media/vsridhar/T7/Work/Data/BlackbuckAnnotations/P2/downsampled/SSD6/20230312/SE_Lek1/P2D4/20230312_SE_Lek1_P2D4_DJI_0924.MP4\n",
      "Video already analyzed! /home/vsridhar/DATA/DeepLabCut/projects/05_TerritoryDetectionP2-Vivek-2023-07-10/output/SSD6/20230312/SE_Lek1/P2D4/20230312_SE_Lek1_P2D4_DJI_0924DLC_dlcrnetms5_05_TerritoryDetectionP2Jul10shuffle1_50000.h5\n",
      "Using snapshot-50000 for model /home/vsridhar/DATA/DeepLabCut/projects/05_TerritoryDetectionP2-Vivek-2023-07-10/dlc-models/iteration-0/05_TerritoryDetectionP2Jul10-trainset90shuffle1\n",
      "Processing...  /media/vsridhar/T7/Work/Data/BlackbuckAnnotations/P2/downsampled/SSD6/20230312/SE_Lek1/P2D4/20230312_SE_Lek1_P2D4_DJI_0924.MP4\n",
      "Tracklets already computed /home/vsridhar/DATA/DeepLabCut/projects/05_TerritoryDetectionP2-Vivek-2023-07-10/output/SSD6/20230312/SE_Lek1/P2D4/20230312_SE_Lek1_P2D4_DJI_0924DLC_dlcrnetms5_05_TerritoryDetectionP2Jul10shuffle1_50000_el.pickle\n",
      "Set overwrite = True to overwrite.\n",
      "The tracklets were created (i.e., under the hood deeplabcut.convert_detections2tracklets was run). Now you can 'refine_tracklets' in the GUI, or run 'deeplabcut.stitch_tracklets'.\n",
      "Processing...  /media/vsridhar/T7/Work/Data/BlackbuckAnnotations/P2/downsampled/SSD6/20230312/SE_Lek1/P2D4/20230312_SE_Lek1_P2D4_DJI_0924.MP4\n"
     ]
    },
    {
     "name": "stderr",
     "output_type": "stream",
     "text": [
      "/home/vsridhar/.local/lib/python3.10/site-packages/deeplabcut/refine_training_dataset/stitch.py:138: FutureWarning: Unlike other reduction functions (e.g. `skew`, `kurtosis`), the default behavior of `mode` typically preserves the axis it acts along. In SciPy 1.11.0, this behavior will change: the default value of `keepdims` will become False, the `axis` over which the statistic is taken will be eliminated, and the value None will no longer be accepted. Set `keepdims` to True or False to avoid this warning.\n",
      "  return mode(self.data[..., 3], axis=None, nan_policy=\"omit\")[0][0]\n",
      "100%|██████████████████████████████████████████████████████████████████████████████████████| 65/65 [00:00<00:00, 7762.81it/s]\n"
     ]
    },
    {
     "name": "stdout",
     "output_type": "stream",
     "text": [
      "Starting to analyze %  /media/vsridhar/T7/Work/Data/BlackbuckAnnotations/P2/downsampled/SSD6/20230312/SE_Lek1/P2D4/20230312_SE_Lek1_P2D4_DJI_0928.MP4\n",
      "Video already analyzed! /home/vsridhar/DATA/DeepLabCut/projects/05_TerritoryDetectionP2-Vivek-2023-07-10/output/SSD6/20230312/SE_Lek1/P2D4/20230312_SE_Lek1_P2D4_DJI_0928DLC_dlcrnetms5_05_TerritoryDetectionP2Jul10shuffle1_50000.h5\n",
      "Using snapshot-50000 for model /home/vsridhar/DATA/DeepLabCut/projects/05_TerritoryDetectionP2-Vivek-2023-07-10/dlc-models/iteration-0/05_TerritoryDetectionP2Jul10-trainset90shuffle1\n",
      "Processing...  /media/vsridhar/T7/Work/Data/BlackbuckAnnotations/P2/downsampled/SSD6/20230312/SE_Lek1/P2D4/20230312_SE_Lek1_P2D4_DJI_0928.MP4\n",
      "Tracklets already computed /home/vsridhar/DATA/DeepLabCut/projects/05_TerritoryDetectionP2-Vivek-2023-07-10/output/SSD6/20230312/SE_Lek1/P2D4/20230312_SE_Lek1_P2D4_DJI_0928DLC_dlcrnetms5_05_TerritoryDetectionP2Jul10shuffle1_50000_el.pickle\n",
      "Set overwrite = True to overwrite.\n",
      "The tracklets were created (i.e., under the hood deeplabcut.convert_detections2tracklets was run). Now you can 'refine_tracklets' in the GUI, or run 'deeplabcut.stitch_tracklets'.\n",
      "Processing...  /media/vsridhar/T7/Work/Data/BlackbuckAnnotations/P2/downsampled/SSD6/20230312/SE_Lek1/P2D4/20230312_SE_Lek1_P2D4_DJI_0928.MP4\n"
     ]
    },
    {
     "name": "stderr",
     "output_type": "stream",
     "text": [
      "/home/vsridhar/.local/lib/python3.10/site-packages/deeplabcut/refine_training_dataset/stitch.py:138: FutureWarning: Unlike other reduction functions (e.g. `skew`, `kurtosis`), the default behavior of `mode` typically preserves the axis it acts along. In SciPy 1.11.0, this behavior will change: the default value of `keepdims` will become False, the `axis` over which the statistic is taken will be eliminated, and the value None will no longer be accepted. Set `keepdims` to True or False to avoid this warning.\n",
      "  return mode(self.data[..., 3], axis=None, nan_policy=\"omit\")[0][0]\n",
      "100%|████████████████████████████████████████████████████████████████████████████████████| 104/104 [00:00<00:00, 1926.66it/s]\n"
     ]
    },
    {
     "name": "stdout",
     "output_type": "stream",
     "text": [
      "Starting to analyze %  /media/vsridhar/T7/Work/Data/BlackbuckAnnotations/P2/downsampled/SSD6/20230312/SE_Lek1/P2D4/20230312_SE_Lek1_P2D4_DJI_0932.MP4\n",
      "Video already analyzed! /home/vsridhar/DATA/DeepLabCut/projects/05_TerritoryDetectionP2-Vivek-2023-07-10/output/SSD6/20230312/SE_Lek1/P2D4/20230312_SE_Lek1_P2D4_DJI_0932DLC_dlcrnetms5_05_TerritoryDetectionP2Jul10shuffle1_50000.h5\n",
      "Using snapshot-50000 for model /home/vsridhar/DATA/DeepLabCut/projects/05_TerritoryDetectionP2-Vivek-2023-07-10/dlc-models/iteration-0/05_TerritoryDetectionP2Jul10-trainset90shuffle1\n",
      "Processing...  /media/vsridhar/T7/Work/Data/BlackbuckAnnotations/P2/downsampled/SSD6/20230312/SE_Lek1/P2D4/20230312_SE_Lek1_P2D4_DJI_0932.MP4\n",
      "Tracklets already computed /home/vsridhar/DATA/DeepLabCut/projects/05_TerritoryDetectionP2-Vivek-2023-07-10/output/SSD6/20230312/SE_Lek1/P2D4/20230312_SE_Lek1_P2D4_DJI_0932DLC_dlcrnetms5_05_TerritoryDetectionP2Jul10shuffle1_50000_el.pickle\n",
      "Set overwrite = True to overwrite.\n",
      "The tracklets were created (i.e., under the hood deeplabcut.convert_detections2tracklets was run). Now you can 'refine_tracklets' in the GUI, or run 'deeplabcut.stitch_tracklets'.\n",
      "Processing...  /media/vsridhar/T7/Work/Data/BlackbuckAnnotations/P2/downsampled/SSD6/20230312/SE_Lek1/P2D4/20230312_SE_Lek1_P2D4_DJI_0932.MP4\n"
     ]
    },
    {
     "name": "stderr",
     "output_type": "stream",
     "text": [
      "/home/vsridhar/.local/lib/python3.10/site-packages/deeplabcut/refine_training_dataset/stitch.py:138: FutureWarning: Unlike other reduction functions (e.g. `skew`, `kurtosis`), the default behavior of `mode` typically preserves the axis it acts along. In SciPy 1.11.0, this behavior will change: the default value of `keepdims` will become False, the `axis` over which the statistic is taken will be eliminated, and the value None will no longer be accepted. Set `keepdims` to True or False to avoid this warning.\n",
      "  return mode(self.data[..., 3], axis=None, nan_policy=\"omit\")[0][0]\n",
      "100%|████████████████████████████████████████████████████████████████████████████████████| 36/36 [00:00<00:00, 194581.11it/s]\n",
      "/home/vsridhar/.local/lib/python3.10/site-packages/deeplabcut/refine_training_dataset/stitch.py:690: UserWarning: No optimal solution found. Employing black magic...\n",
      "  warnings.warn(\"No optimal solution found. Employing black magic...\")\n",
      "/home/vsridhar/.local/lib/python3.10/site-packages/deeplabcut/refine_training_dataset/stitch.py:763: UserWarning: Only 36 tracks could be reconstructed.\n",
      "  warnings.warn(f\"Only {len(self.paths)} tracks could be reconstructed.\")\n"
     ]
    },
    {
     "name": "stdout",
     "output_type": "stream",
     "text": [
      "Starting to analyze %  /media/vsridhar/T7/Work/Data/BlackbuckAnnotations/P2/downsampled/SSD6/20230312/SE_Lek1/P2D4/20230312_SE_Lek1_P2D4_DJI_0923.MP4\n",
      "Video already analyzed! /home/vsridhar/DATA/DeepLabCut/projects/05_TerritoryDetectionP2-Vivek-2023-07-10/output/SSD6/20230312/SE_Lek1/P2D4/20230312_SE_Lek1_P2D4_DJI_0923DLC_dlcrnetms5_05_TerritoryDetectionP2Jul10shuffle1_50000.h5\n",
      "Using snapshot-50000 for model /home/vsridhar/DATA/DeepLabCut/projects/05_TerritoryDetectionP2-Vivek-2023-07-10/dlc-models/iteration-0/05_TerritoryDetectionP2Jul10-trainset90shuffle1\n",
      "Processing...  /media/vsridhar/T7/Work/Data/BlackbuckAnnotations/P2/downsampled/SSD6/20230312/SE_Lek1/P2D4/20230312_SE_Lek1_P2D4_DJI_0923.MP4\n",
      "Tracklets already computed /home/vsridhar/DATA/DeepLabCut/projects/05_TerritoryDetectionP2-Vivek-2023-07-10/output/SSD6/20230312/SE_Lek1/P2D4/20230312_SE_Lek1_P2D4_DJI_0923DLC_dlcrnetms5_05_TerritoryDetectionP2Jul10shuffle1_50000_el.pickle\n",
      "Set overwrite = True to overwrite.\n",
      "The tracklets were created (i.e., under the hood deeplabcut.convert_detections2tracklets was run). Now you can 'refine_tracklets' in the GUI, or run 'deeplabcut.stitch_tracklets'.\n",
      "Processing...  /media/vsridhar/T7/Work/Data/BlackbuckAnnotations/P2/downsampled/SSD6/20230312/SE_Lek1/P2D4/20230312_SE_Lek1_P2D4_DJI_0923.MP4\n"
     ]
    },
    {
     "name": "stderr",
     "output_type": "stream",
     "text": [
      "/home/vsridhar/.local/lib/python3.10/site-packages/deeplabcut/refine_training_dataset/stitch.py:138: FutureWarning: Unlike other reduction functions (e.g. `skew`, `kurtosis`), the default behavior of `mode` typically preserves the axis it acts along. In SciPy 1.11.0, this behavior will change: the default value of `keepdims` will become False, the `axis` over which the statistic is taken will be eliminated, and the value None will no longer be accepted. Set `keepdims` to True or False to avoid this warning.\n",
      "  return mode(self.data[..., 3], axis=None, nan_policy=\"omit\")[0][0]\n",
      "100%|██████████████████████████████████████████████████████████████████████████████████████| 72/72 [00:00<00:00, 7742.34it/s]\n"
     ]
    },
    {
     "name": "stdout",
     "output_type": "stream",
     "text": [
      "Starting to analyze %  /media/vsridhar/T7/Work/Data/BlackbuckAnnotations/P2/downsampled/SSD6/20230312/SE_Lek1/P2D4/20230312_SE_Lek1_P2D4_DJI_0937.MP4\n",
      "Video already analyzed! /home/vsridhar/DATA/DeepLabCut/projects/05_TerritoryDetectionP2-Vivek-2023-07-10/output/SSD6/20230312/SE_Lek1/P2D4/20230312_SE_Lek1_P2D4_DJI_0937DLC_dlcrnetms5_05_TerritoryDetectionP2Jul10shuffle1_50000.h5\n",
      "Using snapshot-50000 for model /home/vsridhar/DATA/DeepLabCut/projects/05_TerritoryDetectionP2-Vivek-2023-07-10/dlc-models/iteration-0/05_TerritoryDetectionP2Jul10-trainset90shuffle1\n",
      "Processing...  /media/vsridhar/T7/Work/Data/BlackbuckAnnotations/P2/downsampled/SSD6/20230312/SE_Lek1/P2D4/20230312_SE_Lek1_P2D4_DJI_0937.MP4\n",
      "Tracklets already computed /home/vsridhar/DATA/DeepLabCut/projects/05_TerritoryDetectionP2-Vivek-2023-07-10/output/SSD6/20230312/SE_Lek1/P2D4/20230312_SE_Lek1_P2D4_DJI_0937DLC_dlcrnetms5_05_TerritoryDetectionP2Jul10shuffle1_50000_el.pickle\n",
      "Set overwrite = True to overwrite.\n",
      "The tracklets were created (i.e., under the hood deeplabcut.convert_detections2tracklets was run). Now you can 'refine_tracklets' in the GUI, or run 'deeplabcut.stitch_tracklets'.\n",
      "Processing...  /media/vsridhar/T7/Work/Data/BlackbuckAnnotations/P2/downsampled/SSD6/20230312/SE_Lek1/P2D4/20230312_SE_Lek1_P2D4_DJI_0937.MP4\n"
     ]
    },
    {
     "name": "stderr",
     "output_type": "stream",
     "text": [
      "/home/vsridhar/.local/lib/python3.10/site-packages/deeplabcut/refine_training_dataset/stitch.py:138: FutureWarning: Unlike other reduction functions (e.g. `skew`, `kurtosis`), the default behavior of `mode` typically preserves the axis it acts along. In SciPy 1.11.0, this behavior will change: the default value of `keepdims` will become False, the `axis` over which the statistic is taken will be eliminated, and the value None will no longer be accepted. Set `keepdims` to True or False to avoid this warning.\n",
      "  return mode(self.data[..., 3], axis=None, nan_policy=\"omit\")[0][0]\n",
      "100%|█████████████████████████████████████████████████████████████████████████████████████| 43/43 [00:00<00:00, 31327.96it/s]\n",
      "/home/vsridhar/.local/lib/python3.10/site-packages/deeplabcut/refine_training_dataset/stitch.py:690: UserWarning: No optimal solution found. Employing black magic...\n",
      "  warnings.warn(\"No optimal solution found. Employing black magic...\")\n",
      "/home/vsridhar/.local/lib/python3.10/site-packages/deeplabcut/refine_training_dataset/stitch.py:763: UserWarning: Only 43 tracks could be reconstructed.\n",
      "  warnings.warn(f\"Only {len(self.paths)} tracks could be reconstructed.\")\n"
     ]
    },
    {
     "name": "stdout",
     "output_type": "stream",
     "text": [
      "Starting to analyze %  /media/vsridhar/T7/Work/Data/BlackbuckAnnotations/P2/downsampled/SSD6/20230312/SE_Lek1/P2D4/20230312_SE_Lek1_P2D4_DJI_0931.MP4\n",
      "Video already analyzed! /home/vsridhar/DATA/DeepLabCut/projects/05_TerritoryDetectionP2-Vivek-2023-07-10/output/SSD6/20230312/SE_Lek1/P2D4/20230312_SE_Lek1_P2D4_DJI_0931DLC_dlcrnetms5_05_TerritoryDetectionP2Jul10shuffle1_50000.h5\n",
      "Using snapshot-50000 for model /home/vsridhar/DATA/DeepLabCut/projects/05_TerritoryDetectionP2-Vivek-2023-07-10/dlc-models/iteration-0/05_TerritoryDetectionP2Jul10-trainset90shuffle1\n",
      "Processing...  /media/vsridhar/T7/Work/Data/BlackbuckAnnotations/P2/downsampled/SSD6/20230312/SE_Lek1/P2D4/20230312_SE_Lek1_P2D4_DJI_0931.MP4\n",
      "Tracklets already computed /home/vsridhar/DATA/DeepLabCut/projects/05_TerritoryDetectionP2-Vivek-2023-07-10/output/SSD6/20230312/SE_Lek1/P2D4/20230312_SE_Lek1_P2D4_DJI_0931DLC_dlcrnetms5_05_TerritoryDetectionP2Jul10shuffle1_50000_el.pickle\n",
      "Set overwrite = True to overwrite.\n",
      "The tracklets were created (i.e., under the hood deeplabcut.convert_detections2tracklets was run). Now you can 'refine_tracklets' in the GUI, or run 'deeplabcut.stitch_tracklets'.\n",
      "Processing...  /media/vsridhar/T7/Work/Data/BlackbuckAnnotations/P2/downsampled/SSD6/20230312/SE_Lek1/P2D4/20230312_SE_Lek1_P2D4_DJI_0931.MP4\n"
     ]
    },
    {
     "name": "stderr",
     "output_type": "stream",
     "text": [
      "/home/vsridhar/.local/lib/python3.10/site-packages/deeplabcut/refine_training_dataset/stitch.py:138: FutureWarning: Unlike other reduction functions (e.g. `skew`, `kurtosis`), the default behavior of `mode` typically preserves the axis it acts along. In SciPy 1.11.0, this behavior will change: the default value of `keepdims` will become False, the `axis` over which the statistic is taken will be eliminated, and the value None will no longer be accepted. Set `keepdims` to True or False to avoid this warning.\n",
      "  return mode(self.data[..., 3], axis=None, nan_policy=\"omit\")[0][0]\n",
      "100%|██████████████████████████████████████████████████████████████████████████████████████| 47/47 [00:00<00:00, 7047.74it/s]\n",
      "/home/vsridhar/.local/lib/python3.10/site-packages/deeplabcut/refine_training_dataset/stitch.py:690: UserWarning: No optimal solution found. Employing black magic...\n",
      "  warnings.warn(\"No optimal solution found. Employing black magic...\")\n",
      "/home/vsridhar/.local/lib/python3.10/site-packages/deeplabcut/refine_training_dataset/stitch.py:763: UserWarning: Only 47 tracks could be reconstructed.\n",
      "  warnings.warn(f\"Only {len(self.paths)} tracks could be reconstructed.\")\n"
     ]
    },
    {
     "name": "stdout",
     "output_type": "stream",
     "text": [
      "Starting to analyze %  /media/vsridhar/T7/Work/Data/BlackbuckAnnotations/P2/downsampled/SSD6/20230312/SE_Lek1/P2D4/20230312_SE_Lek1_P2D4_DJI_0935.MP4\n",
      "Video already analyzed! /home/vsridhar/DATA/DeepLabCut/projects/05_TerritoryDetectionP2-Vivek-2023-07-10/output/SSD6/20230312/SE_Lek1/P2D4/20230312_SE_Lek1_P2D4_DJI_0935DLC_dlcrnetms5_05_TerritoryDetectionP2Jul10shuffle1_50000.h5\n",
      "Using snapshot-50000 for model /home/vsridhar/DATA/DeepLabCut/projects/05_TerritoryDetectionP2-Vivek-2023-07-10/dlc-models/iteration-0/05_TerritoryDetectionP2Jul10-trainset90shuffle1\n",
      "Processing...  /media/vsridhar/T7/Work/Data/BlackbuckAnnotations/P2/downsampled/SSD6/20230312/SE_Lek1/P2D4/20230312_SE_Lek1_P2D4_DJI_0935.MP4\n",
      "Tracklets already computed /home/vsridhar/DATA/DeepLabCut/projects/05_TerritoryDetectionP2-Vivek-2023-07-10/output/SSD6/20230312/SE_Lek1/P2D4/20230312_SE_Lek1_P2D4_DJI_0935DLC_dlcrnetms5_05_TerritoryDetectionP2Jul10shuffle1_50000_el.pickle\n",
      "Set overwrite = True to overwrite.\n",
      "The tracklets were created (i.e., under the hood deeplabcut.convert_detections2tracklets was run). Now you can 'refine_tracklets' in the GUI, or run 'deeplabcut.stitch_tracklets'.\n",
      "Processing...  /media/vsridhar/T7/Work/Data/BlackbuckAnnotations/P2/downsampled/SSD6/20230312/SE_Lek1/P2D4/20230312_SE_Lek1_P2D4_DJI_0935.MP4\n"
     ]
    },
    {
     "name": "stderr",
     "output_type": "stream",
     "text": [
      "/home/vsridhar/.local/lib/python3.10/site-packages/deeplabcut/refine_training_dataset/stitch.py:138: FutureWarning: Unlike other reduction functions (e.g. `skew`, `kurtosis`), the default behavior of `mode` typically preserves the axis it acts along. In SciPy 1.11.0, this behavior will change: the default value of `keepdims` will become False, the `axis` over which the statistic is taken will be eliminated, and the value None will no longer be accepted. Set `keepdims` to True or False to avoid this warning.\n",
      "  return mode(self.data[..., 3], axis=None, nan_policy=\"omit\")[0][0]\n",
      "100%|█████████████████████████████████████████████████████████████████████████████████████| 40/40 [00:00<00:00, 38666.09it/s]\n",
      "/home/vsridhar/.local/lib/python3.10/site-packages/deeplabcut/refine_training_dataset/stitch.py:690: UserWarning: No optimal solution found. Employing black magic...\n",
      "  warnings.warn(\"No optimal solution found. Employing black magic...\")\n",
      "/home/vsridhar/.local/lib/python3.10/site-packages/deeplabcut/refine_training_dataset/stitch.py:763: UserWarning: Only 40 tracks could be reconstructed.\n",
      "  warnings.warn(f\"Only {len(self.paths)} tracks could be reconstructed.\")\n",
      "/home/vsridhar/.local/lib/python3.10/site-packages/deeplabcut/refine_training_dataset/stitch.py:138: FutureWarning: Unlike other reduction functions (e.g. `skew`, `kurtosis`), the default behavior of `mode` typically preserves the axis it acts along. In SciPy 1.11.0, this behavior will change: the default value of `keepdims` will become False, the `axis` over which the statistic is taken will be eliminated, and the value None will no longer be accepted. Set `keepdims` to True or False to avoid this warning.\n",
      "  return mode(self.data[..., 3], axis=None, nan_policy=\"omit\")[0][0]\n"
     ]
    },
    {
     "name": "stdout",
     "output_type": "stream",
     "text": [
      "Starting to analyze %  /media/vsridhar/T7/Work/Data/BlackbuckAnnotations/P2/downsampled/SSD6/20230312/SE_Lek1/P2D4/20230312_SE_Lek1_P2D4_DJI_0927.MP4\n",
      "Video already analyzed! /home/vsridhar/DATA/DeepLabCut/projects/05_TerritoryDetectionP2-Vivek-2023-07-10/output/SSD6/20230312/SE_Lek1/P2D4/20230312_SE_Lek1_P2D4_DJI_0927DLC_dlcrnetms5_05_TerritoryDetectionP2Jul10shuffle1_50000.h5\n",
      "Using snapshot-50000 for model /home/vsridhar/DATA/DeepLabCut/projects/05_TerritoryDetectionP2-Vivek-2023-07-10/dlc-models/iteration-0/05_TerritoryDetectionP2Jul10-trainset90shuffle1\n",
      "Processing...  /media/vsridhar/T7/Work/Data/BlackbuckAnnotations/P2/downsampled/SSD6/20230312/SE_Lek1/P2D4/20230312_SE_Lek1_P2D4_DJI_0927.MP4\n",
      "Tracklets already computed /home/vsridhar/DATA/DeepLabCut/projects/05_TerritoryDetectionP2-Vivek-2023-07-10/output/SSD6/20230312/SE_Lek1/P2D4/20230312_SE_Lek1_P2D4_DJI_0927DLC_dlcrnetms5_05_TerritoryDetectionP2Jul10shuffle1_50000_el.pickle\n",
      "Set overwrite = True to overwrite.\n",
      "The tracklets were created (i.e., under the hood deeplabcut.convert_detections2tracklets was run). Now you can 'refine_tracklets' in the GUI, or run 'deeplabcut.stitch_tracklets'.\n",
      "Processing...  /media/vsridhar/T7/Work/Data/BlackbuckAnnotations/P2/downsampled/SSD6/20230312/SE_Lek1/P2D4/20230312_SE_Lek1_P2D4_DJI_0927.MP4\n"
     ]
    },
    {
     "name": "stderr",
     "output_type": "stream",
     "text": [
      "100%|████████████████████████████████████████████████████████████████████████████████████| 33/33 [00:00<00:00, 211316.08it/s]\n",
      "/home/vsridhar/.local/lib/python3.10/site-packages/deeplabcut/refine_training_dataset/stitch.py:690: UserWarning: No optimal solution found. Employing black magic...\n",
      "  warnings.warn(\"No optimal solution found. Employing black magic...\")\n",
      "/home/vsridhar/.local/lib/python3.10/site-packages/deeplabcut/refine_training_dataset/stitch.py:763: UserWarning: Only 33 tracks could be reconstructed.\n",
      "  warnings.warn(f\"Only {len(self.paths)} tracks could be reconstructed.\")\n"
     ]
    },
    {
     "name": "stdout",
     "output_type": "stream",
     "text": [
      "Starting to analyze %  /media/vsridhar/T7/Work/Data/BlackbuckAnnotations/P2/downsampled/SSD6/20230312/SE_Lek1/P2D4/20230312_SE_Lek1_P2D4_DJI_0925.MP4\n",
      "Video already analyzed! /home/vsridhar/DATA/DeepLabCut/projects/05_TerritoryDetectionP2-Vivek-2023-07-10/output/SSD6/20230312/SE_Lek1/P2D4/20230312_SE_Lek1_P2D4_DJI_0925DLC_dlcrnetms5_05_TerritoryDetectionP2Jul10shuffle1_50000.h5\n",
      "Using snapshot-50000 for model /home/vsridhar/DATA/DeepLabCut/projects/05_TerritoryDetectionP2-Vivek-2023-07-10/dlc-models/iteration-0/05_TerritoryDetectionP2Jul10-trainset90shuffle1\n",
      "Processing...  /media/vsridhar/T7/Work/Data/BlackbuckAnnotations/P2/downsampled/SSD6/20230312/SE_Lek1/P2D4/20230312_SE_Lek1_P2D4_DJI_0925.MP4\n",
      "Tracklets already computed /home/vsridhar/DATA/DeepLabCut/projects/05_TerritoryDetectionP2-Vivek-2023-07-10/output/SSD6/20230312/SE_Lek1/P2D4/20230312_SE_Lek1_P2D4_DJI_0925DLC_dlcrnetms5_05_TerritoryDetectionP2Jul10shuffle1_50000_el.pickle\n",
      "Set overwrite = True to overwrite.\n",
      "The tracklets were created (i.e., under the hood deeplabcut.convert_detections2tracklets was run). Now you can 'refine_tracklets' in the GUI, or run 'deeplabcut.stitch_tracklets'.\n",
      "Processing...  /media/vsridhar/T7/Work/Data/BlackbuckAnnotations/P2/downsampled/SSD6/20230312/SE_Lek1/P2D4/20230312_SE_Lek1_P2D4_DJI_0925.MP4\n"
     ]
    },
    {
     "name": "stderr",
     "output_type": "stream",
     "text": [
      "/home/vsridhar/.local/lib/python3.10/site-packages/deeplabcut/refine_training_dataset/stitch.py:138: FutureWarning: Unlike other reduction functions (e.g. `skew`, `kurtosis`), the default behavior of `mode` typically preserves the axis it acts along. In SciPy 1.11.0, this behavior will change: the default value of `keepdims` will become False, the `axis` over which the statistic is taken will be eliminated, and the value None will no longer be accepted. Set `keepdims` to True or False to avoid this warning.\n",
      "  return mode(self.data[..., 3], axis=None, nan_policy=\"omit\")[0][0]\n",
      "100%|██████████████████████████████████████████████████████████████████████████████████████| 69/69 [00:00<00:00, 6707.78it/s]\n"
     ]
    },
    {
     "name": "stdout",
     "output_type": "stream",
     "text": [
      "The videos are analyzed. Time to assemble animals and track 'em... \n",
      " Call 'create_video_with_all_detections' to check multi-animal detection quality before tracking.\n",
      "If the tracking is not satisfactory for some videos, consider expanding the training set. You can use the function 'extract_outlier_frames' to extract a few representative outlier frames.\n",
      "Using snapshot-50000 for model /home/vsridhar/DATA/DeepLabCut/projects/05_TerritoryDetectionP2-Vivek-2023-07-10/dlc-models/iteration-0/05_TerritoryDetectionP2Jul10-trainset90shuffle1\n"
     ]
    },
    {
     "name": "stderr",
     "output_type": "stream",
     "text": [
      "/home/vsridhar/.local/lib/python3.10/site-packages/tensorflow/python/keras/engine/base_layer_v1.py:1694: UserWarning: `layer.apply` is deprecated and will be removed in a future version. Please use `layer.__call__` method instead.\n",
      "  warnings.warn('`layer.apply` is deprecated and '\n",
      "/home/vsridhar/.local/lib/python3.10/site-packages/tf_slim/layers/layers.py:684: UserWarning: `layer.apply` is deprecated and will be removed in a future version. Please use `layer.__call__` method instead.\n",
      "  outputs = layer.apply(inputs, training=is_training)\n"
     ]
    },
    {
     "name": "stdout",
     "output_type": "stream",
     "text": [
      "Activating extracting of PAFs\n",
      "Analyzing all the videos in the directory...\n",
      "Starting to analyze %  /media/vsridhar/T7/Work/Data/BlackbuckAnnotations/P2/downsampled/SSD6/20230313/SE_Lek1/P2D3/20230313_SE_Lek1_P2D3_DJI_0314.MP4\n",
      "Video already analyzed! /home/vsridhar/DATA/DeepLabCut/projects/05_TerritoryDetectionP2-Vivek-2023-07-10/output/SSD6/20230313/SE_Lek1/P2D3/20230313_SE_Lek1_P2D3_DJI_0314DLC_dlcrnetms5_05_TerritoryDetectionP2Jul10shuffle1_50000.h5\n",
      "Using snapshot-50000 for model /home/vsridhar/DATA/DeepLabCut/projects/05_TerritoryDetectionP2-Vivek-2023-07-10/dlc-models/iteration-0/05_TerritoryDetectionP2Jul10-trainset90shuffle1\n",
      "Processing...  /media/vsridhar/T7/Work/Data/BlackbuckAnnotations/P2/downsampled/SSD6/20230313/SE_Lek1/P2D3/20230313_SE_Lek1_P2D3_DJI_0314.MP4\n",
      "Tracklets already computed /home/vsridhar/DATA/DeepLabCut/projects/05_TerritoryDetectionP2-Vivek-2023-07-10/output/SSD6/20230313/SE_Lek1/P2D3/20230313_SE_Lek1_P2D3_DJI_0314DLC_dlcrnetms5_05_TerritoryDetectionP2Jul10shuffle1_50000_el.pickle\n",
      "Set overwrite = True to overwrite.\n",
      "The tracklets were created (i.e., under the hood deeplabcut.convert_detections2tracklets was run). Now you can 'refine_tracklets' in the GUI, or run 'deeplabcut.stitch_tracklets'.\n",
      "Processing...  /media/vsridhar/T7/Work/Data/BlackbuckAnnotations/P2/downsampled/SSD6/20230313/SE_Lek1/P2D3/20230313_SE_Lek1_P2D3_DJI_0314.MP4\n"
     ]
    },
    {
     "name": "stderr",
     "output_type": "stream",
     "text": [
      "/home/vsridhar/.local/lib/python3.10/site-packages/deeplabcut/refine_training_dataset/stitch.py:138: FutureWarning: Unlike other reduction functions (e.g. `skew`, `kurtosis`), the default behavior of `mode` typically preserves the axis it acts along. In SciPy 1.11.0, this behavior will change: the default value of `keepdims` will become False, the `axis` over which the statistic is taken will be eliminated, and the value None will no longer be accepted. Set `keepdims` to True or False to avoid this warning.\n",
      "  return mode(self.data[..., 3], axis=None, nan_policy=\"omit\")[0][0]\n",
      "100%|████████████████████████████████████████████████████████████████████████████████████| 113/113 [00:00<00:00, 4029.80it/s]\n"
     ]
    },
    {
     "name": "stdout",
     "output_type": "stream",
     "text": [
      "Starting to analyze %  /media/vsridhar/T7/Work/Data/BlackbuckAnnotations/P2/downsampled/SSD6/20230313/SE_Lek1/P2D3/20230313_SE_Lek1_P2D3_DJI_0328.MP4\n",
      "Video already analyzed! /home/vsridhar/DATA/DeepLabCut/projects/05_TerritoryDetectionP2-Vivek-2023-07-10/output/SSD6/20230313/SE_Lek1/P2D3/20230313_SE_Lek1_P2D3_DJI_0328DLC_dlcrnetms5_05_TerritoryDetectionP2Jul10shuffle1_50000.h5\n",
      "Using snapshot-50000 for model /home/vsridhar/DATA/DeepLabCut/projects/05_TerritoryDetectionP2-Vivek-2023-07-10/dlc-models/iteration-0/05_TerritoryDetectionP2Jul10-trainset90shuffle1\n",
      "Processing...  /media/vsridhar/T7/Work/Data/BlackbuckAnnotations/P2/downsampled/SSD6/20230313/SE_Lek1/P2D3/20230313_SE_Lek1_P2D3_DJI_0328.MP4\n",
      "Tracklets already computed /home/vsridhar/DATA/DeepLabCut/projects/05_TerritoryDetectionP2-Vivek-2023-07-10/output/SSD6/20230313/SE_Lek1/P2D3/20230313_SE_Lek1_P2D3_DJI_0328DLC_dlcrnetms5_05_TerritoryDetectionP2Jul10shuffle1_50000_el.pickle\n",
      "Set overwrite = True to overwrite.\n",
      "The tracklets were created (i.e., under the hood deeplabcut.convert_detections2tracklets was run). Now you can 'refine_tracklets' in the GUI, or run 'deeplabcut.stitch_tracklets'.\n",
      "Processing...  /media/vsridhar/T7/Work/Data/BlackbuckAnnotations/P2/downsampled/SSD6/20230313/SE_Lek1/P2D3/20230313_SE_Lek1_P2D3_DJI_0328.MP4\n"
     ]
    },
    {
     "name": "stderr",
     "output_type": "stream",
     "text": [
      "/home/vsridhar/.local/lib/python3.10/site-packages/deeplabcut/refine_training_dataset/stitch.py:138: FutureWarning: Unlike other reduction functions (e.g. `skew`, `kurtosis`), the default behavior of `mode` typically preserves the axis it acts along. In SciPy 1.11.0, this behavior will change: the default value of `keepdims` will become False, the `axis` over which the statistic is taken will be eliminated, and the value None will no longer be accepted. Set `keepdims` to True or False to avoid this warning.\n",
      "  return mode(self.data[..., 3], axis=None, nan_policy=\"omit\")[0][0]\n",
      "100%|████████████████████████████████████████████████████████████████████████████████████| 146/146 [00:00<00:00, 1351.33it/s]\n"
     ]
    },
    {
     "name": "stdout",
     "output_type": "stream",
     "text": [
      "Starting to analyze %  /media/vsridhar/T7/Work/Data/BlackbuckAnnotations/P2/downsampled/SSD6/20230313/SE_Lek1/P2D3/20230313_SE_Lek1_P2D3_DJI_0325.MP4\n",
      "Video already analyzed! /home/vsridhar/DATA/DeepLabCut/projects/05_TerritoryDetectionP2-Vivek-2023-07-10/output/SSD6/20230313/SE_Lek1/P2D3/20230313_SE_Lek1_P2D3_DJI_0325DLC_dlcrnetms5_05_TerritoryDetectionP2Jul10shuffle1_50000.h5\n",
      "Using snapshot-50000 for model /home/vsridhar/DATA/DeepLabCut/projects/05_TerritoryDetectionP2-Vivek-2023-07-10/dlc-models/iteration-0/05_TerritoryDetectionP2Jul10-trainset90shuffle1\n",
      "Processing...  /media/vsridhar/T7/Work/Data/BlackbuckAnnotations/P2/downsampled/SSD6/20230313/SE_Lek1/P2D3/20230313_SE_Lek1_P2D3_DJI_0325.MP4\n",
      "Tracklets already computed /home/vsridhar/DATA/DeepLabCut/projects/05_TerritoryDetectionP2-Vivek-2023-07-10/output/SSD6/20230313/SE_Lek1/P2D3/20230313_SE_Lek1_P2D3_DJI_0325DLC_dlcrnetms5_05_TerritoryDetectionP2Jul10shuffle1_50000_el.pickle\n",
      "Set overwrite = True to overwrite.\n",
      "The tracklets were created (i.e., under the hood deeplabcut.convert_detections2tracklets was run). Now you can 'refine_tracklets' in the GUI, or run 'deeplabcut.stitch_tracklets'.\n",
      "Processing...  /media/vsridhar/T7/Work/Data/BlackbuckAnnotations/P2/downsampled/SSD6/20230313/SE_Lek1/P2D3/20230313_SE_Lek1_P2D3_DJI_0325.MP4\n"
     ]
    },
    {
     "name": "stderr",
     "output_type": "stream",
     "text": [
      "/home/vsridhar/.local/lib/python3.10/site-packages/deeplabcut/refine_training_dataset/stitch.py:138: FutureWarning: Unlike other reduction functions (e.g. `skew`, `kurtosis`), the default behavior of `mode` typically preserves the axis it acts along. In SciPy 1.11.0, this behavior will change: the default value of `keepdims` will become False, the `axis` over which the statistic is taken will be eliminated, and the value None will no longer be accepted. Set `keepdims` to True or False to avoid this warning.\n",
      "  return mode(self.data[..., 3], axis=None, nan_policy=\"omit\")[0][0]\n",
      "100%|█████████████████████████████████████████████████████████████████████████████████████| 49/49 [00:00<00:00, 10664.78it/s]\n",
      "/home/vsridhar/.local/lib/python3.10/site-packages/deeplabcut/refine_training_dataset/stitch.py:690: UserWarning: No optimal solution found. Employing black magic...\n",
      "  warnings.warn(\"No optimal solution found. Employing black magic...\")\n",
      "/home/vsridhar/.local/lib/python3.10/site-packages/deeplabcut/refine_training_dataset/stitch.py:763: UserWarning: Only 49 tracks could be reconstructed.\n",
      "  warnings.warn(f\"Only {len(self.paths)} tracks could be reconstructed.\")\n"
     ]
    },
    {
     "name": "stdout",
     "output_type": "stream",
     "text": [
      "Starting to analyze %  /media/vsridhar/T7/Work/Data/BlackbuckAnnotations/P2/downsampled/SSD6/20230313/SE_Lek1/P2D3/20230313_SE_Lek1_P2D3_DJI_0310.MP4\n",
      "Video already analyzed! /home/vsridhar/DATA/DeepLabCut/projects/05_TerritoryDetectionP2-Vivek-2023-07-10/output/SSD6/20230313/SE_Lek1/P2D3/20230313_SE_Lek1_P2D3_DJI_0310DLC_dlcrnetms5_05_TerritoryDetectionP2Jul10shuffle1_50000.h5\n",
      "Using snapshot-50000 for model /home/vsridhar/DATA/DeepLabCut/projects/05_TerritoryDetectionP2-Vivek-2023-07-10/dlc-models/iteration-0/05_TerritoryDetectionP2Jul10-trainset90shuffle1\n",
      "Processing...  /media/vsridhar/T7/Work/Data/BlackbuckAnnotations/P2/downsampled/SSD6/20230313/SE_Lek1/P2D3/20230313_SE_Lek1_P2D3_DJI_0310.MP4\n",
      "Tracklets already computed /home/vsridhar/DATA/DeepLabCut/projects/05_TerritoryDetectionP2-Vivek-2023-07-10/output/SSD6/20230313/SE_Lek1/P2D3/20230313_SE_Lek1_P2D3_DJI_0310DLC_dlcrnetms5_05_TerritoryDetectionP2Jul10shuffle1_50000_el.pickle\n",
      "Set overwrite = True to overwrite.\n",
      "The tracklets were created (i.e., under the hood deeplabcut.convert_detections2tracklets was run). Now you can 'refine_tracklets' in the GUI, or run 'deeplabcut.stitch_tracklets'.\n",
      "Processing...  /media/vsridhar/T7/Work/Data/BlackbuckAnnotations/P2/downsampled/SSD6/20230313/SE_Lek1/P2D3/20230313_SE_Lek1_P2D3_DJI_0310.MP4\n"
     ]
    },
    {
     "name": "stderr",
     "output_type": "stream",
     "text": [
      "/home/vsridhar/.local/lib/python3.10/site-packages/deeplabcut/refine_training_dataset/stitch.py:138: FutureWarning: Unlike other reduction functions (e.g. `skew`, `kurtosis`), the default behavior of `mode` typically preserves the axis it acts along. In SciPy 1.11.0, this behavior will change: the default value of `keepdims` will become False, the `axis` over which the statistic is taken will be eliminated, and the value None will no longer be accepted. Set `keepdims` to True or False to avoid this warning.\n",
      "  return mode(self.data[..., 3], axis=None, nan_policy=\"omit\")[0][0]\n",
      "100%|██████████████████████████████████████████████████████████████████████████████████████| 75/75 [00:00<00:00, 2950.69it/s]\n"
     ]
    },
    {
     "name": "stdout",
     "output_type": "stream",
     "text": [
      "Starting to analyze %  /media/vsridhar/T7/Work/Data/BlackbuckAnnotations/P2/downsampled/SSD6/20230313/SE_Lek1/P2D3/20230313_SE_Lek1_P2D3_DJI_0322.MP4\n",
      "Video already analyzed! /home/vsridhar/DATA/DeepLabCut/projects/05_TerritoryDetectionP2-Vivek-2023-07-10/output/SSD6/20230313/SE_Lek1/P2D3/20230313_SE_Lek1_P2D3_DJI_0322DLC_dlcrnetms5_05_TerritoryDetectionP2Jul10shuffle1_50000.h5\n",
      "Using snapshot-50000 for model /home/vsridhar/DATA/DeepLabCut/projects/05_TerritoryDetectionP2-Vivek-2023-07-10/dlc-models/iteration-0/05_TerritoryDetectionP2Jul10-trainset90shuffle1\n",
      "Processing...  /media/vsridhar/T7/Work/Data/BlackbuckAnnotations/P2/downsampled/SSD6/20230313/SE_Lek1/P2D3/20230313_SE_Lek1_P2D3_DJI_0322.MP4\n",
      "Tracklets already computed /home/vsridhar/DATA/DeepLabCut/projects/05_TerritoryDetectionP2-Vivek-2023-07-10/output/SSD6/20230313/SE_Lek1/P2D3/20230313_SE_Lek1_P2D3_DJI_0322DLC_dlcrnetms5_05_TerritoryDetectionP2Jul10shuffle1_50000_el.pickle\n",
      "Set overwrite = True to overwrite.\n",
      "The tracklets were created (i.e., under the hood deeplabcut.convert_detections2tracklets was run). Now you can 'refine_tracklets' in the GUI, or run 'deeplabcut.stitch_tracklets'.\n",
      "Processing...  /media/vsridhar/T7/Work/Data/BlackbuckAnnotations/P2/downsampled/SSD6/20230313/SE_Lek1/P2D3/20230313_SE_Lek1_P2D3_DJI_0322.MP4\n"
     ]
    },
    {
     "name": "stderr",
     "output_type": "stream",
     "text": [
      "/home/vsridhar/.local/lib/python3.10/site-packages/deeplabcut/refine_training_dataset/stitch.py:138: FutureWarning: Unlike other reduction functions (e.g. `skew`, `kurtosis`), the default behavior of `mode` typically preserves the axis it acts along. In SciPy 1.11.0, this behavior will change: the default value of `keepdims` will become False, the `axis` over which the statistic is taken will be eliminated, and the value None will no longer be accepted. Set `keepdims` to True or False to avoid this warning.\n",
      "  return mode(self.data[..., 3], axis=None, nan_policy=\"omit\")[0][0]\n",
      "100%|████████████████████████████████████████████████████████████████████████████████████| 138/138 [00:00<00:00, 1110.47it/s]\n"
     ]
    },
    {
     "name": "stdout",
     "output_type": "stream",
     "text": [
      "Starting to analyze %  /media/vsridhar/T7/Work/Data/BlackbuckAnnotations/P2/downsampled/SSD6/20230313/SE_Lek1/P2D3/20230313_SE_Lek1_P2D3_DJI_0321.MP4\n",
      "Video already analyzed! /home/vsridhar/DATA/DeepLabCut/projects/05_TerritoryDetectionP2-Vivek-2023-07-10/output/SSD6/20230313/SE_Lek1/P2D3/20230313_SE_Lek1_P2D3_DJI_0321DLC_dlcrnetms5_05_TerritoryDetectionP2Jul10shuffle1_50000.h5\n",
      "Using snapshot-50000 for model /home/vsridhar/DATA/DeepLabCut/projects/05_TerritoryDetectionP2-Vivek-2023-07-10/dlc-models/iteration-0/05_TerritoryDetectionP2Jul10-trainset90shuffle1\n",
      "Processing...  /media/vsridhar/T7/Work/Data/BlackbuckAnnotations/P2/downsampled/SSD6/20230313/SE_Lek1/P2D3/20230313_SE_Lek1_P2D3_DJI_0321.MP4\n",
      "Tracklets already computed /home/vsridhar/DATA/DeepLabCut/projects/05_TerritoryDetectionP2-Vivek-2023-07-10/output/SSD6/20230313/SE_Lek1/P2D3/20230313_SE_Lek1_P2D3_DJI_0321DLC_dlcrnetms5_05_TerritoryDetectionP2Jul10shuffle1_50000_el.pickle\n",
      "Set overwrite = True to overwrite.\n",
      "The tracklets were created (i.e., under the hood deeplabcut.convert_detections2tracklets was run). Now you can 'refine_tracklets' in the GUI, or run 'deeplabcut.stitch_tracklets'.\n",
      "Processing...  /media/vsridhar/T7/Work/Data/BlackbuckAnnotations/P2/downsampled/SSD6/20230313/SE_Lek1/P2D3/20230313_SE_Lek1_P2D3_DJI_0321.MP4\n"
     ]
    },
    {
     "name": "stderr",
     "output_type": "stream",
     "text": [
      "/home/vsridhar/.local/lib/python3.10/site-packages/deeplabcut/refine_training_dataset/stitch.py:138: FutureWarning: Unlike other reduction functions (e.g. `skew`, `kurtosis`), the default behavior of `mode` typically preserves the axis it acts along. In SciPy 1.11.0, this behavior will change: the default value of `keepdims` will become False, the `axis` over which the statistic is taken will be eliminated, and the value None will no longer be accepted. Set `keepdims` to True or False to avoid this warning.\n",
      "  return mode(self.data[..., 3], axis=None, nan_policy=\"omit\")[0][0]\n",
      "100%|██████████████████████████████████████████████████████████████████████████████████████| 91/91 [00:00<00:00, 2391.10it/s]\n"
     ]
    },
    {
     "name": "stdout",
     "output_type": "stream",
     "text": [
      "Starting to analyze %  /media/vsridhar/T7/Work/Data/BlackbuckAnnotations/P2/downsampled/SSD6/20230313/SE_Lek1/P2D3/20230313_SE_Lek1_P2D3_DJI_0320.MP4\n",
      "Video already analyzed! /home/vsridhar/DATA/DeepLabCut/projects/05_TerritoryDetectionP2-Vivek-2023-07-10/output/SSD6/20230313/SE_Lek1/P2D3/20230313_SE_Lek1_P2D3_DJI_0320DLC_dlcrnetms5_05_TerritoryDetectionP2Jul10shuffle1_50000.h5\n",
      "Using snapshot-50000 for model /home/vsridhar/DATA/DeepLabCut/projects/05_TerritoryDetectionP2-Vivek-2023-07-10/dlc-models/iteration-0/05_TerritoryDetectionP2Jul10-trainset90shuffle1\n",
      "Processing...  /media/vsridhar/T7/Work/Data/BlackbuckAnnotations/P2/downsampled/SSD6/20230313/SE_Lek1/P2D3/20230313_SE_Lek1_P2D3_DJI_0320.MP4\n",
      "Tracklets already computed /home/vsridhar/DATA/DeepLabCut/projects/05_TerritoryDetectionP2-Vivek-2023-07-10/output/SSD6/20230313/SE_Lek1/P2D3/20230313_SE_Lek1_P2D3_DJI_0320DLC_dlcrnetms5_05_TerritoryDetectionP2Jul10shuffle1_50000_el.pickle\n",
      "Set overwrite = True to overwrite.\n",
      "The tracklets were created (i.e., under the hood deeplabcut.convert_detections2tracklets was run). Now you can 'refine_tracklets' in the GUI, or run 'deeplabcut.stitch_tracklets'.\n",
      "Processing...  /media/vsridhar/T7/Work/Data/BlackbuckAnnotations/P2/downsampled/SSD6/20230313/SE_Lek1/P2D3/20230313_SE_Lek1_P2D3_DJI_0320.MP4\n"
     ]
    },
    {
     "name": "stderr",
     "output_type": "stream",
     "text": [
      "/home/vsridhar/.local/lib/python3.10/site-packages/deeplabcut/refine_training_dataset/stitch.py:138: FutureWarning: Unlike other reduction functions (e.g. `skew`, `kurtosis`), the default behavior of `mode` typically preserves the axis it acts along. In SciPy 1.11.0, this behavior will change: the default value of `keepdims` will become False, the `axis` over which the statistic is taken will be eliminated, and the value None will no longer be accepted. Set `keepdims` to True or False to avoid this warning.\n",
      "  return mode(self.data[..., 3], axis=None, nan_policy=\"omit\")[0][0]\n",
      "100%|██████████████████████████████████████████████████████████████████████████████████████| 50/50 [00:00<00:00, 8806.75it/s]\n",
      "/home/vsridhar/.local/lib/python3.10/site-packages/deeplabcut/refine_training_dataset/stitch.py:690: UserWarning: No optimal solution found. Employing black magic...\n",
      "  warnings.warn(\"No optimal solution found. Employing black magic...\")\n",
      "/home/vsridhar/.local/lib/python3.10/site-packages/deeplabcut/refine_training_dataset/stitch.py:763: UserWarning: Only 50 tracks could be reconstructed.\n",
      "  warnings.warn(f\"Only {len(self.paths)} tracks could be reconstructed.\")\n"
     ]
    },
    {
     "name": "stdout",
     "output_type": "stream",
     "text": [
      "Starting to analyze %  /media/vsridhar/T7/Work/Data/BlackbuckAnnotations/P2/downsampled/SSD6/20230313/SE_Lek1/P2D3/20230313_SE_Lek1_P2D3_DJI_0312.MP4\n",
      "Video already analyzed! /home/vsridhar/DATA/DeepLabCut/projects/05_TerritoryDetectionP2-Vivek-2023-07-10/output/SSD6/20230313/SE_Lek1/P2D3/20230313_SE_Lek1_P2D3_DJI_0312DLC_dlcrnetms5_05_TerritoryDetectionP2Jul10shuffle1_50000.h5\n",
      "Using snapshot-50000 for model /home/vsridhar/DATA/DeepLabCut/projects/05_TerritoryDetectionP2-Vivek-2023-07-10/dlc-models/iteration-0/05_TerritoryDetectionP2Jul10-trainset90shuffle1\n",
      "Processing...  /media/vsridhar/T7/Work/Data/BlackbuckAnnotations/P2/downsampled/SSD6/20230313/SE_Lek1/P2D3/20230313_SE_Lek1_P2D3_DJI_0312.MP4\n",
      "Tracklets already computed /home/vsridhar/DATA/DeepLabCut/projects/05_TerritoryDetectionP2-Vivek-2023-07-10/output/SSD6/20230313/SE_Lek1/P2D3/20230313_SE_Lek1_P2D3_DJI_0312DLC_dlcrnetms5_05_TerritoryDetectionP2Jul10shuffle1_50000_el.pickle\n",
      "Set overwrite = True to overwrite.\n",
      "The tracklets were created (i.e., under the hood deeplabcut.convert_detections2tracklets was run). Now you can 'refine_tracklets' in the GUI, or run 'deeplabcut.stitch_tracklets'.\n",
      "Processing...  /media/vsridhar/T7/Work/Data/BlackbuckAnnotations/P2/downsampled/SSD6/20230313/SE_Lek1/P2D3/20230313_SE_Lek1_P2D3_DJI_0312.MP4\n"
     ]
    },
    {
     "name": "stderr",
     "output_type": "stream",
     "text": [
      "/home/vsridhar/.local/lib/python3.10/site-packages/deeplabcut/refine_training_dataset/stitch.py:138: FutureWarning: Unlike other reduction functions (e.g. `skew`, `kurtosis`), the default behavior of `mode` typically preserves the axis it acts along. In SciPy 1.11.0, this behavior will change: the default value of `keepdims` will become False, the `axis` over which the statistic is taken will be eliminated, and the value None will no longer be accepted. Set `keepdims` to True or False to avoid this warning.\n",
      "  return mode(self.data[..., 3], axis=None, nan_policy=\"omit\")[0][0]\n",
      "100%|██████████████████████████████████████████████████████████████████████████████████████| 77/77 [00:00<00:00, 3444.52it/s]\n"
     ]
    },
    {
     "name": "stdout",
     "output_type": "stream",
     "text": [
      "Starting to analyze %  /media/vsridhar/T7/Work/Data/BlackbuckAnnotations/P2/downsampled/SSD6/20230313/SE_Lek1/P2D3/20230313_SE_Lek1_P2D3_DJI_0311.MP4\n",
      "Video already analyzed! /home/vsridhar/DATA/DeepLabCut/projects/05_TerritoryDetectionP2-Vivek-2023-07-10/output/SSD6/20230313/SE_Lek1/P2D3/20230313_SE_Lek1_P2D3_DJI_0311DLC_dlcrnetms5_05_TerritoryDetectionP2Jul10shuffle1_50000.h5\n",
      "Using snapshot-50000 for model /home/vsridhar/DATA/DeepLabCut/projects/05_TerritoryDetectionP2-Vivek-2023-07-10/dlc-models/iteration-0/05_TerritoryDetectionP2Jul10-trainset90shuffle1\n",
      "Processing...  /media/vsridhar/T7/Work/Data/BlackbuckAnnotations/P2/downsampled/SSD6/20230313/SE_Lek1/P2D3/20230313_SE_Lek1_P2D3_DJI_0311.MP4\n",
      "Tracklets already computed /home/vsridhar/DATA/DeepLabCut/projects/05_TerritoryDetectionP2-Vivek-2023-07-10/output/SSD6/20230313/SE_Lek1/P2D3/20230313_SE_Lek1_P2D3_DJI_0311DLC_dlcrnetms5_05_TerritoryDetectionP2Jul10shuffle1_50000_el.pickle\n",
      "Set overwrite = True to overwrite.\n",
      "The tracklets were created (i.e., under the hood deeplabcut.convert_detections2tracklets was run). Now you can 'refine_tracklets' in the GUI, or run 'deeplabcut.stitch_tracklets'.\n",
      "Processing...  /media/vsridhar/T7/Work/Data/BlackbuckAnnotations/P2/downsampled/SSD6/20230313/SE_Lek1/P2D3/20230313_SE_Lek1_P2D3_DJI_0311.MP4\n"
     ]
    },
    {
     "name": "stderr",
     "output_type": "stream",
     "text": [
      "/home/vsridhar/.local/lib/python3.10/site-packages/deeplabcut/refine_training_dataset/stitch.py:138: FutureWarning: Unlike other reduction functions (e.g. `skew`, `kurtosis`), the default behavior of `mode` typically preserves the axis it acts along. In SciPy 1.11.0, this behavior will change: the default value of `keepdims` will become False, the `axis` over which the statistic is taken will be eliminated, and the value None will no longer be accepted. Set `keepdims` to True or False to avoid this warning.\n",
      "  return mode(self.data[..., 3], axis=None, nan_policy=\"omit\")[0][0]\n",
      "100%|██████████████████████████████████████████████████████████████████████████████████████| 52/52 [00:00<00:00, 9884.60it/s]\n",
      "/home/vsridhar/.local/lib/python3.10/site-packages/deeplabcut/refine_training_dataset/stitch.py:690: UserWarning: No optimal solution found. Employing black magic...\n",
      "  warnings.warn(\"No optimal solution found. Employing black magic...\")\n",
      "/home/vsridhar/.local/lib/python3.10/site-packages/deeplabcut/refine_training_dataset/stitch.py:763: UserWarning: Only 52 tracks could be reconstructed.\n",
      "  warnings.warn(f\"Only {len(self.paths)} tracks could be reconstructed.\")\n"
     ]
    },
    {
     "name": "stdout",
     "output_type": "stream",
     "text": [
      "Starting to analyze %  /media/vsridhar/T7/Work/Data/BlackbuckAnnotations/P2/downsampled/SSD6/20230313/SE_Lek1/P2D3/20230313_SE_Lek1_P2D3_DJI_0317.MP4\n",
      "Video already analyzed! /home/vsridhar/DATA/DeepLabCut/projects/05_TerritoryDetectionP2-Vivek-2023-07-10/output/SSD6/20230313/SE_Lek1/P2D3/20230313_SE_Lek1_P2D3_DJI_0317DLC_dlcrnetms5_05_TerritoryDetectionP2Jul10shuffle1_50000.h5\n",
      "Using snapshot-50000 for model /home/vsridhar/DATA/DeepLabCut/projects/05_TerritoryDetectionP2-Vivek-2023-07-10/dlc-models/iteration-0/05_TerritoryDetectionP2Jul10-trainset90shuffle1\n",
      "Processing...  /media/vsridhar/T7/Work/Data/BlackbuckAnnotations/P2/downsampled/SSD6/20230313/SE_Lek1/P2D3/20230313_SE_Lek1_P2D3_DJI_0317.MP4\n",
      "Tracklets already computed /home/vsridhar/DATA/DeepLabCut/projects/05_TerritoryDetectionP2-Vivek-2023-07-10/output/SSD6/20230313/SE_Lek1/P2D3/20230313_SE_Lek1_P2D3_DJI_0317DLC_dlcrnetms5_05_TerritoryDetectionP2Jul10shuffle1_50000_el.pickle\n",
      "Set overwrite = True to overwrite.\n",
      "The tracklets were created (i.e., under the hood deeplabcut.convert_detections2tracklets was run). Now you can 'refine_tracklets' in the GUI, or run 'deeplabcut.stitch_tracklets'.\n",
      "Processing...  /media/vsridhar/T7/Work/Data/BlackbuckAnnotations/P2/downsampled/SSD6/20230313/SE_Lek1/P2D3/20230313_SE_Lek1_P2D3_DJI_0317.MP4\n"
     ]
    },
    {
     "name": "stderr",
     "output_type": "stream",
     "text": [
      "/home/vsridhar/.local/lib/python3.10/site-packages/deeplabcut/refine_training_dataset/stitch.py:138: FutureWarning: Unlike other reduction functions (e.g. `skew`, `kurtosis`), the default behavior of `mode` typically preserves the axis it acts along. In SciPy 1.11.0, this behavior will change: the default value of `keepdims` will become False, the `axis` over which the statistic is taken will be eliminated, and the value None will no longer be accepted. Set `keepdims` to True or False to avoid this warning.\n",
      "  return mode(self.data[..., 3], axis=None, nan_policy=\"omit\")[0][0]\n",
      "100%|██████████████████████████████████████████████████████████████████████████████████████| 80/80 [00:00<00:00, 3138.77it/s]\n"
     ]
    },
    {
     "name": "stdout",
     "output_type": "stream",
     "text": [
      "Starting to analyze %  /media/vsridhar/T7/Work/Data/BlackbuckAnnotations/P2/downsampled/SSD6/20230313/SE_Lek1/P2D3/20230313_SE_Lek1_P2D3_DJI_0329.MP4\n",
      "Video already analyzed! /home/vsridhar/DATA/DeepLabCut/projects/05_TerritoryDetectionP2-Vivek-2023-07-10/output/SSD6/20230313/SE_Lek1/P2D3/20230313_SE_Lek1_P2D3_DJI_0329DLC_dlcrnetms5_05_TerritoryDetectionP2Jul10shuffle1_50000.h5\n",
      "Using snapshot-50000 for model /home/vsridhar/DATA/DeepLabCut/projects/05_TerritoryDetectionP2-Vivek-2023-07-10/dlc-models/iteration-0/05_TerritoryDetectionP2Jul10-trainset90shuffle1\n",
      "Processing...  /media/vsridhar/T7/Work/Data/BlackbuckAnnotations/P2/downsampled/SSD6/20230313/SE_Lek1/P2D3/20230313_SE_Lek1_P2D3_DJI_0329.MP4\n",
      "Tracklets already computed /home/vsridhar/DATA/DeepLabCut/projects/05_TerritoryDetectionP2-Vivek-2023-07-10/output/SSD6/20230313/SE_Lek1/P2D3/20230313_SE_Lek1_P2D3_DJI_0329DLC_dlcrnetms5_05_TerritoryDetectionP2Jul10shuffle1_50000_el.pickle\n",
      "Set overwrite = True to overwrite.\n",
      "The tracklets were created (i.e., under the hood deeplabcut.convert_detections2tracklets was run). Now you can 'refine_tracklets' in the GUI, or run 'deeplabcut.stitch_tracklets'.\n",
      "Processing...  /media/vsridhar/T7/Work/Data/BlackbuckAnnotations/P2/downsampled/SSD6/20230313/SE_Lek1/P2D3/20230313_SE_Lek1_P2D3_DJI_0329.MP4\n"
     ]
    },
    {
     "name": "stderr",
     "output_type": "stream",
     "text": [
      "/home/vsridhar/.local/lib/python3.10/site-packages/deeplabcut/refine_training_dataset/stitch.py:138: FutureWarning: Unlike other reduction functions (e.g. `skew`, `kurtosis`), the default behavior of `mode` typically preserves the axis it acts along. In SciPy 1.11.0, this behavior will change: the default value of `keepdims` will become False, the `axis` over which the statistic is taken will be eliminated, and the value None will no longer be accepted. Set `keepdims` to True or False to avoid this warning.\n",
      "  return mode(self.data[..., 3], axis=None, nan_policy=\"omit\")[0][0]\n",
      "100%|██████████████████████████████████████████████████████████████████████████████████████| 50/50 [00:00<00:00, 8339.24it/s]\n",
      "/home/vsridhar/.local/lib/python3.10/site-packages/deeplabcut/refine_training_dataset/stitch.py:690: UserWarning: No optimal solution found. Employing black magic...\n",
      "  warnings.warn(\"No optimal solution found. Employing black magic...\")\n",
      "/home/vsridhar/.local/lib/python3.10/site-packages/deeplabcut/refine_training_dataset/stitch.py:763: UserWarning: Only 50 tracks could be reconstructed.\n",
      "  warnings.warn(f\"Only {len(self.paths)} tracks could be reconstructed.\")\n"
     ]
    },
    {
     "name": "stdout",
     "output_type": "stream",
     "text": [
      "Starting to analyze %  /media/vsridhar/T7/Work/Data/BlackbuckAnnotations/P2/downsampled/SSD6/20230313/SE_Lek1/P2D3/20230313_SE_Lek1_P2D3_DJI_0318.MP4\n",
      "Video already analyzed! /home/vsridhar/DATA/DeepLabCut/projects/05_TerritoryDetectionP2-Vivek-2023-07-10/output/SSD6/20230313/SE_Lek1/P2D3/20230313_SE_Lek1_P2D3_DJI_0318DLC_dlcrnetms5_05_TerritoryDetectionP2Jul10shuffle1_50000.h5\n",
      "Using snapshot-50000 for model /home/vsridhar/DATA/DeepLabCut/projects/05_TerritoryDetectionP2-Vivek-2023-07-10/dlc-models/iteration-0/05_TerritoryDetectionP2Jul10-trainset90shuffle1\n",
      "Processing...  /media/vsridhar/T7/Work/Data/BlackbuckAnnotations/P2/downsampled/SSD6/20230313/SE_Lek1/P2D3/20230313_SE_Lek1_P2D3_DJI_0318.MP4\n",
      "Tracklets already computed /home/vsridhar/DATA/DeepLabCut/projects/05_TerritoryDetectionP2-Vivek-2023-07-10/output/SSD6/20230313/SE_Lek1/P2D3/20230313_SE_Lek1_P2D3_DJI_0318DLC_dlcrnetms5_05_TerritoryDetectionP2Jul10shuffle1_50000_el.pickle\n",
      "Set overwrite = True to overwrite.\n",
      "The tracklets were created (i.e., under the hood deeplabcut.convert_detections2tracklets was run). Now you can 'refine_tracklets' in the GUI, or run 'deeplabcut.stitch_tracklets'.\n",
      "Processing...  /media/vsridhar/T7/Work/Data/BlackbuckAnnotations/P2/downsampled/SSD6/20230313/SE_Lek1/P2D3/20230313_SE_Lek1_P2D3_DJI_0318.MP4\n"
     ]
    },
    {
     "name": "stderr",
     "output_type": "stream",
     "text": [
      "/home/vsridhar/.local/lib/python3.10/site-packages/deeplabcut/refine_training_dataset/stitch.py:138: FutureWarning: Unlike other reduction functions (e.g. `skew`, `kurtosis`), the default behavior of `mode` typically preserves the axis it acts along. In SciPy 1.11.0, this behavior will change: the default value of `keepdims` will become False, the `axis` over which the statistic is taken will be eliminated, and the value None will no longer be accepted. Set `keepdims` to True or False to avoid this warning.\n",
      "  return mode(self.data[..., 3], axis=None, nan_policy=\"omit\")[0][0]\n",
      "100%|██████████████████████████████████████████████████████████████████████████████████████| 91/91 [00:00<00:00, 2248.27it/s]\n"
     ]
    },
    {
     "name": "stdout",
     "output_type": "stream",
     "text": [
      "Starting to analyze %  /media/vsridhar/T7/Work/Data/BlackbuckAnnotations/P2/downsampled/SSD6/20230313/SE_Lek1/P2D3/20230313_SE_Lek1_P2D3_DJI_0313.MP4\n",
      "Video already analyzed! /home/vsridhar/DATA/DeepLabCut/projects/05_TerritoryDetectionP2-Vivek-2023-07-10/output/SSD6/20230313/SE_Lek1/P2D3/20230313_SE_Lek1_P2D3_DJI_0313DLC_dlcrnetms5_05_TerritoryDetectionP2Jul10shuffle1_50000.h5\n",
      "Using snapshot-50000 for model /home/vsridhar/DATA/DeepLabCut/projects/05_TerritoryDetectionP2-Vivek-2023-07-10/dlc-models/iteration-0/05_TerritoryDetectionP2Jul10-trainset90shuffle1\n",
      "Processing...  /media/vsridhar/T7/Work/Data/BlackbuckAnnotations/P2/downsampled/SSD6/20230313/SE_Lek1/P2D3/20230313_SE_Lek1_P2D3_DJI_0313.MP4\n",
      "Tracklets already computed /home/vsridhar/DATA/DeepLabCut/projects/05_TerritoryDetectionP2-Vivek-2023-07-10/output/SSD6/20230313/SE_Lek1/P2D3/20230313_SE_Lek1_P2D3_DJI_0313DLC_dlcrnetms5_05_TerritoryDetectionP2Jul10shuffle1_50000_el.pickle\n",
      "Set overwrite = True to overwrite.\n",
      "The tracklets were created (i.e., under the hood deeplabcut.convert_detections2tracklets was run). Now you can 'refine_tracklets' in the GUI, or run 'deeplabcut.stitch_tracklets'.\n",
      "Processing...  /media/vsridhar/T7/Work/Data/BlackbuckAnnotations/P2/downsampled/SSD6/20230313/SE_Lek1/P2D3/20230313_SE_Lek1_P2D3_DJI_0313.MP4\n"
     ]
    },
    {
     "name": "stderr",
     "output_type": "stream",
     "text": [
      "/home/vsridhar/.local/lib/python3.10/site-packages/deeplabcut/refine_training_dataset/stitch.py:138: FutureWarning: Unlike other reduction functions (e.g. `skew`, `kurtosis`), the default behavior of `mode` typically preserves the axis it acts along. In SciPy 1.11.0, this behavior will change: the default value of `keepdims` will become False, the `axis` over which the statistic is taken will be eliminated, and the value None will no longer be accepted. Set `keepdims` to True or False to avoid this warning.\n",
      "  return mode(self.data[..., 3], axis=None, nan_policy=\"omit\")[0][0]\n",
      "100%|████████████████████████████████████████████████████████████████████████████████████| 176/176 [00:00<00:00, 2377.14it/s]\n"
     ]
    },
    {
     "name": "stdout",
     "output_type": "stream",
     "text": [
      "Starting to analyze %  /media/vsridhar/T7/Work/Data/BlackbuckAnnotations/P2/downsampled/SSD6/20230313/SE_Lek1/P2D3/20230313_SE_Lek1_P2D3_DJI_0324.MP4\n",
      "Video already analyzed! /home/vsridhar/DATA/DeepLabCut/projects/05_TerritoryDetectionP2-Vivek-2023-07-10/output/SSD6/20230313/SE_Lek1/P2D3/20230313_SE_Lek1_P2D3_DJI_0324DLC_dlcrnetms5_05_TerritoryDetectionP2Jul10shuffle1_50000.h5\n",
      "Using snapshot-50000 for model /home/vsridhar/DATA/DeepLabCut/projects/05_TerritoryDetectionP2-Vivek-2023-07-10/dlc-models/iteration-0/05_TerritoryDetectionP2Jul10-trainset90shuffle1\n",
      "Processing...  /media/vsridhar/T7/Work/Data/BlackbuckAnnotations/P2/downsampled/SSD6/20230313/SE_Lek1/P2D3/20230313_SE_Lek1_P2D3_DJI_0324.MP4\n",
      "Tracklets already computed /home/vsridhar/DATA/DeepLabCut/projects/05_TerritoryDetectionP2-Vivek-2023-07-10/output/SSD6/20230313/SE_Lek1/P2D3/20230313_SE_Lek1_P2D3_DJI_0324DLC_dlcrnetms5_05_TerritoryDetectionP2Jul10shuffle1_50000_el.pickle\n",
      "Set overwrite = True to overwrite.\n",
      "The tracklets were created (i.e., under the hood deeplabcut.convert_detections2tracklets was run). Now you can 'refine_tracklets' in the GUI, or run 'deeplabcut.stitch_tracklets'.\n",
      "Processing...  /media/vsridhar/T7/Work/Data/BlackbuckAnnotations/P2/downsampled/SSD6/20230313/SE_Lek1/P2D3/20230313_SE_Lek1_P2D3_DJI_0324.MP4\n"
     ]
    },
    {
     "name": "stderr",
     "output_type": "stream",
     "text": [
      "/home/vsridhar/.local/lib/python3.10/site-packages/deeplabcut/refine_training_dataset/stitch.py:138: FutureWarning: Unlike other reduction functions (e.g. `skew`, `kurtosis`), the default behavior of `mode` typically preserves the axis it acts along. In SciPy 1.11.0, this behavior will change: the default value of `keepdims` will become False, the `axis` over which the statistic is taken will be eliminated, and the value None will no longer be accepted. Set `keepdims` to True or False to avoid this warning.\n",
      "  return mode(self.data[..., 3], axis=None, nan_policy=\"omit\")[0][0]\n",
      "100%|█████████████████████████████████████████████████████████████████████████████████████| 36/36 [00:00<00:00, 27807.54it/s]\n",
      "/home/vsridhar/.local/lib/python3.10/site-packages/deeplabcut/refine_training_dataset/stitch.py:690: UserWarning: No optimal solution found. Employing black magic...\n",
      "  warnings.warn(\"No optimal solution found. Employing black magic...\")\n",
      "/home/vsridhar/.local/lib/python3.10/site-packages/deeplabcut/refine_training_dataset/stitch.py:763: UserWarning: Only 36 tracks could be reconstructed.\n",
      "  warnings.warn(f\"Only {len(self.paths)} tracks could be reconstructed.\")\n"
     ]
    },
    {
     "name": "stdout",
     "output_type": "stream",
     "text": [
      "Starting to analyze %  /media/vsridhar/T7/Work/Data/BlackbuckAnnotations/P2/downsampled/SSD6/20230313/SE_Lek1/P2D3/20230313_SE_Lek1_P2D3_DJI_0323.MP4\n",
      "Video already analyzed! /home/vsridhar/DATA/DeepLabCut/projects/05_TerritoryDetectionP2-Vivek-2023-07-10/output/SSD6/20230313/SE_Lek1/P2D3/20230313_SE_Lek1_P2D3_DJI_0323DLC_dlcrnetms5_05_TerritoryDetectionP2Jul10shuffle1_50000.h5\n",
      "Using snapshot-50000 for model /home/vsridhar/DATA/DeepLabCut/projects/05_TerritoryDetectionP2-Vivek-2023-07-10/dlc-models/iteration-0/05_TerritoryDetectionP2Jul10-trainset90shuffle1\n",
      "Processing...  /media/vsridhar/T7/Work/Data/BlackbuckAnnotations/P2/downsampled/SSD6/20230313/SE_Lek1/P2D3/20230313_SE_Lek1_P2D3_DJI_0323.MP4\n",
      "Tracklets already computed /home/vsridhar/DATA/DeepLabCut/projects/05_TerritoryDetectionP2-Vivek-2023-07-10/output/SSD6/20230313/SE_Lek1/P2D3/20230313_SE_Lek1_P2D3_DJI_0323DLC_dlcrnetms5_05_TerritoryDetectionP2Jul10shuffle1_50000_el.pickle\n",
      "Set overwrite = True to overwrite.\n",
      "The tracklets were created (i.e., under the hood deeplabcut.convert_detections2tracklets was run). Now you can 'refine_tracklets' in the GUI, or run 'deeplabcut.stitch_tracklets'.\n",
      "Processing...  /media/vsridhar/T7/Work/Data/BlackbuckAnnotations/P2/downsampled/SSD6/20230313/SE_Lek1/P2D3/20230313_SE_Lek1_P2D3_DJI_0323.MP4\n"
     ]
    },
    {
     "name": "stderr",
     "output_type": "stream",
     "text": [
      "/home/vsridhar/.local/lib/python3.10/site-packages/deeplabcut/refine_training_dataset/stitch.py:138: FutureWarning: Unlike other reduction functions (e.g. `skew`, `kurtosis`), the default behavior of `mode` typically preserves the axis it acts along. In SciPy 1.11.0, this behavior will change: the default value of `keepdims` will become False, the `axis` over which the statistic is taken will be eliminated, and the value None will no longer be accepted. Set `keepdims` to True or False to avoid this warning.\n",
      "  return mode(self.data[..., 3], axis=None, nan_policy=\"omit\")[0][0]\n",
      "100%|██████████████████████████████████████████████████████████████████████████████████████| 73/73 [00:00<00:00, 1779.20it/s]\n"
     ]
    },
    {
     "name": "stdout",
     "output_type": "stream",
     "text": [
      "Starting to analyze %  /media/vsridhar/T7/Work/Data/BlackbuckAnnotations/P2/downsampled/SSD6/20230313/SE_Lek1/P2D3/20230313_SE_Lek1_P2D3_DJI_0316.MP4\n",
      "Video already analyzed! /home/vsridhar/DATA/DeepLabCut/projects/05_TerritoryDetectionP2-Vivek-2023-07-10/output/SSD6/20230313/SE_Lek1/P2D3/20230313_SE_Lek1_P2D3_DJI_0316DLC_dlcrnetms5_05_TerritoryDetectionP2Jul10shuffle1_50000.h5\n",
      "Using snapshot-50000 for model /home/vsridhar/DATA/DeepLabCut/projects/05_TerritoryDetectionP2-Vivek-2023-07-10/dlc-models/iteration-0/05_TerritoryDetectionP2Jul10-trainset90shuffle1\n",
      "Processing...  /media/vsridhar/T7/Work/Data/BlackbuckAnnotations/P2/downsampled/SSD6/20230313/SE_Lek1/P2D3/20230313_SE_Lek1_P2D3_DJI_0316.MP4\n",
      "Tracklets already computed /home/vsridhar/DATA/DeepLabCut/projects/05_TerritoryDetectionP2-Vivek-2023-07-10/output/SSD6/20230313/SE_Lek1/P2D3/20230313_SE_Lek1_P2D3_DJI_0316DLC_dlcrnetms5_05_TerritoryDetectionP2Jul10shuffle1_50000_el.pickle\n",
      "Set overwrite = True to overwrite.\n",
      "The tracklets were created (i.e., under the hood deeplabcut.convert_detections2tracklets was run). Now you can 'refine_tracklets' in the GUI, or run 'deeplabcut.stitch_tracklets'.\n",
      "Processing...  /media/vsridhar/T7/Work/Data/BlackbuckAnnotations/P2/downsampled/SSD6/20230313/SE_Lek1/P2D3/20230313_SE_Lek1_P2D3_DJI_0316.MP4\n"
     ]
    },
    {
     "name": "stderr",
     "output_type": "stream",
     "text": [
      "/home/vsridhar/.local/lib/python3.10/site-packages/deeplabcut/refine_training_dataset/stitch.py:138: FutureWarning: Unlike other reduction functions (e.g. `skew`, `kurtosis`), the default behavior of `mode` typically preserves the axis it acts along. In SciPy 1.11.0, this behavior will change: the default value of `keepdims` will become False, the `axis` over which the statistic is taken will be eliminated, and the value None will no longer be accepted. Set `keepdims` to True or False to avoid this warning.\n",
      "  return mode(self.data[..., 3], axis=None, nan_policy=\"omit\")[0][0]\n",
      "100%|████████████████████████████████████████████████████████████████████████████████████| 122/122 [00:00<00:00, 1997.77it/s]\n"
     ]
    },
    {
     "name": "stdout",
     "output_type": "stream",
     "text": [
      "Starting to analyze %  /media/vsridhar/T7/Work/Data/BlackbuckAnnotations/P2/downsampled/SSD6/20230313/SE_Lek1/P2D3/20230313_SE_Lek1_P2D3_DJI_0326.MP4\n",
      "Video already analyzed! /home/vsridhar/DATA/DeepLabCut/projects/05_TerritoryDetectionP2-Vivek-2023-07-10/output/SSD6/20230313/SE_Lek1/P2D3/20230313_SE_Lek1_P2D3_DJI_0326DLC_dlcrnetms5_05_TerritoryDetectionP2Jul10shuffle1_50000.h5\n",
      "Using snapshot-50000 for model /home/vsridhar/DATA/DeepLabCut/projects/05_TerritoryDetectionP2-Vivek-2023-07-10/dlc-models/iteration-0/05_TerritoryDetectionP2Jul10-trainset90shuffle1\n",
      "Processing...  /media/vsridhar/T7/Work/Data/BlackbuckAnnotations/P2/downsampled/SSD6/20230313/SE_Lek1/P2D3/20230313_SE_Lek1_P2D3_DJI_0326.MP4\n",
      "Tracklets already computed /home/vsridhar/DATA/DeepLabCut/projects/05_TerritoryDetectionP2-Vivek-2023-07-10/output/SSD6/20230313/SE_Lek1/P2D3/20230313_SE_Lek1_P2D3_DJI_0326DLC_dlcrnetms5_05_TerritoryDetectionP2Jul10shuffle1_50000_el.pickle\n",
      "Set overwrite = True to overwrite.\n",
      "The tracklets were created (i.e., under the hood deeplabcut.convert_detections2tracklets was run). Now you can 'refine_tracklets' in the GUI, or run 'deeplabcut.stitch_tracklets'.\n",
      "Processing...  /media/vsridhar/T7/Work/Data/BlackbuckAnnotations/P2/downsampled/SSD6/20230313/SE_Lek1/P2D3/20230313_SE_Lek1_P2D3_DJI_0326.MP4\n"
     ]
    },
    {
     "name": "stderr",
     "output_type": "stream",
     "text": [
      "/home/vsridhar/.local/lib/python3.10/site-packages/deeplabcut/refine_training_dataset/stitch.py:138: FutureWarning: Unlike other reduction functions (e.g. `skew`, `kurtosis`), the default behavior of `mode` typically preserves the axis it acts along. In SciPy 1.11.0, this behavior will change: the default value of `keepdims` will become False, the `axis` over which the statistic is taken will be eliminated, and the value None will no longer be accepted. Set `keepdims` to True or False to avoid this warning.\n",
      "  return mode(self.data[..., 3], axis=None, nan_policy=\"omit\")[0][0]\n",
      "100%|████████████████████████████████████████████████████████████████████████████████████| 124/124 [00:00<00:00, 1926.77it/s]\n"
     ]
    },
    {
     "name": "stdout",
     "output_type": "stream",
     "text": [
      "Starting to analyze %  /media/vsridhar/T7/Work/Data/BlackbuckAnnotations/P2/downsampled/SSD6/20230313/SE_Lek1/P2D3/20230313_SE_Lek1_P2D3_DJI_0330.MP4\n",
      "Video already analyzed! /home/vsridhar/DATA/DeepLabCut/projects/05_TerritoryDetectionP2-Vivek-2023-07-10/output/SSD6/20230313/SE_Lek1/P2D3/20230313_SE_Lek1_P2D3_DJI_0330DLC_dlcrnetms5_05_TerritoryDetectionP2Jul10shuffle1_50000.h5\n",
      "Using snapshot-50000 for model /home/vsridhar/DATA/DeepLabCut/projects/05_TerritoryDetectionP2-Vivek-2023-07-10/dlc-models/iteration-0/05_TerritoryDetectionP2Jul10-trainset90shuffle1\n",
      "Processing...  /media/vsridhar/T7/Work/Data/BlackbuckAnnotations/P2/downsampled/SSD6/20230313/SE_Lek1/P2D3/20230313_SE_Lek1_P2D3_DJI_0330.MP4\n",
      "Tracklets already computed /home/vsridhar/DATA/DeepLabCut/projects/05_TerritoryDetectionP2-Vivek-2023-07-10/output/SSD6/20230313/SE_Lek1/P2D3/20230313_SE_Lek1_P2D3_DJI_0330DLC_dlcrnetms5_05_TerritoryDetectionP2Jul10shuffle1_50000_el.pickle\n",
      "Set overwrite = True to overwrite.\n",
      "The tracklets were created (i.e., under the hood deeplabcut.convert_detections2tracklets was run). Now you can 'refine_tracklets' in the GUI, or run 'deeplabcut.stitch_tracklets'.\n",
      "Processing...  /media/vsridhar/T7/Work/Data/BlackbuckAnnotations/P2/downsampled/SSD6/20230313/SE_Lek1/P2D3/20230313_SE_Lek1_P2D3_DJI_0330.MP4\n"
     ]
    },
    {
     "name": "stderr",
     "output_type": "stream",
     "text": [
      "/home/vsridhar/.local/lib/python3.10/site-packages/deeplabcut/refine_training_dataset/stitch.py:138: FutureWarning: Unlike other reduction functions (e.g. `skew`, `kurtosis`), the default behavior of `mode` typically preserves the axis it acts along. In SciPy 1.11.0, this behavior will change: the default value of `keepdims` will become False, the `axis` over which the statistic is taken will be eliminated, and the value None will no longer be accepted. Set `keepdims` to True or False to avoid this warning.\n",
      "  return mode(self.data[..., 3], axis=None, nan_policy=\"omit\")[0][0]\n",
      "100%|█████████████████████████████████████████████████████████████████████████████████████| 42/42 [00:00<00:00, 22386.68it/s]\n",
      "/home/vsridhar/.local/lib/python3.10/site-packages/deeplabcut/refine_training_dataset/stitch.py:690: UserWarning: No optimal solution found. Employing black magic...\n",
      "  warnings.warn(\"No optimal solution found. Employing black magic...\")\n",
      "/home/vsridhar/.local/lib/python3.10/site-packages/deeplabcut/refine_training_dataset/stitch.py:763: UserWarning: Only 42 tracks could be reconstructed.\n",
      "  warnings.warn(f\"Only {len(self.paths)} tracks could be reconstructed.\")\n"
     ]
    },
    {
     "name": "stdout",
     "output_type": "stream",
     "text": [
      "Starting to analyze %  /media/vsridhar/T7/Work/Data/BlackbuckAnnotations/P2/downsampled/SSD6/20230313/SE_Lek1/P2D3/20230313_SE_Lek1_P2D3_DJI_0319.MP4\n",
      "Video already analyzed! /home/vsridhar/DATA/DeepLabCut/projects/05_TerritoryDetectionP2-Vivek-2023-07-10/output/SSD6/20230313/SE_Lek1/P2D3/20230313_SE_Lek1_P2D3_DJI_0319DLC_dlcrnetms5_05_TerritoryDetectionP2Jul10shuffle1_50000.h5\n",
      "Using snapshot-50000 for model /home/vsridhar/DATA/DeepLabCut/projects/05_TerritoryDetectionP2-Vivek-2023-07-10/dlc-models/iteration-0/05_TerritoryDetectionP2Jul10-trainset90shuffle1\n",
      "Processing...  /media/vsridhar/T7/Work/Data/BlackbuckAnnotations/P2/downsampled/SSD6/20230313/SE_Lek1/P2D3/20230313_SE_Lek1_P2D3_DJI_0319.MP4\n",
      "Tracklets already computed /home/vsridhar/DATA/DeepLabCut/projects/05_TerritoryDetectionP2-Vivek-2023-07-10/output/SSD6/20230313/SE_Lek1/P2D3/20230313_SE_Lek1_P2D3_DJI_0319DLC_dlcrnetms5_05_TerritoryDetectionP2Jul10shuffle1_50000_el.pickle\n",
      "Set overwrite = True to overwrite.\n",
      "The tracklets were created (i.e., under the hood deeplabcut.convert_detections2tracklets was run). Now you can 'refine_tracklets' in the GUI, or run 'deeplabcut.stitch_tracklets'.\n",
      "Processing...  /media/vsridhar/T7/Work/Data/BlackbuckAnnotations/P2/downsampled/SSD6/20230313/SE_Lek1/P2D3/20230313_SE_Lek1_P2D3_DJI_0319.MP4\n"
     ]
    },
    {
     "name": "stderr",
     "output_type": "stream",
     "text": [
      "/home/vsridhar/.local/lib/python3.10/site-packages/deeplabcut/refine_training_dataset/stitch.py:138: FutureWarning: Unlike other reduction functions (e.g. `skew`, `kurtosis`), the default behavior of `mode` typically preserves the axis it acts along. In SciPy 1.11.0, this behavior will change: the default value of `keepdims` will become False, the `axis` over which the statistic is taken will be eliminated, and the value None will no longer be accepted. Set `keepdims` to True or False to avoid this warning.\n",
      "  return mode(self.data[..., 3], axis=None, nan_policy=\"omit\")[0][0]\n",
      "100%|██████████████████████████████████████████████████████████████████████████████████████| 55/55 [00:00<00:00, 6958.46it/s]\n",
      "/home/vsridhar/.local/lib/python3.10/site-packages/deeplabcut/refine_training_dataset/stitch.py:690: UserWarning: No optimal solution found. Employing black magic...\n",
      "  warnings.warn(\"No optimal solution found. Employing black magic...\")\n",
      "/home/vsridhar/.local/lib/python3.10/site-packages/deeplabcut/refine_training_dataset/stitch.py:763: UserWarning: Only 55 tracks could be reconstructed.\n",
      "  warnings.warn(f\"Only {len(self.paths)} tracks could be reconstructed.\")\n"
     ]
    },
    {
     "name": "stdout",
     "output_type": "stream",
     "text": [
      "Starting to analyze %  /media/vsridhar/T7/Work/Data/BlackbuckAnnotations/P2/downsampled/SSD6/20230313/SE_Lek1/P2D3/20230313_SE_Lek1_P2D3_DJI_0327.MP4\n",
      "Video already analyzed! /home/vsridhar/DATA/DeepLabCut/projects/05_TerritoryDetectionP2-Vivek-2023-07-10/output/SSD6/20230313/SE_Lek1/P2D3/20230313_SE_Lek1_P2D3_DJI_0327DLC_dlcrnetms5_05_TerritoryDetectionP2Jul10shuffle1_50000.h5\n",
      "Using snapshot-50000 for model /home/vsridhar/DATA/DeepLabCut/projects/05_TerritoryDetectionP2-Vivek-2023-07-10/dlc-models/iteration-0/05_TerritoryDetectionP2Jul10-trainset90shuffle1\n",
      "Processing...  /media/vsridhar/T7/Work/Data/BlackbuckAnnotations/P2/downsampled/SSD6/20230313/SE_Lek1/P2D3/20230313_SE_Lek1_P2D3_DJI_0327.MP4\n",
      "Tracklets already computed /home/vsridhar/DATA/DeepLabCut/projects/05_TerritoryDetectionP2-Vivek-2023-07-10/output/SSD6/20230313/SE_Lek1/P2D3/20230313_SE_Lek1_P2D3_DJI_0327DLC_dlcrnetms5_05_TerritoryDetectionP2Jul10shuffle1_50000_el.pickle\n",
      "Set overwrite = True to overwrite.\n",
      "The tracklets were created (i.e., under the hood deeplabcut.convert_detections2tracklets was run). Now you can 'refine_tracklets' in the GUI, or run 'deeplabcut.stitch_tracklets'.\n",
      "Processing...  /media/vsridhar/T7/Work/Data/BlackbuckAnnotations/P2/downsampled/SSD6/20230313/SE_Lek1/P2D3/20230313_SE_Lek1_P2D3_DJI_0327.MP4\n"
     ]
    },
    {
     "name": "stderr",
     "output_type": "stream",
     "text": [
      "/home/vsridhar/.local/lib/python3.10/site-packages/deeplabcut/refine_training_dataset/stitch.py:138: FutureWarning: Unlike other reduction functions (e.g. `skew`, `kurtosis`), the default behavior of `mode` typically preserves the axis it acts along. In SciPy 1.11.0, this behavior will change: the default value of `keepdims` will become False, the `axis` over which the statistic is taken will be eliminated, and the value None will no longer be accepted. Set `keepdims` to True or False to avoid this warning.\n",
      "  return mode(self.data[..., 3], axis=None, nan_policy=\"omit\")[0][0]\n",
      "100%|██████████████████████████████████████████████████████████████████████████████████████| 50/50 [00:00<00:00, 7613.83it/s]\n",
      "/home/vsridhar/.local/lib/python3.10/site-packages/deeplabcut/refine_training_dataset/stitch.py:690: UserWarning: No optimal solution found. Employing black magic...\n",
      "  warnings.warn(\"No optimal solution found. Employing black magic...\")\n",
      "/home/vsridhar/.local/lib/python3.10/site-packages/deeplabcut/refine_training_dataset/stitch.py:763: UserWarning: Only 50 tracks could be reconstructed.\n",
      "  warnings.warn(f\"Only {len(self.paths)} tracks could be reconstructed.\")\n"
     ]
    },
    {
     "name": "stdout",
     "output_type": "stream",
     "text": [
      "Starting to analyze %  /media/vsridhar/T7/Work/Data/BlackbuckAnnotations/P2/downsampled/SSD6/20230313/SE_Lek1/P2D3/20230313_SE_Lek1_P2D3_DJI_0331.MP4\n",
      "Video already analyzed! /home/vsridhar/DATA/DeepLabCut/projects/05_TerritoryDetectionP2-Vivek-2023-07-10/output/SSD6/20230313/SE_Lek1/P2D3/20230313_SE_Lek1_P2D3_DJI_0331DLC_dlcrnetms5_05_TerritoryDetectionP2Jul10shuffle1_50000.h5\n",
      "Using snapshot-50000 for model /home/vsridhar/DATA/DeepLabCut/projects/05_TerritoryDetectionP2-Vivek-2023-07-10/dlc-models/iteration-0/05_TerritoryDetectionP2Jul10-trainset90shuffle1\n",
      "Processing...  /media/vsridhar/T7/Work/Data/BlackbuckAnnotations/P2/downsampled/SSD6/20230313/SE_Lek1/P2D3/20230313_SE_Lek1_P2D3_DJI_0331.MP4\n",
      "Tracklets already computed /home/vsridhar/DATA/DeepLabCut/projects/05_TerritoryDetectionP2-Vivek-2023-07-10/output/SSD6/20230313/SE_Lek1/P2D3/20230313_SE_Lek1_P2D3_DJI_0331DLC_dlcrnetms5_05_TerritoryDetectionP2Jul10shuffle1_50000_el.pickle\n",
      "Set overwrite = True to overwrite.\n",
      "The tracklets were created (i.e., under the hood deeplabcut.convert_detections2tracklets was run). Now you can 'refine_tracklets' in the GUI, or run 'deeplabcut.stitch_tracklets'.\n",
      "Processing...  /media/vsridhar/T7/Work/Data/BlackbuckAnnotations/P2/downsampled/SSD6/20230313/SE_Lek1/P2D3/20230313_SE_Lek1_P2D3_DJI_0331.MP4\n"
     ]
    },
    {
     "name": "stderr",
     "output_type": "stream",
     "text": [
      "/home/vsridhar/.local/lib/python3.10/site-packages/deeplabcut/refine_training_dataset/stitch.py:138: FutureWarning: Unlike other reduction functions (e.g. `skew`, `kurtosis`), the default behavior of `mode` typically preserves the axis it acts along. In SciPy 1.11.0, this behavior will change: the default value of `keepdims` will become False, the `axis` over which the statistic is taken will be eliminated, and the value None will no longer be accepted. Set `keepdims` to True or False to avoid this warning.\n",
      "  return mode(self.data[..., 3], axis=None, nan_policy=\"omit\")[0][0]\n",
      "100%|████████████████████████████████████████████████████████████████████████████████████| 35/35 [00:00<00:00, 176443.08it/s]\n",
      "/home/vsridhar/.local/lib/python3.10/site-packages/deeplabcut/refine_training_dataset/stitch.py:690: UserWarning: No optimal solution found. Employing black magic...\n",
      "  warnings.warn(\"No optimal solution found. Employing black magic...\")\n",
      "/home/vsridhar/.local/lib/python3.10/site-packages/deeplabcut/refine_training_dataset/stitch.py:763: UserWarning: Only 35 tracks could be reconstructed.\n",
      "  warnings.warn(f\"Only {len(self.paths)} tracks could be reconstructed.\")\n",
      "/home/vsridhar/.local/lib/python3.10/site-packages/deeplabcut/refine_training_dataset/stitch.py:138: FutureWarning: Unlike other reduction functions (e.g. `skew`, `kurtosis`), the default behavior of `mode` typically preserves the axis it acts along. In SciPy 1.11.0, this behavior will change: the default value of `keepdims` will become False, the `axis` over which the statistic is taken will be eliminated, and the value None will no longer be accepted. Set `keepdims` to True or False to avoid this warning.\n",
      "  return mode(self.data[..., 3], axis=None, nan_policy=\"omit\")[0][0]\n"
     ]
    },
    {
     "name": "stdout",
     "output_type": "stream",
     "text": [
      "Starting to analyze %  /media/vsridhar/T7/Work/Data/BlackbuckAnnotations/P2/downsampled/SSD6/20230313/SE_Lek1/P2D3/20230313_SE_Lek1_P2D3_DJI_0315.MP4\n",
      "Video already analyzed! /home/vsridhar/DATA/DeepLabCut/projects/05_TerritoryDetectionP2-Vivek-2023-07-10/output/SSD6/20230313/SE_Lek1/P2D3/20230313_SE_Lek1_P2D3_DJI_0315DLC_dlcrnetms5_05_TerritoryDetectionP2Jul10shuffle1_50000.h5\n",
      "Using snapshot-50000 for model /home/vsridhar/DATA/DeepLabCut/projects/05_TerritoryDetectionP2-Vivek-2023-07-10/dlc-models/iteration-0/05_TerritoryDetectionP2Jul10-trainset90shuffle1\n",
      "Processing...  /media/vsridhar/T7/Work/Data/BlackbuckAnnotations/P2/downsampled/SSD6/20230313/SE_Lek1/P2D3/20230313_SE_Lek1_P2D3_DJI_0315.MP4\n",
      "Tracklets already computed /home/vsridhar/DATA/DeepLabCut/projects/05_TerritoryDetectionP2-Vivek-2023-07-10/output/SSD6/20230313/SE_Lek1/P2D3/20230313_SE_Lek1_P2D3_DJI_0315DLC_dlcrnetms5_05_TerritoryDetectionP2Jul10shuffle1_50000_el.pickle\n",
      "Set overwrite = True to overwrite.\n",
      "The tracklets were created (i.e., under the hood deeplabcut.convert_detections2tracklets was run). Now you can 'refine_tracklets' in the GUI, or run 'deeplabcut.stitch_tracklets'.\n",
      "Processing...  /media/vsridhar/T7/Work/Data/BlackbuckAnnotations/P2/downsampled/SSD6/20230313/SE_Lek1/P2D3/20230313_SE_Lek1_P2D3_DJI_0315.MP4\n"
     ]
    },
    {
     "name": "stderr",
     "output_type": "stream",
     "text": [
      "100%|████████████████████████████████████████████████████████████████████████████████████| 34/34 [00:00<00:00, 151066.03it/s]\n",
      "/home/vsridhar/.local/lib/python3.10/site-packages/deeplabcut/refine_training_dataset/stitch.py:690: UserWarning: No optimal solution found. Employing black magic...\n",
      "  warnings.warn(\"No optimal solution found. Employing black magic...\")\n",
      "/home/vsridhar/.local/lib/python3.10/site-packages/deeplabcut/refine_training_dataset/stitch.py:763: UserWarning: Only 34 tracks could be reconstructed.\n",
      "  warnings.warn(f\"Only {len(self.paths)} tracks could be reconstructed.\")\n"
     ]
    },
    {
     "name": "stdout",
     "output_type": "stream",
     "text": [
      "The videos are analyzed. Time to assemble animals and track 'em... \n",
      " Call 'create_video_with_all_detections' to check multi-animal detection quality before tracking.\n",
      "If the tracking is not satisfactory for some videos, consider expanding the training set. You can use the function 'extract_outlier_frames' to extract a few representative outlier frames.\n",
      "Using snapshot-50000 for model /home/vsridhar/DATA/DeepLabCut/projects/05_TerritoryDetectionP2-Vivek-2023-07-10/dlc-models/iteration-0/05_TerritoryDetectionP2Jul10-trainset90shuffle1\n"
     ]
    },
    {
     "name": "stderr",
     "output_type": "stream",
     "text": [
      "/home/vsridhar/.local/lib/python3.10/site-packages/tensorflow/python/keras/engine/base_layer_v1.py:1694: UserWarning: `layer.apply` is deprecated and will be removed in a future version. Please use `layer.__call__` method instead.\n",
      "  warnings.warn('`layer.apply` is deprecated and '\n",
      "/home/vsridhar/.local/lib/python3.10/site-packages/tf_slim/layers/layers.py:684: UserWarning: `layer.apply` is deprecated and will be removed in a future version. Please use `layer.__call__` method instead.\n",
      "  outputs = layer.apply(inputs, training=is_training)\n"
     ]
    },
    {
     "name": "stdout",
     "output_type": "stream",
     "text": [
      "Activating extracting of PAFs\n",
      "Analyzing all the videos in the directory...\n",
      "Starting to analyze %  /media/vsridhar/T7/Work/Data/BlackbuckAnnotations/P2/downsampled/SSD6/20230313/SE_Lek1/P2D4/20230313_SE_Lek1_P2D4_DJI_0953.MP4\n",
      "Video already analyzed! /home/vsridhar/DATA/DeepLabCut/projects/05_TerritoryDetectionP2-Vivek-2023-07-10/output/SSD6/20230313/SE_Lek1/P2D4/20230313_SE_Lek1_P2D4_DJI_0953DLC_dlcrnetms5_05_TerritoryDetectionP2Jul10shuffle1_50000.h5\n",
      "Using snapshot-50000 for model /home/vsridhar/DATA/DeepLabCut/projects/05_TerritoryDetectionP2-Vivek-2023-07-10/dlc-models/iteration-0/05_TerritoryDetectionP2Jul10-trainset90shuffle1\n",
      "Processing...  /media/vsridhar/T7/Work/Data/BlackbuckAnnotations/P2/downsampled/SSD6/20230313/SE_Lek1/P2D4/20230313_SE_Lek1_P2D4_DJI_0953.MP4\n",
      "Tracklets already computed /home/vsridhar/DATA/DeepLabCut/projects/05_TerritoryDetectionP2-Vivek-2023-07-10/output/SSD6/20230313/SE_Lek1/P2D4/20230313_SE_Lek1_P2D4_DJI_0953DLC_dlcrnetms5_05_TerritoryDetectionP2Jul10shuffle1_50000_el.pickle\n",
      "Set overwrite = True to overwrite.\n",
      "The tracklets were created (i.e., under the hood deeplabcut.convert_detections2tracklets was run). Now you can 'refine_tracklets' in the GUI, or run 'deeplabcut.stitch_tracklets'.\n",
      "Processing...  /media/vsridhar/T7/Work/Data/BlackbuckAnnotations/P2/downsampled/SSD6/20230313/SE_Lek1/P2D4/20230313_SE_Lek1_P2D4_DJI_0953.MP4\n"
     ]
    },
    {
     "name": "stderr",
     "output_type": "stream",
     "text": [
      "/home/vsridhar/.local/lib/python3.10/site-packages/deeplabcut/refine_training_dataset/stitch.py:138: FutureWarning: Unlike other reduction functions (e.g. `skew`, `kurtosis`), the default behavior of `mode` typically preserves the axis it acts along. In SciPy 1.11.0, this behavior will change: the default value of `keepdims` will become False, the `axis` over which the statistic is taken will be eliminated, and the value None will no longer be accepted. Set `keepdims` to True or False to avoid this warning.\n",
      "  return mode(self.data[..., 3], axis=None, nan_policy=\"omit\")[0][0]\n",
      "100%|█████████████████████████████████████████████████████████████████████████████████████| 53/53 [00:00<00:00, 10010.27it/s]\n",
      "/home/vsridhar/.local/lib/python3.10/site-packages/deeplabcut/refine_training_dataset/stitch.py:690: UserWarning: No optimal solution found. Employing black magic...\n",
      "  warnings.warn(\"No optimal solution found. Employing black magic...\")\n",
      "/home/vsridhar/.local/lib/python3.10/site-packages/deeplabcut/refine_training_dataset/stitch.py:763: UserWarning: Only 53 tracks could be reconstructed.\n",
      "  warnings.warn(f\"Only {len(self.paths)} tracks could be reconstructed.\")\n"
     ]
    },
    {
     "name": "stdout",
     "output_type": "stream",
     "text": [
      "Starting to analyze %  /media/vsridhar/T7/Work/Data/BlackbuckAnnotations/P2/downsampled/SSD6/20230313/SE_Lek1/P2D4/20230313_SE_Lek1_P2D4_DJI_0952.MP4\n",
      "Video already analyzed! /home/vsridhar/DATA/DeepLabCut/projects/05_TerritoryDetectionP2-Vivek-2023-07-10/output/SSD6/20230313/SE_Lek1/P2D4/20230313_SE_Lek1_P2D4_DJI_0952DLC_dlcrnetms5_05_TerritoryDetectionP2Jul10shuffle1_50000.h5\n",
      "Using snapshot-50000 for model /home/vsridhar/DATA/DeepLabCut/projects/05_TerritoryDetectionP2-Vivek-2023-07-10/dlc-models/iteration-0/05_TerritoryDetectionP2Jul10-trainset90shuffle1\n",
      "Processing...  /media/vsridhar/T7/Work/Data/BlackbuckAnnotations/P2/downsampled/SSD6/20230313/SE_Lek1/P2D4/20230313_SE_Lek1_P2D4_DJI_0952.MP4\n",
      "Tracklets already computed /home/vsridhar/DATA/DeepLabCut/projects/05_TerritoryDetectionP2-Vivek-2023-07-10/output/SSD6/20230313/SE_Lek1/P2D4/20230313_SE_Lek1_P2D4_DJI_0952DLC_dlcrnetms5_05_TerritoryDetectionP2Jul10shuffle1_50000_el.pickle\n",
      "Set overwrite = True to overwrite.\n",
      "The tracklets were created (i.e., under the hood deeplabcut.convert_detections2tracklets was run). Now you can 'refine_tracklets' in the GUI, or run 'deeplabcut.stitch_tracklets'.\n",
      "Processing...  /media/vsridhar/T7/Work/Data/BlackbuckAnnotations/P2/downsampled/SSD6/20230313/SE_Lek1/P2D4/20230313_SE_Lek1_P2D4_DJI_0952.MP4\n"
     ]
    },
    {
     "name": "stderr",
     "output_type": "stream",
     "text": [
      "/home/vsridhar/.local/lib/python3.10/site-packages/deeplabcut/refine_training_dataset/stitch.py:138: FutureWarning: Unlike other reduction functions (e.g. `skew`, `kurtosis`), the default behavior of `mode` typically preserves the axis it acts along. In SciPy 1.11.0, this behavior will change: the default value of `keepdims` will become False, the `axis` over which the statistic is taken will be eliminated, and the value None will no longer be accepted. Set `keepdims` to True or False to avoid this warning.\n",
      "  return mode(self.data[..., 3], axis=None, nan_policy=\"omit\")[0][0]\n",
      "100%|██████████████████████████████████████████████████████████████████████████████████████| 53/53 [00:00<00:00, 7378.21it/s]\n",
      "/home/vsridhar/.local/lib/python3.10/site-packages/deeplabcut/refine_training_dataset/stitch.py:690: UserWarning: No optimal solution found. Employing black magic...\n",
      "  warnings.warn(\"No optimal solution found. Employing black magic...\")\n",
      "/home/vsridhar/.local/lib/python3.10/site-packages/deeplabcut/refine_training_dataset/stitch.py:763: UserWarning: Only 53 tracks could be reconstructed.\n",
      "  warnings.warn(f\"Only {len(self.paths)} tracks could be reconstructed.\")\n"
     ]
    },
    {
     "name": "stdout",
     "output_type": "stream",
     "text": [
      "Starting to analyze %  /media/vsridhar/T7/Work/Data/BlackbuckAnnotations/P2/downsampled/SSD6/20230313/SE_Lek1/P2D4/20230313_SE_Lek1_P2D4_DJI_0939.MP4\n",
      "Video already analyzed! /home/vsridhar/DATA/DeepLabCut/projects/05_TerritoryDetectionP2-Vivek-2023-07-10/output/SSD6/20230313/SE_Lek1/P2D4/20230313_SE_Lek1_P2D4_DJI_0939DLC_dlcrnetms5_05_TerritoryDetectionP2Jul10shuffle1_50000.h5\n",
      "Using snapshot-50000 for model /home/vsridhar/DATA/DeepLabCut/projects/05_TerritoryDetectionP2-Vivek-2023-07-10/dlc-models/iteration-0/05_TerritoryDetectionP2Jul10-trainset90shuffle1\n",
      "Processing...  /media/vsridhar/T7/Work/Data/BlackbuckAnnotations/P2/downsampled/SSD6/20230313/SE_Lek1/P2D4/20230313_SE_Lek1_P2D4_DJI_0939.MP4\n",
      "Tracklets already computed /home/vsridhar/DATA/DeepLabCut/projects/05_TerritoryDetectionP2-Vivek-2023-07-10/output/SSD6/20230313/SE_Lek1/P2D4/20230313_SE_Lek1_P2D4_DJI_0939DLC_dlcrnetms5_05_TerritoryDetectionP2Jul10shuffle1_50000_el.pickle\n",
      "Set overwrite = True to overwrite.\n",
      "The tracklets were created (i.e., under the hood deeplabcut.convert_detections2tracklets was run). Now you can 'refine_tracklets' in the GUI, or run 'deeplabcut.stitch_tracklets'.\n",
      "Processing...  /media/vsridhar/T7/Work/Data/BlackbuckAnnotations/P2/downsampled/SSD6/20230313/SE_Lek1/P2D4/20230313_SE_Lek1_P2D4_DJI_0939.MP4\n"
     ]
    },
    {
     "name": "stderr",
     "output_type": "stream",
     "text": [
      "/home/vsridhar/.local/lib/python3.10/site-packages/deeplabcut/refine_training_dataset/stitch.py:138: FutureWarning: Unlike other reduction functions (e.g. `skew`, `kurtosis`), the default behavior of `mode` typically preserves the axis it acts along. In SciPy 1.11.0, this behavior will change: the default value of `keepdims` will become False, the `axis` over which the statistic is taken will be eliminated, and the value None will no longer be accepted. Set `keepdims` to True or False to avoid this warning.\n",
      "  return mode(self.data[..., 3], axis=None, nan_policy=\"omit\")[0][0]\n",
      "100%|████████████████████████████████████████████████████████████████████████████████████| 285/285 [00:00<00:00, 2562.88it/s]\n"
     ]
    },
    {
     "name": "stdout",
     "output_type": "stream",
     "text": [
      "Starting to analyze %  /media/vsridhar/T7/Work/Data/BlackbuckAnnotations/P2/downsampled/SSD6/20230313/SE_Lek1/P2D4/20230313_SE_Lek1_P2D4_DJI_0943.MP4\n",
      "Video already analyzed! /home/vsridhar/DATA/DeepLabCut/projects/05_TerritoryDetectionP2-Vivek-2023-07-10/output/SSD6/20230313/SE_Lek1/P2D4/20230313_SE_Lek1_P2D4_DJI_0943DLC_dlcrnetms5_05_TerritoryDetectionP2Jul10shuffle1_50000.h5\n",
      "Using snapshot-50000 for model /home/vsridhar/DATA/DeepLabCut/projects/05_TerritoryDetectionP2-Vivek-2023-07-10/dlc-models/iteration-0/05_TerritoryDetectionP2Jul10-trainset90shuffle1\n",
      "Processing...  /media/vsridhar/T7/Work/Data/BlackbuckAnnotations/P2/downsampled/SSD6/20230313/SE_Lek1/P2D4/20230313_SE_Lek1_P2D4_DJI_0943.MP4\n",
      "Tracklets already computed /home/vsridhar/DATA/DeepLabCut/projects/05_TerritoryDetectionP2-Vivek-2023-07-10/output/SSD6/20230313/SE_Lek1/P2D4/20230313_SE_Lek1_P2D4_DJI_0943DLC_dlcrnetms5_05_TerritoryDetectionP2Jul10shuffle1_50000_el.pickle\n",
      "Set overwrite = True to overwrite.\n",
      "The tracklets were created (i.e., under the hood deeplabcut.convert_detections2tracklets was run). Now you can 'refine_tracklets' in the GUI, or run 'deeplabcut.stitch_tracklets'.\n",
      "Processing...  /media/vsridhar/T7/Work/Data/BlackbuckAnnotations/P2/downsampled/SSD6/20230313/SE_Lek1/P2D4/20230313_SE_Lek1_P2D4_DJI_0943.MP4\n"
     ]
    },
    {
     "name": "stderr",
     "output_type": "stream",
     "text": [
      "/home/vsridhar/.local/lib/python3.10/site-packages/deeplabcut/refine_training_dataset/stitch.py:138: FutureWarning: Unlike other reduction functions (e.g. `skew`, `kurtosis`), the default behavior of `mode` typically preserves the axis it acts along. In SciPy 1.11.0, this behavior will change: the default value of `keepdims` will become False, the `axis` over which the statistic is taken will be eliminated, and the value None will no longer be accepted. Set `keepdims` to True or False to avoid this warning.\n",
      "  return mode(self.data[..., 3], axis=None, nan_policy=\"omit\")[0][0]\n",
      "100%|██████████████████████████████████████████████████████████████████████████████████████| 78/78 [00:00<00:00, 6226.91it/s]\n"
     ]
    },
    {
     "name": "stdout",
     "output_type": "stream",
     "text": [
      "Starting to analyze %  /media/vsridhar/T7/Work/Data/BlackbuckAnnotations/P2/downsampled/SSD6/20230313/SE_Lek1/P2D4/20230313_SE_Lek1_P2D4_DJI_0956.MP4\n",
      "Video already analyzed! /home/vsridhar/DATA/DeepLabCut/projects/05_TerritoryDetectionP2-Vivek-2023-07-10/output/SSD6/20230313/SE_Lek1/P2D4/20230313_SE_Lek1_P2D4_DJI_0956DLC_dlcrnetms5_05_TerritoryDetectionP2Jul10shuffle1_50000.h5\n",
      "Using snapshot-50000 for model /home/vsridhar/DATA/DeepLabCut/projects/05_TerritoryDetectionP2-Vivek-2023-07-10/dlc-models/iteration-0/05_TerritoryDetectionP2Jul10-trainset90shuffle1\n",
      "Processing...  /media/vsridhar/T7/Work/Data/BlackbuckAnnotations/P2/downsampled/SSD6/20230313/SE_Lek1/P2D4/20230313_SE_Lek1_P2D4_DJI_0956.MP4\n",
      "Tracklets already computed /home/vsridhar/DATA/DeepLabCut/projects/05_TerritoryDetectionP2-Vivek-2023-07-10/output/SSD6/20230313/SE_Lek1/P2D4/20230313_SE_Lek1_P2D4_DJI_0956DLC_dlcrnetms5_05_TerritoryDetectionP2Jul10shuffle1_50000_el.pickle\n",
      "Set overwrite = True to overwrite.\n",
      "The tracklets were created (i.e., under the hood deeplabcut.convert_detections2tracklets was run). Now you can 'refine_tracklets' in the GUI, or run 'deeplabcut.stitch_tracklets'.\n",
      "Processing...  /media/vsridhar/T7/Work/Data/BlackbuckAnnotations/P2/downsampled/SSD6/20230313/SE_Lek1/P2D4/20230313_SE_Lek1_P2D4_DJI_0956.MP4\n"
     ]
    },
    {
     "name": "stderr",
     "output_type": "stream",
     "text": [
      "/home/vsridhar/.local/lib/python3.10/site-packages/deeplabcut/refine_training_dataset/stitch.py:138: FutureWarning: Unlike other reduction functions (e.g. `skew`, `kurtosis`), the default behavior of `mode` typically preserves the axis it acts along. In SciPy 1.11.0, this behavior will change: the default value of `keepdims` will become False, the `axis` over which the statistic is taken will be eliminated, and the value None will no longer be accepted. Set `keepdims` to True or False to avoid this warning.\n",
      "  return mode(self.data[..., 3], axis=None, nan_policy=\"omit\")[0][0]\n",
      "100%|██████████████████████████████████████████████████████████████████████████████████████| 99/99 [00:00<00:00, 3071.23it/s]\n"
     ]
    },
    {
     "name": "stdout",
     "output_type": "stream",
     "text": [
      "Starting to analyze %  /media/vsridhar/T7/Work/Data/BlackbuckAnnotations/P2/downsampled/SSD6/20230313/SE_Lek1/P2D4/20230313_SE_Lek1_P2D4_DJI_0940.MP4\n",
      "Video already analyzed! /home/vsridhar/DATA/DeepLabCut/projects/05_TerritoryDetectionP2-Vivek-2023-07-10/output/SSD6/20230313/SE_Lek1/P2D4/20230313_SE_Lek1_P2D4_DJI_0940DLC_dlcrnetms5_05_TerritoryDetectionP2Jul10shuffle1_50000.h5\n",
      "Using snapshot-50000 for model /home/vsridhar/DATA/DeepLabCut/projects/05_TerritoryDetectionP2-Vivek-2023-07-10/dlc-models/iteration-0/05_TerritoryDetectionP2Jul10-trainset90shuffle1\n",
      "Processing...  /media/vsridhar/T7/Work/Data/BlackbuckAnnotations/P2/downsampled/SSD6/20230313/SE_Lek1/P2D4/20230313_SE_Lek1_P2D4_DJI_0940.MP4\n",
      "Tracklets already computed /home/vsridhar/DATA/DeepLabCut/projects/05_TerritoryDetectionP2-Vivek-2023-07-10/output/SSD6/20230313/SE_Lek1/P2D4/20230313_SE_Lek1_P2D4_DJI_0940DLC_dlcrnetms5_05_TerritoryDetectionP2Jul10shuffle1_50000_el.pickle\n",
      "Set overwrite = True to overwrite.\n",
      "The tracklets were created (i.e., under the hood deeplabcut.convert_detections2tracklets was run). Now you can 'refine_tracklets' in the GUI, or run 'deeplabcut.stitch_tracklets'.\n",
      "Processing...  /media/vsridhar/T7/Work/Data/BlackbuckAnnotations/P2/downsampled/SSD6/20230313/SE_Lek1/P2D4/20230313_SE_Lek1_P2D4_DJI_0940.MP4\n"
     ]
    },
    {
     "name": "stderr",
     "output_type": "stream",
     "text": [
      "/home/vsridhar/.local/lib/python3.10/site-packages/deeplabcut/refine_training_dataset/stitch.py:138: FutureWarning: Unlike other reduction functions (e.g. `skew`, `kurtosis`), the default behavior of `mode` typically preserves the axis it acts along. In SciPy 1.11.0, this behavior will change: the default value of `keepdims` will become False, the `axis` over which the statistic is taken will be eliminated, and the value None will no longer be accepted. Set `keepdims` to True or False to avoid this warning.\n",
      "  return mode(self.data[..., 3], axis=None, nan_policy=\"omit\")[0][0]\n",
      "100%|████████████████████████████████████████████████████████████████████████████████████| 258/258 [00:00<00:00, 2184.75it/s]\n"
     ]
    },
    {
     "name": "stdout",
     "output_type": "stream",
     "text": [
      "Starting to analyze %  /media/vsridhar/T7/Work/Data/BlackbuckAnnotations/P2/downsampled/SSD6/20230313/SE_Lek1/P2D4/20230313_SE_Lek1_P2D4_DJI_0958.MP4\n",
      "Video already analyzed! /home/vsridhar/DATA/DeepLabCut/projects/05_TerritoryDetectionP2-Vivek-2023-07-10/output/SSD6/20230313/SE_Lek1/P2D4/20230313_SE_Lek1_P2D4_DJI_0958DLC_dlcrnetms5_05_TerritoryDetectionP2Jul10shuffle1_50000.h5\n",
      "Using snapshot-50000 for model /home/vsridhar/DATA/DeepLabCut/projects/05_TerritoryDetectionP2-Vivek-2023-07-10/dlc-models/iteration-0/05_TerritoryDetectionP2Jul10-trainset90shuffle1\n",
      "Processing...  /media/vsridhar/T7/Work/Data/BlackbuckAnnotations/P2/downsampled/SSD6/20230313/SE_Lek1/P2D4/20230313_SE_Lek1_P2D4_DJI_0958.MP4\n",
      "Tracklets already computed /home/vsridhar/DATA/DeepLabCut/projects/05_TerritoryDetectionP2-Vivek-2023-07-10/output/SSD6/20230313/SE_Lek1/P2D4/20230313_SE_Lek1_P2D4_DJI_0958DLC_dlcrnetms5_05_TerritoryDetectionP2Jul10shuffle1_50000_el.pickle\n",
      "Set overwrite = True to overwrite.\n",
      "The tracklets were created (i.e., under the hood deeplabcut.convert_detections2tracklets was run). Now you can 'refine_tracklets' in the GUI, or run 'deeplabcut.stitch_tracklets'.\n",
      "Processing...  /media/vsridhar/T7/Work/Data/BlackbuckAnnotations/P2/downsampled/SSD6/20230313/SE_Lek1/P2D4/20230313_SE_Lek1_P2D4_DJI_0958.MP4\n"
     ]
    },
    {
     "name": "stderr",
     "output_type": "stream",
     "text": [
      "/home/vsridhar/.local/lib/python3.10/site-packages/deeplabcut/refine_training_dataset/stitch.py:138: FutureWarning: Unlike other reduction functions (e.g. `skew`, `kurtosis`), the default behavior of `mode` typically preserves the axis it acts along. In SciPy 1.11.0, this behavior will change: the default value of `keepdims` will become False, the `axis` over which the statistic is taken will be eliminated, and the value None will no longer be accepted. Set `keepdims` to True or False to avoid this warning.\n",
      "  return mode(self.data[..., 3], axis=None, nan_policy=\"omit\")[0][0]\n",
      "100%|██████████████████████████████████████████████████████████████████████████████████████| 85/85 [00:00<00:00, 3027.81it/s]\n"
     ]
    },
    {
     "name": "stdout",
     "output_type": "stream",
     "text": [
      "Starting to analyze %  /media/vsridhar/T7/Work/Data/BlackbuckAnnotations/P2/downsampled/SSD6/20230313/SE_Lek1/P2D4/20230313_SE_Lek1_P2D4_DJI_0945.MP4\n",
      "Video already analyzed! /home/vsridhar/DATA/DeepLabCut/projects/05_TerritoryDetectionP2-Vivek-2023-07-10/output/SSD6/20230313/SE_Lek1/P2D4/20230313_SE_Lek1_P2D4_DJI_0945DLC_dlcrnetms5_05_TerritoryDetectionP2Jul10shuffle1_50000.h5\n",
      "Using snapshot-50000 for model /home/vsridhar/DATA/DeepLabCut/projects/05_TerritoryDetectionP2-Vivek-2023-07-10/dlc-models/iteration-0/05_TerritoryDetectionP2Jul10-trainset90shuffle1\n",
      "Processing...  /media/vsridhar/T7/Work/Data/BlackbuckAnnotations/P2/downsampled/SSD6/20230313/SE_Lek1/P2D4/20230313_SE_Lek1_P2D4_DJI_0945.MP4\n",
      "Tracklets already computed /home/vsridhar/DATA/DeepLabCut/projects/05_TerritoryDetectionP2-Vivek-2023-07-10/output/SSD6/20230313/SE_Lek1/P2D4/20230313_SE_Lek1_P2D4_DJI_0945DLC_dlcrnetms5_05_TerritoryDetectionP2Jul10shuffle1_50000_el.pickle\n",
      "Set overwrite = True to overwrite.\n",
      "The tracklets were created (i.e., under the hood deeplabcut.convert_detections2tracklets was run). Now you can 'refine_tracklets' in the GUI, or run 'deeplabcut.stitch_tracklets'.\n",
      "Processing...  /media/vsridhar/T7/Work/Data/BlackbuckAnnotations/P2/downsampled/SSD6/20230313/SE_Lek1/P2D4/20230313_SE_Lek1_P2D4_DJI_0945.MP4\n"
     ]
    },
    {
     "name": "stderr",
     "output_type": "stream",
     "text": [
      "/home/vsridhar/.local/lib/python3.10/site-packages/deeplabcut/refine_training_dataset/stitch.py:138: FutureWarning: Unlike other reduction functions (e.g. `skew`, `kurtosis`), the default behavior of `mode` typically preserves the axis it acts along. In SciPy 1.11.0, this behavior will change: the default value of `keepdims` will become False, the `axis` over which the statistic is taken will be eliminated, and the value None will no longer be accepted. Set `keepdims` to True or False to avoid this warning.\n",
      "  return mode(self.data[..., 3], axis=None, nan_policy=\"omit\")[0][0]\n",
      "100%|██████████████████████████████████████████████████████████████████████████████████████| 82/82 [00:00<00:00, 8470.84it/s]\n"
     ]
    },
    {
     "name": "stdout",
     "output_type": "stream",
     "text": [
      "Starting to analyze %  /media/vsridhar/T7/Work/Data/BlackbuckAnnotations/P2/downsampled/SSD6/20230313/SE_Lek1/P2D4/20230313_SE_Lek1_P2D4_DJI_0955.MP4\n",
      "Video already analyzed! /home/vsridhar/DATA/DeepLabCut/projects/05_TerritoryDetectionP2-Vivek-2023-07-10/output/SSD6/20230313/SE_Lek1/P2D4/20230313_SE_Lek1_P2D4_DJI_0955DLC_dlcrnetms5_05_TerritoryDetectionP2Jul10shuffle1_50000.h5\n",
      "Using snapshot-50000 for model /home/vsridhar/DATA/DeepLabCut/projects/05_TerritoryDetectionP2-Vivek-2023-07-10/dlc-models/iteration-0/05_TerritoryDetectionP2Jul10-trainset90shuffle1\n",
      "Processing...  /media/vsridhar/T7/Work/Data/BlackbuckAnnotations/P2/downsampled/SSD6/20230313/SE_Lek1/P2D4/20230313_SE_Lek1_P2D4_DJI_0955.MP4\n",
      "Tracklets already computed /home/vsridhar/DATA/DeepLabCut/projects/05_TerritoryDetectionP2-Vivek-2023-07-10/output/SSD6/20230313/SE_Lek1/P2D4/20230313_SE_Lek1_P2D4_DJI_0955DLC_dlcrnetms5_05_TerritoryDetectionP2Jul10shuffle1_50000_el.pickle\n",
      "Set overwrite = True to overwrite.\n",
      "The tracklets were created (i.e., under the hood deeplabcut.convert_detections2tracklets was run). Now you can 'refine_tracklets' in the GUI, or run 'deeplabcut.stitch_tracklets'.\n",
      "Processing...  /media/vsridhar/T7/Work/Data/BlackbuckAnnotations/P2/downsampled/SSD6/20230313/SE_Lek1/P2D4/20230313_SE_Lek1_P2D4_DJI_0955.MP4\n"
     ]
    },
    {
     "name": "stderr",
     "output_type": "stream",
     "text": [
      "/home/vsridhar/.local/lib/python3.10/site-packages/deeplabcut/refine_training_dataset/stitch.py:138: FutureWarning: Unlike other reduction functions (e.g. `skew`, `kurtosis`), the default behavior of `mode` typically preserves the axis it acts along. In SciPy 1.11.0, this behavior will change: the default value of `keepdims` will become False, the `axis` over which the statistic is taken will be eliminated, and the value None will no longer be accepted. Set `keepdims` to True or False to avoid this warning.\n",
      "  return mode(self.data[..., 3], axis=None, nan_policy=\"omit\")[0][0]\n",
      "100%|████████████████████████████████████████████████████████████████████████████████████| 138/138 [00:00<00:00, 2015.52it/s]\n"
     ]
    },
    {
     "name": "stdout",
     "output_type": "stream",
     "text": [
      "Starting to analyze %  /media/vsridhar/T7/Work/Data/BlackbuckAnnotations/P2/downsampled/SSD6/20230313/SE_Lek1/P2D4/20230313_SE_Lek1_P2D4_DJI_0951.MP4\n",
      "Video already analyzed! /home/vsridhar/DATA/DeepLabCut/projects/05_TerritoryDetectionP2-Vivek-2023-07-10/output/SSD6/20230313/SE_Lek1/P2D4/20230313_SE_Lek1_P2D4_DJI_0951DLC_dlcrnetms5_05_TerritoryDetectionP2Jul10shuffle1_50000.h5\n",
      "Using snapshot-50000 for model /home/vsridhar/DATA/DeepLabCut/projects/05_TerritoryDetectionP2-Vivek-2023-07-10/dlc-models/iteration-0/05_TerritoryDetectionP2Jul10-trainset90shuffle1\n",
      "Processing...  /media/vsridhar/T7/Work/Data/BlackbuckAnnotations/P2/downsampled/SSD6/20230313/SE_Lek1/P2D4/20230313_SE_Lek1_P2D4_DJI_0951.MP4\n",
      "Tracklets already computed /home/vsridhar/DATA/DeepLabCut/projects/05_TerritoryDetectionP2-Vivek-2023-07-10/output/SSD6/20230313/SE_Lek1/P2D4/20230313_SE_Lek1_P2D4_DJI_0951DLC_dlcrnetms5_05_TerritoryDetectionP2Jul10shuffle1_50000_el.pickle\n",
      "Set overwrite = True to overwrite.\n",
      "The tracklets were created (i.e., under the hood deeplabcut.convert_detections2tracklets was run). Now you can 'refine_tracklets' in the GUI, or run 'deeplabcut.stitch_tracklets'.\n",
      "Processing...  /media/vsridhar/T7/Work/Data/BlackbuckAnnotations/P2/downsampled/SSD6/20230313/SE_Lek1/P2D4/20230313_SE_Lek1_P2D4_DJI_0951.MP4\n"
     ]
    },
    {
     "name": "stderr",
     "output_type": "stream",
     "text": [
      "/home/vsridhar/.local/lib/python3.10/site-packages/deeplabcut/refine_training_dataset/stitch.py:138: FutureWarning: Unlike other reduction functions (e.g. `skew`, `kurtosis`), the default behavior of `mode` typically preserves the axis it acts along. In SciPy 1.11.0, this behavior will change: the default value of `keepdims` will become False, the `axis` over which the statistic is taken will be eliminated, and the value None will no longer be accepted. Set `keepdims` to True or False to avoid this warning.\n",
      "  return mode(self.data[..., 3], axis=None, nan_policy=\"omit\")[0][0]\n",
      "100%|██████████████████████████████████████████████████████████████████████████████████████| 85/85 [00:00<00:00, 4583.11it/s]\n"
     ]
    },
    {
     "name": "stdout",
     "output_type": "stream",
     "text": [
      "Starting to analyze %  /media/vsridhar/T7/Work/Data/BlackbuckAnnotations/P2/downsampled/SSD6/20230313/SE_Lek1/P2D4/20230313_SE_Lek1_P2D4_DJI_0950.MP4\n",
      "Video already analyzed! /home/vsridhar/DATA/DeepLabCut/projects/05_TerritoryDetectionP2-Vivek-2023-07-10/output/SSD6/20230313/SE_Lek1/P2D4/20230313_SE_Lek1_P2D4_DJI_0950DLC_dlcrnetms5_05_TerritoryDetectionP2Jul10shuffle1_50000.h5\n",
      "Using snapshot-50000 for model /home/vsridhar/DATA/DeepLabCut/projects/05_TerritoryDetectionP2-Vivek-2023-07-10/dlc-models/iteration-0/05_TerritoryDetectionP2Jul10-trainset90shuffle1\n",
      "Processing...  /media/vsridhar/T7/Work/Data/BlackbuckAnnotations/P2/downsampled/SSD6/20230313/SE_Lek1/P2D4/20230313_SE_Lek1_P2D4_DJI_0950.MP4\n",
      "Tracklets already computed /home/vsridhar/DATA/DeepLabCut/projects/05_TerritoryDetectionP2-Vivek-2023-07-10/output/SSD6/20230313/SE_Lek1/P2D4/20230313_SE_Lek1_P2D4_DJI_0950DLC_dlcrnetms5_05_TerritoryDetectionP2Jul10shuffle1_50000_el.pickle\n",
      "Set overwrite = True to overwrite.\n",
      "The tracklets were created (i.e., under the hood deeplabcut.convert_detections2tracklets was run). Now you can 'refine_tracklets' in the GUI, or run 'deeplabcut.stitch_tracklets'.\n",
      "Processing...  /media/vsridhar/T7/Work/Data/BlackbuckAnnotations/P2/downsampled/SSD6/20230313/SE_Lek1/P2D4/20230313_SE_Lek1_P2D4_DJI_0950.MP4\n"
     ]
    },
    {
     "name": "stderr",
     "output_type": "stream",
     "text": [
      "/home/vsridhar/.local/lib/python3.10/site-packages/deeplabcut/refine_training_dataset/stitch.py:138: FutureWarning: Unlike other reduction functions (e.g. `skew`, `kurtosis`), the default behavior of `mode` typically preserves the axis it acts along. In SciPy 1.11.0, this behavior will change: the default value of `keepdims` will become False, the `axis` over which the statistic is taken will be eliminated, and the value None will no longer be accepted. Set `keepdims` to True or False to avoid this warning.\n",
      "  return mode(self.data[..., 3], axis=None, nan_policy=\"omit\")[0][0]\n",
      "100%|██████████████████████████████████████████████████████████████████████████████████████| 60/60 [00:00<00:00, 8369.92it/s]\n"
     ]
    },
    {
     "name": "stdout",
     "output_type": "stream",
     "text": [
      "Starting to analyze %  /media/vsridhar/T7/Work/Data/BlackbuckAnnotations/P2/downsampled/SSD6/20230313/SE_Lek1/P2D4/20230313_SE_Lek1_P2D4_DJI_0938.MP4\n",
      "Video already analyzed! /home/vsridhar/DATA/DeepLabCut/projects/05_TerritoryDetectionP2-Vivek-2023-07-10/output/SSD6/20230313/SE_Lek1/P2D4/20230313_SE_Lek1_P2D4_DJI_0938DLC_dlcrnetms5_05_TerritoryDetectionP2Jul10shuffle1_50000.h5\n",
      "Using snapshot-50000 for model /home/vsridhar/DATA/DeepLabCut/projects/05_TerritoryDetectionP2-Vivek-2023-07-10/dlc-models/iteration-0/05_TerritoryDetectionP2Jul10-trainset90shuffle1\n",
      "Processing...  /media/vsridhar/T7/Work/Data/BlackbuckAnnotations/P2/downsampled/SSD6/20230313/SE_Lek1/P2D4/20230313_SE_Lek1_P2D4_DJI_0938.MP4\n",
      "Tracklets already computed /home/vsridhar/DATA/DeepLabCut/projects/05_TerritoryDetectionP2-Vivek-2023-07-10/output/SSD6/20230313/SE_Lek1/P2D4/20230313_SE_Lek1_P2D4_DJI_0938DLC_dlcrnetms5_05_TerritoryDetectionP2Jul10shuffle1_50000_el.pickle\n",
      "Set overwrite = True to overwrite.\n",
      "The tracklets were created (i.e., under the hood deeplabcut.convert_detections2tracklets was run). Now you can 'refine_tracklets' in the GUI, or run 'deeplabcut.stitch_tracklets'.\n",
      "Processing...  /media/vsridhar/T7/Work/Data/BlackbuckAnnotations/P2/downsampled/SSD6/20230313/SE_Lek1/P2D4/20230313_SE_Lek1_P2D4_DJI_0938.MP4\n"
     ]
    },
    {
     "name": "stderr",
     "output_type": "stream",
     "text": [
      "/home/vsridhar/.local/lib/python3.10/site-packages/deeplabcut/refine_training_dataset/stitch.py:138: FutureWarning: Unlike other reduction functions (e.g. `skew`, `kurtosis`), the default behavior of `mode` typically preserves the axis it acts along. In SciPy 1.11.0, this behavior will change: the default value of `keepdims` will become False, the `axis` over which the statistic is taken will be eliminated, and the value None will no longer be accepted. Set `keepdims` to True or False to avoid this warning.\n",
      "  return mode(self.data[..., 3], axis=None, nan_policy=\"omit\")[0][0]\n",
      "100%|████████████████████████████████████████████████████████████████████████████████████| 195/195 [00:00<00:00, 1316.93it/s]\n"
     ]
    },
    {
     "name": "stdout",
     "output_type": "stream",
     "text": [
      "Starting to analyze %  /media/vsridhar/T7/Work/Data/BlackbuckAnnotations/P2/downsampled/SSD6/20230313/SE_Lek1/P2D4/20230313_SE_Lek1_P2D4_DJI_0941.MP4\n",
      "Video already analyzed! /home/vsridhar/DATA/DeepLabCut/projects/05_TerritoryDetectionP2-Vivek-2023-07-10/output/SSD6/20230313/SE_Lek1/P2D4/20230313_SE_Lek1_P2D4_DJI_0941DLC_dlcrnetms5_05_TerritoryDetectionP2Jul10shuffle1_50000.h5\n",
      "Using snapshot-50000 for model /home/vsridhar/DATA/DeepLabCut/projects/05_TerritoryDetectionP2-Vivek-2023-07-10/dlc-models/iteration-0/05_TerritoryDetectionP2Jul10-trainset90shuffle1\n",
      "Processing...  /media/vsridhar/T7/Work/Data/BlackbuckAnnotations/P2/downsampled/SSD6/20230313/SE_Lek1/P2D4/20230313_SE_Lek1_P2D4_DJI_0941.MP4\n",
      "Tracklets already computed /home/vsridhar/DATA/DeepLabCut/projects/05_TerritoryDetectionP2-Vivek-2023-07-10/output/SSD6/20230313/SE_Lek1/P2D4/20230313_SE_Lek1_P2D4_DJI_0941DLC_dlcrnetms5_05_TerritoryDetectionP2Jul10shuffle1_50000_el.pickle\n",
      "Set overwrite = True to overwrite.\n",
      "The tracklets were created (i.e., under the hood deeplabcut.convert_detections2tracklets was run). Now you can 'refine_tracklets' in the GUI, or run 'deeplabcut.stitch_tracklets'.\n",
      "Processing...  /media/vsridhar/T7/Work/Data/BlackbuckAnnotations/P2/downsampled/SSD6/20230313/SE_Lek1/P2D4/20230313_SE_Lek1_P2D4_DJI_0941.MP4\n"
     ]
    },
    {
     "name": "stderr",
     "output_type": "stream",
     "text": [
      "/home/vsridhar/.local/lib/python3.10/site-packages/deeplabcut/refine_training_dataset/stitch.py:138: FutureWarning: Unlike other reduction functions (e.g. `skew`, `kurtosis`), the default behavior of `mode` typically preserves the axis it acts along. In SciPy 1.11.0, this behavior will change: the default value of `keepdims` will become False, the `axis` over which the statistic is taken will be eliminated, and the value None will no longer be accepted. Set `keepdims` to True or False to avoid this warning.\n",
      "  return mode(self.data[..., 3], axis=None, nan_policy=\"omit\")[0][0]\n",
      "100%|█████████████████████████████████████████████████████████████████████████████████████| 181/181 [00:00<00:00, 800.76it/s]\n"
     ]
    },
    {
     "name": "stdout",
     "output_type": "stream",
     "text": [
      "Starting to analyze %  /media/vsridhar/T7/Work/Data/BlackbuckAnnotations/P2/downsampled/SSD6/20230313/SE_Lek1/P2D4/20230313_SE_Lek1_P2D4_DJI_0954.MP4\n",
      "Video already analyzed! /home/vsridhar/DATA/DeepLabCut/projects/05_TerritoryDetectionP2-Vivek-2023-07-10/output/SSD6/20230313/SE_Lek1/P2D4/20230313_SE_Lek1_P2D4_DJI_0954DLC_dlcrnetms5_05_TerritoryDetectionP2Jul10shuffle1_50000.h5\n",
      "Using snapshot-50000 for model /home/vsridhar/DATA/DeepLabCut/projects/05_TerritoryDetectionP2-Vivek-2023-07-10/dlc-models/iteration-0/05_TerritoryDetectionP2Jul10-trainset90shuffle1\n",
      "Processing...  /media/vsridhar/T7/Work/Data/BlackbuckAnnotations/P2/downsampled/SSD6/20230313/SE_Lek1/P2D4/20230313_SE_Lek1_P2D4_DJI_0954.MP4\n",
      "Tracklets already computed /home/vsridhar/DATA/DeepLabCut/projects/05_TerritoryDetectionP2-Vivek-2023-07-10/output/SSD6/20230313/SE_Lek1/P2D4/20230313_SE_Lek1_P2D4_DJI_0954DLC_dlcrnetms5_05_TerritoryDetectionP2Jul10shuffle1_50000_el.pickle\n",
      "Set overwrite = True to overwrite.\n",
      "The tracklets were created (i.e., under the hood deeplabcut.convert_detections2tracklets was run). Now you can 'refine_tracklets' in the GUI, or run 'deeplabcut.stitch_tracklets'.\n",
      "Processing...  /media/vsridhar/T7/Work/Data/BlackbuckAnnotations/P2/downsampled/SSD6/20230313/SE_Lek1/P2D4/20230313_SE_Lek1_P2D4_DJI_0954.MP4\n"
     ]
    },
    {
     "name": "stderr",
     "output_type": "stream",
     "text": [
      "/home/vsridhar/.local/lib/python3.10/site-packages/deeplabcut/refine_training_dataset/stitch.py:138: FutureWarning: Unlike other reduction functions (e.g. `skew`, `kurtosis`), the default behavior of `mode` typically preserves the axis it acts along. In SciPy 1.11.0, this behavior will change: the default value of `keepdims` will become False, the `axis` over which the statistic is taken will be eliminated, and the value None will no longer be accepted. Set `keepdims` to True or False to avoid this warning.\n",
      "  return mode(self.data[..., 3], axis=None, nan_policy=\"omit\")[0][0]\n",
      "100%|████████████████████████████████████████████████████████████████████████████████████| 105/105 [00:00<00:00, 3292.95it/s]\n"
     ]
    },
    {
     "name": "stdout",
     "output_type": "stream",
     "text": [
      "Starting to analyze %  /media/vsridhar/T7/Work/Data/BlackbuckAnnotations/P2/downsampled/SSD6/20230313/SE_Lek1/P2D4/20230313_SE_Lek1_P2D4_DJI_0942.MP4\n",
      "Video already analyzed! /home/vsridhar/DATA/DeepLabCut/projects/05_TerritoryDetectionP2-Vivek-2023-07-10/output/SSD6/20230313/SE_Lek1/P2D4/20230313_SE_Lek1_P2D4_DJI_0942DLC_dlcrnetms5_05_TerritoryDetectionP2Jul10shuffle1_50000.h5\n",
      "Using snapshot-50000 for model /home/vsridhar/DATA/DeepLabCut/projects/05_TerritoryDetectionP2-Vivek-2023-07-10/dlc-models/iteration-0/05_TerritoryDetectionP2Jul10-trainset90shuffle1\n",
      "Processing...  /media/vsridhar/T7/Work/Data/BlackbuckAnnotations/P2/downsampled/SSD6/20230313/SE_Lek1/P2D4/20230313_SE_Lek1_P2D4_DJI_0942.MP4\n",
      "Tracklets already computed /home/vsridhar/DATA/DeepLabCut/projects/05_TerritoryDetectionP2-Vivek-2023-07-10/output/SSD6/20230313/SE_Lek1/P2D4/20230313_SE_Lek1_P2D4_DJI_0942DLC_dlcrnetms5_05_TerritoryDetectionP2Jul10shuffle1_50000_el.pickle\n",
      "Set overwrite = True to overwrite.\n",
      "The tracklets were created (i.e., under the hood deeplabcut.convert_detections2tracklets was run). Now you can 'refine_tracklets' in the GUI, or run 'deeplabcut.stitch_tracklets'.\n",
      "Processing...  /media/vsridhar/T7/Work/Data/BlackbuckAnnotations/P2/downsampled/SSD6/20230313/SE_Lek1/P2D4/20230313_SE_Lek1_P2D4_DJI_0942.MP4\n"
     ]
    },
    {
     "name": "stderr",
     "output_type": "stream",
     "text": [
      "/home/vsridhar/.local/lib/python3.10/site-packages/deeplabcut/refine_training_dataset/stitch.py:138: FutureWarning: Unlike other reduction functions (e.g. `skew`, `kurtosis`), the default behavior of `mode` typically preserves the axis it acts along. In SciPy 1.11.0, this behavior will change: the default value of `keepdims` will become False, the `axis` over which the statistic is taken will be eliminated, and the value None will no longer be accepted. Set `keepdims` to True or False to avoid this warning.\n",
      "  return mode(self.data[..., 3], axis=None, nan_policy=\"omit\")[0][0]\n",
      "100%|████████████████████████████████████████████████████████████████████████████████████| 103/103 [00:00<00:00, 1742.99it/s]\n"
     ]
    },
    {
     "name": "stdout",
     "output_type": "stream",
     "text": [
      "Starting to analyze %  /media/vsridhar/T7/Work/Data/BlackbuckAnnotations/P2/downsampled/SSD6/20230313/SE_Lek1/P2D4/20230313_SE_Lek1_P2D4_DJI_0949.MP4\n",
      "Video already analyzed! /home/vsridhar/DATA/DeepLabCut/projects/05_TerritoryDetectionP2-Vivek-2023-07-10/output/SSD6/20230313/SE_Lek1/P2D4/20230313_SE_Lek1_P2D4_DJI_0949DLC_dlcrnetms5_05_TerritoryDetectionP2Jul10shuffle1_50000.h5\n",
      "Using snapshot-50000 for model /home/vsridhar/DATA/DeepLabCut/projects/05_TerritoryDetectionP2-Vivek-2023-07-10/dlc-models/iteration-0/05_TerritoryDetectionP2Jul10-trainset90shuffle1\n",
      "Processing...  /media/vsridhar/T7/Work/Data/BlackbuckAnnotations/P2/downsampled/SSD6/20230313/SE_Lek1/P2D4/20230313_SE_Lek1_P2D4_DJI_0949.MP4\n",
      "Tracklets already computed /home/vsridhar/DATA/DeepLabCut/projects/05_TerritoryDetectionP2-Vivek-2023-07-10/output/SSD6/20230313/SE_Lek1/P2D4/20230313_SE_Lek1_P2D4_DJI_0949DLC_dlcrnetms5_05_TerritoryDetectionP2Jul10shuffle1_50000_el.pickle\n",
      "Set overwrite = True to overwrite.\n",
      "The tracklets were created (i.e., under the hood deeplabcut.convert_detections2tracklets was run). Now you can 'refine_tracklets' in the GUI, or run 'deeplabcut.stitch_tracklets'.\n",
      "Processing...  /media/vsridhar/T7/Work/Data/BlackbuckAnnotations/P2/downsampled/SSD6/20230313/SE_Lek1/P2D4/20230313_SE_Lek1_P2D4_DJI_0949.MP4\n"
     ]
    },
    {
     "name": "stderr",
     "output_type": "stream",
     "text": [
      "/home/vsridhar/.local/lib/python3.10/site-packages/deeplabcut/refine_training_dataset/stitch.py:138: FutureWarning: Unlike other reduction functions (e.g. `skew`, `kurtosis`), the default behavior of `mode` typically preserves the axis it acts along. In SciPy 1.11.0, this behavior will change: the default value of `keepdims` will become False, the `axis` over which the statistic is taken will be eliminated, and the value None will no longer be accepted. Set `keepdims` to True or False to avoid this warning.\n",
      "  return mode(self.data[..., 3], axis=None, nan_policy=\"omit\")[0][0]\n",
      "100%|████████████████████████████████████████████████████████████████████████████████████| 108/108 [00:00<00:00, 2187.70it/s]\n"
     ]
    },
    {
     "name": "stdout",
     "output_type": "stream",
     "text": [
      "Starting to analyze %  /media/vsridhar/T7/Work/Data/BlackbuckAnnotations/P2/downsampled/SSD6/20230313/SE_Lek1/P2D4/20230313_SE_Lek1_P2D4_DJI_0944.MP4\n",
      "Video already analyzed! /home/vsridhar/DATA/DeepLabCut/projects/05_TerritoryDetectionP2-Vivek-2023-07-10/output/SSD6/20230313/SE_Lek1/P2D4/20230313_SE_Lek1_P2D4_DJI_0944DLC_dlcrnetms5_05_TerritoryDetectionP2Jul10shuffle1_50000.h5\n",
      "Using snapshot-50000 for model /home/vsridhar/DATA/DeepLabCut/projects/05_TerritoryDetectionP2-Vivek-2023-07-10/dlc-models/iteration-0/05_TerritoryDetectionP2Jul10-trainset90shuffle1\n",
      "Processing...  /media/vsridhar/T7/Work/Data/BlackbuckAnnotations/P2/downsampled/SSD6/20230313/SE_Lek1/P2D4/20230313_SE_Lek1_P2D4_DJI_0944.MP4\n",
      "Tracklets already computed /home/vsridhar/DATA/DeepLabCut/projects/05_TerritoryDetectionP2-Vivek-2023-07-10/output/SSD6/20230313/SE_Lek1/P2D4/20230313_SE_Lek1_P2D4_DJI_0944DLC_dlcrnetms5_05_TerritoryDetectionP2Jul10shuffle1_50000_el.pickle\n",
      "Set overwrite = True to overwrite.\n",
      "The tracklets were created (i.e., under the hood deeplabcut.convert_detections2tracklets was run). Now you can 'refine_tracklets' in the GUI, or run 'deeplabcut.stitch_tracklets'.\n",
      "Processing...  /media/vsridhar/T7/Work/Data/BlackbuckAnnotations/P2/downsampled/SSD6/20230313/SE_Lek1/P2D4/20230313_SE_Lek1_P2D4_DJI_0944.MP4\n"
     ]
    },
    {
     "name": "stderr",
     "output_type": "stream",
     "text": [
      "/home/vsridhar/.local/lib/python3.10/site-packages/deeplabcut/refine_training_dataset/stitch.py:138: FutureWarning: Unlike other reduction functions (e.g. `skew`, `kurtosis`), the default behavior of `mode` typically preserves the axis it acts along. In SciPy 1.11.0, this behavior will change: the default value of `keepdims` will become False, the `axis` over which the statistic is taken will be eliminated, and the value None will no longer be accepted. Set `keepdims` to True or False to avoid this warning.\n",
      "  return mode(self.data[..., 3], axis=None, nan_policy=\"omit\")[0][0]\n",
      "100%|████████████████████████████████████████████████████████████████████████████████████| 141/141 [00:00<00:00, 2998.15it/s]\n"
     ]
    },
    {
     "name": "stdout",
     "output_type": "stream",
     "text": [
      "Starting to analyze %  /media/vsridhar/T7/Work/Data/BlackbuckAnnotations/P2/downsampled/SSD6/20230313/SE_Lek1/P2D4/20230313_SE_Lek1_P2D4_DJI_0957.MP4\n",
      "Video already analyzed! /home/vsridhar/DATA/DeepLabCut/projects/05_TerritoryDetectionP2-Vivek-2023-07-10/output/SSD6/20230313/SE_Lek1/P2D4/20230313_SE_Lek1_P2D4_DJI_0957DLC_dlcrnetms5_05_TerritoryDetectionP2Jul10shuffle1_50000.h5\n",
      "Using snapshot-50000 for model /home/vsridhar/DATA/DeepLabCut/projects/05_TerritoryDetectionP2-Vivek-2023-07-10/dlc-models/iteration-0/05_TerritoryDetectionP2Jul10-trainset90shuffle1\n",
      "Processing...  /media/vsridhar/T7/Work/Data/BlackbuckAnnotations/P2/downsampled/SSD6/20230313/SE_Lek1/P2D4/20230313_SE_Lek1_P2D4_DJI_0957.MP4\n",
      "Tracklets already computed /home/vsridhar/DATA/DeepLabCut/projects/05_TerritoryDetectionP2-Vivek-2023-07-10/output/SSD6/20230313/SE_Lek1/P2D4/20230313_SE_Lek1_P2D4_DJI_0957DLC_dlcrnetms5_05_TerritoryDetectionP2Jul10shuffle1_50000_el.pickle\n",
      "Set overwrite = True to overwrite.\n",
      "The tracklets were created (i.e., under the hood deeplabcut.convert_detections2tracklets was run). Now you can 'refine_tracklets' in the GUI, or run 'deeplabcut.stitch_tracklets'.\n",
      "Processing...  /media/vsridhar/T7/Work/Data/BlackbuckAnnotations/P2/downsampled/SSD6/20230313/SE_Lek1/P2D4/20230313_SE_Lek1_P2D4_DJI_0957.MP4\n"
     ]
    },
    {
     "name": "stderr",
     "output_type": "stream",
     "text": [
      "/home/vsridhar/.local/lib/python3.10/site-packages/deeplabcut/refine_training_dataset/stitch.py:138: FutureWarning: Unlike other reduction functions (e.g. `skew`, `kurtosis`), the default behavior of `mode` typically preserves the axis it acts along. In SciPy 1.11.0, this behavior will change: the default value of `keepdims` will become False, the `axis` over which the statistic is taken will be eliminated, and the value None will no longer be accepted. Set `keepdims` to True or False to avoid this warning.\n",
      "  return mode(self.data[..., 3], axis=None, nan_policy=\"omit\")[0][0]\n",
      "100%|████████████████████████████████████████████████████████████████████████████████████| 143/143 [00:00<00:00, 1537.25it/s]\n"
     ]
    },
    {
     "name": "stdout",
     "output_type": "stream",
     "text": [
      "Starting to analyze %  /media/vsridhar/T7/Work/Data/BlackbuckAnnotations/P2/downsampled/SSD6/20230313/SE_Lek1/P2D4/20230313_SE_Lek1_P2D4_DJI_0946.MP4\n",
      "Video already analyzed! /home/vsridhar/DATA/DeepLabCut/projects/05_TerritoryDetectionP2-Vivek-2023-07-10/output/SSD6/20230313/SE_Lek1/P2D4/20230313_SE_Lek1_P2D4_DJI_0946DLC_dlcrnetms5_05_TerritoryDetectionP2Jul10shuffle1_50000.h5\n",
      "Using snapshot-50000 for model /home/vsridhar/DATA/DeepLabCut/projects/05_TerritoryDetectionP2-Vivek-2023-07-10/dlc-models/iteration-0/05_TerritoryDetectionP2Jul10-trainset90shuffle1\n",
      "Processing...  /media/vsridhar/T7/Work/Data/BlackbuckAnnotations/P2/downsampled/SSD6/20230313/SE_Lek1/P2D4/20230313_SE_Lek1_P2D4_DJI_0946.MP4\n",
      "Tracklets already computed /home/vsridhar/DATA/DeepLabCut/projects/05_TerritoryDetectionP2-Vivek-2023-07-10/output/SSD6/20230313/SE_Lek1/P2D4/20230313_SE_Lek1_P2D4_DJI_0946DLC_dlcrnetms5_05_TerritoryDetectionP2Jul10shuffle1_50000_el.pickle\n",
      "Set overwrite = True to overwrite.\n",
      "The tracklets were created (i.e., under the hood deeplabcut.convert_detections2tracklets was run). Now you can 'refine_tracklets' in the GUI, or run 'deeplabcut.stitch_tracklets'.\n",
      "Processing...  /media/vsridhar/T7/Work/Data/BlackbuckAnnotations/P2/downsampled/SSD6/20230313/SE_Lek1/P2D4/20230313_SE_Lek1_P2D4_DJI_0946.MP4\n"
     ]
    },
    {
     "name": "stderr",
     "output_type": "stream",
     "text": [
      "/home/vsridhar/.local/lib/python3.10/site-packages/deeplabcut/refine_training_dataset/stitch.py:138: FutureWarning: Unlike other reduction functions (e.g. `skew`, `kurtosis`), the default behavior of `mode` typically preserves the axis it acts along. In SciPy 1.11.0, this behavior will change: the default value of `keepdims` will become False, the `axis` over which the statistic is taken will be eliminated, and the value None will no longer be accepted. Set `keepdims` to True or False to avoid this warning.\n",
      "  return mode(self.data[..., 3], axis=None, nan_policy=\"omit\")[0][0]\n",
      "100%|██████████████████████████████████████████████████████████████████████████████████████| 61/61 [00:00<00:00, 5014.55it/s]\n"
     ]
    },
    {
     "name": "stdout",
     "output_type": "stream",
     "text": [
      "Starting to analyze %  /media/vsridhar/T7/Work/Data/BlackbuckAnnotations/P2/downsampled/SSD6/20230313/SE_Lek1/P2D4/20230313_SE_Lek1_P2D4_DJI_0947.MP4\n",
      "Video already analyzed! /home/vsridhar/DATA/DeepLabCut/projects/05_TerritoryDetectionP2-Vivek-2023-07-10/output/SSD6/20230313/SE_Lek1/P2D4/20230313_SE_Lek1_P2D4_DJI_0947DLC_dlcrnetms5_05_TerritoryDetectionP2Jul10shuffle1_50000.h5\n",
      "Using snapshot-50000 for model /home/vsridhar/DATA/DeepLabCut/projects/05_TerritoryDetectionP2-Vivek-2023-07-10/dlc-models/iteration-0/05_TerritoryDetectionP2Jul10-trainset90shuffle1\n",
      "Processing...  /media/vsridhar/T7/Work/Data/BlackbuckAnnotations/P2/downsampled/SSD6/20230313/SE_Lek1/P2D4/20230313_SE_Lek1_P2D4_DJI_0947.MP4\n",
      "Tracklets already computed /home/vsridhar/DATA/DeepLabCut/projects/05_TerritoryDetectionP2-Vivek-2023-07-10/output/SSD6/20230313/SE_Lek1/P2D4/20230313_SE_Lek1_P2D4_DJI_0947DLC_dlcrnetms5_05_TerritoryDetectionP2Jul10shuffle1_50000_el.pickle\n",
      "Set overwrite = True to overwrite.\n",
      "The tracklets were created (i.e., under the hood deeplabcut.convert_detections2tracklets was run). Now you can 'refine_tracklets' in the GUI, or run 'deeplabcut.stitch_tracklets'.\n",
      "Processing...  /media/vsridhar/T7/Work/Data/BlackbuckAnnotations/P2/downsampled/SSD6/20230313/SE_Lek1/P2D4/20230313_SE_Lek1_P2D4_DJI_0947.MP4\n"
     ]
    },
    {
     "name": "stderr",
     "output_type": "stream",
     "text": [
      "/home/vsridhar/.local/lib/python3.10/site-packages/deeplabcut/refine_training_dataset/stitch.py:138: FutureWarning: Unlike other reduction functions (e.g. `skew`, `kurtosis`), the default behavior of `mode` typically preserves the axis it acts along. In SciPy 1.11.0, this behavior will change: the default value of `keepdims` will become False, the `axis` over which the statistic is taken will be eliminated, and the value None will no longer be accepted. Set `keepdims` to True or False to avoid this warning.\n",
      "  return mode(self.data[..., 3], axis=None, nan_policy=\"omit\")[0][0]\n",
      "100%|████████████████████████████████████████████████████████████████████████████████████| 36/36 [00:00<00:00, 148910.20it/s]\n",
      "/home/vsridhar/.local/lib/python3.10/site-packages/deeplabcut/refine_training_dataset/stitch.py:690: UserWarning: No optimal solution found. Employing black magic...\n",
      "  warnings.warn(\"No optimal solution found. Employing black magic...\")\n",
      "/home/vsridhar/.local/lib/python3.10/site-packages/deeplabcut/refine_training_dataset/stitch.py:763: UserWarning: Only 36 tracks could be reconstructed.\n",
      "  warnings.warn(f\"Only {len(self.paths)} tracks could be reconstructed.\")\n"
     ]
    },
    {
     "name": "stdout",
     "output_type": "stream",
     "text": [
      "Starting to analyze %  /media/vsridhar/T7/Work/Data/BlackbuckAnnotations/P2/downsampled/SSD6/20230313/SE_Lek1/P2D4/20230313_SE_Lek1_P2D4_DJI_0948.MP4\n",
      "Video already analyzed! /home/vsridhar/DATA/DeepLabCut/projects/05_TerritoryDetectionP2-Vivek-2023-07-10/output/SSD6/20230313/SE_Lek1/P2D4/20230313_SE_Lek1_P2D4_DJI_0948DLC_dlcrnetms5_05_TerritoryDetectionP2Jul10shuffle1_50000.h5\n",
      "Using snapshot-50000 for model /home/vsridhar/DATA/DeepLabCut/projects/05_TerritoryDetectionP2-Vivek-2023-07-10/dlc-models/iteration-0/05_TerritoryDetectionP2Jul10-trainset90shuffle1\n",
      "Processing...  /media/vsridhar/T7/Work/Data/BlackbuckAnnotations/P2/downsampled/SSD6/20230313/SE_Lek1/P2D4/20230313_SE_Lek1_P2D4_DJI_0948.MP4\n",
      "Tracklets already computed /home/vsridhar/DATA/DeepLabCut/projects/05_TerritoryDetectionP2-Vivek-2023-07-10/output/SSD6/20230313/SE_Lek1/P2D4/20230313_SE_Lek1_P2D4_DJI_0948DLC_dlcrnetms5_05_TerritoryDetectionP2Jul10shuffle1_50000_el.pickle\n",
      "Set overwrite = True to overwrite.\n",
      "The tracklets were created (i.e., under the hood deeplabcut.convert_detections2tracklets was run). Now you can 'refine_tracklets' in the GUI, or run 'deeplabcut.stitch_tracklets'.\n",
      "Processing...  /media/vsridhar/T7/Work/Data/BlackbuckAnnotations/P2/downsampled/SSD6/20230313/SE_Lek1/P2D4/20230313_SE_Lek1_P2D4_DJI_0948.MP4\n"
     ]
    },
    {
     "name": "stderr",
     "output_type": "stream",
     "text": [
      "/home/vsridhar/.local/lib/python3.10/site-packages/deeplabcut/refine_training_dataset/stitch.py:138: FutureWarning: Unlike other reduction functions (e.g. `skew`, `kurtosis`), the default behavior of `mode` typically preserves the axis it acts along. In SciPy 1.11.0, this behavior will change: the default value of `keepdims` will become False, the `axis` over which the statistic is taken will be eliminated, and the value None will no longer be accepted. Set `keepdims` to True or False to avoid this warning.\n",
      "  return mode(self.data[..., 3], axis=None, nan_policy=\"omit\")[0][0]\n",
      "100%|██████████████████████████████████████████████████████████████████████████████████████| 53/53 [00:00<00:00, 9212.52it/s]\n",
      "/home/vsridhar/.local/lib/python3.10/site-packages/deeplabcut/refine_training_dataset/stitch.py:690: UserWarning: No optimal solution found. Employing black magic...\n",
      "  warnings.warn(\"No optimal solution found. Employing black magic...\")\n",
      "/home/vsridhar/.local/lib/python3.10/site-packages/deeplabcut/refine_training_dataset/stitch.py:763: UserWarning: Only 53 tracks could be reconstructed.\n",
      "  warnings.warn(f\"Only {len(self.paths)} tracks could be reconstructed.\")\n",
      "/home/vsridhar/.local/lib/python3.10/site-packages/deeplabcut/refine_training_dataset/stitch.py:138: FutureWarning: Unlike other reduction functions (e.g. `skew`, `kurtosis`), the default behavior of `mode` typically preserves the axis it acts along. In SciPy 1.11.0, this behavior will change: the default value of `keepdims` will become False, the `axis` over which the statistic is taken will be eliminated, and the value None will no longer be accepted. Set `keepdims` to True or False to avoid this warning.\n",
      "  return mode(self.data[..., 3], axis=None, nan_policy=\"omit\")[0][0]\n"
     ]
    },
    {
     "name": "stdout",
     "output_type": "stream",
     "text": [
      "Starting to analyze %  /media/vsridhar/T7/Work/Data/BlackbuckAnnotations/P2/downsampled/SSD6/20230313/SE_Lek1/P2D4/20230313_SE_Lek1_P2D4_DJI_0959.MP4\n",
      "Video already analyzed! /home/vsridhar/DATA/DeepLabCut/projects/05_TerritoryDetectionP2-Vivek-2023-07-10/output/SSD6/20230313/SE_Lek1/P2D4/20230313_SE_Lek1_P2D4_DJI_0959DLC_dlcrnetms5_05_TerritoryDetectionP2Jul10shuffle1_50000.h5\n",
      "Using snapshot-50000 for model /home/vsridhar/DATA/DeepLabCut/projects/05_TerritoryDetectionP2-Vivek-2023-07-10/dlc-models/iteration-0/05_TerritoryDetectionP2Jul10-trainset90shuffle1\n",
      "Processing...  /media/vsridhar/T7/Work/Data/BlackbuckAnnotations/P2/downsampled/SSD6/20230313/SE_Lek1/P2D4/20230313_SE_Lek1_P2D4_DJI_0959.MP4\n",
      "Tracklets already computed /home/vsridhar/DATA/DeepLabCut/projects/05_TerritoryDetectionP2-Vivek-2023-07-10/output/SSD6/20230313/SE_Lek1/P2D4/20230313_SE_Lek1_P2D4_DJI_0959DLC_dlcrnetms5_05_TerritoryDetectionP2Jul10shuffle1_50000_el.pickle\n",
      "Set overwrite = True to overwrite.\n",
      "The tracklets were created (i.e., under the hood deeplabcut.convert_detections2tracklets was run). Now you can 'refine_tracklets' in the GUI, or run 'deeplabcut.stitch_tracklets'.\n",
      "Processing...  /media/vsridhar/T7/Work/Data/BlackbuckAnnotations/P2/downsampled/SSD6/20230313/SE_Lek1/P2D4/20230313_SE_Lek1_P2D4_DJI_0959.MP4\n"
     ]
    },
    {
     "name": "stderr",
     "output_type": "stream",
     "text": [
      "100%|████████████████████████████████████████████████████████████████████████████████████| 35/35 [00:00<00:00, 194180.74it/s]\n",
      "/home/vsridhar/.local/lib/python3.10/site-packages/deeplabcut/refine_training_dataset/stitch.py:690: UserWarning: No optimal solution found. Employing black magic...\n",
      "  warnings.warn(\"No optimal solution found. Employing black magic...\")\n",
      "/home/vsridhar/.local/lib/python3.10/site-packages/deeplabcut/refine_training_dataset/stitch.py:763: UserWarning: Only 35 tracks could be reconstructed.\n",
      "  warnings.warn(f\"Only {len(self.paths)} tracks could be reconstructed.\")\n"
     ]
    },
    {
     "name": "stdout",
     "output_type": "stream",
     "text": [
      "The videos are analyzed. Time to assemble animals and track 'em... \n",
      " Call 'create_video_with_all_detections' to check multi-animal detection quality before tracking.\n",
      "If the tracking is not satisfactory for some videos, consider expanding the training set. You can use the function 'extract_outlier_frames' to extract a few representative outlier frames.\n"
     ]
    }
   ],
   "source": [
    "for ssd in SSD:\n",
    "    for date in DATE:\n",
    "        for session in SESSION:\n",
    "            for drone in DRONE:\n",
    "                internal_path = '/' + ssd + '/' + date + '/' + session + '/' + drone\n",
    "                \n",
    "                deeplabcut.analyze_videos(config_path,\n",
    "                                          ['/media/vsridhar/T7/Work/Data/BlackbuckAnnotations/P2/downsampled' + internal_path],\n",
    "                                          videotype='MP4',\n",
    "                                          destfolder='/home/vsridhar/DATA/DeepLabCut/projects/05_TerritoryDetectionP2-Vivek-2023-07-10/output' + internal_path,\n",
    "                                          gputouse=0, \n",
    "                                          save_as_csv=False,\n",
    "                                          allow_growth=True,\n",
    "                                          auto_track=True)"
   ]
  },
  {
   "cell_type": "code",
   "execution_count": 4,
   "id": "1ccfb205",
   "metadata": {},
   "outputs": [],
   "source": [
    "SSD = ['SSD6']\n",
    "DATE = ['20230312', '20230314']\n",
    "SESSION = ['SM_Lek1']\n",
    "DRONE = ['P2D3', 'P2D4']\n",
    "\n",
    "config_path = '/home/vsridhar/DATA/DeepLabCut/projects/05_TerritoryDetectionP2-Vivek-2023-07-10/config.yaml'"
   ]
  },
  {
   "cell_type": "code",
   "execution_count": 5,
   "id": "19779802",
   "metadata": {},
   "outputs": [
    {
     "name": "stdout",
     "output_type": "stream",
     "text": [
      "Using snapshot-50000 for model /home/vsridhar/DATA/DeepLabCut/projects/05_TerritoryDetectionP2-Vivek-2023-07-10/dlc-models/iteration-0/05_TerritoryDetectionP2Jul10-trainset90shuffle1\n"
     ]
    },
    {
     "name": "stderr",
     "output_type": "stream",
     "text": [
      "/home/vsridhar/.local/lib/python3.10/site-packages/tensorflow/python/keras/engine/base_layer_v1.py:1694: UserWarning: `layer.apply` is deprecated and will be removed in a future version. Please use `layer.__call__` method instead.\n",
      "  warnings.warn('`layer.apply` is deprecated and '\n",
      "/home/vsridhar/.local/lib/python3.10/site-packages/tf_slim/layers/layers.py:684: UserWarning: `layer.apply` is deprecated and will be removed in a future version. Please use `layer.__call__` method instead.\n",
      "  outputs = layer.apply(inputs, training=is_training)\n"
     ]
    },
    {
     "name": "stdout",
     "output_type": "stream",
     "text": [
      "Activating extracting of PAFs\n",
      "Analyzing all the videos in the directory...\n",
      "Starting to analyze %  /media/vsridhar/T7/Work/Data/BlackbuckAnnotations/P2/downsampled/SSD6/20230312/SM_Lek1/P2D3/20230312_SM_Lek1_P2D3_DJI_0267.MP4\n",
      "Video already analyzed! /home/vsridhar/DATA/DeepLabCut/projects/05_TerritoryDetectionP2-Vivek-2023-07-10/output/SSD6/20230312/SM_Lek1/P2D3/20230312_SM_Lek1_P2D3_DJI_0267DLC_dlcrnetms5_05_TerritoryDetectionP2Jul10shuffle1_50000.h5\n",
      "Using snapshot-50000 for model /home/vsridhar/DATA/DeepLabCut/projects/05_TerritoryDetectionP2-Vivek-2023-07-10/dlc-models/iteration-0/05_TerritoryDetectionP2Jul10-trainset90shuffle1\n",
      "Processing...  /media/vsridhar/T7/Work/Data/BlackbuckAnnotations/P2/downsampled/SSD6/20230312/SM_Lek1/P2D3/20230312_SM_Lek1_P2D3_DJI_0267.MP4\n",
      "Tracklets already computed /home/vsridhar/DATA/DeepLabCut/projects/05_TerritoryDetectionP2-Vivek-2023-07-10/output/SSD6/20230312/SM_Lek1/P2D3/20230312_SM_Lek1_P2D3_DJI_0267DLC_dlcrnetms5_05_TerritoryDetectionP2Jul10shuffle1_50000_el.pickle\n",
      "Set overwrite = True to overwrite.\n",
      "The tracklets were created (i.e., under the hood deeplabcut.convert_detections2tracklets was run). Now you can 'refine_tracklets' in the GUI, or run 'deeplabcut.stitch_tracklets'.\n",
      "Processing...  /media/vsridhar/T7/Work/Data/BlackbuckAnnotations/P2/downsampled/SSD6/20230312/SM_Lek1/P2D3/20230312_SM_Lek1_P2D3_DJI_0267.MP4\n"
     ]
    },
    {
     "name": "stderr",
     "output_type": "stream",
     "text": [
      "/home/vsridhar/.local/lib/python3.10/site-packages/deeplabcut/refine_training_dataset/stitch.py:138: FutureWarning: Unlike other reduction functions (e.g. `skew`, `kurtosis`), the default behavior of `mode` typically preserves the axis it acts along. In SciPy 1.11.0, this behavior will change: the default value of `keepdims` will become False, the `axis` over which the statistic is taken will be eliminated, and the value None will no longer be accepted. Set `keepdims` to True or False to avoid this warning.\n",
      "  return mode(self.data[..., 3], axis=None, nan_policy=\"omit\")[0][0]\n",
      "100%|████████████████████████████████████████████████████████████████████████████████████| 33/33 [00:00<00:00, 150121.51it/s]\n",
      "/home/vsridhar/.local/lib/python3.10/site-packages/deeplabcut/refine_training_dataset/stitch.py:690: UserWarning: No optimal solution found. Employing black magic...\n",
      "  warnings.warn(\"No optimal solution found. Employing black magic...\")\n",
      "/home/vsridhar/.local/lib/python3.10/site-packages/deeplabcut/refine_training_dataset/stitch.py:763: UserWarning: Only 33 tracks could be reconstructed.\n",
      "  warnings.warn(f\"Only {len(self.paths)} tracks could be reconstructed.\")\n"
     ]
    },
    {
     "name": "stdout",
     "output_type": "stream",
     "text": [
      "Starting to analyze %  /media/vsridhar/T7/Work/Data/BlackbuckAnnotations/P2/downsampled/SSD6/20230312/SM_Lek1/P2D3/20230312_SM_Lek1_P2D3_DJI_0264.MP4\n",
      "Video already analyzed! /home/vsridhar/DATA/DeepLabCut/projects/05_TerritoryDetectionP2-Vivek-2023-07-10/output/SSD6/20230312/SM_Lek1/P2D3/20230312_SM_Lek1_P2D3_DJI_0264DLC_dlcrnetms5_05_TerritoryDetectionP2Jul10shuffle1_50000.h5\n",
      "Using snapshot-50000 for model /home/vsridhar/DATA/DeepLabCut/projects/05_TerritoryDetectionP2-Vivek-2023-07-10/dlc-models/iteration-0/05_TerritoryDetectionP2Jul10-trainset90shuffle1\n",
      "Processing...  /media/vsridhar/T7/Work/Data/BlackbuckAnnotations/P2/downsampled/SSD6/20230312/SM_Lek1/P2D3/20230312_SM_Lek1_P2D3_DJI_0264.MP4\n",
      "Tracklets already computed /home/vsridhar/DATA/DeepLabCut/projects/05_TerritoryDetectionP2-Vivek-2023-07-10/output/SSD6/20230312/SM_Lek1/P2D3/20230312_SM_Lek1_P2D3_DJI_0264DLC_dlcrnetms5_05_TerritoryDetectionP2Jul10shuffle1_50000_el.pickle\n",
      "Set overwrite = True to overwrite.\n",
      "The tracklets were created (i.e., under the hood deeplabcut.convert_detections2tracklets was run). Now you can 'refine_tracklets' in the GUI, or run 'deeplabcut.stitch_tracklets'.\n",
      "Processing...  /media/vsridhar/T7/Work/Data/BlackbuckAnnotations/P2/downsampled/SSD6/20230312/SM_Lek1/P2D3/20230312_SM_Lek1_P2D3_DJI_0264.MP4\n"
     ]
    },
    {
     "name": "stderr",
     "output_type": "stream",
     "text": [
      "/home/vsridhar/.local/lib/python3.10/site-packages/deeplabcut/refine_training_dataset/stitch.py:138: FutureWarning: Unlike other reduction functions (e.g. `skew`, `kurtosis`), the default behavior of `mode` typically preserves the axis it acts along. In SciPy 1.11.0, this behavior will change: the default value of `keepdims` will become False, the `axis` over which the statistic is taken will be eliminated, and the value None will no longer be accepted. Set `keepdims` to True or False to avoid this warning.\n",
      "  return mode(self.data[..., 3], axis=None, nan_policy=\"omit\")[0][0]\n",
      "100%|█████████████████████████████████████████████████████████████████████████████████████| 38/38 [00:00<00:00, 24160.00it/s]\n",
      "/home/vsridhar/.local/lib/python3.10/site-packages/deeplabcut/refine_training_dataset/stitch.py:690: UserWarning: No optimal solution found. Employing black magic...\n",
      "  warnings.warn(\"No optimal solution found. Employing black magic...\")\n",
      "/home/vsridhar/.local/lib/python3.10/site-packages/deeplabcut/refine_training_dataset/stitch.py:763: UserWarning: Only 38 tracks could be reconstructed.\n",
      "  warnings.warn(f\"Only {len(self.paths)} tracks could be reconstructed.\")\n"
     ]
    },
    {
     "name": "stdout",
     "output_type": "stream",
     "text": [
      "Starting to analyze %  /media/vsridhar/T7/Work/Data/BlackbuckAnnotations/P2/downsampled/SSD6/20230312/SM_Lek1/P2D3/20230312_SM_Lek1_P2D3_DJI_0272.MP4\n",
      "Video already analyzed! /home/vsridhar/DATA/DeepLabCut/projects/05_TerritoryDetectionP2-Vivek-2023-07-10/output/SSD6/20230312/SM_Lek1/P2D3/20230312_SM_Lek1_P2D3_DJI_0272DLC_dlcrnetms5_05_TerritoryDetectionP2Jul10shuffle1_50000.h5\n",
      "Using snapshot-50000 for model /home/vsridhar/DATA/DeepLabCut/projects/05_TerritoryDetectionP2-Vivek-2023-07-10/dlc-models/iteration-0/05_TerritoryDetectionP2Jul10-trainset90shuffle1\n",
      "Processing...  /media/vsridhar/T7/Work/Data/BlackbuckAnnotations/P2/downsampled/SSD6/20230312/SM_Lek1/P2D3/20230312_SM_Lek1_P2D3_DJI_0272.MP4\n",
      "Tracklets already computed /home/vsridhar/DATA/DeepLabCut/projects/05_TerritoryDetectionP2-Vivek-2023-07-10/output/SSD6/20230312/SM_Lek1/P2D3/20230312_SM_Lek1_P2D3_DJI_0272DLC_dlcrnetms5_05_TerritoryDetectionP2Jul10shuffle1_50000_el.pickle\n",
      "Set overwrite = True to overwrite.\n",
      "The tracklets were created (i.e., under the hood deeplabcut.convert_detections2tracklets was run). Now you can 'refine_tracklets' in the GUI, or run 'deeplabcut.stitch_tracklets'.\n",
      "Processing...  /media/vsridhar/T7/Work/Data/BlackbuckAnnotations/P2/downsampled/SSD6/20230312/SM_Lek1/P2D3/20230312_SM_Lek1_P2D3_DJI_0272.MP4\n"
     ]
    },
    {
     "name": "stderr",
     "output_type": "stream",
     "text": [
      "/home/vsridhar/.local/lib/python3.10/site-packages/deeplabcut/refine_training_dataset/stitch.py:138: FutureWarning: Unlike other reduction functions (e.g. `skew`, `kurtosis`), the default behavior of `mode` typically preserves the axis it acts along. In SciPy 1.11.0, this behavior will change: the default value of `keepdims` will become False, the `axis` over which the statistic is taken will be eliminated, and the value None will no longer be accepted. Set `keepdims` to True or False to avoid this warning.\n",
      "  return mode(self.data[..., 3], axis=None, nan_policy=\"omit\")[0][0]\n",
      "100%|████████████████████████████████████████████████████████████████████████████████████| 128/128 [00:00<00:00, 2197.94it/s]\n"
     ]
    },
    {
     "name": "stdout",
     "output_type": "stream",
     "text": [
      "Starting to analyze %  /media/vsridhar/T7/Work/Data/BlackbuckAnnotations/P2/downsampled/SSD6/20230312/SM_Lek1/P2D3/20230312_SM_Lek1_P2D3_DJI_0277.MP4\n",
      "Video already analyzed! /home/vsridhar/DATA/DeepLabCut/projects/05_TerritoryDetectionP2-Vivek-2023-07-10/output/SSD6/20230312/SM_Lek1/P2D3/20230312_SM_Lek1_P2D3_DJI_0277DLC_dlcrnetms5_05_TerritoryDetectionP2Jul10shuffle1_50000.h5\n",
      "Using snapshot-50000 for model /home/vsridhar/DATA/DeepLabCut/projects/05_TerritoryDetectionP2-Vivek-2023-07-10/dlc-models/iteration-0/05_TerritoryDetectionP2Jul10-trainset90shuffle1\n",
      "Processing...  /media/vsridhar/T7/Work/Data/BlackbuckAnnotations/P2/downsampled/SSD6/20230312/SM_Lek1/P2D3/20230312_SM_Lek1_P2D3_DJI_0277.MP4\n",
      "Tracklets already computed /home/vsridhar/DATA/DeepLabCut/projects/05_TerritoryDetectionP2-Vivek-2023-07-10/output/SSD6/20230312/SM_Lek1/P2D3/20230312_SM_Lek1_P2D3_DJI_0277DLC_dlcrnetms5_05_TerritoryDetectionP2Jul10shuffle1_50000_el.pickle\n",
      "Set overwrite = True to overwrite.\n",
      "The tracklets were created (i.e., under the hood deeplabcut.convert_detections2tracklets was run). Now you can 'refine_tracklets' in the GUI, or run 'deeplabcut.stitch_tracklets'.\n",
      "Processing...  /media/vsridhar/T7/Work/Data/BlackbuckAnnotations/P2/downsampled/SSD6/20230312/SM_Lek1/P2D3/20230312_SM_Lek1_P2D3_DJI_0277.MP4\n"
     ]
    },
    {
     "name": "stderr",
     "output_type": "stream",
     "text": [
      "/home/vsridhar/.local/lib/python3.10/site-packages/deeplabcut/refine_training_dataset/stitch.py:138: FutureWarning: Unlike other reduction functions (e.g. `skew`, `kurtosis`), the default behavior of `mode` typically preserves the axis it acts along. In SciPy 1.11.0, this behavior will change: the default value of `keepdims` will become False, the `axis` over which the statistic is taken will be eliminated, and the value None will no longer be accepted. Set `keepdims` to True or False to avoid this warning.\n",
      "  return mode(self.data[..., 3], axis=None, nan_policy=\"omit\")[0][0]\n",
      "100%|██████████████████████████████████████████████████████████████████████████████████████| 63/63 [00:00<00:00, 8962.49it/s]\n"
     ]
    },
    {
     "name": "stdout",
     "output_type": "stream",
     "text": [
      "Starting to analyze %  /media/vsridhar/T7/Work/Data/BlackbuckAnnotations/P2/downsampled/SSD6/20230312/SM_Lek1/P2D3/20230312_SM_Lek1_P2D3_DJI_0285.MP4\n",
      "Video already analyzed! /home/vsridhar/DATA/DeepLabCut/projects/05_TerritoryDetectionP2-Vivek-2023-07-10/output/SSD6/20230312/SM_Lek1/P2D3/20230312_SM_Lek1_P2D3_DJI_0285DLC_dlcrnetms5_05_TerritoryDetectionP2Jul10shuffle1_50000.h5\n",
      "Using snapshot-50000 for model /home/vsridhar/DATA/DeepLabCut/projects/05_TerritoryDetectionP2-Vivek-2023-07-10/dlc-models/iteration-0/05_TerritoryDetectionP2Jul10-trainset90shuffle1\n",
      "Processing...  /media/vsridhar/T7/Work/Data/BlackbuckAnnotations/P2/downsampled/SSD6/20230312/SM_Lek1/P2D3/20230312_SM_Lek1_P2D3_DJI_0285.MP4\n",
      "Tracklets already computed /home/vsridhar/DATA/DeepLabCut/projects/05_TerritoryDetectionP2-Vivek-2023-07-10/output/SSD6/20230312/SM_Lek1/P2D3/20230312_SM_Lek1_P2D3_DJI_0285DLC_dlcrnetms5_05_TerritoryDetectionP2Jul10shuffle1_50000_el.pickle\n",
      "Set overwrite = True to overwrite.\n",
      "The tracklets were created (i.e., under the hood deeplabcut.convert_detections2tracklets was run). Now you can 'refine_tracklets' in the GUI, or run 'deeplabcut.stitch_tracklets'.\n",
      "Processing...  /media/vsridhar/T7/Work/Data/BlackbuckAnnotations/P2/downsampled/SSD6/20230312/SM_Lek1/P2D3/20230312_SM_Lek1_P2D3_DJI_0285.MP4\n"
     ]
    },
    {
     "name": "stderr",
     "output_type": "stream",
     "text": [
      "/home/vsridhar/.local/lib/python3.10/site-packages/deeplabcut/refine_training_dataset/stitch.py:138: FutureWarning: Unlike other reduction functions (e.g. `skew`, `kurtosis`), the default behavior of `mode` typically preserves the axis it acts along. In SciPy 1.11.0, this behavior will change: the default value of `keepdims` will become False, the `axis` over which the statistic is taken will be eliminated, and the value None will no longer be accepted. Set `keepdims` to True or False to avoid this warning.\n",
      "  return mode(self.data[..., 3], axis=None, nan_policy=\"omit\")[0][0]\n",
      "100%|█████████████████████████████████████████████████████████████████████████████████████| 43/43 [00:00<00:00, 13983.18it/s]\n",
      "/home/vsridhar/.local/lib/python3.10/site-packages/deeplabcut/refine_training_dataset/stitch.py:690: UserWarning: No optimal solution found. Employing black magic...\n",
      "  warnings.warn(\"No optimal solution found. Employing black magic...\")\n",
      "/home/vsridhar/.local/lib/python3.10/site-packages/deeplabcut/refine_training_dataset/stitch.py:763: UserWarning: Only 43 tracks could be reconstructed.\n",
      "  warnings.warn(f\"Only {len(self.paths)} tracks could be reconstructed.\")\n",
      "/home/vsridhar/.local/lib/python3.10/site-packages/deeplabcut/refine_training_dataset/stitch.py:138: FutureWarning: Unlike other reduction functions (e.g. `skew`, `kurtosis`), the default behavior of `mode` typically preserves the axis it acts along. In SciPy 1.11.0, this behavior will change: the default value of `keepdims` will become False, the `axis` over which the statistic is taken will be eliminated, and the value None will no longer be accepted. Set `keepdims` to True or False to avoid this warning.\n",
      "  return mode(self.data[..., 3], axis=None, nan_policy=\"omit\")[0][0]\n"
     ]
    },
    {
     "name": "stdout",
     "output_type": "stream",
     "text": [
      "Starting to analyze %  /media/vsridhar/T7/Work/Data/BlackbuckAnnotations/P2/downsampled/SSD6/20230312/SM_Lek1/P2D3/20230312_SM_Lek1_P2D3_DJI_0283.MP4\n",
      "Video already analyzed! /home/vsridhar/DATA/DeepLabCut/projects/05_TerritoryDetectionP2-Vivek-2023-07-10/output/SSD6/20230312/SM_Lek1/P2D3/20230312_SM_Lek1_P2D3_DJI_0283DLC_dlcrnetms5_05_TerritoryDetectionP2Jul10shuffle1_50000.h5\n",
      "Using snapshot-50000 for model /home/vsridhar/DATA/DeepLabCut/projects/05_TerritoryDetectionP2-Vivek-2023-07-10/dlc-models/iteration-0/05_TerritoryDetectionP2Jul10-trainset90shuffle1\n",
      "Processing...  /media/vsridhar/T7/Work/Data/BlackbuckAnnotations/P2/downsampled/SSD6/20230312/SM_Lek1/P2D3/20230312_SM_Lek1_P2D3_DJI_0283.MP4\n",
      "Tracklets already computed /home/vsridhar/DATA/DeepLabCut/projects/05_TerritoryDetectionP2-Vivek-2023-07-10/output/SSD6/20230312/SM_Lek1/P2D3/20230312_SM_Lek1_P2D3_DJI_0283DLC_dlcrnetms5_05_TerritoryDetectionP2Jul10shuffle1_50000_el.pickle\n",
      "Set overwrite = True to overwrite.\n",
      "The tracklets were created (i.e., under the hood deeplabcut.convert_detections2tracklets was run). Now you can 'refine_tracklets' in the GUI, or run 'deeplabcut.stitch_tracklets'.\n",
      "Processing...  /media/vsridhar/T7/Work/Data/BlackbuckAnnotations/P2/downsampled/SSD6/20230312/SM_Lek1/P2D3/20230312_SM_Lek1_P2D3_DJI_0283.MP4\n"
     ]
    },
    {
     "name": "stderr",
     "output_type": "stream",
     "text": [
      "100%|████████████████████████████████████████████████████████████████████████████████████| 33/33 [00:00<00:00, 222170.20it/s]"
     ]
    },
    {
     "name": "stdout",
     "output_type": "stream",
     "text": [
      "Starting to analyze %  /media/vsridhar/T7/Work/Data/BlackbuckAnnotations/P2/downsampled/SSD6/20230312/SM_Lek1/P2D3/20230312_SM_Lek1_P2D3_DJI_0269.MP4\n",
      "Video already analyzed! /home/vsridhar/DATA/DeepLabCut/projects/05_TerritoryDetectionP2-Vivek-2023-07-10/output/SSD6/20230312/SM_Lek1/P2D3/20230312_SM_Lek1_P2D3_DJI_0269DLC_dlcrnetms5_05_TerritoryDetectionP2Jul10shuffle1_50000.h5\n"
     ]
    },
    {
     "name": "stderr",
     "output_type": "stream",
     "text": [
      "\n",
      "/home/vsridhar/.local/lib/python3.10/site-packages/deeplabcut/refine_training_dataset/stitch.py:690: UserWarning: No optimal solution found. Employing black magic...\n",
      "  warnings.warn(\"No optimal solution found. Employing black magic...\")\n",
      "/home/vsridhar/.local/lib/python3.10/site-packages/deeplabcut/refine_training_dataset/stitch.py:763: UserWarning: Only 33 tracks could be reconstructed.\n",
      "  warnings.warn(f\"Only {len(self.paths)} tracks could be reconstructed.\")\n"
     ]
    },
    {
     "name": "stdout",
     "output_type": "stream",
     "text": [
      "Using snapshot-50000 for model /home/vsridhar/DATA/DeepLabCut/projects/05_TerritoryDetectionP2-Vivek-2023-07-10/dlc-models/iteration-0/05_TerritoryDetectionP2Jul10-trainset90shuffle1\n",
      "Processing...  /media/vsridhar/T7/Work/Data/BlackbuckAnnotations/P2/downsampled/SSD6/20230312/SM_Lek1/P2D3/20230312_SM_Lek1_P2D3_DJI_0269.MP4\n",
      "Tracklets already computed /home/vsridhar/DATA/DeepLabCut/projects/05_TerritoryDetectionP2-Vivek-2023-07-10/output/SSD6/20230312/SM_Lek1/P2D3/20230312_SM_Lek1_P2D3_DJI_0269DLC_dlcrnetms5_05_TerritoryDetectionP2Jul10shuffle1_50000_el.pickle\n",
      "Set overwrite = True to overwrite.\n",
      "The tracklets were created (i.e., under the hood deeplabcut.convert_detections2tracklets was run). Now you can 'refine_tracklets' in the GUI, or run 'deeplabcut.stitch_tracklets'.\n",
      "Processing...  /media/vsridhar/T7/Work/Data/BlackbuckAnnotations/P2/downsampled/SSD6/20230312/SM_Lek1/P2D3/20230312_SM_Lek1_P2D3_DJI_0269.MP4\n"
     ]
    },
    {
     "name": "stderr",
     "output_type": "stream",
     "text": [
      "/home/vsridhar/.local/lib/python3.10/site-packages/deeplabcut/refine_training_dataset/stitch.py:138: FutureWarning: Unlike other reduction functions (e.g. `skew`, `kurtosis`), the default behavior of `mode` typically preserves the axis it acts along. In SciPy 1.11.0, this behavior will change: the default value of `keepdims` will become False, the `axis` over which the statistic is taken will be eliminated, and the value None will no longer be accepted. Set `keepdims` to True or False to avoid this warning.\n",
      "  return mode(self.data[..., 3], axis=None, nan_policy=\"omit\")[0][0]\n",
      "100%|██████████████████████████████████████████████████████████████████████████████████████| 42/42 [00:00<00:00, 6324.66it/s]\n",
      "/home/vsridhar/.local/lib/python3.10/site-packages/deeplabcut/refine_training_dataset/stitch.py:690: UserWarning: No optimal solution found. Employing black magic...\n",
      "  warnings.warn(\"No optimal solution found. Employing black magic...\")\n",
      "/home/vsridhar/.local/lib/python3.10/site-packages/deeplabcut/refine_training_dataset/stitch.py:763: UserWarning: Only 42 tracks could be reconstructed.\n",
      "  warnings.warn(f\"Only {len(self.paths)} tracks could be reconstructed.\")\n"
     ]
    },
    {
     "name": "stdout",
     "output_type": "stream",
     "text": [
      "Starting to analyze %  /media/vsridhar/T7/Work/Data/BlackbuckAnnotations/P2/downsampled/SSD6/20230312/SM_Lek1/P2D3/20230312_SM_Lek1_P2D3_DJI_0276.MP4\n",
      "Video already analyzed! /home/vsridhar/DATA/DeepLabCut/projects/05_TerritoryDetectionP2-Vivek-2023-07-10/output/SSD6/20230312/SM_Lek1/P2D3/20230312_SM_Lek1_P2D3_DJI_0276DLC_dlcrnetms5_05_TerritoryDetectionP2Jul10shuffle1_50000.h5\n",
      "Using snapshot-50000 for model /home/vsridhar/DATA/DeepLabCut/projects/05_TerritoryDetectionP2-Vivek-2023-07-10/dlc-models/iteration-0/05_TerritoryDetectionP2Jul10-trainset90shuffle1\n",
      "Processing...  /media/vsridhar/T7/Work/Data/BlackbuckAnnotations/P2/downsampled/SSD6/20230312/SM_Lek1/P2D3/20230312_SM_Lek1_P2D3_DJI_0276.MP4\n",
      "Tracklets already computed /home/vsridhar/DATA/DeepLabCut/projects/05_TerritoryDetectionP2-Vivek-2023-07-10/output/SSD6/20230312/SM_Lek1/P2D3/20230312_SM_Lek1_P2D3_DJI_0276DLC_dlcrnetms5_05_TerritoryDetectionP2Jul10shuffle1_50000_el.pickle\n",
      "Set overwrite = True to overwrite.\n",
      "The tracklets were created (i.e., under the hood deeplabcut.convert_detections2tracklets was run). Now you can 'refine_tracklets' in the GUI, or run 'deeplabcut.stitch_tracklets'.\n",
      "Processing...  /media/vsridhar/T7/Work/Data/BlackbuckAnnotations/P2/downsampled/SSD6/20230312/SM_Lek1/P2D3/20230312_SM_Lek1_P2D3_DJI_0276.MP4\n"
     ]
    },
    {
     "name": "stderr",
     "output_type": "stream",
     "text": [
      "/home/vsridhar/.local/lib/python3.10/site-packages/deeplabcut/refine_training_dataset/stitch.py:138: FutureWarning: Unlike other reduction functions (e.g. `skew`, `kurtosis`), the default behavior of `mode` typically preserves the axis it acts along. In SciPy 1.11.0, this behavior will change: the default value of `keepdims` will become False, the `axis` over which the statistic is taken will be eliminated, and the value None will no longer be accepted. Set `keepdims` to True or False to avoid this warning.\n",
      "  return mode(self.data[..., 3], axis=None, nan_policy=\"omit\")[0][0]\n",
      "100%|██████████████████████████████████████████████████████████████████████████████████████| 63/63 [00:00<00:00, 6786.55it/s]\n"
     ]
    },
    {
     "name": "stdout",
     "output_type": "stream",
     "text": [
      "Starting to analyze %  /media/vsridhar/T7/Work/Data/BlackbuckAnnotations/P2/downsampled/SSD6/20230312/SM_Lek1/P2D3/20230312_SM_Lek1_P2D3_DJI_0278.MP4\n",
      "Video already analyzed! /home/vsridhar/DATA/DeepLabCut/projects/05_TerritoryDetectionP2-Vivek-2023-07-10/output/SSD6/20230312/SM_Lek1/P2D3/20230312_SM_Lek1_P2D3_DJI_0278DLC_dlcrnetms5_05_TerritoryDetectionP2Jul10shuffle1_50000.h5\n",
      "Using snapshot-50000 for model /home/vsridhar/DATA/DeepLabCut/projects/05_TerritoryDetectionP2-Vivek-2023-07-10/dlc-models/iteration-0/05_TerritoryDetectionP2Jul10-trainset90shuffle1\n",
      "Processing...  /media/vsridhar/T7/Work/Data/BlackbuckAnnotations/P2/downsampled/SSD6/20230312/SM_Lek1/P2D3/20230312_SM_Lek1_P2D3_DJI_0278.MP4\n",
      "Tracklets already computed /home/vsridhar/DATA/DeepLabCut/projects/05_TerritoryDetectionP2-Vivek-2023-07-10/output/SSD6/20230312/SM_Lek1/P2D3/20230312_SM_Lek1_P2D3_DJI_0278DLC_dlcrnetms5_05_TerritoryDetectionP2Jul10shuffle1_50000_el.pickle\n",
      "Set overwrite = True to overwrite.\n",
      "The tracklets were created (i.e., under the hood deeplabcut.convert_detections2tracklets was run). Now you can 'refine_tracklets' in the GUI, or run 'deeplabcut.stitch_tracklets'.\n",
      "Processing...  /media/vsridhar/T7/Work/Data/BlackbuckAnnotations/P2/downsampled/SSD6/20230312/SM_Lek1/P2D3/20230312_SM_Lek1_P2D3_DJI_0278.MP4\n"
     ]
    },
    {
     "name": "stderr",
     "output_type": "stream",
     "text": [
      "/home/vsridhar/.local/lib/python3.10/site-packages/deeplabcut/refine_training_dataset/stitch.py:138: FutureWarning: Unlike other reduction functions (e.g. `skew`, `kurtosis`), the default behavior of `mode` typically preserves the axis it acts along. In SciPy 1.11.0, this behavior will change: the default value of `keepdims` will become False, the `axis` over which the statistic is taken will be eliminated, and the value None will no longer be accepted. Set `keepdims` to True or False to avoid this warning.\n",
      "  return mode(self.data[..., 3], axis=None, nan_policy=\"omit\")[0][0]\n",
      "100%|████████████████████████████████████████████████████████████████████████████████████| 115/115 [00:00<00:00, 1771.87it/s]\n"
     ]
    },
    {
     "name": "stdout",
     "output_type": "stream",
     "text": [
      "Starting to analyze %  /media/vsridhar/T7/Work/Data/BlackbuckAnnotations/P2/downsampled/SSD6/20230312/SM_Lek1/P2D3/20230312_SM_Lek1_P2D3_DJI_0287.MP4\n",
      "Video already analyzed! /home/vsridhar/DATA/DeepLabCut/projects/05_TerritoryDetectionP2-Vivek-2023-07-10/output/SSD6/20230312/SM_Lek1/P2D3/20230312_SM_Lek1_P2D3_DJI_0287DLC_dlcrnetms5_05_TerritoryDetectionP2Jul10shuffle1_50000.h5\n",
      "Using snapshot-50000 for model /home/vsridhar/DATA/DeepLabCut/projects/05_TerritoryDetectionP2-Vivek-2023-07-10/dlc-models/iteration-0/05_TerritoryDetectionP2Jul10-trainset90shuffle1\n",
      "Processing...  /media/vsridhar/T7/Work/Data/BlackbuckAnnotations/P2/downsampled/SSD6/20230312/SM_Lek1/P2D3/20230312_SM_Lek1_P2D3_DJI_0287.MP4\n",
      "Tracklets already computed /home/vsridhar/DATA/DeepLabCut/projects/05_TerritoryDetectionP2-Vivek-2023-07-10/output/SSD6/20230312/SM_Lek1/P2D3/20230312_SM_Lek1_P2D3_DJI_0287DLC_dlcrnetms5_05_TerritoryDetectionP2Jul10shuffle1_50000_el.pickle\n",
      "Set overwrite = True to overwrite.\n",
      "The tracklets were created (i.e., under the hood deeplabcut.convert_detections2tracklets was run). Now you can 'refine_tracklets' in the GUI, or run 'deeplabcut.stitch_tracklets'.\n",
      "Processing...  /media/vsridhar/T7/Work/Data/BlackbuckAnnotations/P2/downsampled/SSD6/20230312/SM_Lek1/P2D3/20230312_SM_Lek1_P2D3_DJI_0287.MP4\n"
     ]
    },
    {
     "name": "stderr",
     "output_type": "stream",
     "text": [
      "/home/vsridhar/.local/lib/python3.10/site-packages/deeplabcut/refine_training_dataset/stitch.py:138: FutureWarning: Unlike other reduction functions (e.g. `skew`, `kurtosis`), the default behavior of `mode` typically preserves the axis it acts along. In SciPy 1.11.0, this behavior will change: the default value of `keepdims` will become False, the `axis` over which the statistic is taken will be eliminated, and the value None will no longer be accepted. Set `keepdims` to True or False to avoid this warning.\n",
      "  return mode(self.data[..., 3], axis=None, nan_policy=\"omit\")[0][0]\n",
      "100%|█████████████████████████████████████████████████████████████████████████████████████| 34/34 [00:00<00:00, 48637.90it/s]\n",
      "/home/vsridhar/.local/lib/python3.10/site-packages/deeplabcut/refine_training_dataset/stitch.py:690: UserWarning: No optimal solution found. Employing black magic...\n",
      "  warnings.warn(\"No optimal solution found. Employing black magic...\")\n",
      "/home/vsridhar/.local/lib/python3.10/site-packages/deeplabcut/refine_training_dataset/stitch.py:763: UserWarning: Only 34 tracks could be reconstructed.\n",
      "  warnings.warn(f\"Only {len(self.paths)} tracks could be reconstructed.\")\n"
     ]
    },
    {
     "name": "stdout",
     "output_type": "stream",
     "text": [
      "Starting to analyze %  /media/vsridhar/T7/Work/Data/BlackbuckAnnotations/P2/downsampled/SSD6/20230312/SM_Lek1/P2D3/20230312_SM_Lek1_P2D3_DJI_0268.MP4\n",
      "Video already analyzed! /home/vsridhar/DATA/DeepLabCut/projects/05_TerritoryDetectionP2-Vivek-2023-07-10/output/SSD6/20230312/SM_Lek1/P2D3/20230312_SM_Lek1_P2D3_DJI_0268DLC_dlcrnetms5_05_TerritoryDetectionP2Jul10shuffle1_50000.h5\n",
      "Using snapshot-50000 for model /home/vsridhar/DATA/DeepLabCut/projects/05_TerritoryDetectionP2-Vivek-2023-07-10/dlc-models/iteration-0/05_TerritoryDetectionP2Jul10-trainset90shuffle1\n",
      "Processing...  /media/vsridhar/T7/Work/Data/BlackbuckAnnotations/P2/downsampled/SSD6/20230312/SM_Lek1/P2D3/20230312_SM_Lek1_P2D3_DJI_0268.MP4\n",
      "Tracklets already computed /home/vsridhar/DATA/DeepLabCut/projects/05_TerritoryDetectionP2-Vivek-2023-07-10/output/SSD6/20230312/SM_Lek1/P2D3/20230312_SM_Lek1_P2D3_DJI_0268DLC_dlcrnetms5_05_TerritoryDetectionP2Jul10shuffle1_50000_el.pickle\n",
      "Set overwrite = True to overwrite.\n",
      "The tracklets were created (i.e., under the hood deeplabcut.convert_detections2tracklets was run). Now you can 'refine_tracklets' in the GUI, or run 'deeplabcut.stitch_tracklets'.\n",
      "Processing...  /media/vsridhar/T7/Work/Data/BlackbuckAnnotations/P2/downsampled/SSD6/20230312/SM_Lek1/P2D3/20230312_SM_Lek1_P2D3_DJI_0268.MP4\n"
     ]
    },
    {
     "name": "stderr",
     "output_type": "stream",
     "text": [
      "/home/vsridhar/.local/lib/python3.10/site-packages/deeplabcut/refine_training_dataset/stitch.py:138: FutureWarning: Unlike other reduction functions (e.g. `skew`, `kurtosis`), the default behavior of `mode` typically preserves the axis it acts along. In SciPy 1.11.0, this behavior will change: the default value of `keepdims` will become False, the `axis` over which the statistic is taken will be eliminated, and the value None will no longer be accepted. Set `keepdims` to True or False to avoid this warning.\n",
      "  return mode(self.data[..., 3], axis=None, nan_policy=\"omit\")[0][0]\n",
      "100%|████████████████████████████████████████████████████████████████████████████████████| 146/146 [00:00<00:00, 1151.96it/s]\n"
     ]
    },
    {
     "name": "stdout",
     "output_type": "stream",
     "text": [
      "Starting to analyze %  /media/vsridhar/T7/Work/Data/BlackbuckAnnotations/P2/downsampled/SSD6/20230312/SM_Lek1/P2D3/20230312_SM_Lek1_P2D3_DJI_0265.MP4\n",
      "Video already analyzed! /home/vsridhar/DATA/DeepLabCut/projects/05_TerritoryDetectionP2-Vivek-2023-07-10/output/SSD6/20230312/SM_Lek1/P2D3/20230312_SM_Lek1_P2D3_DJI_0265DLC_dlcrnetms5_05_TerritoryDetectionP2Jul10shuffle1_50000.h5\n",
      "Using snapshot-50000 for model /home/vsridhar/DATA/DeepLabCut/projects/05_TerritoryDetectionP2-Vivek-2023-07-10/dlc-models/iteration-0/05_TerritoryDetectionP2Jul10-trainset90shuffle1\n",
      "Processing...  /media/vsridhar/T7/Work/Data/BlackbuckAnnotations/P2/downsampled/SSD6/20230312/SM_Lek1/P2D3/20230312_SM_Lek1_P2D3_DJI_0265.MP4\n",
      "Tracklets already computed /home/vsridhar/DATA/DeepLabCut/projects/05_TerritoryDetectionP2-Vivek-2023-07-10/output/SSD6/20230312/SM_Lek1/P2D3/20230312_SM_Lek1_P2D3_DJI_0265DLC_dlcrnetms5_05_TerritoryDetectionP2Jul10shuffle1_50000_el.pickle\n",
      "Set overwrite = True to overwrite.\n",
      "The tracklets were created (i.e., under the hood deeplabcut.convert_detections2tracklets was run). Now you can 'refine_tracklets' in the GUI, or run 'deeplabcut.stitch_tracklets'.\n",
      "Processing...  /media/vsridhar/T7/Work/Data/BlackbuckAnnotations/P2/downsampled/SSD6/20230312/SM_Lek1/P2D3/20230312_SM_Lek1_P2D3_DJI_0265.MP4\n"
     ]
    },
    {
     "name": "stderr",
     "output_type": "stream",
     "text": [
      "/home/vsridhar/.local/lib/python3.10/site-packages/deeplabcut/refine_training_dataset/stitch.py:138: FutureWarning: Unlike other reduction functions (e.g. `skew`, `kurtosis`), the default behavior of `mode` typically preserves the axis it acts along. In SciPy 1.11.0, this behavior will change: the default value of `keepdims` will become False, the `axis` over which the statistic is taken will be eliminated, and the value None will no longer be accepted. Set `keepdims` to True or False to avoid this warning.\n",
      "  return mode(self.data[..., 3], axis=None, nan_policy=\"omit\")[0][0]\n",
      "100%|████████████████████████████████████████████████████████████████████████████████████| 33/33 [00:00<00:00, 220752.84it/s]\n",
      "/home/vsridhar/.local/lib/python3.10/site-packages/deeplabcut/refine_training_dataset/stitch.py:690: UserWarning: No optimal solution found. Employing black magic...\n",
      "  warnings.warn(\"No optimal solution found. Employing black magic...\")\n",
      "/home/vsridhar/.local/lib/python3.10/site-packages/deeplabcut/refine_training_dataset/stitch.py:763: UserWarning: Only 33 tracks could be reconstructed.\n",
      "  warnings.warn(f\"Only {len(self.paths)} tracks could be reconstructed.\")\n"
     ]
    },
    {
     "name": "stdout",
     "output_type": "stream",
     "text": [
      "Starting to analyze %  /media/vsridhar/T7/Work/Data/BlackbuckAnnotations/P2/downsampled/SSD6/20230312/SM_Lek1/P2D3/20230312_SM_Lek1_P2D3_DJI_0286.MP4\n",
      "Video already analyzed! /home/vsridhar/DATA/DeepLabCut/projects/05_TerritoryDetectionP2-Vivek-2023-07-10/output/SSD6/20230312/SM_Lek1/P2D3/20230312_SM_Lek1_P2D3_DJI_0286DLC_dlcrnetms5_05_TerritoryDetectionP2Jul10shuffle1_50000.h5\n",
      "Using snapshot-50000 for model /home/vsridhar/DATA/DeepLabCut/projects/05_TerritoryDetectionP2-Vivek-2023-07-10/dlc-models/iteration-0/05_TerritoryDetectionP2Jul10-trainset90shuffle1\n",
      "Processing...  /media/vsridhar/T7/Work/Data/BlackbuckAnnotations/P2/downsampled/SSD6/20230312/SM_Lek1/P2D3/20230312_SM_Lek1_P2D3_DJI_0286.MP4\n",
      "Tracklets already computed /home/vsridhar/DATA/DeepLabCut/projects/05_TerritoryDetectionP2-Vivek-2023-07-10/output/SSD6/20230312/SM_Lek1/P2D3/20230312_SM_Lek1_P2D3_DJI_0286DLC_dlcrnetms5_05_TerritoryDetectionP2Jul10shuffle1_50000_el.pickle\n",
      "Set overwrite = True to overwrite.\n",
      "The tracklets were created (i.e., under the hood deeplabcut.convert_detections2tracklets was run). Now you can 'refine_tracklets' in the GUI, or run 'deeplabcut.stitch_tracklets'.\n",
      "Processing...  /media/vsridhar/T7/Work/Data/BlackbuckAnnotations/P2/downsampled/SSD6/20230312/SM_Lek1/P2D3/20230312_SM_Lek1_P2D3_DJI_0286.MP4\n"
     ]
    },
    {
     "name": "stderr",
     "output_type": "stream",
     "text": [
      "/home/vsridhar/.local/lib/python3.10/site-packages/deeplabcut/refine_training_dataset/stitch.py:138: FutureWarning: Unlike other reduction functions (e.g. `skew`, `kurtosis`), the default behavior of `mode` typically preserves the axis it acts along. In SciPy 1.11.0, this behavior will change: the default value of `keepdims` will become False, the `axis` over which the statistic is taken will be eliminated, and the value None will no longer be accepted. Set `keepdims` to True or False to avoid this warning.\n",
      "  return mode(self.data[..., 3], axis=None, nan_policy=\"omit\")[0][0]\n",
      "100%|█████████████████████████████████████████████████████████████████████████████████████| 44/44 [00:00<00:00, 16970.06it/s]\n",
      "/home/vsridhar/.local/lib/python3.10/site-packages/deeplabcut/refine_training_dataset/stitch.py:690: UserWarning: No optimal solution found. Employing black magic...\n",
      "  warnings.warn(\"No optimal solution found. Employing black magic...\")\n",
      "/home/vsridhar/.local/lib/python3.10/site-packages/deeplabcut/refine_training_dataset/stitch.py:763: UserWarning: Only 44 tracks could be reconstructed.\n",
      "  warnings.warn(f\"Only {len(self.paths)} tracks could be reconstructed.\")\n"
     ]
    },
    {
     "name": "stdout",
     "output_type": "stream",
     "text": [
      "Starting to analyze %  /media/vsridhar/T7/Work/Data/BlackbuckAnnotations/P2/downsampled/SSD6/20230312/SM_Lek1/P2D3/20230312_SM_Lek1_P2D3_DJI_0275.MP4\n",
      "Video already analyzed! /home/vsridhar/DATA/DeepLabCut/projects/05_TerritoryDetectionP2-Vivek-2023-07-10/output/SSD6/20230312/SM_Lek1/P2D3/20230312_SM_Lek1_P2D3_DJI_0275DLC_dlcrnetms5_05_TerritoryDetectionP2Jul10shuffle1_50000.h5\n",
      "Using snapshot-50000 for model /home/vsridhar/DATA/DeepLabCut/projects/05_TerritoryDetectionP2-Vivek-2023-07-10/dlc-models/iteration-0/05_TerritoryDetectionP2Jul10-trainset90shuffle1\n",
      "Processing...  /media/vsridhar/T7/Work/Data/BlackbuckAnnotations/P2/downsampled/SSD6/20230312/SM_Lek1/P2D3/20230312_SM_Lek1_P2D3_DJI_0275.MP4\n",
      "Tracklets already computed /home/vsridhar/DATA/DeepLabCut/projects/05_TerritoryDetectionP2-Vivek-2023-07-10/output/SSD6/20230312/SM_Lek1/P2D3/20230312_SM_Lek1_P2D3_DJI_0275DLC_dlcrnetms5_05_TerritoryDetectionP2Jul10shuffle1_50000_el.pickle\n",
      "Set overwrite = True to overwrite.\n",
      "The tracklets were created (i.e., under the hood deeplabcut.convert_detections2tracklets was run). Now you can 'refine_tracklets' in the GUI, or run 'deeplabcut.stitch_tracklets'.\n",
      "Processing...  /media/vsridhar/T7/Work/Data/BlackbuckAnnotations/P2/downsampled/SSD6/20230312/SM_Lek1/P2D3/20230312_SM_Lek1_P2D3_DJI_0275.MP4\n"
     ]
    },
    {
     "name": "stderr",
     "output_type": "stream",
     "text": [
      "/home/vsridhar/.local/lib/python3.10/site-packages/deeplabcut/refine_training_dataset/stitch.py:138: FutureWarning: Unlike other reduction functions (e.g. `skew`, `kurtosis`), the default behavior of `mode` typically preserves the axis it acts along. In SciPy 1.11.0, this behavior will change: the default value of `keepdims` will become False, the `axis` over which the statistic is taken will be eliminated, and the value None will no longer be accepted. Set `keepdims` to True or False to avoid this warning.\n",
      "  return mode(self.data[..., 3], axis=None, nan_policy=\"omit\")[0][0]\n",
      "100%|█████████████████████████████████████████████████████████████████████████████████████| 46/46 [00:00<00:00, 23360.94it/s]\n",
      "/home/vsridhar/.local/lib/python3.10/site-packages/deeplabcut/refine_training_dataset/stitch.py:690: UserWarning: No optimal solution found. Employing black magic...\n",
      "  warnings.warn(\"No optimal solution found. Employing black magic...\")\n",
      "/home/vsridhar/.local/lib/python3.10/site-packages/deeplabcut/refine_training_dataset/stitch.py:763: UserWarning: Only 46 tracks could be reconstructed.\n",
      "  warnings.warn(f\"Only {len(self.paths)} tracks could be reconstructed.\")\n"
     ]
    },
    {
     "name": "stdout",
     "output_type": "stream",
     "text": [
      "Starting to analyze %  /media/vsridhar/T7/Work/Data/BlackbuckAnnotations/P2/downsampled/SSD6/20230312/SM_Lek1/P2D3/20230312_SM_Lek1_P2D3_DJI_0266.MP4\n",
      "Video already analyzed! /home/vsridhar/DATA/DeepLabCut/projects/05_TerritoryDetectionP2-Vivek-2023-07-10/output/SSD6/20230312/SM_Lek1/P2D3/20230312_SM_Lek1_P2D3_DJI_0266DLC_dlcrnetms5_05_TerritoryDetectionP2Jul10shuffle1_50000.h5\n",
      "Using snapshot-50000 for model /home/vsridhar/DATA/DeepLabCut/projects/05_TerritoryDetectionP2-Vivek-2023-07-10/dlc-models/iteration-0/05_TerritoryDetectionP2Jul10-trainset90shuffle1\n",
      "Processing...  /media/vsridhar/T7/Work/Data/BlackbuckAnnotations/P2/downsampled/SSD6/20230312/SM_Lek1/P2D3/20230312_SM_Lek1_P2D3_DJI_0266.MP4\n",
      "Tracklets already computed /home/vsridhar/DATA/DeepLabCut/projects/05_TerritoryDetectionP2-Vivek-2023-07-10/output/SSD6/20230312/SM_Lek1/P2D3/20230312_SM_Lek1_P2D3_DJI_0266DLC_dlcrnetms5_05_TerritoryDetectionP2Jul10shuffle1_50000_el.pickle\n",
      "Set overwrite = True to overwrite.\n",
      "The tracklets were created (i.e., under the hood deeplabcut.convert_detections2tracklets was run). Now you can 'refine_tracklets' in the GUI, or run 'deeplabcut.stitch_tracklets'.\n",
      "Processing...  /media/vsridhar/T7/Work/Data/BlackbuckAnnotations/P2/downsampled/SSD6/20230312/SM_Lek1/P2D3/20230312_SM_Lek1_P2D3_DJI_0266.MP4\n"
     ]
    },
    {
     "name": "stderr",
     "output_type": "stream",
     "text": [
      "/home/vsridhar/.local/lib/python3.10/site-packages/deeplabcut/refine_training_dataset/stitch.py:138: FutureWarning: Unlike other reduction functions (e.g. `skew`, `kurtosis`), the default behavior of `mode` typically preserves the axis it acts along. In SciPy 1.11.0, this behavior will change: the default value of `keepdims` will become False, the `axis` over which the statistic is taken will be eliminated, and the value None will no longer be accepted. Set `keepdims` to True or False to avoid this warning.\n",
      "  return mode(self.data[..., 3], axis=None, nan_policy=\"omit\")[0][0]\n",
      "100%|█████████████████████████████████████████████████████████████████████████████████████| 38/38 [00:00<00:00, 45577.22it/s]\n",
      "/home/vsridhar/.local/lib/python3.10/site-packages/deeplabcut/refine_training_dataset/stitch.py:690: UserWarning: No optimal solution found. Employing black magic...\n",
      "  warnings.warn(\"No optimal solution found. Employing black magic...\")\n",
      "/home/vsridhar/.local/lib/python3.10/site-packages/deeplabcut/refine_training_dataset/stitch.py:763: UserWarning: Only 38 tracks could be reconstructed.\n",
      "  warnings.warn(f\"Only {len(self.paths)} tracks could be reconstructed.\")\n"
     ]
    },
    {
     "name": "stdout",
     "output_type": "stream",
     "text": [
      "Starting to analyze %  /media/vsridhar/T7/Work/Data/BlackbuckAnnotations/P2/downsampled/SSD6/20230312/SM_Lek1/P2D3/20230312_SM_Lek1_P2D3_DJI_0270.MP4\n",
      "Video already analyzed! /home/vsridhar/DATA/DeepLabCut/projects/05_TerritoryDetectionP2-Vivek-2023-07-10/output/SSD6/20230312/SM_Lek1/P2D3/20230312_SM_Lek1_P2D3_DJI_0270DLC_dlcrnetms5_05_TerritoryDetectionP2Jul10shuffle1_50000.h5\n",
      "Using snapshot-50000 for model /home/vsridhar/DATA/DeepLabCut/projects/05_TerritoryDetectionP2-Vivek-2023-07-10/dlc-models/iteration-0/05_TerritoryDetectionP2Jul10-trainset90shuffle1\n",
      "Processing...  /media/vsridhar/T7/Work/Data/BlackbuckAnnotations/P2/downsampled/SSD6/20230312/SM_Lek1/P2D3/20230312_SM_Lek1_P2D3_DJI_0270.MP4\n",
      "Tracklets already computed /home/vsridhar/DATA/DeepLabCut/projects/05_TerritoryDetectionP2-Vivek-2023-07-10/output/SSD6/20230312/SM_Lek1/P2D3/20230312_SM_Lek1_P2D3_DJI_0270DLC_dlcrnetms5_05_TerritoryDetectionP2Jul10shuffle1_50000_el.pickle\n",
      "Set overwrite = True to overwrite.\n",
      "The tracklets were created (i.e., under the hood deeplabcut.convert_detections2tracklets was run). Now you can 'refine_tracklets' in the GUI, or run 'deeplabcut.stitch_tracklets'.\n",
      "Processing...  /media/vsridhar/T7/Work/Data/BlackbuckAnnotations/P2/downsampled/SSD6/20230312/SM_Lek1/P2D3/20230312_SM_Lek1_P2D3_DJI_0270.MP4\n"
     ]
    },
    {
     "name": "stderr",
     "output_type": "stream",
     "text": [
      "/home/vsridhar/.local/lib/python3.10/site-packages/deeplabcut/refine_training_dataset/stitch.py:138: FutureWarning: Unlike other reduction functions (e.g. `skew`, `kurtosis`), the default behavior of `mode` typically preserves the axis it acts along. In SciPy 1.11.0, this behavior will change: the default value of `keepdims` will become False, the `axis` over which the statistic is taken will be eliminated, and the value None will no longer be accepted. Set `keepdims` to True or False to avoid this warning.\n",
      "  return mode(self.data[..., 3], axis=None, nan_policy=\"omit\")[0][0]\n",
      "100%|████████████████████████████████████████████████████████████████████████████████████| 189/189 [00:00<00:00, 1276.84it/s]\n"
     ]
    },
    {
     "name": "stdout",
     "output_type": "stream",
     "text": [
      "Starting to analyze %  /media/vsridhar/T7/Work/Data/BlackbuckAnnotations/P2/downsampled/SSD6/20230312/SM_Lek1/P2D3/20230312_SM_Lek1_P2D3_DJI_0281.MP4\n",
      "Video already analyzed! /home/vsridhar/DATA/DeepLabCut/projects/05_TerritoryDetectionP2-Vivek-2023-07-10/output/SSD6/20230312/SM_Lek1/P2D3/20230312_SM_Lek1_P2D3_DJI_0281DLC_dlcrnetms5_05_TerritoryDetectionP2Jul10shuffle1_50000.h5\n",
      "Using snapshot-50000 for model /home/vsridhar/DATA/DeepLabCut/projects/05_TerritoryDetectionP2-Vivek-2023-07-10/dlc-models/iteration-0/05_TerritoryDetectionP2Jul10-trainset90shuffle1\n",
      "Processing...  /media/vsridhar/T7/Work/Data/BlackbuckAnnotations/P2/downsampled/SSD6/20230312/SM_Lek1/P2D3/20230312_SM_Lek1_P2D3_DJI_0281.MP4\n",
      "Tracklets already computed /home/vsridhar/DATA/DeepLabCut/projects/05_TerritoryDetectionP2-Vivek-2023-07-10/output/SSD6/20230312/SM_Lek1/P2D3/20230312_SM_Lek1_P2D3_DJI_0281DLC_dlcrnetms5_05_TerritoryDetectionP2Jul10shuffle1_50000_el.pickle\n",
      "Set overwrite = True to overwrite.\n",
      "The tracklets were created (i.e., under the hood deeplabcut.convert_detections2tracklets was run). Now you can 'refine_tracklets' in the GUI, or run 'deeplabcut.stitch_tracklets'.\n",
      "Processing...  /media/vsridhar/T7/Work/Data/BlackbuckAnnotations/P2/downsampled/SSD6/20230312/SM_Lek1/P2D3/20230312_SM_Lek1_P2D3_DJI_0281.MP4\n"
     ]
    },
    {
     "name": "stderr",
     "output_type": "stream",
     "text": [
      "/home/vsridhar/.local/lib/python3.10/site-packages/deeplabcut/refine_training_dataset/stitch.py:138: FutureWarning: Unlike other reduction functions (e.g. `skew`, `kurtosis`), the default behavior of `mode` typically preserves the axis it acts along. In SciPy 1.11.0, this behavior will change: the default value of `keepdims` will become False, the `axis` over which the statistic is taken will be eliminated, and the value None will no longer be accepted. Set `keepdims` to True or False to avoid this warning.\n",
      "  return mode(self.data[..., 3], axis=None, nan_policy=\"omit\")[0][0]\n",
      "100%|████████████████████████████████████████████████████████████████████████████████████| 33/33 [00:00<00:00, 153450.15it/s]\n",
      "/home/vsridhar/.local/lib/python3.10/site-packages/deeplabcut/refine_training_dataset/stitch.py:690: UserWarning: No optimal solution found. Employing black magic...\n",
      "  warnings.warn(\"No optimal solution found. Employing black magic...\")\n",
      "/home/vsridhar/.local/lib/python3.10/site-packages/deeplabcut/refine_training_dataset/stitch.py:763: UserWarning: Only 33 tracks could be reconstructed.\n",
      "  warnings.warn(f\"Only {len(self.paths)} tracks could be reconstructed.\")\n"
     ]
    },
    {
     "name": "stdout",
     "output_type": "stream",
     "text": [
      "Starting to analyze %  /media/vsridhar/T7/Work/Data/BlackbuckAnnotations/P2/downsampled/SSD6/20230312/SM_Lek1/P2D3/20230312_SM_Lek1_P2D3_DJI_0279.MP4\n",
      "Video already analyzed! /home/vsridhar/DATA/DeepLabCut/projects/05_TerritoryDetectionP2-Vivek-2023-07-10/output/SSD6/20230312/SM_Lek1/P2D3/20230312_SM_Lek1_P2D3_DJI_0279DLC_dlcrnetms5_05_TerritoryDetectionP2Jul10shuffle1_50000.h5\n",
      "Using snapshot-50000 for model /home/vsridhar/DATA/DeepLabCut/projects/05_TerritoryDetectionP2-Vivek-2023-07-10/dlc-models/iteration-0/05_TerritoryDetectionP2Jul10-trainset90shuffle1\n",
      "Processing...  /media/vsridhar/T7/Work/Data/BlackbuckAnnotations/P2/downsampled/SSD6/20230312/SM_Lek1/P2D3/20230312_SM_Lek1_P2D3_DJI_0279.MP4\n",
      "Tracklets already computed /home/vsridhar/DATA/DeepLabCut/projects/05_TerritoryDetectionP2-Vivek-2023-07-10/output/SSD6/20230312/SM_Lek1/P2D3/20230312_SM_Lek1_P2D3_DJI_0279DLC_dlcrnetms5_05_TerritoryDetectionP2Jul10shuffle1_50000_el.pickle\n",
      "Set overwrite = True to overwrite.\n",
      "The tracklets were created (i.e., under the hood deeplabcut.convert_detections2tracklets was run). Now you can 'refine_tracklets' in the GUI, or run 'deeplabcut.stitch_tracklets'.\n",
      "Processing...  /media/vsridhar/T7/Work/Data/BlackbuckAnnotations/P2/downsampled/SSD6/20230312/SM_Lek1/P2D3/20230312_SM_Lek1_P2D3_DJI_0279.MP4\n"
     ]
    },
    {
     "name": "stderr",
     "output_type": "stream",
     "text": [
      "/home/vsridhar/.local/lib/python3.10/site-packages/deeplabcut/refine_training_dataset/stitch.py:138: FutureWarning: Unlike other reduction functions (e.g. `skew`, `kurtosis`), the default behavior of `mode` typically preserves the axis it acts along. In SciPy 1.11.0, this behavior will change: the default value of `keepdims` will become False, the `axis` over which the statistic is taken will be eliminated, and the value None will no longer be accepted. Set `keepdims` to True or False to avoid this warning.\n",
      "  return mode(self.data[..., 3], axis=None, nan_policy=\"omit\")[0][0]\n",
      "100%|██████████████████████████████████████████████████████████████████████████████████████| 43/43 [00:00<00:00, 7373.17it/s]\n",
      "/home/vsridhar/.local/lib/python3.10/site-packages/deeplabcut/refine_training_dataset/stitch.py:690: UserWarning: No optimal solution found. Employing black magic...\n",
      "  warnings.warn(\"No optimal solution found. Employing black magic...\")\n",
      "/home/vsridhar/.local/lib/python3.10/site-packages/deeplabcut/refine_training_dataset/stitch.py:763: UserWarning: Only 43 tracks could be reconstructed.\n",
      "  warnings.warn(f\"Only {len(self.paths)} tracks could be reconstructed.\")\n"
     ]
    },
    {
     "name": "stdout",
     "output_type": "stream",
     "text": [
      "Starting to analyze %  /media/vsridhar/T7/Work/Data/BlackbuckAnnotations/P2/downsampled/SSD6/20230312/SM_Lek1/P2D3/20230312_SM_Lek1_P2D3_DJI_0288.MP4\n",
      "Video already analyzed! /home/vsridhar/DATA/DeepLabCut/projects/05_TerritoryDetectionP2-Vivek-2023-07-10/output/SSD6/20230312/SM_Lek1/P2D3/20230312_SM_Lek1_P2D3_DJI_0288DLC_dlcrnetms5_05_TerritoryDetectionP2Jul10shuffle1_50000.h5\n",
      "Using snapshot-50000 for model /home/vsridhar/DATA/DeepLabCut/projects/05_TerritoryDetectionP2-Vivek-2023-07-10/dlc-models/iteration-0/05_TerritoryDetectionP2Jul10-trainset90shuffle1\n",
      "Processing...  /media/vsridhar/T7/Work/Data/BlackbuckAnnotations/P2/downsampled/SSD6/20230312/SM_Lek1/P2D3/20230312_SM_Lek1_P2D3_DJI_0288.MP4\n",
      "Tracklets already computed /home/vsridhar/DATA/DeepLabCut/projects/05_TerritoryDetectionP2-Vivek-2023-07-10/output/SSD6/20230312/SM_Lek1/P2D3/20230312_SM_Lek1_P2D3_DJI_0288DLC_dlcrnetms5_05_TerritoryDetectionP2Jul10shuffle1_50000_el.pickle\n",
      "Set overwrite = True to overwrite.\n",
      "The tracklets were created (i.e., under the hood deeplabcut.convert_detections2tracklets was run). Now you can 'refine_tracklets' in the GUI, or run 'deeplabcut.stitch_tracklets'.\n",
      "Processing...  /media/vsridhar/T7/Work/Data/BlackbuckAnnotations/P2/downsampled/SSD6/20230312/SM_Lek1/P2D3/20230312_SM_Lek1_P2D3_DJI_0288.MP4\n"
     ]
    },
    {
     "name": "stderr",
     "output_type": "stream",
     "text": [
      "/home/vsridhar/.local/lib/python3.10/site-packages/deeplabcut/refine_training_dataset/stitch.py:138: FutureWarning: Unlike other reduction functions (e.g. `skew`, `kurtosis`), the default behavior of `mode` typically preserves the axis it acts along. In SciPy 1.11.0, this behavior will change: the default value of `keepdims` will become False, the `axis` over which the statistic is taken will be eliminated, and the value None will no longer be accepted. Set `keepdims` to True or False to avoid this warning.\n",
      "  return mode(self.data[..., 3], axis=None, nan_policy=\"omit\")[0][0]\n",
      "100%|█████████████████████████████████████████████████████████████████████████████████████| 44/44 [00:00<00:00, 11243.41it/s]\n",
      "/home/vsridhar/.local/lib/python3.10/site-packages/deeplabcut/refine_training_dataset/stitch.py:690: UserWarning: No optimal solution found. Employing black magic...\n",
      "  warnings.warn(\"No optimal solution found. Employing black magic...\")\n",
      "/home/vsridhar/.local/lib/python3.10/site-packages/deeplabcut/refine_training_dataset/stitch.py:763: UserWarning: Only 44 tracks could be reconstructed.\n",
      "  warnings.warn(f\"Only {len(self.paths)} tracks could be reconstructed.\")\n"
     ]
    },
    {
     "name": "stdout",
     "output_type": "stream",
     "text": [
      "Starting to analyze %  /media/vsridhar/T7/Work/Data/BlackbuckAnnotations/P2/downsampled/SSD6/20230312/SM_Lek1/P2D3/20230312_SM_Lek1_P2D3_DJI_0273.MP4\n",
      "Video already analyzed! /home/vsridhar/DATA/DeepLabCut/projects/05_TerritoryDetectionP2-Vivek-2023-07-10/output/SSD6/20230312/SM_Lek1/P2D3/20230312_SM_Lek1_P2D3_DJI_0273DLC_dlcrnetms5_05_TerritoryDetectionP2Jul10shuffle1_50000.h5\n",
      "Using snapshot-50000 for model /home/vsridhar/DATA/DeepLabCut/projects/05_TerritoryDetectionP2-Vivek-2023-07-10/dlc-models/iteration-0/05_TerritoryDetectionP2Jul10-trainset90shuffle1\n",
      "Processing...  /media/vsridhar/T7/Work/Data/BlackbuckAnnotations/P2/downsampled/SSD6/20230312/SM_Lek1/P2D3/20230312_SM_Lek1_P2D3_DJI_0273.MP4\n",
      "Tracklets already computed /home/vsridhar/DATA/DeepLabCut/projects/05_TerritoryDetectionP2-Vivek-2023-07-10/output/SSD6/20230312/SM_Lek1/P2D3/20230312_SM_Lek1_P2D3_DJI_0273DLC_dlcrnetms5_05_TerritoryDetectionP2Jul10shuffle1_50000_el.pickle\n",
      "Set overwrite = True to overwrite.\n",
      "The tracklets were created (i.e., under the hood deeplabcut.convert_detections2tracklets was run). Now you can 'refine_tracklets' in the GUI, or run 'deeplabcut.stitch_tracklets'.\n",
      "Processing...  /media/vsridhar/T7/Work/Data/BlackbuckAnnotations/P2/downsampled/SSD6/20230312/SM_Lek1/P2D3/20230312_SM_Lek1_P2D3_DJI_0273.MP4\n"
     ]
    },
    {
     "name": "stderr",
     "output_type": "stream",
     "text": [
      "/home/vsridhar/.local/lib/python3.10/site-packages/deeplabcut/refine_training_dataset/stitch.py:138: FutureWarning: Unlike other reduction functions (e.g. `skew`, `kurtosis`), the default behavior of `mode` typically preserves the axis it acts along. In SciPy 1.11.0, this behavior will change: the default value of `keepdims` will become False, the `axis` over which the statistic is taken will be eliminated, and the value None will no longer be accepted. Set `keepdims` to True or False to avoid this warning.\n",
      "  return mode(self.data[..., 3], axis=None, nan_policy=\"omit\")[0][0]\n",
      "100%|██████████████████████████████████████████████████████████████████████████████████████| 71/71 [00:00<00:00, 4036.21it/s]\n"
     ]
    },
    {
     "name": "stdout",
     "output_type": "stream",
     "text": [
      "Starting to analyze %  /media/vsridhar/T7/Work/Data/BlackbuckAnnotations/P2/downsampled/SSD6/20230312/SM_Lek1/P2D3/20230312_SM_Lek1_P2D3_DJI_0271.MP4\n",
      "Video already analyzed! /home/vsridhar/DATA/DeepLabCut/projects/05_TerritoryDetectionP2-Vivek-2023-07-10/output/SSD6/20230312/SM_Lek1/P2D3/20230312_SM_Lek1_P2D3_DJI_0271DLC_dlcrnetms5_05_TerritoryDetectionP2Jul10shuffle1_50000.h5\n",
      "Using snapshot-50000 for model /home/vsridhar/DATA/DeepLabCut/projects/05_TerritoryDetectionP2-Vivek-2023-07-10/dlc-models/iteration-0/05_TerritoryDetectionP2Jul10-trainset90shuffle1\n",
      "Processing...  /media/vsridhar/T7/Work/Data/BlackbuckAnnotations/P2/downsampled/SSD6/20230312/SM_Lek1/P2D3/20230312_SM_Lek1_P2D3_DJI_0271.MP4\n",
      "Tracklets already computed /home/vsridhar/DATA/DeepLabCut/projects/05_TerritoryDetectionP2-Vivek-2023-07-10/output/SSD6/20230312/SM_Lek1/P2D3/20230312_SM_Lek1_P2D3_DJI_0271DLC_dlcrnetms5_05_TerritoryDetectionP2Jul10shuffle1_50000_el.pickle\n",
      "Set overwrite = True to overwrite.\n",
      "The tracklets were created (i.e., under the hood deeplabcut.convert_detections2tracklets was run). Now you can 'refine_tracklets' in the GUI, or run 'deeplabcut.stitch_tracklets'.\n",
      "Processing...  /media/vsridhar/T7/Work/Data/BlackbuckAnnotations/P2/downsampled/SSD6/20230312/SM_Lek1/P2D3/20230312_SM_Lek1_P2D3_DJI_0271.MP4\n"
     ]
    },
    {
     "name": "stderr",
     "output_type": "stream",
     "text": [
      "/home/vsridhar/.local/lib/python3.10/site-packages/deeplabcut/refine_training_dataset/stitch.py:138: FutureWarning: Unlike other reduction functions (e.g. `skew`, `kurtosis`), the default behavior of `mode` typically preserves the axis it acts along. In SciPy 1.11.0, this behavior will change: the default value of `keepdims` will become False, the `axis` over which the statistic is taken will be eliminated, and the value None will no longer be accepted. Set `keepdims` to True or False to avoid this warning.\n",
      "  return mode(self.data[..., 3], axis=None, nan_policy=\"omit\")[0][0]\n",
      "100%|████████████████████████████████████████████████████████████████████████████████████| 138/138 [00:00<00:00, 3299.40it/s]\n"
     ]
    },
    {
     "name": "stdout",
     "output_type": "stream",
     "text": [
      "Starting to analyze %  /media/vsridhar/T7/Work/Data/BlackbuckAnnotations/P2/downsampled/SSD6/20230312/SM_Lek1/P2D3/20230312_SM_Lek1_P2D3_DJI_0284.MP4\n",
      "Video already analyzed! /home/vsridhar/DATA/DeepLabCut/projects/05_TerritoryDetectionP2-Vivek-2023-07-10/output/SSD6/20230312/SM_Lek1/P2D3/20230312_SM_Lek1_P2D3_DJI_0284DLC_dlcrnetms5_05_TerritoryDetectionP2Jul10shuffle1_50000.h5\n",
      "Using snapshot-50000 for model /home/vsridhar/DATA/DeepLabCut/projects/05_TerritoryDetectionP2-Vivek-2023-07-10/dlc-models/iteration-0/05_TerritoryDetectionP2Jul10-trainset90shuffle1\n",
      "Processing...  /media/vsridhar/T7/Work/Data/BlackbuckAnnotations/P2/downsampled/SSD6/20230312/SM_Lek1/P2D3/20230312_SM_Lek1_P2D3_DJI_0284.MP4\n",
      "Tracklets already computed /home/vsridhar/DATA/DeepLabCut/projects/05_TerritoryDetectionP2-Vivek-2023-07-10/output/SSD6/20230312/SM_Lek1/P2D3/20230312_SM_Lek1_P2D3_DJI_0284DLC_dlcrnetms5_05_TerritoryDetectionP2Jul10shuffle1_50000_el.pickle\n",
      "Set overwrite = True to overwrite.\n",
      "The tracklets were created (i.e., under the hood deeplabcut.convert_detections2tracklets was run). Now you can 'refine_tracklets' in the GUI, or run 'deeplabcut.stitch_tracklets'.\n",
      "Processing...  /media/vsridhar/T7/Work/Data/BlackbuckAnnotations/P2/downsampled/SSD6/20230312/SM_Lek1/P2D3/20230312_SM_Lek1_P2D3_DJI_0284.MP4\n"
     ]
    },
    {
     "name": "stderr",
     "output_type": "stream",
     "text": [
      "/home/vsridhar/.local/lib/python3.10/site-packages/deeplabcut/refine_training_dataset/stitch.py:138: FutureWarning: Unlike other reduction functions (e.g. `skew`, `kurtosis`), the default behavior of `mode` typically preserves the axis it acts along. In SciPy 1.11.0, this behavior will change: the default value of `keepdims` will become False, the `axis` over which the statistic is taken will be eliminated, and the value None will no longer be accepted. Set `keepdims` to True or False to avoid this warning.\n",
      "  return mode(self.data[..., 3], axis=None, nan_policy=\"omit\")[0][0]\n",
      "100%|██████████████████████████████████████████████████████████████████████████████████████| 81/81 [00:00<00:00, 2326.75it/s]\n"
     ]
    },
    {
     "name": "stdout",
     "output_type": "stream",
     "text": [
      "Starting to analyze %  /media/vsridhar/T7/Work/Data/BlackbuckAnnotations/P2/downsampled/SSD6/20230312/SM_Lek1/P2D3/20230312_SM_Lek1_P2D3_DJI_0282.MP4\n",
      "Video already analyzed! /home/vsridhar/DATA/DeepLabCut/projects/05_TerritoryDetectionP2-Vivek-2023-07-10/output/SSD6/20230312/SM_Lek1/P2D3/20230312_SM_Lek1_P2D3_DJI_0282DLC_dlcrnetms5_05_TerritoryDetectionP2Jul10shuffle1_50000.h5\n",
      "Using snapshot-50000 for model /home/vsridhar/DATA/DeepLabCut/projects/05_TerritoryDetectionP2-Vivek-2023-07-10/dlc-models/iteration-0/05_TerritoryDetectionP2Jul10-trainset90shuffle1\n",
      "Processing...  /media/vsridhar/T7/Work/Data/BlackbuckAnnotations/P2/downsampled/SSD6/20230312/SM_Lek1/P2D3/20230312_SM_Lek1_P2D3_DJI_0282.MP4\n",
      "Tracklets already computed /home/vsridhar/DATA/DeepLabCut/projects/05_TerritoryDetectionP2-Vivek-2023-07-10/output/SSD6/20230312/SM_Lek1/P2D3/20230312_SM_Lek1_P2D3_DJI_0282DLC_dlcrnetms5_05_TerritoryDetectionP2Jul10shuffle1_50000_el.pickle\n",
      "Set overwrite = True to overwrite.\n",
      "The tracklets were created (i.e., under the hood deeplabcut.convert_detections2tracklets was run). Now you can 'refine_tracklets' in the GUI, or run 'deeplabcut.stitch_tracklets'.\n",
      "Processing...  /media/vsridhar/T7/Work/Data/BlackbuckAnnotations/P2/downsampled/SSD6/20230312/SM_Lek1/P2D3/20230312_SM_Lek1_P2D3_DJI_0282.MP4\n"
     ]
    },
    {
     "name": "stderr",
     "output_type": "stream",
     "text": [
      "/home/vsridhar/.local/lib/python3.10/site-packages/deeplabcut/refine_training_dataset/stitch.py:138: FutureWarning: Unlike other reduction functions (e.g. `skew`, `kurtosis`), the default behavior of `mode` typically preserves the axis it acts along. In SciPy 1.11.0, this behavior will change: the default value of `keepdims` will become False, the `axis` over which the statistic is taken will be eliminated, and the value None will no longer be accepted. Set `keepdims` to True or False to avoid this warning.\n",
      "  return mode(self.data[..., 3], axis=None, nan_policy=\"omit\")[0][0]\n",
      "100%|████████████████████████████████████████████████████████████████████████████████████| 34/34 [00:00<00:00, 175192.06it/s]\n",
      "/home/vsridhar/.local/lib/python3.10/site-packages/deeplabcut/refine_training_dataset/stitch.py:690: UserWarning: No optimal solution found. Employing black magic...\n",
      "  warnings.warn(\"No optimal solution found. Employing black magic...\")\n",
      "/home/vsridhar/.local/lib/python3.10/site-packages/deeplabcut/refine_training_dataset/stitch.py:763: UserWarning: Only 34 tracks could be reconstructed.\n",
      "  warnings.warn(f\"Only {len(self.paths)} tracks could be reconstructed.\")\n"
     ]
    },
    {
     "name": "stdout",
     "output_type": "stream",
     "text": [
      "Starting to analyze %  /media/vsridhar/T7/Work/Data/BlackbuckAnnotations/P2/downsampled/SSD6/20230312/SM_Lek1/P2D3/20230312_SM_Lek1_P2D3_DJI_0274.MP4\n",
      "Video already analyzed! /home/vsridhar/DATA/DeepLabCut/projects/05_TerritoryDetectionP2-Vivek-2023-07-10/output/SSD6/20230312/SM_Lek1/P2D3/20230312_SM_Lek1_P2D3_DJI_0274DLC_dlcrnetms5_05_TerritoryDetectionP2Jul10shuffle1_50000.h5\n",
      "Using snapshot-50000 for model /home/vsridhar/DATA/DeepLabCut/projects/05_TerritoryDetectionP2-Vivek-2023-07-10/dlc-models/iteration-0/05_TerritoryDetectionP2Jul10-trainset90shuffle1\n",
      "Processing...  /media/vsridhar/T7/Work/Data/BlackbuckAnnotations/P2/downsampled/SSD6/20230312/SM_Lek1/P2D3/20230312_SM_Lek1_P2D3_DJI_0274.MP4\n",
      "Tracklets already computed /home/vsridhar/DATA/DeepLabCut/projects/05_TerritoryDetectionP2-Vivek-2023-07-10/output/SSD6/20230312/SM_Lek1/P2D3/20230312_SM_Lek1_P2D3_DJI_0274DLC_dlcrnetms5_05_TerritoryDetectionP2Jul10shuffle1_50000_el.pickle\n",
      "Set overwrite = True to overwrite.\n",
      "The tracklets were created (i.e., under the hood deeplabcut.convert_detections2tracklets was run). Now you can 'refine_tracklets' in the GUI, or run 'deeplabcut.stitch_tracklets'.\n",
      "Processing...  /media/vsridhar/T7/Work/Data/BlackbuckAnnotations/P2/downsampled/SSD6/20230312/SM_Lek1/P2D3/20230312_SM_Lek1_P2D3_DJI_0274.MP4\n"
     ]
    },
    {
     "name": "stderr",
     "output_type": "stream",
     "text": [
      "/home/vsridhar/.local/lib/python3.10/site-packages/deeplabcut/refine_training_dataset/stitch.py:138: FutureWarning: Unlike other reduction functions (e.g. `skew`, `kurtosis`), the default behavior of `mode` typically preserves the axis it acts along. In SciPy 1.11.0, this behavior will change: the default value of `keepdims` will become False, the `axis` over which the statistic is taken will be eliminated, and the value None will no longer be accepted. Set `keepdims` to True or False to avoid this warning.\n",
      "  return mode(self.data[..., 3], axis=None, nan_policy=\"omit\")[0][0]\n",
      "100%|█████████████████████████████████████████████████████████████████████████████████████| 48/48 [00:00<00:00, 15979.57it/s]\n",
      "/home/vsridhar/.local/lib/python3.10/site-packages/deeplabcut/refine_training_dataset/stitch.py:690: UserWarning: No optimal solution found. Employing black magic...\n",
      "  warnings.warn(\"No optimal solution found. Employing black magic...\")\n",
      "/home/vsridhar/.local/lib/python3.10/site-packages/deeplabcut/refine_training_dataset/stitch.py:763: UserWarning: Only 48 tracks could be reconstructed.\n",
      "  warnings.warn(f\"Only {len(self.paths)} tracks could be reconstructed.\")\n"
     ]
    },
    {
     "name": "stdout",
     "output_type": "stream",
     "text": [
      "Starting to analyze %  /media/vsridhar/T7/Work/Data/BlackbuckAnnotations/P2/downsampled/SSD6/20230312/SM_Lek1/P2D3/20230312_SM_Lek1_P2D3_DJI_0263.MP4\n",
      "Video already analyzed! /home/vsridhar/DATA/DeepLabCut/projects/05_TerritoryDetectionP2-Vivek-2023-07-10/output/SSD6/20230312/SM_Lek1/P2D3/20230312_SM_Lek1_P2D3_DJI_0263DLC_dlcrnetms5_05_TerritoryDetectionP2Jul10shuffle1_50000.h5\n",
      "Using snapshot-50000 for model /home/vsridhar/DATA/DeepLabCut/projects/05_TerritoryDetectionP2-Vivek-2023-07-10/dlc-models/iteration-0/05_TerritoryDetectionP2Jul10-trainset90shuffle1\n",
      "Processing...  /media/vsridhar/T7/Work/Data/BlackbuckAnnotations/P2/downsampled/SSD6/20230312/SM_Lek1/P2D3/20230312_SM_Lek1_P2D3_DJI_0263.MP4\n",
      "Tracklets already computed /home/vsridhar/DATA/DeepLabCut/projects/05_TerritoryDetectionP2-Vivek-2023-07-10/output/SSD6/20230312/SM_Lek1/P2D3/20230312_SM_Lek1_P2D3_DJI_0263DLC_dlcrnetms5_05_TerritoryDetectionP2Jul10shuffle1_50000_el.pickle\n",
      "Set overwrite = True to overwrite.\n",
      "The tracklets were created (i.e., under the hood deeplabcut.convert_detections2tracklets was run). Now you can 'refine_tracklets' in the GUI, or run 'deeplabcut.stitch_tracklets'.\n",
      "Processing...  /media/vsridhar/T7/Work/Data/BlackbuckAnnotations/P2/downsampled/SSD6/20230312/SM_Lek1/P2D3/20230312_SM_Lek1_P2D3_DJI_0263.MP4\n"
     ]
    },
    {
     "name": "stderr",
     "output_type": "stream",
     "text": [
      "/home/vsridhar/.local/lib/python3.10/site-packages/deeplabcut/refine_training_dataset/stitch.py:138: FutureWarning: Unlike other reduction functions (e.g. `skew`, `kurtosis`), the default behavior of `mode` typically preserves the axis it acts along. In SciPy 1.11.0, this behavior will change: the default value of `keepdims` will become False, the `axis` over which the statistic is taken will be eliminated, and the value None will no longer be accepted. Set `keepdims` to True or False to avoid this warning.\n",
      "  return mode(self.data[..., 3], axis=None, nan_policy=\"omit\")[0][0]\n",
      "100%|██████████████████████████████████████████████████████████████████████████████████████| 48/48 [00:00<00:00, 6603.25it/s]\n",
      "/home/vsridhar/.local/lib/python3.10/site-packages/deeplabcut/refine_training_dataset/stitch.py:690: UserWarning: No optimal solution found. Employing black magic...\n",
      "  warnings.warn(\"No optimal solution found. Employing black magic...\")\n",
      "/home/vsridhar/.local/lib/python3.10/site-packages/deeplabcut/refine_training_dataset/stitch.py:763: UserWarning: Only 48 tracks could be reconstructed.\n",
      "  warnings.warn(f\"Only {len(self.paths)} tracks could be reconstructed.\")\n"
     ]
    },
    {
     "name": "stdout",
     "output_type": "stream",
     "text": [
      "Starting to analyze %  /media/vsridhar/T7/Work/Data/BlackbuckAnnotations/P2/downsampled/SSD6/20230312/SM_Lek1/P2D3/20230312_SM_Lek1_P2D3_DJI_0280.MP4\n",
      "Video already analyzed! /home/vsridhar/DATA/DeepLabCut/projects/05_TerritoryDetectionP2-Vivek-2023-07-10/output/SSD6/20230312/SM_Lek1/P2D3/20230312_SM_Lek1_P2D3_DJI_0280DLC_dlcrnetms5_05_TerritoryDetectionP2Jul10shuffle1_50000.h5\n",
      "Using snapshot-50000 for model /home/vsridhar/DATA/DeepLabCut/projects/05_TerritoryDetectionP2-Vivek-2023-07-10/dlc-models/iteration-0/05_TerritoryDetectionP2Jul10-trainset90shuffle1\n",
      "Processing...  /media/vsridhar/T7/Work/Data/BlackbuckAnnotations/P2/downsampled/SSD6/20230312/SM_Lek1/P2D3/20230312_SM_Lek1_P2D3_DJI_0280.MP4\n",
      "Tracklets already computed /home/vsridhar/DATA/DeepLabCut/projects/05_TerritoryDetectionP2-Vivek-2023-07-10/output/SSD6/20230312/SM_Lek1/P2D3/20230312_SM_Lek1_P2D3_DJI_0280DLC_dlcrnetms5_05_TerritoryDetectionP2Jul10shuffle1_50000_el.pickle\n",
      "Set overwrite = True to overwrite.\n",
      "The tracklets were created (i.e., under the hood deeplabcut.convert_detections2tracklets was run). Now you can 'refine_tracklets' in the GUI, or run 'deeplabcut.stitch_tracklets'.\n",
      "Processing...  /media/vsridhar/T7/Work/Data/BlackbuckAnnotations/P2/downsampled/SSD6/20230312/SM_Lek1/P2D3/20230312_SM_Lek1_P2D3_DJI_0280.MP4\n"
     ]
    },
    {
     "name": "stderr",
     "output_type": "stream",
     "text": [
      "/home/vsridhar/.local/lib/python3.10/site-packages/deeplabcut/refine_training_dataset/stitch.py:138: FutureWarning: Unlike other reduction functions (e.g. `skew`, `kurtosis`), the default behavior of `mode` typically preserves the axis it acts along. In SciPy 1.11.0, this behavior will change: the default value of `keepdims` will become False, the `axis` over which the statistic is taken will be eliminated, and the value None will no longer be accepted. Set `keepdims` to True or False to avoid this warning.\n",
      "  return mode(self.data[..., 3], axis=None, nan_policy=\"omit\")[0][0]\n",
      "100%|██████████████████████████████████████████████████████████████████████████████████████| 44/44 [00:00<00:00, 4534.49it/s]\n",
      "/home/vsridhar/.local/lib/python3.10/site-packages/deeplabcut/refine_training_dataset/stitch.py:690: UserWarning: No optimal solution found. Employing black magic...\n",
      "  warnings.warn(\"No optimal solution found. Employing black magic...\")\n",
      "/home/vsridhar/.local/lib/python3.10/site-packages/deeplabcut/refine_training_dataset/stitch.py:763: UserWarning: Only 44 tracks could be reconstructed.\n",
      "  warnings.warn(f\"Only {len(self.paths)} tracks could be reconstructed.\")\n",
      "/home/vsridhar/.local/lib/python3.10/site-packages/tensorflow/python/keras/engine/base_layer_v1.py:1694: UserWarning: `layer.apply` is deprecated and will be removed in a future version. Please use `layer.__call__` method instead.\n",
      "  warnings.warn('`layer.apply` is deprecated and '\n",
      "/home/vsridhar/.local/lib/python3.10/site-packages/tf_slim/layers/layers.py:684: UserWarning: `layer.apply` is deprecated and will be removed in a future version. Please use `layer.__call__` method instead.\n",
      "  outputs = layer.apply(inputs, training=is_training)\n"
     ]
    },
    {
     "name": "stdout",
     "output_type": "stream",
     "text": [
      "The videos are analyzed. Time to assemble animals and track 'em... \n",
      " Call 'create_video_with_all_detections' to check multi-animal detection quality before tracking.\n",
      "If the tracking is not satisfactory for some videos, consider expanding the training set. You can use the function 'extract_outlier_frames' to extract a few representative outlier frames.\n",
      "Using snapshot-50000 for model /home/vsridhar/DATA/DeepLabCut/projects/05_TerritoryDetectionP2-Vivek-2023-07-10/dlc-models/iteration-0/05_TerritoryDetectionP2Jul10-trainset90shuffle1\n",
      "Activating extracting of PAFs\n",
      "Analyzing all the videos in the directory...\n",
      "Starting to analyze %  /media/vsridhar/T7/Work/Data/BlackbuckAnnotations/P2/downsampled/SSD6/20230312/SM_Lek1/P2D4/20230312_SM_Lek1_P2D4_DJI_0907.MP4\n",
      "Video already analyzed! /home/vsridhar/DATA/DeepLabCut/projects/05_TerritoryDetectionP2-Vivek-2023-07-10/output/SSD6/20230312/SM_Lek1/P2D4/20230312_SM_Lek1_P2D4_DJI_0907DLC_dlcrnetms5_05_TerritoryDetectionP2Jul10shuffle1_50000.h5\n",
      "Using snapshot-50000 for model /home/vsridhar/DATA/DeepLabCut/projects/05_TerritoryDetectionP2-Vivek-2023-07-10/dlc-models/iteration-0/05_TerritoryDetectionP2Jul10-trainset90shuffle1\n",
      "Processing...  /media/vsridhar/T7/Work/Data/BlackbuckAnnotations/P2/downsampled/SSD6/20230312/SM_Lek1/P2D4/20230312_SM_Lek1_P2D4_DJI_0907.MP4\n",
      "Tracklets already computed /home/vsridhar/DATA/DeepLabCut/projects/05_TerritoryDetectionP2-Vivek-2023-07-10/output/SSD6/20230312/SM_Lek1/P2D4/20230312_SM_Lek1_P2D4_DJI_0907DLC_dlcrnetms5_05_TerritoryDetectionP2Jul10shuffle1_50000_el.pickle\n",
      "Set overwrite = True to overwrite.\n",
      "The tracklets were created (i.e., under the hood deeplabcut.convert_detections2tracklets was run). Now you can 'refine_tracklets' in the GUI, or run 'deeplabcut.stitch_tracklets'.\n",
      "Processing...  /media/vsridhar/T7/Work/Data/BlackbuckAnnotations/P2/downsampled/SSD6/20230312/SM_Lek1/P2D4/20230312_SM_Lek1_P2D4_DJI_0907.MP4\n"
     ]
    },
    {
     "name": "stderr",
     "output_type": "stream",
     "text": [
      "/home/vsridhar/.local/lib/python3.10/site-packages/deeplabcut/refine_training_dataset/stitch.py:138: FutureWarning: Unlike other reduction functions (e.g. `skew`, `kurtosis`), the default behavior of `mode` typically preserves the axis it acts along. In SciPy 1.11.0, this behavior will change: the default value of `keepdims` will become False, the `axis` over which the statistic is taken will be eliminated, and the value None will no longer be accepted. Set `keepdims` to True or False to avoid this warning.\n",
      "  return mode(self.data[..., 3], axis=None, nan_policy=\"omit\")[0][0]\n",
      "100%|█████████████████████████████████████████████████████████████████████████████████████| 37/37 [00:00<00:00, 13603.55it/s]\n",
      "/home/vsridhar/.local/lib/python3.10/site-packages/deeplabcut/refine_training_dataset/stitch.py:690: UserWarning: No optimal solution found. Employing black magic...\n",
      "  warnings.warn(\"No optimal solution found. Employing black magic...\")\n",
      "/home/vsridhar/.local/lib/python3.10/site-packages/deeplabcut/refine_training_dataset/stitch.py:763: UserWarning: Only 37 tracks could be reconstructed.\n",
      "  warnings.warn(f\"Only {len(self.paths)} tracks could be reconstructed.\")\n"
     ]
    },
    {
     "name": "stdout",
     "output_type": "stream",
     "text": [
      "Starting to analyze %  /media/vsridhar/T7/Work/Data/BlackbuckAnnotations/P2/downsampled/SSD6/20230312/SM_Lek1/P2D4/20230312_SM_Lek1_P2D4_DJI_0906.MP4\n",
      "Video already analyzed! /home/vsridhar/DATA/DeepLabCut/projects/05_TerritoryDetectionP2-Vivek-2023-07-10/output/SSD6/20230312/SM_Lek1/P2D4/20230312_SM_Lek1_P2D4_DJI_0906DLC_dlcrnetms5_05_TerritoryDetectionP2Jul10shuffle1_50000.h5\n",
      "Using snapshot-50000 for model /home/vsridhar/DATA/DeepLabCut/projects/05_TerritoryDetectionP2-Vivek-2023-07-10/dlc-models/iteration-0/05_TerritoryDetectionP2Jul10-trainset90shuffle1\n",
      "Processing...  /media/vsridhar/T7/Work/Data/BlackbuckAnnotations/P2/downsampled/SSD6/20230312/SM_Lek1/P2D4/20230312_SM_Lek1_P2D4_DJI_0906.MP4\n",
      "Tracklets already computed /home/vsridhar/DATA/DeepLabCut/projects/05_TerritoryDetectionP2-Vivek-2023-07-10/output/SSD6/20230312/SM_Lek1/P2D4/20230312_SM_Lek1_P2D4_DJI_0906DLC_dlcrnetms5_05_TerritoryDetectionP2Jul10shuffle1_50000_el.pickle\n",
      "Set overwrite = True to overwrite.\n",
      "The tracklets were created (i.e., under the hood deeplabcut.convert_detections2tracklets was run). Now you can 'refine_tracklets' in the GUI, or run 'deeplabcut.stitch_tracklets'.\n",
      "Processing...  /media/vsridhar/T7/Work/Data/BlackbuckAnnotations/P2/downsampled/SSD6/20230312/SM_Lek1/P2D4/20230312_SM_Lek1_P2D4_DJI_0906.MP4\n"
     ]
    },
    {
     "name": "stderr",
     "output_type": "stream",
     "text": [
      "/home/vsridhar/.local/lib/python3.10/site-packages/deeplabcut/refine_training_dataset/stitch.py:138: FutureWarning: Unlike other reduction functions (e.g. `skew`, `kurtosis`), the default behavior of `mode` typically preserves the axis it acts along. In SciPy 1.11.0, this behavior will change: the default value of `keepdims` will become False, the `axis` over which the statistic is taken will be eliminated, and the value None will no longer be accepted. Set `keepdims` to True or False to avoid this warning.\n",
      "  return mode(self.data[..., 3], axis=None, nan_policy=\"omit\")[0][0]\n",
      "100%|██████████████████████████████████████████████████████████████████████████████████████| 71/71 [00:00<00:00, 4452.62it/s]\n"
     ]
    },
    {
     "name": "stdout",
     "output_type": "stream",
     "text": [
      "Starting to analyze %  /media/vsridhar/T7/Work/Data/BlackbuckAnnotations/P2/downsampled/SSD6/20230312/SM_Lek1/P2D4/20230312_SM_Lek1_P2D4_DJI_0904.MP4\n",
      "Video already analyzed! /home/vsridhar/DATA/DeepLabCut/projects/05_TerritoryDetectionP2-Vivek-2023-07-10/output/SSD6/20230312/SM_Lek1/P2D4/20230312_SM_Lek1_P2D4_DJI_0904DLC_dlcrnetms5_05_TerritoryDetectionP2Jul10shuffle1_50000.h5\n",
      "Using snapshot-50000 for model /home/vsridhar/DATA/DeepLabCut/projects/05_TerritoryDetectionP2-Vivek-2023-07-10/dlc-models/iteration-0/05_TerritoryDetectionP2Jul10-trainset90shuffle1\n",
      "Processing...  /media/vsridhar/T7/Work/Data/BlackbuckAnnotations/P2/downsampled/SSD6/20230312/SM_Lek1/P2D4/20230312_SM_Lek1_P2D4_DJI_0904.MP4\n",
      "Tracklets already computed /home/vsridhar/DATA/DeepLabCut/projects/05_TerritoryDetectionP2-Vivek-2023-07-10/output/SSD6/20230312/SM_Lek1/P2D4/20230312_SM_Lek1_P2D4_DJI_0904DLC_dlcrnetms5_05_TerritoryDetectionP2Jul10shuffle1_50000_el.pickle\n",
      "Set overwrite = True to overwrite.\n",
      "The tracklets were created (i.e., under the hood deeplabcut.convert_detections2tracklets was run). Now you can 'refine_tracklets' in the GUI, or run 'deeplabcut.stitch_tracklets'.\n",
      "Processing...  /media/vsridhar/T7/Work/Data/BlackbuckAnnotations/P2/downsampled/SSD6/20230312/SM_Lek1/P2D4/20230312_SM_Lek1_P2D4_DJI_0904.MP4\n"
     ]
    },
    {
     "name": "stderr",
     "output_type": "stream",
     "text": [
      "/home/vsridhar/.local/lib/python3.10/site-packages/deeplabcut/refine_training_dataset/stitch.py:138: FutureWarning: Unlike other reduction functions (e.g. `skew`, `kurtosis`), the default behavior of `mode` typically preserves the axis it acts along. In SciPy 1.11.0, this behavior will change: the default value of `keepdims` will become False, the `axis` over which the statistic is taken will be eliminated, and the value None will no longer be accepted. Set `keepdims` to True or False to avoid this warning.\n",
      "  return mode(self.data[..., 3], axis=None, nan_policy=\"omit\")[0][0]\n",
      "100%|██████████████████████████████████████████████████████████████████████████████████████| 78/78 [00:00<00:00, 4417.86it/s]\n",
      "/home/vsridhar/.local/lib/python3.10/site-packages/deeplabcut/refine_training_dataset/stitch.py:138: FutureWarning: Unlike other reduction functions (e.g. `skew`, `kurtosis`), the default behavior of `mode` typically preserves the axis it acts along. In SciPy 1.11.0, this behavior will change: the default value of `keepdims` will become False, the `axis` over which the statistic is taken will be eliminated, and the value None will no longer be accepted. Set `keepdims` to True or False to avoid this warning.\n",
      "  return mode(self.data[..., 3], axis=None, nan_policy=\"omit\")[0][0]\n"
     ]
    },
    {
     "name": "stdout",
     "output_type": "stream",
     "text": [
      "Starting to analyze %  /media/vsridhar/T7/Work/Data/BlackbuckAnnotations/P2/downsampled/SSD6/20230312/SM_Lek1/P2D4/20230312_SM_Lek1_P2D4_DJI_0905.MP4\n",
      "Video already analyzed! /home/vsridhar/DATA/DeepLabCut/projects/05_TerritoryDetectionP2-Vivek-2023-07-10/output/SSD6/20230312/SM_Lek1/P2D4/20230312_SM_Lek1_P2D4_DJI_0905DLC_dlcrnetms5_05_TerritoryDetectionP2Jul10shuffle1_50000.h5\n",
      "Using snapshot-50000 for model /home/vsridhar/DATA/DeepLabCut/projects/05_TerritoryDetectionP2-Vivek-2023-07-10/dlc-models/iteration-0/05_TerritoryDetectionP2Jul10-trainset90shuffle1\n",
      "Processing...  /media/vsridhar/T7/Work/Data/BlackbuckAnnotations/P2/downsampled/SSD6/20230312/SM_Lek1/P2D4/20230312_SM_Lek1_P2D4_DJI_0905.MP4\n",
      "Tracklets already computed /home/vsridhar/DATA/DeepLabCut/projects/05_TerritoryDetectionP2-Vivek-2023-07-10/output/SSD6/20230312/SM_Lek1/P2D4/20230312_SM_Lek1_P2D4_DJI_0905DLC_dlcrnetms5_05_TerritoryDetectionP2Jul10shuffle1_50000_el.pickle\n",
      "Set overwrite = True to overwrite.\n",
      "The tracklets were created (i.e., under the hood deeplabcut.convert_detections2tracklets was run). Now you can 'refine_tracklets' in the GUI, or run 'deeplabcut.stitch_tracklets'.\n",
      "Processing...  /media/vsridhar/T7/Work/Data/BlackbuckAnnotations/P2/downsampled/SSD6/20230312/SM_Lek1/P2D4/20230312_SM_Lek1_P2D4_DJI_0905.MP4\n"
     ]
    },
    {
     "name": "stderr",
     "output_type": "stream",
     "text": [
      "100%|████████████████████████████████████████████████████████████████████████████████████| 33/33 [00:00<00:00, 133216.59it/s]"
     ]
    },
    {
     "name": "stdout",
     "output_type": "stream",
     "text": [
      "Starting to analyze %  /media/vsridhar/T7/Work/Data/BlackbuckAnnotations/P2/downsampled/SSD6/20230312/SM_Lek1/P2D4/20230312_SM_Lek1_P2D4_DJI_0900.MP4\n",
      "Video already analyzed! /home/vsridhar/DATA/DeepLabCut/projects/05_TerritoryDetectionP2-Vivek-2023-07-10/output/SSD6/20230312/SM_Lek1/P2D4/20230312_SM_Lek1_P2D4_DJI_0900DLC_dlcrnetms5_05_TerritoryDetectionP2Jul10shuffle1_50000.h5\n",
      "Using snapshot-50000 for model /home/vsridhar/DATA/DeepLabCut/projects/05_TerritoryDetectionP2-Vivek-2023-07-10/dlc-models/iteration-0/05_TerritoryDetectionP2Jul10-trainset90shuffle1\n",
      "Processing...  /media/vsridhar/T7/Work/Data/BlackbuckAnnotations/P2/downsampled/SSD6/20230312/SM_Lek1/P2D4/20230312_SM_Lek1_P2D4_DJI_0900.MP4\n"
     ]
    },
    {
     "name": "stderr",
     "output_type": "stream",
     "text": [
      "\n",
      "/home/vsridhar/.local/lib/python3.10/site-packages/deeplabcut/refine_training_dataset/stitch.py:690: UserWarning: No optimal solution found. Employing black magic...\n",
      "  warnings.warn(\"No optimal solution found. Employing black magic...\")\n",
      "/home/vsridhar/.local/lib/python3.10/site-packages/deeplabcut/refine_training_dataset/stitch.py:763: UserWarning: Only 33 tracks could be reconstructed.\n",
      "  warnings.warn(f\"Only {len(self.paths)} tracks could be reconstructed.\")\n"
     ]
    },
    {
     "name": "stdout",
     "output_type": "stream",
     "text": [
      "Tracklets already computed /home/vsridhar/DATA/DeepLabCut/projects/05_TerritoryDetectionP2-Vivek-2023-07-10/output/SSD6/20230312/SM_Lek1/P2D4/20230312_SM_Lek1_P2D4_DJI_0900DLC_dlcrnetms5_05_TerritoryDetectionP2Jul10shuffle1_50000_el.pickle\n",
      "Set overwrite = True to overwrite.\n",
      "The tracklets were created (i.e., under the hood deeplabcut.convert_detections2tracklets was run). Now you can 'refine_tracklets' in the GUI, or run 'deeplabcut.stitch_tracklets'.\n",
      "Processing...  /media/vsridhar/T7/Work/Data/BlackbuckAnnotations/P2/downsampled/SSD6/20230312/SM_Lek1/P2D4/20230312_SM_Lek1_P2D4_DJI_0900.MP4\n"
     ]
    },
    {
     "name": "stderr",
     "output_type": "stream",
     "text": [
      "/home/vsridhar/.local/lib/python3.10/site-packages/deeplabcut/refine_training_dataset/stitch.py:138: FutureWarning: Unlike other reduction functions (e.g. `skew`, `kurtosis`), the default behavior of `mode` typically preserves the axis it acts along. In SciPy 1.11.0, this behavior will change: the default value of `keepdims` will become False, the `axis` over which the statistic is taken will be eliminated, and the value None will no longer be accepted. Set `keepdims` to True or False to avoid this warning.\n",
      "  return mode(self.data[..., 3], axis=None, nan_policy=\"omit\")[0][0]\n",
      "100%|██████████████████████████████████████████████████████████████████████████████████████| 88/88 [00:00<00:00, 1757.63it/s]\n"
     ]
    },
    {
     "name": "stdout",
     "output_type": "stream",
     "text": [
      "Starting to analyze %  /media/vsridhar/T7/Work/Data/BlackbuckAnnotations/P2/downsampled/SSD6/20230312/SM_Lek1/P2D4/20230312_SM_Lek1_P2D4_DJI_0902.MP4\n",
      "Video already analyzed! /home/vsridhar/DATA/DeepLabCut/projects/05_TerritoryDetectionP2-Vivek-2023-07-10/output/SSD6/20230312/SM_Lek1/P2D4/20230312_SM_Lek1_P2D4_DJI_0902DLC_dlcrnetms5_05_TerritoryDetectionP2Jul10shuffle1_50000.h5\n",
      "Using snapshot-50000 for model /home/vsridhar/DATA/DeepLabCut/projects/05_TerritoryDetectionP2-Vivek-2023-07-10/dlc-models/iteration-0/05_TerritoryDetectionP2Jul10-trainset90shuffle1\n",
      "Processing...  /media/vsridhar/T7/Work/Data/BlackbuckAnnotations/P2/downsampled/SSD6/20230312/SM_Lek1/P2D4/20230312_SM_Lek1_P2D4_DJI_0902.MP4\n",
      "Tracklets already computed /home/vsridhar/DATA/DeepLabCut/projects/05_TerritoryDetectionP2-Vivek-2023-07-10/output/SSD6/20230312/SM_Lek1/P2D4/20230312_SM_Lek1_P2D4_DJI_0902DLC_dlcrnetms5_05_TerritoryDetectionP2Jul10shuffle1_50000_el.pickle\n",
      "Set overwrite = True to overwrite.\n",
      "The tracklets were created (i.e., under the hood deeplabcut.convert_detections2tracklets was run). Now you can 'refine_tracklets' in the GUI, or run 'deeplabcut.stitch_tracklets'.\n",
      "Processing...  /media/vsridhar/T7/Work/Data/BlackbuckAnnotations/P2/downsampled/SSD6/20230312/SM_Lek1/P2D4/20230312_SM_Lek1_P2D4_DJI_0902.MP4\n"
     ]
    },
    {
     "name": "stderr",
     "output_type": "stream",
     "text": [
      "/home/vsridhar/.local/lib/python3.10/site-packages/deeplabcut/refine_training_dataset/stitch.py:138: FutureWarning: Unlike other reduction functions (e.g. `skew`, `kurtosis`), the default behavior of `mode` typically preserves the axis it acts along. In SciPy 1.11.0, this behavior will change: the default value of `keepdims` will become False, the `axis` over which the statistic is taken will be eliminated, and the value None will no longer be accepted. Set `keepdims` to True or False to avoid this warning.\n",
      "  return mode(self.data[..., 3], axis=None, nan_policy=\"omit\")[0][0]\n",
      "100%|████████████████████████████████████████████████████████████████████████████████████| 33/33 [00:00<00:00, 191706.42it/s]\n",
      "/home/vsridhar/.local/lib/python3.10/site-packages/deeplabcut/refine_training_dataset/stitch.py:690: UserWarning: No optimal solution found. Employing black magic...\n",
      "  warnings.warn(\"No optimal solution found. Employing black magic...\")\n",
      "/home/vsridhar/.local/lib/python3.10/site-packages/deeplabcut/refine_training_dataset/stitch.py:763: UserWarning: Only 33 tracks could be reconstructed.\n",
      "  warnings.warn(f\"Only {len(self.paths)} tracks could be reconstructed.\")\n"
     ]
    },
    {
     "name": "stdout",
     "output_type": "stream",
     "text": [
      "Starting to analyze %  /media/vsridhar/T7/Work/Data/BlackbuckAnnotations/P2/downsampled/SSD6/20230312/SM_Lek1/P2D4/20230312_SM_Lek1_P2D4_DJI_0914.MP4\n",
      "Video already analyzed! /home/vsridhar/DATA/DeepLabCut/projects/05_TerritoryDetectionP2-Vivek-2023-07-10/output/SSD6/20230312/SM_Lek1/P2D4/20230312_SM_Lek1_P2D4_DJI_0914DLC_dlcrnetms5_05_TerritoryDetectionP2Jul10shuffle1_50000.h5\n",
      "Using snapshot-50000 for model /home/vsridhar/DATA/DeepLabCut/projects/05_TerritoryDetectionP2-Vivek-2023-07-10/dlc-models/iteration-0/05_TerritoryDetectionP2Jul10-trainset90shuffle1\n",
      "Processing...  /media/vsridhar/T7/Work/Data/BlackbuckAnnotations/P2/downsampled/SSD6/20230312/SM_Lek1/P2D4/20230312_SM_Lek1_P2D4_DJI_0914.MP4\n",
      "Tracklets already computed /home/vsridhar/DATA/DeepLabCut/projects/05_TerritoryDetectionP2-Vivek-2023-07-10/output/SSD6/20230312/SM_Lek1/P2D4/20230312_SM_Lek1_P2D4_DJI_0914DLC_dlcrnetms5_05_TerritoryDetectionP2Jul10shuffle1_50000_el.pickle\n",
      "Set overwrite = True to overwrite.\n",
      "The tracklets were created (i.e., under the hood deeplabcut.convert_detections2tracklets was run). Now you can 'refine_tracklets' in the GUI, or run 'deeplabcut.stitch_tracklets'.\n",
      "Processing...  /media/vsridhar/T7/Work/Data/BlackbuckAnnotations/P2/downsampled/SSD6/20230312/SM_Lek1/P2D4/20230312_SM_Lek1_P2D4_DJI_0914.MP4\n"
     ]
    },
    {
     "name": "stderr",
     "output_type": "stream",
     "text": [
      "/home/vsridhar/.local/lib/python3.10/site-packages/deeplabcut/refine_training_dataset/stitch.py:138: FutureWarning: Unlike other reduction functions (e.g. `skew`, `kurtosis`), the default behavior of `mode` typically preserves the axis it acts along. In SciPy 1.11.0, this behavior will change: the default value of `keepdims` will become False, the `axis` over which the statistic is taken will be eliminated, and the value None will no longer be accepted. Set `keepdims` to True or False to avoid this warning.\n",
      "  return mode(self.data[..., 3], axis=None, nan_policy=\"omit\")[0][0]\n",
      "100%|██████████████████████████████████████████████████████████████████████████████████████| 48/48 [00:00<00:00, 7624.85it/s]\n",
      "/home/vsridhar/.local/lib/python3.10/site-packages/deeplabcut/refine_training_dataset/stitch.py:690: UserWarning: No optimal solution found. Employing black magic...\n",
      "  warnings.warn(\"No optimal solution found. Employing black magic...\")\n",
      "/home/vsridhar/.local/lib/python3.10/site-packages/deeplabcut/refine_training_dataset/stitch.py:763: UserWarning: Only 48 tracks could be reconstructed.\n",
      "  warnings.warn(f\"Only {len(self.paths)} tracks could be reconstructed.\")\n"
     ]
    },
    {
     "name": "stdout",
     "output_type": "stream",
     "text": [
      "Starting to analyze %  /media/vsridhar/T7/Work/Data/BlackbuckAnnotations/P2/downsampled/SSD6/20230312/SM_Lek1/P2D4/20230312_SM_Lek1_P2D4_DJI_0913.MP4\n",
      "Video already analyzed! /home/vsridhar/DATA/DeepLabCut/projects/05_TerritoryDetectionP2-Vivek-2023-07-10/output/SSD6/20230312/SM_Lek1/P2D4/20230312_SM_Lek1_P2D4_DJI_0913DLC_dlcrnetms5_05_TerritoryDetectionP2Jul10shuffle1_50000.h5\n",
      "Using snapshot-50000 for model /home/vsridhar/DATA/DeepLabCut/projects/05_TerritoryDetectionP2-Vivek-2023-07-10/dlc-models/iteration-0/05_TerritoryDetectionP2Jul10-trainset90shuffle1\n",
      "Processing...  /media/vsridhar/T7/Work/Data/BlackbuckAnnotations/P2/downsampled/SSD6/20230312/SM_Lek1/P2D4/20230312_SM_Lek1_P2D4_DJI_0913.MP4\n",
      "Tracklets already computed /home/vsridhar/DATA/DeepLabCut/projects/05_TerritoryDetectionP2-Vivek-2023-07-10/output/SSD6/20230312/SM_Lek1/P2D4/20230312_SM_Lek1_P2D4_DJI_0913DLC_dlcrnetms5_05_TerritoryDetectionP2Jul10shuffle1_50000_el.pickle\n",
      "Set overwrite = True to overwrite.\n",
      "The tracklets were created (i.e., under the hood deeplabcut.convert_detections2tracklets was run). Now you can 'refine_tracklets' in the GUI, or run 'deeplabcut.stitch_tracklets'.\n",
      "Processing...  /media/vsridhar/T7/Work/Data/BlackbuckAnnotations/P2/downsampled/SSD6/20230312/SM_Lek1/P2D4/20230312_SM_Lek1_P2D4_DJI_0913.MP4\n"
     ]
    },
    {
     "name": "stderr",
     "output_type": "stream",
     "text": [
      "/home/vsridhar/.local/lib/python3.10/site-packages/deeplabcut/refine_training_dataset/stitch.py:138: FutureWarning: Unlike other reduction functions (e.g. `skew`, `kurtosis`), the default behavior of `mode` typically preserves the axis it acts along. In SciPy 1.11.0, this behavior will change: the default value of `keepdims` will become False, the `axis` over which the statistic is taken will be eliminated, and the value None will no longer be accepted. Set `keepdims` to True or False to avoid this warning.\n",
      "  return mode(self.data[..., 3], axis=None, nan_policy=\"omit\")[0][0]\n",
      "100%|██████████████████████████████████████████████████████████████████████████████████████| 50/50 [00:00<00:00, 9039.84it/s]\n",
      "/home/vsridhar/.local/lib/python3.10/site-packages/deeplabcut/refine_training_dataset/stitch.py:690: UserWarning: No optimal solution found. Employing black magic...\n",
      "  warnings.warn(\"No optimal solution found. Employing black magic...\")\n",
      "/home/vsridhar/.local/lib/python3.10/site-packages/deeplabcut/refine_training_dataset/stitch.py:763: UserWarning: Only 50 tracks could be reconstructed.\n",
      "  warnings.warn(f\"Only {len(self.paths)} tracks could be reconstructed.\")\n"
     ]
    },
    {
     "name": "stdout",
     "output_type": "stream",
     "text": [
      "Starting to analyze %  /media/vsridhar/T7/Work/Data/BlackbuckAnnotations/P2/downsampled/SSD6/20230312/SM_Lek1/P2D4/20230312_SM_Lek1_P2D4_DJI_0918.MP4\n",
      "Video already analyzed! /home/vsridhar/DATA/DeepLabCut/projects/05_TerritoryDetectionP2-Vivek-2023-07-10/output/SSD6/20230312/SM_Lek1/P2D4/20230312_SM_Lek1_P2D4_DJI_0918DLC_dlcrnetms5_05_TerritoryDetectionP2Jul10shuffle1_50000.h5\n",
      "Using snapshot-50000 for model /home/vsridhar/DATA/DeepLabCut/projects/05_TerritoryDetectionP2-Vivek-2023-07-10/dlc-models/iteration-0/05_TerritoryDetectionP2Jul10-trainset90shuffle1\n",
      "Processing...  /media/vsridhar/T7/Work/Data/BlackbuckAnnotations/P2/downsampled/SSD6/20230312/SM_Lek1/P2D4/20230312_SM_Lek1_P2D4_DJI_0918.MP4\n",
      "Tracklets already computed /home/vsridhar/DATA/DeepLabCut/projects/05_TerritoryDetectionP2-Vivek-2023-07-10/output/SSD6/20230312/SM_Lek1/P2D4/20230312_SM_Lek1_P2D4_DJI_0918DLC_dlcrnetms5_05_TerritoryDetectionP2Jul10shuffle1_50000_el.pickle\n",
      "Set overwrite = True to overwrite.\n",
      "The tracklets were created (i.e., under the hood deeplabcut.convert_detections2tracklets was run). Now you can 'refine_tracklets' in the GUI, or run 'deeplabcut.stitch_tracklets'.\n",
      "Processing...  /media/vsridhar/T7/Work/Data/BlackbuckAnnotations/P2/downsampled/SSD6/20230312/SM_Lek1/P2D4/20230312_SM_Lek1_P2D4_DJI_0918.MP4\n"
     ]
    },
    {
     "name": "stderr",
     "output_type": "stream",
     "text": [
      "/home/vsridhar/.local/lib/python3.10/site-packages/deeplabcut/refine_training_dataset/stitch.py:138: FutureWarning: Unlike other reduction functions (e.g. `skew`, `kurtosis`), the default behavior of `mode` typically preserves the axis it acts along. In SciPy 1.11.0, this behavior will change: the default value of `keepdims` will become False, the `axis` over which the statistic is taken will be eliminated, and the value None will no longer be accepted. Set `keepdims` to True or False to avoid this warning.\n",
      "  return mode(self.data[..., 3], axis=None, nan_policy=\"omit\")[0][0]\n",
      "100%|████████████████████████████████████████████████████████████████████████████████████| 36/36 [00:00<00:00, 125619.75it/s]\n",
      "/home/vsridhar/.local/lib/python3.10/site-packages/deeplabcut/refine_training_dataset/stitch.py:690: UserWarning: No optimal solution found. Employing black magic...\n",
      "  warnings.warn(\"No optimal solution found. Employing black magic...\")\n",
      "/home/vsridhar/.local/lib/python3.10/site-packages/deeplabcut/refine_training_dataset/stitch.py:763: UserWarning: Only 36 tracks could be reconstructed.\n",
      "  warnings.warn(f\"Only {len(self.paths)} tracks could be reconstructed.\")\n"
     ]
    },
    {
     "name": "stdout",
     "output_type": "stream",
     "text": [
      "Starting to analyze %  /media/vsridhar/T7/Work/Data/BlackbuckAnnotations/P2/downsampled/SSD6/20230312/SM_Lek1/P2D4/20230312_SM_Lek1_P2D4_DJI_0915.MP4\n",
      "Video already analyzed! /home/vsridhar/DATA/DeepLabCut/projects/05_TerritoryDetectionP2-Vivek-2023-07-10/output/SSD6/20230312/SM_Lek1/P2D4/20230312_SM_Lek1_P2D4_DJI_0915DLC_dlcrnetms5_05_TerritoryDetectionP2Jul10shuffle1_50000.h5\n",
      "Using snapshot-50000 for model /home/vsridhar/DATA/DeepLabCut/projects/05_TerritoryDetectionP2-Vivek-2023-07-10/dlc-models/iteration-0/05_TerritoryDetectionP2Jul10-trainset90shuffle1\n",
      "Processing...  /media/vsridhar/T7/Work/Data/BlackbuckAnnotations/P2/downsampled/SSD6/20230312/SM_Lek1/P2D4/20230312_SM_Lek1_P2D4_DJI_0915.MP4\n",
      "Tracklets already computed /home/vsridhar/DATA/DeepLabCut/projects/05_TerritoryDetectionP2-Vivek-2023-07-10/output/SSD6/20230312/SM_Lek1/P2D4/20230312_SM_Lek1_P2D4_DJI_0915DLC_dlcrnetms5_05_TerritoryDetectionP2Jul10shuffle1_50000_el.pickle\n",
      "Set overwrite = True to overwrite.\n",
      "The tracklets were created (i.e., under the hood deeplabcut.convert_detections2tracklets was run). Now you can 'refine_tracklets' in the GUI, or run 'deeplabcut.stitch_tracklets'.\n",
      "Processing...  /media/vsridhar/T7/Work/Data/BlackbuckAnnotations/P2/downsampled/SSD6/20230312/SM_Lek1/P2D4/20230312_SM_Lek1_P2D4_DJI_0915.MP4\n"
     ]
    },
    {
     "name": "stderr",
     "output_type": "stream",
     "text": [
      "/home/vsridhar/.local/lib/python3.10/site-packages/deeplabcut/refine_training_dataset/stitch.py:138: FutureWarning: Unlike other reduction functions (e.g. `skew`, `kurtosis`), the default behavior of `mode` typically preserves the axis it acts along. In SciPy 1.11.0, this behavior will change: the default value of `keepdims` will become False, the `axis` over which the statistic is taken will be eliminated, and the value None will no longer be accepted. Set `keepdims` to True or False to avoid this warning.\n",
      "  return mode(self.data[..., 3], axis=None, nan_policy=\"omit\")[0][0]\n",
      "100%|██████████████████████████████████████████████████████████████████████████████████████| 50/50 [00:00<00:00, 8201.93it/s]\n",
      "/home/vsridhar/.local/lib/python3.10/site-packages/deeplabcut/refine_training_dataset/stitch.py:690: UserWarning: No optimal solution found. Employing black magic...\n",
      "  warnings.warn(\"No optimal solution found. Employing black magic...\")\n",
      "/home/vsridhar/.local/lib/python3.10/site-packages/deeplabcut/refine_training_dataset/stitch.py:763: UserWarning: Only 50 tracks could be reconstructed.\n",
      "  warnings.warn(f\"Only {len(self.paths)} tracks could be reconstructed.\")\n"
     ]
    },
    {
     "name": "stdout",
     "output_type": "stream",
     "text": [
      "Starting to analyze %  /media/vsridhar/T7/Work/Data/BlackbuckAnnotations/P2/downsampled/SSD6/20230312/SM_Lek1/P2D4/20230312_SM_Lek1_P2D4_DJI_0917.MP4\n",
      "Video already analyzed! /home/vsridhar/DATA/DeepLabCut/projects/05_TerritoryDetectionP2-Vivek-2023-07-10/output/SSD6/20230312/SM_Lek1/P2D4/20230312_SM_Lek1_P2D4_DJI_0917DLC_dlcrnetms5_05_TerritoryDetectionP2Jul10shuffle1_50000.h5\n",
      "Using snapshot-50000 for model /home/vsridhar/DATA/DeepLabCut/projects/05_TerritoryDetectionP2-Vivek-2023-07-10/dlc-models/iteration-0/05_TerritoryDetectionP2Jul10-trainset90shuffle1\n",
      "Processing...  /media/vsridhar/T7/Work/Data/BlackbuckAnnotations/P2/downsampled/SSD6/20230312/SM_Lek1/P2D4/20230312_SM_Lek1_P2D4_DJI_0917.MP4\n",
      "Tracklets already computed /home/vsridhar/DATA/DeepLabCut/projects/05_TerritoryDetectionP2-Vivek-2023-07-10/output/SSD6/20230312/SM_Lek1/P2D4/20230312_SM_Lek1_P2D4_DJI_0917DLC_dlcrnetms5_05_TerritoryDetectionP2Jul10shuffle1_50000_el.pickle\n",
      "Set overwrite = True to overwrite.\n",
      "The tracklets were created (i.e., under the hood deeplabcut.convert_detections2tracklets was run). Now you can 'refine_tracklets' in the GUI, or run 'deeplabcut.stitch_tracklets'.\n",
      "Processing...  /media/vsridhar/T7/Work/Data/BlackbuckAnnotations/P2/downsampled/SSD6/20230312/SM_Lek1/P2D4/20230312_SM_Lek1_P2D4_DJI_0917.MP4\n"
     ]
    },
    {
     "name": "stderr",
     "output_type": "stream",
     "text": [
      "/home/vsridhar/.local/lib/python3.10/site-packages/deeplabcut/refine_training_dataset/stitch.py:138: FutureWarning: Unlike other reduction functions (e.g. `skew`, `kurtosis`), the default behavior of `mode` typically preserves the axis it acts along. In SciPy 1.11.0, this behavior will change: the default value of `keepdims` will become False, the `axis` over which the statistic is taken will be eliminated, and the value None will no longer be accepted. Set `keepdims` to True or False to avoid this warning.\n",
      "  return mode(self.data[..., 3], axis=None, nan_policy=\"omit\")[0][0]\n",
      "100%|█████████████████████████████████████████████████████████████████████████████████████| 38/38 [00:00<00:00, 63932.43it/s]\n",
      "/home/vsridhar/.local/lib/python3.10/site-packages/deeplabcut/refine_training_dataset/stitch.py:690: UserWarning: No optimal solution found. Employing black magic...\n",
      "  warnings.warn(\"No optimal solution found. Employing black magic...\")\n",
      "/home/vsridhar/.local/lib/python3.10/site-packages/deeplabcut/refine_training_dataset/stitch.py:763: UserWarning: Only 38 tracks could be reconstructed.\n",
      "  warnings.warn(f\"Only {len(self.paths)} tracks could be reconstructed.\")\n"
     ]
    },
    {
     "name": "stdout",
     "output_type": "stream",
     "text": [
      "Starting to analyze %  /media/vsridhar/T7/Work/Data/BlackbuckAnnotations/P2/downsampled/SSD6/20230312/SM_Lek1/P2D4/20230312_SM_Lek1_P2D4_DJI_0921.MP4\n",
      "Video already analyzed! /home/vsridhar/DATA/DeepLabCut/projects/05_TerritoryDetectionP2-Vivek-2023-07-10/output/SSD6/20230312/SM_Lek1/P2D4/20230312_SM_Lek1_P2D4_DJI_0921DLC_dlcrnetms5_05_TerritoryDetectionP2Jul10shuffle1_50000.h5\n",
      "Using snapshot-50000 for model /home/vsridhar/DATA/DeepLabCut/projects/05_TerritoryDetectionP2-Vivek-2023-07-10/dlc-models/iteration-0/05_TerritoryDetectionP2Jul10-trainset90shuffle1\n",
      "Processing...  /media/vsridhar/T7/Work/Data/BlackbuckAnnotations/P2/downsampled/SSD6/20230312/SM_Lek1/P2D4/20230312_SM_Lek1_P2D4_DJI_0921.MP4\n",
      "Tracklets already computed /home/vsridhar/DATA/DeepLabCut/projects/05_TerritoryDetectionP2-Vivek-2023-07-10/output/SSD6/20230312/SM_Lek1/P2D4/20230312_SM_Lek1_P2D4_DJI_0921DLC_dlcrnetms5_05_TerritoryDetectionP2Jul10shuffle1_50000_el.pickle\n",
      "Set overwrite = True to overwrite.\n",
      "The tracklets were created (i.e., under the hood deeplabcut.convert_detections2tracklets was run). Now you can 'refine_tracklets' in the GUI, or run 'deeplabcut.stitch_tracklets'.\n",
      "Processing...  /media/vsridhar/T7/Work/Data/BlackbuckAnnotations/P2/downsampled/SSD6/20230312/SM_Lek1/P2D4/20230312_SM_Lek1_P2D4_DJI_0921.MP4\n"
     ]
    },
    {
     "name": "stderr",
     "output_type": "stream",
     "text": [
      "/home/vsridhar/.local/lib/python3.10/site-packages/deeplabcut/refine_training_dataset/stitch.py:138: FutureWarning: Unlike other reduction functions (e.g. `skew`, `kurtosis`), the default behavior of `mode` typically preserves the axis it acts along. In SciPy 1.11.0, this behavior will change: the default value of `keepdims` will become False, the `axis` over which the statistic is taken will be eliminated, and the value None will no longer be accepted. Set `keepdims` to True or False to avoid this warning.\n",
      "  return mode(self.data[..., 3], axis=None, nan_policy=\"omit\")[0][0]\n",
      "100%|████████████████████████████████████████████████████████████████████████████████████| 35/35 [00:00<00:00, 212754.55it/s]\n",
      "/home/vsridhar/.local/lib/python3.10/site-packages/deeplabcut/refine_training_dataset/stitch.py:690: UserWarning: No optimal solution found. Employing black magic...\n",
      "  warnings.warn(\"No optimal solution found. Employing black magic...\")\n",
      "/home/vsridhar/.local/lib/python3.10/site-packages/deeplabcut/refine_training_dataset/stitch.py:763: UserWarning: Only 35 tracks could be reconstructed.\n",
      "  warnings.warn(f\"Only {len(self.paths)} tracks could be reconstructed.\")\n"
     ]
    },
    {
     "name": "stdout",
     "output_type": "stream",
     "text": [
      "Starting to analyze %  /media/vsridhar/T7/Work/Data/BlackbuckAnnotations/P2/downsampled/SSD6/20230312/SM_Lek1/P2D4/20230312_SM_Lek1_P2D4_DJI_0912.MP4\n",
      "Video already analyzed! /home/vsridhar/DATA/DeepLabCut/projects/05_TerritoryDetectionP2-Vivek-2023-07-10/output/SSD6/20230312/SM_Lek1/P2D4/20230312_SM_Lek1_P2D4_DJI_0912DLC_dlcrnetms5_05_TerritoryDetectionP2Jul10shuffle1_50000.h5\n",
      "Using snapshot-50000 for model /home/vsridhar/DATA/DeepLabCut/projects/05_TerritoryDetectionP2-Vivek-2023-07-10/dlc-models/iteration-0/05_TerritoryDetectionP2Jul10-trainset90shuffle1\n",
      "Processing...  /media/vsridhar/T7/Work/Data/BlackbuckAnnotations/P2/downsampled/SSD6/20230312/SM_Lek1/P2D4/20230312_SM_Lek1_P2D4_DJI_0912.MP4\n",
      "Tracklets already computed /home/vsridhar/DATA/DeepLabCut/projects/05_TerritoryDetectionP2-Vivek-2023-07-10/output/SSD6/20230312/SM_Lek1/P2D4/20230312_SM_Lek1_P2D4_DJI_0912DLC_dlcrnetms5_05_TerritoryDetectionP2Jul10shuffle1_50000_el.pickle\n",
      "Set overwrite = True to overwrite.\n",
      "The tracklets were created (i.e., under the hood deeplabcut.convert_detections2tracklets was run). Now you can 'refine_tracklets' in the GUI, or run 'deeplabcut.stitch_tracklets'.\n",
      "Processing...  /media/vsridhar/T7/Work/Data/BlackbuckAnnotations/P2/downsampled/SSD6/20230312/SM_Lek1/P2D4/20230312_SM_Lek1_P2D4_DJI_0912.MP4\n"
     ]
    },
    {
     "name": "stderr",
     "output_type": "stream",
     "text": [
      "/home/vsridhar/.local/lib/python3.10/site-packages/deeplabcut/refine_training_dataset/stitch.py:138: FutureWarning: Unlike other reduction functions (e.g. `skew`, `kurtosis`), the default behavior of `mode` typically preserves the axis it acts along. In SciPy 1.11.0, this behavior will change: the default value of `keepdims` will become False, the `axis` over which the statistic is taken will be eliminated, and the value None will no longer be accepted. Set `keepdims` to True or False to avoid this warning.\n",
      "  return mode(self.data[..., 3], axis=None, nan_policy=\"omit\")[0][0]\n",
      "100%|█████████████████████████████████████████████████████████████████████████████████████| 46/46 [00:00<00:00, 10874.03it/s]\n",
      "/home/vsridhar/.local/lib/python3.10/site-packages/deeplabcut/refine_training_dataset/stitch.py:690: UserWarning: No optimal solution found. Employing black magic...\n",
      "  warnings.warn(\"No optimal solution found. Employing black magic...\")\n",
      "/home/vsridhar/.local/lib/python3.10/site-packages/deeplabcut/refine_training_dataset/stitch.py:763: UserWarning: Only 46 tracks could be reconstructed.\n",
      "  warnings.warn(f\"Only {len(self.paths)} tracks could be reconstructed.\")\n"
     ]
    },
    {
     "name": "stdout",
     "output_type": "stream",
     "text": [
      "Starting to analyze %  /media/vsridhar/T7/Work/Data/BlackbuckAnnotations/P2/downsampled/SSD6/20230312/SM_Lek1/P2D4/20230312_SM_Lek1_P2D4_DJI_0909.MP4\n",
      "Video already analyzed! /home/vsridhar/DATA/DeepLabCut/projects/05_TerritoryDetectionP2-Vivek-2023-07-10/output/SSD6/20230312/SM_Lek1/P2D4/20230312_SM_Lek1_P2D4_DJI_0909DLC_dlcrnetms5_05_TerritoryDetectionP2Jul10shuffle1_50000.h5\n",
      "Using snapshot-50000 for model /home/vsridhar/DATA/DeepLabCut/projects/05_TerritoryDetectionP2-Vivek-2023-07-10/dlc-models/iteration-0/05_TerritoryDetectionP2Jul10-trainset90shuffle1\n",
      "Processing...  /media/vsridhar/T7/Work/Data/BlackbuckAnnotations/P2/downsampled/SSD6/20230312/SM_Lek1/P2D4/20230312_SM_Lek1_P2D4_DJI_0909.MP4\n",
      "Tracklets already computed /home/vsridhar/DATA/DeepLabCut/projects/05_TerritoryDetectionP2-Vivek-2023-07-10/output/SSD6/20230312/SM_Lek1/P2D4/20230312_SM_Lek1_P2D4_DJI_0909DLC_dlcrnetms5_05_TerritoryDetectionP2Jul10shuffle1_50000_el.pickle\n",
      "Set overwrite = True to overwrite.\n",
      "The tracklets were created (i.e., under the hood deeplabcut.convert_detections2tracklets was run). Now you can 'refine_tracklets' in the GUI, or run 'deeplabcut.stitch_tracklets'.\n",
      "Processing...  /media/vsridhar/T7/Work/Data/BlackbuckAnnotations/P2/downsampled/SSD6/20230312/SM_Lek1/P2D4/20230312_SM_Lek1_P2D4_DJI_0909.MP4\n"
     ]
    },
    {
     "name": "stderr",
     "output_type": "stream",
     "text": [
      "/home/vsridhar/.local/lib/python3.10/site-packages/deeplabcut/refine_training_dataset/stitch.py:138: FutureWarning: Unlike other reduction functions (e.g. `skew`, `kurtosis`), the default behavior of `mode` typically preserves the axis it acts along. In SciPy 1.11.0, this behavior will change: the default value of `keepdims` will become False, the `axis` over which the statistic is taken will be eliminated, and the value None will no longer be accepted. Set `keepdims` to True or False to avoid this warning.\n",
      "  return mode(self.data[..., 3], axis=None, nan_policy=\"omit\")[0][0]\n",
      "100%|██████████████████████████████████████████████████████████████████████████████████████| 91/91 [00:00<00:00, 3655.32it/s]\n"
     ]
    },
    {
     "name": "stdout",
     "output_type": "stream",
     "text": [
      "Starting to analyze %  /media/vsridhar/T7/Work/Data/BlackbuckAnnotations/P2/downsampled/SSD6/20230312/SM_Lek1/P2D4/20230312_SM_Lek1_P2D4_DJI_0908.MP4\n",
      "Video already analyzed! /home/vsridhar/DATA/DeepLabCut/projects/05_TerritoryDetectionP2-Vivek-2023-07-10/output/SSD6/20230312/SM_Lek1/P2D4/20230312_SM_Lek1_P2D4_DJI_0908DLC_dlcrnetms5_05_TerritoryDetectionP2Jul10shuffle1_50000.h5\n",
      "Using snapshot-50000 for model /home/vsridhar/DATA/DeepLabCut/projects/05_TerritoryDetectionP2-Vivek-2023-07-10/dlc-models/iteration-0/05_TerritoryDetectionP2Jul10-trainset90shuffle1\n",
      "Processing...  /media/vsridhar/T7/Work/Data/BlackbuckAnnotations/P2/downsampled/SSD6/20230312/SM_Lek1/P2D4/20230312_SM_Lek1_P2D4_DJI_0908.MP4\n",
      "Tracklets already computed /home/vsridhar/DATA/DeepLabCut/projects/05_TerritoryDetectionP2-Vivek-2023-07-10/output/SSD6/20230312/SM_Lek1/P2D4/20230312_SM_Lek1_P2D4_DJI_0908DLC_dlcrnetms5_05_TerritoryDetectionP2Jul10shuffle1_50000_el.pickle\n",
      "Set overwrite = True to overwrite.\n",
      "The tracklets were created (i.e., under the hood deeplabcut.convert_detections2tracklets was run). Now you can 'refine_tracklets' in the GUI, or run 'deeplabcut.stitch_tracklets'.\n",
      "Processing...  /media/vsridhar/T7/Work/Data/BlackbuckAnnotations/P2/downsampled/SSD6/20230312/SM_Lek1/P2D4/20230312_SM_Lek1_P2D4_DJI_0908.MP4\n"
     ]
    },
    {
     "name": "stderr",
     "output_type": "stream",
     "text": [
      "/home/vsridhar/.local/lib/python3.10/site-packages/deeplabcut/refine_training_dataset/stitch.py:138: FutureWarning: Unlike other reduction functions (e.g. `skew`, `kurtosis`), the default behavior of `mode` typically preserves the axis it acts along. In SciPy 1.11.0, this behavior will change: the default value of `keepdims` will become False, the `axis` over which the statistic is taken will be eliminated, and the value None will no longer be accepted. Set `keepdims` to True or False to avoid this warning.\n",
      "  return mode(self.data[..., 3], axis=None, nan_policy=\"omit\")[0][0]\n",
      "100%|██████████████████████████████████████████████████████████████████████████████████████| 40/40 [00:00<00:00, 5872.52it/s]\n",
      "/home/vsridhar/.local/lib/python3.10/site-packages/deeplabcut/refine_training_dataset/stitch.py:690: UserWarning: No optimal solution found. Employing black magic...\n",
      "  warnings.warn(\"No optimal solution found. Employing black magic...\")\n",
      "/home/vsridhar/.local/lib/python3.10/site-packages/deeplabcut/refine_training_dataset/stitch.py:763: UserWarning: Only 40 tracks could be reconstructed.\n",
      "  warnings.warn(f\"Only {len(self.paths)} tracks could be reconstructed.\")\n"
     ]
    },
    {
     "name": "stdout",
     "output_type": "stream",
     "text": [
      "Starting to analyze %  /media/vsridhar/T7/Work/Data/BlackbuckAnnotations/P2/downsampled/SSD6/20230312/SM_Lek1/P2D4/20230312_SM_Lek1_P2D4_DJI_0919.MP4\n",
      "Video already analyzed! /home/vsridhar/DATA/DeepLabCut/projects/05_TerritoryDetectionP2-Vivek-2023-07-10/output/SSD6/20230312/SM_Lek1/P2D4/20230312_SM_Lek1_P2D4_DJI_0919DLC_dlcrnetms5_05_TerritoryDetectionP2Jul10shuffle1_50000.h5\n",
      "Using snapshot-50000 for model /home/vsridhar/DATA/DeepLabCut/projects/05_TerritoryDetectionP2-Vivek-2023-07-10/dlc-models/iteration-0/05_TerritoryDetectionP2Jul10-trainset90shuffle1\n",
      "Processing...  /media/vsridhar/T7/Work/Data/BlackbuckAnnotations/P2/downsampled/SSD6/20230312/SM_Lek1/P2D4/20230312_SM_Lek1_P2D4_DJI_0919.MP4\n",
      "Tracklets already computed /home/vsridhar/DATA/DeepLabCut/projects/05_TerritoryDetectionP2-Vivek-2023-07-10/output/SSD6/20230312/SM_Lek1/P2D4/20230312_SM_Lek1_P2D4_DJI_0919DLC_dlcrnetms5_05_TerritoryDetectionP2Jul10shuffle1_50000_el.pickle\n",
      "Set overwrite = True to overwrite.\n",
      "The tracklets were created (i.e., under the hood deeplabcut.convert_detections2tracklets was run). Now you can 'refine_tracklets' in the GUI, or run 'deeplabcut.stitch_tracklets'.\n",
      "Processing...  /media/vsridhar/T7/Work/Data/BlackbuckAnnotations/P2/downsampled/SSD6/20230312/SM_Lek1/P2D4/20230312_SM_Lek1_P2D4_DJI_0919.MP4\n"
     ]
    },
    {
     "name": "stderr",
     "output_type": "stream",
     "text": [
      "/home/vsridhar/.local/lib/python3.10/site-packages/deeplabcut/refine_training_dataset/stitch.py:138: FutureWarning: Unlike other reduction functions (e.g. `skew`, `kurtosis`), the default behavior of `mode` typically preserves the axis it acts along. In SciPy 1.11.0, this behavior will change: the default value of `keepdims` will become False, the `axis` over which the statistic is taken will be eliminated, and the value None will no longer be accepted. Set `keepdims` to True or False to avoid this warning.\n",
      "  return mode(self.data[..., 3], axis=None, nan_policy=\"omit\")[0][0]\n",
      "100%|█████████████████████████████████████████████████████████████████████████████████████| 48/48 [00:00<00:00, 12247.63it/s]\n",
      "/home/vsridhar/.local/lib/python3.10/site-packages/deeplabcut/refine_training_dataset/stitch.py:690: UserWarning: No optimal solution found. Employing black magic...\n",
      "  warnings.warn(\"No optimal solution found. Employing black magic...\")\n",
      "/home/vsridhar/.local/lib/python3.10/site-packages/deeplabcut/refine_training_dataset/stitch.py:763: UserWarning: Only 48 tracks could be reconstructed.\n",
      "  warnings.warn(f\"Only {len(self.paths)} tracks could be reconstructed.\")\n"
     ]
    },
    {
     "name": "stdout",
     "output_type": "stream",
     "text": [
      "Starting to analyze %  /media/vsridhar/T7/Work/Data/BlackbuckAnnotations/P2/downsampled/SSD6/20230312/SM_Lek1/P2D4/20230312_SM_Lek1_P2D4_DJI_0911.MP4\n",
      "Video already analyzed! /home/vsridhar/DATA/DeepLabCut/projects/05_TerritoryDetectionP2-Vivek-2023-07-10/output/SSD6/20230312/SM_Lek1/P2D4/20230312_SM_Lek1_P2D4_DJI_0911DLC_dlcrnetms5_05_TerritoryDetectionP2Jul10shuffle1_50000.h5\n",
      "Using snapshot-50000 for model /home/vsridhar/DATA/DeepLabCut/projects/05_TerritoryDetectionP2-Vivek-2023-07-10/dlc-models/iteration-0/05_TerritoryDetectionP2Jul10-trainset90shuffle1\n",
      "Processing...  /media/vsridhar/T7/Work/Data/BlackbuckAnnotations/P2/downsampled/SSD6/20230312/SM_Lek1/P2D4/20230312_SM_Lek1_P2D4_DJI_0911.MP4\n",
      "Tracklets already computed /home/vsridhar/DATA/DeepLabCut/projects/05_TerritoryDetectionP2-Vivek-2023-07-10/output/SSD6/20230312/SM_Lek1/P2D4/20230312_SM_Lek1_P2D4_DJI_0911DLC_dlcrnetms5_05_TerritoryDetectionP2Jul10shuffle1_50000_el.pickle\n",
      "Set overwrite = True to overwrite.\n",
      "The tracklets were created (i.e., under the hood deeplabcut.convert_detections2tracklets was run). Now you can 'refine_tracklets' in the GUI, or run 'deeplabcut.stitch_tracklets'.\n",
      "Processing...  /media/vsridhar/T7/Work/Data/BlackbuckAnnotations/P2/downsampled/SSD6/20230312/SM_Lek1/P2D4/20230312_SM_Lek1_P2D4_DJI_0911.MP4\n"
     ]
    },
    {
     "name": "stderr",
     "output_type": "stream",
     "text": [
      "/home/vsridhar/.local/lib/python3.10/site-packages/deeplabcut/refine_training_dataset/stitch.py:138: FutureWarning: Unlike other reduction functions (e.g. `skew`, `kurtosis`), the default behavior of `mode` typically preserves the axis it acts along. In SciPy 1.11.0, this behavior will change: the default value of `keepdims` will become False, the `axis` over which the statistic is taken will be eliminated, and the value None will no longer be accepted. Set `keepdims` to True or False to avoid this warning.\n",
      "  return mode(self.data[..., 3], axis=None, nan_policy=\"omit\")[0][0]\n",
      "100%|██████████████████████████████████████████████████████████████████████████████████████| 80/80 [00:00<00:00, 4140.48it/s]\n"
     ]
    },
    {
     "name": "stdout",
     "output_type": "stream",
     "text": [
      "Starting to analyze %  /media/vsridhar/T7/Work/Data/BlackbuckAnnotations/P2/downsampled/SSD6/20230312/SM_Lek1/P2D4/20230312_SM_Lek1_P2D4_DJI_0910.MP4\n",
      "Video already analyzed! /home/vsridhar/DATA/DeepLabCut/projects/05_TerritoryDetectionP2-Vivek-2023-07-10/output/SSD6/20230312/SM_Lek1/P2D4/20230312_SM_Lek1_P2D4_DJI_0910DLC_dlcrnetms5_05_TerritoryDetectionP2Jul10shuffle1_50000.h5\n",
      "Using snapshot-50000 for model /home/vsridhar/DATA/DeepLabCut/projects/05_TerritoryDetectionP2-Vivek-2023-07-10/dlc-models/iteration-0/05_TerritoryDetectionP2Jul10-trainset90shuffle1\n",
      "Processing...  /media/vsridhar/T7/Work/Data/BlackbuckAnnotations/P2/downsampled/SSD6/20230312/SM_Lek1/P2D4/20230312_SM_Lek1_P2D4_DJI_0910.MP4\n",
      "Tracklets already computed /home/vsridhar/DATA/DeepLabCut/projects/05_TerritoryDetectionP2-Vivek-2023-07-10/output/SSD6/20230312/SM_Lek1/P2D4/20230312_SM_Lek1_P2D4_DJI_0910DLC_dlcrnetms5_05_TerritoryDetectionP2Jul10shuffle1_50000_el.pickle\n",
      "Set overwrite = True to overwrite.\n",
      "The tracklets were created (i.e., under the hood deeplabcut.convert_detections2tracklets was run). Now you can 'refine_tracklets' in the GUI, or run 'deeplabcut.stitch_tracklets'.\n",
      "Processing...  /media/vsridhar/T7/Work/Data/BlackbuckAnnotations/P2/downsampled/SSD6/20230312/SM_Lek1/P2D4/20230312_SM_Lek1_P2D4_DJI_0910.MP4\n"
     ]
    },
    {
     "name": "stderr",
     "output_type": "stream",
     "text": [
      "/home/vsridhar/.local/lib/python3.10/site-packages/deeplabcut/refine_training_dataset/stitch.py:138: FutureWarning: Unlike other reduction functions (e.g. `skew`, `kurtosis`), the default behavior of `mode` typically preserves the axis it acts along. In SciPy 1.11.0, this behavior will change: the default value of `keepdims` will become False, the `axis` over which the statistic is taken will be eliminated, and the value None will no longer be accepted. Set `keepdims` to True or False to avoid this warning.\n",
      "  return mode(self.data[..., 3], axis=None, nan_policy=\"omit\")[0][0]\n",
      "100%|████████████████████████████████████████████████████████████████████████████████████| 136/136 [00:00<00:00, 2742.43it/s]\n"
     ]
    },
    {
     "name": "stdout",
     "output_type": "stream",
     "text": [
      "Starting to analyze %  /media/vsridhar/T7/Work/Data/BlackbuckAnnotations/P2/downsampled/SSD6/20230312/SM_Lek1/P2D4/20230312_SM_Lek1_P2D4_DJI_0901.MP4\n",
      "Video already analyzed! /home/vsridhar/DATA/DeepLabCut/projects/05_TerritoryDetectionP2-Vivek-2023-07-10/output/SSD6/20230312/SM_Lek1/P2D4/20230312_SM_Lek1_P2D4_DJI_0901DLC_dlcrnetms5_05_TerritoryDetectionP2Jul10shuffle1_50000.h5\n",
      "Using snapshot-50000 for model /home/vsridhar/DATA/DeepLabCut/projects/05_TerritoryDetectionP2-Vivek-2023-07-10/dlc-models/iteration-0/05_TerritoryDetectionP2Jul10-trainset90shuffle1\n",
      "Processing...  /media/vsridhar/T7/Work/Data/BlackbuckAnnotations/P2/downsampled/SSD6/20230312/SM_Lek1/P2D4/20230312_SM_Lek1_P2D4_DJI_0901.MP4\n",
      "Tracklets already computed /home/vsridhar/DATA/DeepLabCut/projects/05_TerritoryDetectionP2-Vivek-2023-07-10/output/SSD6/20230312/SM_Lek1/P2D4/20230312_SM_Lek1_P2D4_DJI_0901DLC_dlcrnetms5_05_TerritoryDetectionP2Jul10shuffle1_50000_el.pickle\n",
      "Set overwrite = True to overwrite.\n",
      "The tracklets were created (i.e., under the hood deeplabcut.convert_detections2tracklets was run). Now you can 'refine_tracklets' in the GUI, or run 'deeplabcut.stitch_tracklets'.\n",
      "Processing...  /media/vsridhar/T7/Work/Data/BlackbuckAnnotations/P2/downsampled/SSD6/20230312/SM_Lek1/P2D4/20230312_SM_Lek1_P2D4_DJI_0901.MP4\n"
     ]
    },
    {
     "name": "stderr",
     "output_type": "stream",
     "text": [
      "/home/vsridhar/.local/lib/python3.10/site-packages/deeplabcut/refine_training_dataset/stitch.py:138: FutureWarning: Unlike other reduction functions (e.g. `skew`, `kurtosis`), the default behavior of `mode` typically preserves the axis it acts along. In SciPy 1.11.0, this behavior will change: the default value of `keepdims` will become False, the `axis` over which the statistic is taken will be eliminated, and the value None will no longer be accepted. Set `keepdims` to True or False to avoid this warning.\n",
      "  return mode(self.data[..., 3], axis=None, nan_policy=\"omit\")[0][0]\n",
      "100%|█████████████████████████████████████████████████████████████████████████████████████| 37/37 [00:00<00:00, 59527.90it/s]\n",
      "/home/vsridhar/.local/lib/python3.10/site-packages/deeplabcut/refine_training_dataset/stitch.py:690: UserWarning: No optimal solution found. Employing black magic...\n",
      "  warnings.warn(\"No optimal solution found. Employing black magic...\")\n",
      "/home/vsridhar/.local/lib/python3.10/site-packages/deeplabcut/refine_training_dataset/stitch.py:763: UserWarning: Only 37 tracks could be reconstructed.\n",
      "  warnings.warn(f\"Only {len(self.paths)} tracks could be reconstructed.\")\n"
     ]
    },
    {
     "name": "stdout",
     "output_type": "stream",
     "text": [
      "Starting to analyze %  /media/vsridhar/T7/Work/Data/BlackbuckAnnotations/P2/downsampled/SSD6/20230312/SM_Lek1/P2D4/20230312_SM_Lek1_P2D4_DJI_0903.MP4\n",
      "Video already analyzed! /home/vsridhar/DATA/DeepLabCut/projects/05_TerritoryDetectionP2-Vivek-2023-07-10/output/SSD6/20230312/SM_Lek1/P2D4/20230312_SM_Lek1_P2D4_DJI_0903DLC_dlcrnetms5_05_TerritoryDetectionP2Jul10shuffle1_50000.h5\n",
      "Using snapshot-50000 for model /home/vsridhar/DATA/DeepLabCut/projects/05_TerritoryDetectionP2-Vivek-2023-07-10/dlc-models/iteration-0/05_TerritoryDetectionP2Jul10-trainset90shuffle1\n",
      "Processing...  /media/vsridhar/T7/Work/Data/BlackbuckAnnotations/P2/downsampled/SSD6/20230312/SM_Lek1/P2D4/20230312_SM_Lek1_P2D4_DJI_0903.MP4\n",
      "Tracklets already computed /home/vsridhar/DATA/DeepLabCut/projects/05_TerritoryDetectionP2-Vivek-2023-07-10/output/SSD6/20230312/SM_Lek1/P2D4/20230312_SM_Lek1_P2D4_DJI_0903DLC_dlcrnetms5_05_TerritoryDetectionP2Jul10shuffle1_50000_el.pickle\n",
      "Set overwrite = True to overwrite.\n",
      "The tracklets were created (i.e., under the hood deeplabcut.convert_detections2tracklets was run). Now you can 'refine_tracklets' in the GUI, or run 'deeplabcut.stitch_tracklets'.\n",
      "Processing...  /media/vsridhar/T7/Work/Data/BlackbuckAnnotations/P2/downsampled/SSD6/20230312/SM_Lek1/P2D4/20230312_SM_Lek1_P2D4_DJI_0903.MP4\n"
     ]
    },
    {
     "name": "stderr",
     "output_type": "stream",
     "text": [
      "/home/vsridhar/.local/lib/python3.10/site-packages/deeplabcut/refine_training_dataset/stitch.py:138: FutureWarning: Unlike other reduction functions (e.g. `skew`, `kurtosis`), the default behavior of `mode` typically preserves the axis it acts along. In SciPy 1.11.0, this behavior will change: the default value of `keepdims` will become False, the `axis` over which the statistic is taken will be eliminated, and the value None will no longer be accepted. Set `keepdims` to True or False to avoid this warning.\n",
      "  return mode(self.data[..., 3], axis=None, nan_policy=\"omit\")[0][0]\n",
      "100%|████████████████████████████████████████████████████████████████████████████████████| 33/33 [00:00<00:00, 183084.70it/s]\n",
      "/home/vsridhar/.local/lib/python3.10/site-packages/deeplabcut/refine_training_dataset/stitch.py:690: UserWarning: No optimal solution found. Employing black magic...\n",
      "  warnings.warn(\"No optimal solution found. Employing black magic...\")\n",
      "/home/vsridhar/.local/lib/python3.10/site-packages/deeplabcut/refine_training_dataset/stitch.py:763: UserWarning: Only 33 tracks could be reconstructed.\n",
      "  warnings.warn(f\"Only {len(self.paths)} tracks could be reconstructed.\")\n"
     ]
    },
    {
     "name": "stdout",
     "output_type": "stream",
     "text": [
      "Starting to analyze %  /media/vsridhar/T7/Work/Data/BlackbuckAnnotations/P2/downsampled/SSD6/20230312/SM_Lek1/P2D4/20230312_SM_Lek1_P2D4_DJI_0920.MP4\n",
      "Video already analyzed! /home/vsridhar/DATA/DeepLabCut/projects/05_TerritoryDetectionP2-Vivek-2023-07-10/output/SSD6/20230312/SM_Lek1/P2D4/20230312_SM_Lek1_P2D4_DJI_0920DLC_dlcrnetms5_05_TerritoryDetectionP2Jul10shuffle1_50000.h5\n",
      "Using snapshot-50000 for model /home/vsridhar/DATA/DeepLabCut/projects/05_TerritoryDetectionP2-Vivek-2023-07-10/dlc-models/iteration-0/05_TerritoryDetectionP2Jul10-trainset90shuffle1\n",
      "Processing...  /media/vsridhar/T7/Work/Data/BlackbuckAnnotations/P2/downsampled/SSD6/20230312/SM_Lek1/P2D4/20230312_SM_Lek1_P2D4_DJI_0920.MP4\n",
      "Tracklets already computed /home/vsridhar/DATA/DeepLabCut/projects/05_TerritoryDetectionP2-Vivek-2023-07-10/output/SSD6/20230312/SM_Lek1/P2D4/20230312_SM_Lek1_P2D4_DJI_0920DLC_dlcrnetms5_05_TerritoryDetectionP2Jul10shuffle1_50000_el.pickle\n",
      "Set overwrite = True to overwrite.\n",
      "The tracklets were created (i.e., under the hood deeplabcut.convert_detections2tracklets was run). Now you can 'refine_tracklets' in the GUI, or run 'deeplabcut.stitch_tracklets'.\n",
      "Processing...  /media/vsridhar/T7/Work/Data/BlackbuckAnnotations/P2/downsampled/SSD6/20230312/SM_Lek1/P2D4/20230312_SM_Lek1_P2D4_DJI_0920.MP4\n"
     ]
    },
    {
     "name": "stderr",
     "output_type": "stream",
     "text": [
      "/home/vsridhar/.local/lib/python3.10/site-packages/deeplabcut/refine_training_dataset/stitch.py:138: FutureWarning: Unlike other reduction functions (e.g. `skew`, `kurtosis`), the default behavior of `mode` typically preserves the axis it acts along. In SciPy 1.11.0, this behavior will change: the default value of `keepdims` will become False, the `axis` over which the statistic is taken will be eliminated, and the value None will no longer be accepted. Set `keepdims` to True or False to avoid this warning.\n",
      "  return mode(self.data[..., 3], axis=None, nan_policy=\"omit\")[0][0]\n",
      "100%|██████████████████████████████████████████████████████████████████████████████████████| 51/51 [00:00<00:00, 5319.28it/s]\n",
      "/home/vsridhar/.local/lib/python3.10/site-packages/deeplabcut/refine_training_dataset/stitch.py:690: UserWarning: No optimal solution found. Employing black magic...\n",
      "  warnings.warn(\"No optimal solution found. Employing black magic...\")\n",
      "/home/vsridhar/.local/lib/python3.10/site-packages/deeplabcut/refine_training_dataset/stitch.py:763: UserWarning: Only 51 tracks could be reconstructed.\n",
      "  warnings.warn(f\"Only {len(self.paths)} tracks could be reconstructed.\")\n"
     ]
    },
    {
     "name": "stdout",
     "output_type": "stream",
     "text": [
      "Starting to analyze %  /media/vsridhar/T7/Work/Data/BlackbuckAnnotations/P2/downsampled/SSD6/20230312/SM_Lek1/P2D4/20230312_SM_Lek1_P2D4_DJI_0916.MP4\n",
      "Video already analyzed! /home/vsridhar/DATA/DeepLabCut/projects/05_TerritoryDetectionP2-Vivek-2023-07-10/output/SSD6/20230312/SM_Lek1/P2D4/20230312_SM_Lek1_P2D4_DJI_0916DLC_dlcrnetms5_05_TerritoryDetectionP2Jul10shuffle1_50000.h5\n",
      "Using snapshot-50000 for model /home/vsridhar/DATA/DeepLabCut/projects/05_TerritoryDetectionP2-Vivek-2023-07-10/dlc-models/iteration-0/05_TerritoryDetectionP2Jul10-trainset90shuffle1\n",
      "Processing...  /media/vsridhar/T7/Work/Data/BlackbuckAnnotations/P2/downsampled/SSD6/20230312/SM_Lek1/P2D4/20230312_SM_Lek1_P2D4_DJI_0916.MP4\n",
      "Tracklets already computed /home/vsridhar/DATA/DeepLabCut/projects/05_TerritoryDetectionP2-Vivek-2023-07-10/output/SSD6/20230312/SM_Lek1/P2D4/20230312_SM_Lek1_P2D4_DJI_0916DLC_dlcrnetms5_05_TerritoryDetectionP2Jul10shuffle1_50000_el.pickle\n",
      "Set overwrite = True to overwrite.\n",
      "The tracklets were created (i.e., under the hood deeplabcut.convert_detections2tracklets was run). Now you can 'refine_tracklets' in the GUI, or run 'deeplabcut.stitch_tracklets'.\n",
      "Processing...  /media/vsridhar/T7/Work/Data/BlackbuckAnnotations/P2/downsampled/SSD6/20230312/SM_Lek1/P2D4/20230312_SM_Lek1_P2D4_DJI_0916.MP4\n"
     ]
    },
    {
     "name": "stderr",
     "output_type": "stream",
     "text": [
      "/home/vsridhar/.local/lib/python3.10/site-packages/deeplabcut/refine_training_dataset/stitch.py:138: FutureWarning: Unlike other reduction functions (e.g. `skew`, `kurtosis`), the default behavior of `mode` typically preserves the axis it acts along. In SciPy 1.11.0, this behavior will change: the default value of `keepdims` will become False, the `axis` over which the statistic is taken will be eliminated, and the value None will no longer be accepted. Set `keepdims` to True or False to avoid this warning.\n",
      "  return mode(self.data[..., 3], axis=None, nan_policy=\"omit\")[0][0]\n",
      "100%|████████████████████████████████████████████████████████████████████████████████████| 134/134 [00:00<00:00, 2271.19it/s]\n"
     ]
    },
    {
     "name": "stdout",
     "output_type": "stream",
     "text": [
      "The videos are analyzed. Time to assemble animals and track 'em... \n",
      " Call 'create_video_with_all_detections' to check multi-animal detection quality before tracking.\n",
      "If the tracking is not satisfactory for some videos, consider expanding the training set. You can use the function 'extract_outlier_frames' to extract a few representative outlier frames.\n",
      "Using snapshot-50000 for model /home/vsridhar/DATA/DeepLabCut/projects/05_TerritoryDetectionP2-Vivek-2023-07-10/dlc-models/iteration-0/05_TerritoryDetectionP2Jul10-trainset90shuffle1\n"
     ]
    },
    {
     "name": "stderr",
     "output_type": "stream",
     "text": [
      "/home/vsridhar/.local/lib/python3.10/site-packages/tensorflow/python/keras/engine/base_layer_v1.py:1694: UserWarning: `layer.apply` is deprecated and will be removed in a future version. Please use `layer.__call__` method instead.\n",
      "  warnings.warn('`layer.apply` is deprecated and '\n",
      "/home/vsridhar/.local/lib/python3.10/site-packages/tf_slim/layers/layers.py:684: UserWarning: `layer.apply` is deprecated and will be removed in a future version. Please use `layer.__call__` method instead.\n",
      "  outputs = layer.apply(inputs, training=is_training)\n"
     ]
    },
    {
     "name": "stdout",
     "output_type": "stream",
     "text": [
      "Activating extracting of PAFs\n",
      "Analyzing all the videos in the directory...\n",
      "Starting to analyze %  /media/vsridhar/T7/Work/Data/BlackbuckAnnotations/P2/downsampled/SSD6/20230314/SM_Lek1/P2D3/20230314_SM_Lek1_P2D3_DJI_0338.MP4\n",
      "Video already analyzed! /home/vsridhar/DATA/DeepLabCut/projects/05_TerritoryDetectionP2-Vivek-2023-07-10/output/SSD6/20230314/SM_Lek1/P2D3/20230314_SM_Lek1_P2D3_DJI_0338DLC_dlcrnetms5_05_TerritoryDetectionP2Jul10shuffle1_50000.h5\n",
      "Using snapshot-50000 for model /home/vsridhar/DATA/DeepLabCut/projects/05_TerritoryDetectionP2-Vivek-2023-07-10/dlc-models/iteration-0/05_TerritoryDetectionP2Jul10-trainset90shuffle1\n",
      "Processing...  /media/vsridhar/T7/Work/Data/BlackbuckAnnotations/P2/downsampled/SSD6/20230314/SM_Lek1/P2D3/20230314_SM_Lek1_P2D3_DJI_0338.MP4\n",
      "Tracklets already computed /home/vsridhar/DATA/DeepLabCut/projects/05_TerritoryDetectionP2-Vivek-2023-07-10/output/SSD6/20230314/SM_Lek1/P2D3/20230314_SM_Lek1_P2D3_DJI_0338DLC_dlcrnetms5_05_TerritoryDetectionP2Jul10shuffle1_50000_el.pickle\n",
      "Set overwrite = True to overwrite.\n",
      "The tracklets were created (i.e., under the hood deeplabcut.convert_detections2tracklets was run). Now you can 'refine_tracklets' in the GUI, or run 'deeplabcut.stitch_tracklets'.\n",
      "Processing...  /media/vsridhar/T7/Work/Data/BlackbuckAnnotations/P2/downsampled/SSD6/20230314/SM_Lek1/P2D3/20230314_SM_Lek1_P2D3_DJI_0338.MP4\n"
     ]
    },
    {
     "name": "stderr",
     "output_type": "stream",
     "text": [
      "/home/vsridhar/.local/lib/python3.10/site-packages/deeplabcut/refine_training_dataset/stitch.py:138: FutureWarning: Unlike other reduction functions (e.g. `skew`, `kurtosis`), the default behavior of `mode` typically preserves the axis it acts along. In SciPy 1.11.0, this behavior will change: the default value of `keepdims` will become False, the `axis` over which the statistic is taken will be eliminated, and the value None will no longer be accepted. Set `keepdims` to True or False to avoid this warning.\n",
      "  return mode(self.data[..., 3], axis=None, nan_policy=\"omit\")[0][0]\n",
      "100%|█████████████████████████████████████████████████████████████████████████████████████| 36/36 [00:00<00:00, 20044.46it/s]\n",
      "/home/vsridhar/.local/lib/python3.10/site-packages/deeplabcut/refine_training_dataset/stitch.py:690: UserWarning: No optimal solution found. Employing black magic...\n",
      "  warnings.warn(\"No optimal solution found. Employing black magic...\")\n",
      "/home/vsridhar/.local/lib/python3.10/site-packages/deeplabcut/refine_training_dataset/stitch.py:763: UserWarning: Only 36 tracks could be reconstructed.\n",
      "  warnings.warn(f\"Only {len(self.paths)} tracks could be reconstructed.\")\n"
     ]
    },
    {
     "name": "stdout",
     "output_type": "stream",
     "text": [
      "Starting to analyze %  /media/vsridhar/T7/Work/Data/BlackbuckAnnotations/P2/downsampled/SSD6/20230314/SM_Lek1/P2D3/20230314_SM_Lek1_P2D3_DJI_0342.MP4\n",
      "Video already analyzed! /home/vsridhar/DATA/DeepLabCut/projects/05_TerritoryDetectionP2-Vivek-2023-07-10/output/SSD6/20230314/SM_Lek1/P2D3/20230314_SM_Lek1_P2D3_DJI_0342DLC_dlcrnetms5_05_TerritoryDetectionP2Jul10shuffle1_50000.h5\n",
      "Using snapshot-50000 for model /home/vsridhar/DATA/DeepLabCut/projects/05_TerritoryDetectionP2-Vivek-2023-07-10/dlc-models/iteration-0/05_TerritoryDetectionP2Jul10-trainset90shuffle1\n",
      "Processing...  /media/vsridhar/T7/Work/Data/BlackbuckAnnotations/P2/downsampled/SSD6/20230314/SM_Lek1/P2D3/20230314_SM_Lek1_P2D3_DJI_0342.MP4\n",
      "Tracklets already computed /home/vsridhar/DATA/DeepLabCut/projects/05_TerritoryDetectionP2-Vivek-2023-07-10/output/SSD6/20230314/SM_Lek1/P2D3/20230314_SM_Lek1_P2D3_DJI_0342DLC_dlcrnetms5_05_TerritoryDetectionP2Jul10shuffle1_50000_el.pickle\n",
      "Set overwrite = True to overwrite.\n",
      "The tracklets were created (i.e., under the hood deeplabcut.convert_detections2tracklets was run). Now you can 'refine_tracklets' in the GUI, or run 'deeplabcut.stitch_tracklets'.\n",
      "Processing...  /media/vsridhar/T7/Work/Data/BlackbuckAnnotations/P2/downsampled/SSD6/20230314/SM_Lek1/P2D3/20230314_SM_Lek1_P2D3_DJI_0342.MP4\n"
     ]
    },
    {
     "name": "stderr",
     "output_type": "stream",
     "text": [
      "/home/vsridhar/.local/lib/python3.10/site-packages/deeplabcut/refine_training_dataset/stitch.py:138: FutureWarning: Unlike other reduction functions (e.g. `skew`, `kurtosis`), the default behavior of `mode` typically preserves the axis it acts along. In SciPy 1.11.0, this behavior will change: the default value of `keepdims` will become False, the `axis` over which the statistic is taken will be eliminated, and the value None will no longer be accepted. Set `keepdims` to True or False to avoid this warning.\n",
      "  return mode(self.data[..., 3], axis=None, nan_policy=\"omit\")[0][0]\n",
      "100%|██████████████████████████████████████████████████████████████████████████████████████| 74/74 [00:00<00:00, 2388.79it/s]\n"
     ]
    },
    {
     "name": "stdout",
     "output_type": "stream",
     "text": [
      "Starting to analyze %  /media/vsridhar/T7/Work/Data/BlackbuckAnnotations/P2/downsampled/SSD6/20230314/SM_Lek1/P2D3/20230314_SM_Lek1_P2D3_DJI_0355.MP4\n",
      "Video already analyzed! /home/vsridhar/DATA/DeepLabCut/projects/05_TerritoryDetectionP2-Vivek-2023-07-10/output/SSD6/20230314/SM_Lek1/P2D3/20230314_SM_Lek1_P2D3_DJI_0355DLC_dlcrnetms5_05_TerritoryDetectionP2Jul10shuffle1_50000.h5\n",
      "Using snapshot-50000 for model /home/vsridhar/DATA/DeepLabCut/projects/05_TerritoryDetectionP2-Vivek-2023-07-10/dlc-models/iteration-0/05_TerritoryDetectionP2Jul10-trainset90shuffle1\n",
      "Processing...  /media/vsridhar/T7/Work/Data/BlackbuckAnnotations/P2/downsampled/SSD6/20230314/SM_Lek1/P2D3/20230314_SM_Lek1_P2D3_DJI_0355.MP4\n",
      "Tracklets already computed /home/vsridhar/DATA/DeepLabCut/projects/05_TerritoryDetectionP2-Vivek-2023-07-10/output/SSD6/20230314/SM_Lek1/P2D3/20230314_SM_Lek1_P2D3_DJI_0355DLC_dlcrnetms5_05_TerritoryDetectionP2Jul10shuffle1_50000_el.pickle\n",
      "Set overwrite = True to overwrite.\n",
      "The tracklets were created (i.e., under the hood deeplabcut.convert_detections2tracklets was run). Now you can 'refine_tracklets' in the GUI, or run 'deeplabcut.stitch_tracklets'.\n",
      "Processing...  /media/vsridhar/T7/Work/Data/BlackbuckAnnotations/P2/downsampled/SSD6/20230314/SM_Lek1/P2D3/20230314_SM_Lek1_P2D3_DJI_0355.MP4\n"
     ]
    },
    {
     "name": "stderr",
     "output_type": "stream",
     "text": [
      "/home/vsridhar/.local/lib/python3.10/site-packages/deeplabcut/refine_training_dataset/stitch.py:138: FutureWarning: Unlike other reduction functions (e.g. `skew`, `kurtosis`), the default behavior of `mode` typically preserves the axis it acts along. In SciPy 1.11.0, this behavior will change: the default value of `keepdims` will become False, the `axis` over which the statistic is taken will be eliminated, and the value None will no longer be accepted. Set `keepdims` to True or False to avoid this warning.\n",
      "  return mode(self.data[..., 3], axis=None, nan_policy=\"omit\")[0][0]\n",
      "100%|████████████████████████████████████████████████████████████████████████████████████| 116/116 [00:00<00:00, 1690.91it/s]\n"
     ]
    },
    {
     "name": "stdout",
     "output_type": "stream",
     "text": [
      "Starting to analyze %  /media/vsridhar/T7/Work/Data/BlackbuckAnnotations/P2/downsampled/SSD6/20230314/SM_Lek1/P2D3/20230314_SM_Lek1_P2D3_DJI_0335.MP4\n",
      "Video already analyzed! /home/vsridhar/DATA/DeepLabCut/projects/05_TerritoryDetectionP2-Vivek-2023-07-10/output/SSD6/20230314/SM_Lek1/P2D3/20230314_SM_Lek1_P2D3_DJI_0335DLC_dlcrnetms5_05_TerritoryDetectionP2Jul10shuffle1_50000.h5\n",
      "Using snapshot-50000 for model /home/vsridhar/DATA/DeepLabCut/projects/05_TerritoryDetectionP2-Vivek-2023-07-10/dlc-models/iteration-0/05_TerritoryDetectionP2Jul10-trainset90shuffle1\n",
      "Processing...  /media/vsridhar/T7/Work/Data/BlackbuckAnnotations/P2/downsampled/SSD6/20230314/SM_Lek1/P2D3/20230314_SM_Lek1_P2D3_DJI_0335.MP4\n",
      "Tracklets already computed /home/vsridhar/DATA/DeepLabCut/projects/05_TerritoryDetectionP2-Vivek-2023-07-10/output/SSD6/20230314/SM_Lek1/P2D3/20230314_SM_Lek1_P2D3_DJI_0335DLC_dlcrnetms5_05_TerritoryDetectionP2Jul10shuffle1_50000_el.pickle\n",
      "Set overwrite = True to overwrite.\n",
      "The tracklets were created (i.e., under the hood deeplabcut.convert_detections2tracklets was run). Now you can 'refine_tracklets' in the GUI, or run 'deeplabcut.stitch_tracklets'.\n",
      "Processing...  /media/vsridhar/T7/Work/Data/BlackbuckAnnotations/P2/downsampled/SSD6/20230314/SM_Lek1/P2D3/20230314_SM_Lek1_P2D3_DJI_0335.MP4\n"
     ]
    },
    {
     "name": "stderr",
     "output_type": "stream",
     "text": [
      "/home/vsridhar/.local/lib/python3.10/site-packages/deeplabcut/refine_training_dataset/stitch.py:138: FutureWarning: Unlike other reduction functions (e.g. `skew`, `kurtosis`), the default behavior of `mode` typically preserves the axis it acts along. In SciPy 1.11.0, this behavior will change: the default value of `keepdims` will become False, the `axis` over which the statistic is taken will be eliminated, and the value None will no longer be accepted. Set `keepdims` to True or False to avoid this warning.\n",
      "  return mode(self.data[..., 3], axis=None, nan_policy=\"omit\")[0][0]\n",
      "100%|██████████████████████████████████████████████████████████████████████████████████████| 80/80 [00:00<00:00, 2599.59it/s]\n"
     ]
    },
    {
     "name": "stdout",
     "output_type": "stream",
     "text": [
      "Starting to analyze %  /media/vsridhar/T7/Work/Data/BlackbuckAnnotations/P2/downsampled/SSD6/20230314/SM_Lek1/P2D3/20230314_SM_Lek1_P2D3_DJI_0351.MP4\n",
      "Video already analyzed! /home/vsridhar/DATA/DeepLabCut/projects/05_TerritoryDetectionP2-Vivek-2023-07-10/output/SSD6/20230314/SM_Lek1/P2D3/20230314_SM_Lek1_P2D3_DJI_0351DLC_dlcrnetms5_05_TerritoryDetectionP2Jul10shuffle1_50000.h5\n",
      "Using snapshot-50000 for model /home/vsridhar/DATA/DeepLabCut/projects/05_TerritoryDetectionP2-Vivek-2023-07-10/dlc-models/iteration-0/05_TerritoryDetectionP2Jul10-trainset90shuffle1\n",
      "Processing...  /media/vsridhar/T7/Work/Data/BlackbuckAnnotations/P2/downsampled/SSD6/20230314/SM_Lek1/P2D3/20230314_SM_Lek1_P2D3_DJI_0351.MP4\n",
      "Tracklets already computed /home/vsridhar/DATA/DeepLabCut/projects/05_TerritoryDetectionP2-Vivek-2023-07-10/output/SSD6/20230314/SM_Lek1/P2D3/20230314_SM_Lek1_P2D3_DJI_0351DLC_dlcrnetms5_05_TerritoryDetectionP2Jul10shuffle1_50000_el.pickle\n",
      "Set overwrite = True to overwrite.\n",
      "The tracklets were created (i.e., under the hood deeplabcut.convert_detections2tracklets was run). Now you can 'refine_tracklets' in the GUI, or run 'deeplabcut.stitch_tracklets'.\n",
      "Processing...  /media/vsridhar/T7/Work/Data/BlackbuckAnnotations/P2/downsampled/SSD6/20230314/SM_Lek1/P2D3/20230314_SM_Lek1_P2D3_DJI_0351.MP4\n"
     ]
    },
    {
     "name": "stderr",
     "output_type": "stream",
     "text": [
      "/home/vsridhar/.local/lib/python3.10/site-packages/deeplabcut/refine_training_dataset/stitch.py:138: FutureWarning: Unlike other reduction functions (e.g. `skew`, `kurtosis`), the default behavior of `mode` typically preserves the axis it acts along. In SciPy 1.11.0, this behavior will change: the default value of `keepdims` will become False, the `axis` over which the statistic is taken will be eliminated, and the value None will no longer be accepted. Set `keepdims` to True or False to avoid this warning.\n",
      "  return mode(self.data[..., 3], axis=None, nan_policy=\"omit\")[0][0]\n",
      "100%|██████████████████████████████████████████████████████████████████████████████████████| 57/57 [00:00<00:00, 5730.34it/s]\n",
      "/home/vsridhar/.local/lib/python3.10/site-packages/deeplabcut/refine_training_dataset/stitch.py:690: UserWarning: No optimal solution found. Employing black magic...\n",
      "  warnings.warn(\"No optimal solution found. Employing black magic...\")\n",
      "/home/vsridhar/.local/lib/python3.10/site-packages/deeplabcut/refine_training_dataset/stitch.py:763: UserWarning: Only 57 tracks could be reconstructed.\n",
      "  warnings.warn(f\"Only {len(self.paths)} tracks could be reconstructed.\")\n"
     ]
    },
    {
     "name": "stdout",
     "output_type": "stream",
     "text": [
      "Starting to analyze %  /media/vsridhar/T7/Work/Data/BlackbuckAnnotations/P2/downsampled/SSD6/20230314/SM_Lek1/P2D3/20230314_SM_Lek1_P2D3_DJI_0333.MP4\n",
      "Video already analyzed! /home/vsridhar/DATA/DeepLabCut/projects/05_TerritoryDetectionP2-Vivek-2023-07-10/output/SSD6/20230314/SM_Lek1/P2D3/20230314_SM_Lek1_P2D3_DJI_0333DLC_dlcrnetms5_05_TerritoryDetectionP2Jul10shuffle1_50000.h5\n",
      "Using snapshot-50000 for model /home/vsridhar/DATA/DeepLabCut/projects/05_TerritoryDetectionP2-Vivek-2023-07-10/dlc-models/iteration-0/05_TerritoryDetectionP2Jul10-trainset90shuffle1\n",
      "Processing...  /media/vsridhar/T7/Work/Data/BlackbuckAnnotations/P2/downsampled/SSD6/20230314/SM_Lek1/P2D3/20230314_SM_Lek1_P2D3_DJI_0333.MP4\n",
      "Tracklets already computed /home/vsridhar/DATA/DeepLabCut/projects/05_TerritoryDetectionP2-Vivek-2023-07-10/output/SSD6/20230314/SM_Lek1/P2D3/20230314_SM_Lek1_P2D3_DJI_0333DLC_dlcrnetms5_05_TerritoryDetectionP2Jul10shuffle1_50000_el.pickle\n",
      "Set overwrite = True to overwrite.\n",
      "The tracklets were created (i.e., under the hood deeplabcut.convert_detections2tracklets was run). Now you can 'refine_tracklets' in the GUI, or run 'deeplabcut.stitch_tracklets'.\n",
      "Processing...  /media/vsridhar/T7/Work/Data/BlackbuckAnnotations/P2/downsampled/SSD6/20230314/SM_Lek1/P2D3/20230314_SM_Lek1_P2D3_DJI_0333.MP4\n"
     ]
    },
    {
     "name": "stderr",
     "output_type": "stream",
     "text": [
      "/home/vsridhar/.local/lib/python3.10/site-packages/deeplabcut/refine_training_dataset/stitch.py:138: FutureWarning: Unlike other reduction functions (e.g. `skew`, `kurtosis`), the default behavior of `mode` typically preserves the axis it acts along. In SciPy 1.11.0, this behavior will change: the default value of `keepdims` will become False, the `axis` over which the statistic is taken will be eliminated, and the value None will no longer be accepted. Set `keepdims` to True or False to avoid this warning.\n",
      "  return mode(self.data[..., 3], axis=None, nan_policy=\"omit\")[0][0]\n",
      "100%|█████████████████████████████████████████████████████████████████████████████████████| 40/40 [00:00<00:00, 10823.31it/s]\n",
      "/home/vsridhar/.local/lib/python3.10/site-packages/deeplabcut/refine_training_dataset/stitch.py:690: UserWarning: No optimal solution found. Employing black magic...\n",
      "  warnings.warn(\"No optimal solution found. Employing black magic...\")\n",
      "/home/vsridhar/.local/lib/python3.10/site-packages/deeplabcut/refine_training_dataset/stitch.py:763: UserWarning: Only 40 tracks could be reconstructed.\n",
      "  warnings.warn(f\"Only {len(self.paths)} tracks could be reconstructed.\")\n"
     ]
    },
    {
     "name": "stdout",
     "output_type": "stream",
     "text": [
      "Starting to analyze %  /media/vsridhar/T7/Work/Data/BlackbuckAnnotations/P2/downsampled/SSD6/20230314/SM_Lek1/P2D3/20230314_SM_Lek1_P2D3_DJI_0347.MP4\n",
      "Video already analyzed! /home/vsridhar/DATA/DeepLabCut/projects/05_TerritoryDetectionP2-Vivek-2023-07-10/output/SSD6/20230314/SM_Lek1/P2D3/20230314_SM_Lek1_P2D3_DJI_0347DLC_dlcrnetms5_05_TerritoryDetectionP2Jul10shuffle1_50000.h5\n",
      "Using snapshot-50000 for model /home/vsridhar/DATA/DeepLabCut/projects/05_TerritoryDetectionP2-Vivek-2023-07-10/dlc-models/iteration-0/05_TerritoryDetectionP2Jul10-trainset90shuffle1\n",
      "Processing...  /media/vsridhar/T7/Work/Data/BlackbuckAnnotations/P2/downsampled/SSD6/20230314/SM_Lek1/P2D3/20230314_SM_Lek1_P2D3_DJI_0347.MP4\n",
      "Tracklets already computed /home/vsridhar/DATA/DeepLabCut/projects/05_TerritoryDetectionP2-Vivek-2023-07-10/output/SSD6/20230314/SM_Lek1/P2D3/20230314_SM_Lek1_P2D3_DJI_0347DLC_dlcrnetms5_05_TerritoryDetectionP2Jul10shuffle1_50000_el.pickle\n",
      "Set overwrite = True to overwrite.\n",
      "The tracklets were created (i.e., under the hood deeplabcut.convert_detections2tracklets was run). Now you can 'refine_tracklets' in the GUI, or run 'deeplabcut.stitch_tracklets'.\n",
      "Processing...  /media/vsridhar/T7/Work/Data/BlackbuckAnnotations/P2/downsampled/SSD6/20230314/SM_Lek1/P2D3/20230314_SM_Lek1_P2D3_DJI_0347.MP4\n"
     ]
    },
    {
     "name": "stderr",
     "output_type": "stream",
     "text": [
      "/home/vsridhar/.local/lib/python3.10/site-packages/deeplabcut/refine_training_dataset/stitch.py:138: FutureWarning: Unlike other reduction functions (e.g. `skew`, `kurtosis`), the default behavior of `mode` typically preserves the axis it acts along. In SciPy 1.11.0, this behavior will change: the default value of `keepdims` will become False, the `axis` over which the statistic is taken will be eliminated, and the value None will no longer be accepted. Set `keepdims` to True or False to avoid this warning.\n",
      "  return mode(self.data[..., 3], axis=None, nan_policy=\"omit\")[0][0]\n",
      "100%|██████████████████████████████████████████████████████████████████████████████████████| 86/86 [00:00<00:00, 2097.41it/s]\n"
     ]
    },
    {
     "name": "stdout",
     "output_type": "stream",
     "text": [
      "Starting to analyze %  /media/vsridhar/T7/Work/Data/BlackbuckAnnotations/P2/downsampled/SSD6/20230314/SM_Lek1/P2D3/20230314_SM_Lek1_P2D3_DJI_0336.MP4\n",
      "Video already analyzed! /home/vsridhar/DATA/DeepLabCut/projects/05_TerritoryDetectionP2-Vivek-2023-07-10/output/SSD6/20230314/SM_Lek1/P2D3/20230314_SM_Lek1_P2D3_DJI_0336DLC_dlcrnetms5_05_TerritoryDetectionP2Jul10shuffle1_50000.h5\n",
      "Using snapshot-50000 for model /home/vsridhar/DATA/DeepLabCut/projects/05_TerritoryDetectionP2-Vivek-2023-07-10/dlc-models/iteration-0/05_TerritoryDetectionP2Jul10-trainset90shuffle1\n",
      "Processing...  /media/vsridhar/T7/Work/Data/BlackbuckAnnotations/P2/downsampled/SSD6/20230314/SM_Lek1/P2D3/20230314_SM_Lek1_P2D3_DJI_0336.MP4\n",
      "Tracklets already computed /home/vsridhar/DATA/DeepLabCut/projects/05_TerritoryDetectionP2-Vivek-2023-07-10/output/SSD6/20230314/SM_Lek1/P2D3/20230314_SM_Lek1_P2D3_DJI_0336DLC_dlcrnetms5_05_TerritoryDetectionP2Jul10shuffle1_50000_el.pickle\n",
      "Set overwrite = True to overwrite.\n",
      "The tracklets were created (i.e., under the hood deeplabcut.convert_detections2tracklets was run). Now you can 'refine_tracklets' in the GUI, or run 'deeplabcut.stitch_tracklets'.\n",
      "Processing...  /media/vsridhar/T7/Work/Data/BlackbuckAnnotations/P2/downsampled/SSD6/20230314/SM_Lek1/P2D3/20230314_SM_Lek1_P2D3_DJI_0336.MP4\n"
     ]
    },
    {
     "name": "stderr",
     "output_type": "stream",
     "text": [
      "/home/vsridhar/.local/lib/python3.10/site-packages/deeplabcut/refine_training_dataset/stitch.py:138: FutureWarning: Unlike other reduction functions (e.g. `skew`, `kurtosis`), the default behavior of `mode` typically preserves the axis it acts along. In SciPy 1.11.0, this behavior will change: the default value of `keepdims` will become False, the `axis` over which the statistic is taken will be eliminated, and the value None will no longer be accepted. Set `keepdims` to True or False to avoid this warning.\n",
      "  return mode(self.data[..., 3], axis=None, nan_policy=\"omit\")[0][0]\n",
      "100%|██████████████████████████████████████████████████████████████████████████████████████| 64/64 [00:00<00:00, 9957.54it/s]\n"
     ]
    },
    {
     "name": "stdout",
     "output_type": "stream",
     "text": [
      "Starting to analyze %  /media/vsridhar/T7/Work/Data/BlackbuckAnnotations/P2/downsampled/SSD6/20230314/SM_Lek1/P2D3/20230314_SM_Lek1_P2D3_DJI_0346.MP4\n",
      "Video already analyzed! /home/vsridhar/DATA/DeepLabCut/projects/05_TerritoryDetectionP2-Vivek-2023-07-10/output/SSD6/20230314/SM_Lek1/P2D3/20230314_SM_Lek1_P2D3_DJI_0346DLC_dlcrnetms5_05_TerritoryDetectionP2Jul10shuffle1_50000.h5\n",
      "Using snapshot-50000 for model /home/vsridhar/DATA/DeepLabCut/projects/05_TerritoryDetectionP2-Vivek-2023-07-10/dlc-models/iteration-0/05_TerritoryDetectionP2Jul10-trainset90shuffle1\n",
      "Processing...  /media/vsridhar/T7/Work/Data/BlackbuckAnnotations/P2/downsampled/SSD6/20230314/SM_Lek1/P2D3/20230314_SM_Lek1_P2D3_DJI_0346.MP4\n",
      "Tracklets already computed /home/vsridhar/DATA/DeepLabCut/projects/05_TerritoryDetectionP2-Vivek-2023-07-10/output/SSD6/20230314/SM_Lek1/P2D3/20230314_SM_Lek1_P2D3_DJI_0346DLC_dlcrnetms5_05_TerritoryDetectionP2Jul10shuffle1_50000_el.pickle\n",
      "Set overwrite = True to overwrite.\n",
      "The tracklets were created (i.e., under the hood deeplabcut.convert_detections2tracklets was run). Now you can 'refine_tracklets' in the GUI, or run 'deeplabcut.stitch_tracklets'.\n",
      "Processing...  /media/vsridhar/T7/Work/Data/BlackbuckAnnotations/P2/downsampled/SSD6/20230314/SM_Lek1/P2D3/20230314_SM_Lek1_P2D3_DJI_0346.MP4\n"
     ]
    },
    {
     "name": "stderr",
     "output_type": "stream",
     "text": [
      "/home/vsridhar/.local/lib/python3.10/site-packages/deeplabcut/refine_training_dataset/stitch.py:138: FutureWarning: Unlike other reduction functions (e.g. `skew`, `kurtosis`), the default behavior of `mode` typically preserves the axis it acts along. In SciPy 1.11.0, this behavior will change: the default value of `keepdims` will become False, the `axis` over which the statistic is taken will be eliminated, and the value None will no longer be accepted. Set `keepdims` to True or False to avoid this warning.\n",
      "  return mode(self.data[..., 3], axis=None, nan_policy=\"omit\")[0][0]\n",
      "100%|██████████████████████████████████████████████████████████████████████████████████████| 79/79 [00:00<00:00, 4988.41it/s]\n"
     ]
    },
    {
     "name": "stdout",
     "output_type": "stream",
     "text": [
      "Starting to analyze %  /media/vsridhar/T7/Work/Data/BlackbuckAnnotations/P2/downsampled/SSD6/20230314/SM_Lek1/P2D3/20230314_SM_Lek1_P2D3_DJI_0354.MP4\n",
      "Video already analyzed! /home/vsridhar/DATA/DeepLabCut/projects/05_TerritoryDetectionP2-Vivek-2023-07-10/output/SSD6/20230314/SM_Lek1/P2D3/20230314_SM_Lek1_P2D3_DJI_0354DLC_dlcrnetms5_05_TerritoryDetectionP2Jul10shuffle1_50000.h5\n",
      "Using snapshot-50000 for model /home/vsridhar/DATA/DeepLabCut/projects/05_TerritoryDetectionP2-Vivek-2023-07-10/dlc-models/iteration-0/05_TerritoryDetectionP2Jul10-trainset90shuffle1\n",
      "Processing...  /media/vsridhar/T7/Work/Data/BlackbuckAnnotations/P2/downsampled/SSD6/20230314/SM_Lek1/P2D3/20230314_SM_Lek1_P2D3_DJI_0354.MP4\n",
      "Tracklets already computed /home/vsridhar/DATA/DeepLabCut/projects/05_TerritoryDetectionP2-Vivek-2023-07-10/output/SSD6/20230314/SM_Lek1/P2D3/20230314_SM_Lek1_P2D3_DJI_0354DLC_dlcrnetms5_05_TerritoryDetectionP2Jul10shuffle1_50000_el.pickle\n",
      "Set overwrite = True to overwrite.\n",
      "The tracklets were created (i.e., under the hood deeplabcut.convert_detections2tracklets was run). Now you can 'refine_tracklets' in the GUI, or run 'deeplabcut.stitch_tracklets'.\n",
      "Processing...  /media/vsridhar/T7/Work/Data/BlackbuckAnnotations/P2/downsampled/SSD6/20230314/SM_Lek1/P2D3/20230314_SM_Lek1_P2D3_DJI_0354.MP4\n"
     ]
    },
    {
     "name": "stderr",
     "output_type": "stream",
     "text": [
      "/home/vsridhar/.local/lib/python3.10/site-packages/deeplabcut/refine_training_dataset/stitch.py:138: FutureWarning: Unlike other reduction functions (e.g. `skew`, `kurtosis`), the default behavior of `mode` typically preserves the axis it acts along. In SciPy 1.11.0, this behavior will change: the default value of `keepdims` will become False, the `axis` over which the statistic is taken will be eliminated, and the value None will no longer be accepted. Set `keepdims` to True or False to avoid this warning.\n",
      "  return mode(self.data[..., 3], axis=None, nan_policy=\"omit\")[0][0]\n",
      "100%|████████████████████████████████████████████████████████████████████████████████████| 129/129 [00:00<00:00, 1457.17it/s]\n"
     ]
    },
    {
     "name": "stdout",
     "output_type": "stream",
     "text": [
      "Starting to analyze %  /media/vsridhar/T7/Work/Data/BlackbuckAnnotations/P2/downsampled/SSD6/20230314/SM_Lek1/P2D3/20230314_SM_Lek1_P2D3_DJI_0341.MP4\n",
      "Video already analyzed! /home/vsridhar/DATA/DeepLabCut/projects/05_TerritoryDetectionP2-Vivek-2023-07-10/output/SSD6/20230314/SM_Lek1/P2D3/20230314_SM_Lek1_P2D3_DJI_0341DLC_dlcrnetms5_05_TerritoryDetectionP2Jul10shuffle1_50000.h5\n",
      "Using snapshot-50000 for model /home/vsridhar/DATA/DeepLabCut/projects/05_TerritoryDetectionP2-Vivek-2023-07-10/dlc-models/iteration-0/05_TerritoryDetectionP2Jul10-trainset90shuffle1\n",
      "Processing...  /media/vsridhar/T7/Work/Data/BlackbuckAnnotations/P2/downsampled/SSD6/20230314/SM_Lek1/P2D3/20230314_SM_Lek1_P2D3_DJI_0341.MP4\n",
      "Tracklets already computed /home/vsridhar/DATA/DeepLabCut/projects/05_TerritoryDetectionP2-Vivek-2023-07-10/output/SSD6/20230314/SM_Lek1/P2D3/20230314_SM_Lek1_P2D3_DJI_0341DLC_dlcrnetms5_05_TerritoryDetectionP2Jul10shuffle1_50000_el.pickle\n",
      "Set overwrite = True to overwrite.\n",
      "The tracklets were created (i.e., under the hood deeplabcut.convert_detections2tracklets was run). Now you can 'refine_tracklets' in the GUI, or run 'deeplabcut.stitch_tracklets'.\n",
      "Processing...  /media/vsridhar/T7/Work/Data/BlackbuckAnnotations/P2/downsampled/SSD6/20230314/SM_Lek1/P2D3/20230314_SM_Lek1_P2D3_DJI_0341.MP4\n"
     ]
    },
    {
     "name": "stderr",
     "output_type": "stream",
     "text": [
      "/home/vsridhar/.local/lib/python3.10/site-packages/deeplabcut/refine_training_dataset/stitch.py:138: FutureWarning: Unlike other reduction functions (e.g. `skew`, `kurtosis`), the default behavior of `mode` typically preserves the axis it acts along. In SciPy 1.11.0, this behavior will change: the default value of `keepdims` will become False, the `axis` over which the statistic is taken will be eliminated, and the value None will no longer be accepted. Set `keepdims` to True or False to avoid this warning.\n",
      "  return mode(self.data[..., 3], axis=None, nan_policy=\"omit\")[0][0]\n",
      "100%|█████████████████████████████████████████████████████████████████████████████████████| 42/42 [00:00<00:00, 21260.05it/s]\n",
      "/home/vsridhar/.local/lib/python3.10/site-packages/deeplabcut/refine_training_dataset/stitch.py:690: UserWarning: No optimal solution found. Employing black magic...\n",
      "  warnings.warn(\"No optimal solution found. Employing black magic...\")\n",
      "/home/vsridhar/.local/lib/python3.10/site-packages/deeplabcut/refine_training_dataset/stitch.py:763: UserWarning: Only 42 tracks could be reconstructed.\n",
      "  warnings.warn(f\"Only {len(self.paths)} tracks could be reconstructed.\")\n"
     ]
    },
    {
     "name": "stdout",
     "output_type": "stream",
     "text": [
      "Starting to analyze %  /media/vsridhar/T7/Work/Data/BlackbuckAnnotations/P2/downsampled/SSD6/20230314/SM_Lek1/P2D3/20230314_SM_Lek1_P2D3_DJI_0352.MP4\n",
      "Video already analyzed! /home/vsridhar/DATA/DeepLabCut/projects/05_TerritoryDetectionP2-Vivek-2023-07-10/output/SSD6/20230314/SM_Lek1/P2D3/20230314_SM_Lek1_P2D3_DJI_0352DLC_dlcrnetms5_05_TerritoryDetectionP2Jul10shuffle1_50000.h5\n",
      "Using snapshot-50000 for model /home/vsridhar/DATA/DeepLabCut/projects/05_TerritoryDetectionP2-Vivek-2023-07-10/dlc-models/iteration-0/05_TerritoryDetectionP2Jul10-trainset90shuffle1\n",
      "Processing...  /media/vsridhar/T7/Work/Data/BlackbuckAnnotations/P2/downsampled/SSD6/20230314/SM_Lek1/P2D3/20230314_SM_Lek1_P2D3_DJI_0352.MP4\n",
      "Tracklets already computed /home/vsridhar/DATA/DeepLabCut/projects/05_TerritoryDetectionP2-Vivek-2023-07-10/output/SSD6/20230314/SM_Lek1/P2D3/20230314_SM_Lek1_P2D3_DJI_0352DLC_dlcrnetms5_05_TerritoryDetectionP2Jul10shuffle1_50000_el.pickle\n",
      "Set overwrite = True to overwrite.\n",
      "The tracklets were created (i.e., under the hood deeplabcut.convert_detections2tracklets was run). Now you can 'refine_tracklets' in the GUI, or run 'deeplabcut.stitch_tracklets'.\n",
      "Processing...  /media/vsridhar/T7/Work/Data/BlackbuckAnnotations/P2/downsampled/SSD6/20230314/SM_Lek1/P2D3/20230314_SM_Lek1_P2D3_DJI_0352.MP4\n"
     ]
    },
    {
     "name": "stderr",
     "output_type": "stream",
     "text": [
      "/home/vsridhar/.local/lib/python3.10/site-packages/deeplabcut/refine_training_dataset/stitch.py:138: FutureWarning: Unlike other reduction functions (e.g. `skew`, `kurtosis`), the default behavior of `mode` typically preserves the axis it acts along. In SciPy 1.11.0, this behavior will change: the default value of `keepdims` will become False, the `axis` over which the statistic is taken will be eliminated, and the value None will no longer be accepted. Set `keepdims` to True or False to avoid this warning.\n",
      "  return mode(self.data[..., 3], axis=None, nan_policy=\"omit\")[0][0]\n",
      "100%|████████████████████████████████████████████████████████████████████████████████████| 117/117 [00:00<00:00, 2007.24it/s]\n"
     ]
    },
    {
     "name": "stdout",
     "output_type": "stream",
     "text": [
      "Starting to analyze %  /media/vsridhar/T7/Work/Data/BlackbuckAnnotations/P2/downsampled/SSD6/20230314/SM_Lek1/P2D3/20230314_SM_Lek1_P2D3_DJI_0339.MP4\n",
      "Video already analyzed! /home/vsridhar/DATA/DeepLabCut/projects/05_TerritoryDetectionP2-Vivek-2023-07-10/output/SSD6/20230314/SM_Lek1/P2D3/20230314_SM_Lek1_P2D3_DJI_0339DLC_dlcrnetms5_05_TerritoryDetectionP2Jul10shuffle1_50000.h5\n",
      "Using snapshot-50000 for model /home/vsridhar/DATA/DeepLabCut/projects/05_TerritoryDetectionP2-Vivek-2023-07-10/dlc-models/iteration-0/05_TerritoryDetectionP2Jul10-trainset90shuffle1\n",
      "Processing...  /media/vsridhar/T7/Work/Data/BlackbuckAnnotations/P2/downsampled/SSD6/20230314/SM_Lek1/P2D3/20230314_SM_Lek1_P2D3_DJI_0339.MP4\n",
      "Tracklets already computed /home/vsridhar/DATA/DeepLabCut/projects/05_TerritoryDetectionP2-Vivek-2023-07-10/output/SSD6/20230314/SM_Lek1/P2D3/20230314_SM_Lek1_P2D3_DJI_0339DLC_dlcrnetms5_05_TerritoryDetectionP2Jul10shuffle1_50000_el.pickle\n",
      "Set overwrite = True to overwrite.\n",
      "The tracklets were created (i.e., under the hood deeplabcut.convert_detections2tracklets was run). Now you can 'refine_tracklets' in the GUI, or run 'deeplabcut.stitch_tracklets'.\n",
      "Processing...  /media/vsridhar/T7/Work/Data/BlackbuckAnnotations/P2/downsampled/SSD6/20230314/SM_Lek1/P2D3/20230314_SM_Lek1_P2D3_DJI_0339.MP4\n"
     ]
    },
    {
     "name": "stderr",
     "output_type": "stream",
     "text": [
      "/home/vsridhar/.local/lib/python3.10/site-packages/deeplabcut/refine_training_dataset/stitch.py:138: FutureWarning: Unlike other reduction functions (e.g. `skew`, `kurtosis`), the default behavior of `mode` typically preserves the axis it acts along. In SciPy 1.11.0, this behavior will change: the default value of `keepdims` will become False, the `axis` over which the statistic is taken will be eliminated, and the value None will no longer be accepted. Set `keepdims` to True or False to avoid this warning.\n",
      "  return mode(self.data[..., 3], axis=None, nan_policy=\"omit\")[0][0]\n",
      "100%|█████████████████████████████████████████████████████████████████████████████████████| 50/50 [00:00<00:00, 13107.20it/s]\n",
      "/home/vsridhar/.local/lib/python3.10/site-packages/deeplabcut/refine_training_dataset/stitch.py:690: UserWarning: No optimal solution found. Employing black magic...\n",
      "  warnings.warn(\"No optimal solution found. Employing black magic...\")\n",
      "/home/vsridhar/.local/lib/python3.10/site-packages/deeplabcut/refine_training_dataset/stitch.py:763: UserWarning: Only 50 tracks could be reconstructed.\n",
      "  warnings.warn(f\"Only {len(self.paths)} tracks could be reconstructed.\")\n"
     ]
    },
    {
     "name": "stdout",
     "output_type": "stream",
     "text": [
      "Starting to analyze %  /media/vsridhar/T7/Work/Data/BlackbuckAnnotations/P2/downsampled/SSD6/20230314/SM_Lek1/P2D3/20230314_SM_Lek1_P2D3_DJI_0337.MP4\n",
      "Video already analyzed! /home/vsridhar/DATA/DeepLabCut/projects/05_TerritoryDetectionP2-Vivek-2023-07-10/output/SSD6/20230314/SM_Lek1/P2D3/20230314_SM_Lek1_P2D3_DJI_0337DLC_dlcrnetms5_05_TerritoryDetectionP2Jul10shuffle1_50000.h5\n",
      "Using snapshot-50000 for model /home/vsridhar/DATA/DeepLabCut/projects/05_TerritoryDetectionP2-Vivek-2023-07-10/dlc-models/iteration-0/05_TerritoryDetectionP2Jul10-trainset90shuffle1\n",
      "Processing...  /media/vsridhar/T7/Work/Data/BlackbuckAnnotations/P2/downsampled/SSD6/20230314/SM_Lek1/P2D3/20230314_SM_Lek1_P2D3_DJI_0337.MP4\n",
      "Tracklets already computed /home/vsridhar/DATA/DeepLabCut/projects/05_TerritoryDetectionP2-Vivek-2023-07-10/output/SSD6/20230314/SM_Lek1/P2D3/20230314_SM_Lek1_P2D3_DJI_0337DLC_dlcrnetms5_05_TerritoryDetectionP2Jul10shuffle1_50000_el.pickle\n",
      "Set overwrite = True to overwrite.\n",
      "The tracklets were created (i.e., under the hood deeplabcut.convert_detections2tracklets was run). Now you can 'refine_tracklets' in the GUI, or run 'deeplabcut.stitch_tracklets'.\n",
      "Processing...  /media/vsridhar/T7/Work/Data/BlackbuckAnnotations/P2/downsampled/SSD6/20230314/SM_Lek1/P2D3/20230314_SM_Lek1_P2D3_DJI_0337.MP4\n"
     ]
    },
    {
     "name": "stderr",
     "output_type": "stream",
     "text": [
      "/home/vsridhar/.local/lib/python3.10/site-packages/deeplabcut/refine_training_dataset/stitch.py:138: FutureWarning: Unlike other reduction functions (e.g. `skew`, `kurtosis`), the default behavior of `mode` typically preserves the axis it acts along. In SciPy 1.11.0, this behavior will change: the default value of `keepdims` will become False, the `axis` over which the statistic is taken will be eliminated, and the value None will no longer be accepted. Set `keepdims` to True or False to avoid this warning.\n",
      "  return mode(self.data[..., 3], axis=None, nan_policy=\"omit\")[0][0]\n",
      "100%|██████████████████████████████████████████████████████████████████████████████████████| 81/81 [00:00<00:00, 2563.19it/s]\n"
     ]
    },
    {
     "name": "stdout",
     "output_type": "stream",
     "text": [
      "Starting to analyze %  /media/vsridhar/T7/Work/Data/BlackbuckAnnotations/P2/downsampled/SSD6/20230314/SM_Lek1/P2D3/20230314_SM_Lek1_P2D3_DJI_0345.MP4\n",
      "Video already analyzed! /home/vsridhar/DATA/DeepLabCut/projects/05_TerritoryDetectionP2-Vivek-2023-07-10/output/SSD6/20230314/SM_Lek1/P2D3/20230314_SM_Lek1_P2D3_DJI_0345DLC_dlcrnetms5_05_TerritoryDetectionP2Jul10shuffle1_50000.h5\n",
      "Using snapshot-50000 for model /home/vsridhar/DATA/DeepLabCut/projects/05_TerritoryDetectionP2-Vivek-2023-07-10/dlc-models/iteration-0/05_TerritoryDetectionP2Jul10-trainset90shuffle1\n",
      "Processing...  /media/vsridhar/T7/Work/Data/BlackbuckAnnotations/P2/downsampled/SSD6/20230314/SM_Lek1/P2D3/20230314_SM_Lek1_P2D3_DJI_0345.MP4\n",
      "Tracklets already computed /home/vsridhar/DATA/DeepLabCut/projects/05_TerritoryDetectionP2-Vivek-2023-07-10/output/SSD6/20230314/SM_Lek1/P2D3/20230314_SM_Lek1_P2D3_DJI_0345DLC_dlcrnetms5_05_TerritoryDetectionP2Jul10shuffle1_50000_el.pickle\n",
      "Set overwrite = True to overwrite.\n",
      "The tracklets were created (i.e., under the hood deeplabcut.convert_detections2tracklets was run). Now you can 'refine_tracklets' in the GUI, or run 'deeplabcut.stitch_tracklets'.\n",
      "Processing...  /media/vsridhar/T7/Work/Data/BlackbuckAnnotations/P2/downsampled/SSD6/20230314/SM_Lek1/P2D3/20230314_SM_Lek1_P2D3_DJI_0345.MP4\n"
     ]
    },
    {
     "name": "stderr",
     "output_type": "stream",
     "text": [
      "/home/vsridhar/.local/lib/python3.10/site-packages/deeplabcut/refine_training_dataset/stitch.py:138: FutureWarning: Unlike other reduction functions (e.g. `skew`, `kurtosis`), the default behavior of `mode` typically preserves the axis it acts along. In SciPy 1.11.0, this behavior will change: the default value of `keepdims` will become False, the `axis` over which the statistic is taken will be eliminated, and the value None will no longer be accepted. Set `keepdims` to True or False to avoid this warning.\n",
      "  return mode(self.data[..., 3], axis=None, nan_policy=\"omit\")[0][0]\n",
      "100%|████████████████████████████████████████████████████████████████████████████████████| 210/210 [00:00<00:00, 3191.63it/s]\n"
     ]
    },
    {
     "name": "stdout",
     "output_type": "stream",
     "text": [
      "Starting to analyze %  /media/vsridhar/T7/Work/Data/BlackbuckAnnotations/P2/downsampled/SSD6/20230314/SM_Lek1/P2D3/20230314_SM_Lek1_P2D3_DJI_0344.MP4\n",
      "Video already analyzed! /home/vsridhar/DATA/DeepLabCut/projects/05_TerritoryDetectionP2-Vivek-2023-07-10/output/SSD6/20230314/SM_Lek1/P2D3/20230314_SM_Lek1_P2D3_DJI_0344DLC_dlcrnetms5_05_TerritoryDetectionP2Jul10shuffle1_50000.h5\n",
      "Using snapshot-50000 for model /home/vsridhar/DATA/DeepLabCut/projects/05_TerritoryDetectionP2-Vivek-2023-07-10/dlc-models/iteration-0/05_TerritoryDetectionP2Jul10-trainset90shuffle1\n",
      "Processing...  /media/vsridhar/T7/Work/Data/BlackbuckAnnotations/P2/downsampled/SSD6/20230314/SM_Lek1/P2D3/20230314_SM_Lek1_P2D3_DJI_0344.MP4\n",
      "Tracklets already computed /home/vsridhar/DATA/DeepLabCut/projects/05_TerritoryDetectionP2-Vivek-2023-07-10/output/SSD6/20230314/SM_Lek1/P2D3/20230314_SM_Lek1_P2D3_DJI_0344DLC_dlcrnetms5_05_TerritoryDetectionP2Jul10shuffle1_50000_el.pickle\n",
      "Set overwrite = True to overwrite.\n",
      "The tracklets were created (i.e., under the hood deeplabcut.convert_detections2tracklets was run). Now you can 'refine_tracklets' in the GUI, or run 'deeplabcut.stitch_tracklets'.\n",
      "Processing...  /media/vsridhar/T7/Work/Data/BlackbuckAnnotations/P2/downsampled/SSD6/20230314/SM_Lek1/P2D3/20230314_SM_Lek1_P2D3_DJI_0344.MP4\n"
     ]
    },
    {
     "name": "stderr",
     "output_type": "stream",
     "text": [
      "/home/vsridhar/.local/lib/python3.10/site-packages/deeplabcut/refine_training_dataset/stitch.py:138: FutureWarning: Unlike other reduction functions (e.g. `skew`, `kurtosis`), the default behavior of `mode` typically preserves the axis it acts along. In SciPy 1.11.0, this behavior will change: the default value of `keepdims` will become False, the `axis` over which the statistic is taken will be eliminated, and the value None will no longer be accepted. Set `keepdims` to True or False to avoid this warning.\n",
      "  return mode(self.data[..., 3], axis=None, nan_policy=\"omit\")[0][0]\n",
      "100%|████████████████████████████████████████████████████████████████████████████████████| 157/157 [00:00<00:00, 1280.33it/s]\n"
     ]
    },
    {
     "name": "stdout",
     "output_type": "stream",
     "text": [
      "Starting to analyze %  /media/vsridhar/T7/Work/Data/BlackbuckAnnotations/P2/downsampled/SSD6/20230314/SM_Lek1/P2D3/20230314_SM_Lek1_P2D3_DJI_0340.MP4\n",
      "Video already analyzed! /home/vsridhar/DATA/DeepLabCut/projects/05_TerritoryDetectionP2-Vivek-2023-07-10/output/SSD6/20230314/SM_Lek1/P2D3/20230314_SM_Lek1_P2D3_DJI_0340DLC_dlcrnetms5_05_TerritoryDetectionP2Jul10shuffle1_50000.h5\n",
      "Using snapshot-50000 for model /home/vsridhar/DATA/DeepLabCut/projects/05_TerritoryDetectionP2-Vivek-2023-07-10/dlc-models/iteration-0/05_TerritoryDetectionP2Jul10-trainset90shuffle1\n",
      "Processing...  /media/vsridhar/T7/Work/Data/BlackbuckAnnotations/P2/downsampled/SSD6/20230314/SM_Lek1/P2D3/20230314_SM_Lek1_P2D3_DJI_0340.MP4\n",
      "Tracklets already computed /home/vsridhar/DATA/DeepLabCut/projects/05_TerritoryDetectionP2-Vivek-2023-07-10/output/SSD6/20230314/SM_Lek1/P2D3/20230314_SM_Lek1_P2D3_DJI_0340DLC_dlcrnetms5_05_TerritoryDetectionP2Jul10shuffle1_50000_el.pickle\n",
      "Set overwrite = True to overwrite.\n",
      "The tracklets were created (i.e., under the hood deeplabcut.convert_detections2tracklets was run). Now you can 'refine_tracklets' in the GUI, or run 'deeplabcut.stitch_tracklets'.\n",
      "Processing...  /media/vsridhar/T7/Work/Data/BlackbuckAnnotations/P2/downsampled/SSD6/20230314/SM_Lek1/P2D3/20230314_SM_Lek1_P2D3_DJI_0340.MP4\n"
     ]
    },
    {
     "name": "stderr",
     "output_type": "stream",
     "text": [
      "/home/vsridhar/.local/lib/python3.10/site-packages/deeplabcut/refine_training_dataset/stitch.py:138: FutureWarning: Unlike other reduction functions (e.g. `skew`, `kurtosis`), the default behavior of `mode` typically preserves the axis it acts along. In SciPy 1.11.0, this behavior will change: the default value of `keepdims` will become False, the `axis` over which the statistic is taken will be eliminated, and the value None will no longer be accepted. Set `keepdims` to True or False to avoid this warning.\n",
      "  return mode(self.data[..., 3], axis=None, nan_policy=\"omit\")[0][0]\n",
      "100%|█████████████████████████████████████████████████████████████████████████████████████| 43/43 [00:00<00:00, 27027.58it/s]\n",
      "/home/vsridhar/.local/lib/python3.10/site-packages/deeplabcut/refine_training_dataset/stitch.py:690: UserWarning: No optimal solution found. Employing black magic...\n",
      "  warnings.warn(\"No optimal solution found. Employing black magic...\")\n",
      "/home/vsridhar/.local/lib/python3.10/site-packages/deeplabcut/refine_training_dataset/stitch.py:763: UserWarning: Only 43 tracks could be reconstructed.\n",
      "  warnings.warn(f\"Only {len(self.paths)} tracks could be reconstructed.\")\n"
     ]
    },
    {
     "name": "stdout",
     "output_type": "stream",
     "text": [
      "Starting to analyze %  /media/vsridhar/T7/Work/Data/BlackbuckAnnotations/P2/downsampled/SSD6/20230314/SM_Lek1/P2D3/20230314_SM_Lek1_P2D3_DJI_0348.MP4\n",
      "Video already analyzed! /home/vsridhar/DATA/DeepLabCut/projects/05_TerritoryDetectionP2-Vivek-2023-07-10/output/SSD6/20230314/SM_Lek1/P2D3/20230314_SM_Lek1_P2D3_DJI_0348DLC_dlcrnetms5_05_TerritoryDetectionP2Jul10shuffle1_50000.h5\n",
      "Using snapshot-50000 for model /home/vsridhar/DATA/DeepLabCut/projects/05_TerritoryDetectionP2-Vivek-2023-07-10/dlc-models/iteration-0/05_TerritoryDetectionP2Jul10-trainset90shuffle1\n",
      "Processing...  /media/vsridhar/T7/Work/Data/BlackbuckAnnotations/P2/downsampled/SSD6/20230314/SM_Lek1/P2D3/20230314_SM_Lek1_P2D3_DJI_0348.MP4\n",
      "Tracklets already computed /home/vsridhar/DATA/DeepLabCut/projects/05_TerritoryDetectionP2-Vivek-2023-07-10/output/SSD6/20230314/SM_Lek1/P2D3/20230314_SM_Lek1_P2D3_DJI_0348DLC_dlcrnetms5_05_TerritoryDetectionP2Jul10shuffle1_50000_el.pickle\n",
      "Set overwrite = True to overwrite.\n",
      "The tracklets were created (i.e., under the hood deeplabcut.convert_detections2tracklets was run). Now you can 'refine_tracklets' in the GUI, or run 'deeplabcut.stitch_tracklets'.\n",
      "Processing...  /media/vsridhar/T7/Work/Data/BlackbuckAnnotations/P2/downsampled/SSD6/20230314/SM_Lek1/P2D3/20230314_SM_Lek1_P2D3_DJI_0348.MP4\n"
     ]
    },
    {
     "name": "stderr",
     "output_type": "stream",
     "text": [
      "/home/vsridhar/.local/lib/python3.10/site-packages/deeplabcut/refine_training_dataset/stitch.py:138: FutureWarning: Unlike other reduction functions (e.g. `skew`, `kurtosis`), the default behavior of `mode` typically preserves the axis it acts along. In SciPy 1.11.0, this behavior will change: the default value of `keepdims` will become False, the `axis` over which the statistic is taken will be eliminated, and the value None will no longer be accepted. Set `keepdims` to True or False to avoid this warning.\n",
      "  return mode(self.data[..., 3], axis=None, nan_policy=\"omit\")[0][0]\n",
      "100%|██████████████████████████████████████████████████████████████████████████████████████| 45/45 [00:00<00:00, 8043.63it/s]\n",
      "/home/vsridhar/.local/lib/python3.10/site-packages/deeplabcut/refine_training_dataset/stitch.py:690: UserWarning: No optimal solution found. Employing black magic...\n",
      "  warnings.warn(\"No optimal solution found. Employing black magic...\")\n",
      "/home/vsridhar/.local/lib/python3.10/site-packages/deeplabcut/refine_training_dataset/stitch.py:763: UserWarning: Only 45 tracks could be reconstructed.\n",
      "  warnings.warn(f\"Only {len(self.paths)} tracks could be reconstructed.\")\n"
     ]
    },
    {
     "name": "stdout",
     "output_type": "stream",
     "text": [
      "Starting to analyze %  /media/vsridhar/T7/Work/Data/BlackbuckAnnotations/P2/downsampled/SSD6/20230314/SM_Lek1/P2D3/20230314_SM_Lek1_P2D3_DJI_0350.MP4\n",
      "Video already analyzed! /home/vsridhar/DATA/DeepLabCut/projects/05_TerritoryDetectionP2-Vivek-2023-07-10/output/SSD6/20230314/SM_Lek1/P2D3/20230314_SM_Lek1_P2D3_DJI_0350DLC_dlcrnetms5_05_TerritoryDetectionP2Jul10shuffle1_50000.h5\n",
      "Using snapshot-50000 for model /home/vsridhar/DATA/DeepLabCut/projects/05_TerritoryDetectionP2-Vivek-2023-07-10/dlc-models/iteration-0/05_TerritoryDetectionP2Jul10-trainset90shuffle1\n",
      "Processing...  /media/vsridhar/T7/Work/Data/BlackbuckAnnotations/P2/downsampled/SSD6/20230314/SM_Lek1/P2D3/20230314_SM_Lek1_P2D3_DJI_0350.MP4\n",
      "Tracklets already computed /home/vsridhar/DATA/DeepLabCut/projects/05_TerritoryDetectionP2-Vivek-2023-07-10/output/SSD6/20230314/SM_Lek1/P2D3/20230314_SM_Lek1_P2D3_DJI_0350DLC_dlcrnetms5_05_TerritoryDetectionP2Jul10shuffle1_50000_el.pickle\n",
      "Set overwrite = True to overwrite.\n",
      "The tracklets were created (i.e., under the hood deeplabcut.convert_detections2tracklets was run). Now you can 'refine_tracklets' in the GUI, or run 'deeplabcut.stitch_tracklets'.\n",
      "Processing...  /media/vsridhar/T7/Work/Data/BlackbuckAnnotations/P2/downsampled/SSD6/20230314/SM_Lek1/P2D3/20230314_SM_Lek1_P2D3_DJI_0350.MP4\n"
     ]
    },
    {
     "name": "stderr",
     "output_type": "stream",
     "text": [
      "/home/vsridhar/.local/lib/python3.10/site-packages/deeplabcut/refine_training_dataset/stitch.py:138: FutureWarning: Unlike other reduction functions (e.g. `skew`, `kurtosis`), the default behavior of `mode` typically preserves the axis it acts along. In SciPy 1.11.0, this behavior will change: the default value of `keepdims` will become False, the `axis` over which the statistic is taken will be eliminated, and the value None will no longer be accepted. Set `keepdims` to True or False to avoid this warning.\n",
      "  return mode(self.data[..., 3], axis=None, nan_policy=\"omit\")[0][0]\n",
      "100%|██████████████████████████████████████████████████████████████████████████████████████| 60/60 [00:00<00:00, 7638.51it/s]\n"
     ]
    },
    {
     "name": "stdout",
     "output_type": "stream",
     "text": [
      "Starting to analyze %  /media/vsridhar/T7/Work/Data/BlackbuckAnnotations/P2/downsampled/SSD6/20230314/SM_Lek1/P2D3/20230314_SM_Lek1_P2D3_DJI_0334.MP4\n",
      "Video already analyzed! /home/vsridhar/DATA/DeepLabCut/projects/05_TerritoryDetectionP2-Vivek-2023-07-10/output/SSD6/20230314/SM_Lek1/P2D3/20230314_SM_Lek1_P2D3_DJI_0334DLC_dlcrnetms5_05_TerritoryDetectionP2Jul10shuffle1_50000.h5\n",
      "Using snapshot-50000 for model /home/vsridhar/DATA/DeepLabCut/projects/05_TerritoryDetectionP2-Vivek-2023-07-10/dlc-models/iteration-0/05_TerritoryDetectionP2Jul10-trainset90shuffle1\n",
      "Processing...  /media/vsridhar/T7/Work/Data/BlackbuckAnnotations/P2/downsampled/SSD6/20230314/SM_Lek1/P2D3/20230314_SM_Lek1_P2D3_DJI_0334.MP4\n",
      "Tracklets already computed /home/vsridhar/DATA/DeepLabCut/projects/05_TerritoryDetectionP2-Vivek-2023-07-10/output/SSD6/20230314/SM_Lek1/P2D3/20230314_SM_Lek1_P2D3_DJI_0334DLC_dlcrnetms5_05_TerritoryDetectionP2Jul10shuffle1_50000_el.pickle\n",
      "Set overwrite = True to overwrite.\n",
      "The tracklets were created (i.e., under the hood deeplabcut.convert_detections2tracklets was run). Now you can 'refine_tracklets' in the GUI, or run 'deeplabcut.stitch_tracklets'.\n",
      "Processing...  /media/vsridhar/T7/Work/Data/BlackbuckAnnotations/P2/downsampled/SSD6/20230314/SM_Lek1/P2D3/20230314_SM_Lek1_P2D3_DJI_0334.MP4\n"
     ]
    },
    {
     "name": "stderr",
     "output_type": "stream",
     "text": [
      "/home/vsridhar/.local/lib/python3.10/site-packages/deeplabcut/refine_training_dataset/stitch.py:138: FutureWarning: Unlike other reduction functions (e.g. `skew`, `kurtosis`), the default behavior of `mode` typically preserves the axis it acts along. In SciPy 1.11.0, this behavior will change: the default value of `keepdims` will become False, the `axis` over which the statistic is taken will be eliminated, and the value None will no longer be accepted. Set `keepdims` to True or False to avoid this warning.\n",
      "  return mode(self.data[..., 3], axis=None, nan_policy=\"omit\")[0][0]\n",
      "100%|██████████████████████████████████████████████████████████████████████████████████████| 47/47 [00:00<00:00, 8091.13it/s]\n",
      "/home/vsridhar/.local/lib/python3.10/site-packages/deeplabcut/refine_training_dataset/stitch.py:690: UserWarning: No optimal solution found. Employing black magic...\n",
      "  warnings.warn(\"No optimal solution found. Employing black magic...\")\n",
      "/home/vsridhar/.local/lib/python3.10/site-packages/deeplabcut/refine_training_dataset/stitch.py:763: UserWarning: Only 47 tracks could be reconstructed.\n",
      "  warnings.warn(f\"Only {len(self.paths)} tracks could be reconstructed.\")\n"
     ]
    },
    {
     "name": "stdout",
     "output_type": "stream",
     "text": [
      "Starting to analyze %  /media/vsridhar/T7/Work/Data/BlackbuckAnnotations/P2/downsampled/SSD6/20230314/SM_Lek1/P2D3/20230314_SM_Lek1_P2D3_DJI_0356.MP4\n",
      "Video already analyzed! /home/vsridhar/DATA/DeepLabCut/projects/05_TerritoryDetectionP2-Vivek-2023-07-10/output/SSD6/20230314/SM_Lek1/P2D3/20230314_SM_Lek1_P2D3_DJI_0356DLC_dlcrnetms5_05_TerritoryDetectionP2Jul10shuffle1_50000.h5\n",
      "Using snapshot-50000 for model /home/vsridhar/DATA/DeepLabCut/projects/05_TerritoryDetectionP2-Vivek-2023-07-10/dlc-models/iteration-0/05_TerritoryDetectionP2Jul10-trainset90shuffle1\n",
      "Processing...  /media/vsridhar/T7/Work/Data/BlackbuckAnnotations/P2/downsampled/SSD6/20230314/SM_Lek1/P2D3/20230314_SM_Lek1_P2D3_DJI_0356.MP4\n",
      "Tracklets already computed /home/vsridhar/DATA/DeepLabCut/projects/05_TerritoryDetectionP2-Vivek-2023-07-10/output/SSD6/20230314/SM_Lek1/P2D3/20230314_SM_Lek1_P2D3_DJI_0356DLC_dlcrnetms5_05_TerritoryDetectionP2Jul10shuffle1_50000_el.pickle\n",
      "Set overwrite = True to overwrite.\n",
      "The tracklets were created (i.e., under the hood deeplabcut.convert_detections2tracklets was run). Now you can 'refine_tracklets' in the GUI, or run 'deeplabcut.stitch_tracklets'.\n",
      "Processing...  /media/vsridhar/T7/Work/Data/BlackbuckAnnotations/P2/downsampled/SSD6/20230314/SM_Lek1/P2D3/20230314_SM_Lek1_P2D3_DJI_0356.MP4\n"
     ]
    },
    {
     "name": "stderr",
     "output_type": "stream",
     "text": [
      "/home/vsridhar/.local/lib/python3.10/site-packages/deeplabcut/refine_training_dataset/stitch.py:138: FutureWarning: Unlike other reduction functions (e.g. `skew`, `kurtosis`), the default behavior of `mode` typically preserves the axis it acts along. In SciPy 1.11.0, this behavior will change: the default value of `keepdims` will become False, the `axis` over which the statistic is taken will be eliminated, and the value None will no longer be accepted. Set `keepdims` to True or False to avoid this warning.\n",
      "  return mode(self.data[..., 3], axis=None, nan_policy=\"omit\")[0][0]\n",
      "100%|██████████████████████████████████████████████████████████████████████████████████████| 91/91 [00:00<00:00, 3761.97it/s]\n"
     ]
    },
    {
     "name": "stdout",
     "output_type": "stream",
     "text": [
      "Starting to analyze %  /media/vsridhar/T7/Work/Data/BlackbuckAnnotations/P2/downsampled/SSD6/20230314/SM_Lek1/P2D3/20230314_SM_Lek1_P2D3_DJI_0332.MP4\n",
      "Video already analyzed! /home/vsridhar/DATA/DeepLabCut/projects/05_TerritoryDetectionP2-Vivek-2023-07-10/output/SSD6/20230314/SM_Lek1/P2D3/20230314_SM_Lek1_P2D3_DJI_0332DLC_dlcrnetms5_05_TerritoryDetectionP2Jul10shuffle1_50000.h5\n",
      "Using snapshot-50000 for model /home/vsridhar/DATA/DeepLabCut/projects/05_TerritoryDetectionP2-Vivek-2023-07-10/dlc-models/iteration-0/05_TerritoryDetectionP2Jul10-trainset90shuffle1\n",
      "Processing...  /media/vsridhar/T7/Work/Data/BlackbuckAnnotations/P2/downsampled/SSD6/20230314/SM_Lek1/P2D3/20230314_SM_Lek1_P2D3_DJI_0332.MP4\n",
      "Tracklets already computed /home/vsridhar/DATA/DeepLabCut/projects/05_TerritoryDetectionP2-Vivek-2023-07-10/output/SSD6/20230314/SM_Lek1/P2D3/20230314_SM_Lek1_P2D3_DJI_0332DLC_dlcrnetms5_05_TerritoryDetectionP2Jul10shuffle1_50000_el.pickle\n",
      "Set overwrite = True to overwrite.\n",
      "The tracklets were created (i.e., under the hood deeplabcut.convert_detections2tracklets was run). Now you can 'refine_tracklets' in the GUI, or run 'deeplabcut.stitch_tracklets'.\n",
      "Processing...  /media/vsridhar/T7/Work/Data/BlackbuckAnnotations/P2/downsampled/SSD6/20230314/SM_Lek1/P2D3/20230314_SM_Lek1_P2D3_DJI_0332.MP4\n"
     ]
    },
    {
     "name": "stderr",
     "output_type": "stream",
     "text": [
      "/home/vsridhar/.local/lib/python3.10/site-packages/deeplabcut/refine_training_dataset/stitch.py:138: FutureWarning: Unlike other reduction functions (e.g. `skew`, `kurtosis`), the default behavior of `mode` typically preserves the axis it acts along. In SciPy 1.11.0, this behavior will change: the default value of `keepdims` will become False, the `axis` over which the statistic is taken will be eliminated, and the value None will no longer be accepted. Set `keepdims` to True or False to avoid this warning.\n",
      "  return mode(self.data[..., 3], axis=None, nan_policy=\"omit\")[0][0]\n",
      "100%|██████████████████████████████████████████████████████████████████████████████████████| 70/70 [00:00<00:00, 4653.91it/s]\n"
     ]
    },
    {
     "name": "stdout",
     "output_type": "stream",
     "text": [
      "Starting to analyze %  /media/vsridhar/T7/Work/Data/BlackbuckAnnotations/P2/downsampled/SSD6/20230314/SM_Lek1/P2D3/20230314_SM_Lek1_P2D3_DJI_0349.MP4\n",
      "Video already analyzed! /home/vsridhar/DATA/DeepLabCut/projects/05_TerritoryDetectionP2-Vivek-2023-07-10/output/SSD6/20230314/SM_Lek1/P2D3/20230314_SM_Lek1_P2D3_DJI_0349DLC_dlcrnetms5_05_TerritoryDetectionP2Jul10shuffle1_50000.h5\n",
      "Using snapshot-50000 for model /home/vsridhar/DATA/DeepLabCut/projects/05_TerritoryDetectionP2-Vivek-2023-07-10/dlc-models/iteration-0/05_TerritoryDetectionP2Jul10-trainset90shuffle1\n",
      "Processing...  /media/vsridhar/T7/Work/Data/BlackbuckAnnotations/P2/downsampled/SSD6/20230314/SM_Lek1/P2D3/20230314_SM_Lek1_P2D3_DJI_0349.MP4\n",
      "Tracklets already computed /home/vsridhar/DATA/DeepLabCut/projects/05_TerritoryDetectionP2-Vivek-2023-07-10/output/SSD6/20230314/SM_Lek1/P2D3/20230314_SM_Lek1_P2D3_DJI_0349DLC_dlcrnetms5_05_TerritoryDetectionP2Jul10shuffle1_50000_el.pickle\n",
      "Set overwrite = True to overwrite.\n",
      "The tracklets were created (i.e., under the hood deeplabcut.convert_detections2tracklets was run). Now you can 'refine_tracklets' in the GUI, or run 'deeplabcut.stitch_tracklets'.\n",
      "Processing...  /media/vsridhar/T7/Work/Data/BlackbuckAnnotations/P2/downsampled/SSD6/20230314/SM_Lek1/P2D3/20230314_SM_Lek1_P2D3_DJI_0349.MP4\n"
     ]
    },
    {
     "name": "stderr",
     "output_type": "stream",
     "text": [
      "/home/vsridhar/.local/lib/python3.10/site-packages/deeplabcut/refine_training_dataset/stitch.py:138: FutureWarning: Unlike other reduction functions (e.g. `skew`, `kurtosis`), the default behavior of `mode` typically preserves the axis it acts along. In SciPy 1.11.0, this behavior will change: the default value of `keepdims` will become False, the `axis` over which the statistic is taken will be eliminated, and the value None will no longer be accepted. Set `keepdims` to True or False to avoid this warning.\n",
      "  return mode(self.data[..., 3], axis=None, nan_policy=\"omit\")[0][0]\n",
      "100%|██████████████████████████████████████████████████████████████████████████████████████| 48/48 [00:00<00:00, 9344.90it/s]\n",
      "/home/vsridhar/.local/lib/python3.10/site-packages/deeplabcut/refine_training_dataset/stitch.py:690: UserWarning: No optimal solution found. Employing black magic...\n",
      "  warnings.warn(\"No optimal solution found. Employing black magic...\")\n",
      "/home/vsridhar/.local/lib/python3.10/site-packages/deeplabcut/refine_training_dataset/stitch.py:763: UserWarning: Only 48 tracks could be reconstructed.\n",
      "  warnings.warn(f\"Only {len(self.paths)} tracks could be reconstructed.\")\n"
     ]
    },
    {
     "name": "stdout",
     "output_type": "stream",
     "text": [
      "Starting to analyze %  /media/vsridhar/T7/Work/Data/BlackbuckAnnotations/P2/downsampled/SSD6/20230314/SM_Lek1/P2D3/20230314_SM_Lek1_P2D3_DJI_0343.MP4\n",
      "Video already analyzed! /home/vsridhar/DATA/DeepLabCut/projects/05_TerritoryDetectionP2-Vivek-2023-07-10/output/SSD6/20230314/SM_Lek1/P2D3/20230314_SM_Lek1_P2D3_DJI_0343DLC_dlcrnetms5_05_TerritoryDetectionP2Jul10shuffle1_50000.h5\n",
      "Using snapshot-50000 for model /home/vsridhar/DATA/DeepLabCut/projects/05_TerritoryDetectionP2-Vivek-2023-07-10/dlc-models/iteration-0/05_TerritoryDetectionP2Jul10-trainset90shuffle1\n",
      "Processing...  /media/vsridhar/T7/Work/Data/BlackbuckAnnotations/P2/downsampled/SSD6/20230314/SM_Lek1/P2D3/20230314_SM_Lek1_P2D3_DJI_0343.MP4\n",
      "Tracklets already computed /home/vsridhar/DATA/DeepLabCut/projects/05_TerritoryDetectionP2-Vivek-2023-07-10/output/SSD6/20230314/SM_Lek1/P2D3/20230314_SM_Lek1_P2D3_DJI_0343DLC_dlcrnetms5_05_TerritoryDetectionP2Jul10shuffle1_50000_el.pickle\n",
      "Set overwrite = True to overwrite.\n",
      "The tracklets were created (i.e., under the hood deeplabcut.convert_detections2tracklets was run). Now you can 'refine_tracklets' in the GUI, or run 'deeplabcut.stitch_tracklets'.\n",
      "Processing...  /media/vsridhar/T7/Work/Data/BlackbuckAnnotations/P2/downsampled/SSD6/20230314/SM_Lek1/P2D3/20230314_SM_Lek1_P2D3_DJI_0343.MP4\n"
     ]
    },
    {
     "name": "stderr",
     "output_type": "stream",
     "text": [
      "/home/vsridhar/.local/lib/python3.10/site-packages/deeplabcut/refine_training_dataset/stitch.py:138: FutureWarning: Unlike other reduction functions (e.g. `skew`, `kurtosis`), the default behavior of `mode` typically preserves the axis it acts along. In SciPy 1.11.0, this behavior will change: the default value of `keepdims` will become False, the `axis` over which the statistic is taken will be eliminated, and the value None will no longer be accepted. Set `keepdims` to True or False to avoid this warning.\n",
      "  return mode(self.data[..., 3], axis=None, nan_policy=\"omit\")[0][0]\n",
      "100%|██████████████████████████████████████████████████████████████████████████████████████| 59/59 [00:00<00:00, 4496.32it/s]\n",
      "/home/vsridhar/.local/lib/python3.10/site-packages/deeplabcut/refine_training_dataset/stitch.py:690: UserWarning: No optimal solution found. Employing black magic...\n",
      "  warnings.warn(\"No optimal solution found. Employing black magic...\")\n",
      "/home/vsridhar/.local/lib/python3.10/site-packages/deeplabcut/refine_training_dataset/stitch.py:763: UserWarning: Only 59 tracks could be reconstructed.\n",
      "  warnings.warn(f\"Only {len(self.paths)} tracks could be reconstructed.\")\n"
     ]
    },
    {
     "name": "stdout",
     "output_type": "stream",
     "text": [
      "Starting to analyze %  /media/vsridhar/T7/Work/Data/BlackbuckAnnotations/P2/downsampled/SSD6/20230314/SM_Lek1/P2D3/20230314_SM_Lek1_P2D3_DJI_0353.MP4\n",
      "Video already analyzed! /home/vsridhar/DATA/DeepLabCut/projects/05_TerritoryDetectionP2-Vivek-2023-07-10/output/SSD6/20230314/SM_Lek1/P2D3/20230314_SM_Lek1_P2D3_DJI_0353DLC_dlcrnetms5_05_TerritoryDetectionP2Jul10shuffle1_50000.h5\n",
      "Using snapshot-50000 for model /home/vsridhar/DATA/DeepLabCut/projects/05_TerritoryDetectionP2-Vivek-2023-07-10/dlc-models/iteration-0/05_TerritoryDetectionP2Jul10-trainset90shuffle1\n",
      "Processing...  /media/vsridhar/T7/Work/Data/BlackbuckAnnotations/P2/downsampled/SSD6/20230314/SM_Lek1/P2D3/20230314_SM_Lek1_P2D3_DJI_0353.MP4\n",
      "Tracklets already computed /home/vsridhar/DATA/DeepLabCut/projects/05_TerritoryDetectionP2-Vivek-2023-07-10/output/SSD6/20230314/SM_Lek1/P2D3/20230314_SM_Lek1_P2D3_DJI_0353DLC_dlcrnetms5_05_TerritoryDetectionP2Jul10shuffle1_50000_el.pickle\n",
      "Set overwrite = True to overwrite.\n",
      "The tracklets were created (i.e., under the hood deeplabcut.convert_detections2tracklets was run). Now you can 'refine_tracklets' in the GUI, or run 'deeplabcut.stitch_tracklets'.\n",
      "Processing...  /media/vsridhar/T7/Work/Data/BlackbuckAnnotations/P2/downsampled/SSD6/20230314/SM_Lek1/P2D3/20230314_SM_Lek1_P2D3_DJI_0353.MP4\n"
     ]
    },
    {
     "name": "stderr",
     "output_type": "stream",
     "text": [
      "/home/vsridhar/.local/lib/python3.10/site-packages/deeplabcut/refine_training_dataset/stitch.py:138: FutureWarning: Unlike other reduction functions (e.g. `skew`, `kurtosis`), the default behavior of `mode` typically preserves the axis it acts along. In SciPy 1.11.0, this behavior will change: the default value of `keepdims` will become False, the `axis` over which the statistic is taken will be eliminated, and the value None will no longer be accepted. Set `keepdims` to True or False to avoid this warning.\n",
      "  return mode(self.data[..., 3], axis=None, nan_policy=\"omit\")[0][0]\n",
      "100%|██████████████████████████████████████████████████████████████████████████████████████| 70/70 [00:00<00:00, 3405.53it/s]\n"
     ]
    },
    {
     "name": "stdout",
     "output_type": "stream",
     "text": [
      "The videos are analyzed. Time to assemble animals and track 'em... \n",
      " Call 'create_video_with_all_detections' to check multi-animal detection quality before tracking.\n",
      "If the tracking is not satisfactory for some videos, consider expanding the training set. You can use the function 'extract_outlier_frames' to extract a few representative outlier frames.\n",
      "Using snapshot-50000 for model /home/vsridhar/DATA/DeepLabCut/projects/05_TerritoryDetectionP2-Vivek-2023-07-10/dlc-models/iteration-0/05_TerritoryDetectionP2Jul10-trainset90shuffle1\n"
     ]
    },
    {
     "name": "stderr",
     "output_type": "stream",
     "text": [
      "/home/vsridhar/.local/lib/python3.10/site-packages/tensorflow/python/keras/engine/base_layer_v1.py:1694: UserWarning: `layer.apply` is deprecated and will be removed in a future version. Please use `layer.__call__` method instead.\n",
      "  warnings.warn('`layer.apply` is deprecated and '\n",
      "/home/vsridhar/.local/lib/python3.10/site-packages/tf_slim/layers/layers.py:684: UserWarning: `layer.apply` is deprecated and will be removed in a future version. Please use `layer.__call__` method instead.\n",
      "  outputs = layer.apply(inputs, training=is_training)\n"
     ]
    },
    {
     "name": "stdout",
     "output_type": "stream",
     "text": [
      "Activating extracting of PAFs\n",
      "Analyzing all the videos in the directory...\n",
      "Starting to analyze %  /media/vsridhar/T7/Work/Data/BlackbuckAnnotations/P2/downsampled/SSD6/20230314/SM_Lek1/P2D4/20230314_SM_Lek1_P2D4_DJI_0967.MP4\n",
      "Loading  /media/vsridhar/T7/Work/Data/BlackbuckAnnotations/P2/downsampled/SSD6/20230314/SM_Lek1/P2D4/20230314_SM_Lek1_P2D4_DJI_0967.MP4\n",
      "Duration of video [s]:  194.06 , recorded with  29.97 fps!\n",
      "Overall # of frames:  5816  found with (before cropping) frame dimensions:  1824 1026\n",
      "Starting to extract posture from the video(s) with batchsize: 8\n"
     ]
    },
    {
     "name": "stderr",
     "output_type": "stream",
     "text": [
      "100%|████████████████████████████████████████████████████████████████████████████████████| 5816/5816 [04:48<00:00, 20.19it/s]\n"
     ]
    },
    {
     "name": "stdout",
     "output_type": "stream",
     "text": [
      "Video Analyzed. Saving results in /home/vsridhar/DATA/DeepLabCut/projects/05_TerritoryDetectionP2-Vivek-2023-07-10/output/SSD6/20230314/SM_Lek1/P2D4...\n",
      "Using snapshot-50000 for model /home/vsridhar/DATA/DeepLabCut/projects/05_TerritoryDetectionP2-Vivek-2023-07-10/dlc-models/iteration-0/05_TerritoryDetectionP2Jul10-trainset90shuffle1\n",
      "Processing...  /media/vsridhar/T7/Work/Data/BlackbuckAnnotations/P2/downsampled/SSD6/20230314/SM_Lek1/P2D4/20230314_SM_Lek1_P2D4_DJI_0967.MP4\n",
      "Analyzing /home/vsridhar/DATA/DeepLabCut/projects/05_TerritoryDetectionP2-Vivek-2023-07-10/output/SSD6/20230314/SM_Lek1/P2D4/20230314_SM_Lek1_P2D4_DJI_0967DLC_dlcrnetms5_05_TerritoryDetectionP2Jul10shuffle1_50000.h5\n"
     ]
    },
    {
     "name": "stderr",
     "output_type": "stream",
     "text": [
      "100%|███████████████████████████████████████████████████████████████████████████████████| 5816/5816 [00:13<00:00, 417.88it/s]\n",
      "5816it [00:24, 237.30it/s]\n"
     ]
    },
    {
     "name": "stdout",
     "output_type": "stream",
     "text": [
      "The tracklets were created (i.e., under the hood deeplabcut.convert_detections2tracklets was run). Now you can 'refine_tracklets' in the GUI, or run 'deeplabcut.stitch_tracklets'.\n",
      "Processing...  /media/vsridhar/T7/Work/Data/BlackbuckAnnotations/P2/downsampled/SSD6/20230314/SM_Lek1/P2D4/20230314_SM_Lek1_P2D4_DJI_0967.MP4\n"
     ]
    },
    {
     "name": "stderr",
     "output_type": "stream",
     "text": [
      "/home/vsridhar/.local/lib/python3.10/site-packages/deeplabcut/refine_training_dataset/stitch.py:138: FutureWarning: Unlike other reduction functions (e.g. `skew`, `kurtosis`), the default behavior of `mode` typically preserves the axis it acts along. In SciPy 1.11.0, this behavior will change: the default value of `keepdims` will become False, the `axis` over which the statistic is taken will be eliminated, and the value None will no longer be accepted. Set `keepdims` to True or False to avoid this warning.\n",
      "  return mode(self.data[..., 3], axis=None, nan_policy=\"omit\")[0][0]\n",
      "100%|██████████████████████████████████████████████████████████████████████████████████████| 48/48 [00:00<00:00, 5970.36it/s]\n",
      "/home/vsridhar/.local/lib/python3.10/site-packages/deeplabcut/refine_training_dataset/stitch.py:690: UserWarning: No optimal solution found. Employing black magic...\n",
      "  warnings.warn(\"No optimal solution found. Employing black magic...\")\n",
      "/home/vsridhar/.local/lib/python3.10/site-packages/deeplabcut/refine_training_dataset/stitch.py:763: UserWarning: Only 48 tracks could be reconstructed.\n",
      "  warnings.warn(f\"Only {len(self.paths)} tracks could be reconstructed.\")\n"
     ]
    },
    {
     "name": "stdout",
     "output_type": "stream",
     "text": [
      "Starting to analyze %  /media/vsridhar/T7/Work/Data/BlackbuckAnnotations/P2/downsampled/SSD6/20230314/SM_Lek1/P2D4/20230314_SM_Lek1_P2D4_DJI_0962.MP4\n",
      "Loading  /media/vsridhar/T7/Work/Data/BlackbuckAnnotations/P2/downsampled/SSD6/20230314/SM_Lek1/P2D4/20230314_SM_Lek1_P2D4_DJI_0962.MP4\n",
      "Duration of video [s]:  193.99 , recorded with  29.97 fps!\n",
      "Overall # of frames:  5814  found with (before cropping) frame dimensions:  1824 1026\n",
      "Starting to extract posture from the video(s) with batchsize: 8\n"
     ]
    },
    {
     "name": "stderr",
     "output_type": "stream",
     "text": [
      "100%|████████████████████████████████████████████████████████████████████████████████████| 5814/5814 [04:40<00:00, 20.74it/s]\n"
     ]
    },
    {
     "name": "stdout",
     "output_type": "stream",
     "text": [
      "Video Analyzed. Saving results in /home/vsridhar/DATA/DeepLabCut/projects/05_TerritoryDetectionP2-Vivek-2023-07-10/output/SSD6/20230314/SM_Lek1/P2D4...\n",
      "Using snapshot-50000 for model /home/vsridhar/DATA/DeepLabCut/projects/05_TerritoryDetectionP2-Vivek-2023-07-10/dlc-models/iteration-0/05_TerritoryDetectionP2Jul10-trainset90shuffle1\n",
      "Processing...  /media/vsridhar/T7/Work/Data/BlackbuckAnnotations/P2/downsampled/SSD6/20230314/SM_Lek1/P2D4/20230314_SM_Lek1_P2D4_DJI_0962.MP4\n",
      "Analyzing /home/vsridhar/DATA/DeepLabCut/projects/05_TerritoryDetectionP2-Vivek-2023-07-10/output/SSD6/20230314/SM_Lek1/P2D4/20230314_SM_Lek1_P2D4_DJI_0962DLC_dlcrnetms5_05_TerritoryDetectionP2Jul10shuffle1_50000.h5\n"
     ]
    },
    {
     "name": "stderr",
     "output_type": "stream",
     "text": [
      "100%|███████████████████████████████████████████████████████████████████████████████████| 5814/5814 [00:13<00:00, 426.40it/s]\n",
      "5814it [00:22, 257.19it/s]\n"
     ]
    },
    {
     "name": "stdout",
     "output_type": "stream",
     "text": [
      "The tracklets were created (i.e., under the hood deeplabcut.convert_detections2tracklets was run). Now you can 'refine_tracklets' in the GUI, or run 'deeplabcut.stitch_tracklets'.\n",
      "Processing...  /media/vsridhar/T7/Work/Data/BlackbuckAnnotations/P2/downsampled/SSD6/20230314/SM_Lek1/P2D4/20230314_SM_Lek1_P2D4_DJI_0962.MP4\n"
     ]
    },
    {
     "name": "stderr",
     "output_type": "stream",
     "text": [
      "/home/vsridhar/.local/lib/python3.10/site-packages/deeplabcut/refine_training_dataset/stitch.py:138: FutureWarning: Unlike other reduction functions (e.g. `skew`, `kurtosis`), the default behavior of `mode` typically preserves the axis it acts along. In SciPy 1.11.0, this behavior will change: the default value of `keepdims` will become False, the `axis` over which the statistic is taken will be eliminated, and the value None will no longer be accepted. Set `keepdims` to True or False to avoid this warning.\n",
      "  return mode(self.data[..., 3], axis=None, nan_policy=\"omit\")[0][0]\n",
      "100%|████████████████████████████████████████████████████████████████████████████████████| 240/240 [00:00<00:00, 5120.10it/s]\n"
     ]
    },
    {
     "name": "stdout",
     "output_type": "stream",
     "text": [
      "Starting to analyze %  /media/vsridhar/T7/Work/Data/BlackbuckAnnotations/P2/downsampled/SSD6/20230314/SM_Lek1/P2D4/20230314_SM_Lek1_P2D4_DJI_0978.MP4\n",
      "Loading  /media/vsridhar/T7/Work/Data/BlackbuckAnnotations/P2/downsampled/SSD6/20230314/SM_Lek1/P2D4/20230314_SM_Lek1_P2D4_DJI_0978.MP4\n",
      "Duration of video [s]:  193.96 , recorded with  29.97 fps!\n",
      "Overall # of frames:  5813  found with (before cropping) frame dimensions:  1824 1026\n",
      "Starting to extract posture from the video(s) with batchsize: 8\n"
     ]
    },
    {
     "name": "stderr",
     "output_type": "stream",
     "text": [
      "100%|████████████████████████████████████████████████████████████████████████████████████| 5813/5813 [04:43<00:00, 20.47it/s]\n"
     ]
    },
    {
     "name": "stdout",
     "output_type": "stream",
     "text": [
      "Video Analyzed. Saving results in /home/vsridhar/DATA/DeepLabCut/projects/05_TerritoryDetectionP2-Vivek-2023-07-10/output/SSD6/20230314/SM_Lek1/P2D4...\n",
      "Using snapshot-50000 for model /home/vsridhar/DATA/DeepLabCut/projects/05_TerritoryDetectionP2-Vivek-2023-07-10/dlc-models/iteration-0/05_TerritoryDetectionP2Jul10-trainset90shuffle1\n",
      "Processing...  /media/vsridhar/T7/Work/Data/BlackbuckAnnotations/P2/downsampled/SSD6/20230314/SM_Lek1/P2D4/20230314_SM_Lek1_P2D4_DJI_0978.MP4\n",
      "Analyzing /home/vsridhar/DATA/DeepLabCut/projects/05_TerritoryDetectionP2-Vivek-2023-07-10/output/SSD6/20230314/SM_Lek1/P2D4/20230314_SM_Lek1_P2D4_DJI_0978DLC_dlcrnetms5_05_TerritoryDetectionP2Jul10shuffle1_50000.h5\n"
     ]
    },
    {
     "name": "stderr",
     "output_type": "stream",
     "text": [
      "100%|███████████████████████████████████████████████████████████████████████████████████| 5813/5813 [00:13<00:00, 430.75it/s]\n",
      "5813it [00:22, 256.24it/s]\n"
     ]
    },
    {
     "name": "stdout",
     "output_type": "stream",
     "text": [
      "The tracklets were created (i.e., under the hood deeplabcut.convert_detections2tracklets was run). Now you can 'refine_tracklets' in the GUI, or run 'deeplabcut.stitch_tracklets'.\n",
      "Processing...  /media/vsridhar/T7/Work/Data/BlackbuckAnnotations/P2/downsampled/SSD6/20230314/SM_Lek1/P2D4/20230314_SM_Lek1_P2D4_DJI_0978.MP4\n"
     ]
    },
    {
     "name": "stderr",
     "output_type": "stream",
     "text": [
      "/home/vsridhar/.local/lib/python3.10/site-packages/deeplabcut/refine_training_dataset/stitch.py:138: FutureWarning: Unlike other reduction functions (e.g. `skew`, `kurtosis`), the default behavior of `mode` typically preserves the axis it acts along. In SciPy 1.11.0, this behavior will change: the default value of `keepdims` will become False, the `axis` over which the statistic is taken will be eliminated, and the value None will no longer be accepted. Set `keepdims` to True or False to avoid this warning.\n",
      "  return mode(self.data[..., 3], axis=None, nan_policy=\"omit\")[0][0]\n",
      "100%|█████████████████████████████████████████████████████████████████████████████████████| 46/46 [00:00<00:00, 14290.64it/s]\n",
      "/home/vsridhar/.local/lib/python3.10/site-packages/deeplabcut/refine_training_dataset/stitch.py:690: UserWarning: No optimal solution found. Employing black magic...\n",
      "  warnings.warn(\"No optimal solution found. Employing black magic...\")\n",
      "/home/vsridhar/.local/lib/python3.10/site-packages/deeplabcut/refine_training_dataset/stitch.py:763: UserWarning: Only 46 tracks could be reconstructed.\n",
      "  warnings.warn(f\"Only {len(self.paths)} tracks could be reconstructed.\")\n"
     ]
    },
    {
     "name": "stdout",
     "output_type": "stream",
     "text": [
      "Starting to analyze %  /media/vsridhar/T7/Work/Data/BlackbuckAnnotations/P2/downsampled/SSD6/20230314/SM_Lek1/P2D4/20230314_SM_Lek1_P2D4_DJI_0964.MP4\n",
      "Loading  /media/vsridhar/T7/Work/Data/BlackbuckAnnotations/P2/downsampled/SSD6/20230314/SM_Lek1/P2D4/20230314_SM_Lek1_P2D4_DJI_0964.MP4\n",
      "Duration of video [s]:  193.99 , recorded with  29.97 fps!\n",
      "Overall # of frames:  5814  found with (before cropping) frame dimensions:  1824 1026\n",
      "Starting to extract posture from the video(s) with batchsize: 8\n"
     ]
    },
    {
     "name": "stderr",
     "output_type": "stream",
     "text": [
      "100%|████████████████████████████████████████████████████████████████████████████████████| 5814/5814 [04:43<00:00, 20.52it/s]\n"
     ]
    },
    {
     "name": "stdout",
     "output_type": "stream",
     "text": [
      "Video Analyzed. Saving results in /home/vsridhar/DATA/DeepLabCut/projects/05_TerritoryDetectionP2-Vivek-2023-07-10/output/SSD6/20230314/SM_Lek1/P2D4...\n",
      "Using snapshot-50000 for model /home/vsridhar/DATA/DeepLabCut/projects/05_TerritoryDetectionP2-Vivek-2023-07-10/dlc-models/iteration-0/05_TerritoryDetectionP2Jul10-trainset90shuffle1\n",
      "Processing...  /media/vsridhar/T7/Work/Data/BlackbuckAnnotations/P2/downsampled/SSD6/20230314/SM_Lek1/P2D4/20230314_SM_Lek1_P2D4_DJI_0964.MP4\n",
      "Analyzing /home/vsridhar/DATA/DeepLabCut/projects/05_TerritoryDetectionP2-Vivek-2023-07-10/output/SSD6/20230314/SM_Lek1/P2D4/20230314_SM_Lek1_P2D4_DJI_0964DLC_dlcrnetms5_05_TerritoryDetectionP2Jul10shuffle1_50000.h5\n"
     ]
    },
    {
     "name": "stderr",
     "output_type": "stream",
     "text": [
      "100%|███████████████████████████████████████████████████████████████████████████████████| 5814/5814 [00:14<00:00, 407.78it/s]\n",
      "5814it [00:23, 250.56it/s]\n"
     ]
    },
    {
     "name": "stdout",
     "output_type": "stream",
     "text": [
      "The tracklets were created (i.e., under the hood deeplabcut.convert_detections2tracklets was run). Now you can 'refine_tracklets' in the GUI, or run 'deeplabcut.stitch_tracklets'.\n",
      "Processing...  /media/vsridhar/T7/Work/Data/BlackbuckAnnotations/P2/downsampled/SSD6/20230314/SM_Lek1/P2D4/20230314_SM_Lek1_P2D4_DJI_0964.MP4\n"
     ]
    },
    {
     "name": "stderr",
     "output_type": "stream",
     "text": [
      "/home/vsridhar/.local/lib/python3.10/site-packages/deeplabcut/refine_training_dataset/stitch.py:138: FutureWarning: Unlike other reduction functions (e.g. `skew`, `kurtosis`), the default behavior of `mode` typically preserves the axis it acts along. In SciPy 1.11.0, this behavior will change: the default value of `keepdims` will become False, the `axis` over which the statistic is taken will be eliminated, and the value None will no longer be accepted. Set `keepdims` to True or False to avoid this warning.\n",
      "  return mode(self.data[..., 3], axis=None, nan_policy=\"omit\")[0][0]\n",
      "100%|████████████████████████████████████████████████████████████████████████████████████| 321/321 [00:00<00:00, 5170.68it/s]\n"
     ]
    },
    {
     "name": "stdout",
     "output_type": "stream",
     "text": [
      "Starting to analyze %  /media/vsridhar/T7/Work/Data/BlackbuckAnnotations/P2/downsampled/SSD6/20230314/SM_Lek1/P2D4/20230314_SM_Lek1_P2D4_DJI_0966.MP4\n",
      "Loading  /media/vsridhar/T7/Work/Data/BlackbuckAnnotations/P2/downsampled/SSD6/20230314/SM_Lek1/P2D4/20230314_SM_Lek1_P2D4_DJI_0966.MP4\n",
      "Duration of video [s]:  193.59 , recorded with  29.97 fps!\n",
      "Overall # of frames:  5802  found with (before cropping) frame dimensions:  1824 1026\n",
      "Starting to extract posture from the video(s) with batchsize: 8\n"
     ]
    },
    {
     "name": "stderr",
     "output_type": "stream",
     "text": [
      "100%|████████████████████████████████████████████████████████████████████████████████████| 5802/5802 [04:46<00:00, 20.27it/s]\n"
     ]
    },
    {
     "name": "stdout",
     "output_type": "stream",
     "text": [
      "Video Analyzed. Saving results in /home/vsridhar/DATA/DeepLabCut/projects/05_TerritoryDetectionP2-Vivek-2023-07-10/output/SSD6/20230314/SM_Lek1/P2D4...\n",
      "Using snapshot-50000 for model /home/vsridhar/DATA/DeepLabCut/projects/05_TerritoryDetectionP2-Vivek-2023-07-10/dlc-models/iteration-0/05_TerritoryDetectionP2Jul10-trainset90shuffle1\n",
      "Processing...  /media/vsridhar/T7/Work/Data/BlackbuckAnnotations/P2/downsampled/SSD6/20230314/SM_Lek1/P2D4/20230314_SM_Lek1_P2D4_DJI_0966.MP4\n",
      "Analyzing /home/vsridhar/DATA/DeepLabCut/projects/05_TerritoryDetectionP2-Vivek-2023-07-10/output/SSD6/20230314/SM_Lek1/P2D4/20230314_SM_Lek1_P2D4_DJI_0966DLC_dlcrnetms5_05_TerritoryDetectionP2Jul10shuffle1_50000.h5\n"
     ]
    },
    {
     "name": "stderr",
     "output_type": "stream",
     "text": [
      "100%|███████████████████████████████████████████████████████████████████████████████████| 5802/5802 [00:14<00:00, 395.53it/s]\n",
      "5802it [00:24, 240.32it/s]\n"
     ]
    },
    {
     "name": "stdout",
     "output_type": "stream",
     "text": [
      "The tracklets were created (i.e., under the hood deeplabcut.convert_detections2tracklets was run). Now you can 'refine_tracklets' in the GUI, or run 'deeplabcut.stitch_tracklets'.\n",
      "Processing...  /media/vsridhar/T7/Work/Data/BlackbuckAnnotations/P2/downsampled/SSD6/20230314/SM_Lek1/P2D4/20230314_SM_Lek1_P2D4_DJI_0966.MP4\n"
     ]
    },
    {
     "name": "stderr",
     "output_type": "stream",
     "text": [
      "/home/vsridhar/.local/lib/python3.10/site-packages/deeplabcut/refine_training_dataset/stitch.py:138: FutureWarning: Unlike other reduction functions (e.g. `skew`, `kurtosis`), the default behavior of `mode` typically preserves the axis it acts along. In SciPy 1.11.0, this behavior will change: the default value of `keepdims` will become False, the `axis` over which the statistic is taken will be eliminated, and the value None will no longer be accepted. Set `keepdims` to True or False to avoid this warning.\n",
      "  return mode(self.data[..., 3], axis=None, nan_policy=\"omit\")[0][0]\n",
      "100%|██████████████████████████████████████████████████████████████████████████████████████| 72/72 [00:00<00:00, 3128.75it/s]\n"
     ]
    },
    {
     "name": "stdout",
     "output_type": "stream",
     "text": [
      "Starting to analyze %  /media/vsridhar/T7/Work/Data/BlackbuckAnnotations/P2/downsampled/SSD6/20230314/SM_Lek1/P2D4/20230314_SM_Lek1_P2D4_DJI_0977.MP4\n",
      "Loading  /media/vsridhar/T7/Work/Data/BlackbuckAnnotations/P2/downsampled/SSD6/20230314/SM_Lek1/P2D4/20230314_SM_Lek1_P2D4_DJI_0977.MP4\n",
      "Duration of video [s]:  194.03 , recorded with  29.97 fps!\n",
      "Overall # of frames:  5815  found with (before cropping) frame dimensions:  1824 1026\n",
      "Starting to extract posture from the video(s) with batchsize: 8\n"
     ]
    },
    {
     "name": "stderr",
     "output_type": "stream",
     "text": [
      "100%|████████████████████████████████████████████████████████████████████████████████████| 5815/5815 [04:44<00:00, 20.44it/s]\n"
     ]
    },
    {
     "name": "stdout",
     "output_type": "stream",
     "text": [
      "Video Analyzed. Saving results in /home/vsridhar/DATA/DeepLabCut/projects/05_TerritoryDetectionP2-Vivek-2023-07-10/output/SSD6/20230314/SM_Lek1/P2D4...\n",
      "Using snapshot-50000 for model /home/vsridhar/DATA/DeepLabCut/projects/05_TerritoryDetectionP2-Vivek-2023-07-10/dlc-models/iteration-0/05_TerritoryDetectionP2Jul10-trainset90shuffle1\n",
      "Processing...  /media/vsridhar/T7/Work/Data/BlackbuckAnnotations/P2/downsampled/SSD6/20230314/SM_Lek1/P2D4/20230314_SM_Lek1_P2D4_DJI_0977.MP4\n",
      "Analyzing /home/vsridhar/DATA/DeepLabCut/projects/05_TerritoryDetectionP2-Vivek-2023-07-10/output/SSD6/20230314/SM_Lek1/P2D4/20230314_SM_Lek1_P2D4_DJI_0977DLC_dlcrnetms5_05_TerritoryDetectionP2Jul10shuffle1_50000.h5\n"
     ]
    },
    {
     "name": "stderr",
     "output_type": "stream",
     "text": [
      "100%|███████████████████████████████████████████████████████████████████████████████████| 5815/5815 [00:13<00:00, 433.91it/s]\n",
      "5815it [00:22, 261.31it/s]\n"
     ]
    },
    {
     "name": "stdout",
     "output_type": "stream",
     "text": [
      "The tracklets were created (i.e., under the hood deeplabcut.convert_detections2tracklets was run). Now you can 'refine_tracklets' in the GUI, or run 'deeplabcut.stitch_tracklets'.\n",
      "Processing...  /media/vsridhar/T7/Work/Data/BlackbuckAnnotations/P2/downsampled/SSD6/20230314/SM_Lek1/P2D4/20230314_SM_Lek1_P2D4_DJI_0977.MP4\n"
     ]
    },
    {
     "name": "stderr",
     "output_type": "stream",
     "text": [
      "/home/vsridhar/.local/lib/python3.10/site-packages/deeplabcut/refine_training_dataset/stitch.py:138: FutureWarning: Unlike other reduction functions (e.g. `skew`, `kurtosis`), the default behavior of `mode` typically preserves the axis it acts along. In SciPy 1.11.0, this behavior will change: the default value of `keepdims` will become False, the `axis` over which the statistic is taken will be eliminated, and the value None will no longer be accepted. Set `keepdims` to True or False to avoid this warning.\n",
      "  return mode(self.data[..., 3], axis=None, nan_policy=\"omit\")[0][0]\n",
      "100%|██████████████████████████████████████████████████████████████████████████████████████| 50/50 [00:00<00:00, 5482.89it/s]\n",
      "/home/vsridhar/.local/lib/python3.10/site-packages/deeplabcut/refine_training_dataset/stitch.py:690: UserWarning: No optimal solution found. Employing black magic...\n",
      "  warnings.warn(\"No optimal solution found. Employing black magic...\")\n",
      "/home/vsridhar/.local/lib/python3.10/site-packages/deeplabcut/refine_training_dataset/stitch.py:763: UserWarning: Only 50 tracks could be reconstructed.\n",
      "  warnings.warn(f\"Only {len(self.paths)} tracks could be reconstructed.\")\n"
     ]
    },
    {
     "name": "stdout",
     "output_type": "stream",
     "text": [
      "Starting to analyze %  /media/vsridhar/T7/Work/Data/BlackbuckAnnotations/P2/downsampled/SSD6/20230314/SM_Lek1/P2D4/20230314_SM_Lek1_P2D4_DJI_0961.MP4\n",
      "Loading  /media/vsridhar/T7/Work/Data/BlackbuckAnnotations/P2/downsampled/SSD6/20230314/SM_Lek1/P2D4/20230314_SM_Lek1_P2D4_DJI_0961.MP4\n",
      "Duration of video [s]:  193.66 , recorded with  29.97 fps!\n",
      "Overall # of frames:  5804  found with (before cropping) frame dimensions:  1824 1026\n",
      "Starting to extract posture from the video(s) with batchsize: 8\n"
     ]
    },
    {
     "name": "stderr",
     "output_type": "stream",
     "text": [
      "100%|████████████████████████████████████████████████████████████████████████████████████| 5804/5804 [04:48<00:00, 20.09it/s]\n"
     ]
    },
    {
     "name": "stdout",
     "output_type": "stream",
     "text": [
      "Video Analyzed. Saving results in /home/vsridhar/DATA/DeepLabCut/projects/05_TerritoryDetectionP2-Vivek-2023-07-10/output/SSD6/20230314/SM_Lek1/P2D4...\n",
      "Using snapshot-50000 for model /home/vsridhar/DATA/DeepLabCut/projects/05_TerritoryDetectionP2-Vivek-2023-07-10/dlc-models/iteration-0/05_TerritoryDetectionP2Jul10-trainset90shuffle1\n",
      "Processing...  /media/vsridhar/T7/Work/Data/BlackbuckAnnotations/P2/downsampled/SSD6/20230314/SM_Lek1/P2D4/20230314_SM_Lek1_P2D4_DJI_0961.MP4\n",
      "Analyzing /home/vsridhar/DATA/DeepLabCut/projects/05_TerritoryDetectionP2-Vivek-2023-07-10/output/SSD6/20230314/SM_Lek1/P2D4/20230314_SM_Lek1_P2D4_DJI_0961DLC_dlcrnetms5_05_TerritoryDetectionP2Jul10shuffle1_50000.h5\n"
     ]
    },
    {
     "name": "stderr",
     "output_type": "stream",
     "text": [
      "100%|███████████████████████████████████████████████████████████████████████████████████| 5804/5804 [00:15<00:00, 376.73it/s]\n",
      "5804it [00:24, 238.20it/s]\n"
     ]
    },
    {
     "name": "stdout",
     "output_type": "stream",
     "text": [
      "The tracklets were created (i.e., under the hood deeplabcut.convert_detections2tracklets was run). Now you can 'refine_tracklets' in the GUI, or run 'deeplabcut.stitch_tracklets'.\n",
      "Processing...  /media/vsridhar/T7/Work/Data/BlackbuckAnnotations/P2/downsampled/SSD6/20230314/SM_Lek1/P2D4/20230314_SM_Lek1_P2D4_DJI_0961.MP4\n"
     ]
    },
    {
     "name": "stderr",
     "output_type": "stream",
     "text": [
      "/home/vsridhar/.local/lib/python3.10/site-packages/deeplabcut/refine_training_dataset/stitch.py:138: FutureWarning: Unlike other reduction functions (e.g. `skew`, `kurtosis`), the default behavior of `mode` typically preserves the axis it acts along. In SciPy 1.11.0, this behavior will change: the default value of `keepdims` will become False, the `axis` over which the statistic is taken will be eliminated, and the value None will no longer be accepted. Set `keepdims` to True or False to avoid this warning.\n",
      "  return mode(self.data[..., 3], axis=None, nan_policy=\"omit\")[0][0]\n",
      "100%|████████████████████████████████████████████████████████████████████████████████████| 191/191 [00:00<00:00, 1495.54it/s]\n"
     ]
    },
    {
     "name": "stdout",
     "output_type": "stream",
     "text": [
      "Starting to analyze %  /media/vsridhar/T7/Work/Data/BlackbuckAnnotations/P2/downsampled/SSD6/20230314/SM_Lek1/P2D4/20230314_SM_Lek1_P2D4_DJI_0968.MP4\n",
      "Loading  /media/vsridhar/T7/Work/Data/BlackbuckAnnotations/P2/downsampled/SSD6/20230314/SM_Lek1/P2D4/20230314_SM_Lek1_P2D4_DJI_0968.MP4\n",
      "Duration of video [s]:  193.99 , recorded with  29.97 fps!\n",
      "Overall # of frames:  5814  found with (before cropping) frame dimensions:  1824 1026\n",
      "Starting to extract posture from the video(s) with batchsize: 8\n"
     ]
    },
    {
     "name": "stderr",
     "output_type": "stream",
     "text": [
      "100%|████████████████████████████████████████████████████████████████████████████████████| 5814/5814 [04:42<00:00, 20.58it/s]\n"
     ]
    },
    {
     "name": "stdout",
     "output_type": "stream",
     "text": [
      "Video Analyzed. Saving results in /home/vsridhar/DATA/DeepLabCut/projects/05_TerritoryDetectionP2-Vivek-2023-07-10/output/SSD6/20230314/SM_Lek1/P2D4...\n",
      "Using snapshot-50000 for model /home/vsridhar/DATA/DeepLabCut/projects/05_TerritoryDetectionP2-Vivek-2023-07-10/dlc-models/iteration-0/05_TerritoryDetectionP2Jul10-trainset90shuffle1\n",
      "Processing...  /media/vsridhar/T7/Work/Data/BlackbuckAnnotations/P2/downsampled/SSD6/20230314/SM_Lek1/P2D4/20230314_SM_Lek1_P2D4_DJI_0968.MP4\n",
      "Analyzing /home/vsridhar/DATA/DeepLabCut/projects/05_TerritoryDetectionP2-Vivek-2023-07-10/output/SSD6/20230314/SM_Lek1/P2D4/20230314_SM_Lek1_P2D4_DJI_0968DLC_dlcrnetms5_05_TerritoryDetectionP2Jul10shuffle1_50000.h5\n"
     ]
    },
    {
     "name": "stderr",
     "output_type": "stream",
     "text": [
      "100%|███████████████████████████████████████████████████████████████████████████████████| 5814/5814 [00:13<00:00, 416.30it/s]\n",
      "5814it [00:22, 258.62it/s]\n"
     ]
    },
    {
     "name": "stdout",
     "output_type": "stream",
     "text": [
      "The tracklets were created (i.e., under the hood deeplabcut.convert_detections2tracklets was run). Now you can 'refine_tracklets' in the GUI, or run 'deeplabcut.stitch_tracklets'.\n",
      "Processing...  /media/vsridhar/T7/Work/Data/BlackbuckAnnotations/P2/downsampled/SSD6/20230314/SM_Lek1/P2D4/20230314_SM_Lek1_P2D4_DJI_0968.MP4\n"
     ]
    },
    {
     "name": "stderr",
     "output_type": "stream",
     "text": [
      "/home/vsridhar/.local/lib/python3.10/site-packages/deeplabcut/refine_training_dataset/stitch.py:138: FutureWarning: Unlike other reduction functions (e.g. `skew`, `kurtosis`), the default behavior of `mode` typically preserves the axis it acts along. In SciPy 1.11.0, this behavior will change: the default value of `keepdims` will become False, the `axis` over which the statistic is taken will be eliminated, and the value None will no longer be accepted. Set `keepdims` to True or False to avoid this warning.\n",
      "  return mode(self.data[..., 3], axis=None, nan_policy=\"omit\")[0][0]\n",
      "100%|██████████████████████████████████████████████████████████████████████████████████████| 54/54 [00:00<00:00, 4557.47it/s]\n",
      "/home/vsridhar/.local/lib/python3.10/site-packages/deeplabcut/refine_training_dataset/stitch.py:690: UserWarning: No optimal solution found. Employing black magic...\n",
      "  warnings.warn(\"No optimal solution found. Employing black magic...\")\n",
      "/home/vsridhar/.local/lib/python3.10/site-packages/deeplabcut/refine_training_dataset/stitch.py:763: UserWarning: Only 54 tracks could be reconstructed.\n",
      "  warnings.warn(f\"Only {len(self.paths)} tracks could be reconstructed.\")\n"
     ]
    },
    {
     "name": "stdout",
     "output_type": "stream",
     "text": [
      "Starting to analyze %  /media/vsridhar/T7/Work/Data/BlackbuckAnnotations/P2/downsampled/SSD6/20230314/SM_Lek1/P2D4/20230314_SM_Lek1_P2D4_DJI_0975.MP4\n",
      "Loading  /media/vsridhar/T7/Work/Data/BlackbuckAnnotations/P2/downsampled/SSD6/20230314/SM_Lek1/P2D4/20230314_SM_Lek1_P2D4_DJI_0975.MP4\n",
      "Duration of video [s]:  139.71 , recorded with  29.97 fps!\n",
      "Overall # of frames:  4187  found with (before cropping) frame dimensions:  1824 1026\n",
      "Starting to extract posture from the video(s) with batchsize: 8\n"
     ]
    },
    {
     "name": "stderr",
     "output_type": "stream",
     "text": [
      "100%|████████████████████████████████████████████████████████████████████████████████████| 4187/4187 [03:24<00:00, 20.46it/s]\n"
     ]
    },
    {
     "name": "stdout",
     "output_type": "stream",
     "text": [
      "Video Analyzed. Saving results in /home/vsridhar/DATA/DeepLabCut/projects/05_TerritoryDetectionP2-Vivek-2023-07-10/output/SSD6/20230314/SM_Lek1/P2D4...\n",
      "Using snapshot-50000 for model /home/vsridhar/DATA/DeepLabCut/projects/05_TerritoryDetectionP2-Vivek-2023-07-10/dlc-models/iteration-0/05_TerritoryDetectionP2Jul10-trainset90shuffle1\n",
      "Processing...  /media/vsridhar/T7/Work/Data/BlackbuckAnnotations/P2/downsampled/SSD6/20230314/SM_Lek1/P2D4/20230314_SM_Lek1_P2D4_DJI_0975.MP4\n",
      "Analyzing /home/vsridhar/DATA/DeepLabCut/projects/05_TerritoryDetectionP2-Vivek-2023-07-10/output/SSD6/20230314/SM_Lek1/P2D4/20230314_SM_Lek1_P2D4_DJI_0975DLC_dlcrnetms5_05_TerritoryDetectionP2Jul10shuffle1_50000.h5\n"
     ]
    },
    {
     "name": "stderr",
     "output_type": "stream",
     "text": [
      "100%|███████████████████████████████████████████████████████████████████████████████████| 4187/4187 [00:09<00:00, 431.48it/s]\n",
      "4187it [00:15, 265.48it/s]\n"
     ]
    },
    {
     "name": "stdout",
     "output_type": "stream",
     "text": [
      "The tracklets were created (i.e., under the hood deeplabcut.convert_detections2tracklets was run). Now you can 'refine_tracklets' in the GUI, or run 'deeplabcut.stitch_tracklets'.\n",
      "Processing...  /media/vsridhar/T7/Work/Data/BlackbuckAnnotations/P2/downsampled/SSD6/20230314/SM_Lek1/P2D4/20230314_SM_Lek1_P2D4_DJI_0975.MP4\n"
     ]
    },
    {
     "name": "stderr",
     "output_type": "stream",
     "text": [
      "/home/vsridhar/.local/lib/python3.10/site-packages/deeplabcut/refine_training_dataset/stitch.py:138: FutureWarning: Unlike other reduction functions (e.g. `skew`, `kurtosis`), the default behavior of `mode` typically preserves the axis it acts along. In SciPy 1.11.0, this behavior will change: the default value of `keepdims` will become False, the `axis` over which the statistic is taken will be eliminated, and the value None will no longer be accepted. Set `keepdims` to True or False to avoid this warning.\n",
      "  return mode(self.data[..., 3], axis=None, nan_policy=\"omit\")[0][0]\n",
      "100%|█████████████████████████████████████████████████████████████████████████████████████| 49/49 [00:00<00:00, 10795.87it/s]\n",
      "/home/vsridhar/.local/lib/python3.10/site-packages/deeplabcut/refine_training_dataset/stitch.py:690: UserWarning: No optimal solution found. Employing black magic...\n",
      "  warnings.warn(\"No optimal solution found. Employing black magic...\")\n",
      "/home/vsridhar/.local/lib/python3.10/site-packages/deeplabcut/refine_training_dataset/stitch.py:763: UserWarning: Only 49 tracks could be reconstructed.\n",
      "  warnings.warn(f\"Only {len(self.paths)} tracks could be reconstructed.\")\n"
     ]
    },
    {
     "name": "stdout",
     "output_type": "stream",
     "text": [
      "Starting to analyze %  /media/vsridhar/T7/Work/Data/BlackbuckAnnotations/P2/downsampled/SSD6/20230314/SM_Lek1/P2D4/20230314_SM_Lek1_P2D4_DJI_0972.MP4\n",
      "Video already analyzed! /home/vsridhar/DATA/DeepLabCut/projects/05_TerritoryDetectionP2-Vivek-2023-07-10/output/SSD6/20230314/SM_Lek1/P2D4/20230314_SM_Lek1_P2D4_DJI_0972DLC_dlcrnetms5_05_TerritoryDetectionP2Jul10shuffle1_50000.h5\n",
      "Using snapshot-50000 for model /home/vsridhar/DATA/DeepLabCut/projects/05_TerritoryDetectionP2-Vivek-2023-07-10/dlc-models/iteration-0/05_TerritoryDetectionP2Jul10-trainset90shuffle1\n",
      "Processing...  /media/vsridhar/T7/Work/Data/BlackbuckAnnotations/P2/downsampled/SSD6/20230314/SM_Lek1/P2D4/20230314_SM_Lek1_P2D4_DJI_0972.MP4\n",
      "Tracklets already computed /home/vsridhar/DATA/DeepLabCut/projects/05_TerritoryDetectionP2-Vivek-2023-07-10/output/SSD6/20230314/SM_Lek1/P2D4/20230314_SM_Lek1_P2D4_DJI_0972DLC_dlcrnetms5_05_TerritoryDetectionP2Jul10shuffle1_50000_el.pickle\n",
      "Set overwrite = True to overwrite.\n",
      "The tracklets were created (i.e., under the hood deeplabcut.convert_detections2tracklets was run). Now you can 'refine_tracklets' in the GUI, or run 'deeplabcut.stitch_tracklets'.\n",
      "Processing...  /media/vsridhar/T7/Work/Data/BlackbuckAnnotations/P2/downsampled/SSD6/20230314/SM_Lek1/P2D4/20230314_SM_Lek1_P2D4_DJI_0972.MP4\n"
     ]
    },
    {
     "name": "stderr",
     "output_type": "stream",
     "text": [
      "/home/vsridhar/.local/lib/python3.10/site-packages/deeplabcut/refine_training_dataset/stitch.py:138: FutureWarning: Unlike other reduction functions (e.g. `skew`, `kurtosis`), the default behavior of `mode` typically preserves the axis it acts along. In SciPy 1.11.0, this behavior will change: the default value of `keepdims` will become False, the `axis` over which the statistic is taken will be eliminated, and the value None will no longer be accepted. Set `keepdims` to True or False to avoid this warning.\n",
      "  return mode(self.data[..., 3], axis=None, nan_policy=\"omit\")[0][0]\n",
      "100%|██████████████████████████████████████████████████████████████████████████████████████| 86/86 [00:00<00:00, 4376.33it/s]\n"
     ]
    },
    {
     "name": "stdout",
     "output_type": "stream",
     "text": [
      "Starting to analyze %  /media/vsridhar/T7/Work/Data/BlackbuckAnnotations/P2/downsampled/SSD6/20230314/SM_Lek1/P2D4/20230314_SM_Lek1_P2D4_DJI_0963.MP4\n",
      "Loading  /media/vsridhar/T7/Work/Data/BlackbuckAnnotations/P2/downsampled/SSD6/20230314/SM_Lek1/P2D4/20230314_SM_Lek1_P2D4_DJI_0963.MP4\n",
      "Duration of video [s]:  194.03 , recorded with  29.97 fps!\n",
      "Overall # of frames:  5815  found with (before cropping) frame dimensions:  1824 1026\n",
      "Starting to extract posture from the video(s) with batchsize: 8\n"
     ]
    },
    {
     "name": "stderr",
     "output_type": "stream",
     "text": [
      "100%|████████████████████████████████████████████████████████████████████████████████████| 5815/5815 [04:41<00:00, 20.68it/s]\n"
     ]
    },
    {
     "name": "stdout",
     "output_type": "stream",
     "text": [
      "Video Analyzed. Saving results in /home/vsridhar/DATA/DeepLabCut/projects/05_TerritoryDetectionP2-Vivek-2023-07-10/output/SSD6/20230314/SM_Lek1/P2D4...\n",
      "Using snapshot-50000 for model /home/vsridhar/DATA/DeepLabCut/projects/05_TerritoryDetectionP2-Vivek-2023-07-10/dlc-models/iteration-0/05_TerritoryDetectionP2Jul10-trainset90shuffle1\n",
      "Processing...  /media/vsridhar/T7/Work/Data/BlackbuckAnnotations/P2/downsampled/SSD6/20230314/SM_Lek1/P2D4/20230314_SM_Lek1_P2D4_DJI_0963.MP4\n",
      "Analyzing /home/vsridhar/DATA/DeepLabCut/projects/05_TerritoryDetectionP2-Vivek-2023-07-10/output/SSD6/20230314/SM_Lek1/P2D4/20230314_SM_Lek1_P2D4_DJI_0963DLC_dlcrnetms5_05_TerritoryDetectionP2Jul10shuffle1_50000.h5\n"
     ]
    },
    {
     "name": "stderr",
     "output_type": "stream",
     "text": [
      "100%|███████████████████████████████████████████████████████████████████████████████████| 5815/5815 [00:14<00:00, 409.49it/s]\n",
      "5815it [00:22, 258.17it/s]\n"
     ]
    },
    {
     "name": "stdout",
     "output_type": "stream",
     "text": [
      "The tracklets were created (i.e., under the hood deeplabcut.convert_detections2tracklets was run). Now you can 'refine_tracklets' in the GUI, or run 'deeplabcut.stitch_tracklets'.\n",
      "Processing...  /media/vsridhar/T7/Work/Data/BlackbuckAnnotations/P2/downsampled/SSD6/20230314/SM_Lek1/P2D4/20230314_SM_Lek1_P2D4_DJI_0963.MP4\n"
     ]
    },
    {
     "name": "stderr",
     "output_type": "stream",
     "text": [
      "/home/vsridhar/.local/lib/python3.10/site-packages/deeplabcut/refine_training_dataset/stitch.py:138: FutureWarning: Unlike other reduction functions (e.g. `skew`, `kurtosis`), the default behavior of `mode` typically preserves the axis it acts along. In SciPy 1.11.0, this behavior will change: the default value of `keepdims` will become False, the `axis` over which the statistic is taken will be eliminated, and the value None will no longer be accepted. Set `keepdims` to True or False to avoid this warning.\n",
      "  return mode(self.data[..., 3], axis=None, nan_policy=\"omit\")[0][0]\n",
      "100%|████████████████████████████████████████████████████████████████████████████████████| 224/224 [00:00<00:00, 4596.97it/s]\n"
     ]
    },
    {
     "name": "stdout",
     "output_type": "stream",
     "text": [
      "Starting to analyze %  /media/vsridhar/T7/Work/Data/BlackbuckAnnotations/P2/downsampled/SSD6/20230314/SM_Lek1/P2D4/20230314_SM_Lek1_P2D4_DJI_0971.MP4\n",
      "Loading  /media/vsridhar/T7/Work/Data/BlackbuckAnnotations/P2/downsampled/SSD6/20230314/SM_Lek1/P2D4/20230314_SM_Lek1_P2D4_DJI_0971.MP4\n",
      "Duration of video [s]:  193.59 , recorded with  29.97 fps!\n",
      "Overall # of frames:  5802  found with (before cropping) frame dimensions:  1824 1026\n",
      "Starting to extract posture from the video(s) with batchsize: 8\n"
     ]
    },
    {
     "name": "stderr",
     "output_type": "stream",
     "text": [
      "100%|████████████████████████████████████████████████████████████████████████████████████| 5802/5802 [04:49<00:00, 20.05it/s]\n"
     ]
    },
    {
     "name": "stdout",
     "output_type": "stream",
     "text": [
      "Video Analyzed. Saving results in /home/vsridhar/DATA/DeepLabCut/projects/05_TerritoryDetectionP2-Vivek-2023-07-10/output/SSD6/20230314/SM_Lek1/P2D4...\n",
      "Using snapshot-50000 for model /home/vsridhar/DATA/DeepLabCut/projects/05_TerritoryDetectionP2-Vivek-2023-07-10/dlc-models/iteration-0/05_TerritoryDetectionP2Jul10-trainset90shuffle1\n",
      "Processing...  /media/vsridhar/T7/Work/Data/BlackbuckAnnotations/P2/downsampled/SSD6/20230314/SM_Lek1/P2D4/20230314_SM_Lek1_P2D4_DJI_0971.MP4\n",
      "Analyzing /home/vsridhar/DATA/DeepLabCut/projects/05_TerritoryDetectionP2-Vivek-2023-07-10/output/SSD6/20230314/SM_Lek1/P2D4/20230314_SM_Lek1_P2D4_DJI_0971DLC_dlcrnetms5_05_TerritoryDetectionP2Jul10shuffle1_50000.h5\n"
     ]
    },
    {
     "name": "stderr",
     "output_type": "stream",
     "text": [
      "100%|███████████████████████████████████████████████████████████████████████████████████| 5802/5802 [00:15<00:00, 367.78it/s]\n",
      "5802it [00:23, 243.34it/s]\n"
     ]
    },
    {
     "name": "stdout",
     "output_type": "stream",
     "text": [
      "The tracklets were created (i.e., under the hood deeplabcut.convert_detections2tracklets was run). Now you can 'refine_tracklets' in the GUI, or run 'deeplabcut.stitch_tracklets'.\n",
      "Processing...  /media/vsridhar/T7/Work/Data/BlackbuckAnnotations/P2/downsampled/SSD6/20230314/SM_Lek1/P2D4/20230314_SM_Lek1_P2D4_DJI_0971.MP4\n"
     ]
    },
    {
     "name": "stderr",
     "output_type": "stream",
     "text": [
      "/home/vsridhar/.local/lib/python3.10/site-packages/deeplabcut/refine_training_dataset/stitch.py:138: FutureWarning: Unlike other reduction functions (e.g. `skew`, `kurtosis`), the default behavior of `mode` typically preserves the axis it acts along. In SciPy 1.11.0, this behavior will change: the default value of `keepdims` will become False, the `axis` over which the statistic is taken will be eliminated, and the value None will no longer be accepted. Set `keepdims` to True or False to avoid this warning.\n",
      "  return mode(self.data[..., 3], axis=None, nan_policy=\"omit\")[0][0]\n",
      "100%|██████████████████████████████████████████████████████████████████████████████████████| 93/93 [00:00<00:00, 3940.74it/s]\n"
     ]
    },
    {
     "name": "stdout",
     "output_type": "stream",
     "text": [
      "Starting to analyze %  /media/vsridhar/T7/Work/Data/BlackbuckAnnotations/P2/downsampled/SSD6/20230314/SM_Lek1/P2D4/20230314_SM_Lek1_P2D4_DJI_0981.MP4\n",
      "Loading  /media/vsridhar/T7/Work/Data/BlackbuckAnnotations/P2/downsampled/SSD6/20230314/SM_Lek1/P2D4/20230314_SM_Lek1_P2D4_DJI_0981.MP4\n",
      "Duration of video [s]:  41.07 , recorded with  29.97 fps!\n",
      "Overall # of frames:  1231  found with (before cropping) frame dimensions:  1824 1026\n",
      "Starting to extract posture from the video(s) with batchsize: 8\n"
     ]
    },
    {
     "name": "stderr",
     "output_type": "stream",
     "text": [
      "100%|████████████████████████████████████████████████████████████████████████████████████| 1231/1231 [01:00<00:00, 20.34it/s]\n"
     ]
    },
    {
     "name": "stdout",
     "output_type": "stream",
     "text": [
      "Video Analyzed. Saving results in /home/vsridhar/DATA/DeepLabCut/projects/05_TerritoryDetectionP2-Vivek-2023-07-10/output/SSD6/20230314/SM_Lek1/P2D4...\n",
      "Using snapshot-50000 for model /home/vsridhar/DATA/DeepLabCut/projects/05_TerritoryDetectionP2-Vivek-2023-07-10/dlc-models/iteration-0/05_TerritoryDetectionP2Jul10-trainset90shuffle1\n",
      "Processing...  /media/vsridhar/T7/Work/Data/BlackbuckAnnotations/P2/downsampled/SSD6/20230314/SM_Lek1/P2D4/20230314_SM_Lek1_P2D4_DJI_0981.MP4\n",
      "Analyzing /home/vsridhar/DATA/DeepLabCut/projects/05_TerritoryDetectionP2-Vivek-2023-07-10/output/SSD6/20230314/SM_Lek1/P2D4/20230314_SM_Lek1_P2D4_DJI_0981DLC_dlcrnetms5_05_TerritoryDetectionP2Jul10shuffle1_50000.h5\n"
     ]
    },
    {
     "name": "stderr",
     "output_type": "stream",
     "text": [
      "100%|███████████████████████████████████████████████████████████████████████████████████| 1231/1231 [00:02<00:00, 469.00it/s]\n",
      "1231it [00:04, 266.32it/s]\n",
      "/home/vsridhar/.local/lib/python3.10/site-packages/deeplabcut/refine_training_dataset/stitch.py:138: FutureWarning: Unlike other reduction functions (e.g. `skew`, `kurtosis`), the default behavior of `mode` typically preserves the axis it acts along. In SciPy 1.11.0, this behavior will change: the default value of `keepdims` will become False, the `axis` over which the statistic is taken will be eliminated, and the value None will no longer be accepted. Set `keepdims` to True or False to avoid this warning.\n",
      "  return mode(self.data[..., 3], axis=None, nan_policy=\"omit\")[0][0]\n"
     ]
    },
    {
     "name": "stdout",
     "output_type": "stream",
     "text": [
      "The tracklets were created (i.e., under the hood deeplabcut.convert_detections2tracklets was run). Now you can 'refine_tracklets' in the GUI, or run 'deeplabcut.stitch_tracklets'.\n",
      "Processing...  /media/vsridhar/T7/Work/Data/BlackbuckAnnotations/P2/downsampled/SSD6/20230314/SM_Lek1/P2D4/20230314_SM_Lek1_P2D4_DJI_0981.MP4\n"
     ]
    },
    {
     "name": "stderr",
     "output_type": "stream",
     "text": [
      "100%|█████████████████████████████████████████████████████████████████████████████████████| 39/39 [00:00<00:00, 29773.91it/s]\n",
      "/home/vsridhar/.local/lib/python3.10/site-packages/deeplabcut/refine_training_dataset/stitch.py:690: UserWarning: No optimal solution found. Employing black magic...\n",
      "  warnings.warn(\"No optimal solution found. Employing black magic...\")\n",
      "/home/vsridhar/.local/lib/python3.10/site-packages/deeplabcut/refine_training_dataset/stitch.py:763: UserWarning: Only 39 tracks could be reconstructed.\n",
      "  warnings.warn(f\"Only {len(self.paths)} tracks could be reconstructed.\")\n"
     ]
    },
    {
     "name": "stdout",
     "output_type": "stream",
     "text": [
      "Starting to analyze %  /media/vsridhar/T7/Work/Data/BlackbuckAnnotations/P2/downsampled/SSD6/20230314/SM_Lek1/P2D4/20230314_SM_Lek1_P2D4_DJI_0970.MP4\n",
      "Loading  /media/vsridhar/T7/Work/Data/BlackbuckAnnotations/P2/downsampled/SSD6/20230314/SM_Lek1/P2D4/20230314_SM_Lek1_P2D4_DJI_0970.MP4\n",
      "Duration of video [s]:  138.74 , recorded with  29.97 fps!\n",
      "Overall # of frames:  4158  found with (before cropping) frame dimensions:  1824 1026\n",
      "Starting to extract posture from the video(s) with batchsize: 8\n"
     ]
    },
    {
     "name": "stderr",
     "output_type": "stream",
     "text": [
      "100%|████████████████████████████████████████████████████████████████████████████████████| 4158/4158 [03:23<00:00, 20.38it/s]\n"
     ]
    },
    {
     "name": "stdout",
     "output_type": "stream",
     "text": [
      "Video Analyzed. Saving results in /home/vsridhar/DATA/DeepLabCut/projects/05_TerritoryDetectionP2-Vivek-2023-07-10/output/SSD6/20230314/SM_Lek1/P2D4...\n",
      "Using snapshot-50000 for model /home/vsridhar/DATA/DeepLabCut/projects/05_TerritoryDetectionP2-Vivek-2023-07-10/dlc-models/iteration-0/05_TerritoryDetectionP2Jul10-trainset90shuffle1\n",
      "Processing...  /media/vsridhar/T7/Work/Data/BlackbuckAnnotations/P2/downsampled/SSD6/20230314/SM_Lek1/P2D4/20230314_SM_Lek1_P2D4_DJI_0970.MP4\n",
      "Analyzing /home/vsridhar/DATA/DeepLabCut/projects/05_TerritoryDetectionP2-Vivek-2023-07-10/output/SSD6/20230314/SM_Lek1/P2D4/20230314_SM_Lek1_P2D4_DJI_0970DLC_dlcrnetms5_05_TerritoryDetectionP2Jul10shuffle1_50000.h5\n"
     ]
    },
    {
     "name": "stderr",
     "output_type": "stream",
     "text": [
      "100%|███████████████████████████████████████████████████████████████████████████████████| 4158/4158 [00:09<00:00, 424.19it/s]\n",
      "4158it [00:16, 259.58it/s]\n"
     ]
    },
    {
     "name": "stdout",
     "output_type": "stream",
     "text": [
      "The tracklets were created (i.e., under the hood deeplabcut.convert_detections2tracklets was run). Now you can 'refine_tracklets' in the GUI, or run 'deeplabcut.stitch_tracklets'.\n",
      "Processing...  /media/vsridhar/T7/Work/Data/BlackbuckAnnotations/P2/downsampled/SSD6/20230314/SM_Lek1/P2D4/20230314_SM_Lek1_P2D4_DJI_0970.MP4\n"
     ]
    },
    {
     "name": "stderr",
     "output_type": "stream",
     "text": [
      "/home/vsridhar/.local/lib/python3.10/site-packages/deeplabcut/refine_training_dataset/stitch.py:138: FutureWarning: Unlike other reduction functions (e.g. `skew`, `kurtosis`), the default behavior of `mode` typically preserves the axis it acts along. In SciPy 1.11.0, this behavior will change: the default value of `keepdims` will become False, the `axis` over which the statistic is taken will be eliminated, and the value None will no longer be accepted. Set `keepdims` to True or False to avoid this warning.\n",
      "  return mode(self.data[..., 3], axis=None, nan_policy=\"omit\")[0][0]\n",
      "100%|████████████████████████████████████████████████████████████████████████████████████| 109/109 [00:00<00:00, 1736.44it/s]\n"
     ]
    },
    {
     "name": "stdout",
     "output_type": "stream",
     "text": [
      "Starting to analyze %  /media/vsridhar/T7/Work/Data/BlackbuckAnnotations/P2/downsampled/SSD6/20230314/SM_Lek1/P2D4/20230314_SM_Lek1_P2D4_DJI_0974.MP4\n",
      "Video already analyzed! /home/vsridhar/DATA/DeepLabCut/projects/05_TerritoryDetectionP2-Vivek-2023-07-10/output/SSD6/20230314/SM_Lek1/P2D4/20230314_SM_Lek1_P2D4_DJI_0974DLC_dlcrnetms5_05_TerritoryDetectionP2Jul10shuffle1_50000.h5\n",
      "Using snapshot-50000 for model /home/vsridhar/DATA/DeepLabCut/projects/05_TerritoryDetectionP2-Vivek-2023-07-10/dlc-models/iteration-0/05_TerritoryDetectionP2Jul10-trainset90shuffle1\n",
      "Processing...  /media/vsridhar/T7/Work/Data/BlackbuckAnnotations/P2/downsampled/SSD6/20230314/SM_Lek1/P2D4/20230314_SM_Lek1_P2D4_DJI_0974.MP4\n",
      "Tracklets already computed /home/vsridhar/DATA/DeepLabCut/projects/05_TerritoryDetectionP2-Vivek-2023-07-10/output/SSD6/20230314/SM_Lek1/P2D4/20230314_SM_Lek1_P2D4_DJI_0974DLC_dlcrnetms5_05_TerritoryDetectionP2Jul10shuffle1_50000_el.pickle\n",
      "Set overwrite = True to overwrite.\n",
      "The tracklets were created (i.e., under the hood deeplabcut.convert_detections2tracklets was run). Now you can 'refine_tracklets' in the GUI, or run 'deeplabcut.stitch_tracklets'.\n",
      "Processing...  /media/vsridhar/T7/Work/Data/BlackbuckAnnotations/P2/downsampled/SSD6/20230314/SM_Lek1/P2D4/20230314_SM_Lek1_P2D4_DJI_0974.MP4\n"
     ]
    },
    {
     "name": "stderr",
     "output_type": "stream",
     "text": [
      "/home/vsridhar/.local/lib/python3.10/site-packages/deeplabcut/refine_training_dataset/stitch.py:138: FutureWarning: Unlike other reduction functions (e.g. `skew`, `kurtosis`), the default behavior of `mode` typically preserves the axis it acts along. In SciPy 1.11.0, this behavior will change: the default value of `keepdims` will become False, the `axis` over which the statistic is taken will be eliminated, and the value None will no longer be accepted. Set `keepdims` to True or False to avoid this warning.\n",
      "  return mode(self.data[..., 3], axis=None, nan_policy=\"omit\")[0][0]\n",
      "100%|██████████████████████████████████████████████████████████████████████████████████████| 82/82 [00:00<00:00, 4979.05it/s]\n"
     ]
    },
    {
     "name": "stdout",
     "output_type": "stream",
     "text": [
      "Starting to analyze %  /media/vsridhar/T7/Work/Data/BlackbuckAnnotations/P2/downsampled/SSD6/20230314/SM_Lek1/P2D4/20230314_SM_Lek1_P2D4_DJI_0976.MP4\n",
      "Loading  /media/vsridhar/T7/Work/Data/BlackbuckAnnotations/P2/downsampled/SSD6/20230314/SM_Lek1/P2D4/20230314_SM_Lek1_P2D4_DJI_0976.MP4\n",
      "Duration of video [s]:  193.59 , recorded with  29.97 fps!\n",
      "Overall # of frames:  5802  found with (before cropping) frame dimensions:  1824 1026\n",
      "Starting to extract posture from the video(s) with batchsize: 8\n"
     ]
    },
    {
     "name": "stderr",
     "output_type": "stream",
     "text": [
      "100%|████████████████████████████████████████████████████████████████████████████████████| 5802/5802 [04:47<00:00, 20.16it/s]\n"
     ]
    },
    {
     "name": "stdout",
     "output_type": "stream",
     "text": [
      "Video Analyzed. Saving results in /home/vsridhar/DATA/DeepLabCut/projects/05_TerritoryDetectionP2-Vivek-2023-07-10/output/SSD6/20230314/SM_Lek1/P2D4...\n",
      "Using snapshot-50000 for model /home/vsridhar/DATA/DeepLabCut/projects/05_TerritoryDetectionP2-Vivek-2023-07-10/dlc-models/iteration-0/05_TerritoryDetectionP2Jul10-trainset90shuffle1\n",
      "Processing...  /media/vsridhar/T7/Work/Data/BlackbuckAnnotations/P2/downsampled/SSD6/20230314/SM_Lek1/P2D4/20230314_SM_Lek1_P2D4_DJI_0976.MP4\n",
      "Analyzing /home/vsridhar/DATA/DeepLabCut/projects/05_TerritoryDetectionP2-Vivek-2023-07-10/output/SSD6/20230314/SM_Lek1/P2D4/20230314_SM_Lek1_P2D4_DJI_0976DLC_dlcrnetms5_05_TerritoryDetectionP2Jul10shuffle1_50000.h5\n"
     ]
    },
    {
     "name": "stderr",
     "output_type": "stream",
     "text": [
      "100%|███████████████████████████████████████████████████████████████████████████████████| 5802/5802 [00:16<00:00, 361.79it/s]\n",
      "5802it [00:25, 229.64it/s]\n"
     ]
    },
    {
     "name": "stdout",
     "output_type": "stream",
     "text": [
      "The tracklets were created (i.e., under the hood deeplabcut.convert_detections2tracklets was run). Now you can 'refine_tracklets' in the GUI, or run 'deeplabcut.stitch_tracklets'.\n",
      "Processing...  /media/vsridhar/T7/Work/Data/BlackbuckAnnotations/P2/downsampled/SSD6/20230314/SM_Lek1/P2D4/20230314_SM_Lek1_P2D4_DJI_0976.MP4\n"
     ]
    },
    {
     "name": "stderr",
     "output_type": "stream",
     "text": [
      "/home/vsridhar/.local/lib/python3.10/site-packages/deeplabcut/refine_training_dataset/stitch.py:138: FutureWarning: Unlike other reduction functions (e.g. `skew`, `kurtosis`), the default behavior of `mode` typically preserves the axis it acts along. In SciPy 1.11.0, this behavior will change: the default value of `keepdims` will become False, the `axis` over which the statistic is taken will be eliminated, and the value None will no longer be accepted. Set `keepdims` to True or False to avoid this warning.\n",
      "  return mode(self.data[..., 3], axis=None, nan_policy=\"omit\")[0][0]\n",
      "100%|████████████████████████████████████████████████████████████████████████████████████| 133/133 [00:00<00:00, 1717.87it/s]\n"
     ]
    },
    {
     "name": "stdout",
     "output_type": "stream",
     "text": [
      "Starting to analyze %  /media/vsridhar/T7/Work/Data/BlackbuckAnnotations/P2/downsampled/SSD6/20230314/SM_Lek1/P2D4/20230314_SM_Lek1_P2D4_DJI_0973.MP4\n",
      "Video already analyzed! /home/vsridhar/DATA/DeepLabCut/projects/05_TerritoryDetectionP2-Vivek-2023-07-10/output/SSD6/20230314/SM_Lek1/P2D4/20230314_SM_Lek1_P2D4_DJI_0973DLC_dlcrnetms5_05_TerritoryDetectionP2Jul10shuffle1_50000.h5\n",
      "Using snapshot-50000 for model /home/vsridhar/DATA/DeepLabCut/projects/05_TerritoryDetectionP2-Vivek-2023-07-10/dlc-models/iteration-0/05_TerritoryDetectionP2Jul10-trainset90shuffle1\n",
      "Processing...  /media/vsridhar/T7/Work/Data/BlackbuckAnnotations/P2/downsampled/SSD6/20230314/SM_Lek1/P2D4/20230314_SM_Lek1_P2D4_DJI_0973.MP4\n",
      "Tracklets already computed /home/vsridhar/DATA/DeepLabCut/projects/05_TerritoryDetectionP2-Vivek-2023-07-10/output/SSD6/20230314/SM_Lek1/P2D4/20230314_SM_Lek1_P2D4_DJI_0973DLC_dlcrnetms5_05_TerritoryDetectionP2Jul10shuffle1_50000_el.pickle\n",
      "Set overwrite = True to overwrite.\n",
      "The tracklets were created (i.e., under the hood deeplabcut.convert_detections2tracklets was run). Now you can 'refine_tracklets' in the GUI, or run 'deeplabcut.stitch_tracklets'.\n",
      "Processing...  /media/vsridhar/T7/Work/Data/BlackbuckAnnotations/P2/downsampled/SSD6/20230314/SM_Lek1/P2D4/20230314_SM_Lek1_P2D4_DJI_0973.MP4\n"
     ]
    },
    {
     "name": "stderr",
     "output_type": "stream",
     "text": [
      "/home/vsridhar/.local/lib/python3.10/site-packages/deeplabcut/refine_training_dataset/stitch.py:138: FutureWarning: Unlike other reduction functions (e.g. `skew`, `kurtosis`), the default behavior of `mode` typically preserves the axis it acts along. In SciPy 1.11.0, this behavior will change: the default value of `keepdims` will become False, the `axis` over which the statistic is taken will be eliminated, and the value None will no longer be accepted. Set `keepdims` to True or False to avoid this warning.\n",
      "  return mode(self.data[..., 3], axis=None, nan_policy=\"omit\")[0][0]\n",
      "100%|██████████████████████████████████████████████████████████████████████████████████████| 68/68 [00:00<00:00, 9249.64it/s]\n"
     ]
    },
    {
     "name": "stdout",
     "output_type": "stream",
     "text": [
      "Starting to analyze %  /media/vsridhar/T7/Work/Data/BlackbuckAnnotations/P2/downsampled/SSD6/20230314/SM_Lek1/P2D4/20230314_SM_Lek1_P2D4_DJI_0979.MP4\n",
      "Loading  /media/vsridhar/T7/Work/Data/BlackbuckAnnotations/P2/downsampled/SSD6/20230314/SM_Lek1/P2D4/20230314_SM_Lek1_P2D4_DJI_0979.MP4\n",
      "Duration of video [s]:  193.99 , recorded with  29.97 fps!\n",
      "Overall # of frames:  5814  found with (before cropping) frame dimensions:  1824 1026\n",
      "Starting to extract posture from the video(s) with batchsize: 8\n"
     ]
    },
    {
     "name": "stderr",
     "output_type": "stream",
     "text": [
      "100%|████████████████████████████████████████████████████████████████████████████████████| 5814/5814 [04:44<00:00, 20.40it/s]\n"
     ]
    },
    {
     "name": "stdout",
     "output_type": "stream",
     "text": [
      "Video Analyzed. Saving results in /home/vsridhar/DATA/DeepLabCut/projects/05_TerritoryDetectionP2-Vivek-2023-07-10/output/SSD6/20230314/SM_Lek1/P2D4...\n",
      "Using snapshot-50000 for model /home/vsridhar/DATA/DeepLabCut/projects/05_TerritoryDetectionP2-Vivek-2023-07-10/dlc-models/iteration-0/05_TerritoryDetectionP2Jul10-trainset90shuffle1\n",
      "Processing...  /media/vsridhar/T7/Work/Data/BlackbuckAnnotations/P2/downsampled/SSD6/20230314/SM_Lek1/P2D4/20230314_SM_Lek1_P2D4_DJI_0979.MP4\n",
      "Analyzing /home/vsridhar/DATA/DeepLabCut/projects/05_TerritoryDetectionP2-Vivek-2023-07-10/output/SSD6/20230314/SM_Lek1/P2D4/20230314_SM_Lek1_P2D4_DJI_0979DLC_dlcrnetms5_05_TerritoryDetectionP2Jul10shuffle1_50000.h5\n"
     ]
    },
    {
     "name": "stderr",
     "output_type": "stream",
     "text": [
      "100%|███████████████████████████████████████████████████████████████████████████████████| 5814/5814 [00:13<00:00, 428.22it/s]\n",
      "5814it [00:22, 261.50it/s]\n"
     ]
    },
    {
     "name": "stdout",
     "output_type": "stream",
     "text": [
      "The tracklets were created (i.e., under the hood deeplabcut.convert_detections2tracklets was run). Now you can 'refine_tracklets' in the GUI, or run 'deeplabcut.stitch_tracklets'.\n",
      "Processing...  /media/vsridhar/T7/Work/Data/BlackbuckAnnotations/P2/downsampled/SSD6/20230314/SM_Lek1/P2D4/20230314_SM_Lek1_P2D4_DJI_0979.MP4\n"
     ]
    },
    {
     "name": "stderr",
     "output_type": "stream",
     "text": [
      "/home/vsridhar/.local/lib/python3.10/site-packages/deeplabcut/refine_training_dataset/stitch.py:138: FutureWarning: Unlike other reduction functions (e.g. `skew`, `kurtosis`), the default behavior of `mode` typically preserves the axis it acts along. In SciPy 1.11.0, this behavior will change: the default value of `keepdims` will become False, the `axis` over which the statistic is taken will be eliminated, and the value None will no longer be accepted. Set `keepdims` to True or False to avoid this warning.\n",
      "  return mode(self.data[..., 3], axis=None, nan_policy=\"omit\")[0][0]\n",
      "100%|██████████████████████████████████████████████████████████████████████████████████████| 50/50 [00:00<00:00, 9124.00it/s]\n",
      "/home/vsridhar/.local/lib/python3.10/site-packages/deeplabcut/refine_training_dataset/stitch.py:690: UserWarning: No optimal solution found. Employing black magic...\n",
      "  warnings.warn(\"No optimal solution found. Employing black magic...\")\n",
      "/home/vsridhar/.local/lib/python3.10/site-packages/deeplabcut/refine_training_dataset/stitch.py:763: UserWarning: Only 50 tracks could be reconstructed.\n",
      "  warnings.warn(f\"Only {len(self.paths)} tracks could be reconstructed.\")\n"
     ]
    },
    {
     "name": "stdout",
     "output_type": "stream",
     "text": [
      "Starting to analyze %  /media/vsridhar/T7/Work/Data/BlackbuckAnnotations/P2/downsampled/SSD6/20230314/SM_Lek1/P2D4/20230314_SM_Lek1_P2D4_DJI_0969.MP4\n",
      "Loading  /media/vsridhar/T7/Work/Data/BlackbuckAnnotations/P2/downsampled/SSD6/20230314/SM_Lek1/P2D4/20230314_SM_Lek1_P2D4_DJI_0969.MP4\n",
      "Duration of video [s]:  193.93 , recorded with  29.97 fps!\n",
      "Overall # of frames:  5812  found with (before cropping) frame dimensions:  1824 1026\n",
      "Starting to extract posture from the video(s) with batchsize: 8\n"
     ]
    },
    {
     "name": "stderr",
     "output_type": "stream",
     "text": [
      "100%|████████████████████████████████████████████████████████████████████████████████████| 5812/5812 [04:42<00:00, 20.56it/s]\n"
     ]
    },
    {
     "name": "stdout",
     "output_type": "stream",
     "text": [
      "Video Analyzed. Saving results in /home/vsridhar/DATA/DeepLabCut/projects/05_TerritoryDetectionP2-Vivek-2023-07-10/output/SSD6/20230314/SM_Lek1/P2D4...\n",
      "Using snapshot-50000 for model /home/vsridhar/DATA/DeepLabCut/projects/05_TerritoryDetectionP2-Vivek-2023-07-10/dlc-models/iteration-0/05_TerritoryDetectionP2Jul10-trainset90shuffle1\n",
      "Processing...  /media/vsridhar/T7/Work/Data/BlackbuckAnnotations/P2/downsampled/SSD6/20230314/SM_Lek1/P2D4/20230314_SM_Lek1_P2D4_DJI_0969.MP4\n",
      "Analyzing /home/vsridhar/DATA/DeepLabCut/projects/05_TerritoryDetectionP2-Vivek-2023-07-10/output/SSD6/20230314/SM_Lek1/P2D4/20230314_SM_Lek1_P2D4_DJI_0969DLC_dlcrnetms5_05_TerritoryDetectionP2Jul10shuffle1_50000.h5\n"
     ]
    },
    {
     "name": "stderr",
     "output_type": "stream",
     "text": [
      "100%|███████████████████████████████████████████████████████████████████████████████████| 5812/5812 [00:13<00:00, 419.24it/s]\n",
      "5812it [00:22, 262.96it/s]\n"
     ]
    },
    {
     "name": "stdout",
     "output_type": "stream",
     "text": [
      "The tracklets were created (i.e., under the hood deeplabcut.convert_detections2tracklets was run). Now you can 'refine_tracklets' in the GUI, or run 'deeplabcut.stitch_tracklets'.\n",
      "Processing...  /media/vsridhar/T7/Work/Data/BlackbuckAnnotations/P2/downsampled/SSD6/20230314/SM_Lek1/P2D4/20230314_SM_Lek1_P2D4_DJI_0969.MP4\n"
     ]
    },
    {
     "name": "stderr",
     "output_type": "stream",
     "text": [
      "/home/vsridhar/.local/lib/python3.10/site-packages/deeplabcut/refine_training_dataset/stitch.py:138: FutureWarning: Unlike other reduction functions (e.g. `skew`, `kurtosis`), the default behavior of `mode` typically preserves the axis it acts along. In SciPy 1.11.0, this behavior will change: the default value of `keepdims` will become False, the `axis` over which the statistic is taken will be eliminated, and the value None will no longer be accepted. Set `keepdims` to True or False to avoid this warning.\n",
      "  return mode(self.data[..., 3], axis=None, nan_policy=\"omit\")[0][0]\n",
      "100%|█████████████████████████████████████████████████████████████████████████████████████| 57/57 [00:00<00:00, 10646.39it/s]\n",
      "/home/vsridhar/.local/lib/python3.10/site-packages/deeplabcut/refine_training_dataset/stitch.py:690: UserWarning: No optimal solution found. Employing black magic...\n",
      "  warnings.warn(\"No optimal solution found. Employing black magic...\")\n",
      "/home/vsridhar/.local/lib/python3.10/site-packages/deeplabcut/refine_training_dataset/stitch.py:763: UserWarning: Only 57 tracks could be reconstructed.\n",
      "  warnings.warn(f\"Only {len(self.paths)} tracks could be reconstructed.\")\n"
     ]
    },
    {
     "name": "stdout",
     "output_type": "stream",
     "text": [
      "Starting to analyze %  /media/vsridhar/T7/Work/Data/BlackbuckAnnotations/P2/downsampled/SSD6/20230314/SM_Lek1/P2D4/20230314_SM_Lek1_P2D4_DJI_0965.MP4\n",
      "Loading  /media/vsridhar/T7/Work/Data/BlackbuckAnnotations/P2/downsampled/SSD6/20230314/SM_Lek1/P2D4/20230314_SM_Lek1_P2D4_DJI_0965.MP4\n",
      "Duration of video [s]:  170.2 , recorded with  29.97 fps!\n",
      "Overall # of frames:  5101  found with (before cropping) frame dimensions:  1824 1026\n",
      "Starting to extract posture from the video(s) with batchsize: 8\n"
     ]
    },
    {
     "name": "stderr",
     "output_type": "stream",
     "text": [
      "100%|████████████████████████████████████████████████████████████████████████████████████| 5101/5101 [04:07<00:00, 20.62it/s]\n"
     ]
    },
    {
     "name": "stdout",
     "output_type": "stream",
     "text": [
      "Video Analyzed. Saving results in /home/vsridhar/DATA/DeepLabCut/projects/05_TerritoryDetectionP2-Vivek-2023-07-10/output/SSD6/20230314/SM_Lek1/P2D4...\n",
      "Using snapshot-50000 for model /home/vsridhar/DATA/DeepLabCut/projects/05_TerritoryDetectionP2-Vivek-2023-07-10/dlc-models/iteration-0/05_TerritoryDetectionP2Jul10-trainset90shuffle1\n",
      "Processing...  /media/vsridhar/T7/Work/Data/BlackbuckAnnotations/P2/downsampled/SSD6/20230314/SM_Lek1/P2D4/20230314_SM_Lek1_P2D4_DJI_0965.MP4\n",
      "Analyzing /home/vsridhar/DATA/DeepLabCut/projects/05_TerritoryDetectionP2-Vivek-2023-07-10/output/SSD6/20230314/SM_Lek1/P2D4/20230314_SM_Lek1_P2D4_DJI_0965DLC_dlcrnetms5_05_TerritoryDetectionP2Jul10shuffle1_50000.h5\n"
     ]
    },
    {
     "name": "stderr",
     "output_type": "stream",
     "text": [
      "100%|███████████████████████████████████████████████████████████████████████████████████| 5101/5101 [00:12<00:00, 412.51it/s]\n",
      "5101it [00:19, 261.37it/s]\n"
     ]
    },
    {
     "name": "stdout",
     "output_type": "stream",
     "text": [
      "The tracklets were created (i.e., under the hood deeplabcut.convert_detections2tracklets was run). Now you can 'refine_tracklets' in the GUI, or run 'deeplabcut.stitch_tracklets'.\n",
      "Processing...  /media/vsridhar/T7/Work/Data/BlackbuckAnnotations/P2/downsampled/SSD6/20230314/SM_Lek1/P2D4/20230314_SM_Lek1_P2D4_DJI_0965.MP4\n"
     ]
    },
    {
     "name": "stderr",
     "output_type": "stream",
     "text": [
      "/home/vsridhar/.local/lib/python3.10/site-packages/deeplabcut/refine_training_dataset/stitch.py:138: FutureWarning: Unlike other reduction functions (e.g. `skew`, `kurtosis`), the default behavior of `mode` typically preserves the axis it acts along. In SciPy 1.11.0, this behavior will change: the default value of `keepdims` will become False, the `axis` over which the statistic is taken will be eliminated, and the value None will no longer be accepted. Set `keepdims` to True or False to avoid this warning.\n",
      "  return mode(self.data[..., 3], axis=None, nan_policy=\"omit\")[0][0]\n",
      "100%|████████████████████████████████████████████████████████████████████████████████████| 303/303 [00:00<00:00, 3338.64it/s]\n"
     ]
    },
    {
     "name": "stdout",
     "output_type": "stream",
     "text": [
      "Starting to analyze %  /media/vsridhar/T7/Work/Data/BlackbuckAnnotations/P2/downsampled/SSD6/20230314/SM_Lek1/P2D4/20230314_SM_Lek1_P2D4_DJI_0980.MP4\n",
      "Video already analyzed! /home/vsridhar/DATA/DeepLabCut/projects/05_TerritoryDetectionP2-Vivek-2023-07-10/output/SSD6/20230314/SM_Lek1/P2D4/20230314_SM_Lek1_P2D4_DJI_0980DLC_dlcrnetms5_05_TerritoryDetectionP2Jul10shuffle1_50000.h5\n",
      "Using snapshot-50000 for model /home/vsridhar/DATA/DeepLabCut/projects/05_TerritoryDetectionP2-Vivek-2023-07-10/dlc-models/iteration-0/05_TerritoryDetectionP2Jul10-trainset90shuffle1\n",
      "Processing...  /media/vsridhar/T7/Work/Data/BlackbuckAnnotations/P2/downsampled/SSD6/20230314/SM_Lek1/P2D4/20230314_SM_Lek1_P2D4_DJI_0980.MP4\n",
      "Tracklets already computed /home/vsridhar/DATA/DeepLabCut/projects/05_TerritoryDetectionP2-Vivek-2023-07-10/output/SSD6/20230314/SM_Lek1/P2D4/20230314_SM_Lek1_P2D4_DJI_0980DLC_dlcrnetms5_05_TerritoryDetectionP2Jul10shuffle1_50000_el.pickle\n",
      "Set overwrite = True to overwrite.\n",
      "The tracklets were created (i.e., under the hood deeplabcut.convert_detections2tracklets was run). Now you can 'refine_tracklets' in the GUI, or run 'deeplabcut.stitch_tracklets'.\n",
      "Processing...  /media/vsridhar/T7/Work/Data/BlackbuckAnnotations/P2/downsampled/SSD6/20230314/SM_Lek1/P2D4/20230314_SM_Lek1_P2D4_DJI_0980.MP4\n"
     ]
    },
    {
     "name": "stderr",
     "output_type": "stream",
     "text": [
      "/home/vsridhar/.local/lib/python3.10/site-packages/deeplabcut/refine_training_dataset/stitch.py:138: FutureWarning: Unlike other reduction functions (e.g. `skew`, `kurtosis`), the default behavior of `mode` typically preserves the axis it acts along. In SciPy 1.11.0, this behavior will change: the default value of `keepdims` will become False, the `axis` over which the statistic is taken will be eliminated, and the value None will no longer be accepted. Set `keepdims` to True or False to avoid this warning.\n",
      "  return mode(self.data[..., 3], axis=None, nan_policy=\"omit\")[0][0]\n",
      "100%|█████████████████████████████████████████████████████████████████████████████████████| 44/44 [00:00<00:00, 16082.73it/s]\n",
      "/home/vsridhar/.local/lib/python3.10/site-packages/deeplabcut/refine_training_dataset/stitch.py:690: UserWarning: No optimal solution found. Employing black magic...\n",
      "  warnings.warn(\"No optimal solution found. Employing black magic...\")\n",
      "/home/vsridhar/.local/lib/python3.10/site-packages/deeplabcut/refine_training_dataset/stitch.py:763: UserWarning: Only 44 tracks could be reconstructed.\n",
      "  warnings.warn(f\"Only {len(self.paths)} tracks could be reconstructed.\")\n"
     ]
    },
    {
     "name": "stdout",
     "output_type": "stream",
     "text": [
      "The videos are analyzed. Time to assemble animals and track 'em... \n",
      " Call 'create_video_with_all_detections' to check multi-animal detection quality before tracking.\n",
      "If the tracking is not satisfactory for some videos, consider expanding the training set. You can use the function 'extract_outlier_frames' to extract a few representative outlier frames.\n"
     ]
    }
   ],
   "source": [
    "for ssd in SSD:\n",
    "    for date in DATE:\n",
    "        for session in SESSION:\n",
    "            for drone in DRONE:\n",
    "                internal_path = '/' + ssd + '/' + date + '/' + session + '/' + drone\n",
    "                \n",
    "                deeplabcut.analyze_videos(config_path,\n",
    "                                          ['/media/vsridhar/T7/Work/Data/BlackbuckAnnotations/P2/downsampled' + internal_path],\n",
    "                                          videotype='MP4',\n",
    "                                          destfolder='/home/vsridhar/DATA/DeepLabCut/projects/05_TerritoryDetectionP2-Vivek-2023-07-10/output' + internal_path,\n",
    "                                          gputouse=0, \n",
    "                                          save_as_csv=False,\n",
    "                                          allow_growth=True,\n",
    "                                          auto_track=True)"
   ]
  },
  {
   "cell_type": "code",
   "execution_count": null,
   "id": "2be8ea03",
   "metadata": {},
   "outputs": [],
   "source": []
  }
 ],
 "metadata": {
  "kernelspec": {
   "display_name": "Python 3 (ipykernel)",
   "language": "python",
   "name": "python3"
  },
  "language_info": {
   "codemirror_mode": {
    "name": "ipython",
    "version": 3
   },
   "file_extension": ".py",
   "mimetype": "text/x-python",
   "name": "python",
   "nbconvert_exporter": "python",
   "pygments_lexer": "ipython3",
   "version": "3.10.12"
  }
 },
 "nbformat": 4,
 "nbformat_minor": 5
}
