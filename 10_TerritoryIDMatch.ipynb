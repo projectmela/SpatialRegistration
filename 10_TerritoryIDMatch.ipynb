{
 "cells": [
  {
   "cell_type": "code",
   "execution_count": 1,
   "id": "37c7507f",
   "metadata": {},
   "outputs": [],
   "source": [
    "import subprocess\n",
    "import glob"
   ]
  },
  {
   "cell_type": "code",
   "execution_count": 2,
   "id": "3298f385",
   "metadata": {},
   "outputs": [],
   "source": [
    "DATE = ['20230318']#, '20230314', '20230316']\n",
    "SESSION = ['SM_Lek1']#, 'SE_Lek1']\n",
    "\n",
    "files_directory = '/Volumes/SSD5'"
   ]
  },
  {
   "cell_type": "code",
   "execution_count": 3,
   "id": "ba8ebf68",
   "metadata": {},
   "outputs": [
    {
     "name": "stdout",
     "output_type": "stream",
     "text": [
      "20230318 SM_Lek1\n",
      "Input DLC folder: /Volumes/SSD5/20230318/SM_Lek1/P3D5\n",
      "Input Metashape file: /Volumes/SSD5/20230318/SM_Lek1//TalChhapar_20230318_SM_Lek1/output/20230318_SM_Lek1_territories_uv.csv\n"
     ]
    },
    {
     "name": "stderr",
     "output_type": "stream",
     "text": [
      "Frame processing: 100%|██████████| 5806/5806 [00:24<00:00, 234.38it/s]\n",
      "Frame processing: 100%|██████████| 5802/5802 [00:26<00:00, 222.74it/s]\n",
      "Frame processing: 100%|██████████| 5852/5852 [00:24<00:00, 238.26it/s]\n",
      "Frame processing: 100%|██████████| 5816/5816 [00:24<00:00, 234.15it/s]\n",
      "Frame processing: 100%|██████████| 5814/5814 [00:24<00:00, 234.21it/s]\n",
      "Frame processing: 100%|██████████| 5811/5811 [00:25<00:00, 229.99it/s]\n",
      "Frame processing: 100%|██████████| 3402/3402 [00:13<00:00, 249.41it/s]\n",
      "Frame processing: 100%|██████████| 5814/5814 [00:25<00:00, 225.69it/s]\n",
      "Frame processing: 100%|██████████| 5814/5814 [00:26<00:00, 218.74it/s]\n",
      "Frame processing: 100%|██████████| 5813/5813 [00:26<00:00, 220.13it/s]\n",
      "Frame processing: 100%|██████████| 5814/5814 [00:25<00:00, 225.72it/s]\n",
      "Frame processing: 100%|██████████| 5817/5817 [00:25<00:00, 230.74it/s]\n",
      "Frame processing: 100%|██████████| 2368/2368 [00:10<00:00, 234.10it/s]\n",
      "Frame processing: 100%|██████████| 5803/5803 [00:27<00:00, 210.31it/s]\n",
      "Frame processing: 100%|██████████| 5812/5812 [00:25<00:00, 225.37it/s]\n",
      "Frame processing: 100%|██████████| 5816/5816 [00:25<00:00, 223.95it/s]\n",
      "Frame processing: 100%|██████████| 5811/5811 [00:26<00:00, 219.94it/s]\n",
      "Frame processing: 100%|██████████| 2565/2565 [00:09<00:00, 261.92it/s]\n"
     ]
    }
   ],
   "source": [
    "for date in DATE:\n",
    "    for session in SESSION:\n",
    "        print(date, session)\n",
    "\n",
    "        internal_path = files_directory + '/' + date + '/' + session + '/'\n",
    "        metashape_csv = glob.glob(internal_path + '/TalChhapar_' + date + '_' + session + '/output/' + '*.csv')\n",
    "\n",
    "        dlc_folders = [\n",
    "#             files_directory + '/' + date + '/' + session + '/' + 'P1D1',\n",
    "#             files_directory + '/' + date + '/' + session + '/' + 'P1D2',\n",
    "#             files_directory + '/' + date + '/' + session + '/' + 'P2D3',\n",
    "#             files_directory + '/' + date + '/' + session + '/' + 'P2D4',\n",
    "            files_directory + '/' + date + '/' + session + '/' + 'P3D5',\n",
    "#             files_directory + '/' + date + '/' + session + '/' + 'P3D6'\n",
    "        ]\n",
    "\n",
    "        for folder in dlc_folders:\n",
    "            subprocess.run([\n",
    "                \"python3\", \"batch_runner_10b.py\",\n",
    "                '-m', metashape_csv[0],\n",
    "                '-d', folder\n",
    "            ])"
   ]
  },
  {
   "cell_type": "code",
   "execution_count": null,
   "id": "bc5f4048",
   "metadata": {},
   "outputs": [],
   "source": []
  }
 ],
 "metadata": {
  "kernelspec": {
   "display_name": "Python 3 (ipykernel)",
   "language": "python",
   "name": "python3"
  },
  "language_info": {
   "codemirror_mode": {
    "name": "ipython",
    "version": 3
   },
   "file_extension": ".py",
   "mimetype": "text/x-python",
   "name": "python",
   "nbconvert_exporter": "python",
   "pygments_lexer": "ipython3",
   "version": "3.8.15"
  }
 },
 "nbformat": 4,
 "nbformat_minor": 5
}
