{
 "cells": [
  {
   "cell_type": "code",
   "execution_count": 1,
   "id": "5fc8f1fa",
   "metadata": {},
   "outputs": [],
   "source": [
    "import numpy as np\n",
    "from sklearn.neighbors import KDTree"
   ]
  },
  {
   "cell_type": "code",
   "execution_count": 11,
   "id": "56f2fac3",
   "metadata": {},
   "outputs": [],
   "source": [
    "def scale_invariant_features(points, k=4):\n",
    "    # Create a KDTree for efficient nearest neighbor search\n",
    "    kdtree = KDTree(points)\n",
    "\n",
    "    # Find the k nearest neighbors for each point\n",
    "    _, indices = kdtree.query(points, k=k+1)  # k+1 to exclude the point itself\n",
    "\n",
    "    # Calculate pairwise ratios for each point\n",
    "    ratios = []\n",
    "    for i in range(len(points)):\n",
    "        neighbors = points[indices[i, 1:]]  # Exclude the point itself\n",
    "        distances = np.linalg.norm(neighbors - points[i], axis=1)\n",
    "        pairwise_ratios = distances / np.min(distances)\n",
    "        ratios.append(pairwise_ratios)\n",
    "\n",
    "    return np.array(ratios)"
   ]
  },
  {
   "cell_type": "code",
   "execution_count": 12,
   "id": "f4cfd231",
   "metadata": {},
   "outputs": [
    {
     "name": "stdout",
     "output_type": "stream",
     "text": [
      "Scale-invariant features:\n",
      "[[1.         3.         3.16227766]\n",
      " [1.         2.         2.23606798]\n",
      " [1.         2.         3.        ]\n",
      " [1.         2.23606798 3.16227766]]\n"
     ]
    }
   ],
   "source": [
    "# Example usage:\n",
    "# Assuming 'points' is your numpy array of points (Nx2 or Nx3)\n",
    "points = np.array([[0, 0], [1, 1], [3, 3], [4, 2]])\n",
    "features = scale_invariant_features(points)\n",
    "\n",
    "print(\"Scale-invariant features:\")\n",
    "print(features)\n"
   ]
  },
  {
   "cell_type": "code",
   "execution_count": null,
   "id": "d1ff15f3",
   "metadata": {},
   "outputs": [],
   "source": []
  }
 ],
 "metadata": {
  "kernelspec": {
   "display_name": "Python 3 (ipykernel)",
   "language": "python",
   "name": "python3"
  },
  "language_info": {
   "codemirror_mode": {
    "name": "ipython",
    "version": 3
   },
   "file_extension": ".py",
   "mimetype": "text/x-python",
   "name": "python",
   "nbconvert_exporter": "python",
   "pygments_lexer": "ipython3",
   "version": "3.11.0"
  }
 },
 "nbformat": 4,
 "nbformat_minor": 5
}
