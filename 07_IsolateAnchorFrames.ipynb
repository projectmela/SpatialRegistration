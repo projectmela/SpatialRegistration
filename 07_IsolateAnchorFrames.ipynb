{
 "cells": [
  {
   "cell_type": "code",
   "execution_count": 1,
   "id": "6a57fea3",
   "metadata": {},
   "outputs": [],
   "source": [
    "import numpy as np\n",
    "import pandas as pd\n",
    "\n",
    "import cv2\n",
    "import os\n",
    "import glob\n",
    "import helper_functions_07b as hf\n",
    "\n",
    "from multiprocessing import Pool"
   ]
  },
  {
   "cell_type": "code",
   "execution_count": 2,
   "id": "e7a789fb",
   "metadata": {},
   "outputs": [],
   "source": [
    "DATE = ['20230316']#, '20230305']\n",
    "SESSION = ['SE_Lek1']#, 'SE_Lek1']\n",
    "DRONE = ['P1D1', 'P1D2', 'P2D3', 'P2D4', 'P3D5', 'P3D6']\n",
    "\n",
    "files_directory = '/Volumes/EAS_shared/blackbuck/working/processed/Field_Recording_2023/SpatialRegistration'\n",
    "video_directory = '/Volumes/EAS_shared/blackbuck/working/rawdata/Field_Recording_2023/Field_Recording_2023/Original/lekking'"
   ]
  },
  {
   "cell_type": "code",
   "execution_count": 3,
   "id": "252174ad",
   "metadata": {},
   "outputs": [
    {
     "name": "stdout",
     "output_type": "stream",
     "text": [
      "20230316 SE_Lek1 P2D4\n",
      "Total frames in video: 5805\n",
      "Frame extraction completed for video 20230316_SE_Lek1_P2D4_DJI_0020\n",
      "Total frames in video: 5816\n",
      "Frame extraction completed for video 20230316_SE_Lek1_P2D4_DJI_0021\n",
      "Total frames in video: 5814\n",
      "Frame extraction completed for video 20230316_SE_Lek1_P2D4_DJI_0022\n",
      "Total frames in video: 2256\n",
      "Frame extraction completed for video 20230316_SE_Lek1_P2D4_DJI_0023\n",
      "20230316 SE_Lek1 P3D6\n",
      "Total frames in video: 5804\n",
      "Frame extraction completed for video 20230316_SE_Lek1_P3D6_DJI_0008\n",
      "Total frames in video: 5815\n",
      "Frame extraction completed for video 20230316_SE_Lek1_P3D6_DJI_0009\n",
      "Total frames in video: 5814\n",
      "Frame extraction completed for video 20230316_SE_Lek1_P3D6_DJI_0010\n",
      "Total frames in video: 2499\n",
      "Frame extraction completed for video 20230316_SE_Lek1_P3D6_DJI_0011\n",
      "20230316 SE_Lek1 P3D5\n",
      "Total frames in video: 5806\n",
      "Frame extraction completed for video 20230316_SE_Lek1_P3D5_DJI_0660\n",
      "Total frames in video: 5815\n",
      "Frame extraction completed for video 20230316_SE_Lek1_P3D5_DJI_0661\n",
      "Total frames in video: 5812\n",
      "Frame extraction completed for video 20230316_SE_Lek1_P3D5_DJI_0662\n",
      "Total frames in video: 5814\n",
      "Frame extraction completed for video 20230316_SE_Lek1_P3D5_DJI_0663\n",
      "Total frames in video: 5813\n",
      "Frame extraction completed for video 20230316_SE_Lek1_P3D5_DJI_0664\n",
      "Total frames in video: 34\n",
      "Frame extraction completed for video 20230316_SE_Lek1_P3D5_DJI_0665\n",
      "20230316 SE_Lek1 P1D2\n",
      "Total frames in video: 5804\n",
      "Frame extraction completed for video 20230316_SE_Lek1_P1D2_DJI_0097\n",
      "Total frames in video: 5816\n",
      "Frame extraction completed for video 20230316_SE_Lek1_P1D2_DJI_0098\n",
      "Total frames in video: 5815\n",
      "Frame extraction completed for video 20230316_SE_Lek1_P1D2_DJI_0099\n",
      "Total frames in video: 2806\n",
      "Frame extraction completed for video 20230316_SE_Lek1_P1D2_DJI_0100\n",
      "20230316 SE_Lek1 P1D1\n",
      "Total frames in video: 5806\n",
      "Frame extraction completed for video 20230316_SE_Lek1_P1D1_DJI_0382\n",
      "Total frames in video: 5814\n",
      "Frame extraction completed for video 20230316_SE_Lek1_P1D1_DJI_0383\n",
      "Total frames in video: 5814\n",
      "Frame extraction completed for video 20230316_SE_Lek1_P1D1_DJI_0384\n",
      "Total frames in video: 5814\n",
      "Frame extraction completed for video 20230316_SE_Lek1_P1D1_DJI_0385\n",
      "Total frames in video: 5542\n",
      "Frame extraction completed for video 20230316_SE_Lek1_P1D1_DJI_0386\n",
      "20230316 SE_Lek1 P2D3\n",
      "Total frames in video: 5806\n",
      "Frame extraction completed for video 20230316_SE_Lek1_P2D3_DJI_0394\n",
      "Total frames in video: 5816\n",
      "Frame extraction completed for video 20230316_SE_Lek1_P2D3_DJI_0395\n",
      "Total frames in video: 5814\n",
      "Frame extraction completed for video 20230316_SE_Lek1_P2D3_DJI_0396\n",
      "Total frames in video: 5812\n",
      "Frame extraction completed for video 20230316_SE_Lek1_P2D3_DJI_0397\n",
      "Total frames in video: 5815\n",
      "Frame extraction completed for video 20230316_SE_Lek1_P2D3_DJI_0398\n",
      "Total frames in video: 300\n",
      "Frame extraction completed for video 20230316_SE_Lek1_P2D3_DJI_0399\n"
     ]
    }
   ],
   "source": [
    "# Generate all tasks\n",
    "tasks = [(date, session, drone, files_directory, video_directory) for date in DATE for session in SESSION for drone in DRONE]\n",
    "\n",
    "# Use multiprocessing Pool to parallelize\n",
    "with Pool(processes=6) as pool:  # Adjust the number of processes based on the number of tasks or on your CPU\n",
    "    pool.map(hf.process_task, tasks)"
   ]
  }
 ],
 "metadata": {
  "kernelspec": {
   "display_name": "Python 3 (ipykernel)",
   "language": "python",
   "name": "python3"
  },
  "language_info": {
   "codemirror_mode": {
    "name": "ipython",
    "version": 3
   },
   "file_extension": ".py",
   "mimetype": "text/x-python",
   "name": "python",
   "nbconvert_exporter": "python",
   "pygments_lexer": "ipython3",
   "version": "3.8.15"
  }
 },
 "nbformat": 4,
 "nbformat_minor": 5
}
