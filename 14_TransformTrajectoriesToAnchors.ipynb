{
 "cells": [
  {
   "cell_type": "code",
   "execution_count": 1,
   "id": "5cfdfc02",
   "metadata": {},
   "outputs": [],
   "source": [
    "import numpy as np\n",
    "import pandas as pd\n",
    "import glob\n",
    "import pickle\n",
    "import cv2\n",
    "import os\n",
    "import re"
   ]
  },
  {
   "cell_type": "code",
   "execution_count": 2,
   "id": "755c781a",
   "metadata": {},
   "outputs": [],
   "source": [
    "# Function to extract DJI number from a file path\n",
    "def extract_dji_number(file_path):\n",
    "    match = re.search(r'DJI_(\\d+)', file_path)\n",
    "    return match.group(1) if match else None"
   ]
  },
  {
   "cell_type": "code",
   "execution_count": 3,
   "id": "47bcaf5c",
   "metadata": {},
   "outputs": [],
   "source": [
    "DATE = ['20230318']#, '20230309', '20230311', '20230312']\n",
    "SESSION = ['SM_Lek1']#, 'SE_Lek1']\n",
    "DRONE = ['P3D5']#, 'P1D2', 'P2D3', 'P2D4', 'P3D5', 'P3D6']\n",
    "\n",
    "registration_directory = '/Volumes/SSD5'\n",
    "tracking_directory = '/Volumes/SSD1/processed/Field_Recording_2023/Tracking_Fusion'"
   ]
  },
  {
   "cell_type": "code",
   "execution_count": 4,
   "id": "f670cce3",
   "metadata": {
    "scrolled": true
   },
   "outputs": [
    {
     "name": "stdout",
     "output_type": "stream",
     "text": [
      "20230318 SM_Lek1 P3D5 0690\n",
      "20230318 SM_Lek1 P3D5 0691\n",
      "20230318 SM_Lek1 P3D5 0692\n",
      "20230318 SM_Lek1 P3D5 0693\n",
      "20230318 SM_Lek1 P3D5 0694\n",
      "20230318 SM_Lek1 P3D5 0695\n",
      "20230318 SM_Lek1 P3D5 0700\n",
      "20230318 SM_Lek1 P3D5 0701\n",
      "20230318 SM_Lek1 P3D5 0702\n",
      "20230318 SM_Lek1 P3D5 0703\n",
      "20230318 SM_Lek1 P3D5 0704\n",
      "20230318 SM_Lek1 P3D5 0705\n",
      "20230318 SM_Lek1 P3D5 0706\n",
      "20230318 SM_Lek1 P3D5 0707\n"
     ]
    }
   ],
   "source": [
    "missing_tracks = []  # To store missing tracks.csv paths\n",
    "\n",
    "for date in DATE:\n",
    "    for session in SESSION:\n",
    "        for drone in DRONE:\n",
    "            registration_path = f\"{registration_directory}/{date}/{session}/{drone}\"\n",
    "            tracking_path = f\"{tracking_directory}/{date}/{session}/{drone}/*{session}_{drone}*\"\n",
    "\n",
    "            # Get frames with corresponding anchors\n",
    "            anchors = sorted(glob.glob(f\"{registration_path}/{date}_{session}_{drone}*_Anchored.csv\"))\n",
    "\n",
    "            # Get tracking folders sorted by DJI video name\n",
    "            tracking_folders = glob.glob(tracking_path)\n",
    "            tracking_folders = sorted(tracking_folders, key=lambda x: int(re.search(r'DJI_(\\d+)', x).group(1)))\n",
    "\n",
    "            # Get homography matrices from frame to anchor frame\n",
    "            homography_matrices = sorted(glob.glob(f\"{registration_path}/{date}_{session}_{drone}*_homographies.pkl\"))\n",
    "\n",
    "            # Create dictionaries mapping DJI numbers to file paths\n",
    "            anchors_dict = {extract_dji_number(file): file for file in anchors}\n",
    "            tracking_dict = {extract_dji_number(file): file for file in tracking_folders}\n",
    "            homography_dict = {extract_dji_number(file): file for file in homography_matrices}\n",
    "            \n",
    "            # Get sorted list of common DJI numbers\n",
    "            common_dji_numbers = sorted(set(anchors_dict.keys()) & set(tracking_dict.keys()) & set(homography_dict.keys()), key=int)\n",
    "\n",
    "            for dji in common_dji_numbers:\n",
    "                print(date, session, drone, dji)\n",
    "\n",
    "                try:\n",
    "                    anchor_file = pd.read_csv(anchors_dict[dji])\n",
    "                    tracks_csv_path = os.path.join(tracking_dict[dji], 'tracks.csv')\n",
    "                    \n",
    "                    if not os.path.isfile(tracks_csv_path):\n",
    "                        raise FileNotFoundError(f\"Missing file: {tracks_csv_path}\")\n",
    "                    \n",
    "                    tracking_file = pd.read_csv(tracks_csv_path)\n",
    "\n",
    "                    with open(homography_dict[dji], \"rb\") as f:\n",
    "                        homography_file = pickle.load(f)\n",
    "\n",
    "                    tracking_file = tracking_file.merge(anchor_file[['frame', 'best_anchor_frame']], on='frame', how='left')\n",
    "                    tracking_file['x'] = tracking_file['bb_left'] + tracking_file['bb_width']/2\n",
    "                    tracking_file['y'] = tracking_file['bb_top'] + tracking_file['bb_height']/2\n",
    "                    tracking_file['idx'] = tracking_file['master_track_id']\n",
    "                    tracking_file = tracking_file.drop_duplicates()\n",
    "\n",
    "                    tracking_file = tracking_file.loc[:,['frame', 'x', 'y', 'idx', 'class_id', 'class_name', 'best_anchor_frame']]\n",
    "\n",
    "                    for frame in tracking_file['frame'].unique():\n",
    "                        if frame in homography_file:\n",
    "                            H = homography_file[frame]\n",
    "                            matched_points = tracking_file[tracking_file['frame'] == frame][['idx', 'x', 'y']]\n",
    "\n",
    "                            if not matched_points.empty:\n",
    "                                src_pts = np.array(matched_points[['x', 'y']], dtype=np.float32).reshape(-1, 1, 2)\n",
    "                                transformed_pts = cv2.perspectiveTransform(src_pts, H)\n",
    "\n",
    "                                tracking_file.loc[tracking_file['frame'] == frame, 'transformed_x'] = transformed_pts[:, 0, 0]\n",
    "                                tracking_file.loc[tracking_file['frame'] == frame, 'transformed_y'] = transformed_pts[:, 0, 1]\n",
    "                    \n",
    "                    output_filename = os.path.basename(anchors_dict[dji]).replace('_Anchored.csv', '_Anchored_trajectories.csv')\n",
    "                    tracking_file.to_csv(os.path.join(os.path.dirname(anchors_dict[dji]), output_filename), index=False, mode='w')\n",
    "\n",
    "                except FileNotFoundError as e:\n",
    "                    print(f\"Warning: {e}\")\n",
    "                    missing_tracks.append(tracking_dict[dji])\n",
    "                except Exception as e:\n",
    "                    print(f\"Error processing {date}, {session}, {drone}, {dji}: {e}\")\n",
    "                    continue"
   ]
  }
 ],
 "metadata": {
  "kernelspec": {
   "display_name": "Python 3 (ipykernel)",
   "language": "python",
   "name": "python3"
  },
  "language_info": {
   "codemirror_mode": {
    "name": "ipython",
    "version": 3
   },
   "file_extension": ".py",
   "mimetype": "text/x-python",
   "name": "python",
   "nbconvert_exporter": "python",
   "pygments_lexer": "ipython3",
   "version": "3.8.15"
  }
 },
 "nbformat": 4,
 "nbformat_minor": 5
}
