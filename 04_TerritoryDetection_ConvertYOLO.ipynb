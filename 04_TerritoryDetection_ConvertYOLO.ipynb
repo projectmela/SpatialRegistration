{
 "cells": [
  {
   "cell_type": "code",
   "execution_count": 1,
   "id": "8cf9c5d7-e047-445e-aad1-6d5c5ad5b0b4",
   "metadata": {},
   "outputs": [],
   "source": [
    "import numpy as np \n",
    "import pandas as pd\n",
    "import cv2\n",
    "import glob\n",
    "import re\n",
    "from pathlib import Path"
   ]
  },
  {
   "cell_type": "markdown",
   "id": "de1b6450",
   "metadata": {},
   "source": [
    "### Convert DLC detections to YOLO Detection format\n",
    "\n",
    "Format :\n",
    ".csv : \n",
    "Sr. No, Frame, Pos x, Pos y , Territory_id\n",
    "\n",
    "\n",
    "MOT Format : \n",
    "FIle name , frame , track id, bb_left, bb_top, bb_width, bb_height, confidence, class id, class_name "
   ]
  },
  {
   "cell_type": "code",
   "execution_count": 2,
   "id": "b462c420",
   "metadata": {},
   "outputs": [],
   "source": [
    "DATE = ['20230318']#, '20230303']\n",
    "SESSION = ['SM_Lek1']#, 'SE_Lek1']\n",
    "DRONE = ['P3D5']#, 'P1D2', 'P2D3', 'P2D4', 'P3D5', 'P3D6']\n",
    "\n",
    "file_directory = '/Volumes/SSD5'\n",
    "box_size = 80"
   ]
  },
  {
   "cell_type": "code",
   "execution_count": 3,
   "id": "29c7443a",
   "metadata": {},
   "outputs": [
    {
     "name": "stdout",
     "output_type": "stream",
     "text": [
      "20230318-SM_Lek1-P3D5: 12 matches\n",
      "/Volumes/SSD5/20230318/SM_Lek1/P3D5/20230318_SM_Lek1_P3D5_DJI_0690.csv\n",
      "/Volumes/SSD5/20230318/SM_Lek1/P3D5/20230318_SM_Lek1_P3D5_DJI_0691.csv\n",
      "/Volumes/SSD5/20230318/SM_Lek1/P3D5/20230318_SM_Lek1_P3D5_DJI_0698.csv\n",
      "/Volumes/SSD5/20230318/SM_Lek1/P3D5/20230318_SM_Lek1_P3D5_DJI_0699.csv\n",
      "/Volumes/SSD5/20230318/SM_Lek1/P3D5/20230318_SM_Lek1_P3D5_DJI_0700.csv\n",
      "/Volumes/SSD5/20230318/SM_Lek1/P3D5/20230318_SM_Lek1_P3D5_DJI_0701.csv\n",
      "/Volumes/SSD5/20230318/SM_Lek1/P3D5/20230318_SM_Lek1_P3D5_DJI_0702.csv\n",
      "/Volumes/SSD5/20230318/SM_Lek1/P3D5/20230318_SM_Lek1_P3D5_DJI_0705.csv\n",
      "/Volumes/SSD5/20230318/SM_Lek1/P3D5/20230318_SM_Lek1_P3D5_DJI_0706.csv\n",
      "/Volumes/SSD5/20230318/SM_Lek1/P3D5/20230318_SM_Lek1_P3D5_DJI_0707.csv\n",
      "/Volumes/SSD5/20230318/SM_Lek1/P3D5/20230318_SM_Lek1_P3D5_DJI_0708.csv\n",
      "/Volumes/SSD5/20230318/SM_Lek1/P3D5/20230318_SM_Lek1_P3D5_DJI_0709.csv\n"
     ]
    }
   ],
   "source": [
    "for date in DATE:\n",
    "    for session in SESSION:\n",
    "        for drone in DRONE:\n",
    "            internal_path = Path(file_directory, date, session, drone)\n",
    "            files = list(internal_path.rglob(f\"{date}_{session}_{drone}_DJI_0[0-9][0-9][0-9].csv\"))\n",
    "            print(f\"{date}-{session}-{drone}: {len(files)} matches\")\n",
    "            \n",
    "            for file in files:\n",
    "                print(file)\n",
    "                df_dlc = pd.read_csv(file)\n",
    "\n",
    "                # Create an empty dataframe with headers in YOLO detection format\n",
    "                headers = ['file_path', 'frame', 'track_id', 'bb_left', 'bb_top', 'bb_width', 'bb_height', 'confidence', 'class_id', 'class_name']\n",
    "                df = pd.DataFrame(columns=headers).reset_index(drop=True)\n",
    "\n",
    "                df['frame'] = df_dlc['frame'].astype(int)\n",
    "                df[['bb_left', 'bb_top']] = df_dlc[['pos_x', 'pos_y']]\n",
    "                df['file_path'] = internal_path\n",
    "                df['confidence'] = 0.5\n",
    "                df['class_id'] = 5\n",
    "                df['class_name'] = 'territory'\n",
    "                df['track_id'] = -1\n",
    "\n",
    "                # DLC models were trained on a third of the video size\n",
    "                df['bb_left'] *= 3\n",
    "                df['bb_top'] *= 3\n",
    "\n",
    "                # Convert keypoint to bounding box\n",
    "                df['bb_left'] -= box_size/2\n",
    "                df['bb_top'] -= box_size/2\n",
    "                df['bb_width'] = box_size\n",
    "                df['bb_height'] = box_size\n",
    "\n",
    "                # Save modified file\n",
    "                df.to_csv(str(file)[:-4] + '_YOLO.csv', index=False)"
   ]
  },
  {
   "cell_type": "code",
   "execution_count": null,
   "id": "73033258",
   "metadata": {},
   "outputs": [],
   "source": []
  }
 ],
 "metadata": {
  "kernelspec": {
   "display_name": "Python 3 (ipykernel)",
   "language": "python",
   "name": "python3"
  },
  "language_info": {
   "codemirror_mode": {
    "name": "ipython",
    "version": 3
   },
   "file_extension": ".py",
   "mimetype": "text/x-python",
   "name": "python",
   "nbconvert_exporter": "python",
   "pygments_lexer": "ipython3",
   "version": "3.8.15"
  }
 },
 "nbformat": 4,
 "nbformat_minor": 5
}
